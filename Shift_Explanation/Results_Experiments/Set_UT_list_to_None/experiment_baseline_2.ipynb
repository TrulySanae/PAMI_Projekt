{
 "cells": [
  {
   "cell_type": "code",
   "execution_count": 1,
   "id": "d05cab18",
   "metadata": {
    "execution": {
     "iopub.execute_input": "2024-08-21T12:11:16.754523Z",
     "iopub.status.busy": "2024-08-21T12:11:16.754174Z",
     "iopub.status.idle": "2024-08-21T12:11:17.633084Z",
     "shell.execute_reply": "2024-08-21T12:11:17.632768Z"
    },
    "papermill": {
     "duration": 0.887426,
     "end_time": "2024-08-21T12:11:17.634114",
     "exception": false,
     "start_time": "2024-08-21T12:11:16.746688",
     "status": "completed"
    },
    "tags": []
   },
   "outputs": [],
   "source": [
    "import matplotlib.pyplot as plt\n",
    "import numpy as np\n",
    "import pandas as pd\n",
    "from pathlib import Path\n",
    "import seaborn as sn\n",
    "from data_utils import load_and_preprocess_logistics_data"
   ]
  },
  {
   "cell_type": "code",
   "execution_count": 2,
   "id": "d6302d10",
   "metadata": {
    "execution": {
     "iopub.execute_input": "2024-08-21T12:11:17.637365Z",
     "iopub.status.busy": "2024-08-21T12:11:17.637209Z",
     "iopub.status.idle": "2024-08-21T12:11:17.639813Z",
     "shell.execute_reply": "2024-08-21T12:11:17.639605Z"
    },
    "papermill": {
     "duration": 0.004927,
     "end_time": "2024-08-21T12:11:17.640535",
     "exception": false,
     "start_time": "2024-08-21T12:11:17.635608",
     "status": "completed"
    },
    "tags": []
   },
   "outputs": [],
   "source": [
    "# Setting so that the plots look normal even when using dark-reader\n",
    "sn.set_style(\"whitegrid\")\n",
    "sn.set_context(context=\"paper\", font_scale=2)\n",
    "pal = sn.color_palette(\"Set1\")\n",
    "\n",
    "# Setting up specifics for plotting + saving\n",
    "save_figures = True\n",
    "add_legend = False\n",
    "add_title = False\n",
    "add_axis = False\n",
    "save_parms = {'format': 'pdf','bbox_inches':'tight', 'pad_inches':0.1}\n",
    "line_parms = {'linewidth':4, 'color':'k'}\n",
    "if save_figures:  # saves all figures in a figure directory in the local directory\n",
    "    figure_dir = Path('.') / 'figures' / 'adult-income-experiment'\n",
    "    if not figure_dir.exists():\n",
    "        figure_dir.mkdir(parents=True)"
   ]
  },
  {
   "cell_type": "code",
   "execution_count": 3,
   "id": "22d1d0e0",
   "metadata": {
    "execution": {
     "iopub.execute_input": "2024-08-21T12:11:17.643991Z",
     "iopub.status.busy": "2024-08-21T12:11:17.643845Z",
     "iopub.status.idle": "2024-08-21T12:11:17.645981Z",
     "shell.execute_reply": "2024-08-21T12:11:17.645677Z"
    },
    "papermill": {
     "duration": 0.005354,
     "end_time": "2024-08-21T12:11:17.647230",
     "exception": false,
     "start_time": "2024-08-21T12:11:17.641876",
     "status": "completed"
    },
    "tags": []
   },
   "outputs": [],
   "source": [
    "# Experiment hyperparamters\n",
    "rng = np.random.RandomState(42)\n",
    "split_on_income = False  # if True: src := income>=50k, tgt :+ income<50k, if False: src := male, tgt := female\n",
    "n_samples = 1000"
   ]
  },
  {
   "cell_type": "code",
   "execution_count": 4,
   "id": "48ff09ec",
   "metadata": {
    "execution": {
     "iopub.execute_input": "2024-08-21T12:11:17.650726Z",
     "iopub.status.busy": "2024-08-21T12:11:17.650589Z",
     "iopub.status.idle": "2024-08-21T12:11:17.652301Z",
     "shell.execute_reply": "2024-08-21T12:11:17.652086Z"
    },
    "papermill": {
     "duration": 0.004216,
     "end_time": "2024-08-21T12:11:17.653063",
     "exception": false,
     "start_time": "2024-08-21T12:11:17.648847",
     "status": "completed"
    },
    "tags": [
     "parameters"
    ]
   },
   "outputs": [],
   "source": [
    "comparison_id = None"
   ]
  },
  {
   "cell_type": "code",
   "execution_count": 5,
   "id": "33438c19",
   "metadata": {
    "execution": {
     "iopub.execute_input": "2024-08-21T12:11:17.655901Z",
     "iopub.status.busy": "2024-08-21T12:11:17.655800Z",
     "iopub.status.idle": "2024-08-21T12:11:17.657269Z",
     "shell.execute_reply": "2024-08-21T12:11:17.657046Z"
    },
    "papermill": {
     "duration": 0.00364,
     "end_time": "2024-08-21T12:11:17.657945",
     "exception": false,
     "start_time": "2024-08-21T12:11:17.654305",
     "status": "completed"
    },
    "tags": [
     "injected-parameters"
    ]
   },
   "outputs": [],
   "source": [
    "# Parameters\n",
    "comparison_id = 1\n"
   ]
  },
  {
   "cell_type": "code",
   "execution_count": 6,
   "id": "dade2b7e",
   "metadata": {
    "execution": {
     "iopub.execute_input": "2024-08-21T12:11:17.660705Z",
     "iopub.status.busy": "2024-08-21T12:11:17.660604Z",
     "iopub.status.idle": "2024-08-21T12:11:17.676997Z",
     "shell.execute_reply": "2024-08-21T12:11:17.676716Z"
    },
    "papermill": {
     "duration": 0.018608,
     "end_time": "2024-08-21T12:11:17.677719",
     "exception": false,
     "start_time": "2024-08-21T12:11:17.659111",
     "status": "completed"
    },
    "tags": []
   },
   "outputs": [
    {
     "name": "stdout",
     "output_type": "stream",
     "text": [
      "Comparing customer_profile_2 and customer_profile_3\n",
      "Finished preprocessing logistic dataset. Split on customer_profile_2 and customer_profile_3 with resulting source shape: (996, 3), target shape: (996, 3).\n",
      "['Connection', 'Weight', 'Unit_type']\n"
     ]
    }
   ],
   "source": [
    "\n",
    "# Load the data\n",
    "comparison_dict = {0: [0,1], 1: [2,3], 2: [4,5]}\n",
    "path_customer_profiles = open('./Results_Experiments/File_Paths/path_customer_profiles.txt','r').read()\n",
    "path_transport_graphics = open('./Results_Experiments/File_Paths/path_transport_graphics.txt','r').read()\n",
    "source = pd.read_csv(f'../{path_customer_profiles}/customer_profile_{comparison_dict[comparison_id][0]}.csv')\n",
    "target = pd.read_csv(f'../{path_customer_profiles}/customer_profile_{comparison_dict[comparison_id][1]}.csv')\n",
    "equal_week_split = True\n",
    "source, target, feature_names = load_and_preprocess_logistics_data(rng, n_samples, return_column_names=True,equal_week_split=equal_week_split, comparison_id=\n",
    "            comparison_id, comparison_dict=comparison_dict)\n",
    "print(feature_names)"
   ]
  },
  {
   "cell_type": "code",
   "execution_count": 7,
   "id": "296df3b5",
   "metadata": {
    "execution": {
     "iopub.execute_input": "2024-08-21T12:11:17.680849Z",
     "iopub.status.busy": "2024-08-21T12:11:17.680747Z",
     "iopub.status.idle": "2024-08-21T12:11:17.683148Z",
     "shell.execute_reply": "2024-08-21T12:11:17.682940Z"
    },
    "papermill": {
     "duration": 0.00468,
     "end_time": "2024-08-21T12:11:17.683860",
     "exception": false,
     "start_time": "2024-08-21T12:11:17.679180",
     "status": "completed"
    },
    "tags": []
   },
   "outputs": [],
   "source": [
    "# standardize the source and target data, and convert to domain labels\n",
    "from sklearn.preprocessing import StandardScaler\n",
    "X = np.concatenate((source, target), axis=0)\n",
    "# standardize X to remove cardinatlity bias\n",
    "X = StandardScaler().fit_transform(X)\n",
    "y = np.concatenate((np.zeros(source.shape[0]),\n",
    "                    np.ones(target.shape[0])), axis=0)  # domain labels"
   ]
  },
  {
   "cell_type": "code",
   "execution_count": 8,
   "id": "c5422e1f",
   "metadata": {
    "execution": {
     "iopub.execute_input": "2024-08-21T12:11:17.686681Z",
     "iopub.status.busy": "2024-08-21T12:11:17.686587Z",
     "iopub.status.idle": "2024-08-21T12:11:17.735097Z",
     "shell.execute_reply": "2024-08-21T12:11:17.734798Z"
    },
    "papermill": {
     "duration": 0.05092,
     "end_time": "2024-08-21T12:11:17.736016",
     "exception": false,
     "start_time": "2024-08-21T12:11:17.685096",
     "status": "completed"
    },
    "tags": []
   },
   "outputs": [],
   "source": [
    "from sklearn.datasets import make_classification\n",
    "from sklearn.model_selection import train_test_split\n",
    "\n",
    "X_train, X_test, y_train, y_test = train_test_split(X, y,\n",
    "                                     stratify=y, random_state=42)"
   ]
  },
  {
   "cell_type": "code",
   "execution_count": 9,
   "id": "5d9ba299",
   "metadata": {
    "execution": {
     "iopub.execute_input": "2024-08-21T12:11:17.739260Z",
     "iopub.status.busy": "2024-08-21T12:11:17.739119Z",
     "iopub.status.idle": "2024-08-21T12:11:17.753102Z",
     "shell.execute_reply": "2024-08-21T12:11:17.752845Z"
    },
    "papermill": {
     "duration": 0.016495,
     "end_time": "2024-08-21T12:11:17.754011",
     "exception": false,
     "start_time": "2024-08-21T12:11:17.737516",
     "status": "completed"
    },
    "tags": []
   },
   "outputs": [],
   "source": [
    "# Using XGBoost\n",
    "import xgboost\n",
    "\n",
    "def fit_xgboost(X_train, y_train, X_test, y_test, feature_names=None):\n",
    "    \"\"\" Train an XGBoost model with early stopping.\n",
    "    \"\"\"\n",
    "    dtrain = xgboost.DMatrix(X_train, label=y_train, feature_names=feature_names)\n",
    "    dtest = xgboost.DMatrix(X_test, label=y_test, feature_names=feature_names)\n",
    "    # model = xgboost.train(\n",
    "    #     { \"eta\": 0.001, \"subsample\": 0.5, \"max_depth\": 2,\n",
    "    #       \"objective\": 'binary:logistic', 'eval_metric': 'logloss'}, dtrain, num_boost_round=200000,\n",
    "    #     evals=[(dtest,'eval'), (dtrain,'train')], early_stopping_rounds=20, verbose_eval=False\n",
    "    # )\n",
    "    model = xgboost.train(\n",
    "        {\"objective\": 'binary:logistic', 'eval_metric': 'logloss'},\n",
    "        dtrain,\n",
    "        evals=[(dtest,'eval'), (dtrain,'train')],\n",
    "        verbose_eval=False)\n",
    "    return model"
   ]
  },
  {
   "cell_type": "code",
   "execution_count": 10,
   "id": "bd7ac9f1",
   "metadata": {
    "execution": {
     "iopub.execute_input": "2024-08-21T12:11:17.757100Z",
     "iopub.status.busy": "2024-08-21T12:11:17.757000Z",
     "iopub.status.idle": "2024-08-21T12:11:17.771120Z",
     "shell.execute_reply": "2024-08-21T12:11:17.770827Z"
    },
    "papermill": {
     "duration": 0.016689,
     "end_time": "2024-08-21T12:11:17.772068",
     "exception": false,
     "start_time": "2024-08-21T12:11:17.755379",
     "status": "completed"
    },
    "tags": []
   },
   "outputs": [],
   "source": [
    "xgb_forest = fit_xgboost(X_train, y_train, X_test, y_test, feature_names)\n",
    "xgb_forest.feature_names = feature_names"
   ]
  },
  {
   "cell_type": "code",
   "execution_count": 11,
   "id": "dcaa3020",
   "metadata": {
    "execution": {
     "iopub.execute_input": "2024-08-21T12:11:17.775285Z",
     "iopub.status.busy": "2024-08-21T12:11:17.775185Z",
     "iopub.status.idle": "2024-08-21T12:11:17.777063Z",
     "shell.execute_reply": "2024-08-21T12:11:17.776862Z"
    },
    "papermill": {
     "duration": 0.004269,
     "end_time": "2024-08-21T12:11:17.777833",
     "exception": false,
     "start_time": "2024-08-21T12:11:17.773564",
     "status": "completed"
    },
    "tags": []
   },
   "outputs": [],
   "source": [
    "def get_acc(model, samples, labels, feature_names=None):\n",
    "    predictions = (model.predict(xgboost.DMatrix(samples,\n",
    "                                                 feature_names=feature_names)) > 0.5).astype(int)\n",
    "    return (predictions == labels).sum() / predictions.shape[0]"
   ]
  },
  {
   "cell_type": "code",
   "execution_count": 12,
   "id": "7ce6b380",
   "metadata": {
    "execution": {
     "iopub.execute_input": "2024-08-21T12:11:17.780691Z",
     "iopub.status.busy": "2024-08-21T12:11:17.780599Z",
     "iopub.status.idle": "2024-08-21T12:11:17.783347Z",
     "shell.execute_reply": "2024-08-21T12:11:17.783127Z"
    },
    "papermill": {
     "duration": 0.004987,
     "end_time": "2024-08-21T12:11:17.784077",
     "exception": false,
     "start_time": "2024-08-21T12:11:17.779090",
     "status": "completed"
    },
    "tags": []
   },
   "outputs": [
    {
     "name": "stdout",
     "output_type": "stream",
     "text": [
      "Train score: 0.8989290495314591\n",
      "Test score: 0.8795180722891566\n"
     ]
    }
   ],
   "source": [
    "print('Train score:', get_acc(xgb_forest, X_train, y_train, feature_names))\n",
    "print('Test score:', get_acc(xgb_forest, X_test, y_test, feature_names))"
   ]
  },
  {
   "cell_type": "code",
   "execution_count": 13,
   "id": "97a1d2b0",
   "metadata": {
    "execution": {
     "iopub.execute_input": "2024-08-21T12:11:17.787000Z",
     "iopub.status.busy": "2024-08-21T12:11:17.786907Z",
     "iopub.status.idle": "2024-08-21T12:11:18.027485Z",
     "shell.execute_reply": "2024-08-21T12:11:18.027225Z"
    },
    "papermill": {
     "duration": 0.243157,
     "end_time": "2024-08-21T12:11:18.028518",
     "exception": false,
     "start_time": "2024-08-21T12:11:17.785361",
     "status": "completed"
    },
    "tags": []
   },
   "outputs": [],
   "source": [
    "import shap\n",
    "import pandas as pd\n",
    "explainer = shap.Explainer(xgb_forest)\n",
    "\n",
    "shap_values = explainer(pd.DataFrame(X_test, columns=feature_names))\n"
   ]
  },
  {
   "cell_type": "code",
   "execution_count": 14,
   "id": "8e7a54a8",
   "metadata": {
    "execution": {
     "iopub.execute_input": "2024-08-21T12:11:18.031906Z",
     "iopub.status.busy": "2024-08-21T12:11:18.031754Z",
     "iopub.status.idle": "2024-08-21T12:11:18.351791Z",
     "shell.execute_reply": "2024-08-21T12:11:18.351541Z"
    },
    "papermill": {
     "duration": 0.322486,
     "end_time": "2024-08-21T12:11:18.352560",
     "exception": false,
     "start_time": "2024-08-21T12:11:18.030074",
     "status": "completed"
    },
    "tags": []
   },
   "outputs": [
    {
     "data": {
      "image/png": "[encoded data removed]",
      "text/plain": [
       "<Figure size 400x100 with 2 Axes>"
      ]
     },
     "metadata": {},
     "output_type": "display_data"
    }
   ],
   "source": [
    "# Beeswarm plot\n",
    "\n",
    "shap.plots.beeswarm(shap_values, show=False)\n",
    "fig = plt.gcf()\n",
    "fig.set_size_inches(4, 1, forward=True)\n",
    "if save_figures: plt.savefig(\n",
    "    f'../{path_transport_graphics}/logitics_data_on_customer_profile_{comparison_dict[comparison_id][0]} and customer_profile_{comparison_dict[comparison_id][1]}-shap-value.{save_parms[\"format\"]}',\n",
    "    **save_parms\n",
    "    )\n",
    "plt.show()"
   ]
  }
 ],
 "metadata": {
  "kernelspec": {
   "display_name": "Python 3.7.11 ('py37')",
   "language": "python",
   "name": "python3"
  },
  "language_info": {
   "codemirror_mode": {
    "name": "ipython",
    "version": 3
   },
   "file_extension": ".py",
   "mimetype": "text/x-python",
   "name": "python",
   "nbconvert_exporter": "python",
   "pygments_lexer": "ipython3",
   "version": "3.12.0"
  },
  "papermill": {
   "default_parameters": {},
   "duration": 2.639354,
   "end_time": "2024-08-21T12:11:18.671439",
   "environment_variables": {},
   "exception": null,
   "input_path": "experiment_baseline.ipynb",
   "output_path": "./Results_Experiments/Set_UT_list_to_None/experiment_baseline_2.ipynb",
   "parameters": {
    "comparison_id": 1
   },
   "start_time": "2024-08-21T12:11:16.032085",
   "version": "2.6.0"
  },
  "vscode": {
   "interpreter": {
    "hash": "5ab0220f0ca30ec7bac8a7e209564eceae6d15412b9f87f3c2f91206aa8b151c"
   }
  }
 },
 "nbformat": 4,
 "nbformat_minor": 5
}