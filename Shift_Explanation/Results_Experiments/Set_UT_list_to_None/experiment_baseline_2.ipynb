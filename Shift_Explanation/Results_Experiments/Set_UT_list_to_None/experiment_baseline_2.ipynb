{
 "cells": [
  {
   "cell_type": "code",
   "execution_count": 1,
   "id": "d05cab18",
   "metadata": {
    "execution": {
     "iopub.execute_input": "2024-08-21T09:48:54.624984Z",
     "iopub.status.busy": "2024-08-21T09:48:54.624629Z",
     "iopub.status.idle": "2024-08-21T09:48:55.594419Z",
     "shell.execute_reply": "2024-08-21T09:48:55.594136Z"
    },
    "papermill": {
     "duration": 0.97738,
     "end_time": "2024-08-21T09:48:55.595680",
     "exception": false,
     "start_time": "2024-08-21T09:48:54.618300",
     "status": "completed"
    },
    "tags": []
   },
   "outputs": [],
   "source": [
    "import matplotlib.pyplot as plt\n",
    "import numpy as np\n",
    "import pandas as pd\n",
    "from pathlib import Path\n",
    "import seaborn as sn\n"
   ]
  },
  {
   "cell_type": "code",
   "execution_count": 2,
   "id": "d6302d10",
   "metadata": {
    "execution": {
     "iopub.execute_input": "2024-08-21T09:48:55.598850Z",
     "iopub.status.busy": "2024-08-21T09:48:55.598712Z",
     "iopub.status.idle": "2024-08-21T09:48:55.601449Z",
     "shell.execute_reply": "2024-08-21T09:48:55.601226Z"
    },
    "papermill": {
     "duration": 0.005011,
     "end_time": "2024-08-21T09:48:55.602158",
     "exception": false,
     "start_time": "2024-08-21T09:48:55.597147",
     "status": "completed"
    },
    "tags": []
   },
   "outputs": [],
   "source": [
    "# Setting so that the plots look normal even when using dark-reader\n",
    "sn.set_style(\"whitegrid\")\n",
    "sn.set_context(context=\"paper\", font_scale=2)\n",
    "pal = sn.color_palette(\"Set1\")\n",
    "\n",
    "# Setting up specifics for plotting + saving\n",
    "save_figures = True\n",
    "add_legend = False\n",
    "add_title = False\n",
    "add_axis = False\n",
    "save_parms = {'format': 'pdf','bbox_inches':'tight', 'pad_inches':0.1}\n",
    "line_parms = {'linewidth':4, 'color':'k'}\n",
    "if save_figures:  # saves all figures in a figure directory in the local directory\n",
    "    figure_dir = Path('.') / 'figures' / 'adult-income-experiment'\n",
    "    if not figure_dir.exists():\n",
    "        figure_dir.mkdir(parents=True)"
   ]
  },
  {
   "cell_type": "code",
   "execution_count": 3,
   "id": "22d1d0e0",
   "metadata": {
    "execution": {
     "iopub.execute_input": "2024-08-21T09:48:55.605361Z",
     "iopub.status.busy": "2024-08-21T09:48:55.605151Z",
     "iopub.status.idle": "2024-08-21T09:48:55.607103Z",
     "shell.execute_reply": "2024-08-21T09:48:55.606857Z"
    },
    "papermill": {
     "duration": 0.004599,
     "end_time": "2024-08-21T09:48:55.607953",
     "exception": false,
     "start_time": "2024-08-21T09:48:55.603354",
     "status": "completed"
    },
    "tags": []
   },
   "outputs": [],
   "source": [
    "# Experiment hyperparamters\n",
    "rng = np.random.RandomState(42)\n",
    "split_on_income = False  # if True: src := income>=50k, tgt :+ income<50k, if False: src := male, tgt := female\n",
    "n_samples = 1000"
   ]
  },
  {
   "cell_type": "code",
   "execution_count": 4,
   "id": "48ff09ec",
   "metadata": {
    "execution": {
     "iopub.execute_input": "2024-08-21T09:48:55.612810Z",
     "iopub.status.busy": "2024-08-21T09:48:55.612676Z",
     "iopub.status.idle": "2024-08-21T09:48:55.614345Z",
     "shell.execute_reply": "2024-08-21T09:48:55.614091Z"
    },
    "papermill": {
     "duration": 0.005973,
     "end_time": "2024-08-21T09:48:55.615311",
     "exception": false,
     "start_time": "2024-08-21T09:48:55.609338",
     "status": "completed"
    },
    "tags": [
     "parameters"
    ]
   },
   "outputs": [],
   "source": [
    "comparison_id = None"
   ]
  },
  {
   "cell_type": "code",
   "execution_count": 5,
   "id": "8a9273fa",
   "metadata": {
    "execution": {
     "iopub.execute_input": "2024-08-21T09:48:55.619523Z",
     "iopub.status.busy": "2024-08-21T09:48:55.619408Z",
     "iopub.status.idle": "2024-08-21T09:48:55.621086Z",
     "shell.execute_reply": "2024-08-21T09:48:55.620800Z"
    },
    "papermill": {
     "duration": 0.006233,
     "end_time": "2024-08-21T09:48:55.623637",
     "exception": false,
     "start_time": "2024-08-21T09:48:55.617404",
     "status": "completed"
    },
    "tags": [
     "injected-parameters"
    ]
   },
   "outputs": [],
   "source": [
    "# Parameters\n",
    "comparison_id = 1\n"
   ]
  },
  {
   "cell_type": "code",
   "execution_count": 6,
   "id": "dade2b7e",
   "metadata": {
    "execution": {
     "iopub.execute_input": "2024-08-21T09:48:55.627375Z",
     "iopub.status.busy": "2024-08-21T09:48:55.627245Z",
     "iopub.status.idle": "2024-08-21T09:48:55.636220Z",
     "shell.execute_reply": "2024-08-21T09:48:55.635984Z"
    },
    "papermill": {
     "duration": 0.0118,
     "end_time": "2024-08-21T09:48:55.637029",
     "exception": false,
     "start_time": "2024-08-21T09:48:55.625229",
     "status": "completed"
    },
    "tags": []
   },
   "outputs": [
    {
     "name": "stdout",
     "output_type": "stream",
     "text": [
      "['Customer_id', 'Connection', 'Weight', 'Unit_type', 'Day', 'Week']\n"
     ]
    }
   ],
   "source": [
    "\n",
    "# Load the data\n",
    "comparison_dict = {0: [0,1], 1: [2,3], 2: [4,5]}\n",
    "path_customer_profiles = open('./Results_Experiments/File_Paths/path_customer_profiles.txt','r').read()\n",
    "path_transport_graphics = open('./Results_Experiments/File_Paths/path_transport_graphics.txt','r').read()\n",
    "source = pd.read_csv(f'../{path_customer_profiles}/customer_profile_{comparison_dict[comparison_id][0]}.csv')\n",
    "target = pd.read_csv(f'../{path_customer_profiles}/customer_profile_{comparison_dict[comparison_id][1]}.csv')\n",
    "\n",
    "feature_names = source.columns.values\n",
    "feature_names = list(feature_names)\n",
    "print(feature_names)"
   ]
  },
  {
   "cell_type": "code",
   "execution_count": 7,
   "id": "296df3b5",
   "metadata": {
    "execution": {
     "iopub.execute_input": "2024-08-21T09:48:55.640234Z",
     "iopub.status.busy": "2024-08-21T09:48:55.640127Z",
     "iopub.status.idle": "2024-08-21T09:48:55.673199Z",
     "shell.execute_reply": "2024-08-21T09:48:55.672910Z"
    },
    "papermill": {
     "duration": 0.035591,
     "end_time": "2024-08-21T09:48:55.674122",
     "exception": false,
     "start_time": "2024-08-21T09:48:55.638531",
     "status": "completed"
    },
    "tags": []
   },
   "outputs": [],
   "source": [
    "# standardize the source and target data, and convert to domain labels\n",
    "from sklearn.preprocessing import StandardScaler\n",
    "X = np.concatenate((source, target), axis=0)\n",
    "# standardize X to remove cardinatlity bias\n",
    "X = StandardScaler().fit_transform(X)\n",
    "y = np.concatenate((np.zeros(source.shape[0]),\n",
    "                    np.ones(target.shape[0])), axis=0)  # domain labels"
   ]
  },
  {
   "cell_type": "code",
   "execution_count": 8,
   "id": "c5422e1f",
   "metadata": {
    "execution": {
     "iopub.execute_input": "2024-08-21T09:48:55.677312Z",
     "iopub.status.busy": "2024-08-21T09:48:55.677093Z",
     "iopub.status.idle": "2024-08-21T09:48:55.731747Z",
     "shell.execute_reply": "2024-08-21T09:48:55.731399Z"
    },
    "papermill": {
     "duration": 0.057681,
     "end_time": "2024-08-21T09:48:55.733162",
     "exception": false,
     "start_time": "2024-08-21T09:48:55.675481",
     "status": "completed"
    },
    "tags": []
   },
   "outputs": [],
   "source": [
    "from sklearn.datasets import make_classification\n",
    "from sklearn.model_selection import train_test_split\n",
    "\n",
    "X_train, X_test, y_train, y_test = train_test_split(X, y,\n",
    "                                     stratify=y, random_state=42)"
   ]
  },
  {
   "cell_type": "code",
   "execution_count": 9,
   "id": "5d9ba299",
   "metadata": {
    "execution": {
     "iopub.execute_input": "2024-08-21T09:48:55.737409Z",
     "iopub.status.busy": "2024-08-21T09:48:55.737182Z",
     "iopub.status.idle": "2024-08-21T09:48:55.757789Z",
     "shell.execute_reply": "2024-08-21T09:48:55.757501Z"
    },
    "papermill": {
     "duration": 0.023477,
     "end_time": "2024-08-21T09:48:55.758792",
     "exception": false,
     "start_time": "2024-08-21T09:48:55.735315",
     "status": "completed"
    },
    "tags": []
   },
   "outputs": [],
   "source": [
    "# Using XGBoost\n",
    "import xgboost\n",
    "\n",
    "def fit_xgboost(X_train, y_train, X_test, y_test, feature_names=None):\n",
    "    \"\"\" Train an XGBoost model with early stopping.\n",
    "    \"\"\"\n",
    "    dtrain = xgboost.DMatrix(X_train, label=y_train, feature_names=feature_names)\n",
    "    dtest = xgboost.DMatrix(X_test, label=y_test, feature_names=feature_names)\n",
    "    # model = xgboost.train(\n",
    "    #     { \"eta\": 0.001, \"subsample\": 0.5, \"max_depth\": 2,\n",
    "    #       \"objective\": 'binary:logistic', 'eval_metric': 'logloss'}, dtrain, num_boost_round=200000,\n",
    "    #     evals=[(dtest,'eval'), (dtrain,'train')], early_stopping_rounds=20, verbose_eval=False\n",
    "    # )\n",
    "    model = xgboost.train(\n",
    "        {\"objective\": 'binary:logistic', 'eval_metric': 'logloss'},\n",
    "        dtrain,\n",
    "        evals=[(dtest,'eval'), (dtrain,'train')],\n",
    "        verbose_eval=False)\n",
    "    return model"
   ]
  },
  {
   "cell_type": "code",
   "execution_count": 10,
   "id": "bd7ac9f1",
   "metadata": {
    "execution": {
     "iopub.execute_input": "2024-08-21T09:48:55.762486Z",
     "iopub.status.busy": "2024-08-21T09:48:55.762336Z",
     "iopub.status.idle": "2024-08-21T09:48:55.785426Z",
     "shell.execute_reply": "2024-08-21T09:48:55.785174Z"
    },
    "papermill": {
     "duration": 0.025975,
     "end_time": "2024-08-21T09:48:55.786354",
     "exception": false,
     "start_time": "2024-08-21T09:48:55.760379",
     "status": "completed"
    },
    "tags": []
   },
   "outputs": [],
   "source": [
    "xgb_forest = fit_xgboost(X_train, y_train, X_test, y_test, feature_names)\n",
    "xgb_forest.feature_names = feature_names"
   ]
  },
  {
   "cell_type": "code",
   "execution_count": 11,
   "id": "dcaa3020",
   "metadata": {
    "execution": {
     "iopub.execute_input": "2024-08-21T09:48:55.789494Z",
     "iopub.status.busy": "2024-08-21T09:48:55.789378Z",
     "iopub.status.idle": "2024-08-21T09:48:55.791243Z",
     "shell.execute_reply": "2024-08-21T09:48:55.790980Z"
    },
    "papermill": {
     "duration": 0.004251,
     "end_time": "2024-08-21T09:48:55.792037",
     "exception": false,
     "start_time": "2024-08-21T09:48:55.787786",
     "status": "completed"
    },
    "tags": []
   },
   "outputs": [],
   "source": [
    "def get_acc(model, samples, labels, feature_names=None):\n",
    "    predictions = (model.predict(xgboost.DMatrix(samples,\n",
    "                                                 feature_names=feature_names)) > 0.5).astype(int)\n",
    "    return (predictions == labels).sum() / predictions.shape[0]"
   ]
  },
  {
   "cell_type": "code",
   "execution_count": 12,
   "id": "7ce6b380",
   "metadata": {
    "execution": {
     "iopub.execute_input": "2024-08-21T09:48:55.794980Z",
     "iopub.status.busy": "2024-08-21T09:48:55.794888Z",
     "iopub.status.idle": "2024-08-21T09:48:55.798390Z",
     "shell.execute_reply": "2024-08-21T09:48:55.798160Z"
    },
    "papermill": {
     "duration": 0.005817,
     "end_time": "2024-08-21T09:48:55.799112",
     "exception": false,
     "start_time": "2024-08-21T09:48:55.793295",
     "status": "completed"
    },
    "tags": []
   },
   "outputs": [
    {
     "name": "stdout",
     "output_type": "stream",
     "text": [
      "Train score: 0.9304071837745781\n",
      "Test score: 0.928256326909682\n"
     ]
    }
   ],
   "source": [
    "print('Train score:', get_acc(xgb_forest, X_train, y_train, feature_names))\n",
    "print('Test score:', get_acc(xgb_forest, X_test, y_test, feature_names))"
   ]
  },
  {
   "cell_type": "code",
   "execution_count": 13,
   "id": "97a1d2b0",
   "metadata": {
    "execution": {
     "iopub.execute_input": "2024-08-21T09:48:55.802166Z",
     "iopub.status.busy": "2024-08-21T09:48:55.802067Z",
     "iopub.status.idle": "2024-08-21T09:48:56.048265Z",
     "shell.execute_reply": "2024-08-21T09:48:56.047998Z"
    },
    "papermill": {
     "duration": 0.248745,
     "end_time": "2024-08-21T09:48:56.049213",
     "exception": false,
     "start_time": "2024-08-21T09:48:55.800468",
     "status": "completed"
    },
    "tags": []
   },
   "outputs": [],
   "source": [
    "import shap\n",
    "import pandas as pd\n",
    "explainer = shap.Explainer(xgb_forest)\n",
    "\n",
    "shap_values = explainer(pd.DataFrame(X_test, columns=feature_names))\n"
   ]
  },
  {
   "cell_type": "code",
   "execution_count": 14,
   "id": "8e7a54a8",
   "metadata": {
    "execution": {
     "iopub.execute_input": "2024-08-21T09:48:56.052480Z",
     "iopub.status.busy": "2024-08-21T09:48:56.052329Z",
     "iopub.status.idle": "2024-08-21T09:48:56.624378Z",
     "shell.execute_reply": "2024-08-21T09:48:56.624079Z"
    },
    "papermill": {
     "duration": 0.574549,
     "end_time": "2024-08-21T09:48:56.625266",
     "exception": false,
     "start_time": "2024-08-21T09:48:56.050717",
     "status": "completed"
    },
    "tags": []
   },
   "outputs": [
    {
     "data": {
      "image/png": "[encoded data removed]",
      "text/plain": [
       "<Figure size 400x200 with 2 Axes>"
      ]
     },
     "metadata": {},
     "output_type": "display_data"
    }
   ],
   "source": [
    "# Beeswarm plot\n",
    "\n",
    "shap.plots.beeswarm(shap_values, show=False)\n",
    "fig = plt.gcf()\n",
    "fig.set_size_inches(4, 2, forward=True)\n",
    "if save_figures: plt.savefig(\n",
    "    f'../{path_transport_graphics}/logitics_data_on_customer_profile_{comparison_dict[comparison_id][0]} and customer_profile_{comparison_dict[comparison_id][1]}-shap-value.{save_parms[\"format\"]}',\n",
    "    **save_parms\n",
    "    )\n",
    "plt.show()"
   ]
  }
 ],
 "metadata": {
  "kernelspec": {
   "display_name": "Python 3.7.11 ('py37')",
   "language": "python",
   "name": "python3"
  },
  "language_info": {
   "codemirror_mode": {
    "name": "ipython",
    "version": 3
   },
   "file_extension": ".py",
   "mimetype": "text/x-python",
   "name": "python",
   "nbconvert_exporter": "python",
   "pygments_lexer": "ipython3",
   "version": "3.12.0"
  },
  "papermill": {
   "default_parameters": {},
   "duration": 3.073982,
   "end_time": "2024-08-21T09:48:56.944450",
   "environment_variables": {},
   "exception": null,
   "input_path": "experiment_baseline.ipynb",
   "output_path": "./Results_Experiments/Set_UT_list_to_None/experiment_baseline_2.ipynb",
   "parameters": {
    "comparison_id": 1
   },
   "start_time": "2024-08-21T09:48:53.870468",
   "version": "2.6.0"
  },
  "vscode": {
   "interpreter": {
    "hash": "5ab0220f0ca30ec7bac8a7e209564eceae6d15412b9f87f3c2f91206aa8b151c"
   }
  }
 },
 "nbformat": 4,
 "nbformat_minor": 5
}