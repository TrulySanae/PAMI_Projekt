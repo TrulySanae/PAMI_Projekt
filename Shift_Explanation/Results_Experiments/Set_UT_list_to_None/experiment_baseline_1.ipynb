{
 "cells": [
  {
   "cell_type": "code",
   "execution_count": 1,
   "id": "d05cab18",
   "metadata": {
    "execution": {
     "iopub.execute_input": "2024-08-21T09:48:51.457099Z",
     "iopub.status.busy": "2024-08-21T09:48:51.456871Z",
     "iopub.status.idle": "2024-08-21T09:48:52.368440Z",
     "shell.execute_reply": "2024-08-21T09:48:52.367977Z"
    },
    "papermill": {
     "duration": 0.920258,
     "end_time": "2024-08-21T09:48:52.372931",
     "exception": false,
     "start_time": "2024-08-21T09:48:51.452673",
     "status": "completed"
    },
    "tags": []
   },
   "outputs": [],
   "source": [
    "import matplotlib.pyplot as plt\n",
    "import numpy as np\n",
    "import pandas as pd\n",
    "from pathlib import Path\n",
    "import seaborn as sn\n"
   ]
  },
  {
   "cell_type": "code",
   "execution_count": 2,
   "id": "d6302d10",
   "metadata": {
    "execution": {
     "iopub.execute_input": "2024-08-21T09:48:52.378257Z",
     "iopub.status.busy": "2024-08-21T09:48:52.378048Z",
     "iopub.status.idle": "2024-08-21T09:48:52.381225Z",
     "shell.execute_reply": "2024-08-21T09:48:52.380938Z"
    },
    "papermill": {
     "duration": 0.00654,
     "end_time": "2024-08-21T09:48:52.382197",
     "exception": false,
     "start_time": "2024-08-21T09:48:52.375657",
     "status": "completed"
    },
    "tags": []
   },
   "outputs": [],
   "source": [
    "# Setting so that the plots look normal even when using dark-reader\n",
    "sn.set_style(\"whitegrid\")\n",
    "sn.set_context(context=\"paper\", font_scale=2)\n",
    "pal = sn.color_palette(\"Set1\")\n",
    "\n",
    "# Setting up specifics for plotting + saving\n",
    "save_figures = True\n",
    "add_legend = False\n",
    "add_title = False\n",
    "add_axis = False\n",
    "save_parms = {'format': 'pdf','bbox_inches':'tight', 'pad_inches':0.1}\n",
    "line_parms = {'linewidth':4, 'color':'k'}\n",
    "if save_figures:  # saves all figures in a figure directory in the local directory\n",
    "    figure_dir = Path('.') / 'figures' / 'adult-income-experiment'\n",
    "    if not figure_dir.exists():\n",
    "        figure_dir.mkdir(parents=True)"
   ]
  },
  {
   "cell_type": "code",
   "execution_count": 3,
   "id": "22d1d0e0",
   "metadata": {
    "execution": {
     "iopub.execute_input": "2024-08-21T09:48:52.386650Z",
     "iopub.status.busy": "2024-08-21T09:48:52.386498Z",
     "iopub.status.idle": "2024-08-21T09:48:52.388691Z",
     "shell.execute_reply": "2024-08-21T09:48:52.388390Z"
    },
    "papermill": {
     "duration": 0.006286,
     "end_time": "2024-08-21T09:48:52.390477",
     "exception": false,
     "start_time": "2024-08-21T09:48:52.384191",
     "status": "completed"
    },
    "tags": []
   },
   "outputs": [],
   "source": [
    "# Experiment hyperparamters\n",
    "rng = np.random.RandomState(42)\n",
    "split_on_income = False  # if True: src := income>=50k, tgt :+ income<50k, if False: src := male, tgt := female\n",
    "n_samples = 1000"
   ]
  },
  {
   "cell_type": "code",
   "execution_count": 4,
   "id": "48ff09ec",
   "metadata": {
    "execution": {
     "iopub.execute_input": "2024-08-21T09:48:52.394873Z",
     "iopub.status.busy": "2024-08-21T09:48:52.394737Z",
     "iopub.status.idle": "2024-08-21T09:48:52.396436Z",
     "shell.execute_reply": "2024-08-21T09:48:52.396178Z"
    },
    "papermill": {
     "duration": 0.004451,
     "end_time": "2024-08-21T09:48:52.397256",
     "exception": false,
     "start_time": "2024-08-21T09:48:52.392805",
     "status": "completed"
    },
    "tags": [
     "parameters"
    ]
   },
   "outputs": [],
   "source": [
    "comparison_id = None"
   ]
  },
  {
   "cell_type": "code",
   "execution_count": 5,
   "id": "83a0e220",
   "metadata": {
    "execution": {
     "iopub.execute_input": "2024-08-21T09:48:52.403493Z",
     "iopub.status.busy": "2024-08-21T09:48:52.403194Z",
     "iopub.status.idle": "2024-08-21T09:48:52.405887Z",
     "shell.execute_reply": "2024-08-21T09:48:52.405503Z"
    },
    "papermill": {
     "duration": 0.008308,
     "end_time": "2024-08-21T09:48:52.406935",
     "exception": false,
     "start_time": "2024-08-21T09:48:52.398627",
     "status": "completed"
    },
    "tags": [
     "injected-parameters"
    ]
   },
   "outputs": [],
   "source": [
    "# Parameters\n",
    "comparison_id = 0\n"
   ]
  },
  {
   "cell_type": "code",
   "execution_count": 6,
   "id": "dade2b7e",
   "metadata": {
    "execution": {
     "iopub.execute_input": "2024-08-21T09:48:52.411381Z",
     "iopub.status.busy": "2024-08-21T09:48:52.411150Z",
     "iopub.status.idle": "2024-08-21T09:48:52.421397Z",
     "shell.execute_reply": "2024-08-21T09:48:52.420985Z"
    },
    "papermill": {
     "duration": 0.016018,
     "end_time": "2024-08-21T09:48:52.424714",
     "exception": false,
     "start_time": "2024-08-21T09:48:52.408696",
     "status": "completed"
    },
    "tags": []
   },
   "outputs": [
    {
     "name": "stdout",
     "output_type": "stream",
     "text": [
      "['Customer_id', 'Connection', 'Weight', 'Unit_type', 'Day', 'Week']\n"
     ]
    }
   ],
   "source": [
    "\n",
    "# Load the data\n",
    "comparison_dict = {0: [0,1], 1: [2,3], 2: [4,5]}\n",
    "path_customer_profiles = open('./Results_Experiments/File_Paths/path_customer_profiles.txt','r').read()\n",
    "path_transport_graphics = open('./Results_Experiments/File_Paths/path_transport_graphics.txt','r').read()\n",
    "source = pd.read_csv(f'../{path_customer_profiles}/customer_profile_{comparison_dict[comparison_id][0]}.csv')\n",
    "target = pd.read_csv(f'../{path_customer_profiles}/customer_profile_{comparison_dict[comparison_id][1]}.csv')\n",
    "\n",
    "feature_names = source.columns.values\n",
    "feature_names = list(feature_names)\n",
    "print(feature_names)"
   ]
  },
  {
   "cell_type": "code",
   "execution_count": 7,
   "id": "296df3b5",
   "metadata": {
    "execution": {
     "iopub.execute_input": "2024-08-21T09:48:52.430411Z",
     "iopub.status.busy": "2024-08-21T09:48:52.430245Z",
     "iopub.status.idle": "2024-08-21T09:48:52.478245Z",
     "shell.execute_reply": "2024-08-21T09:48:52.477971Z"
    },
    "papermill": {
     "duration": 0.0523,
     "end_time": "2024-08-21T09:48:52.479282",
     "exception": false,
     "start_time": "2024-08-21T09:48:52.426982",
     "status": "completed"
    },
    "tags": []
   },
   "outputs": [],
   "source": [
    "# standardize the source and target data, and convert to domain labels\n",
    "from sklearn.preprocessing import StandardScaler\n",
    "X = np.concatenate((source, target), axis=0)\n",
    "# standardize X to remove cardinatlity bias\n",
    "X = StandardScaler().fit_transform(X)\n",
    "y = np.concatenate((np.zeros(source.shape[0]),\n",
    "                    np.ones(target.shape[0])), axis=0)  # domain labels"
   ]
  },
  {
   "cell_type": "code",
   "execution_count": 8,
   "id": "c5422e1f",
   "metadata": {
    "execution": {
     "iopub.execute_input": "2024-08-21T09:48:52.482925Z",
     "iopub.status.busy": "2024-08-21T09:48:52.482722Z",
     "iopub.status.idle": "2024-08-21T09:48:52.543193Z",
     "shell.execute_reply": "2024-08-21T09:48:52.542929Z"
    },
    "papermill": {
     "duration": 0.063219,
     "end_time": "2024-08-21T09:48:52.544165",
     "exception": false,
     "start_time": "2024-08-21T09:48:52.480946",
     "status": "completed"
    },
    "tags": []
   },
   "outputs": [],
   "source": [
    "from sklearn.datasets import make_classification\n",
    "from sklearn.model_selection import train_test_split\n",
    "\n",
    "X_train, X_test, y_train, y_test = train_test_split(X, y,\n",
    "                                     stratify=y, random_state=42)"
   ]
  },
  {
   "cell_type": "code",
   "execution_count": 9,
   "id": "5d9ba299",
   "metadata": {
    "execution": {
     "iopub.execute_input": "2024-08-21T09:48:52.547325Z",
     "iopub.status.busy": "2024-08-21T09:48:52.547173Z",
     "iopub.status.idle": "2024-08-21T09:48:52.561376Z",
     "shell.execute_reply": "2024-08-21T09:48:52.561086Z"
    },
    "papermill": {
     "duration": 0.016628,
     "end_time": "2024-08-21T09:48:52.562193",
     "exception": false,
     "start_time": "2024-08-21T09:48:52.545565",
     "status": "completed"
    },
    "tags": []
   },
   "outputs": [],
   "source": [
    "# Using XGBoost\n",
    "import xgboost\n",
    "\n",
    "def fit_xgboost(X_train, y_train, X_test, y_test, feature_names=None):\n",
    "    \"\"\" Train an XGBoost model with early stopping.\n",
    "    \"\"\"\n",
    "    dtrain = xgboost.DMatrix(X_train, label=y_train, feature_names=feature_names)\n",
    "    dtest = xgboost.DMatrix(X_test, label=y_test, feature_names=feature_names)\n",
    "    # model = xgboost.train(\n",
    "    #     { \"eta\": 0.001, \"subsample\": 0.5, \"max_depth\": 2,\n",
    "    #       \"objective\": 'binary:logistic', 'eval_metric': 'logloss'}, dtrain, num_boost_round=200000,\n",
    "    #     evals=[(dtest,'eval'), (dtrain,'train')], early_stopping_rounds=20, verbose_eval=False\n",
    "    # )\n",
    "    model = xgboost.train(\n",
    "        {\"objective\": 'binary:logistic', 'eval_metric': 'logloss'},\n",
    "        dtrain,\n",
    "        evals=[(dtest,'eval'), (dtrain,'train')],\n",
    "        verbose_eval=False)\n",
    "    return model"
   ]
  },
  {
   "cell_type": "code",
   "execution_count": 10,
   "id": "bd7ac9f1",
   "metadata": {
    "execution": {
     "iopub.execute_input": "2024-08-21T09:48:52.565256Z",
     "iopub.status.busy": "2024-08-21T09:48:52.565155Z",
     "iopub.status.idle": "2024-08-21T09:48:52.584223Z",
     "shell.execute_reply": "2024-08-21T09:48:52.583970Z"
    },
    "papermill": {
     "duration": 0.021613,
     "end_time": "2024-08-21T09:48:52.585193",
     "exception": false,
     "start_time": "2024-08-21T09:48:52.563580",
     "status": "completed"
    },
    "tags": []
   },
   "outputs": [],
   "source": [
    "xgb_forest = fit_xgboost(X_train, y_train, X_test, y_test, feature_names)\n",
    "xgb_forest.feature_names = feature_names"
   ]
  },
  {
   "cell_type": "code",
   "execution_count": 11,
   "id": "dcaa3020",
   "metadata": {
    "execution": {
     "iopub.execute_input": "2024-08-21T09:48:52.588328Z",
     "iopub.status.busy": "2024-08-21T09:48:52.588217Z",
     "iopub.status.idle": "2024-08-21T09:48:52.590023Z",
     "shell.execute_reply": "2024-08-21T09:48:52.589788Z"
    },
    "papermill": {
     "duration": 0.00411,
     "end_time": "2024-08-21T09:48:52.590741",
     "exception": false,
     "start_time": "2024-08-21T09:48:52.586631",
     "status": "completed"
    },
    "tags": []
   },
   "outputs": [],
   "source": [
    "def get_acc(model, samples, labels, feature_names=None):\n",
    "    predictions = (model.predict(xgboost.DMatrix(samples,\n",
    "                                                 feature_names=feature_names)) > 0.5).astype(int)\n",
    "    return (predictions == labels).sum() / predictions.shape[0]"
   ]
  },
  {
   "cell_type": "code",
   "execution_count": 12,
   "id": "7ce6b380",
   "metadata": {
    "execution": {
     "iopub.execute_input": "2024-08-21T09:48:52.593835Z",
     "iopub.status.busy": "2024-08-21T09:48:52.593736Z",
     "iopub.status.idle": "2024-08-21T09:48:52.597321Z",
     "shell.execute_reply": "2024-08-21T09:48:52.597048Z"
    },
    "papermill": {
     "duration": 0.006224,
     "end_time": "2024-08-21T09:48:52.598304",
     "exception": false,
     "start_time": "2024-08-21T09:48:52.592080",
     "status": "completed"
    },
    "tags": []
   },
   "outputs": [
    {
     "name": "stdout",
     "output_type": "stream",
     "text": [
      "Train score: 0.9442899088239839\n",
      "Test score: 0.9492350486787204\n"
     ]
    }
   ],
   "source": [
    "print('Train score:', get_acc(xgb_forest, X_train, y_train, feature_names))\n",
    "print('Test score:', get_acc(xgb_forest, X_test, y_test, feature_names))"
   ]
  },
  {
   "cell_type": "code",
   "execution_count": 13,
   "id": "97a1d2b0",
   "metadata": {
    "execution": {
     "iopub.execute_input": "2024-08-21T09:48:52.602684Z",
     "iopub.status.busy": "2024-08-21T09:48:52.602469Z",
     "iopub.status.idle": "2024-08-21T09:48:52.871043Z",
     "shell.execute_reply": "2024-08-21T09:48:52.870746Z"
    },
    "papermill": {
     "duration": 0.272035,
     "end_time": "2024-08-21T09:48:52.872071",
     "exception": false,
     "start_time": "2024-08-21T09:48:52.600036",
     "status": "completed"
    },
    "tags": []
   },
   "outputs": [],
   "source": [
    "import shap\n",
    "import pandas as pd\n",
    "explainer = shap.Explainer(xgb_forest)\n",
    "\n",
    "shap_values = explainer(pd.DataFrame(X_test, columns=feature_names))\n"
   ]
  },
  {
   "cell_type": "code",
   "execution_count": 14,
   "id": "8e7a54a8",
   "metadata": {
    "execution": {
     "iopub.execute_input": "2024-08-21T09:48:52.875447Z",
     "iopub.status.busy": "2024-08-21T09:48:52.875292Z",
     "iopub.status.idle": "2024-08-21T09:48:53.439655Z",
     "shell.execute_reply": "2024-08-21T09:48:53.439376Z"
    },
    "papermill": {
     "duration": 0.567607,
     "end_time": "2024-08-21T09:48:53.441081",
     "exception": false,
     "start_time": "2024-08-21T09:48:52.873474",
     "status": "completed"
    },
    "tags": []
   },
   "outputs": [
    {
     "data": {
      "image/png": "[encoded data removed]",
      "text/plain": [
       "<Figure size 400x200 with 2 Axes>"
      ]
     },
     "metadata": {},
     "output_type": "display_data"
    }
   ],
   "source": [
    "# Beeswarm plot\n",
    "\n",
    "shap.plots.beeswarm(shap_values, show=False)\n",
    "fig = plt.gcf()\n",
    "fig.set_size_inches(4, 2, forward=True)\n",
    "if save_figures: plt.savefig(\n",
    "    f'../{path_transport_graphics}/logitics_data_on_customer_profile_{comparison_dict[comparison_id][0]} and customer_profile_{comparison_dict[comparison_id][1]}-shap-value.{save_parms[\"format\"]}',\n",
    "    **save_parms\n",
    "    )\n",
    "plt.show()"
   ]
  }
 ],
 "metadata": {
  "kernelspec": {
   "display_name": "Python 3.7.11 ('py37')",
   "language": "python",
   "name": "python3"
  },
  "language_info": {
   "codemirror_mode": {
    "name": "ipython",
    "version": 3
   },
   "file_extension": ".py",
   "mimetype": "text/x-python",
   "name": "python",
   "nbconvert_exporter": "python",
   "pygments_lexer": "ipython3",
   "version": "3.12.0"
  },
  "papermill": {
   "default_parameters": {},
   "duration": 2.974074,
   "end_time": "2024-08-21T09:48:53.862570",
   "environment_variables": {},
   "exception": null,
   "input_path": "experiment_baseline.ipynb",
   "output_path": "./Results_Experiments/Set_UT_list_to_None/experiment_baseline_1.ipynb",
   "parameters": {
    "comparison_id": 0
   },
   "start_time": "2024-08-21T09:48:50.888496",
   "version": "2.6.0"
  },
  "vscode": {
   "interpreter": {
    "hash": "5ab0220f0ca30ec7bac8a7e209564eceae6d15412b9f87f3c2f91206aa8b151c"
   }
  }
 },
 "nbformat": 4,
 "nbformat_minor": 5
}