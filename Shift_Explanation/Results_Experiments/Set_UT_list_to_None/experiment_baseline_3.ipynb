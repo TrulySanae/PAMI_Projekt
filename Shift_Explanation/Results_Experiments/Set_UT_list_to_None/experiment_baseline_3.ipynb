{
 "cells": [
  {
   "cell_type": "code",
   "execution_count": 1,
   "id": "d05cab18",
   "metadata": {
    "execution": {
     "iopub.execute_input": "2024-08-21T09:48:57.682322Z",
     "iopub.status.busy": "2024-08-21T09:48:57.681714Z",
     "iopub.status.idle": "2024-08-21T09:48:58.652044Z",
     "shell.execute_reply": "2024-08-21T09:48:58.651756Z"
    },
    "papermill": {
     "duration": 0.991831,
     "end_time": "2024-08-21T09:48:58.664394",
     "exception": false,
     "start_time": "2024-08-21T09:48:57.672563",
     "status": "completed"
    },
    "tags": []
   },
   "outputs": [],
   "source": [
    "import matplotlib.pyplot as plt\n",
    "import numpy as np\n",
    "import pandas as pd\n",
    "from pathlib import Path\n",
    "import seaborn as sn\n"
   ]
  },
  {
   "cell_type": "code",
   "execution_count": 2,
   "id": "d6302d10",
   "metadata": {
    "execution": {
     "iopub.execute_input": "2024-08-21T09:48:58.676515Z",
     "iopub.status.busy": "2024-08-21T09:48:58.676336Z",
     "iopub.status.idle": "2024-08-21T09:48:58.679611Z",
     "shell.execute_reply": "2024-08-21T09:48:58.679269Z"
    },
    "papermill": {
     "duration": 0.008147,
     "end_time": "2024-08-21T09:48:58.680528",
     "exception": false,
     "start_time": "2024-08-21T09:48:58.672381",
     "status": "completed"
    },
    "tags": []
   },
   "outputs": [],
   "source": [
    "# Setting so that the plots look normal even when using dark-reader\n",
    "sn.set_style(\"whitegrid\")\n",
    "sn.set_context(context=\"paper\", font_scale=2)\n",
    "pal = sn.color_palette(\"Set1\")\n",
    "\n",
    "# Setting up specifics for plotting + saving\n",
    "save_figures = True\n",
    "add_legend = False\n",
    "add_title = False\n",
    "add_axis = False\n",
    "save_parms = {'format': 'pdf','bbox_inches':'tight', 'pad_inches':0.1}\n",
    "line_parms = {'linewidth':4, 'color':'k'}\n",
    "if save_figures:  # saves all figures in a figure directory in the local directory\n",
    "    figure_dir = Path('.') / 'figures' / 'adult-income-experiment'\n",
    "    if not figure_dir.exists():\n",
    "        figure_dir.mkdir(parents=True)"
   ]
  },
  {
   "cell_type": "code",
   "execution_count": 3,
   "id": "22d1d0e0",
   "metadata": {
    "execution": {
     "iopub.execute_input": "2024-08-21T09:48:58.684414Z",
     "iopub.status.busy": "2024-08-21T09:48:58.684264Z",
     "iopub.status.idle": "2024-08-21T09:48:58.686744Z",
     "shell.execute_reply": "2024-08-21T09:48:58.686174Z"
    },
    "papermill": {
     "duration": 0.005323,
     "end_time": "2024-08-21T09:48:58.687663",
     "exception": false,
     "start_time": "2024-08-21T09:48:58.682340",
     "status": "completed"
    },
    "tags": []
   },
   "outputs": [],
   "source": [
    "# Experiment hyperparamters\n",
    "rng = np.random.RandomState(42)\n",
    "split_on_income = False  # if True: src := income>=50k, tgt :+ income<50k, if False: src := male, tgt := female\n",
    "n_samples = 1000"
   ]
  },
  {
   "cell_type": "code",
   "execution_count": 4,
   "id": "48ff09ec",
   "metadata": {
    "execution": {
     "iopub.execute_input": "2024-08-21T09:48:58.691237Z",
     "iopub.status.busy": "2024-08-21T09:48:58.691041Z",
     "iopub.status.idle": "2024-08-21T09:48:58.692963Z",
     "shell.execute_reply": "2024-08-21T09:48:58.692737Z"
    },
    "papermill": {
     "duration": 0.004713,
     "end_time": "2024-08-21T09:48:58.693797",
     "exception": false,
     "start_time": "2024-08-21T09:48:58.689084",
     "status": "completed"
    },
    "tags": [
     "parameters"
    ]
   },
   "outputs": [],
   "source": [
    "comparison_id = None"
   ]
  },
  {
   "cell_type": "code",
   "execution_count": 5,
   "id": "406cb6dd",
   "metadata": {
    "execution": {
     "iopub.execute_input": "2024-08-21T09:48:58.696768Z",
     "iopub.status.busy": "2024-08-21T09:48:58.696667Z",
     "iopub.status.idle": "2024-08-21T09:48:58.698084Z",
     "shell.execute_reply": "2024-08-21T09:48:58.697879Z"
    },
    "papermill": {
     "duration": 0.003677,
     "end_time": "2024-08-21T09:48:58.698795",
     "exception": false,
     "start_time": "2024-08-21T09:48:58.695118",
     "status": "completed"
    },
    "tags": [
     "injected-parameters"
    ]
   },
   "outputs": [],
   "source": [
    "# Parameters\n",
    "comparison_id = 2\n"
   ]
  },
  {
   "cell_type": "code",
   "execution_count": 6,
   "id": "dade2b7e",
   "metadata": {
    "execution": {
     "iopub.execute_input": "2024-08-21T09:48:58.701986Z",
     "iopub.status.busy": "2024-08-21T09:48:58.701846Z",
     "iopub.status.idle": "2024-08-21T09:48:58.710128Z",
     "shell.execute_reply": "2024-08-21T09:48:58.709883Z"
    },
    "papermill": {
     "duration": 0.010999,
     "end_time": "2024-08-21T09:48:58.710980",
     "exception": false,
     "start_time": "2024-08-21T09:48:58.699981",
     "status": "completed"
    },
    "tags": []
   },
   "outputs": [
    {
     "name": "stdout",
     "output_type": "stream",
     "text": [
      "['Customer_id', 'Connection', 'Weight', 'Unit_type', 'Day', 'Week']\n"
     ]
    }
   ],
   "source": [
    "\n",
    "# Load the data\n",
    "comparison_dict = {0: [0,1], 1: [2,3], 2: [4,5]}\n",
    "path_customer_profiles = open('./Results_Experiments/File_Paths/path_customer_profiles.txt','r').read()\n",
    "path_transport_graphics = open('./Results_Experiments/File_Paths/path_transport_graphics.txt','r').read()\n",
    "source = pd.read_csv(f'../{path_customer_profiles}/customer_profile_{comparison_dict[comparison_id][0]}.csv')\n",
    "target = pd.read_csv(f'../{path_customer_profiles}/customer_profile_{comparison_dict[comparison_id][1]}.csv')\n",
    "\n",
    "feature_names = source.columns.values\n",
    "feature_names = list(feature_names)\n",
    "print(feature_names)"
   ]
  },
  {
   "cell_type": "code",
   "execution_count": 7,
   "id": "296df3b5",
   "metadata": {
    "execution": {
     "iopub.execute_input": "2024-08-21T09:48:58.715116Z",
     "iopub.status.busy": "2024-08-21T09:48:58.714959Z",
     "iopub.status.idle": "2024-08-21T09:48:58.751561Z",
     "shell.execute_reply": "2024-08-21T09:48:58.751307Z"
    },
    "papermill": {
     "duration": 0.039742,
     "end_time": "2024-08-21T09:48:58.752572",
     "exception": false,
     "start_time": "2024-08-21T09:48:58.712830",
     "status": "completed"
    },
    "tags": []
   },
   "outputs": [],
   "source": [
    "# standardize the source and target data, and convert to domain labels\n",
    "from sklearn.preprocessing import StandardScaler\n",
    "X = np.concatenate((source, target), axis=0)\n",
    "# standardize X to remove cardinatlity bias\n",
    "X = StandardScaler().fit_transform(X)\n",
    "y = np.concatenate((np.zeros(source.shape[0]),\n",
    "                    np.ones(target.shape[0])), axis=0)  # domain labels"
   ]
  },
  {
   "cell_type": "code",
   "execution_count": 8,
   "id": "c5422e1f",
   "metadata": {
    "execution": {
     "iopub.execute_input": "2024-08-21T09:48:58.756116Z",
     "iopub.status.busy": "2024-08-21T09:48:58.755966Z",
     "iopub.status.idle": "2024-08-21T09:48:58.807258Z",
     "shell.execute_reply": "2024-08-21T09:48:58.806997Z"
    },
    "papermill": {
     "duration": 0.054035,
     "end_time": "2024-08-21T09:48:58.808207",
     "exception": false,
     "start_time": "2024-08-21T09:48:58.754172",
     "status": "completed"
    },
    "tags": []
   },
   "outputs": [],
   "source": [
    "from sklearn.datasets import make_classification\n",
    "from sklearn.model_selection import train_test_split\n",
    "\n",
    "X_train, X_test, y_train, y_test = train_test_split(X, y,\n",
    "                                     stratify=y, random_state=42)"
   ]
  },
  {
   "cell_type": "code",
   "execution_count": 9,
   "id": "5d9ba299",
   "metadata": {
    "execution": {
     "iopub.execute_input": "2024-08-21T09:48:58.811438Z",
     "iopub.status.busy": "2024-08-21T09:48:58.811295Z",
     "iopub.status.idle": "2024-08-21T09:48:58.826347Z",
     "shell.execute_reply": "2024-08-21T09:48:58.826084Z"
    },
    "papermill": {
     "duration": 0.017644,
     "end_time": "2024-08-21T09:48:58.827312",
     "exception": false,
     "start_time": "2024-08-21T09:48:58.809668",
     "status": "completed"
    },
    "tags": []
   },
   "outputs": [],
   "source": [
    "# Using XGBoost\n",
    "import xgboost\n",
    "\n",
    "def fit_xgboost(X_train, y_train, X_test, y_test, feature_names=None):\n",
    "    \"\"\" Train an XGBoost model with early stopping.\n",
    "    \"\"\"\n",
    "    dtrain = xgboost.DMatrix(X_train, label=y_train, feature_names=feature_names)\n",
    "    dtest = xgboost.DMatrix(X_test, label=y_test, feature_names=feature_names)\n",
    "    # model = xgboost.train(\n",
    "    #     { \"eta\": 0.001, \"subsample\": 0.5, \"max_depth\": 2,\n",
    "    #       \"objective\": 'binary:logistic', 'eval_metric': 'logloss'}, dtrain, num_boost_round=200000,\n",
    "    #     evals=[(dtest,'eval'), (dtrain,'train')], early_stopping_rounds=20, verbose_eval=False\n",
    "    # )\n",
    "    model = xgboost.train(\n",
    "        {\"objective\": 'binary:logistic', 'eval_metric': 'logloss'},\n",
    "        dtrain,\n",
    "        evals=[(dtest,'eval'), (dtrain,'train')],\n",
    "        verbose_eval=False)\n",
    "    return model"
   ]
  },
  {
   "cell_type": "code",
   "execution_count": 10,
   "id": "bd7ac9f1",
   "metadata": {
    "execution": {
     "iopub.execute_input": "2024-08-21T09:48:58.830350Z",
     "iopub.status.busy": "2024-08-21T09:48:58.830234Z",
     "iopub.status.idle": "2024-08-21T09:48:58.854256Z",
     "shell.execute_reply": "2024-08-21T09:48:58.853990Z"
    },
    "papermill": {
     "duration": 0.026533,
     "end_time": "2024-08-21T09:48:58.855179",
     "exception": false,
     "start_time": "2024-08-21T09:48:58.828646",
     "status": "completed"
    },
    "tags": []
   },
   "outputs": [],
   "source": [
    "xgb_forest = fit_xgboost(X_train, y_train, X_test, y_test, feature_names)\n",
    "xgb_forest.feature_names = feature_names"
   ]
  },
  {
   "cell_type": "code",
   "execution_count": 11,
   "id": "dcaa3020",
   "metadata": {
    "execution": {
     "iopub.execute_input": "2024-08-21T09:48:58.858342Z",
     "iopub.status.busy": "2024-08-21T09:48:58.858227Z",
     "iopub.status.idle": "2024-08-21T09:48:58.860072Z",
     "shell.execute_reply": "2024-08-21T09:48:58.859860Z"
    },
    "papermill": {
     "duration": 0.004183,
     "end_time": "2024-08-21T09:48:58.860832",
     "exception": false,
     "start_time": "2024-08-21T09:48:58.856649",
     "status": "completed"
    },
    "tags": []
   },
   "outputs": [],
   "source": [
    "def get_acc(model, samples, labels, feature_names=None):\n",
    "    predictions = (model.predict(xgboost.DMatrix(samples,\n",
    "                                                 feature_names=feature_names)) > 0.5).astype(int)\n",
    "    return (predictions == labels).sum() / predictions.shape[0]"
   ]
  },
  {
   "cell_type": "code",
   "execution_count": 12,
   "id": "7ce6b380",
   "metadata": {
    "execution": {
     "iopub.execute_input": "2024-08-21T09:48:58.863758Z",
     "iopub.status.busy": "2024-08-21T09:48:58.863665Z",
     "iopub.status.idle": "2024-08-21T09:48:58.867305Z",
     "shell.execute_reply": "2024-08-21T09:48:58.867082Z"
    },
    "papermill": {
     "duration": 0.005971,
     "end_time": "2024-08-21T09:48:58.868095",
     "exception": false,
     "start_time": "2024-08-21T09:48:58.862124",
     "status": "completed"
    },
    "tags": []
   },
   "outputs": [
    {
     "name": "stdout",
     "output_type": "stream",
     "text": [
      "Train score: 0.9374260238301901\n",
      "Test score: 0.9353846153846154\n"
     ]
    }
   ],
   "source": [
    "print('Train score:', get_acc(xgb_forest, X_train, y_train, feature_names))\n",
    "print('Test score:', get_acc(xgb_forest, X_test, y_test, feature_names))"
   ]
  },
  {
   "cell_type": "code",
   "execution_count": 13,
   "id": "97a1d2b0",
   "metadata": {
    "execution": {
     "iopub.execute_input": "2024-08-21T09:48:58.871239Z",
     "iopub.status.busy": "2024-08-21T09:48:58.871136Z",
     "iopub.status.idle": "2024-08-21T09:48:59.149365Z",
     "shell.execute_reply": "2024-08-21T09:48:59.149107Z"
    },
    "papermill": {
     "duration": 0.280816,
     "end_time": "2024-08-21T09:48:59.150339",
     "exception": false,
     "start_time": "2024-08-21T09:48:58.869523",
     "status": "completed"
    },
    "tags": []
   },
   "outputs": [],
   "source": [
    "import shap\n",
    "import pandas as pd\n",
    "explainer = shap.Explainer(xgb_forest)\n",
    "\n",
    "shap_values = explainer(pd.DataFrame(X_test, columns=feature_names))\n"
   ]
  },
  {
   "cell_type": "code",
   "execution_count": 14,
   "id": "8e7a54a8",
   "metadata": {
    "execution": {
     "iopub.execute_input": "2024-08-21T09:48:59.153813Z",
     "iopub.status.busy": "2024-08-21T09:48:59.153653Z",
     "iopub.status.idle": "2024-08-21T09:48:59.744062Z",
     "shell.execute_reply": "2024-08-21T09:48:59.743662Z"
    },
    "papermill": {
     "duration": 0.594025,
     "end_time": "2024-08-21T09:48:59.745948",
     "exception": false,
     "start_time": "2024-08-21T09:48:59.151923",
     "status": "completed"
    },
    "tags": []
   },
   "outputs": [
    {
     "data": {
      "image/png": "[encoded data removed]",
      "text/plain": [
       "<Figure size 400x200 with 2 Axes>"
      ]
     },
     "metadata": {},
     "output_type": "display_data"
    }
   ],
   "source": [
    "# Beeswarm plot\n",
    "\n",
    "shap.plots.beeswarm(shap_values, show=False)\n",
    "fig = plt.gcf()\n",
    "fig.set_size_inches(4, 2, forward=True)\n",
    "if save_figures: plt.savefig(\n",
    "    f'../{path_transport_graphics}/logitics_data_on_customer_profile_{comparison_dict[comparison_id][0]} and customer_profile_{comparison_dict[comparison_id][1]}-shap-value.{save_parms[\"format\"]}',\n",
    "    **save_parms\n",
    "    )\n",
    "plt.show()"
   ]
  }
 ],
 "metadata": {
  "kernelspec": {
   "display_name": "Python 3.7.11 ('py37')",
   "language": "python",
   "name": "python3"
  },
  "language_info": {
   "codemirror_mode": {
    "name": "ipython",
    "version": 3
   },
   "file_extension": ".py",
   "mimetype": "text/x-python",
   "name": "python",
   "nbconvert_exporter": "python",
   "pygments_lexer": "ipython3",
   "version": "3.12.0"
  },
  "papermill": {
   "default_parameters": {},
   "duration": 3.126163,
   "end_time": "2024-08-21T09:49:00.076430",
   "environment_variables": {},
   "exception": null,
   "input_path": "experiment_baseline.ipynb",
   "output_path": "./Results_Experiments/Set_UT_list_to_None/experiment_baseline_3.ipynb",
   "parameters": {
    "comparison_id": 2
   },
   "start_time": "2024-08-21T09:48:56.950267",
   "version": "2.6.0"
  },
  "vscode": {
   "interpreter": {
    "hash": "5ab0220f0ca30ec7bac8a7e209564eceae6d15412b9f87f3c2f91206aa8b151c"
   }
  }
 },
 "nbformat": 4,
 "nbformat_minor": 5
}