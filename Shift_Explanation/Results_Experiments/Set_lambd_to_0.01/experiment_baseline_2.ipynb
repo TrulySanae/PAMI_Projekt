{
 "cells": [
  {
   "cell_type": "code",
   "execution_count": 1,
   "id": "d05cab18",
   "metadata": {
    "execution": {
     "iopub.execute_input": "2024-08-21T09:47:24.141631Z",
     "iopub.status.busy": "2024-08-21T09:47:24.141289Z",
     "iopub.status.idle": "2024-08-21T09:47:25.000876Z",
     "shell.execute_reply": "2024-08-21T09:47:25.000591Z"
    },
    "papermill": {
     "duration": 0.87109,
     "end_time": "2024-08-21T09:47:25.001985",
     "exception": false,
     "start_time": "2024-08-21T09:47:24.130895",
     "status": "completed"
    },
    "tags": []
   },
   "outputs": [],
   "source": [
    "import matplotlib.pyplot as plt\n",
    "import numpy as np\n",
    "import pandas as pd\n",
    "from pathlib import Path\n",
    "import seaborn as sn\n"
   ]
  },
  {
   "cell_type": "code",
   "execution_count": 2,
   "id": "d6302d10",
   "metadata": {
    "execution": {
     "iopub.execute_input": "2024-08-21T09:47:25.005272Z",
     "iopub.status.busy": "2024-08-21T09:47:25.005116Z",
     "iopub.status.idle": "2024-08-21T09:47:25.007884Z",
     "shell.execute_reply": "2024-08-21T09:47:25.007660Z"
    },
    "papermill": {
     "duration": 0.005161,
     "end_time": "2024-08-21T09:47:25.008668",
     "exception": false,
     "start_time": "2024-08-21T09:47:25.003507",
     "status": "completed"
    },
    "tags": []
   },
   "outputs": [],
   "source": [
    "# Setting so that the plots look normal even when using dark-reader\n",
    "sn.set_style(\"whitegrid\")\n",
    "sn.set_context(context=\"paper\", font_scale=2)\n",
    "pal = sn.color_palette(\"Set1\")\n",
    "\n",
    "# Setting up specifics for plotting + saving\n",
    "save_figures = True\n",
    "add_legend = False\n",
    "add_title = False\n",
    "add_axis = False\n",
    "save_parms = {'format': 'pdf','bbox_inches':'tight', 'pad_inches':0.1}\n",
    "line_parms = {'linewidth':4, 'color':'k'}\n",
    "if save_figures:  # saves all figures in a figure directory in the local directory\n",
    "    figure_dir = Path('.') / 'figures' / 'adult-income-experiment'\n",
    "    if not figure_dir.exists():\n",
    "        figure_dir.mkdir(parents=True)"
   ]
  },
  {
   "cell_type": "code",
   "execution_count": 3,
   "id": "22d1d0e0",
   "metadata": {
    "execution": {
     "iopub.execute_input": "2024-08-21T09:47:25.011891Z",
     "iopub.status.busy": "2024-08-21T09:47:25.011776Z",
     "iopub.status.idle": "2024-08-21T09:47:25.013543Z",
     "shell.execute_reply": "2024-08-21T09:47:25.013327Z"
    },
    "papermill": {
     "duration": 0.004284,
     "end_time": "2024-08-21T09:47:25.014325",
     "exception": false,
     "start_time": "2024-08-21T09:47:25.010041",
     "status": "completed"
    },
    "tags": []
   },
   "outputs": [],
   "source": [
    "# Experiment hyperparamters\n",
    "rng = np.random.RandomState(42)\n",
    "split_on_income = False  # if True: src := income>=50k, tgt :+ income<50k, if False: src := male, tgt := female\n",
    "n_samples = 1000"
   ]
  },
  {
   "cell_type": "code",
   "execution_count": 4,
   "id": "48ff09ec",
   "metadata": {
    "execution": {
     "iopub.execute_input": "2024-08-21T09:47:25.017353Z",
     "iopub.status.busy": "2024-08-21T09:47:25.017246Z",
     "iopub.status.idle": "2024-08-21T09:47:25.018780Z",
     "shell.execute_reply": "2024-08-21T09:47:25.018537Z"
    },
    "papermill": {
     "duration": 0.003925,
     "end_time": "2024-08-21T09:47:25.019572",
     "exception": false,
     "start_time": "2024-08-21T09:47:25.015647",
     "status": "completed"
    },
    "tags": [
     "parameters"
    ]
   },
   "outputs": [],
   "source": [
    "comparison_id = None"
   ]
  },
  {
   "cell_type": "code",
   "execution_count": 5,
   "id": "d513d80e",
   "metadata": {
    "execution": {
     "iopub.execute_input": "2024-08-21T09:47:25.023073Z",
     "iopub.status.busy": "2024-08-21T09:47:25.022857Z",
     "iopub.status.idle": "2024-08-21T09:47:25.024849Z",
     "shell.execute_reply": "2024-08-21T09:47:25.024441Z"
    },
    "papermill": {
     "duration": 0.004924,
     "end_time": "2024-08-21T09:47:25.025955",
     "exception": false,
     "start_time": "2024-08-21T09:47:25.021031",
     "status": "completed"
    },
    "tags": [
     "injected-parameters"
    ]
   },
   "outputs": [],
   "source": [
    "# Parameters\n",
    "comparison_id = 1\n"
   ]
  },
  {
   "cell_type": "code",
   "execution_count": 6,
   "id": "dade2b7e",
   "metadata": {
    "execution": {
     "iopub.execute_input": "2024-08-21T09:47:25.029426Z",
     "iopub.status.busy": "2024-08-21T09:47:25.029212Z",
     "iopub.status.idle": "2024-08-21T09:47:25.055310Z",
     "shell.execute_reply": "2024-08-21T09:47:25.055021Z"
    },
    "papermill": {
     "duration": 0.033952,
     "end_time": "2024-08-21T09:47:25.061402",
     "exception": false,
     "start_time": "2024-08-21T09:47:25.027450",
     "status": "completed"
    },
    "tags": []
   },
   "outputs": [
    {
     "name": "stdout",
     "output_type": "stream",
     "text": [
      "['Customer_id', 'Connection', 'Weight', 'Unit_type', 'Day', 'Week']\n"
     ]
    }
   ],
   "source": [
    "\n",
    "# Load the data\n",
    "comparison_dict = {0: [0,1], 1: [2,3], 2: [4,5]}\n",
    "path_customer_profiles = open('./Results_Experiments/File_Paths/path_customer_profiles.txt','r').read()\n",
    "path_transport_graphics = open('./Results_Experiments/File_Paths/path_transport_graphics.txt','r').read()\n",
    "source = pd.read_csv(f'../{path_customer_profiles}/customer_profile_{comparison_dict[comparison_id][0]}.csv')\n",
    "target = pd.read_csv(f'../{path_customer_profiles}/customer_profile_{comparison_dict[comparison_id][1]}.csv')\n",
    "\n",
    "feature_names = source.columns.values\n",
    "feature_names = list(feature_names)\n",
    "print(feature_names)"
   ]
  },
  {
   "cell_type": "code",
   "execution_count": 7,
   "id": "296df3b5",
   "metadata": {
    "execution": {
     "iopub.execute_input": "2024-08-21T09:47:25.065729Z",
     "iopub.status.busy": "2024-08-21T09:47:25.065591Z",
     "iopub.status.idle": "2024-08-21T09:47:25.109217Z",
     "shell.execute_reply": "2024-08-21T09:47:25.108930Z"
    },
    "papermill": {
     "duration": 0.046445,
     "end_time": "2024-08-21T09:47:25.110253",
     "exception": false,
     "start_time": "2024-08-21T09:47:25.063808",
     "status": "completed"
    },
    "tags": []
   },
   "outputs": [],
   "source": [
    "# standardize the source and target data, and convert to domain labels\n",
    "from sklearn.preprocessing import StandardScaler\n",
    "X = np.concatenate((source, target), axis=0)\n",
    "# standardize X to remove cardinatlity bias\n",
    "X = StandardScaler().fit_transform(X)\n",
    "y = np.concatenate((np.zeros(source.shape[0]),\n",
    "                    np.ones(target.shape[0])), axis=0)  # domain labels"
   ]
  },
  {
   "cell_type": "code",
   "execution_count": 8,
   "id": "c5422e1f",
   "metadata": {
    "execution": {
     "iopub.execute_input": "2024-08-21T09:47:25.113797Z",
     "iopub.status.busy": "2024-08-21T09:47:25.113629Z",
     "iopub.status.idle": "2024-08-21T09:47:25.180231Z",
     "shell.execute_reply": "2024-08-21T09:47:25.179914Z"
    },
    "papermill": {
     "duration": 0.069326,
     "end_time": "2024-08-21T09:47:25.181245",
     "exception": false,
     "start_time": "2024-08-21T09:47:25.111919",
     "status": "completed"
    },
    "tags": []
   },
   "outputs": [],
   "source": [
    "from sklearn.datasets import make_classification\n",
    "from sklearn.model_selection import train_test_split\n",
    "\n",
    "X_train, X_test, y_train, y_test = train_test_split(X, y,\n",
    "                                     stratify=y, random_state=42)"
   ]
  },
  {
   "cell_type": "code",
   "execution_count": 9,
   "id": "5d9ba299",
   "metadata": {
    "execution": {
     "iopub.execute_input": "2024-08-21T09:47:25.184706Z",
     "iopub.status.busy": "2024-08-21T09:47:25.184555Z",
     "iopub.status.idle": "2024-08-21T09:47:25.199125Z",
     "shell.execute_reply": "2024-08-21T09:47:25.198848Z"
    },
    "papermill": {
     "duration": 0.017264,
     "end_time": "2024-08-21T09:47:25.200001",
     "exception": false,
     "start_time": "2024-08-21T09:47:25.182737",
     "status": "completed"
    },
    "tags": []
   },
   "outputs": [],
   "source": [
    "# Using XGBoost\n",
    "import xgboost\n",
    "\n",
    "def fit_xgboost(X_train, y_train, X_test, y_test, feature_names=None):\n",
    "    \"\"\" Train an XGBoost model with early stopping.\n",
    "    \"\"\"\n",
    "    dtrain = xgboost.DMatrix(X_train, label=y_train, feature_names=feature_names)\n",
    "    dtest = xgboost.DMatrix(X_test, label=y_test, feature_names=feature_names)\n",
    "    # model = xgboost.train(\n",
    "    #     { \"eta\": 0.001, \"subsample\": 0.5, \"max_depth\": 2,\n",
    "    #       \"objective\": 'binary:logistic', 'eval_metric': 'logloss'}, dtrain, num_boost_round=200000,\n",
    "    #     evals=[(dtest,'eval'), (dtrain,'train')], early_stopping_rounds=20, verbose_eval=False\n",
    "    # )\n",
    "    model = xgboost.train(\n",
    "        {\"objective\": 'binary:logistic', 'eval_metric': 'logloss'},\n",
    "        dtrain,\n",
    "        evals=[(dtest,'eval'), (dtrain,'train')],\n",
    "        verbose_eval=False)\n",
    "    return model"
   ]
  },
  {
   "cell_type": "code",
   "execution_count": 10,
   "id": "bd7ac9f1",
   "metadata": {
    "execution": {
     "iopub.execute_input": "2024-08-21T09:47:25.203152Z",
     "iopub.status.busy": "2024-08-21T09:47:25.203047Z",
     "iopub.status.idle": "2024-08-21T09:47:25.243610Z",
     "shell.execute_reply": "2024-08-21T09:47:25.243357Z"
    },
    "papermill": {
     "duration": 0.043167,
     "end_time": "2024-08-21T09:47:25.244534",
     "exception": false,
     "start_time": "2024-08-21T09:47:25.201367",
     "status": "completed"
    },
    "tags": []
   },
   "outputs": [],
   "source": [
    "xgb_forest = fit_xgboost(X_train, y_train, X_test, y_test, feature_names)\n",
    "xgb_forest.feature_names = feature_names"
   ]
  },
  {
   "cell_type": "code",
   "execution_count": 11,
   "id": "dcaa3020",
   "metadata": {
    "execution": {
     "iopub.execute_input": "2024-08-21T09:47:25.248056Z",
     "iopub.status.busy": "2024-08-21T09:47:25.247951Z",
     "iopub.status.idle": "2024-08-21T09:47:25.249778Z",
     "shell.execute_reply": "2024-08-21T09:47:25.249555Z"
    },
    "papermill": {
     "duration": 0.004235,
     "end_time": "2024-08-21T09:47:25.250553",
     "exception": false,
     "start_time": "2024-08-21T09:47:25.246318",
     "status": "completed"
    },
    "tags": []
   },
   "outputs": [],
   "source": [
    "def get_acc(model, samples, labels, feature_names=None):\n",
    "    predictions = (model.predict(xgboost.DMatrix(samples,\n",
    "                                                 feature_names=feature_names)) > 0.5).astype(int)\n",
    "    return (predictions == labels).sum() / predictions.shape[0]"
   ]
  },
  {
   "cell_type": "code",
   "execution_count": 12,
   "id": "7ce6b380",
   "metadata": {
    "execution": {
     "iopub.execute_input": "2024-08-21T09:47:25.253637Z",
     "iopub.status.busy": "2024-08-21T09:47:25.253542Z",
     "iopub.status.idle": "2024-08-21T09:47:25.260997Z",
     "shell.execute_reply": "2024-08-21T09:47:25.260744Z"
    },
    "papermill": {
     "duration": 0.009837,
     "end_time": "2024-08-21T09:47:25.261767",
     "exception": false,
     "start_time": "2024-08-21T09:47:25.251930",
     "status": "completed"
    },
    "tags": []
   },
   "outputs": [
    {
     "name": "stdout",
     "output_type": "stream",
     "text": [
      "Train score: 0.8082505870823394\n",
      "Test score: 0.8029622233316691\n"
     ]
    }
   ],
   "source": [
    "print('Train score:', get_acc(xgb_forest, X_train, y_train, feature_names))\n",
    "print('Test score:', get_acc(xgb_forest, X_test, y_test, feature_names))"
   ]
  },
  {
   "cell_type": "code",
   "execution_count": 13,
   "id": "97a1d2b0",
   "metadata": {
    "execution": {
     "iopub.execute_input": "2024-08-21T09:47:25.265056Z",
     "iopub.status.busy": "2024-08-21T09:47:25.264947Z",
     "iopub.status.idle": "2024-08-21T09:47:25.598378Z",
     "shell.execute_reply": "2024-08-21T09:47:25.598091Z"
    },
    "papermill": {
     "duration": 0.336191,
     "end_time": "2024-08-21T09:47:25.599436",
     "exception": false,
     "start_time": "2024-08-21T09:47:25.263245",
     "status": "completed"
    },
    "tags": []
   },
   "outputs": [],
   "source": [
    "import shap\n",
    "import pandas as pd\n",
    "explainer = shap.Explainer(xgb_forest)\n",
    "\n",
    "shap_values = explainer(pd.DataFrame(X_test, columns=feature_names))\n"
   ]
  },
  {
   "cell_type": "code",
   "execution_count": 14,
   "id": "8e7a54a8",
   "metadata": {
    "execution": {
     "iopub.execute_input": "2024-08-21T09:47:25.603261Z",
     "iopub.status.busy": "2024-08-21T09:47:25.603103Z",
     "iopub.status.idle": "2024-08-21T09:47:26.909211Z",
     "shell.execute_reply": "2024-08-21T09:47:26.908927Z"
    },
    "papermill": {
     "duration": 1.308974,
     "end_time": "2024-08-21T09:47:26.910165",
     "exception": false,
     "start_time": "2024-08-21T09:47:25.601191",
     "status": "completed"
    },
    "tags": []
   },
   "outputs": [
    {
     "data": {
      "image/png": "[encoded data removed]",
      "text/plain": [
       "<Figure size 400x200 with 2 Axes>"
      ]
     },
     "metadata": {},
     "output_type": "display_data"
    }
   ],
   "source": [
    "# Beeswarm plot\n",
    "\n",
    "shap.plots.beeswarm(shap_values, show=False)\n",
    "fig = plt.gcf()\n",
    "fig.set_size_inches(4, 2, forward=True)\n",
    "if save_figures: plt.savefig(\n",
    "    f'../{path_transport_graphics}/logitics_data_on_customer_profile_{comparison_dict[comparison_id][0]} and customer_profile_{comparison_dict[comparison_id][1]}-shap-value.{save_parms[\"format\"]}',\n",
    "    **save_parms\n",
    "    )\n",
    "plt.show()"
   ]
  }
 ],
 "metadata": {
  "kernelspec": {
   "display_name": "Python 3.7.11 ('py37')",
   "language": "python",
   "name": "python3"
  },
  "language_info": {
   "codemirror_mode": {
    "name": "ipython",
    "version": 3
   },
   "file_extension": ".py",
   "mimetype": "text/x-python",
   "name": "python",
   "nbconvert_exporter": "python",
   "pygments_lexer": "ipython3",
   "version": "3.12.0"
  },
  "papermill": {
   "default_parameters": {},
   "duration": 3.754251,
   "end_time": "2024-08-21T09:47:27.331330",
   "environment_variables": {},
   "exception": null,
   "input_path": "experiment_baseline.ipynb",
   "output_path": "./Results_Experiments/Set_lambd_to_0.01/experiment_baseline_2.ipynb",
   "parameters": {
    "comparison_id": 1
   },
   "start_time": "2024-08-21T09:47:23.577079",
   "version": "2.6.0"
  },
  "vscode": {
   "interpreter": {
    "hash": "5ab0220f0ca30ec7bac8a7e209564eceae6d15412b9f87f3c2f91206aa8b151c"
   }
  }
 },
 "nbformat": 4,
 "nbformat_minor": 5
}