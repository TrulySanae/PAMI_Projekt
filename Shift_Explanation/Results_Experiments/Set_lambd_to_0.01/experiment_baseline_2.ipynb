{
 "cells": [
  {
   "cell_type": "code",
   "execution_count": 1,
   "id": "d05cab18",
   "metadata": {
    "execution": {
     "iopub.execute_input": "2024-08-21T12:10:07.568856Z",
     "iopub.status.busy": "2024-08-21T12:10:07.568531Z",
     "iopub.status.idle": "2024-08-21T12:10:08.410331Z",
     "shell.execute_reply": "2024-08-21T12:10:08.410003Z"
    },
    "papermill": {
     "duration": 0.848945,
     "end_time": "2024-08-21T12:10:08.411333",
     "exception": false,
     "start_time": "2024-08-21T12:10:07.562388",
     "status": "completed"
    },
    "tags": []
   },
   "outputs": [],
   "source": [
    "import matplotlib.pyplot as plt\n",
    "import numpy as np\n",
    "import pandas as pd\n",
    "from pathlib import Path\n",
    "import seaborn as sn\n",
    "from data_utils import load_and_preprocess_logistics_data"
   ]
  },
  {
   "cell_type": "code",
   "execution_count": 2,
   "id": "d6302d10",
   "metadata": {
    "execution": {
     "iopub.execute_input": "2024-08-21T12:10:08.414580Z",
     "iopub.status.busy": "2024-08-21T12:10:08.414415Z",
     "iopub.status.idle": "2024-08-21T12:10:08.417027Z",
     "shell.execute_reply": "2024-08-21T12:10:08.416803Z"
    },
    "papermill": {
     "duration": 0.00496,
     "end_time": "2024-08-21T12:10:08.417748",
     "exception": false,
     "start_time": "2024-08-21T12:10:08.412788",
     "status": "completed"
    },
    "tags": []
   },
   "outputs": [],
   "source": [
    "# Setting so that the plots look normal even when using dark-reader\n",
    "sn.set_style(\"whitegrid\")\n",
    "sn.set_context(context=\"paper\", font_scale=2)\n",
    "pal = sn.color_palette(\"Set1\")\n",
    "\n",
    "# Setting up specifics for plotting + saving\n",
    "save_figures = True\n",
    "add_legend = False\n",
    "add_title = False\n",
    "add_axis = False\n",
    "save_parms = {'format': 'pdf','bbox_inches':'tight', 'pad_inches':0.1}\n",
    "line_parms = {'linewidth':4, 'color':'k'}\n",
    "if save_figures:  # saves all figures in a figure directory in the local directory\n",
    "    figure_dir = Path('.') / 'figures' / 'adult-income-experiment'\n",
    "    if not figure_dir.exists():\n",
    "        figure_dir.mkdir(parents=True)"
   ]
  },
  {
   "cell_type": "code",
   "execution_count": 3,
   "id": "22d1d0e0",
   "metadata": {
    "execution": {
     "iopub.execute_input": "2024-08-21T12:10:08.421017Z",
     "iopub.status.busy": "2024-08-21T12:10:08.420888Z",
     "iopub.status.idle": "2024-08-21T12:10:08.423000Z",
     "shell.execute_reply": "2024-08-21T12:10:08.422619Z"
    },
    "papermill": {
     "duration": 0.005105,
     "end_time": "2024-08-21T12:10:08.424049",
     "exception": false,
     "start_time": "2024-08-21T12:10:08.418944",
     "status": "completed"
    },
    "tags": []
   },
   "outputs": [],
   "source": [
    "# Experiment hyperparamters\n",
    "rng = np.random.RandomState(42)\n",
    "split_on_income = False  # if True: src := income>=50k, tgt :+ income<50k, if False: src := male, tgt := female\n",
    "n_samples = 1000"
   ]
  },
  {
   "cell_type": "code",
   "execution_count": 4,
   "id": "48ff09ec",
   "metadata": {
    "execution": {
     "iopub.execute_input": "2024-08-21T12:10:08.427939Z",
     "iopub.status.busy": "2024-08-21T12:10:08.427805Z",
     "iopub.status.idle": "2024-08-21T12:10:08.429417Z",
     "shell.execute_reply": "2024-08-21T12:10:08.429185Z"
    },
    "papermill": {
     "duration": 0.00463,
     "end_time": "2024-08-21T12:10:08.430095",
     "exception": false,
     "start_time": "2024-08-21T12:10:08.425465",
     "status": "completed"
    },
    "tags": [
     "parameters"
    ]
   },
   "outputs": [],
   "source": [
    "comparison_id = None"
   ]
  },
  {
   "cell_type": "code",
   "execution_count": 5,
   "id": "bee2106f",
   "metadata": {
    "execution": {
     "iopub.execute_input": "2024-08-21T12:10:08.432866Z",
     "iopub.status.busy": "2024-08-21T12:10:08.432779Z",
     "iopub.status.idle": "2024-08-21T12:10:08.434210Z",
     "shell.execute_reply": "2024-08-21T12:10:08.433969Z"
    },
    "papermill": {
     "duration": 0.003559,
     "end_time": "2024-08-21T12:10:08.434895",
     "exception": false,
     "start_time": "2024-08-21T12:10:08.431336",
     "status": "completed"
    },
    "tags": [
     "injected-parameters"
    ]
   },
   "outputs": [],
   "source": [
    "# Parameters\n",
    "comparison_id = 1\n"
   ]
  },
  {
   "cell_type": "code",
   "execution_count": 6,
   "id": "dade2b7e",
   "metadata": {
    "execution": {
     "iopub.execute_input": "2024-08-21T12:10:08.437628Z",
     "iopub.status.busy": "2024-08-21T12:10:08.437538Z",
     "iopub.status.idle": "2024-08-21T12:10:08.479616Z",
     "shell.execute_reply": "2024-08-21T12:10:08.479348Z"
    },
    "papermill": {
     "duration": 0.044389,
     "end_time": "2024-08-21T12:10:08.480454",
     "exception": false,
     "start_time": "2024-08-21T12:10:08.436065",
     "status": "completed"
    },
    "tags": []
   },
   "outputs": [
    {
     "name": "stdout",
     "output_type": "stream",
     "text": [
      "Comparing customer_profile_2 and customer_profile_3\n",
      "Finished preprocessing logistic dataset. Split on customer_profile_2 and customer_profile_3 with resulting source shape: (996, 3), target shape: (996, 3).\n",
      "['Connection', 'Weight', 'Unit_type']\n"
     ]
    }
   ],
   "source": [
    "\n",
    "# Load the data\n",
    "comparison_dict = {0: [0,1], 1: [2,3], 2: [4,5]}\n",
    "path_customer_profiles = open('./Results_Experiments/File_Paths/path_customer_profiles.txt','r').read()\n",
    "path_transport_graphics = open('./Results_Experiments/File_Paths/path_transport_graphics.txt','r').read()\n",
    "source = pd.read_csv(f'../{path_customer_profiles}/customer_profile_{comparison_dict[comparison_id][0]}.csv')\n",
    "target = pd.read_csv(f'../{path_customer_profiles}/customer_profile_{comparison_dict[comparison_id][1]}.csv')\n",
    "equal_week_split = True\n",
    "source, target, feature_names = load_and_preprocess_logistics_data(rng, n_samples, return_column_names=True,equal_week_split=equal_week_split, comparison_id=\n",
    "            comparison_id, comparison_dict=comparison_dict)\n",
    "print(feature_names)"
   ]
  },
  {
   "cell_type": "code",
   "execution_count": 7,
   "id": "296df3b5",
   "metadata": {
    "execution": {
     "iopub.execute_input": "2024-08-21T12:10:08.483615Z",
     "iopub.status.busy": "2024-08-21T12:10:08.483519Z",
     "iopub.status.idle": "2024-08-21T12:10:08.486071Z",
     "shell.execute_reply": "2024-08-21T12:10:08.485861Z"
    },
    "papermill": {
     "duration": 0.004904,
     "end_time": "2024-08-21T12:10:08.486812",
     "exception": false,
     "start_time": "2024-08-21T12:10:08.481908",
     "status": "completed"
    },
    "tags": []
   },
   "outputs": [],
   "source": [
    "# standardize the source and target data, and convert to domain labels\n",
    "from sklearn.preprocessing import StandardScaler\n",
    "X = np.concatenate((source, target), axis=0)\n",
    "# standardize X to remove cardinatlity bias\n",
    "X = StandardScaler().fit_transform(X)\n",
    "y = np.concatenate((np.zeros(source.shape[0]),\n",
    "                    np.ones(target.shape[0])), axis=0)  # domain labels"
   ]
  },
  {
   "cell_type": "code",
   "execution_count": 8,
   "id": "c5422e1f",
   "metadata": {
    "execution": {
     "iopub.execute_input": "2024-08-21T12:10:08.489797Z",
     "iopub.status.busy": "2024-08-21T12:10:08.489707Z",
     "iopub.status.idle": "2024-08-21T12:10:08.538864Z",
     "shell.execute_reply": "2024-08-21T12:10:08.538621Z"
    },
    "papermill": {
     "duration": 0.051613,
     "end_time": "2024-08-21T12:10:08.539731",
     "exception": false,
     "start_time": "2024-08-21T12:10:08.488118",
     "status": "completed"
    },
    "tags": []
   },
   "outputs": [],
   "source": [
    "from sklearn.datasets import make_classification\n",
    "from sklearn.model_selection import train_test_split\n",
    "\n",
    "X_train, X_test, y_train, y_test = train_test_split(X, y,\n",
    "                                     stratify=y, random_state=42)"
   ]
  },
  {
   "cell_type": "code",
   "execution_count": 9,
   "id": "5d9ba299",
   "metadata": {
    "execution": {
     "iopub.execute_input": "2024-08-21T12:10:08.543064Z",
     "iopub.status.busy": "2024-08-21T12:10:08.542914Z",
     "iopub.status.idle": "2024-08-21T12:10:08.556877Z",
     "shell.execute_reply": "2024-08-21T12:10:08.556629Z"
    },
    "papermill": {
     "duration": 0.016535,
     "end_time": "2024-08-21T12:10:08.557757",
     "exception": false,
     "start_time": "2024-08-21T12:10:08.541222",
     "status": "completed"
    },
    "tags": []
   },
   "outputs": [],
   "source": [
    "# Using XGBoost\n",
    "import xgboost\n",
    "\n",
    "def fit_xgboost(X_train, y_train, X_test, y_test, feature_names=None):\n",
    "    \"\"\" Train an XGBoost model with early stopping.\n",
    "    \"\"\"\n",
    "    dtrain = xgboost.DMatrix(X_train, label=y_train, feature_names=feature_names)\n",
    "    dtest = xgboost.DMatrix(X_test, label=y_test, feature_names=feature_names)\n",
    "    # model = xgboost.train(\n",
    "    #     { \"eta\": 0.001, \"subsample\": 0.5, \"max_depth\": 2,\n",
    "    #       \"objective\": 'binary:logistic', 'eval_metric': 'logloss'}, dtrain, num_boost_round=200000,\n",
    "    #     evals=[(dtest,'eval'), (dtrain,'train')], early_stopping_rounds=20, verbose_eval=False\n",
    "    # )\n",
    "    model = xgboost.train(\n",
    "        {\"objective\": 'binary:logistic', 'eval_metric': 'logloss'},\n",
    "        dtrain,\n",
    "        evals=[(dtest,'eval'), (dtrain,'train')],\n",
    "        verbose_eval=False)\n",
    "    return model"
   ]
  },
  {
   "cell_type": "code",
   "execution_count": 10,
   "id": "bd7ac9f1",
   "metadata": {
    "execution": {
     "iopub.execute_input": "2024-08-21T12:10:08.561201Z",
     "iopub.status.busy": "2024-08-21T12:10:08.561081Z",
     "iopub.status.idle": "2024-08-21T12:10:08.577279Z",
     "shell.execute_reply": "2024-08-21T12:10:08.576957Z"
    },
    "papermill": {
     "duration": 0.018979,
     "end_time": "2024-08-21T12:10:08.578134",
     "exception": false,
     "start_time": "2024-08-21T12:10:08.559155",
     "status": "completed"
    },
    "tags": []
   },
   "outputs": [],
   "source": [
    "xgb_forest = fit_xgboost(X_train, y_train, X_test, y_test, feature_names)\n",
    "xgb_forest.feature_names = feature_names"
   ]
  },
  {
   "cell_type": "code",
   "execution_count": 11,
   "id": "dcaa3020",
   "metadata": {
    "execution": {
     "iopub.execute_input": "2024-08-21T12:10:08.581231Z",
     "iopub.status.busy": "2024-08-21T12:10:08.581123Z",
     "iopub.status.idle": "2024-08-21T12:10:08.582960Z",
     "shell.execute_reply": "2024-08-21T12:10:08.582739Z"
    },
    "papermill": {
     "duration": 0.004147,
     "end_time": "2024-08-21T12:10:08.583663",
     "exception": false,
     "start_time": "2024-08-21T12:10:08.579516",
     "status": "completed"
    },
    "tags": []
   },
   "outputs": [],
   "source": [
    "def get_acc(model, samples, labels, feature_names=None):\n",
    "    predictions = (model.predict(xgboost.DMatrix(samples,\n",
    "                                                 feature_names=feature_names)) > 0.5).astype(int)\n",
    "    return (predictions == labels).sum() / predictions.shape[0]"
   ]
  },
  {
   "cell_type": "code",
   "execution_count": 12,
   "id": "7ce6b380",
   "metadata": {
    "execution": {
     "iopub.execute_input": "2024-08-21T12:10:08.586667Z",
     "iopub.status.busy": "2024-08-21T12:10:08.586567Z",
     "iopub.status.idle": "2024-08-21T12:10:08.589312Z",
     "shell.execute_reply": "2024-08-21T12:10:08.589101Z"
    },
    "papermill": {
     "duration": 0.005089,
     "end_time": "2024-08-21T12:10:08.590046",
     "exception": false,
     "start_time": "2024-08-21T12:10:08.584957",
     "status": "completed"
    },
    "tags": []
   },
   "outputs": [
    {
     "name": "stdout",
     "output_type": "stream",
     "text": [
      "Train score: 0.7329317269076305\n",
      "Test score: 0.6144578313253012\n"
     ]
    }
   ],
   "source": [
    "print('Train score:', get_acc(xgb_forest, X_train, y_train, feature_names))\n",
    "print('Test score:', get_acc(xgb_forest, X_test, y_test, feature_names))"
   ]
  },
  {
   "cell_type": "code",
   "execution_count": 13,
   "id": "97a1d2b0",
   "metadata": {
    "execution": {
     "iopub.execute_input": "2024-08-21T12:10:08.593081Z",
     "iopub.status.busy": "2024-08-21T12:10:08.592980Z",
     "iopub.status.idle": "2024-08-21T12:10:08.865983Z",
     "shell.execute_reply": "2024-08-21T12:10:08.865659Z"
    },
    "papermill": {
     "duration": 0.275636,
     "end_time": "2024-08-21T12:10:08.867004",
     "exception": false,
     "start_time": "2024-08-21T12:10:08.591368",
     "status": "completed"
    },
    "tags": []
   },
   "outputs": [],
   "source": [
    "import shap\n",
    "import pandas as pd\n",
    "explainer = shap.Explainer(xgb_forest)\n",
    "\n",
    "shap_values = explainer(pd.DataFrame(X_test, columns=feature_names))\n"
   ]
  },
  {
   "cell_type": "code",
   "execution_count": 14,
   "id": "8e7a54a8",
   "metadata": {
    "execution": {
     "iopub.execute_input": "2024-08-21T12:10:08.870553Z",
     "iopub.status.busy": "2024-08-21T12:10:08.870359Z",
     "iopub.status.idle": "2024-08-21T12:10:09.210065Z",
     "shell.execute_reply": "2024-08-21T12:10:09.209796Z"
    },
    "papermill": {
     "duration": 0.342328,
     "end_time": "2024-08-21T12:10:09.210902",
     "exception": false,
     "start_time": "2024-08-21T12:10:08.868574",
     "status": "completed"
    },
    "tags": []
   },
   "outputs": [
    {
     "data": {
      "image/png": "[encoded data removed]",
      "text/plain": [
       "<Figure size 400x100 with 2 Axes>"
      ]
     },
     "metadata": {},
     "output_type": "display_data"
    }
   ],
   "source": [
    "# Beeswarm plot\n",
    "\n",
    "shap.plots.beeswarm(shap_values, show=False)\n",
    "fig = plt.gcf()\n",
    "fig.set_size_inches(4, 1, forward=True)\n",
    "if save_figures: plt.savefig(\n",
    "    f'../{path_transport_graphics}/logitics_data_on_customer_profile_{comparison_dict[comparison_id][0]} and customer_profile_{comparison_dict[comparison_id][1]}-shap-value.{save_parms[\"format\"]}',\n",
    "    **save_parms\n",
    "    )\n",
    "plt.show()"
   ]
  }
 ],
 "metadata": {
  "kernelspec": {
   "display_name": "Python 3.7.11 ('py37')",
   "language": "python",
   "name": "python3"
  },
  "language_info": {
   "codemirror_mode": {
    "name": "ipython",
    "version": 3
   },
   "file_extension": ".py",
   "mimetype": "text/x-python",
   "name": "python",
   "nbconvert_exporter": "python",
   "pygments_lexer": "ipython3",
   "version": "3.12.0"
  },
  "papermill": {
   "default_parameters": {},
   "duration": 2.727403,
   "end_time": "2024-08-21T12:10:09.529336",
   "environment_variables": {},
   "exception": null,
   "input_path": "experiment_baseline.ipynb",
   "output_path": "./Results_Experiments/Set_lambd_to_0.01/experiment_baseline_2.ipynb",
   "parameters": {
    "comparison_id": 1
   },
   "start_time": "2024-08-21T12:10:06.801933",
   "version": "2.6.0"
  },
  "vscode": {
   "interpreter": {
    "hash": "5ab0220f0ca30ec7bac8a7e209564eceae6d15412b9f87f3c2f91206aa8b151c"
   }
  }
 },
 "nbformat": 4,
 "nbformat_minor": 5
}