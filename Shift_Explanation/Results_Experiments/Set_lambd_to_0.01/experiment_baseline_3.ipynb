{
 "cells": [
  {
   "cell_type": "code",
   "execution_count": 1,
   "id": "d05cab18",
   "metadata": {
    "execution": {
     "iopub.execute_input": "2024-08-21T09:47:28.041231Z",
     "iopub.status.busy": "2024-08-21T09:47:28.040908Z",
     "iopub.status.idle": "2024-08-21T09:47:28.935173Z",
     "shell.execute_reply": "2024-08-21T09:47:28.934751Z"
    },
    "papermill": {
     "duration": 0.913286,
     "end_time": "2024-08-21T09:47:28.937034",
     "exception": false,
     "start_time": "2024-08-21T09:47:28.023748",
     "status": "completed"
    },
    "tags": []
   },
   "outputs": [],
   "source": [
    "import matplotlib.pyplot as plt\n",
    "import numpy as np\n",
    "import pandas as pd\n",
    "from pathlib import Path\n",
    "import seaborn as sn\n"
   ]
  },
  {
   "cell_type": "code",
   "execution_count": 2,
   "id": "d6302d10",
   "metadata": {
    "execution": {
     "iopub.execute_input": "2024-08-21T09:47:28.940604Z",
     "iopub.status.busy": "2024-08-21T09:47:28.940429Z",
     "iopub.status.idle": "2024-08-21T09:47:28.943145Z",
     "shell.execute_reply": "2024-08-21T09:47:28.942912Z"
    },
    "papermill": {
     "duration": 0.005241,
     "end_time": "2024-08-21T09:47:28.943915",
     "exception": false,
     "start_time": "2024-08-21T09:47:28.938674",
     "status": "completed"
    },
    "tags": []
   },
   "outputs": [],
   "source": [
    "# Setting so that the plots look normal even when using dark-reader\n",
    "sn.set_style(\"whitegrid\")\n",
    "sn.set_context(context=\"paper\", font_scale=2)\n",
    "pal = sn.color_palette(\"Set1\")\n",
    "\n",
    "# Setting up specifics for plotting + saving\n",
    "save_figures = True\n",
    "add_legend = False\n",
    "add_title = False\n",
    "add_axis = False\n",
    "save_parms = {'format': 'pdf','bbox_inches':'tight', 'pad_inches':0.1}\n",
    "line_parms = {'linewidth':4, 'color':'k'}\n",
    "if save_figures:  # saves all figures in a figure directory in the local directory\n",
    "    figure_dir = Path('.') / 'figures' / 'adult-income-experiment'\n",
    "    if not figure_dir.exists():\n",
    "        figure_dir.mkdir(parents=True)"
   ]
  },
  {
   "cell_type": "code",
   "execution_count": 3,
   "id": "22d1d0e0",
   "metadata": {
    "execution": {
     "iopub.execute_input": "2024-08-21T09:47:28.947027Z",
     "iopub.status.busy": "2024-08-21T09:47:28.946904Z",
     "iopub.status.idle": "2024-08-21T09:47:28.948805Z",
     "shell.execute_reply": "2024-08-21T09:47:28.948588Z"
    },
    "papermill": {
     "duration": 0.004157,
     "end_time": "2024-08-21T09:47:28.949464",
     "exception": false,
     "start_time": "2024-08-21T09:47:28.945307",
     "status": "completed"
    },
    "tags": []
   },
   "outputs": [],
   "source": [
    "# Experiment hyperparamters\n",
    "rng = np.random.RandomState(42)\n",
    "split_on_income = False  # if True: src := income>=50k, tgt :+ income<50k, if False: src := male, tgt := female\n",
    "n_samples = 1000"
   ]
  },
  {
   "cell_type": "code",
   "execution_count": 4,
   "id": "48ff09ec",
   "metadata": {
    "execution": {
     "iopub.execute_input": "2024-08-21T09:47:28.953471Z",
     "iopub.status.busy": "2024-08-21T09:47:28.953327Z",
     "iopub.status.idle": "2024-08-21T09:47:28.955253Z",
     "shell.execute_reply": "2024-08-21T09:47:28.954819Z"
    },
    "papermill": {
     "duration": 0.005431,
     "end_time": "2024-08-21T09:47:28.956125",
     "exception": false,
     "start_time": "2024-08-21T09:47:28.950694",
     "status": "completed"
    },
    "tags": [
     "parameters"
    ]
   },
   "outputs": [],
   "source": [
    "comparison_id = None"
   ]
  },
  {
   "cell_type": "code",
   "execution_count": 5,
   "id": "983fc8fc",
   "metadata": {
    "execution": {
     "iopub.execute_input": "2024-08-21T09:47:28.959467Z",
     "iopub.status.busy": "2024-08-21T09:47:28.959339Z",
     "iopub.status.idle": "2024-08-21T09:47:28.961071Z",
     "shell.execute_reply": "2024-08-21T09:47:28.960787Z"
    },
    "papermill": {
     "duration": 0.004345,
     "end_time": "2024-08-21T09:47:28.961897",
     "exception": false,
     "start_time": "2024-08-21T09:47:28.957552",
     "status": "completed"
    },
    "tags": [
     "injected-parameters"
    ]
   },
   "outputs": [],
   "source": [
    "# Parameters\n",
    "comparison_id = 2\n"
   ]
  },
  {
   "cell_type": "code",
   "execution_count": 6,
   "id": "dade2b7e",
   "metadata": {
    "execution": {
     "iopub.execute_input": "2024-08-21T09:47:28.966680Z",
     "iopub.status.busy": "2024-08-21T09:47:28.966497Z",
     "iopub.status.idle": "2024-08-21T09:47:28.990237Z",
     "shell.execute_reply": "2024-08-21T09:47:28.989834Z"
    },
    "papermill": {
     "duration": 0.027885,
     "end_time": "2024-08-21T09:47:28.991464",
     "exception": false,
     "start_time": "2024-08-21T09:47:28.963579",
     "status": "completed"
    },
    "tags": []
   },
   "outputs": [
    {
     "name": "stdout",
     "output_type": "stream",
     "text": [
      "['Customer_id', 'Connection', 'Weight', 'Unit_type', 'Day', 'Week']\n"
     ]
    }
   ],
   "source": [
    "\n",
    "# Load the data\n",
    "comparison_dict = {0: [0,1], 1: [2,3], 2: [4,5]}\n",
    "path_customer_profiles = open('./Results_Experiments/File_Paths/path_customer_profiles.txt','r').read()\n",
    "path_transport_graphics = open('./Results_Experiments/File_Paths/path_transport_graphics.txt','r').read()\n",
    "source = pd.read_csv(f'../{path_customer_profiles}/customer_profile_{comparison_dict[comparison_id][0]}.csv')\n",
    "target = pd.read_csv(f'../{path_customer_profiles}/customer_profile_{comparison_dict[comparison_id][1]}.csv')\n",
    "\n",
    "feature_names = source.columns.values\n",
    "feature_names = list(feature_names)\n",
    "print(feature_names)"
   ]
  },
  {
   "cell_type": "code",
   "execution_count": 7,
   "id": "296df3b5",
   "metadata": {
    "execution": {
     "iopub.execute_input": "2024-08-21T09:47:28.995104Z",
     "iopub.status.busy": "2024-08-21T09:47:28.994886Z",
     "iopub.status.idle": "2024-08-21T09:47:29.029460Z",
     "shell.execute_reply": "2024-08-21T09:47:29.029113Z"
    },
    "papermill": {
     "duration": 0.037413,
     "end_time": "2024-08-21T09:47:29.030469",
     "exception": false,
     "start_time": "2024-08-21T09:47:28.993056",
     "status": "completed"
    },
    "tags": []
   },
   "outputs": [],
   "source": [
    "# standardize the source and target data, and convert to domain labels\n",
    "from sklearn.preprocessing import StandardScaler\n",
    "X = np.concatenate((source, target), axis=0)\n",
    "# standardize X to remove cardinatlity bias\n",
    "X = StandardScaler().fit_transform(X)\n",
    "y = np.concatenate((np.zeros(source.shape[0]),\n",
    "                    np.ones(target.shape[0])), axis=0)  # domain labels"
   ]
  },
  {
   "cell_type": "code",
   "execution_count": 8,
   "id": "c5422e1f",
   "metadata": {
    "execution": {
     "iopub.execute_input": "2024-08-21T09:47:29.033770Z",
     "iopub.status.busy": "2024-08-21T09:47:29.033624Z",
     "iopub.status.idle": "2024-08-21T09:47:29.092416Z",
     "shell.execute_reply": "2024-08-21T09:47:29.092153Z"
    },
    "papermill": {
     "duration": 0.061472,
     "end_time": "2024-08-21T09:47:29.093388",
     "exception": false,
     "start_time": "2024-08-21T09:47:29.031916",
     "status": "completed"
    },
    "tags": []
   },
   "outputs": [],
   "source": [
    "from sklearn.datasets import make_classification\n",
    "from sklearn.model_selection import train_test_split\n",
    "\n",
    "X_train, X_test, y_train, y_test = train_test_split(X, y,\n",
    "                                     stratify=y, random_state=42)"
   ]
  },
  {
   "cell_type": "code",
   "execution_count": 9,
   "id": "5d9ba299",
   "metadata": {
    "execution": {
     "iopub.execute_input": "2024-08-21T09:47:29.096878Z",
     "iopub.status.busy": "2024-08-21T09:47:29.096717Z",
     "iopub.status.idle": "2024-08-21T09:47:29.120380Z",
     "shell.execute_reply": "2024-08-21T09:47:29.120100Z"
    },
    "papermill": {
     "duration": 0.026401,
     "end_time": "2024-08-21T09:47:29.121315",
     "exception": false,
     "start_time": "2024-08-21T09:47:29.094914",
     "status": "completed"
    },
    "tags": []
   },
   "outputs": [],
   "source": [
    "# Using XGBoost\n",
    "import xgboost\n",
    "\n",
    "def fit_xgboost(X_train, y_train, X_test, y_test, feature_names=None):\n",
    "    \"\"\" Train an XGBoost model with early stopping.\n",
    "    \"\"\"\n",
    "    dtrain = xgboost.DMatrix(X_train, label=y_train, feature_names=feature_names)\n",
    "    dtest = xgboost.DMatrix(X_test, label=y_test, feature_names=feature_names)\n",
    "    # model = xgboost.train(\n",
    "    #     { \"eta\": 0.001, \"subsample\": 0.5, \"max_depth\": 2,\n",
    "    #       \"objective\": 'binary:logistic', 'eval_metric': 'logloss'}, dtrain, num_boost_round=200000,\n",
    "    #     evals=[(dtest,'eval'), (dtrain,'train')], early_stopping_rounds=20, verbose_eval=False\n",
    "    # )\n",
    "    model = xgboost.train(\n",
    "        {\"objective\": 'binary:logistic', 'eval_metric': 'logloss'},\n",
    "        dtrain,\n",
    "        evals=[(dtest,'eval'), (dtrain,'train')],\n",
    "        verbose_eval=False)\n",
    "    return model"
   ]
  },
  {
   "cell_type": "code",
   "execution_count": 10,
   "id": "bd7ac9f1",
   "metadata": {
    "execution": {
     "iopub.execute_input": "2024-08-21T09:47:29.124449Z",
     "iopub.status.busy": "2024-08-21T09:47:29.124267Z",
     "iopub.status.idle": "2024-08-21T09:47:29.167662Z",
     "shell.execute_reply": "2024-08-21T09:47:29.167366Z"
    },
    "papermill": {
     "duration": 0.045946,
     "end_time": "2024-08-21T09:47:29.168648",
     "exception": false,
     "start_time": "2024-08-21T09:47:29.122702",
     "status": "completed"
    },
    "tags": []
   },
   "outputs": [],
   "source": [
    "xgb_forest = fit_xgboost(X_train, y_train, X_test, y_test, feature_names)\n",
    "xgb_forest.feature_names = feature_names"
   ]
  },
  {
   "cell_type": "code",
   "execution_count": 11,
   "id": "dcaa3020",
   "metadata": {
    "execution": {
     "iopub.execute_input": "2024-08-21T09:47:29.171829Z",
     "iopub.status.busy": "2024-08-21T09:47:29.171719Z",
     "iopub.status.idle": "2024-08-21T09:47:29.173543Z",
     "shell.execute_reply": "2024-08-21T09:47:29.173326Z"
    },
    "papermill": {
     "duration": 0.004237,
     "end_time": "2024-08-21T09:47:29.174326",
     "exception": false,
     "start_time": "2024-08-21T09:47:29.170089",
     "status": "completed"
    },
    "tags": []
   },
   "outputs": [],
   "source": [
    "def get_acc(model, samples, labels, feature_names=None):\n",
    "    predictions = (model.predict(xgboost.DMatrix(samples,\n",
    "                                                 feature_names=feature_names)) > 0.5).astype(int)\n",
    "    return (predictions == labels).sum() / predictions.shape[0]"
   ]
  },
  {
   "cell_type": "code",
   "execution_count": 12,
   "id": "7ce6b380",
   "metadata": {
    "execution": {
     "iopub.execute_input": "2024-08-21T09:47:29.177439Z",
     "iopub.status.busy": "2024-08-21T09:47:29.177343Z",
     "iopub.status.idle": "2024-08-21T09:47:29.183978Z",
     "shell.execute_reply": "2024-08-21T09:47:29.183722Z"
    },
    "papermill": {
     "duration": 0.008971,
     "end_time": "2024-08-21T09:47:29.184672",
     "exception": false,
     "start_time": "2024-08-21T09:47:29.175701",
     "status": "completed"
    },
    "tags": []
   },
   "outputs": [
    {
     "name": "stdout",
     "output_type": "stream",
     "text": [
      "Train score: 0.8444410436911776\n",
      "Test score: 0.8352461838631929\n"
     ]
    }
   ],
   "source": [
    "print('Train score:', get_acc(xgb_forest, X_train, y_train, feature_names))\n",
    "print('Test score:', get_acc(xgb_forest, X_test, y_test, feature_names))"
   ]
  },
  {
   "cell_type": "code",
   "execution_count": 13,
   "id": "97a1d2b0",
   "metadata": {
    "execution": {
     "iopub.execute_input": "2024-08-21T09:47:29.187690Z",
     "iopub.status.busy": "2024-08-21T09:47:29.187598Z",
     "iopub.status.idle": "2024-08-21T09:47:29.519688Z",
     "shell.execute_reply": "2024-08-21T09:47:29.519434Z"
    },
    "papermill": {
     "duration": 0.33459,
     "end_time": "2024-08-21T09:47:29.520646",
     "exception": false,
     "start_time": "2024-08-21T09:47:29.186056",
     "status": "completed"
    },
    "tags": []
   },
   "outputs": [],
   "source": [
    "import shap\n",
    "import pandas as pd\n",
    "explainer = shap.Explainer(xgb_forest)\n",
    "\n",
    "shap_values = explainer(pd.DataFrame(X_test, columns=feature_names))\n"
   ]
  },
  {
   "cell_type": "code",
   "execution_count": 14,
   "id": "8e7a54a8",
   "metadata": {
    "execution": {
     "iopub.execute_input": "2024-08-21T09:47:29.524052Z",
     "iopub.status.busy": "2024-08-21T09:47:29.523897Z",
     "iopub.status.idle": "2024-08-21T09:47:30.843564Z",
     "shell.execute_reply": "2024-08-21T09:47:30.843260Z"
    },
    "papermill": {
     "duration": 1.322228,
     "end_time": "2024-08-21T09:47:30.844443",
     "exception": false,
     "start_time": "2024-08-21T09:47:29.522215",
     "status": "completed"
    },
    "tags": []
   },
   "outputs": [
    {
     "data": {
      "image/png": "[encoded data removed]",
      "text/plain": [
       "<Figure size 400x200 with 2 Axes>"
      ]
     },
     "metadata": {},
     "output_type": "display_data"
    }
   ],
   "source": [
    "# Beeswarm plot\n",
    "\n",
    "shap.plots.beeswarm(shap_values, show=False)\n",
    "fig = plt.gcf()\n",
    "fig.set_size_inches(4, 2, forward=True)\n",
    "if save_figures: plt.savefig(\n",
    "    f'../{path_transport_graphics}/logitics_data_on_customer_profile_{comparison_dict[comparison_id][0]} and customer_profile_{comparison_dict[comparison_id][1]}-shap-value.{save_parms[\"format\"]}',\n",
    "    **save_parms\n",
    "    )\n",
    "plt.show()"
   ]
  }
 ],
 "metadata": {
  "kernelspec": {
   "display_name": "Python 3.7.11 ('py37')",
   "language": "python",
   "name": "python3"
  },
  "language_info": {
   "codemirror_mode": {
    "name": "ipython",
    "version": 3
   },
   "file_extension": ".py",
   "mimetype": "text/x-python",
   "name": "python",
   "nbconvert_exporter": "python",
   "pygments_lexer": "ipython3",
   "version": "3.12.0"
  },
  "papermill": {
   "default_parameters": {},
   "duration": 3.824442,
   "end_time": "2024-08-21T09:47:31.164667",
   "environment_variables": {},
   "exception": null,
   "input_path": "experiment_baseline.ipynb",
   "output_path": "./Results_Experiments/Set_lambd_to_0.01/experiment_baseline_3.ipynb",
   "parameters": {
    "comparison_id": 2
   },
   "start_time": "2024-08-21T09:47:27.340225",
   "version": "2.6.0"
  },
  "vscode": {
   "interpreter": {
    "hash": "5ab0220f0ca30ec7bac8a7e209564eceae6d15412b9f87f3c2f91206aa8b151c"
   }
  }
 },
 "nbformat": 4,
 "nbformat_minor": 5
}