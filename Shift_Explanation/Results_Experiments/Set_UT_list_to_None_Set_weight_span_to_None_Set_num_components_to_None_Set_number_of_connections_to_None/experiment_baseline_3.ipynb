{
 "cells": [
  {
   "cell_type": "code",
   "execution_count": 1,
   "id": "d05cab18",
   "metadata": {
    "execution": {
     "iopub.execute_input": "2024-08-21T09:49:16.434125Z",
     "iopub.status.busy": "2024-08-21T09:49:16.433931Z",
     "iopub.status.idle": "2024-08-21T09:49:17.238023Z",
     "shell.execute_reply": "2024-08-21T09:49:17.237727Z"
    },
    "papermill": {
     "duration": 0.808047,
     "end_time": "2024-08-21T09:49:17.239036",
     "exception": false,
     "start_time": "2024-08-21T09:49:16.430989",
     "status": "completed"
    },
    "tags": []
   },
   "outputs": [],
   "source": [
    "import matplotlib.pyplot as plt\n",
    "import numpy as np\n",
    "import pandas as pd\n",
    "from pathlib import Path\n",
    "import seaborn as sn\n"
   ]
  },
  {
   "cell_type": "code",
   "execution_count": 2,
   "id": "d6302d10",
   "metadata": {
    "execution": {
     "iopub.execute_input": "2024-08-21T09:49:17.242349Z",
     "iopub.status.busy": "2024-08-21T09:49:17.242208Z",
     "iopub.status.idle": "2024-08-21T09:49:17.244967Z",
     "shell.execute_reply": "2024-08-21T09:49:17.244746Z"
    },
    "papermill": {
     "duration": 0.005261,
     "end_time": "2024-08-21T09:49:17.245775",
     "exception": false,
     "start_time": "2024-08-21T09:49:17.240514",
     "status": "completed"
    },
    "tags": []
   },
   "outputs": [],
   "source": [
    "# Setting so that the plots look normal even when using dark-reader\n",
    "sn.set_style(\"whitegrid\")\n",
    "sn.set_context(context=\"paper\", font_scale=2)\n",
    "pal = sn.color_palette(\"Set1\")\n",
    "\n",
    "# Setting up specifics for plotting + saving\n",
    "save_figures = True\n",
    "add_legend = False\n",
    "add_title = False\n",
    "add_axis = False\n",
    "save_parms = {'format': 'pdf','bbox_inches':'tight', 'pad_inches':0.1}\n",
    "line_parms = {'linewidth':4, 'color':'k'}\n",
    "if save_figures:  # saves all figures in a figure directory in the local directory\n",
    "    figure_dir = Path('.') / 'figures' / 'adult-income-experiment'\n",
    "    if not figure_dir.exists():\n",
    "        figure_dir.mkdir(parents=True)"
   ]
  },
  {
   "cell_type": "code",
   "execution_count": 3,
   "id": "22d1d0e0",
   "metadata": {
    "execution": {
     "iopub.execute_input": "2024-08-21T09:49:17.249298Z",
     "iopub.status.busy": "2024-08-21T09:49:17.249071Z",
     "iopub.status.idle": "2024-08-21T09:49:17.250970Z",
     "shell.execute_reply": "2024-08-21T09:49:17.250734Z"
    },
    "papermill": {
     "duration": 0.004918,
     "end_time": "2024-08-21T09:49:17.252181",
     "exception": false,
     "start_time": "2024-08-21T09:49:17.247263",
     "status": "completed"
    },
    "tags": []
   },
   "outputs": [],
   "source": [
    "# Experiment hyperparamters\n",
    "rng = np.random.RandomState(42)\n",
    "split_on_income = False  # if True: src := income>=50k, tgt :+ income<50k, if False: src := male, tgt := female\n",
    "n_samples = 1000"
   ]
  },
  {
   "cell_type": "code",
   "execution_count": 4,
   "id": "48ff09ec",
   "metadata": {
    "execution": {
     "iopub.execute_input": "2024-08-21T09:49:17.255396Z",
     "iopub.status.busy": "2024-08-21T09:49:17.255270Z",
     "iopub.status.idle": "2024-08-21T09:49:17.256875Z",
     "shell.execute_reply": "2024-08-21T09:49:17.256653Z"
    },
    "papermill": {
     "duration": 0.004031,
     "end_time": "2024-08-21T09:49:17.257645",
     "exception": false,
     "start_time": "2024-08-21T09:49:17.253614",
     "status": "completed"
    },
    "tags": [
     "parameters"
    ]
   },
   "outputs": [],
   "source": [
    "comparison_id = None"
   ]
  },
  {
   "cell_type": "code",
   "execution_count": 5,
   "id": "ec867bd7",
   "metadata": {
    "execution": {
     "iopub.execute_input": "2024-08-21T09:49:17.260404Z",
     "iopub.status.busy": "2024-08-21T09:49:17.260317Z",
     "iopub.status.idle": "2024-08-21T09:49:17.261703Z",
     "shell.execute_reply": "2024-08-21T09:49:17.261516Z"
    },
    "papermill": {
     "duration": 0.003547,
     "end_time": "2024-08-21T09:49:17.262413",
     "exception": false,
     "start_time": "2024-08-21T09:49:17.258866",
     "status": "completed"
    },
    "tags": [
     "injected-parameters"
    ]
   },
   "outputs": [],
   "source": [
    "# Parameters\n",
    "comparison_id = 2\n"
   ]
  },
  {
   "cell_type": "code",
   "execution_count": 6,
   "id": "dade2b7e",
   "metadata": {
    "execution": {
     "iopub.execute_input": "2024-08-21T09:49:17.265372Z",
     "iopub.status.busy": "2024-08-21T09:49:17.265278Z",
     "iopub.status.idle": "2024-08-21T09:49:17.277087Z",
     "shell.execute_reply": "2024-08-21T09:49:17.276763Z"
    },
    "papermill": {
     "duration": 0.01435,
     "end_time": "2024-08-21T09:49:17.277944",
     "exception": false,
     "start_time": "2024-08-21T09:49:17.263594",
     "status": "completed"
    },
    "tags": []
   },
   "outputs": [
    {
     "name": "stdout",
     "output_type": "stream",
     "text": [
      "['Customer_id', 'Connection', 'Weight', 'Unit_type', 'Day', 'Week']\n"
     ]
    }
   ],
   "source": [
    "\n",
    "# Load the data\n",
    "comparison_dict = {0: [0,1], 1: [2,3], 2: [4,5]}\n",
    "path_customer_profiles = open('./Results_Experiments/File_Paths/path_customer_profiles.txt','r').read()\n",
    "path_transport_graphics = open('./Results_Experiments/File_Paths/path_transport_graphics.txt','r').read()\n",
    "source = pd.read_csv(f'../{path_customer_profiles}/customer_profile_{comparison_dict[comparison_id][0]}.csv')\n",
    "target = pd.read_csv(f'../{path_customer_profiles}/customer_profile_{comparison_dict[comparison_id][1]}.csv')\n",
    "\n",
    "feature_names = source.columns.values\n",
    "feature_names = list(feature_names)\n",
    "print(feature_names)"
   ]
  },
  {
   "cell_type": "code",
   "execution_count": 7,
   "id": "296df3b5",
   "metadata": {
    "execution": {
     "iopub.execute_input": "2024-08-21T09:49:17.281635Z",
     "iopub.status.busy": "2024-08-21T09:49:17.281523Z",
     "iopub.status.idle": "2024-08-21T09:49:17.318658Z",
     "shell.execute_reply": "2024-08-21T09:49:17.318369Z"
    },
    "papermill": {
     "duration": 0.039835,
     "end_time": "2024-08-21T09:49:17.319684",
     "exception": false,
     "start_time": "2024-08-21T09:49:17.279849",
     "status": "completed"
    },
    "tags": []
   },
   "outputs": [],
   "source": [
    "# standardize the source and target data, and convert to domain labels\n",
    "from sklearn.preprocessing import StandardScaler\n",
    "X = np.concatenate((source, target), axis=0)\n",
    "# standardize X to remove cardinatlity bias\n",
    "X = StandardScaler().fit_transform(X)\n",
    "y = np.concatenate((np.zeros(source.shape[0]),\n",
    "                    np.ones(target.shape[0])), axis=0)  # domain labels"
   ]
  },
  {
   "cell_type": "code",
   "execution_count": 8,
   "id": "c5422e1f",
   "metadata": {
    "execution": {
     "iopub.execute_input": "2024-08-21T09:49:17.322967Z",
     "iopub.status.busy": "2024-08-21T09:49:17.322794Z",
     "iopub.status.idle": "2024-08-21T09:49:17.376312Z",
     "shell.execute_reply": "2024-08-21T09:49:17.376055Z"
    },
    "papermill": {
     "duration": 0.056081,
     "end_time": "2024-08-21T09:49:17.377250",
     "exception": false,
     "start_time": "2024-08-21T09:49:17.321169",
     "status": "completed"
    },
    "tags": []
   },
   "outputs": [],
   "source": [
    "from sklearn.datasets import make_classification\n",
    "from sklearn.model_selection import train_test_split\n",
    "\n",
    "X_train, X_test, y_train, y_test = train_test_split(X, y,\n",
    "                                     stratify=y, random_state=42)"
   ]
  },
  {
   "cell_type": "code",
   "execution_count": 9,
   "id": "5d9ba299",
   "metadata": {
    "execution": {
     "iopub.execute_input": "2024-08-21T09:49:17.380464Z",
     "iopub.status.busy": "2024-08-21T09:49:17.380320Z",
     "iopub.status.idle": "2024-08-21T09:49:17.396542Z",
     "shell.execute_reply": "2024-08-21T09:49:17.396265Z"
    },
    "papermill": {
     "duration": 0.018708,
     "end_time": "2024-08-21T09:49:17.397432",
     "exception": false,
     "start_time": "2024-08-21T09:49:17.378724",
     "status": "completed"
    },
    "tags": []
   },
   "outputs": [],
   "source": [
    "# Using XGBoost\n",
    "import xgboost\n",
    "\n",
    "def fit_xgboost(X_train, y_train, X_test, y_test, feature_names=None):\n",
    "    \"\"\" Train an XGBoost model with early stopping.\n",
    "    \"\"\"\n",
    "    dtrain = xgboost.DMatrix(X_train, label=y_train, feature_names=feature_names)\n",
    "    dtest = xgboost.DMatrix(X_test, label=y_test, feature_names=feature_names)\n",
    "    # model = xgboost.train(\n",
    "    #     { \"eta\": 0.001, \"subsample\": 0.5, \"max_depth\": 2,\n",
    "    #       \"objective\": 'binary:logistic', 'eval_metric': 'logloss'}, dtrain, num_boost_round=200000,\n",
    "    #     evals=[(dtest,'eval'), (dtrain,'train')], early_stopping_rounds=20, verbose_eval=False\n",
    "    # )\n",
    "    model = xgboost.train(\n",
    "        {\"objective\": 'binary:logistic', 'eval_metric': 'logloss'},\n",
    "        dtrain,\n",
    "        evals=[(dtest,'eval'), (dtrain,'train')],\n",
    "        verbose_eval=False)\n",
    "    return model"
   ]
  },
  {
   "cell_type": "code",
   "execution_count": 10,
   "id": "bd7ac9f1",
   "metadata": {
    "execution": {
     "iopub.execute_input": "2024-08-21T09:49:17.400529Z",
     "iopub.status.busy": "2024-08-21T09:49:17.400410Z",
     "iopub.status.idle": "2024-08-21T09:49:17.422585Z",
     "shell.execute_reply": "2024-08-21T09:49:17.422326Z"
    },
    "papermill": {
     "duration": 0.024756,
     "end_time": "2024-08-21T09:49:17.423550",
     "exception": false,
     "start_time": "2024-08-21T09:49:17.398794",
     "status": "completed"
    },
    "tags": []
   },
   "outputs": [],
   "source": [
    "xgb_forest = fit_xgboost(X_train, y_train, X_test, y_test, feature_names)\n",
    "xgb_forest.feature_names = feature_names"
   ]
  },
  {
   "cell_type": "code",
   "execution_count": 11,
   "id": "dcaa3020",
   "metadata": {
    "execution": {
     "iopub.execute_input": "2024-08-21T09:49:17.426682Z",
     "iopub.status.busy": "2024-08-21T09:49:17.426585Z",
     "iopub.status.idle": "2024-08-21T09:49:17.428346Z",
     "shell.execute_reply": "2024-08-21T09:49:17.428129Z"
    },
    "papermill": {
     "duration": 0.004137,
     "end_time": "2024-08-21T09:49:17.429140",
     "exception": false,
     "start_time": "2024-08-21T09:49:17.425003",
     "status": "completed"
    },
    "tags": []
   },
   "outputs": [],
   "source": [
    "def get_acc(model, samples, labels, feature_names=None):\n",
    "    predictions = (model.predict(xgboost.DMatrix(samples,\n",
    "                                                 feature_names=feature_names)) > 0.5).astype(int)\n",
    "    return (predictions == labels).sum() / predictions.shape[0]"
   ]
  },
  {
   "cell_type": "code",
   "execution_count": 12,
   "id": "7ce6b380",
   "metadata": {
    "execution": {
     "iopub.execute_input": "2024-08-21T09:49:17.432005Z",
     "iopub.status.busy": "2024-08-21T09:49:17.431902Z",
     "iopub.status.idle": "2024-08-21T09:49:17.435842Z",
     "shell.execute_reply": "2024-08-21T09:49:17.435560Z"
    },
    "papermill": {
     "duration": 0.006192,
     "end_time": "2024-08-21T09:49:17.436576",
     "exception": false,
     "start_time": "2024-08-21T09:49:17.430384",
     "status": "completed"
    },
    "tags": []
   },
   "outputs": [
    {
     "name": "stdout",
     "output_type": "stream",
     "text": [
      "Train score: 0.9652961980548187\n",
      "Test score: 0.9628647214854111\n"
     ]
    }
   ],
   "source": [
    "print('Train score:', get_acc(xgb_forest, X_train, y_train, feature_names))\n",
    "print('Test score:', get_acc(xgb_forest, X_test, y_test, feature_names))"
   ]
  },
  {
   "cell_type": "code",
   "execution_count": 13,
   "id": "97a1d2b0",
   "metadata": {
    "execution": {
     "iopub.execute_input": "2024-08-21T09:49:17.439596Z",
     "iopub.status.busy": "2024-08-21T09:49:17.439505Z",
     "iopub.status.idle": "2024-08-21T09:49:17.713549Z",
     "shell.execute_reply": "2024-08-21T09:49:17.713268Z"
    },
    "papermill": {
     "duration": 0.276572,
     "end_time": "2024-08-21T09:49:17.714543",
     "exception": false,
     "start_time": "2024-08-21T09:49:17.437971",
     "status": "completed"
    },
    "tags": []
   },
   "outputs": [],
   "source": [
    "import shap\n",
    "import pandas as pd\n",
    "explainer = shap.Explainer(xgb_forest)\n",
    "\n",
    "shap_values = explainer(pd.DataFrame(X_test, columns=feature_names))\n"
   ]
  },
  {
   "cell_type": "code",
   "execution_count": 14,
   "id": "8e7a54a8",
   "metadata": {
    "execution": {
     "iopub.execute_input": "2024-08-21T09:49:17.718319Z",
     "iopub.status.busy": "2024-08-21T09:49:17.718127Z",
     "iopub.status.idle": "2024-08-21T09:49:18.361089Z",
     "shell.execute_reply": "2024-08-21T09:49:18.360761Z"
    },
    "papermill": {
     "duration": 0.645915,
     "end_time": "2024-08-21T09:49:18.362090",
     "exception": false,
     "start_time": "2024-08-21T09:49:17.716175",
     "status": "completed"
    },
    "tags": []
   },
   "outputs": [
    {
     "data": {
      "image/png": "[encoded data removed]",
      "text/plain": [
       "<Figure size 400x200 with 2 Axes>"
      ]
     },
     "metadata": {},
     "output_type": "display_data"
    }
   ],
   "source": [
    "# Beeswarm plot\n",
    "\n",
    "shap.plots.beeswarm(shap_values, show=False)\n",
    "fig = plt.gcf()\n",
    "fig.set_size_inches(4, 2, forward=True)\n",
    "if save_figures: plt.savefig(\n",
    "    f'../{path_transport_graphics}/logitics_data_on_customer_profile_{comparison_dict[comparison_id][0]} and customer_profile_{comparison_dict[comparison_id][1]}-shap-value.{save_parms[\"format\"]}',\n",
    "    **save_parms\n",
    "    )\n",
    "plt.show()"
   ]
  }
 ],
 "metadata": {
  "kernelspec": {
   "display_name": "Python 3.7.11 ('py37')",
   "language": "python",
   "name": "python3"
  },
  "language_info": {
   "codemirror_mode": {
    "name": "ipython",
    "version": 3
   },
   "file_extension": ".py",
   "mimetype": "text/x-python",
   "name": "python",
   "nbconvert_exporter": "python",
   "pygments_lexer": "ipython3",
   "version": "3.12.0"
  },
  "papermill": {
   "default_parameters": {},
   "duration": 2.912046,
   "end_time": "2024-08-21T09:49:18.681317",
   "environment_variables": {},
   "exception": null,
   "input_path": "experiment_baseline.ipynb",
   "output_path": "./Results_Experiments/Set_UT_list_to_None_Set_weight_span_to_None_Set_num_components_to_None_Set_number_of_connections_to_None/experiment_baseline_3.ipynb",
   "parameters": {
    "comparison_id": 2
   },
   "start_time": "2024-08-21T09:49:15.769271",
   "version": "2.6.0"
  },
  "vscode": {
   "interpreter": {
    "hash": "5ab0220f0ca30ec7bac8a7e209564eceae6d15412b9f87f3c2f91206aa8b151c"
   }
  }
 },
 "nbformat": 4,
 "nbformat_minor": 5
}