{
 "cells": [
  {
   "cell_type": "code",
   "execution_count": 1,
   "id": "d05cab18",
   "metadata": {
    "execution": {
     "iopub.execute_input": "2024-08-21T09:49:10.441933Z",
     "iopub.status.busy": "2024-08-21T09:49:10.441547Z",
     "iopub.status.idle": "2024-08-21T09:49:11.338533Z",
     "shell.execute_reply": "2024-08-21T09:49:11.338070Z"
    },
    "papermill": {
     "duration": 0.905283,
     "end_time": "2024-08-21T09:49:11.339543",
     "exception": false,
     "start_time": "2024-08-21T09:49:10.434260",
     "status": "completed"
    },
    "tags": []
   },
   "outputs": [],
   "source": [
    "import matplotlib.pyplot as plt\n",
    "import numpy as np\n",
    "import pandas as pd\n",
    "from pathlib import Path\n",
    "import seaborn as sn\n"
   ]
  },
  {
   "cell_type": "code",
   "execution_count": 2,
   "id": "d6302d10",
   "metadata": {
    "execution": {
     "iopub.execute_input": "2024-08-21T09:49:11.342923Z",
     "iopub.status.busy": "2024-08-21T09:49:11.342749Z",
     "iopub.status.idle": "2024-08-21T09:49:11.345615Z",
     "shell.execute_reply": "2024-08-21T09:49:11.345390Z"
    },
    "papermill": {
     "duration": 0.005377,
     "end_time": "2024-08-21T09:49:11.346419",
     "exception": false,
     "start_time": "2024-08-21T09:49:11.341042",
     "status": "completed"
    },
    "tags": []
   },
   "outputs": [],
   "source": [
    "# Setting so that the plots look normal even when using dark-reader\n",
    "sn.set_style(\"whitegrid\")\n",
    "sn.set_context(context=\"paper\", font_scale=2)\n",
    "pal = sn.color_palette(\"Set1\")\n",
    "\n",
    "# Setting up specifics for plotting + saving\n",
    "save_figures = True\n",
    "add_legend = False\n",
    "add_title = False\n",
    "add_axis = False\n",
    "save_parms = {'format': 'pdf','bbox_inches':'tight', 'pad_inches':0.1}\n",
    "line_parms = {'linewidth':4, 'color':'k'}\n",
    "if save_figures:  # saves all figures in a figure directory in the local directory\n",
    "    figure_dir = Path('.') / 'figures' / 'adult-income-experiment'\n",
    "    if not figure_dir.exists():\n",
    "        figure_dir.mkdir(parents=True)"
   ]
  },
  {
   "cell_type": "code",
   "execution_count": 3,
   "id": "22d1d0e0",
   "metadata": {
    "execution": {
     "iopub.execute_input": "2024-08-21T09:49:11.350244Z",
     "iopub.status.busy": "2024-08-21T09:49:11.350072Z",
     "iopub.status.idle": "2024-08-21T09:49:11.352284Z",
     "shell.execute_reply": "2024-08-21T09:49:11.351963Z"
    },
    "papermill": {
     "duration": 0.005229,
     "end_time": "2024-08-21T09:49:11.353096",
     "exception": false,
     "start_time": "2024-08-21T09:49:11.347867",
     "status": "completed"
    },
    "tags": []
   },
   "outputs": [],
   "source": [
    "# Experiment hyperparamters\n",
    "rng = np.random.RandomState(42)\n",
    "split_on_income = False  # if True: src := income>=50k, tgt :+ income<50k, if False: src := male, tgt := female\n",
    "n_samples = 1000"
   ]
  },
  {
   "cell_type": "code",
   "execution_count": 4,
   "id": "48ff09ec",
   "metadata": {
    "execution": {
     "iopub.execute_input": "2024-08-21T09:49:11.356962Z",
     "iopub.status.busy": "2024-08-21T09:49:11.356827Z",
     "iopub.status.idle": "2024-08-21T09:49:11.358430Z",
     "shell.execute_reply": "2024-08-21T09:49:11.358196Z"
    },
    "papermill": {
     "duration": 0.004263,
     "end_time": "2024-08-21T09:49:11.359252",
     "exception": false,
     "start_time": "2024-08-21T09:49:11.354989",
     "status": "completed"
    },
    "tags": [
     "parameters"
    ]
   },
   "outputs": [],
   "source": [
    "comparison_id = None"
   ]
  },
  {
   "cell_type": "code",
   "execution_count": 5,
   "id": "2a676caa",
   "metadata": {
    "execution": {
     "iopub.execute_input": "2024-08-21T09:49:11.362357Z",
     "iopub.status.busy": "2024-08-21T09:49:11.362243Z",
     "iopub.status.idle": "2024-08-21T09:49:11.363667Z",
     "shell.execute_reply": "2024-08-21T09:49:11.363457Z"
    },
    "papermill": {
     "duration": 0.003754,
     "end_time": "2024-08-21T09:49:11.364386",
     "exception": false,
     "start_time": "2024-08-21T09:49:11.360632",
     "status": "completed"
    },
    "tags": [
     "injected-parameters"
    ]
   },
   "outputs": [],
   "source": [
    "# Parameters\n",
    "comparison_id = 0\n"
   ]
  },
  {
   "cell_type": "code",
   "execution_count": 6,
   "id": "dade2b7e",
   "metadata": {
    "execution": {
     "iopub.execute_input": "2024-08-21T09:49:11.367305Z",
     "iopub.status.busy": "2024-08-21T09:49:11.367066Z",
     "iopub.status.idle": "2024-08-21T09:49:11.376976Z",
     "shell.execute_reply": "2024-08-21T09:49:11.376750Z"
    },
    "papermill": {
     "duration": 0.012208,
     "end_time": "2024-08-21T09:49:11.377777",
     "exception": false,
     "start_time": "2024-08-21T09:49:11.365569",
     "status": "completed"
    },
    "tags": []
   },
   "outputs": [
    {
     "name": "stdout",
     "output_type": "stream",
     "text": [
      "['Customer_id', 'Connection', 'Weight', 'Unit_type', 'Day', 'Week']\n"
     ]
    }
   ],
   "source": [
    "\n",
    "# Load the data\n",
    "comparison_dict = {0: [0,1], 1: [2,3], 2: [4,5]}\n",
    "path_customer_profiles = open('./Results_Experiments/File_Paths/path_customer_profiles.txt','r').read()\n",
    "path_transport_graphics = open('./Results_Experiments/File_Paths/path_transport_graphics.txt','r').read()\n",
    "source = pd.read_csv(f'../{path_customer_profiles}/customer_profile_{comparison_dict[comparison_id][0]}.csv')\n",
    "target = pd.read_csv(f'../{path_customer_profiles}/customer_profile_{comparison_dict[comparison_id][1]}.csv')\n",
    "\n",
    "feature_names = source.columns.values\n",
    "feature_names = list(feature_names)\n",
    "print(feature_names)"
   ]
  },
  {
   "cell_type": "code",
   "execution_count": 7,
   "id": "296df3b5",
   "metadata": {
    "execution": {
     "iopub.execute_input": "2024-08-21T09:49:11.380851Z",
     "iopub.status.busy": "2024-08-21T09:49:11.380753Z",
     "iopub.status.idle": "2024-08-21T09:49:11.416539Z",
     "shell.execute_reply": "2024-08-21T09:49:11.416231Z"
    },
    "papermill": {
     "duration": 0.038255,
     "end_time": "2024-08-21T09:49:11.417446",
     "exception": false,
     "start_time": "2024-08-21T09:49:11.379191",
     "status": "completed"
    },
    "tags": []
   },
   "outputs": [],
   "source": [
    "# standardize the source and target data, and convert to domain labels\n",
    "from sklearn.preprocessing import StandardScaler\n",
    "X = np.concatenate((source, target), axis=0)\n",
    "# standardize X to remove cardinatlity bias\n",
    "X = StandardScaler().fit_transform(X)\n",
    "y = np.concatenate((np.zeros(source.shape[0]),\n",
    "                    np.ones(target.shape[0])), axis=0)  # domain labels"
   ]
  },
  {
   "cell_type": "code",
   "execution_count": 8,
   "id": "c5422e1f",
   "metadata": {
    "execution": {
     "iopub.execute_input": "2024-08-21T09:49:11.420646Z",
     "iopub.status.busy": "2024-08-21T09:49:11.420495Z",
     "iopub.status.idle": "2024-08-21T09:49:11.472455Z",
     "shell.execute_reply": "2024-08-21T09:49:11.472137Z"
    },
    "papermill": {
     "duration": 0.054565,
     "end_time": "2024-08-21T09:49:11.473427",
     "exception": false,
     "start_time": "2024-08-21T09:49:11.418862",
     "status": "completed"
    },
    "tags": []
   },
   "outputs": [],
   "source": [
    "from sklearn.datasets import make_classification\n",
    "from sklearn.model_selection import train_test_split\n",
    "\n",
    "X_train, X_test, y_train, y_test = train_test_split(X, y,\n",
    "                                     stratify=y, random_state=42)"
   ]
  },
  {
   "cell_type": "code",
   "execution_count": 9,
   "id": "5d9ba299",
   "metadata": {
    "execution": {
     "iopub.execute_input": "2024-08-21T09:49:11.476730Z",
     "iopub.status.busy": "2024-08-21T09:49:11.476542Z",
     "iopub.status.idle": "2024-08-21T09:49:11.492677Z",
     "shell.execute_reply": "2024-08-21T09:49:11.492394Z"
    },
    "papermill": {
     "duration": 0.018677,
     "end_time": "2024-08-21T09:49:11.493603",
     "exception": false,
     "start_time": "2024-08-21T09:49:11.474926",
     "status": "completed"
    },
    "tags": []
   },
   "outputs": [],
   "source": [
    "# Using XGBoost\n",
    "import xgboost\n",
    "\n",
    "def fit_xgboost(X_train, y_train, X_test, y_test, feature_names=None):\n",
    "    \"\"\" Train an XGBoost model with early stopping.\n",
    "    \"\"\"\n",
    "    dtrain = xgboost.DMatrix(X_train, label=y_train, feature_names=feature_names)\n",
    "    dtest = xgboost.DMatrix(X_test, label=y_test, feature_names=feature_names)\n",
    "    # model = xgboost.train(\n",
    "    #     { \"eta\": 0.001, \"subsample\": 0.5, \"max_depth\": 2,\n",
    "    #       \"objective\": 'binary:logistic', 'eval_metric': 'logloss'}, dtrain, num_boost_round=200000,\n",
    "    #     evals=[(dtest,'eval'), (dtrain,'train')], early_stopping_rounds=20, verbose_eval=False\n",
    "    # )\n",
    "    model = xgboost.train(\n",
    "        {\"objective\": 'binary:logistic', 'eval_metric': 'logloss'},\n",
    "        dtrain,\n",
    "        evals=[(dtest,'eval'), (dtrain,'train')],\n",
    "        verbose_eval=False)\n",
    "    return model"
   ]
  },
  {
   "cell_type": "code",
   "execution_count": 10,
   "id": "bd7ac9f1",
   "metadata": {
    "execution": {
     "iopub.execute_input": "2024-08-21T09:49:11.496662Z",
     "iopub.status.busy": "2024-08-21T09:49:11.496541Z",
     "iopub.status.idle": "2024-08-21T09:49:11.517239Z",
     "shell.execute_reply": "2024-08-21T09:49:11.516929Z"
    },
    "papermill": {
     "duration": 0.023225,
     "end_time": "2024-08-21T09:49:11.518173",
     "exception": false,
     "start_time": "2024-08-21T09:49:11.494948",
     "status": "completed"
    },
    "tags": []
   },
   "outputs": [],
   "source": [
    "xgb_forest = fit_xgboost(X_train, y_train, X_test, y_test, feature_names)\n",
    "xgb_forest.feature_names = feature_names"
   ]
  },
  {
   "cell_type": "code",
   "execution_count": 11,
   "id": "dcaa3020",
   "metadata": {
    "execution": {
     "iopub.execute_input": "2024-08-21T09:49:11.521623Z",
     "iopub.status.busy": "2024-08-21T09:49:11.521514Z",
     "iopub.status.idle": "2024-08-21T09:49:11.523259Z",
     "shell.execute_reply": "2024-08-21T09:49:11.523036Z"
    },
    "papermill": {
     "duration": 0.004213,
     "end_time": "2024-08-21T09:49:11.524099",
     "exception": false,
     "start_time": "2024-08-21T09:49:11.519886",
     "status": "completed"
    },
    "tags": []
   },
   "outputs": [],
   "source": [
    "def get_acc(model, samples, labels, feature_names=None):\n",
    "    predictions = (model.predict(xgboost.DMatrix(samples,\n",
    "                                                 feature_names=feature_names)) > 0.5).astype(int)\n",
    "    return (predictions == labels).sum() / predictions.shape[0]"
   ]
  },
  {
   "cell_type": "code",
   "execution_count": 12,
   "id": "7ce6b380",
   "metadata": {
    "execution": {
     "iopub.execute_input": "2024-08-21T09:49:11.527085Z",
     "iopub.status.busy": "2024-08-21T09:49:11.526981Z",
     "iopub.status.idle": "2024-08-21T09:49:11.530637Z",
     "shell.execute_reply": "2024-08-21T09:49:11.530414Z"
    },
    "papermill": {
     "duration": 0.005908,
     "end_time": "2024-08-21T09:49:11.531326",
     "exception": false,
     "start_time": "2024-08-21T09:49:11.525418",
     "status": "completed"
    },
    "tags": []
   },
   "outputs": [
    {
     "name": "stdout",
     "output_type": "stream",
     "text": [
      "Train score: 0.9489613319847506\n",
      "Test score: 0.9472578763127187\n"
     ]
    }
   ],
   "source": [
    "print('Train score:', get_acc(xgb_forest, X_train, y_train, feature_names))\n",
    "print('Test score:', get_acc(xgb_forest, X_test, y_test, feature_names))"
   ]
  },
  {
   "cell_type": "code",
   "execution_count": 13,
   "id": "97a1d2b0",
   "metadata": {
    "execution": {
     "iopub.execute_input": "2024-08-21T09:49:11.534599Z",
     "iopub.status.busy": "2024-08-21T09:49:11.534499Z",
     "iopub.status.idle": "2024-08-21T09:49:11.805202Z",
     "shell.execute_reply": "2024-08-21T09:49:11.804934Z"
    },
    "papermill": {
     "duration": 0.273486,
     "end_time": "2024-08-21T09:49:11.806177",
     "exception": false,
     "start_time": "2024-08-21T09:49:11.532691",
     "status": "completed"
    },
    "tags": []
   },
   "outputs": [],
   "source": [
    "import shap\n",
    "import pandas as pd\n",
    "explainer = shap.Explainer(xgb_forest)\n",
    "\n",
    "shap_values = explainer(pd.DataFrame(X_test, columns=feature_names))\n"
   ]
  },
  {
   "cell_type": "code",
   "execution_count": 14,
   "id": "8e7a54a8",
   "metadata": {
    "execution": {
     "iopub.execute_input": "2024-08-21T09:49:11.809637Z",
     "iopub.status.busy": "2024-08-21T09:49:11.809480Z",
     "iopub.status.idle": "2024-08-21T09:49:12.354170Z",
     "shell.execute_reply": "2024-08-21T09:49:12.353908Z"
    },
    "papermill": {
     "duration": 0.547209,
     "end_time": "2024-08-21T09:49:12.355018",
     "exception": false,
     "start_time": "2024-08-21T09:49:11.807809",
     "status": "completed"
    },
    "tags": []
   },
   "outputs": [
    {
     "data": {
      "image/png": "[encoded data removed]",
      "text/plain": [
       "<Figure size 400x200 with 2 Axes>"
      ]
     },
     "metadata": {},
     "output_type": "display_data"
    }
   ],
   "source": [
    "# Beeswarm plot\n",
    "\n",
    "shap.plots.beeswarm(shap_values, show=False)\n",
    "fig = plt.gcf()\n",
    "fig.set_size_inches(4, 2, forward=True)\n",
    "if save_figures: plt.savefig(\n",
    "    f'../{path_transport_graphics}/logitics_data_on_customer_profile_{comparison_dict[comparison_id][0]} and customer_profile_{comparison_dict[comparison_id][1]}-shap-value.{save_parms[\"format\"]}',\n",
    "    **save_parms\n",
    "    )\n",
    "plt.show()"
   ]
  }
 ],
 "metadata": {
  "kernelspec": {
   "display_name": "Python 3.7.11 ('py37')",
   "language": "python",
   "name": "python3"
  },
  "language_info": {
   "codemirror_mode": {
    "name": "ipython",
    "version": 3
   },
   "file_extension": ".py",
   "mimetype": "text/x-python",
   "name": "python",
   "nbconvert_exporter": "python",
   "pygments_lexer": "ipython3",
   "version": "3.12.0"
  },
  "papermill": {
   "default_parameters": {},
   "duration": 3.016439,
   "end_time": "2024-08-21T09:49:12.673608",
   "environment_variables": {},
   "exception": null,
   "input_path": "experiment_baseline.ipynb",
   "output_path": "./Results_Experiments/Set_UT_list_to_None_Set_weight_span_to_None_Set_num_components_to_None_Set_number_of_connections_to_None/experiment_baseline_1.ipynb",
   "parameters": {
    "comparison_id": 0
   },
   "start_time": "2024-08-21T09:49:09.657169",
   "version": "2.6.0"
  },
  "vscode": {
   "interpreter": {
    "hash": "5ab0220f0ca30ec7bac8a7e209564eceae6d15412b9f87f3c2f91206aa8b151c"
   }
  }
 },
 "nbformat": 4,
 "nbformat_minor": 5
}