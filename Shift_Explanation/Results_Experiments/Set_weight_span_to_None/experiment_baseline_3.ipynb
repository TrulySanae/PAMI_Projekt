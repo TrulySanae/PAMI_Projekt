{
 "cells": [
  {
   "cell_type": "code",
   "execution_count": 1,
   "id": "d05cab18",
   "metadata": {
    "execution": {
     "iopub.execute_input": "2024-08-21T09:49:43.420155Z",
     "iopub.status.busy": "2024-08-21T09:49:43.419779Z",
     "iopub.status.idle": "2024-08-21T09:49:44.315110Z",
     "shell.execute_reply": "2024-08-21T09:49:44.314813Z"
    },
    "papermill": {
     "duration": 0.902832,
     "end_time": "2024-08-21T09:49:44.316687",
     "exception": false,
     "start_time": "2024-08-21T09:49:43.413855",
     "status": "completed"
    },
    "tags": []
   },
   "outputs": [],
   "source": [
    "import matplotlib.pyplot as plt\n",
    "import numpy as np\n",
    "import pandas as pd\n",
    "from pathlib import Path\n",
    "import seaborn as sn\n"
   ]
  },
  {
   "cell_type": "code",
   "execution_count": 2,
   "id": "d6302d10",
   "metadata": {
    "execution": {
     "iopub.execute_input": "2024-08-21T09:49:44.319946Z",
     "iopub.status.busy": "2024-08-21T09:49:44.319796Z",
     "iopub.status.idle": "2024-08-21T09:49:44.322588Z",
     "shell.execute_reply": "2024-08-21T09:49:44.322344Z"
    },
    "papermill": {
     "duration": 0.005093,
     "end_time": "2024-08-21T09:49:44.323302",
     "exception": false,
     "start_time": "2024-08-21T09:49:44.318209",
     "status": "completed"
    },
    "tags": []
   },
   "outputs": [],
   "source": [
    "# Setting so that the plots look normal even when using dark-reader\n",
    "sn.set_style(\"whitegrid\")\n",
    "sn.set_context(context=\"paper\", font_scale=2)\n",
    "pal = sn.color_palette(\"Set1\")\n",
    "\n",
    "# Setting up specifics for plotting + saving\n",
    "save_figures = True\n",
    "add_legend = False\n",
    "add_title = False\n",
    "add_axis = False\n",
    "save_parms = {'format': 'pdf','bbox_inches':'tight', 'pad_inches':0.1}\n",
    "line_parms = {'linewidth':4, 'color':'k'}\n",
    "if save_figures:  # saves all figures in a figure directory in the local directory\n",
    "    figure_dir = Path('.') / 'figures' / 'adult-income-experiment'\n",
    "    if not figure_dir.exists():\n",
    "        figure_dir.mkdir(parents=True)"
   ]
  },
  {
   "cell_type": "code",
   "execution_count": 3,
   "id": "22d1d0e0",
   "metadata": {
    "execution": {
     "iopub.execute_input": "2024-08-21T09:49:44.326347Z",
     "iopub.status.busy": "2024-08-21T09:49:44.326143Z",
     "iopub.status.idle": "2024-08-21T09:49:44.328333Z",
     "shell.execute_reply": "2024-08-21T09:49:44.328064Z"
    },
    "papermill": {
     "duration": 0.004615,
     "end_time": "2024-08-21T09:49:44.329116",
     "exception": false,
     "start_time": "2024-08-21T09:49:44.324501",
     "status": "completed"
    },
    "tags": []
   },
   "outputs": [],
   "source": [
    "# Experiment hyperparamters\n",
    "rng = np.random.RandomState(42)\n",
    "split_on_income = False  # if True: src := income>=50k, tgt :+ income<50k, if False: src := male, tgt := female\n",
    "n_samples = 1000"
   ]
  },
  {
   "cell_type": "code",
   "execution_count": 4,
   "id": "48ff09ec",
   "metadata": {
    "execution": {
     "iopub.execute_input": "2024-08-21T09:49:44.334233Z",
     "iopub.status.busy": "2024-08-21T09:49:44.334099Z",
     "iopub.status.idle": "2024-08-21T09:49:44.336001Z",
     "shell.execute_reply": "2024-08-21T09:49:44.335562Z"
    },
    "papermill": {
     "duration": 0.006211,
     "end_time": "2024-08-21T09:49:44.336756",
     "exception": false,
     "start_time": "2024-08-21T09:49:44.330545",
     "status": "completed"
    },
    "tags": [
     "parameters"
    ]
   },
   "outputs": [],
   "source": [
    "comparison_id = None"
   ]
  },
  {
   "cell_type": "code",
   "execution_count": 5,
   "id": "47c41283",
   "metadata": {
    "execution": {
     "iopub.execute_input": "2024-08-21T09:49:44.341122Z",
     "iopub.status.busy": "2024-08-21T09:49:44.340962Z",
     "iopub.status.idle": "2024-08-21T09:49:44.342612Z",
     "shell.execute_reply": "2024-08-21T09:49:44.342379Z"
    },
    "papermill": {
     "duration": 0.004582,
     "end_time": "2024-08-21T09:49:44.343368",
     "exception": false,
     "start_time": "2024-08-21T09:49:44.338786",
     "status": "completed"
    },
    "tags": [
     "injected-parameters"
    ]
   },
   "outputs": [],
   "source": [
    "# Parameters\n",
    "comparison_id = 2\n"
   ]
  },
  {
   "cell_type": "code",
   "execution_count": 6,
   "id": "dade2b7e",
   "metadata": {
    "execution": {
     "iopub.execute_input": "2024-08-21T09:49:44.346234Z",
     "iopub.status.busy": "2024-08-21T09:49:44.346140Z",
     "iopub.status.idle": "2024-08-21T09:49:44.357302Z",
     "shell.execute_reply": "2024-08-21T09:49:44.356929Z"
    },
    "papermill": {
     "duration": 0.013715,
     "end_time": "2024-08-21T09:49:44.358371",
     "exception": false,
     "start_time": "2024-08-21T09:49:44.344656",
     "status": "completed"
    },
    "tags": []
   },
   "outputs": [
    {
     "name": "stdout",
     "output_type": "stream",
     "text": [
      "['Customer_id', 'Connection', 'Weight', 'Unit_type', 'Day', 'Week']\n"
     ]
    }
   ],
   "source": [
    "\n",
    "# Load the data\n",
    "comparison_dict = {0: [0,1], 1: [2,3], 2: [4,5]}\n",
    "path_customer_profiles = open('./Results_Experiments/File_Paths/path_customer_profiles.txt','r').read()\n",
    "path_transport_graphics = open('./Results_Experiments/File_Paths/path_transport_graphics.txt','r').read()\n",
    "source = pd.read_csv(f'../{path_customer_profiles}/customer_profile_{comparison_dict[comparison_id][0]}.csv')\n",
    "target = pd.read_csv(f'../{path_customer_profiles}/customer_profile_{comparison_dict[comparison_id][1]}.csv')\n",
    "\n",
    "feature_names = source.columns.values\n",
    "feature_names = list(feature_names)\n",
    "print(feature_names)"
   ]
  },
  {
   "cell_type": "code",
   "execution_count": 7,
   "id": "296df3b5",
   "metadata": {
    "execution": {
     "iopub.execute_input": "2024-08-21T09:49:44.362557Z",
     "iopub.status.busy": "2024-08-21T09:49:44.362246Z",
     "iopub.status.idle": "2024-08-21T09:49:44.405398Z",
     "shell.execute_reply": "2024-08-21T09:49:44.405112Z"
    },
    "papermill": {
     "duration": 0.046481,
     "end_time": "2024-08-21T09:49:44.406465",
     "exception": false,
     "start_time": "2024-08-21T09:49:44.359984",
     "status": "completed"
    },
    "tags": []
   },
   "outputs": [],
   "source": [
    "# standardize the source and target data, and convert to domain labels\n",
    "from sklearn.preprocessing import StandardScaler\n",
    "X = np.concatenate((source, target), axis=0)\n",
    "# standardize X to remove cardinatlity bias\n",
    "X = StandardScaler().fit_transform(X)\n",
    "y = np.concatenate((np.zeros(source.shape[0]),\n",
    "                    np.ones(target.shape[0])), axis=0)  # domain labels"
   ]
  },
  {
   "cell_type": "code",
   "execution_count": 8,
   "id": "c5422e1f",
   "metadata": {
    "execution": {
     "iopub.execute_input": "2024-08-21T09:49:44.410380Z",
     "iopub.status.busy": "2024-08-21T09:49:44.410105Z",
     "iopub.status.idle": "2024-08-21T09:49:44.466610Z",
     "shell.execute_reply": "2024-08-21T09:49:44.466329Z"
    },
    "papermill": {
     "duration": 0.059355,
     "end_time": "2024-08-21T09:49:44.467497",
     "exception": false,
     "start_time": "2024-08-21T09:49:44.408142",
     "status": "completed"
    },
    "tags": []
   },
   "outputs": [],
   "source": [
    "from sklearn.datasets import make_classification\n",
    "from sklearn.model_selection import train_test_split\n",
    "\n",
    "X_train, X_test, y_train, y_test = train_test_split(X, y,\n",
    "                                     stratify=y, random_state=42)"
   ]
  },
  {
   "cell_type": "code",
   "execution_count": 9,
   "id": "5d9ba299",
   "metadata": {
    "execution": {
     "iopub.execute_input": "2024-08-21T09:49:44.470767Z",
     "iopub.status.busy": "2024-08-21T09:49:44.470613Z",
     "iopub.status.idle": "2024-08-21T09:49:44.491708Z",
     "shell.execute_reply": "2024-08-21T09:49:44.491391Z"
    },
    "papermill": {
     "duration": 0.023971,
     "end_time": "2024-08-21T09:49:44.492952",
     "exception": false,
     "start_time": "2024-08-21T09:49:44.468981",
     "status": "completed"
    },
    "tags": []
   },
   "outputs": [],
   "source": [
    "# Using XGBoost\n",
    "import xgboost\n",
    "\n",
    "def fit_xgboost(X_train, y_train, X_test, y_test, feature_names=None):\n",
    "    \"\"\" Train an XGBoost model with early stopping.\n",
    "    \"\"\"\n",
    "    dtrain = xgboost.DMatrix(X_train, label=y_train, feature_names=feature_names)\n",
    "    dtest = xgboost.DMatrix(X_test, label=y_test, feature_names=feature_names)\n",
    "    # model = xgboost.train(\n",
    "    #     { \"eta\": 0.001, \"subsample\": 0.5, \"max_depth\": 2,\n",
    "    #       \"objective\": 'binary:logistic', 'eval_metric': 'logloss'}, dtrain, num_boost_round=200000,\n",
    "    #     evals=[(dtest,'eval'), (dtrain,'train')], early_stopping_rounds=20, verbose_eval=False\n",
    "    # )\n",
    "    model = xgboost.train(\n",
    "        {\"objective\": 'binary:logistic', 'eval_metric': 'logloss'},\n",
    "        dtrain,\n",
    "        evals=[(dtest,'eval'), (dtrain,'train')],\n",
    "        verbose_eval=False)\n",
    "    return model"
   ]
  },
  {
   "cell_type": "code",
   "execution_count": 10,
   "id": "bd7ac9f1",
   "metadata": {
    "execution": {
     "iopub.execute_input": "2024-08-21T09:49:44.502267Z",
     "iopub.status.busy": "2024-08-21T09:49:44.502028Z",
     "iopub.status.idle": "2024-08-21T09:49:44.534641Z",
     "shell.execute_reply": "2024-08-21T09:49:44.534393Z"
    },
    "papermill": {
     "duration": 0.036594,
     "end_time": "2024-08-21T09:49:44.535563",
     "exception": false,
     "start_time": "2024-08-21T09:49:44.498969",
     "status": "completed"
    },
    "tags": []
   },
   "outputs": [],
   "source": [
    "xgb_forest = fit_xgboost(X_train, y_train, X_test, y_test, feature_names)\n",
    "xgb_forest.feature_names = feature_names"
   ]
  },
  {
   "cell_type": "code",
   "execution_count": 11,
   "id": "dcaa3020",
   "metadata": {
    "execution": {
     "iopub.execute_input": "2024-08-21T09:49:44.538726Z",
     "iopub.status.busy": "2024-08-21T09:49:44.538614Z",
     "iopub.status.idle": "2024-08-21T09:49:44.540441Z",
     "shell.execute_reply": "2024-08-21T09:49:44.540201Z"
    },
    "papermill": {
     "duration": 0.004495,
     "end_time": "2024-08-21T09:49:44.541494",
     "exception": false,
     "start_time": "2024-08-21T09:49:44.536999",
     "status": "completed"
    },
    "tags": []
   },
   "outputs": [],
   "source": [
    "def get_acc(model, samples, labels, feature_names=None):\n",
    "    predictions = (model.predict(xgboost.DMatrix(samples,\n",
    "                                                 feature_names=feature_names)) > 0.5).astype(int)\n",
    "    return (predictions == labels).sum() / predictions.shape[0]"
   ]
  },
  {
   "cell_type": "code",
   "execution_count": 12,
   "id": "7ce6b380",
   "metadata": {
    "execution": {
     "iopub.execute_input": "2024-08-21T09:49:44.544566Z",
     "iopub.status.busy": "2024-08-21T09:49:44.544461Z",
     "iopub.status.idle": "2024-08-21T09:49:44.548681Z",
     "shell.execute_reply": "2024-08-21T09:49:44.548430Z"
    },
    "papermill": {
     "duration": 0.0066,
     "end_time": "2024-08-21T09:49:44.549425",
     "exception": false,
     "start_time": "2024-08-21T09:49:44.542825",
     "status": "completed"
    },
    "tags": []
   },
   "outputs": [
    {
     "name": "stdout",
     "output_type": "stream",
     "text": [
      "Train score: 0.9102656714021992\n",
      "Test score: 0.9113893570912593\n"
     ]
    }
   ],
   "source": [
    "print('Train score:', get_acc(xgb_forest, X_train, y_train, feature_names))\n",
    "print('Test score:', get_acc(xgb_forest, X_test, y_test, feature_names))"
   ]
  },
  {
   "cell_type": "code",
   "execution_count": 13,
   "id": "97a1d2b0",
   "metadata": {
    "execution": {
     "iopub.execute_input": "2024-08-21T09:49:44.552755Z",
     "iopub.status.busy": "2024-08-21T09:49:44.552412Z",
     "iopub.status.idle": "2024-08-21T09:49:44.833902Z",
     "shell.execute_reply": "2024-08-21T09:49:44.833591Z"
    },
    "papermill": {
     "duration": 0.284199,
     "end_time": "2024-08-21T09:49:44.834985",
     "exception": false,
     "start_time": "2024-08-21T09:49:44.550786",
     "status": "completed"
    },
    "tags": []
   },
   "outputs": [],
   "source": [
    "import shap\n",
    "import pandas as pd\n",
    "explainer = shap.Explainer(xgb_forest)\n",
    "\n",
    "shap_values = explainer(pd.DataFrame(X_test, columns=feature_names))\n"
   ]
  },
  {
   "cell_type": "code",
   "execution_count": 14,
   "id": "8e7a54a8",
   "metadata": {
    "execution": {
     "iopub.execute_input": "2024-08-21T09:49:44.838429Z",
     "iopub.status.busy": "2024-08-21T09:49:44.838264Z",
     "iopub.status.idle": "2024-08-21T09:49:45.385882Z",
     "shell.execute_reply": "2024-08-21T09:49:45.385623Z"
    },
    "papermill": {
     "duration": 0.550155,
     "end_time": "2024-08-21T09:49:45.386749",
     "exception": false,
     "start_time": "2024-08-21T09:49:44.836594",
     "status": "completed"
    },
    "tags": []
   },
   "outputs": [
    {
     "data": {
      "image/png": "[encoded data removed]",
      "text/plain": [
       "<Figure size 400x200 with 2 Axes>"
      ]
     },
     "metadata": {},
     "output_type": "display_data"
    }
   ],
   "source": [
    "# Beeswarm plot\n",
    "\n",
    "shap.plots.beeswarm(shap_values, show=False)\n",
    "fig = plt.gcf()\n",
    "fig.set_size_inches(4, 2, forward=True)\n",
    "if save_figures: plt.savefig(\n",
    "    f'../{path_transport_graphics}/logitics_data_on_customer_profile_{comparison_dict[comparison_id][0]} and customer_profile_{comparison_dict[comparison_id][1]}-shap-value.{save_parms[\"format\"]}',\n",
    "    **save_parms\n",
    "    )\n",
    "plt.show()"
   ]
  }
 ],
 "metadata": {
  "kernelspec": {
   "display_name": "Python 3.7.11 ('py37')",
   "language": "python",
   "name": "python3"
  },
  "language_info": {
   "codemirror_mode": {
    "name": "ipython",
    "version": 3
   },
   "file_extension": ".py",
   "mimetype": "text/x-python",
   "name": "python",
   "nbconvert_exporter": "python",
   "pygments_lexer": "ipython3",
   "version": "3.12.0"
  },
  "papermill": {
   "default_parameters": {},
   "duration": 3.054548,
   "end_time": "2024-08-21T09:49:45.705816",
   "environment_variables": {},
   "exception": null,
   "input_path": "experiment_baseline.ipynb",
   "output_path": "./Results_Experiments/Set_weight_span_to_None/experiment_baseline_3.ipynb",
   "parameters": {
    "comparison_id": 2
   },
   "start_time": "2024-08-21T09:49:42.651268",
   "version": "2.6.0"
  },
  "vscode": {
   "interpreter": {
    "hash": "5ab0220f0ca30ec7bac8a7e209564eceae6d15412b9f87f3c2f91206aa8b151c"
   }
  }
 },
 "nbformat": 4,
 "nbformat_minor": 5
}