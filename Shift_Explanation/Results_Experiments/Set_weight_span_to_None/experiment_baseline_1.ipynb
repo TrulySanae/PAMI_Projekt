{
 "cells": [
  {
   "cell_type": "code",
   "execution_count": 1,
   "id": "d05cab18",
   "metadata": {
    "execution": {
     "iopub.execute_input": "2024-08-21T12:11:52.627534Z",
     "iopub.status.busy": "2024-08-21T12:11:52.627338Z",
     "iopub.status.idle": "2024-08-21T12:11:53.484863Z",
     "shell.execute_reply": "2024-08-21T12:11:53.484544Z"
    },
    "papermill": {
     "duration": 0.866655,
     "end_time": "2024-08-21T12:11:53.485855",
     "exception": false,
     "start_time": "2024-08-21T12:11:52.619200",
     "status": "completed"
    },
    "tags": []
   },
   "outputs": [],
   "source": [
    "import matplotlib.pyplot as plt\n",
    "import numpy as np\n",
    "import pandas as pd\n",
    "from pathlib import Path\n",
    "import seaborn as sn\n",
    "from data_utils import load_and_preprocess_logistics_data"
   ]
  },
  {
   "cell_type": "code",
   "execution_count": 2,
   "id": "d6302d10",
   "metadata": {
    "execution": {
     "iopub.execute_input": "2024-08-21T12:11:53.489053Z",
     "iopub.status.busy": "2024-08-21T12:11:53.488891Z",
     "iopub.status.idle": "2024-08-21T12:11:53.491462Z",
     "shell.execute_reply": "2024-08-21T12:11:53.491240Z"
    },
    "papermill": {
     "duration": 0.004909,
     "end_time": "2024-08-21T12:11:53.492172",
     "exception": false,
     "start_time": "2024-08-21T12:11:53.487263",
     "status": "completed"
    },
    "tags": []
   },
   "outputs": [],
   "source": [
    "# Setting so that the plots look normal even when using dark-reader\n",
    "sn.set_style(\"whitegrid\")\n",
    "sn.set_context(context=\"paper\", font_scale=2)\n",
    "pal = sn.color_palette(\"Set1\")\n",
    "\n",
    "# Setting up specifics for plotting + saving\n",
    "save_figures = True\n",
    "add_legend = False\n",
    "add_title = False\n",
    "add_axis = False\n",
    "save_parms = {'format': 'pdf','bbox_inches':'tight', 'pad_inches':0.1}\n",
    "line_parms = {'linewidth':4, 'color':'k'}\n",
    "if save_figures:  # saves all figures in a figure directory in the local directory\n",
    "    figure_dir = Path('.') / 'figures' / 'adult-income-experiment'\n",
    "    if not figure_dir.exists():\n",
    "        figure_dir.mkdir(parents=True)"
   ]
  },
  {
   "cell_type": "code",
   "execution_count": 3,
   "id": "22d1d0e0",
   "metadata": {
    "execution": {
     "iopub.execute_input": "2024-08-21T12:11:53.495564Z",
     "iopub.status.busy": "2024-08-21T12:11:53.495442Z",
     "iopub.status.idle": "2024-08-21T12:11:53.497262Z",
     "shell.execute_reply": "2024-08-21T12:11:53.497028Z"
    },
    "papermill": {
     "duration": 0.004504,
     "end_time": "2024-08-21T12:11:53.497993",
     "exception": false,
     "start_time": "2024-08-21T12:11:53.493489",
     "status": "completed"
    },
    "tags": []
   },
   "outputs": [],
   "source": [
    "# Experiment hyperparamters\n",
    "rng = np.random.RandomState(42)\n",
    "split_on_income = False  # if True: src := income>=50k, tgt :+ income<50k, if False: src := male, tgt := female\n",
    "n_samples = 1000"
   ]
  },
  {
   "cell_type": "code",
   "execution_count": 4,
   "id": "48ff09ec",
   "metadata": {
    "execution": {
     "iopub.execute_input": "2024-08-21T12:11:53.500799Z",
     "iopub.status.busy": "2024-08-21T12:11:53.500701Z",
     "iopub.status.idle": "2024-08-21T12:11:53.502122Z",
     "shell.execute_reply": "2024-08-21T12:11:53.501913Z"
    },
    "papermill": {
     "duration": 0.003662,
     "end_time": "2024-08-21T12:11:53.502852",
     "exception": false,
     "start_time": "2024-08-21T12:11:53.499190",
     "status": "completed"
    },
    "tags": [
     "parameters"
    ]
   },
   "outputs": [],
   "source": [
    "comparison_id = None"
   ]
  },
  {
   "cell_type": "code",
   "execution_count": 5,
   "id": "47288a29",
   "metadata": {
    "execution": {
     "iopub.execute_input": "2024-08-21T12:11:53.505514Z",
     "iopub.status.busy": "2024-08-21T12:11:53.505429Z",
     "iopub.status.idle": "2024-08-21T12:11:53.506808Z",
     "shell.execute_reply": "2024-08-21T12:11:53.506596Z"
    },
    "papermill": {
     "duration": 0.003527,
     "end_time": "2024-08-21T12:11:53.507535",
     "exception": false,
     "start_time": "2024-08-21T12:11:53.504008",
     "status": "completed"
    },
    "tags": [
     "injected-parameters"
    ]
   },
   "outputs": [],
   "source": [
    "# Parameters\n",
    "comparison_id = 0\n"
   ]
  },
  {
   "cell_type": "code",
   "execution_count": 6,
   "id": "dade2b7e",
   "metadata": {
    "execution": {
     "iopub.execute_input": "2024-08-21T12:11:53.510220Z",
     "iopub.status.busy": "2024-08-21T12:11:53.510122Z",
     "iopub.status.idle": "2024-08-21T12:11:53.529758Z",
     "shell.execute_reply": "2024-08-21T12:11:53.529462Z"
    },
    "papermill": {
     "duration": 0.021848,
     "end_time": "2024-08-21T12:11:53.530514",
     "exception": false,
     "start_time": "2024-08-21T12:11:53.508666",
     "status": "completed"
    },
    "tags": []
   },
   "outputs": [
    {
     "name": "stdout",
     "output_type": "stream",
     "text": [
      "Comparing customer_profile_0 and customer_profile_1\n",
      "Finished preprocessing logistic dataset. Split on customer_profile_0 and customer_profile_1 with resulting source shape: (996, 3), target shape: (996, 3).\n",
      "['Connection', 'Weight', 'Unit_type']\n"
     ]
    }
   ],
   "source": [
    "\n",
    "# Load the data\n",
    "comparison_dict = {0: [0,1], 1: [2,3], 2: [4,5]}\n",
    "path_customer_profiles = open('./Results_Experiments/File_Paths/path_customer_profiles.txt','r').read()\n",
    "path_transport_graphics = open('./Results_Experiments/File_Paths/path_transport_graphics.txt','r').read()\n",
    "source = pd.read_csv(f'../{path_customer_profiles}/customer_profile_{comparison_dict[comparison_id][0]}.csv')\n",
    "target = pd.read_csv(f'../{path_customer_profiles}/customer_profile_{comparison_dict[comparison_id][1]}.csv')\n",
    "equal_week_split = True\n",
    "source, target, feature_names = load_and_preprocess_logistics_data(rng, n_samples, return_column_names=True,equal_week_split=equal_week_split, comparison_id=\n",
    "            comparison_id, comparison_dict=comparison_dict)\n",
    "print(feature_names)"
   ]
  },
  {
   "cell_type": "code",
   "execution_count": 7,
   "id": "296df3b5",
   "metadata": {
    "execution": {
     "iopub.execute_input": "2024-08-21T12:11:53.533860Z",
     "iopub.status.busy": "2024-08-21T12:11:53.533750Z",
     "iopub.status.idle": "2024-08-21T12:11:53.536327Z",
     "shell.execute_reply": "2024-08-21T12:11:53.536067Z"
    },
    "papermill": {
     "duration": 0.005063,
     "end_time": "2024-08-21T12:11:53.537094",
     "exception": false,
     "start_time": "2024-08-21T12:11:53.532031",
     "status": "completed"
    },
    "tags": []
   },
   "outputs": [],
   "source": [
    "# standardize the source and target data, and convert to domain labels\n",
    "from sklearn.preprocessing import StandardScaler\n",
    "X = np.concatenate((source, target), axis=0)\n",
    "# standardize X to remove cardinatlity bias\n",
    "X = StandardScaler().fit_transform(X)\n",
    "y = np.concatenate((np.zeros(source.shape[0]),\n",
    "                    np.ones(target.shape[0])), axis=0)  # domain labels"
   ]
  },
  {
   "cell_type": "code",
   "execution_count": 8,
   "id": "c5422e1f",
   "metadata": {
    "execution": {
     "iopub.execute_input": "2024-08-21T12:11:53.540442Z",
     "iopub.status.busy": "2024-08-21T12:11:53.540332Z",
     "iopub.status.idle": "2024-08-21T12:11:53.592667Z",
     "shell.execute_reply": "2024-08-21T12:11:53.592362Z"
    },
    "papermill": {
     "duration": 0.054977,
     "end_time": "2024-08-21T12:11:53.593537",
     "exception": false,
     "start_time": "2024-08-21T12:11:53.538560",
     "status": "completed"
    },
    "tags": []
   },
   "outputs": [],
   "source": [
    "from sklearn.datasets import make_classification\n",
    "from sklearn.model_selection import train_test_split\n",
    "\n",
    "X_train, X_test, y_train, y_test = train_test_split(X, y,\n",
    "                                     stratify=y, random_state=42)"
   ]
  },
  {
   "cell_type": "code",
   "execution_count": 9,
   "id": "5d9ba299",
   "metadata": {
    "execution": {
     "iopub.execute_input": "2024-08-21T12:11:53.596812Z",
     "iopub.status.busy": "2024-08-21T12:11:53.596673Z",
     "iopub.status.idle": "2024-08-21T12:11:53.610757Z",
     "shell.execute_reply": "2024-08-21T12:11:53.610472Z"
    },
    "papermill": {
     "duration": 0.016871,
     "end_time": "2024-08-21T12:11:53.611887",
     "exception": false,
     "start_time": "2024-08-21T12:11:53.595016",
     "status": "completed"
    },
    "tags": []
   },
   "outputs": [],
   "source": [
    "# Using XGBoost\n",
    "import xgboost\n",
    "\n",
    "def fit_xgboost(X_train, y_train, X_test, y_test, feature_names=None):\n",
    "    \"\"\" Train an XGBoost model with early stopping.\n",
    "    \"\"\"\n",
    "    dtrain = xgboost.DMatrix(X_train, label=y_train, feature_names=feature_names)\n",
    "    dtest = xgboost.DMatrix(X_test, label=y_test, feature_names=feature_names)\n",
    "    # model = xgboost.train(\n",
    "    #     { \"eta\": 0.001, \"subsample\": 0.5, \"max_depth\": 2,\n",
    "    #       \"objective\": 'binary:logistic', 'eval_metric': 'logloss'}, dtrain, num_boost_round=200000,\n",
    "    #     evals=[(dtest,'eval'), (dtrain,'train')], early_stopping_rounds=20, verbose_eval=False\n",
    "    # )\n",
    "    model = xgboost.train(\n",
    "        {\"objective\": 'binary:logistic', 'eval_metric': 'logloss'},\n",
    "        dtrain,\n",
    "        evals=[(dtest,'eval'), (dtrain,'train')],\n",
    "        verbose_eval=False)\n",
    "    return model"
   ]
  },
  {
   "cell_type": "code",
   "execution_count": 10,
   "id": "bd7ac9f1",
   "metadata": {
    "execution": {
     "iopub.execute_input": "2024-08-21T12:11:53.615098Z",
     "iopub.status.busy": "2024-08-21T12:11:53.614893Z",
     "iopub.status.idle": "2024-08-21T12:11:53.630067Z",
     "shell.execute_reply": "2024-08-21T12:11:53.629802Z"
    },
    "papermill": {
     "duration": 0.017645,
     "end_time": "2024-08-21T12:11:53.630942",
     "exception": false,
     "start_time": "2024-08-21T12:11:53.613297",
     "status": "completed"
    },
    "tags": []
   },
   "outputs": [],
   "source": [
    "xgb_forest = fit_xgboost(X_train, y_train, X_test, y_test, feature_names)\n",
    "xgb_forest.feature_names = feature_names"
   ]
  },
  {
   "cell_type": "code",
   "execution_count": 11,
   "id": "dcaa3020",
   "metadata": {
    "execution": {
     "iopub.execute_input": "2024-08-21T12:11:53.634046Z",
     "iopub.status.busy": "2024-08-21T12:11:53.633946Z",
     "iopub.status.idle": "2024-08-21T12:11:53.635851Z",
     "shell.execute_reply": "2024-08-21T12:11:53.635631Z"
    },
    "papermill": {
     "duration": 0.004166,
     "end_time": "2024-08-21T12:11:53.636541",
     "exception": false,
     "start_time": "2024-08-21T12:11:53.632375",
     "status": "completed"
    },
    "tags": []
   },
   "outputs": [],
   "source": [
    "def get_acc(model, samples, labels, feature_names=None):\n",
    "    predictions = (model.predict(xgboost.DMatrix(samples,\n",
    "                                                 feature_names=feature_names)) > 0.5).astype(int)\n",
    "    return (predictions == labels).sum() / predictions.shape[0]"
   ]
  },
  {
   "cell_type": "code",
   "execution_count": 12,
   "id": "7ce6b380",
   "metadata": {
    "execution": {
     "iopub.execute_input": "2024-08-21T12:11:53.639337Z",
     "iopub.status.busy": "2024-08-21T12:11:53.639245Z",
     "iopub.status.idle": "2024-08-21T12:11:53.641917Z",
     "shell.execute_reply": "2024-08-21T12:11:53.641706Z"
    },
    "papermill": {
     "duration": 0.004812,
     "end_time": "2024-08-21T12:11:53.642568",
     "exception": false,
     "start_time": "2024-08-21T12:11:53.637756",
     "status": "completed"
    },
    "tags": []
   },
   "outputs": [
    {
     "name": "stdout",
     "output_type": "stream",
     "text": [
      "Train score: 0.821954484605087\n",
      "Test score: 0.7791164658634538\n"
     ]
    }
   ],
   "source": [
    "print('Train score:', get_acc(xgb_forest, X_train, y_train, feature_names))\n",
    "print('Test score:', get_acc(xgb_forest, X_test, y_test, feature_names))"
   ]
  },
  {
   "cell_type": "code",
   "execution_count": 13,
   "id": "97a1d2b0",
   "metadata": {
    "execution": {
     "iopub.execute_input": "2024-08-21T12:11:53.645592Z",
     "iopub.status.busy": "2024-08-21T12:11:53.645506Z",
     "iopub.status.idle": "2024-08-21T12:11:53.887062Z",
     "shell.execute_reply": "2024-08-21T12:11:53.886814Z"
    },
    "papermill": {
     "duration": 0.244084,
     "end_time": "2024-08-21T12:11:53.887975",
     "exception": false,
     "start_time": "2024-08-21T12:11:53.643891",
     "status": "completed"
    },
    "tags": []
   },
   "outputs": [],
   "source": [
    "import shap\n",
    "import pandas as pd\n",
    "explainer = shap.Explainer(xgb_forest)\n",
    "\n",
    "shap_values = explainer(pd.DataFrame(X_test, columns=feature_names))\n"
   ]
  },
  {
   "cell_type": "code",
   "execution_count": 14,
   "id": "8e7a54a8",
   "metadata": {
    "execution": {
     "iopub.execute_input": "2024-08-21T12:11:53.891314Z",
     "iopub.status.busy": "2024-08-21T12:11:53.891168Z",
     "iopub.status.idle": "2024-08-21T12:11:54.190925Z",
     "shell.execute_reply": "2024-08-21T12:11:54.190664Z"
    },
    "papermill": {
     "duration": 0.30227,
     "end_time": "2024-08-21T12:11:54.191788",
     "exception": false,
     "start_time": "2024-08-21T12:11:53.889518",
     "status": "completed"
    },
    "tags": []
   },
   "outputs": [
    {
     "data": {
      "image/png": "[encoded data removed]",
      "text/plain": [
       "<Figure size 400x100 with 2 Axes>"
      ]
     },
     "metadata": {},
     "output_type": "display_data"
    }
   ],
   "source": [
    "# Beeswarm plot\n",
    "\n",
    "shap.plots.beeswarm(shap_values, show=False)\n",
    "fig = plt.gcf()\n",
    "fig.set_size_inches(4, 1, forward=True)\n",
    "if save_figures: plt.savefig(\n",
    "    f'../{path_transport_graphics}/logitics_data_on_customer_profile_{comparison_dict[comparison_id][0]} and customer_profile_{comparison_dict[comparison_id][1]}-shap-value.{save_parms[\"format\"]}',\n",
    "    **save_parms\n",
    "    )\n",
    "plt.show()"
   ]
  }
 ],
 "metadata": {
  "kernelspec": {
   "display_name": "Python 3.7.11 ('py37')",
   "language": "python",
   "name": "python3"
  },
  "language_info": {
   "codemirror_mode": {
    "name": "ipython",
    "version": 3
   },
   "file_extension": ".py",
   "mimetype": "text/x-python",
   "name": "python",
   "nbconvert_exporter": "python",
   "pygments_lexer": "ipython3",
   "version": "3.12.0"
  },
  "papermill": {
   "default_parameters": {},
   "duration": 2.559564,
   "end_time": "2024-08-21T12:11:54.510635",
   "environment_variables": {},
   "exception": null,
   "input_path": "experiment_baseline.ipynb",
   "output_path": "./Results_Experiments/Set_weight_span_to_None/experiment_baseline_1.ipynb",
   "parameters": {
    "comparison_id": 0
   },
   "start_time": "2024-08-21T12:11:51.951071",
   "version": "2.6.0"
  },
  "vscode": {
   "interpreter": {
    "hash": "5ab0220f0ca30ec7bac8a7e209564eceae6d15412b9f87f3c2f91206aa8b151c"
   }
  }
 },
 "nbformat": 4,
 "nbformat_minor": 5
}