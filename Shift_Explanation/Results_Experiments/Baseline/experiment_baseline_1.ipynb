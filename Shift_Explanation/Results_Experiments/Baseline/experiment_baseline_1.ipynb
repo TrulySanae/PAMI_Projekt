{
 "cells": [
  {
   "cell_type": "code",
   "execution_count": 1,
   "id": "d05cab18",
   "metadata": {
    "execution": {
     "iopub.execute_input": "2024-08-21T11:11:40.972280Z",
     "iopub.status.busy": "2024-08-21T11:11:40.971934Z",
     "iopub.status.idle": "2024-08-21T11:11:42.910539Z",
     "shell.execute_reply": "2024-08-21T11:11:42.910189Z"
    },
    "papermill": {
     "duration": 1.948191,
     "end_time": "2024-08-21T11:11:42.913824",
     "exception": false,
     "start_time": "2024-08-21T11:11:40.965633",
     "status": "completed"
    },
    "tags": []
   },
   "outputs": [],
   "source": [
    "import matplotlib.pyplot as plt\n",
    "import numpy as np\n",
    "import pandas as pd\n",
    "from pathlib import Path\n",
    "import seaborn as sn\n"
   ]
  },
  {
   "cell_type": "code",
   "execution_count": 2,
   "id": "d6302d10",
   "metadata": {
    "execution": {
     "iopub.execute_input": "2024-08-21T11:11:42.918830Z",
     "iopub.status.busy": "2024-08-21T11:11:42.918678Z",
     "iopub.status.idle": "2024-08-21T11:11:42.921724Z",
     "shell.execute_reply": "2024-08-21T11:11:42.921501Z"
    },
    "papermill": {
     "duration": 0.00581,
     "end_time": "2024-08-21T11:11:42.922583",
     "exception": false,
     "start_time": "2024-08-21T11:11:42.916773",
     "status": "completed"
    },
    "tags": []
   },
   "outputs": [],
   "source": [
    "# Setting so that the plots look normal even when using dark-reader\n",
    "sn.set_style(\"whitegrid\")\n",
    "sn.set_context(context=\"paper\", font_scale=2)\n",
    "pal = sn.color_palette(\"Set1\")\n",
    "\n",
    "# Setting up specifics for plotting + saving\n",
    "save_figures = True\n",
    "add_legend = False\n",
    "add_title = False\n",
    "add_axis = False\n",
    "save_parms = {'format': 'pdf','bbox_inches':'tight', 'pad_inches':0.1}\n",
    "line_parms = {'linewidth':4, 'color':'k'}\n",
    "if save_figures:  # saves all figures in a figure directory in the local directory\n",
    "    figure_dir = Path('.') / 'figures' / 'adult-income-experiment'\n",
    "    if not figure_dir.exists():\n",
    "        figure_dir.mkdir(parents=True)"
   ]
  },
  {
   "cell_type": "code",
   "execution_count": 3,
   "id": "22d1d0e0",
   "metadata": {
    "execution": {
     "iopub.execute_input": "2024-08-21T11:11:42.926106Z",
     "iopub.status.busy": "2024-08-21T11:11:42.925984Z",
     "iopub.status.idle": "2024-08-21T11:11:42.928064Z",
     "shell.execute_reply": "2024-08-21T11:11:42.927762Z"
    },
    "papermill": {
     "duration": 0.004763,
     "end_time": "2024-08-21T11:11:42.928849",
     "exception": false,
     "start_time": "2024-08-21T11:11:42.924086",
     "status": "completed"
    },
    "tags": []
   },
   "outputs": [],
   "source": [
    "# Experiment hyperparamters\n",
    "rng = np.random.RandomState(42)\n",
    "split_on_income = False  # if True: src := income>=50k, tgt :+ income<50k, if False: src := male, tgt := female\n",
    "n_samples = 1000"
   ]
  },
  {
   "cell_type": "code",
   "execution_count": 4,
   "id": "48ff09ec",
   "metadata": {
    "execution": {
     "iopub.execute_input": "2024-08-21T11:11:42.933233Z",
     "iopub.status.busy": "2024-08-21T11:11:42.933105Z",
     "iopub.status.idle": "2024-08-21T11:11:42.934755Z",
     "shell.execute_reply": "2024-08-21T11:11:42.934508Z"
    },
    "papermill": {
     "duration": 0.004498,
     "end_time": "2024-08-21T11:11:42.935505",
     "exception": false,
     "start_time": "2024-08-21T11:11:42.931007",
     "status": "completed"
    },
    "tags": [
     "parameters"
    ]
   },
   "outputs": [],
   "source": [
    "comparison_id = None"
   ]
  },
  {
   "cell_type": "code",
   "execution_count": 5,
   "id": "7984ff78",
   "metadata": {
    "execution": {
     "iopub.execute_input": "2024-08-21T11:11:42.938841Z",
     "iopub.status.busy": "2024-08-21T11:11:42.938731Z",
     "iopub.status.idle": "2024-08-21T11:11:42.940285Z",
     "shell.execute_reply": "2024-08-21T11:11:42.940044Z"
    },
    "papermill": {
     "duration": 0.004543,
     "end_time": "2024-08-21T11:11:42.941476",
     "exception": false,
     "start_time": "2024-08-21T11:11:42.936933",
     "status": "completed"
    },
    "tags": [
     "injected-parameters"
    ]
   },
   "outputs": [],
   "source": [
    "# Parameters\n",
    "comparison_id = 0\n"
   ]
  },
  {
   "cell_type": "code",
   "execution_count": 6,
   "id": "dade2b7e",
   "metadata": {
    "execution": {
     "iopub.execute_input": "2024-08-21T11:11:42.944828Z",
     "iopub.status.busy": "2024-08-21T11:11:42.944702Z",
     "iopub.status.idle": "2024-08-21T11:11:42.955143Z",
     "shell.execute_reply": "2024-08-21T11:11:42.954893Z"
    },
    "papermill": {
     "duration": 0.013068,
     "end_time": "2024-08-21T11:11:42.956038",
     "exception": false,
     "start_time": "2024-08-21T11:11:42.942970",
     "status": "completed"
    },
    "tags": []
   },
   "outputs": [
    {
     "name": "stdout",
     "output_type": "stream",
     "text": [
      "['Customer_id', 'Connection', 'Weight', 'Unit_type', 'Day', 'Week']\n"
     ]
    }
   ],
   "source": [
    "\n",
    "# Load the data\n",
    "comparison_dict = {0: [0,1], 1: [2,3], 2: [4,5]}\n",
    "path_customer_profiles = open('./Results_Experiments/File_Paths/path_customer_profiles.txt','r').read()\n",
    "path_transport_graphics = open('./Results_Experiments/File_Paths/path_transport_graphics.txt','r').read()\n",
    "source = pd.read_csv(f'../{path_customer_profiles}/customer_profile_{comparison_dict[comparison_id][0]}.csv')\n",
    "target = pd.read_csv(f'../{path_customer_profiles}/customer_profile_{comparison_dict[comparison_id][1]}.csv')\n",
    "\n",
    "feature_names = source.columns.values\n",
    "feature_names = list(feature_names)\n",
    "print(feature_names)"
   ]
  },
  {
   "cell_type": "code",
   "execution_count": 7,
   "id": "296df3b5",
   "metadata": {
    "execution": {
     "iopub.execute_input": "2024-08-21T11:11:42.960219Z",
     "iopub.status.busy": "2024-08-21T11:11:42.959972Z",
     "iopub.status.idle": "2024-08-21T11:11:43.178009Z",
     "shell.execute_reply": "2024-08-21T11:11:43.177730Z"
    },
    "papermill": {
     "duration": 0.220949,
     "end_time": "2024-08-21T11:11:43.178946",
     "exception": false,
     "start_time": "2024-08-21T11:11:42.957997",
     "status": "completed"
    },
    "tags": []
   },
   "outputs": [],
   "source": [
    "# standardize the source and target data, and convert to domain labels\n",
    "from sklearn.preprocessing import StandardScaler\n",
    "X = np.concatenate((source, target), axis=0)\n",
    "# standardize X to remove cardinatlity bias\n",
    "X = StandardScaler().fit_transform(X)\n",
    "y = np.concatenate((np.zeros(source.shape[0]),\n",
    "                    np.ones(target.shape[0])), axis=0)  # domain labels"
   ]
  },
  {
   "cell_type": "code",
   "execution_count": 8,
   "id": "c5422e1f",
   "metadata": {
    "execution": {
     "iopub.execute_input": "2024-08-21T11:11:43.182518Z",
     "iopub.status.busy": "2024-08-21T11:11:43.182373Z",
     "iopub.status.idle": "2024-08-21T11:11:43.495283Z",
     "shell.execute_reply": "2024-08-21T11:11:43.495023Z"
    },
    "papermill": {
     "duration": 0.316003,
     "end_time": "2024-08-21T11:11:43.496695",
     "exception": false,
     "start_time": "2024-08-21T11:11:43.180692",
     "status": "completed"
    },
    "tags": []
   },
   "outputs": [],
   "source": [
    "from sklearn.datasets import make_classification\n",
    "from sklearn.model_selection import train_test_split\n",
    "\n",
    "X_train, X_test, y_train, y_test = train_test_split(X, y,\n",
    "                                     stratify=y, random_state=42)"
   ]
  },
  {
   "cell_type": "code",
   "execution_count": 9,
   "id": "5d9ba299",
   "metadata": {
    "execution": {
     "iopub.execute_input": "2024-08-21T11:11:43.501913Z",
     "iopub.status.busy": "2024-08-21T11:11:43.501754Z",
     "iopub.status.idle": "2024-08-21T11:11:43.626025Z",
     "shell.execute_reply": "2024-08-21T11:11:43.625457Z"
    },
    "papermill": {
     "duration": 0.127922,
     "end_time": "2024-08-21T11:11:43.627823",
     "exception": false,
     "start_time": "2024-08-21T11:11:43.499901",
     "status": "completed"
    },
    "tags": []
   },
   "outputs": [],
   "source": [
    "# Using XGBoost\n",
    "import xgboost\n",
    "\n",
    "def fit_xgboost(X_train, y_train, X_test, y_test, feature_names=None):\n",
    "    \"\"\" Train an XGBoost model with early stopping.\n",
    "    \"\"\"\n",
    "    dtrain = xgboost.DMatrix(X_train, label=y_train, feature_names=feature_names)\n",
    "    dtest = xgboost.DMatrix(X_test, label=y_test, feature_names=feature_names)\n",
    "    # model = xgboost.train(\n",
    "    #     { \"eta\": 0.001, \"subsample\": 0.5, \"max_depth\": 2,\n",
    "    #       \"objective\": 'binary:logistic', 'eval_metric': 'logloss'}, dtrain, num_boost_round=200000,\n",
    "    #     evals=[(dtest,'eval'), (dtrain,'train')], early_stopping_rounds=20, verbose_eval=False\n",
    "    # )\n",
    "    model = xgboost.train(\n",
    "        {\"objective\": 'binary:logistic', 'eval_metric': 'logloss'},\n",
    "        dtrain,\n",
    "        evals=[(dtest,'eval'), (dtrain,'train')],\n",
    "        verbose_eval=False)\n",
    "    return model"
   ]
  },
  {
   "cell_type": "code",
   "execution_count": 10,
   "id": "bd7ac9f1",
   "metadata": {
    "execution": {
     "iopub.execute_input": "2024-08-21T11:11:43.633137Z",
     "iopub.status.busy": "2024-08-21T11:11:43.633030Z",
     "iopub.status.idle": "2024-08-21T11:11:43.672329Z",
     "shell.execute_reply": "2024-08-21T11:11:43.672007Z"
    },
    "papermill": {
     "duration": 0.042342,
     "end_time": "2024-08-21T11:11:43.673527",
     "exception": false,
     "start_time": "2024-08-21T11:11:43.631185",
     "status": "completed"
    },
    "tags": []
   },
   "outputs": [],
   "source": [
    "xgb_forest = fit_xgboost(X_train, y_train, X_test, y_test, feature_names)\n",
    "xgb_forest.feature_names = feature_names"
   ]
  },
  {
   "cell_type": "code",
   "execution_count": 11,
   "id": "dcaa3020",
   "metadata": {
    "execution": {
     "iopub.execute_input": "2024-08-21T11:11:43.677924Z",
     "iopub.status.busy": "2024-08-21T11:11:43.677795Z",
     "iopub.status.idle": "2024-08-21T11:11:43.679914Z",
     "shell.execute_reply": "2024-08-21T11:11:43.679667Z"
    },
    "papermill": {
     "duration": 0.005262,
     "end_time": "2024-08-21T11:11:43.680846",
     "exception": false,
     "start_time": "2024-08-21T11:11:43.675584",
     "status": "completed"
    },
    "tags": []
   },
   "outputs": [],
   "source": [
    "def get_acc(model, samples, labels, feature_names=None):\n",
    "    predictions = (model.predict(xgboost.DMatrix(samples,\n",
    "                                                 feature_names=feature_names)) > 0.5).astype(int)\n",
    "    return (predictions == labels).sum() / predictions.shape[0]"
   ]
  },
  {
   "cell_type": "code",
   "execution_count": 12,
   "id": "7ce6b380",
   "metadata": {
    "execution": {
     "iopub.execute_input": "2024-08-21T11:11:43.684572Z",
     "iopub.status.busy": "2024-08-21T11:11:43.684464Z",
     "iopub.status.idle": "2024-08-21T11:11:43.689089Z",
     "shell.execute_reply": "2024-08-21T11:11:43.688751Z"
    },
    "papermill": {
     "duration": 0.007385,
     "end_time": "2024-08-21T11:11:43.689898",
     "exception": false,
     "start_time": "2024-08-21T11:11:43.682513",
     "status": "completed"
    },
    "tags": []
   },
   "outputs": [
    {
     "name": "stdout",
     "output_type": "stream",
     "text": [
      "Train score: 0.9132886315147821\n",
      "Test score: 0.9081142857142858\n"
     ]
    }
   ],
   "source": [
    "print('Train score:', get_acc(xgb_forest, X_train, y_train, feature_names))\n",
    "print('Test score:', get_acc(xgb_forest, X_test, y_test, feature_names))"
   ]
  },
  {
   "cell_type": "code",
   "execution_count": 13,
   "id": "97a1d2b0",
   "metadata": {
    "execution": {
     "iopub.execute_input": "2024-08-21T11:11:43.693676Z",
     "iopub.status.busy": "2024-08-21T11:11:43.693556Z",
     "iopub.status.idle": "2024-08-21T11:11:44.213646Z",
     "shell.execute_reply": "2024-08-21T11:11:44.213403Z"
    },
    "papermill": {
     "duration": 0.523042,
     "end_time": "2024-08-21T11:11:44.214599",
     "exception": false,
     "start_time": "2024-08-21T11:11:43.691557",
     "status": "completed"
    },
    "tags": []
   },
   "outputs": [],
   "source": [
    "import shap\n",
    "import pandas as pd\n",
    "explainer = shap.Explainer(xgb_forest)\n",
    "\n",
    "shap_values = explainer(pd.DataFrame(X_test, columns=feature_names))\n"
   ]
  },
  {
   "cell_type": "code",
   "execution_count": 14,
   "id": "8e7a54a8",
   "metadata": {
    "execution": {
     "iopub.execute_input": "2024-08-21T11:11:44.217973Z",
     "iopub.status.busy": "2024-08-21T11:11:44.217819Z",
     "iopub.status.idle": "2024-08-21T11:11:44.791520Z",
     "shell.execute_reply": "2024-08-21T11:11:44.791249Z"
    },
    "papermill": {
     "duration": 0.576305,
     "end_time": "2024-08-21T11:11:44.792419",
     "exception": false,
     "start_time": "2024-08-21T11:11:44.216114",
     "status": "completed"
    },
    "tags": []
   },
   "outputs": [
    {
     "data": {
      "image/png": "[encoded data removed]",
      "text/plain": [
       "<Figure size 400x200 with 2 Axes>"
      ]
     },
     "metadata": {},
     "output_type": "display_data"
    }
   ],
   "source": [
    "# Beeswarm plot\n",
    "\n",
    "shap.plots.beeswarm(shap_values, show=False)\n",
    "fig = plt.gcf()\n",
    "fig.set_size_inches(4, 2, forward=True)\n",
    "if save_figures: plt.savefig(\n",
    "    f'../{path_transport_graphics}/logitics_data_on_customer_profile_{comparison_dict[comparison_id][0]} and customer_profile_{comparison_dict[comparison_id][1]}-shap-value.{save_parms[\"format\"]}',\n",
    "    **save_parms\n",
    "    )\n",
    "plt.show()"
   ]
  }
 ],
 "metadata": {
  "kernelspec": {
   "display_name": "Python 3.7.11 ('py37')",
   "language": "python",
   "name": "python3"
  },
  "language_info": {
   "codemirror_mode": {
    "name": "ipython",
    "version": 3
   },
   "file_extension": ".py",
   "mimetype": "text/x-python",
   "name": "python",
   "nbconvert_exporter": "python",
   "pygments_lexer": "ipython3",
   "version": "3.12.0"
  },
  "papermill": {
   "default_parameters": {},
   "duration": 5.118315,
   "end_time": "2024-08-21T11:11:45.111806",
   "environment_variables": {},
   "exception": null,
   "input_path": "experiment_baseline.ipynb",
   "output_path": "./Results_Experiments/Baseline/experiment_baseline_1.ipynb",
   "parameters": {
    "comparison_id": 0
   },
   "start_time": "2024-08-21T11:11:39.993491",
   "version": "2.6.0"
  },
  "vscode": {
   "interpreter": {
    "hash": "5ab0220f0ca30ec7bac8a7e209564eceae6d15412b9f87f3c2f91206aa8b151c"
   }
  }
 },
 "nbformat": 4,
 "nbformat_minor": 5
}