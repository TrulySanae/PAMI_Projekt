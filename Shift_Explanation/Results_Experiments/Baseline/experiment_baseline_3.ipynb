{
 "cells": [
  {
   "cell_type": "code",
   "execution_count": 1,
   "id": "d05cab18",
   "metadata": {
    "execution": {
     "iopub.execute_input": "2024-08-21T11:11:48.767867Z",
     "iopub.status.busy": "2024-08-21T11:11:48.767670Z",
     "iopub.status.idle": "2024-08-21T11:11:49.679524Z",
     "shell.execute_reply": "2024-08-21T11:11:49.679223Z"
    },
    "papermill": {
     "duration": 0.915396,
     "end_time": "2024-08-21T11:11:49.680561",
     "exception": false,
     "start_time": "2024-08-21T11:11:48.765165",
     "status": "completed"
    },
    "tags": []
   },
   "outputs": [],
   "source": [
    "import matplotlib.pyplot as plt\n",
    "import numpy as np\n",
    "import pandas as pd\n",
    "from pathlib import Path\n",
    "import seaborn as sn\n"
   ]
  },
  {
   "cell_type": "code",
   "execution_count": 2,
   "id": "d6302d10",
   "metadata": {
    "execution": {
     "iopub.execute_input": "2024-08-21T11:11:49.683964Z",
     "iopub.status.busy": "2024-08-21T11:11:49.683742Z",
     "iopub.status.idle": "2024-08-21T11:11:49.686457Z",
     "shell.execute_reply": "2024-08-21T11:11:49.686236Z"
    },
    "papermill": {
     "duration": 0.005059,
     "end_time": "2024-08-21T11:11:49.687174",
     "exception": false,
     "start_time": "2024-08-21T11:11:49.682115",
     "status": "completed"
    },
    "tags": []
   },
   "outputs": [],
   "source": [
    "# Setting so that the plots look normal even when using dark-reader\n",
    "sn.set_style(\"whitegrid\")\n",
    "sn.set_context(context=\"paper\", font_scale=2)\n",
    "pal = sn.color_palette(\"Set1\")\n",
    "\n",
    "# Setting up specifics for plotting + saving\n",
    "save_figures = True\n",
    "add_legend = False\n",
    "add_title = False\n",
    "add_axis = False\n",
    "save_parms = {'format': 'pdf','bbox_inches':'tight', 'pad_inches':0.1}\n",
    "line_parms = {'linewidth':4, 'color':'k'}\n",
    "if save_figures:  # saves all figures in a figure directory in the local directory\n",
    "    figure_dir = Path('.') / 'figures' / 'adult-income-experiment'\n",
    "    if not figure_dir.exists():\n",
    "        figure_dir.mkdir(parents=True)"
   ]
  },
  {
   "cell_type": "code",
   "execution_count": 3,
   "id": "22d1d0e0",
   "metadata": {
    "execution": {
     "iopub.execute_input": "2024-08-21T11:11:49.690182Z",
     "iopub.status.busy": "2024-08-21T11:11:49.690078Z",
     "iopub.status.idle": "2024-08-21T11:11:49.691832Z",
     "shell.execute_reply": "2024-08-21T11:11:49.691609Z"
    },
    "papermill": {
     "duration": 0.00417,
     "end_time": "2024-08-21T11:11:49.692578",
     "exception": false,
     "start_time": "2024-08-21T11:11:49.688408",
     "status": "completed"
    },
    "tags": []
   },
   "outputs": [],
   "source": [
    "# Experiment hyperparamters\n",
    "rng = np.random.RandomState(42)\n",
    "split_on_income = False  # if True: src := income>=50k, tgt :+ income<50k, if False: src := male, tgt := female\n",
    "n_samples = 1000"
   ]
  },
  {
   "cell_type": "code",
   "execution_count": 4,
   "id": "48ff09ec",
   "metadata": {
    "execution": {
     "iopub.execute_input": "2024-08-21T11:11:49.696971Z",
     "iopub.status.busy": "2024-08-21T11:11:49.696741Z",
     "iopub.status.idle": "2024-08-21T11:11:49.698574Z",
     "shell.execute_reply": "2024-08-21T11:11:49.698345Z"
    },
    "papermill": {
     "duration": 0.005237,
     "end_time": "2024-08-21T11:11:49.699317",
     "exception": false,
     "start_time": "2024-08-21T11:11:49.694080",
     "status": "completed"
    },
    "tags": [
     "parameters"
    ]
   },
   "outputs": [],
   "source": [
    "comparison_id = None"
   ]
  },
  {
   "cell_type": "code",
   "execution_count": 5,
   "id": "217e34a7",
   "metadata": {
    "execution": {
     "iopub.execute_input": "2024-08-21T11:11:49.702313Z",
     "iopub.status.busy": "2024-08-21T11:11:49.702218Z",
     "iopub.status.idle": "2024-08-21T11:11:49.703643Z",
     "shell.execute_reply": "2024-08-21T11:11:49.703421Z"
    },
    "papermill": {
     "duration": 0.00497,
     "end_time": "2024-08-21T11:11:49.705611",
     "exception": false,
     "start_time": "2024-08-21T11:11:49.700641",
     "status": "completed"
    },
    "tags": [
     "injected-parameters"
    ]
   },
   "outputs": [],
   "source": [
    "# Parameters\n",
    "comparison_id = 2\n"
   ]
  },
  {
   "cell_type": "code",
   "execution_count": 6,
   "id": "dade2b7e",
   "metadata": {
    "execution": {
     "iopub.execute_input": "2024-08-21T11:11:49.709022Z",
     "iopub.status.busy": "2024-08-21T11:11:49.708893Z",
     "iopub.status.idle": "2024-08-21T11:11:49.720510Z",
     "shell.execute_reply": "2024-08-21T11:11:49.720243Z"
    },
    "papermill": {
     "duration": 0.01448,
     "end_time": "2024-08-21T11:11:49.721456",
     "exception": false,
     "start_time": "2024-08-21T11:11:49.706976",
     "status": "completed"
    },
    "tags": []
   },
   "outputs": [
    {
     "name": "stdout",
     "output_type": "stream",
     "text": [
      "['Customer_id', 'Connection', 'Weight', 'Unit_type', 'Day', 'Week']\n"
     ]
    }
   ],
   "source": [
    "\n",
    "# Load the data\n",
    "comparison_dict = {0: [0,1], 1: [2,3], 2: [4,5]}\n",
    "path_customer_profiles = open('./Results_Experiments/File_Paths/path_customer_profiles.txt','r').read()\n",
    "path_transport_graphics = open('./Results_Experiments/File_Paths/path_transport_graphics.txt','r').read()\n",
    "source = pd.read_csv(f'../{path_customer_profiles}/customer_profile_{comparison_dict[comparison_id][0]}.csv')\n",
    "target = pd.read_csv(f'../{path_customer_profiles}/customer_profile_{comparison_dict[comparison_id][1]}.csv')\n",
    "\n",
    "feature_names = source.columns.values\n",
    "feature_names = list(feature_names)\n",
    "print(feature_names)"
   ]
  },
  {
   "cell_type": "code",
   "execution_count": 7,
   "id": "296df3b5",
   "metadata": {
    "execution": {
     "iopub.execute_input": "2024-08-21T11:11:49.725058Z",
     "iopub.status.busy": "2024-08-21T11:11:49.724933Z",
     "iopub.status.idle": "2024-08-21T11:11:49.757922Z",
     "shell.execute_reply": "2024-08-21T11:11:49.757600Z"
    },
    "papermill": {
     "duration": 0.035686,
     "end_time": "2024-08-21T11:11:49.758858",
     "exception": false,
     "start_time": "2024-08-21T11:11:49.723172",
     "status": "completed"
    },
    "tags": []
   },
   "outputs": [],
   "source": [
    "# standardize the source and target data, and convert to domain labels\n",
    "from sklearn.preprocessing import StandardScaler\n",
    "X = np.concatenate((source, target), axis=0)\n",
    "# standardize X to remove cardinatlity bias\n",
    "X = StandardScaler().fit_transform(X)\n",
    "y = np.concatenate((np.zeros(source.shape[0]),\n",
    "                    np.ones(target.shape[0])), axis=0)  # domain labels"
   ]
  },
  {
   "cell_type": "code",
   "execution_count": 8,
   "id": "c5422e1f",
   "metadata": {
    "execution": {
     "iopub.execute_input": "2024-08-21T11:11:49.762090Z",
     "iopub.status.busy": "2024-08-21T11:11:49.761935Z",
     "iopub.status.idle": "2024-08-21T11:11:49.813473Z",
     "shell.execute_reply": "2024-08-21T11:11:49.813166Z"
    },
    "papermill": {
     "duration": 0.054132,
     "end_time": "2024-08-21T11:11:49.814398",
     "exception": false,
     "start_time": "2024-08-21T11:11:49.760266",
     "status": "completed"
    },
    "tags": []
   },
   "outputs": [],
   "source": [
    "from sklearn.datasets import make_classification\n",
    "from sklearn.model_selection import train_test_split\n",
    "\n",
    "X_train, X_test, y_train, y_test = train_test_split(X, y,\n",
    "                                     stratify=y, random_state=42)"
   ]
  },
  {
   "cell_type": "code",
   "execution_count": 9,
   "id": "5d9ba299",
   "metadata": {
    "execution": {
     "iopub.execute_input": "2024-08-21T11:11:49.817703Z",
     "iopub.status.busy": "2024-08-21T11:11:49.817566Z",
     "iopub.status.idle": "2024-08-21T11:11:49.832780Z",
     "shell.execute_reply": "2024-08-21T11:11:49.832520Z"
    },
    "papermill": {
     "duration": 0.017773,
     "end_time": "2024-08-21T11:11:49.833707",
     "exception": false,
     "start_time": "2024-08-21T11:11:49.815934",
     "status": "completed"
    },
    "tags": []
   },
   "outputs": [],
   "source": [
    "# Using XGBoost\n",
    "import xgboost\n",
    "\n",
    "def fit_xgboost(X_train, y_train, X_test, y_test, feature_names=None):\n",
    "    \"\"\" Train an XGBoost model with early stopping.\n",
    "    \"\"\"\n",
    "    dtrain = xgboost.DMatrix(X_train, label=y_train, feature_names=feature_names)\n",
    "    dtest = xgboost.DMatrix(X_test, label=y_test, feature_names=feature_names)\n",
    "    # model = xgboost.train(\n",
    "    #     { \"eta\": 0.001, \"subsample\": 0.5, \"max_depth\": 2,\n",
    "    #       \"objective\": 'binary:logistic', 'eval_metric': 'logloss'}, dtrain, num_boost_round=200000,\n",
    "    #     evals=[(dtest,'eval'), (dtrain,'train')], early_stopping_rounds=20, verbose_eval=False\n",
    "    # )\n",
    "    model = xgboost.train(\n",
    "        {\"objective\": 'binary:logistic', 'eval_metric': 'logloss'},\n",
    "        dtrain,\n",
    "        evals=[(dtest,'eval'), (dtrain,'train')],\n",
    "        verbose_eval=False)\n",
    "    return model"
   ]
  },
  {
   "cell_type": "code",
   "execution_count": 10,
   "id": "bd7ac9f1",
   "metadata": {
    "execution": {
     "iopub.execute_input": "2024-08-21T11:11:49.836833Z",
     "iopub.status.busy": "2024-08-21T11:11:49.836731Z",
     "iopub.status.idle": "2024-08-21T11:11:49.861837Z",
     "shell.execute_reply": "2024-08-21T11:11:49.861478Z"
    },
    "papermill": {
     "duration": 0.027762,
     "end_time": "2024-08-21T11:11:49.862869",
     "exception": false,
     "start_time": "2024-08-21T11:11:49.835107",
     "status": "completed"
    },
    "tags": []
   },
   "outputs": [],
   "source": [
    "xgb_forest = fit_xgboost(X_train, y_train, X_test, y_test, feature_names)\n",
    "xgb_forest.feature_names = feature_names"
   ]
  },
  {
   "cell_type": "code",
   "execution_count": 11,
   "id": "dcaa3020",
   "metadata": {
    "execution": {
     "iopub.execute_input": "2024-08-21T11:11:49.866684Z",
     "iopub.status.busy": "2024-08-21T11:11:49.866526Z",
     "iopub.status.idle": "2024-08-21T11:11:49.868591Z",
     "shell.execute_reply": "2024-08-21T11:11:49.868363Z"
    },
    "papermill": {
     "duration": 0.005027,
     "end_time": "2024-08-21T11:11:49.869355",
     "exception": false,
     "start_time": "2024-08-21T11:11:49.864328",
     "status": "completed"
    },
    "tags": []
   },
   "outputs": [],
   "source": [
    "def get_acc(model, samples, labels, feature_names=None):\n",
    "    predictions = (model.predict(xgboost.DMatrix(samples,\n",
    "                                                 feature_names=feature_names)) > 0.5).astype(int)\n",
    "    return (predictions == labels).sum() / predictions.shape[0]"
   ]
  },
  {
   "cell_type": "code",
   "execution_count": 12,
   "id": "7ce6b380",
   "metadata": {
    "execution": {
     "iopub.execute_input": "2024-08-21T11:11:49.872473Z",
     "iopub.status.busy": "2024-08-21T11:11:49.872382Z",
     "iopub.status.idle": "2024-08-21T11:11:49.876369Z",
     "shell.execute_reply": "2024-08-21T11:11:49.876063Z"
    },
    "papermill": {
     "duration": 0.006413,
     "end_time": "2024-08-21T11:11:49.877146",
     "exception": false,
     "start_time": "2024-08-21T11:11:49.870733",
     "status": "completed"
    },
    "tags": []
   },
   "outputs": [
    {
     "name": "stdout",
     "output_type": "stream",
     "text": [
      "Train score: 0.933360455655004\n",
      "Test score: 0.9375152550646815\n"
     ]
    }
   ],
   "source": [
    "print('Train score:', get_acc(xgb_forest, X_train, y_train, feature_names))\n",
    "print('Test score:', get_acc(xgb_forest, X_test, y_test, feature_names))"
   ]
  },
  {
   "cell_type": "code",
   "execution_count": 13,
   "id": "97a1d2b0",
   "metadata": {
    "execution": {
     "iopub.execute_input": "2024-08-21T11:11:49.880292Z",
     "iopub.status.busy": "2024-08-21T11:11:49.880198Z",
     "iopub.status.idle": "2024-08-21T11:11:50.158671Z",
     "shell.execute_reply": "2024-08-21T11:11:50.158427Z"
    },
    "papermill": {
     "duration": 0.281077,
     "end_time": "2024-08-21T11:11:50.159632",
     "exception": false,
     "start_time": "2024-08-21T11:11:49.878555",
     "status": "completed"
    },
    "tags": []
   },
   "outputs": [],
   "source": [
    "import shap\n",
    "import pandas as pd\n",
    "explainer = shap.Explainer(xgb_forest)\n",
    "\n",
    "shap_values = explainer(pd.DataFrame(X_test, columns=feature_names))\n"
   ]
  },
  {
   "cell_type": "code",
   "execution_count": 14,
   "id": "8e7a54a8",
   "metadata": {
    "execution": {
     "iopub.execute_input": "2024-08-21T11:11:50.162978Z",
     "iopub.status.busy": "2024-08-21T11:11:50.162829Z",
     "iopub.status.idle": "2024-08-21T11:11:50.702910Z",
     "shell.execute_reply": "2024-08-21T11:11:50.702650Z"
    },
    "papermill": {
     "duration": 0.542644,
     "end_time": "2024-08-21T11:11:50.703775",
     "exception": false,
     "start_time": "2024-08-21T11:11:50.161131",
     "status": "completed"
    },
    "tags": []
   },
   "outputs": [
    {
     "data": {
      "image/png": "[encoded data removed]",
      "text/plain": [
       "<Figure size 400x200 with 2 Axes>"
      ]
     },
     "metadata": {},
     "output_type": "display_data"
    }
   ],
   "source": [
    "# Beeswarm plot\n",
    "\n",
    "shap.plots.beeswarm(shap_values, show=False)\n",
    "fig = plt.gcf()\n",
    "fig.set_size_inches(4, 2, forward=True)\n",
    "if save_figures: plt.savefig(\n",
    "    f'../{path_transport_graphics}/logitics_data_on_customer_profile_{comparison_dict[comparison_id][0]} and customer_profile_{comparison_dict[comparison_id][1]}-shap-value.{save_parms[\"format\"]}',\n",
    "    **save_parms\n",
    "    )\n",
    "plt.show()"
   ]
  }
 ],
 "metadata": {
  "kernelspec": {
   "display_name": "Python 3.7.11 ('py37')",
   "language": "python",
   "name": "python3"
  },
  "language_info": {
   "codemirror_mode": {
    "name": "ipython",
    "version": 3
   },
   "file_extension": ".py",
   "mimetype": "text/x-python",
   "name": "python",
   "nbconvert_exporter": "python",
   "pygments_lexer": "ipython3",
   "version": "3.12.0"
  },
  "papermill": {
   "default_parameters": {},
   "duration": 3.046868,
   "end_time": "2024-08-21T11:11:51.022926",
   "environment_variables": {},
   "exception": null,
   "input_path": "experiment_baseline.ipynb",
   "output_path": "./Results_Experiments/Baseline/experiment_baseline_3.ipynb",
   "parameters": {
    "comparison_id": 2
   },
   "start_time": "2024-08-21T11:11:47.976058",
   "version": "2.6.0"
  },
  "vscode": {
   "interpreter": {
    "hash": "5ab0220f0ca30ec7bac8a7e209564eceae6d15412b9f87f3c2f91206aa8b151c"
   }
  }
 },
 "nbformat": 4,
 "nbformat_minor": 5
}