{
 "cells": [
  {
   "cell_type": "code",
   "execution_count": 1,
   "id": "d05cab18",
   "metadata": {
    "execution": {
     "iopub.execute_input": "2024-08-21T12:09:23.654964Z",
     "iopub.status.busy": "2024-08-21T12:09:23.654577Z",
     "iopub.status.idle": "2024-08-21T12:09:24.511733Z",
     "shell.execute_reply": "2024-08-21T12:09:24.511428Z"
    },
    "papermill": {
     "duration": 0.867618,
     "end_time": "2024-08-21T12:09:24.512731",
     "exception": false,
     "start_time": "2024-08-21T12:09:23.645113",
     "status": "completed"
    },
    "tags": []
   },
   "outputs": [],
   "source": [
    "import matplotlib.pyplot as plt\n",
    "import numpy as np\n",
    "import pandas as pd\n",
    "from pathlib import Path\n",
    "import seaborn as sn\n",
    "from data_utils import load_and_preprocess_logistics_data"
   ]
  },
  {
   "cell_type": "code",
   "execution_count": 2,
   "id": "d6302d10",
   "metadata": {
    "execution": {
     "iopub.execute_input": "2024-08-21T12:09:24.515935Z",
     "iopub.status.busy": "2024-08-21T12:09:24.515781Z",
     "iopub.status.idle": "2024-08-21T12:09:24.518482Z",
     "shell.execute_reply": "2024-08-21T12:09:24.518263Z"
    },
    "papermill": {
     "duration": 0.005058,
     "end_time": "2024-08-21T12:09:24.519263",
     "exception": false,
     "start_time": "2024-08-21T12:09:24.514205",
     "status": "completed"
    },
    "tags": []
   },
   "outputs": [],
   "source": [
    "# Setting so that the plots look normal even when using dark-reader\n",
    "sn.set_style(\"whitegrid\")\n",
    "sn.set_context(context=\"paper\", font_scale=2)\n",
    "pal = sn.color_palette(\"Set1\")\n",
    "\n",
    "# Setting up specifics for plotting + saving\n",
    "save_figures = True\n",
    "add_legend = False\n",
    "add_title = False\n",
    "add_axis = False\n",
    "save_parms = {'format': 'pdf','bbox_inches':'tight', 'pad_inches':0.1}\n",
    "line_parms = {'linewidth':4, 'color':'k'}\n",
    "if save_figures:  # saves all figures in a figure directory in the local directory\n",
    "    figure_dir = Path('.') / 'figures' / 'adult-income-experiment'\n",
    "    if not figure_dir.exists():\n",
    "        figure_dir.mkdir(parents=True)"
   ]
  },
  {
   "cell_type": "code",
   "execution_count": 3,
   "id": "22d1d0e0",
   "metadata": {
    "execution": {
     "iopub.execute_input": "2024-08-21T12:09:24.522323Z",
     "iopub.status.busy": "2024-08-21T12:09:24.522124Z",
     "iopub.status.idle": "2024-08-21T12:09:24.524071Z",
     "shell.execute_reply": "2024-08-21T12:09:24.523828Z"
    },
    "papermill": {
     "duration": 0.004364,
     "end_time": "2024-08-21T12:09:24.524819",
     "exception": false,
     "start_time": "2024-08-21T12:09:24.520455",
     "status": "completed"
    },
    "tags": []
   },
   "outputs": [],
   "source": [
    "# Experiment hyperparamters\n",
    "rng = np.random.RandomState(42)\n",
    "split_on_income = False  # if True: src := income>=50k, tgt :+ income<50k, if False: src := male, tgt := female\n",
    "n_samples = 1000"
   ]
  },
  {
   "cell_type": "code",
   "execution_count": 4,
   "id": "48ff09ec",
   "metadata": {
    "execution": {
     "iopub.execute_input": "2024-08-21T12:09:24.528700Z",
     "iopub.status.busy": "2024-08-21T12:09:24.528538Z",
     "iopub.status.idle": "2024-08-21T12:09:24.530420Z",
     "shell.execute_reply": "2024-08-21T12:09:24.530159Z"
    },
    "papermill": {
     "duration": 0.00486,
     "end_time": "2024-08-21T12:09:24.531141",
     "exception": false,
     "start_time": "2024-08-21T12:09:24.526281",
     "status": "completed"
    },
    "tags": [
     "parameters"
    ]
   },
   "outputs": [],
   "source": [
    "comparison_id = None"
   ]
  },
  {
   "cell_type": "code",
   "execution_count": 5,
   "id": "0deae8d3",
   "metadata": {
    "execution": {
     "iopub.execute_input": "2024-08-21T12:09:24.534017Z",
     "iopub.status.busy": "2024-08-21T12:09:24.533918Z",
     "iopub.status.idle": "2024-08-21T12:09:24.535372Z",
     "shell.execute_reply": "2024-08-21T12:09:24.535175Z"
    },
    "papermill": {
     "duration": 0.003621,
     "end_time": "2024-08-21T12:09:24.536033",
     "exception": false,
     "start_time": "2024-08-21T12:09:24.532412",
     "status": "completed"
    },
    "tags": [
     "injected-parameters"
    ]
   },
   "outputs": [],
   "source": [
    "# Parameters\n",
    "comparison_id = 2\n"
   ]
  },
  {
   "cell_type": "code",
   "execution_count": 6,
   "id": "dade2b7e",
   "metadata": {
    "execution": {
     "iopub.execute_input": "2024-08-21T12:09:24.538879Z",
     "iopub.status.busy": "2024-08-21T12:09:24.538777Z",
     "iopub.status.idle": "2024-08-21T12:09:24.556041Z",
     "shell.execute_reply": "2024-08-21T12:09:24.555800Z"
    },
    "papermill": {
     "duration": 0.019556,
     "end_time": "2024-08-21T12:09:24.556814",
     "exception": false,
     "start_time": "2024-08-21T12:09:24.537258",
     "status": "completed"
    },
    "tags": []
   },
   "outputs": [
    {
     "name": "stdout",
     "output_type": "stream",
     "text": [
      "Comparing customer_profile_4 and customer_profile_5\n",
      "Finished preprocessing logistic dataset. Split on customer_profile_4 and customer_profile_5 with resulting source shape: (996, 3), target shape: (996, 3).\n",
      "['Connection', 'Weight', 'Unit_type']\n"
     ]
    }
   ],
   "source": [
    "\n",
    "# Load the data\n",
    "comparison_dict = {0: [0,1], 1: [2,3], 2: [4,5]}\n",
    "path_customer_profiles = open('./Results_Experiments/File_Paths/path_customer_profiles.txt','r').read()\n",
    "path_transport_graphics = open('./Results_Experiments/File_Paths/path_transport_graphics.txt','r').read()\n",
    "source = pd.read_csv(f'../{path_customer_profiles}/customer_profile_{comparison_dict[comparison_id][0]}.csv')\n",
    "target = pd.read_csv(f'../{path_customer_profiles}/customer_profile_{comparison_dict[comparison_id][1]}.csv')\n",
    "equal_week_split = True\n",
    "source, target, feature_names = load_and_preprocess_logistics_data(rng, n_samples, return_column_names=True,equal_week_split=equal_week_split, comparison_id=\n",
    "            comparison_id, comparison_dict=comparison_dict)\n",
    "print(feature_names)"
   ]
  },
  {
   "cell_type": "code",
   "execution_count": 7,
   "id": "296df3b5",
   "metadata": {
    "execution": {
     "iopub.execute_input": "2024-08-21T12:09:24.560017Z",
     "iopub.status.busy": "2024-08-21T12:09:24.559906Z",
     "iopub.status.idle": "2024-08-21T12:09:24.562352Z",
     "shell.execute_reply": "2024-08-21T12:09:24.562133Z"
    },
    "papermill": {
     "duration": 0.004914,
     "end_time": "2024-08-21T12:09:24.563110",
     "exception": false,
     "start_time": "2024-08-21T12:09:24.558196",
     "status": "completed"
    },
    "tags": []
   },
   "outputs": [],
   "source": [
    "# standardize the source and target data, and convert to domain labels\n",
    "from sklearn.preprocessing import StandardScaler\n",
    "X = np.concatenate((source, target), axis=0)\n",
    "# standardize X to remove cardinatlity bias\n",
    "X = StandardScaler().fit_transform(X)\n",
    "y = np.concatenate((np.zeros(source.shape[0]),\n",
    "                    np.ones(target.shape[0])), axis=0)  # domain labels"
   ]
  },
  {
   "cell_type": "code",
   "execution_count": 8,
   "id": "c5422e1f",
   "metadata": {
    "execution": {
     "iopub.execute_input": "2024-08-21T12:09:24.566062Z",
     "iopub.status.busy": "2024-08-21T12:09:24.565971Z",
     "iopub.status.idle": "2024-08-21T12:09:24.615044Z",
     "shell.execute_reply": "2024-08-21T12:09:24.614790Z"
    },
    "papermill": {
     "duration": 0.05158,
     "end_time": "2024-08-21T12:09:24.615972",
     "exception": false,
     "start_time": "2024-08-21T12:09:24.564392",
     "status": "completed"
    },
    "tags": []
   },
   "outputs": [],
   "source": [
    "from sklearn.datasets import make_classification\n",
    "from sklearn.model_selection import train_test_split\n",
    "\n",
    "X_train, X_test, y_train, y_test = train_test_split(X, y,\n",
    "                                     stratify=y, random_state=42)"
   ]
  },
  {
   "cell_type": "code",
   "execution_count": 9,
   "id": "5d9ba299",
   "metadata": {
    "execution": {
     "iopub.execute_input": "2024-08-21T12:09:24.619150Z",
     "iopub.status.busy": "2024-08-21T12:09:24.619017Z",
     "iopub.status.idle": "2024-08-21T12:09:24.632937Z",
     "shell.execute_reply": "2024-08-21T12:09:24.632665Z"
    },
    "papermill": {
     "duration": 0.016367,
     "end_time": "2024-08-21T12:09:24.633821",
     "exception": false,
     "start_time": "2024-08-21T12:09:24.617454",
     "status": "completed"
    },
    "tags": []
   },
   "outputs": [],
   "source": [
    "# Using XGBoost\n",
    "import xgboost\n",
    "\n",
    "def fit_xgboost(X_train, y_train, X_test, y_test, feature_names=None):\n",
    "    \"\"\" Train an XGBoost model with early stopping.\n",
    "    \"\"\"\n",
    "    dtrain = xgboost.DMatrix(X_train, label=y_train, feature_names=feature_names)\n",
    "    dtest = xgboost.DMatrix(X_test, label=y_test, feature_names=feature_names)\n",
    "    # model = xgboost.train(\n",
    "    #     { \"eta\": 0.001, \"subsample\": 0.5, \"max_depth\": 2,\n",
    "    #       \"objective\": 'binary:logistic', 'eval_metric': 'logloss'}, dtrain, num_boost_round=200000,\n",
    "    #     evals=[(dtest,'eval'), (dtrain,'train')], early_stopping_rounds=20, verbose_eval=False\n",
    "    # )\n",
    "    model = xgboost.train(\n",
    "        {\"objective\": 'binary:logistic', 'eval_metric': 'logloss'},\n",
    "        dtrain,\n",
    "        evals=[(dtest,'eval'), (dtrain,'train')],\n",
    "        verbose_eval=False)\n",
    "    return model"
   ]
  },
  {
   "cell_type": "code",
   "execution_count": 10,
   "id": "bd7ac9f1",
   "metadata": {
    "execution": {
     "iopub.execute_input": "2024-08-21T12:09:24.636910Z",
     "iopub.status.busy": "2024-08-21T12:09:24.636801Z",
     "iopub.status.idle": "2024-08-21T12:09:24.651738Z",
     "shell.execute_reply": "2024-08-21T12:09:24.651508Z"
    },
    "papermill": {
     "duration": 0.017405,
     "end_time": "2024-08-21T12:09:24.652567",
     "exception": false,
     "start_time": "2024-08-21T12:09:24.635162",
     "status": "completed"
    },
    "tags": []
   },
   "outputs": [],
   "source": [
    "xgb_forest = fit_xgboost(X_train, y_train, X_test, y_test, feature_names)\n",
    "xgb_forest.feature_names = feature_names"
   ]
  },
  {
   "cell_type": "code",
   "execution_count": 11,
   "id": "dcaa3020",
   "metadata": {
    "execution": {
     "iopub.execute_input": "2024-08-21T12:09:24.655605Z",
     "iopub.status.busy": "2024-08-21T12:09:24.655503Z",
     "iopub.status.idle": "2024-08-21T12:09:24.657415Z",
     "shell.execute_reply": "2024-08-21T12:09:24.657179Z"
    },
    "papermill": {
     "duration": 0.004244,
     "end_time": "2024-08-21T12:09:24.658158",
     "exception": false,
     "start_time": "2024-08-21T12:09:24.653914",
     "status": "completed"
    },
    "tags": []
   },
   "outputs": [],
   "source": [
    "def get_acc(model, samples, labels, feature_names=None):\n",
    "    predictions = (model.predict(xgboost.DMatrix(samples,\n",
    "                                                 feature_names=feature_names)) > 0.5).astype(int)\n",
    "    return (predictions == labels).sum() / predictions.shape[0]"
   ]
  },
  {
   "cell_type": "code",
   "execution_count": 12,
   "id": "7ce6b380",
   "metadata": {
    "execution": {
     "iopub.execute_input": "2024-08-21T12:09:24.661113Z",
     "iopub.status.busy": "2024-08-21T12:09:24.661021Z",
     "iopub.status.idle": "2024-08-21T12:09:24.663796Z",
     "shell.execute_reply": "2024-08-21T12:09:24.663592Z"
    },
    "papermill": {
     "duration": 0.005081,
     "end_time": "2024-08-21T12:09:24.664527",
     "exception": false,
     "start_time": "2024-08-21T12:09:24.659446",
     "status": "completed"
    },
    "tags": []
   },
   "outputs": [
    {
     "name": "stdout",
     "output_type": "stream",
     "text": [
      "Train score: 0.7650602409638554\n",
      "Test score: 0.6767068273092369\n"
     ]
    }
   ],
   "source": [
    "print('Train score:', get_acc(xgb_forest, X_train, y_train, feature_names))\n",
    "print('Test score:', get_acc(xgb_forest, X_test, y_test, feature_names))"
   ]
  },
  {
   "cell_type": "code",
   "execution_count": 13,
   "id": "97a1d2b0",
   "metadata": {
    "execution": {
     "iopub.execute_input": "2024-08-21T12:09:24.667393Z",
     "iopub.status.busy": "2024-08-21T12:09:24.667298Z",
     "iopub.status.idle": "2024-08-21T12:09:24.913016Z",
     "shell.execute_reply": "2024-08-21T12:09:24.912703Z"
    },
    "papermill": {
     "duration": 0.248198,
     "end_time": "2024-08-21T12:09:24.913958",
     "exception": false,
     "start_time": "2024-08-21T12:09:24.665760",
     "status": "completed"
    },
    "tags": []
   },
   "outputs": [],
   "source": [
    "import shap\n",
    "import pandas as pd\n",
    "explainer = shap.Explainer(xgb_forest)\n",
    "\n",
    "shap_values = explainer(pd.DataFrame(X_test, columns=feature_names))\n"
   ]
  },
  {
   "cell_type": "code",
   "execution_count": 14,
   "id": "8e7a54a8",
   "metadata": {
    "execution": {
     "iopub.execute_input": "2024-08-21T12:09:24.917255Z",
     "iopub.status.busy": "2024-08-21T12:09:24.917112Z",
     "iopub.status.idle": "2024-08-21T12:09:25.229965Z",
     "shell.execute_reply": "2024-08-21T12:09:25.229583Z"
    },
    "papermill": {
     "duration": 0.315367,
     "end_time": "2024-08-21T12:09:25.230826",
     "exception": false,
     "start_time": "2024-08-21T12:09:24.915459",
     "status": "completed"
    },
    "tags": []
   },
   "outputs": [
    {
     "data": {
      "image/png": "[encoded data removed]",
      "text/plain": [
       "<Figure size 400x100 with 2 Axes>"
      ]
     },
     "metadata": {},
     "output_type": "display_data"
    }
   ],
   "source": [
    "# Beeswarm plot\n",
    "\n",
    "shap.plots.beeswarm(shap_values, show=False)\n",
    "fig = plt.gcf()\n",
    "fig.set_size_inches(4, 1, forward=True)\n",
    "if save_figures: plt.savefig(\n",
    "    f'../{path_transport_graphics}/logitics_data_on_customer_profile_{comparison_dict[comparison_id][0]} and customer_profile_{comparison_dict[comparison_id][1]}-shap-value.{save_parms[\"format\"]}',\n",
    "    **save_parms\n",
    "    )\n",
    "plt.show()"
   ]
  }
 ],
 "metadata": {
  "kernelspec": {
   "display_name": "Python 3.7.11 ('py37')",
   "language": "python",
   "name": "python3"
  },
  "language_info": {
   "codemirror_mode": {
    "name": "ipython",
    "version": 3
   },
   "file_extension": ".py",
   "mimetype": "text/x-python",
   "name": "python",
   "nbconvert_exporter": "python",
   "pygments_lexer": "ipython3",
   "version": "3.12.0"
  },
  "papermill": {
   "default_parameters": {},
   "duration": 2.512848,
   "end_time": "2024-08-21T12:09:25.549335",
   "environment_variables": {},
   "exception": null,
   "input_path": "experiment_baseline.ipynb",
   "output_path": "./Results_Experiments/Baseline/experiment_baseline_3.ipynb",
   "parameters": {
    "comparison_id": 2
   },
   "start_time": "2024-08-21T12:09:23.036487",
   "version": "2.6.0"
  },
  "vscode": {
   "interpreter": {
    "hash": "5ab0220f0ca30ec7bac8a7e209564eceae6d15412b9f87f3c2f91206aa8b151c"
   }
  }
 },
 "nbformat": 4,
 "nbformat_minor": 5
}