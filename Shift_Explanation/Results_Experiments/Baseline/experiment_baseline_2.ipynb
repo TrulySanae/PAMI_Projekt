{
 "cells": [
  {
   "cell_type": "code",
   "execution_count": 1,
   "id": "d05cab18",
   "metadata": {
    "execution": {
     "iopub.execute_input": "2024-08-21T11:11:45.834016Z",
     "iopub.status.busy": "2024-08-21T11:11:45.833556Z",
     "iopub.status.idle": "2024-08-21T11:11:46.650321Z",
     "shell.execute_reply": "2024-08-21T11:11:46.650035Z"
    },
    "papermill": {
     "duration": 0.826154,
     "end_time": "2024-08-21T11:11:46.651365",
     "exception": false,
     "start_time": "2024-08-21T11:11:45.825211",
     "status": "completed"
    },
    "tags": []
   },
   "outputs": [],
   "source": [
    "import matplotlib.pyplot as plt\n",
    "import numpy as np\n",
    "import pandas as pd\n",
    "from pathlib import Path\n",
    "import seaborn as sn\n"
   ]
  },
  {
   "cell_type": "code",
   "execution_count": 2,
   "id": "d6302d10",
   "metadata": {
    "execution": {
     "iopub.execute_input": "2024-08-21T11:11:46.655644Z",
     "iopub.status.busy": "2024-08-21T11:11:46.655494Z",
     "iopub.status.idle": "2024-08-21T11:11:46.658382Z",
     "shell.execute_reply": "2024-08-21T11:11:46.658155Z"
    },
    "papermill": {
     "duration": 0.00642,
     "end_time": "2024-08-21T11:11:46.659238",
     "exception": false,
     "start_time": "2024-08-21T11:11:46.652818",
     "status": "completed"
    },
    "tags": []
   },
   "outputs": [],
   "source": [
    "# Setting so that the plots look normal even when using dark-reader\n",
    "sn.set_style(\"whitegrid\")\n",
    "sn.set_context(context=\"paper\", font_scale=2)\n",
    "pal = sn.color_palette(\"Set1\")\n",
    "\n",
    "# Setting up specifics for plotting + saving\n",
    "save_figures = True\n",
    "add_legend = False\n",
    "add_title = False\n",
    "add_axis = False\n",
    "save_parms = {'format': 'pdf','bbox_inches':'tight', 'pad_inches':0.1}\n",
    "line_parms = {'linewidth':4, 'color':'k'}\n",
    "if save_figures:  # saves all figures in a figure directory in the local directory\n",
    "    figure_dir = Path('.') / 'figures' / 'adult-income-experiment'\n",
    "    if not figure_dir.exists():\n",
    "        figure_dir.mkdir(parents=True)"
   ]
  },
  {
   "cell_type": "code",
   "execution_count": 3,
   "id": "22d1d0e0",
   "metadata": {
    "execution": {
     "iopub.execute_input": "2024-08-21T11:11:46.663932Z",
     "iopub.status.busy": "2024-08-21T11:11:46.663795Z",
     "iopub.status.idle": "2024-08-21T11:11:46.665742Z",
     "shell.execute_reply": "2024-08-21T11:11:46.665502Z"
    },
    "papermill": {
     "duration": 0.00585,
     "end_time": "2024-08-21T11:11:46.666529",
     "exception": false,
     "start_time": "2024-08-21T11:11:46.660679",
     "status": "completed"
    },
    "tags": []
   },
   "outputs": [],
   "source": [
    "# Experiment hyperparamters\n",
    "rng = np.random.RandomState(42)\n",
    "split_on_income = False  # if True: src := income>=50k, tgt :+ income<50k, if False: src := male, tgt := female\n",
    "n_samples = 1000"
   ]
  },
  {
   "cell_type": "code",
   "execution_count": 4,
   "id": "48ff09ec",
   "metadata": {
    "execution": {
     "iopub.execute_input": "2024-08-21T11:11:46.669401Z",
     "iopub.status.busy": "2024-08-21T11:11:46.669303Z",
     "iopub.status.idle": "2024-08-21T11:11:46.670733Z",
     "shell.execute_reply": "2024-08-21T11:11:46.670507Z"
    },
    "papermill": {
     "duration": 0.003629,
     "end_time": "2024-08-21T11:11:46.671426",
     "exception": false,
     "start_time": "2024-08-21T11:11:46.667797",
     "status": "completed"
    },
    "tags": [
     "parameters"
    ]
   },
   "outputs": [],
   "source": [
    "comparison_id = None"
   ]
  },
  {
   "cell_type": "code",
   "execution_count": 5,
   "id": "bbc8ce0c",
   "metadata": {
    "execution": {
     "iopub.execute_input": "2024-08-21T11:11:46.674505Z",
     "iopub.status.busy": "2024-08-21T11:11:46.674305Z",
     "iopub.status.idle": "2024-08-21T11:11:46.676185Z",
     "shell.execute_reply": "2024-08-21T11:11:46.675913Z"
    },
    "papermill": {
     "duration": 0.004322,
     "end_time": "2024-08-21T11:11:46.676958",
     "exception": false,
     "start_time": "2024-08-21T11:11:46.672636",
     "status": "completed"
    },
    "tags": [
     "injected-parameters"
    ]
   },
   "outputs": [],
   "source": [
    "# Parameters\n",
    "comparison_id = 1\n"
   ]
  },
  {
   "cell_type": "code",
   "execution_count": 6,
   "id": "dade2b7e",
   "metadata": {
    "execution": {
     "iopub.execute_input": "2024-08-21T11:11:46.680345Z",
     "iopub.status.busy": "2024-08-21T11:11:46.680218Z",
     "iopub.status.idle": "2024-08-21T11:11:46.688348Z",
     "shell.execute_reply": "2024-08-21T11:11:46.688067Z"
    },
    "papermill": {
     "duration": 0.01072,
     "end_time": "2024-08-21T11:11:46.689119",
     "exception": false,
     "start_time": "2024-08-21T11:11:46.678399",
     "status": "completed"
    },
    "tags": []
   },
   "outputs": [
    {
     "name": "stdout",
     "output_type": "stream",
     "text": [
      "['Customer_id', 'Connection', 'Weight', 'Unit_type', 'Day', 'Week']\n"
     ]
    }
   ],
   "source": [
    "\n",
    "# Load the data\n",
    "comparison_dict = {0: [0,1], 1: [2,3], 2: [4,5]}\n",
    "path_customer_profiles = open('./Results_Experiments/File_Paths/path_customer_profiles.txt','r').read()\n",
    "path_transport_graphics = open('./Results_Experiments/File_Paths/path_transport_graphics.txt','r').read()\n",
    "source = pd.read_csv(f'../{path_customer_profiles}/customer_profile_{comparison_dict[comparison_id][0]}.csv')\n",
    "target = pd.read_csv(f'../{path_customer_profiles}/customer_profile_{comparison_dict[comparison_id][1]}.csv')\n",
    "\n",
    "feature_names = source.columns.values\n",
    "feature_names = list(feature_names)\n",
    "print(feature_names)"
   ]
  },
  {
   "cell_type": "code",
   "execution_count": 7,
   "id": "296df3b5",
   "metadata": {
    "execution": {
     "iopub.execute_input": "2024-08-21T11:11:46.692843Z",
     "iopub.status.busy": "2024-08-21T11:11:46.692677Z",
     "iopub.status.idle": "2024-08-21T11:11:46.724174Z",
     "shell.execute_reply": "2024-08-21T11:11:46.723886Z"
    },
    "papermill": {
     "duration": 0.034518,
     "end_time": "2024-08-21T11:11:46.725128",
     "exception": false,
     "start_time": "2024-08-21T11:11:46.690610",
     "status": "completed"
    },
    "tags": []
   },
   "outputs": [],
   "source": [
    "# standardize the source and target data, and convert to domain labels\n",
    "from sklearn.preprocessing import StandardScaler\n",
    "X = np.concatenate((source, target), axis=0)\n",
    "# standardize X to remove cardinatlity bias\n",
    "X = StandardScaler().fit_transform(X)\n",
    "y = np.concatenate((np.zeros(source.shape[0]),\n",
    "                    np.ones(target.shape[0])), axis=0)  # domain labels"
   ]
  },
  {
   "cell_type": "code",
   "execution_count": 8,
   "id": "c5422e1f",
   "metadata": {
    "execution": {
     "iopub.execute_input": "2024-08-21T11:11:46.728268Z",
     "iopub.status.busy": "2024-08-21T11:11:46.728121Z",
     "iopub.status.idle": "2024-08-21T11:11:46.780224Z",
     "shell.execute_reply": "2024-08-21T11:11:46.779940Z"
    },
    "papermill": {
     "duration": 0.054573,
     "end_time": "2024-08-21T11:11:46.781077",
     "exception": false,
     "start_time": "2024-08-21T11:11:46.726504",
     "status": "completed"
    },
    "tags": []
   },
   "outputs": [],
   "source": [
    "from sklearn.datasets import make_classification\n",
    "from sklearn.model_selection import train_test_split\n",
    "\n",
    "X_train, X_test, y_train, y_test = train_test_split(X, y,\n",
    "                                     stratify=y, random_state=42)"
   ]
  },
  {
   "cell_type": "code",
   "execution_count": 9,
   "id": "5d9ba299",
   "metadata": {
    "execution": {
     "iopub.execute_input": "2024-08-21T11:11:46.784351Z",
     "iopub.status.busy": "2024-08-21T11:11:46.784211Z",
     "iopub.status.idle": "2024-08-21T11:11:46.798371Z",
     "shell.execute_reply": "2024-08-21T11:11:46.798060Z"
    },
    "papermill": {
     "duration": 0.016762,
     "end_time": "2024-08-21T11:11:46.799310",
     "exception": false,
     "start_time": "2024-08-21T11:11:46.782548",
     "status": "completed"
    },
    "tags": []
   },
   "outputs": [],
   "source": [
    "# Using XGBoost\n",
    "import xgboost\n",
    "\n",
    "def fit_xgboost(X_train, y_train, X_test, y_test, feature_names=None):\n",
    "    \"\"\" Train an XGBoost model with early stopping.\n",
    "    \"\"\"\n",
    "    dtrain = xgboost.DMatrix(X_train, label=y_train, feature_names=feature_names)\n",
    "    dtest = xgboost.DMatrix(X_test, label=y_test, feature_names=feature_names)\n",
    "    # model = xgboost.train(\n",
    "    #     { \"eta\": 0.001, \"subsample\": 0.5, \"max_depth\": 2,\n",
    "    #       \"objective\": 'binary:logistic', 'eval_metric': 'logloss'}, dtrain, num_boost_round=200000,\n",
    "    #     evals=[(dtest,'eval'), (dtrain,'train')], early_stopping_rounds=20, verbose_eval=False\n",
    "    # )\n",
    "    model = xgboost.train(\n",
    "        {\"objective\": 'binary:logistic', 'eval_metric': 'logloss'},\n",
    "        dtrain,\n",
    "        evals=[(dtest,'eval'), (dtrain,'train')],\n",
    "        verbose_eval=False)\n",
    "    return model"
   ]
  },
  {
   "cell_type": "code",
   "execution_count": 10,
   "id": "bd7ac9f1",
   "metadata": {
    "execution": {
     "iopub.execute_input": "2024-08-21T11:11:46.802480Z",
     "iopub.status.busy": "2024-08-21T11:11:46.802369Z",
     "iopub.status.idle": "2024-08-21T11:11:46.821632Z",
     "shell.execute_reply": "2024-08-21T11:11:46.821358Z"
    },
    "papermill": {
     "duration": 0.021927,
     "end_time": "2024-08-21T11:11:46.822582",
     "exception": false,
     "start_time": "2024-08-21T11:11:46.800655",
     "status": "completed"
    },
    "tags": []
   },
   "outputs": [],
   "source": [
    "xgb_forest = fit_xgboost(X_train, y_train, X_test, y_test, feature_names)\n",
    "xgb_forest.feature_names = feature_names"
   ]
  },
  {
   "cell_type": "code",
   "execution_count": 11,
   "id": "dcaa3020",
   "metadata": {
    "execution": {
     "iopub.execute_input": "2024-08-21T11:11:46.825998Z",
     "iopub.status.busy": "2024-08-21T11:11:46.825884Z",
     "iopub.status.idle": "2024-08-21T11:11:46.827755Z",
     "shell.execute_reply": "2024-08-21T11:11:46.827515Z"
    },
    "papermill": {
     "duration": 0.004544,
     "end_time": "2024-08-21T11:11:46.828491",
     "exception": false,
     "start_time": "2024-08-21T11:11:46.823947",
     "status": "completed"
    },
    "tags": []
   },
   "outputs": [],
   "source": [
    "def get_acc(model, samples, labels, feature_names=None):\n",
    "    predictions = (model.predict(xgboost.DMatrix(samples,\n",
    "                                                 feature_names=feature_names)) > 0.5).astype(int)\n",
    "    return (predictions == labels).sum() / predictions.shape[0]"
   ]
  },
  {
   "cell_type": "code",
   "execution_count": 12,
   "id": "7ce6b380",
   "metadata": {
    "execution": {
     "iopub.execute_input": "2024-08-21T11:11:46.831396Z",
     "iopub.status.busy": "2024-08-21T11:11:46.831304Z",
     "iopub.status.idle": "2024-08-21T11:11:46.834944Z",
     "shell.execute_reply": "2024-08-21T11:11:46.834691Z"
    },
    "papermill": {
     "duration": 0.005892,
     "end_time": "2024-08-21T11:11:46.835653",
     "exception": false,
     "start_time": "2024-08-21T11:11:46.829761",
     "status": "completed"
    },
    "tags": []
   },
   "outputs": [
    {
     "name": "stdout",
     "output_type": "stream",
     "text": [
      "Train score: 0.8941323540901633\n",
      "Test score: 0.8966486993203656\n"
     ]
    }
   ],
   "source": [
    "print('Train score:', get_acc(xgb_forest, X_train, y_train, feature_names))\n",
    "print('Test score:', get_acc(xgb_forest, X_test, y_test, feature_names))"
   ]
  },
  {
   "cell_type": "code",
   "execution_count": 13,
   "id": "97a1d2b0",
   "metadata": {
    "execution": {
     "iopub.execute_input": "2024-08-21T11:11:46.838689Z",
     "iopub.status.busy": "2024-08-21T11:11:46.838594Z",
     "iopub.status.idle": "2024-08-21T11:11:47.092614Z",
     "shell.execute_reply": "2024-08-21T11:11:47.092355Z"
    },
    "papermill": {
     "duration": 0.256618,
     "end_time": "2024-08-21T11:11:47.093602",
     "exception": false,
     "start_time": "2024-08-21T11:11:46.836984",
     "status": "completed"
    },
    "tags": []
   },
   "outputs": [],
   "source": [
    "import shap\n",
    "import pandas as pd\n",
    "explainer = shap.Explainer(xgb_forest)\n",
    "\n",
    "shap_values = explainer(pd.DataFrame(X_test, columns=feature_names))\n"
   ]
  },
  {
   "cell_type": "code",
   "execution_count": 14,
   "id": "8e7a54a8",
   "metadata": {
    "execution": {
     "iopub.execute_input": "2024-08-21T11:11:47.097136Z",
     "iopub.status.busy": "2024-08-21T11:11:47.096981Z",
     "iopub.status.idle": "2024-08-21T11:11:47.649992Z",
     "shell.execute_reply": "2024-08-21T11:11:47.649733Z"
    },
    "papermill": {
     "duration": 0.555617,
     "end_time": "2024-08-21T11:11:47.650815",
     "exception": false,
     "start_time": "2024-08-21T11:11:47.095198",
     "status": "completed"
    },
    "tags": []
   },
   "outputs": [
    {
     "data": {
      "image/png": "[encoded data removed]",
      "text/plain": [
       "<Figure size 400x200 with 2 Axes>"
      ]
     },
     "metadata": {},
     "output_type": "display_data"
    }
   ],
   "source": [
    "# Beeswarm plot\n",
    "\n",
    "shap.plots.beeswarm(shap_values, show=False)\n",
    "fig = plt.gcf()\n",
    "fig.set_size_inches(4, 2, forward=True)\n",
    "if save_figures: plt.savefig(\n",
    "    f'../{path_transport_graphics}/logitics_data_on_customer_profile_{comparison_dict[comparison_id][0]} and customer_profile_{comparison_dict[comparison_id][1]}-shap-value.{save_parms[\"format\"]}',\n",
    "    **save_parms\n",
    "    )\n",
    "plt.show()"
   ]
  }
 ],
 "metadata": {
  "kernelspec": {
   "display_name": "Python 3.7.11 ('py37')",
   "language": "python",
   "name": "python3"
  },
  "language_info": {
   "codemirror_mode": {
    "name": "ipython",
    "version": 3
   },
   "file_extension": ".py",
   "mimetype": "text/x-python",
   "name": "python",
   "nbconvert_exporter": "python",
   "pygments_lexer": "ipython3",
   "version": "3.12.0"
  },
  "papermill": {
   "default_parameters": {},
   "duration": 2.852035,
   "end_time": "2024-08-21T11:11:47.970263",
   "environment_variables": {},
   "exception": null,
   "input_path": "experiment_baseline.ipynb",
   "output_path": "./Results_Experiments/Baseline/experiment_baseline_2.ipynb",
   "parameters": {
    "comparison_id": 1
   },
   "start_time": "2024-08-21T11:11:45.118228",
   "version": "2.6.0"
  },
  "vscode": {
   "interpreter": {
    "hash": "5ab0220f0ca30ec7bac8a7e209564eceae6d15412b9f87f3c2f91206aa8b151c"
   }
  }
 },
 "nbformat": 4,
 "nbformat_minor": 5
}