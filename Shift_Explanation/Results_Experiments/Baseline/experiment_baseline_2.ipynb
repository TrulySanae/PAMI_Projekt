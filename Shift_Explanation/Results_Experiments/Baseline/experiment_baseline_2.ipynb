{
 "cells": [
  {
   "cell_type": "code",
   "execution_count": 1,
   "id": "d05cab18",
   "metadata": {
    "execution": {
     "iopub.execute_input": "2024-08-21T12:09:21.123333Z",
     "iopub.status.busy": "2024-08-21T12:09:21.122598Z",
     "iopub.status.idle": "2024-08-21T12:09:21.986508Z",
     "shell.execute_reply": "2024-08-21T12:09:21.986197Z"
    },
    "papermill": {
     "duration": 0.87256,
     "end_time": "2024-08-21T12:09:21.987454",
     "exception": false,
     "start_time": "2024-08-21T12:09:21.114894",
     "status": "completed"
    },
    "tags": []
   },
   "outputs": [],
   "source": [
    "import matplotlib.pyplot as plt\n",
    "import numpy as np\n",
    "import pandas as pd\n",
    "from pathlib import Path\n",
    "import seaborn as sn\n",
    "from data_utils import load_and_preprocess_logistics_data"
   ]
  },
  {
   "cell_type": "code",
   "execution_count": 2,
   "id": "d6302d10",
   "metadata": {
    "execution": {
     "iopub.execute_input": "2024-08-21T12:09:21.990774Z",
     "iopub.status.busy": "2024-08-21T12:09:21.990579Z",
     "iopub.status.idle": "2024-08-21T12:09:21.993259Z",
     "shell.execute_reply": "2024-08-21T12:09:21.993052Z"
    },
    "papermill": {
     "duration": 0.005078,
     "end_time": "2024-08-21T12:09:21.994019",
     "exception": false,
     "start_time": "2024-08-21T12:09:21.988941",
     "status": "completed"
    },
    "tags": []
   },
   "outputs": [],
   "source": [
    "# Setting so that the plots look normal even when using dark-reader\n",
    "sn.set_style(\"whitegrid\")\n",
    "sn.set_context(context=\"paper\", font_scale=2)\n",
    "pal = sn.color_palette(\"Set1\")\n",
    "\n",
    "# Setting up specifics for plotting + saving\n",
    "save_figures = True\n",
    "add_legend = False\n",
    "add_title = False\n",
    "add_axis = False\n",
    "save_parms = {'format': 'pdf','bbox_inches':'tight', 'pad_inches':0.1}\n",
    "line_parms = {'linewidth':4, 'color':'k'}\n",
    "if save_figures:  # saves all figures in a figure directory in the local directory\n",
    "    figure_dir = Path('.') / 'figures' / 'adult-income-experiment'\n",
    "    if not figure_dir.exists():\n",
    "        figure_dir.mkdir(parents=True)"
   ]
  },
  {
   "cell_type": "code",
   "execution_count": 3,
   "id": "22d1d0e0",
   "metadata": {
    "execution": {
     "iopub.execute_input": "2024-08-21T12:09:21.997045Z",
     "iopub.status.busy": "2024-08-21T12:09:21.996939Z",
     "iopub.status.idle": "2024-08-21T12:09:21.998730Z",
     "shell.execute_reply": "2024-08-21T12:09:21.998512Z"
    },
    "papermill": {
     "duration": 0.004122,
     "end_time": "2024-08-21T12:09:21.999446",
     "exception": false,
     "start_time": "2024-08-21T12:09:21.995324",
     "status": "completed"
    },
    "tags": []
   },
   "outputs": [],
   "source": [
    "# Experiment hyperparamters\n",
    "rng = np.random.RandomState(42)\n",
    "split_on_income = False  # if True: src := income>=50k, tgt :+ income<50k, if False: src := male, tgt := female\n",
    "n_samples = 1000"
   ]
  },
  {
   "cell_type": "code",
   "execution_count": 4,
   "id": "48ff09ec",
   "metadata": {
    "execution": {
     "iopub.execute_input": "2024-08-21T12:09:22.002395Z",
     "iopub.status.busy": "2024-08-21T12:09:22.002230Z",
     "iopub.status.idle": "2024-08-21T12:09:22.003866Z",
     "shell.execute_reply": "2024-08-21T12:09:22.003616Z"
    },
    "papermill": {
     "duration": 0.003995,
     "end_time": "2024-08-21T12:09:22.004619",
     "exception": false,
     "start_time": "2024-08-21T12:09:22.000624",
     "status": "completed"
    },
    "tags": [
     "parameters"
    ]
   },
   "outputs": [],
   "source": [
    "comparison_id = None"
   ]
  },
  {
   "cell_type": "code",
   "execution_count": 5,
   "id": "2423c30a",
   "metadata": {
    "execution": {
     "iopub.execute_input": "2024-08-21T12:09:22.007860Z",
     "iopub.status.busy": "2024-08-21T12:09:22.007678Z",
     "iopub.status.idle": "2024-08-21T12:09:22.009583Z",
     "shell.execute_reply": "2024-08-21T12:09:22.009277Z"
    },
    "papermill": {
     "duration": 0.004448,
     "end_time": "2024-08-21T12:09:22.010414",
     "exception": false,
     "start_time": "2024-08-21T12:09:22.005966",
     "status": "completed"
    },
    "tags": [
     "injected-parameters"
    ]
   },
   "outputs": [],
   "source": [
    "# Parameters\n",
    "comparison_id = 1\n"
   ]
  },
  {
   "cell_type": "code",
   "execution_count": 6,
   "id": "dade2b7e",
   "metadata": {
    "execution": {
     "iopub.execute_input": "2024-08-21T12:09:22.014264Z",
     "iopub.status.busy": "2024-08-21T12:09:22.014134Z",
     "iopub.status.idle": "2024-08-21T12:09:22.032360Z",
     "shell.execute_reply": "2024-08-21T12:09:22.032115Z"
    },
    "papermill": {
     "duration": 0.020872,
     "end_time": "2024-08-21T12:09:22.033111",
     "exception": false,
     "start_time": "2024-08-21T12:09:22.012239",
     "status": "completed"
    },
    "tags": []
   },
   "outputs": [
    {
     "name": "stdout",
     "output_type": "stream",
     "text": [
      "Comparing customer_profile_2 and customer_profile_3\n",
      "Finished preprocessing logistic dataset. Split on customer_profile_2 and customer_profile_3 with resulting source shape: (996, 3), target shape: (996, 3).\n",
      "['Connection', 'Weight', 'Unit_type']\n"
     ]
    }
   ],
   "source": [
    "\n",
    "# Load the data\n",
    "comparison_dict = {0: [0,1], 1: [2,3], 2: [4,5]}\n",
    "path_customer_profiles = open('./Results_Experiments/File_Paths/path_customer_profiles.txt','r').read()\n",
    "path_transport_graphics = open('./Results_Experiments/File_Paths/path_transport_graphics.txt','r').read()\n",
    "source = pd.read_csv(f'../{path_customer_profiles}/customer_profile_{comparison_dict[comparison_id][0]}.csv')\n",
    "target = pd.read_csv(f'../{path_customer_profiles}/customer_profile_{comparison_dict[comparison_id][1]}.csv')\n",
    "equal_week_split = True\n",
    "source, target, feature_names = load_and_preprocess_logistics_data(rng, n_samples, return_column_names=True,equal_week_split=equal_week_split, comparison_id=\n",
    "            comparison_id, comparison_dict=comparison_dict)\n",
    "print(feature_names)"
   ]
  },
  {
   "cell_type": "code",
   "execution_count": 7,
   "id": "296df3b5",
   "metadata": {
    "execution": {
     "iopub.execute_input": "2024-08-21T12:09:22.036239Z",
     "iopub.status.busy": "2024-08-21T12:09:22.036135Z",
     "iopub.status.idle": "2024-08-21T12:09:22.038516Z",
     "shell.execute_reply": "2024-08-21T12:09:22.038316Z"
    },
    "papermill": {
     "duration": 0.004707,
     "end_time": "2024-08-21T12:09:22.039247",
     "exception": false,
     "start_time": "2024-08-21T12:09:22.034540",
     "status": "completed"
    },
    "tags": []
   },
   "outputs": [],
   "source": [
    "# standardize the source and target data, and convert to domain labels\n",
    "from sklearn.preprocessing import StandardScaler\n",
    "X = np.concatenate((source, target), axis=0)\n",
    "# standardize X to remove cardinatlity bias\n",
    "X = StandardScaler().fit_transform(X)\n",
    "y = np.concatenate((np.zeros(source.shape[0]),\n",
    "                    np.ones(target.shape[0])), axis=0)  # domain labels"
   ]
  },
  {
   "cell_type": "code",
   "execution_count": 8,
   "id": "c5422e1f",
   "metadata": {
    "execution": {
     "iopub.execute_input": "2024-08-21T12:09:22.042151Z",
     "iopub.status.busy": "2024-08-21T12:09:22.042062Z",
     "iopub.status.idle": "2024-08-21T12:09:22.092593Z",
     "shell.execute_reply": "2024-08-21T12:09:22.092274Z"
    },
    "papermill": {
     "duration": 0.052969,
     "end_time": "2024-08-21T12:09:22.093521",
     "exception": false,
     "start_time": "2024-08-21T12:09:22.040552",
     "status": "completed"
    },
    "tags": []
   },
   "outputs": [],
   "source": [
    "from sklearn.datasets import make_classification\n",
    "from sklearn.model_selection import train_test_split\n",
    "\n",
    "X_train, X_test, y_train, y_test = train_test_split(X, y,\n",
    "                                     stratify=y, random_state=42)"
   ]
  },
  {
   "cell_type": "code",
   "execution_count": 9,
   "id": "5d9ba299",
   "metadata": {
    "execution": {
     "iopub.execute_input": "2024-08-21T12:09:22.096749Z",
     "iopub.status.busy": "2024-08-21T12:09:22.096618Z",
     "iopub.status.idle": "2024-08-21T12:09:22.111426Z",
     "shell.execute_reply": "2024-08-21T12:09:22.111163Z"
    },
    "papermill": {
     "duration": 0.017328,
     "end_time": "2024-08-21T12:09:22.112317",
     "exception": false,
     "start_time": "2024-08-21T12:09:22.094989",
     "status": "completed"
    },
    "tags": []
   },
   "outputs": [],
   "source": [
    "# Using XGBoost\n",
    "import xgboost\n",
    "\n",
    "def fit_xgboost(X_train, y_train, X_test, y_test, feature_names=None):\n",
    "    \"\"\" Train an XGBoost model with early stopping.\n",
    "    \"\"\"\n",
    "    dtrain = xgboost.DMatrix(X_train, label=y_train, feature_names=feature_names)\n",
    "    dtest = xgboost.DMatrix(X_test, label=y_test, feature_names=feature_names)\n",
    "    # model = xgboost.train(\n",
    "    #     { \"eta\": 0.001, \"subsample\": 0.5, \"max_depth\": 2,\n",
    "    #       \"objective\": 'binary:logistic', 'eval_metric': 'logloss'}, dtrain, num_boost_round=200000,\n",
    "    #     evals=[(dtest,'eval'), (dtrain,'train')], early_stopping_rounds=20, verbose_eval=False\n",
    "    # )\n",
    "    model = xgboost.train(\n",
    "        {\"objective\": 'binary:logistic', 'eval_metric': 'logloss'},\n",
    "        dtrain,\n",
    "        evals=[(dtest,'eval'), (dtrain,'train')],\n",
    "        verbose_eval=False)\n",
    "    return model"
   ]
  },
  {
   "cell_type": "code",
   "execution_count": 10,
   "id": "bd7ac9f1",
   "metadata": {
    "execution": {
     "iopub.execute_input": "2024-08-21T12:09:22.115357Z",
     "iopub.status.busy": "2024-08-21T12:09:22.115255Z",
     "iopub.status.idle": "2024-08-21T12:09:22.129875Z",
     "shell.execute_reply": "2024-08-21T12:09:22.129645Z"
    },
    "papermill": {
     "duration": 0.017023,
     "end_time": "2024-08-21T12:09:22.130704",
     "exception": false,
     "start_time": "2024-08-21T12:09:22.113681",
     "status": "completed"
    },
    "tags": []
   },
   "outputs": [],
   "source": [
    "xgb_forest = fit_xgboost(X_train, y_train, X_test, y_test, feature_names)\n",
    "xgb_forest.feature_names = feature_names"
   ]
  },
  {
   "cell_type": "code",
   "execution_count": 11,
   "id": "dcaa3020",
   "metadata": {
    "execution": {
     "iopub.execute_input": "2024-08-21T12:09:22.133818Z",
     "iopub.status.busy": "2024-08-21T12:09:22.133716Z",
     "iopub.status.idle": "2024-08-21T12:09:22.135642Z",
     "shell.execute_reply": "2024-08-21T12:09:22.135406Z"
    },
    "papermill": {
     "duration": 0.004248,
     "end_time": "2024-08-21T12:09:22.136353",
     "exception": false,
     "start_time": "2024-08-21T12:09:22.132105",
     "status": "completed"
    },
    "tags": []
   },
   "outputs": [],
   "source": [
    "def get_acc(model, samples, labels, feature_names=None):\n",
    "    predictions = (model.predict(xgboost.DMatrix(samples,\n",
    "                                                 feature_names=feature_names)) > 0.5).astype(int)\n",
    "    return (predictions == labels).sum() / predictions.shape[0]"
   ]
  },
  {
   "cell_type": "code",
   "execution_count": 12,
   "id": "7ce6b380",
   "metadata": {
    "execution": {
     "iopub.execute_input": "2024-08-21T12:09:22.139233Z",
     "iopub.status.busy": "2024-08-21T12:09:22.139141Z",
     "iopub.status.idle": "2024-08-21T12:09:22.141830Z",
     "shell.execute_reply": "2024-08-21T12:09:22.141627Z"
    },
    "papermill": {
     "duration": 0.004991,
     "end_time": "2024-08-21T12:09:22.142586",
     "exception": false,
     "start_time": "2024-08-21T12:09:22.137595",
     "status": "completed"
    },
    "tags": []
   },
   "outputs": [
    {
     "name": "stdout",
     "output_type": "stream",
     "text": [
      "Train score: 0.7028112449799196\n",
      "Test score: 0.6124497991967871\n"
     ]
    }
   ],
   "source": [
    "print('Train score:', get_acc(xgb_forest, X_train, y_train, feature_names))\n",
    "print('Test score:', get_acc(xgb_forest, X_test, y_test, feature_names))"
   ]
  },
  {
   "cell_type": "code",
   "execution_count": 13,
   "id": "97a1d2b0",
   "metadata": {
    "execution": {
     "iopub.execute_input": "2024-08-21T12:09:22.145539Z",
     "iopub.status.busy": "2024-08-21T12:09:22.145429Z",
     "iopub.status.idle": "2024-08-21T12:09:22.385727Z",
     "shell.execute_reply": "2024-08-21T12:09:22.385481Z"
    },
    "papermill": {
     "duration": 0.242794,
     "end_time": "2024-08-21T12:09:22.386656",
     "exception": false,
     "start_time": "2024-08-21T12:09:22.143862",
     "status": "completed"
    },
    "tags": []
   },
   "outputs": [],
   "source": [
    "import shap\n",
    "import pandas as pd\n",
    "explainer = shap.Explainer(xgb_forest)\n",
    "\n",
    "shap_values = explainer(pd.DataFrame(X_test, columns=feature_names))\n"
   ]
  },
  {
   "cell_type": "code",
   "execution_count": 14,
   "id": "8e7a54a8",
   "metadata": {
    "execution": {
     "iopub.execute_input": "2024-08-21T12:09:22.389920Z",
     "iopub.status.busy": "2024-08-21T12:09:22.389784Z",
     "iopub.status.idle": "2024-08-21T12:09:22.712190Z",
     "shell.execute_reply": "2024-08-21T12:09:22.711769Z"
    },
    "papermill": {
     "duration": 0.324984,
     "end_time": "2024-08-21T12:09:22.713151",
     "exception": false,
     "start_time": "2024-08-21T12:09:22.388167",
     "status": "completed"
    },
    "tags": []
   },
   "outputs": [
    {
     "data": {
      "image/png": "[encoded data removed]",
      "text/plain": [
       "<Figure size 400x100 with 2 Axes>"
      ]
     },
     "metadata": {},
     "output_type": "display_data"
    }
   ],
   "source": [
    "# Beeswarm plot\n",
    "\n",
    "shap.plots.beeswarm(shap_values, show=False)\n",
    "fig = plt.gcf()\n",
    "fig.set_size_inches(4, 1, forward=True)\n",
    "if save_figures: plt.savefig(\n",
    "    f'../{path_transport_graphics}/logitics_data_on_customer_profile_{comparison_dict[comparison_id][0]} and customer_profile_{comparison_dict[comparison_id][1]}-shap-value.{save_parms[\"format\"]}',\n",
    "    **save_parms\n",
    "    )\n",
    "plt.show()"
   ]
  }
 ],
 "metadata": {
  "kernelspec": {
   "display_name": "Python 3.7.11 ('py37')",
   "language": "python",
   "name": "python3"
  },
  "language_info": {
   "codemirror_mode": {
    "name": "ipython",
    "version": 3
   },
   "file_extension": ".py",
   "mimetype": "text/x-python",
   "name": "python",
   "nbconvert_exporter": "python",
   "pygments_lexer": "ipython3",
   "version": "3.12.0"
  },
  "papermill": {
   "default_parameters": {},
   "duration": 2.654364,
   "end_time": "2024-08-21T12:09:23.032004",
   "environment_variables": {},
   "exception": null,
   "input_path": "experiment_baseline.ipynb",
   "output_path": "./Results_Experiments/Baseline/experiment_baseline_2.ipynb",
   "parameters": {
    "comparison_id": 1
   },
   "start_time": "2024-08-21T12:09:20.377640",
   "version": "2.6.0"
  },
  "vscode": {
   "interpreter": {
    "hash": "5ab0220f0ca30ec7bac8a7e209564eceae6d15412b9f87f3c2f91206aa8b151c"
   }
  }
 },
 "nbformat": 4,
 "nbformat_minor": 5
}