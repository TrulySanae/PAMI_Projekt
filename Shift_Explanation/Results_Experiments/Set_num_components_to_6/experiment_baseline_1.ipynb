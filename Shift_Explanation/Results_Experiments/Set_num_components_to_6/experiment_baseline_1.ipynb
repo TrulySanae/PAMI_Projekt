{
 "cells": [
  {
   "cell_type": "code",
   "execution_count": 1,
   "id": "d05cab18",
   "metadata": {
    "execution": {
     "iopub.execute_input": "2024-08-21T09:47:51.616313Z",
     "iopub.status.busy": "2024-08-21T09:47:51.615919Z",
     "iopub.status.idle": "2024-08-21T09:47:52.612471Z",
     "shell.execute_reply": "2024-08-21T09:47:52.612109Z"
    },
    "papermill": {
     "duration": 1.007567,
     "end_time": "2024-08-21T09:47:52.614583",
     "exception": false,
     "start_time": "2024-08-21T09:47:51.607016",
     "status": "completed"
    },
    "tags": []
   },
   "outputs": [],
   "source": [
    "import matplotlib.pyplot as plt\n",
    "import numpy as np\n",
    "import pandas as pd\n",
    "from pathlib import Path\n",
    "import seaborn as sn\n"
   ]
  },
  {
   "cell_type": "code",
   "execution_count": 2,
   "id": "d6302d10",
   "metadata": {
    "execution": {
     "iopub.execute_input": "2024-08-21T09:47:52.618709Z",
     "iopub.status.busy": "2024-08-21T09:47:52.618548Z",
     "iopub.status.idle": "2024-08-21T09:47:52.621385Z",
     "shell.execute_reply": "2024-08-21T09:47:52.621162Z"
    },
    "papermill": {
     "duration": 0.005458,
     "end_time": "2024-08-21T09:47:52.622191",
     "exception": false,
     "start_time": "2024-08-21T09:47:52.616733",
     "status": "completed"
    },
    "tags": []
   },
   "outputs": [],
   "source": [
    "# Setting so that the plots look normal even when using dark-reader\n",
    "sn.set_style(\"whitegrid\")\n",
    "sn.set_context(context=\"paper\", font_scale=2)\n",
    "pal = sn.color_palette(\"Set1\")\n",
    "\n",
    "# Setting up specifics for plotting + saving\n",
    "save_figures = True\n",
    "add_legend = False\n",
    "add_title = False\n",
    "add_axis = False\n",
    "save_parms = {'format': 'pdf','bbox_inches':'tight', 'pad_inches':0.1}\n",
    "line_parms = {'linewidth':4, 'color':'k'}\n",
    "if save_figures:  # saves all figures in a figure directory in the local directory\n",
    "    figure_dir = Path('.') / 'figures' / 'adult-income-experiment'\n",
    "    if not figure_dir.exists():\n",
    "        figure_dir.mkdir(parents=True)"
   ]
  },
  {
   "cell_type": "code",
   "execution_count": 3,
   "id": "22d1d0e0",
   "metadata": {
    "execution": {
     "iopub.execute_input": "2024-08-21T09:47:52.625799Z",
     "iopub.status.busy": "2024-08-21T09:47:52.625648Z",
     "iopub.status.idle": "2024-08-21T09:47:52.627638Z",
     "shell.execute_reply": "2024-08-21T09:47:52.627396Z"
    },
    "papermill": {
     "duration": 0.004932,
     "end_time": "2024-08-21T09:47:52.628513",
     "exception": false,
     "start_time": "2024-08-21T09:47:52.623581",
     "status": "completed"
    },
    "tags": []
   },
   "outputs": [],
   "source": [
    "# Experiment hyperparamters\n",
    "rng = np.random.RandomState(42)\n",
    "split_on_income = False  # if True: src := income>=50k, tgt :+ income<50k, if False: src := male, tgt := female\n",
    "n_samples = 1000"
   ]
  },
  {
   "cell_type": "code",
   "execution_count": 4,
   "id": "48ff09ec",
   "metadata": {
    "execution": {
     "iopub.execute_input": "2024-08-21T09:47:52.632582Z",
     "iopub.status.busy": "2024-08-21T09:47:52.632436Z",
     "iopub.status.idle": "2024-08-21T09:47:52.634146Z",
     "shell.execute_reply": "2024-08-21T09:47:52.633889Z"
    },
    "papermill": {
     "duration": 0.005274,
     "end_time": "2024-08-21T09:47:52.635164",
     "exception": false,
     "start_time": "2024-08-21T09:47:52.629890",
     "status": "completed"
    },
    "tags": [
     "parameters"
    ]
   },
   "outputs": [],
   "source": [
    "comparison_id = None"
   ]
  },
  {
   "cell_type": "code",
   "execution_count": 5,
   "id": "70f24961",
   "metadata": {
    "execution": {
     "iopub.execute_input": "2024-08-21T09:47:52.638716Z",
     "iopub.status.busy": "2024-08-21T09:47:52.638492Z",
     "iopub.status.idle": "2024-08-21T09:47:52.640272Z",
     "shell.execute_reply": "2024-08-21T09:47:52.640003Z"
    },
    "papermill": {
     "duration": 0.004543,
     "end_time": "2024-08-21T09:47:52.641182",
     "exception": false,
     "start_time": "2024-08-21T09:47:52.636639",
     "status": "completed"
    },
    "tags": [
     "injected-parameters"
    ]
   },
   "outputs": [],
   "source": [
    "# Parameters\n",
    "comparison_id = 0\n"
   ]
  },
  {
   "cell_type": "code",
   "execution_count": 6,
   "id": "dade2b7e",
   "metadata": {
    "execution": {
     "iopub.execute_input": "2024-08-21T09:47:52.644959Z",
     "iopub.status.busy": "2024-08-21T09:47:52.644768Z",
     "iopub.status.idle": "2024-08-21T09:47:52.657487Z",
     "shell.execute_reply": "2024-08-21T09:47:52.657185Z"
    },
    "papermill": {
     "duration": 0.015566,
     "end_time": "2024-08-21T09:47:52.658353",
     "exception": false,
     "start_time": "2024-08-21T09:47:52.642787",
     "status": "completed"
    },
    "tags": []
   },
   "outputs": [
    {
     "name": "stdout",
     "output_type": "stream",
     "text": [
      "['Customer_id', 'Connection', 'Weight', 'Unit_type', 'Day', 'Week']\n"
     ]
    }
   ],
   "source": [
    "\n",
    "# Load the data\n",
    "comparison_dict = {0: [0,1], 1: [2,3], 2: [4,5]}\n",
    "path_customer_profiles = open('./Results_Experiments/File_Paths/path_customer_profiles.txt','r').read()\n",
    "path_transport_graphics = open('./Results_Experiments/File_Paths/path_transport_graphics.txt','r').read()\n",
    "source = pd.read_csv(f'../{path_customer_profiles}/customer_profile_{comparison_dict[comparison_id][0]}.csv')\n",
    "target = pd.read_csv(f'../{path_customer_profiles}/customer_profile_{comparison_dict[comparison_id][1]}.csv')\n",
    "\n",
    "feature_names = source.columns.values\n",
    "feature_names = list(feature_names)\n",
    "print(feature_names)"
   ]
  },
  {
   "cell_type": "code",
   "execution_count": 7,
   "id": "296df3b5",
   "metadata": {
    "execution": {
     "iopub.execute_input": "2024-08-21T09:47:52.661568Z",
     "iopub.status.busy": "2024-08-21T09:47:52.661475Z",
     "iopub.status.idle": "2024-08-21T09:47:52.702101Z",
     "shell.execute_reply": "2024-08-21T09:47:52.701788Z"
    },
    "papermill": {
     "duration": 0.043159,
     "end_time": "2024-08-21T09:47:52.703022",
     "exception": false,
     "start_time": "2024-08-21T09:47:52.659863",
     "status": "completed"
    },
    "tags": []
   },
   "outputs": [],
   "source": [
    "# standardize the source and target data, and convert to domain labels\n",
    "from sklearn.preprocessing import StandardScaler\n",
    "X = np.concatenate((source, target), axis=0)\n",
    "# standardize X to remove cardinatlity bias\n",
    "X = StandardScaler().fit_transform(X)\n",
    "y = np.concatenate((np.zeros(source.shape[0]),\n",
    "                    np.ones(target.shape[0])), axis=0)  # domain labels"
   ]
  },
  {
   "cell_type": "code",
   "execution_count": 8,
   "id": "c5422e1f",
   "metadata": {
    "execution": {
     "iopub.execute_input": "2024-08-21T09:47:52.706182Z",
     "iopub.status.busy": "2024-08-21T09:47:52.706039Z",
     "iopub.status.idle": "2024-08-21T09:47:52.760238Z",
     "shell.execute_reply": "2024-08-21T09:47:52.759968Z"
    },
    "papermill": {
     "duration": 0.056804,
     "end_time": "2024-08-21T09:47:52.761211",
     "exception": false,
     "start_time": "2024-08-21T09:47:52.704407",
     "status": "completed"
    },
    "tags": []
   },
   "outputs": [],
   "source": [
    "from sklearn.datasets import make_classification\n",
    "from sklearn.model_selection import train_test_split\n",
    "\n",
    "X_train, X_test, y_train, y_test = train_test_split(X, y,\n",
    "                                     stratify=y, random_state=42)"
   ]
  },
  {
   "cell_type": "code",
   "execution_count": 9,
   "id": "5d9ba299",
   "metadata": {
    "execution": {
     "iopub.execute_input": "2024-08-21T09:47:52.764747Z",
     "iopub.status.busy": "2024-08-21T09:47:52.764576Z",
     "iopub.status.idle": "2024-08-21T09:47:52.781403Z",
     "shell.execute_reply": "2024-08-21T09:47:52.780962Z"
    },
    "papermill": {
     "duration": 0.019698,
     "end_time": "2024-08-21T09:47:52.782538",
     "exception": false,
     "start_time": "2024-08-21T09:47:52.762840",
     "status": "completed"
    },
    "tags": []
   },
   "outputs": [],
   "source": [
    "# Using XGBoost\n",
    "import xgboost\n",
    "\n",
    "def fit_xgboost(X_train, y_train, X_test, y_test, feature_names=None):\n",
    "    \"\"\" Train an XGBoost model with early stopping.\n",
    "    \"\"\"\n",
    "    dtrain = xgboost.DMatrix(X_train, label=y_train, feature_names=feature_names)\n",
    "    dtest = xgboost.DMatrix(X_test, label=y_test, feature_names=feature_names)\n",
    "    # model = xgboost.train(\n",
    "    #     { \"eta\": 0.001, \"subsample\": 0.5, \"max_depth\": 2,\n",
    "    #       \"objective\": 'binary:logistic', 'eval_metric': 'logloss'}, dtrain, num_boost_round=200000,\n",
    "    #     evals=[(dtest,'eval'), (dtrain,'train')], early_stopping_rounds=20, verbose_eval=False\n",
    "    # )\n",
    "    model = xgboost.train(\n",
    "        {\"objective\": 'binary:logistic', 'eval_metric': 'logloss'},\n",
    "        dtrain,\n",
    "        evals=[(dtest,'eval'), (dtrain,'train')],\n",
    "        verbose_eval=False)\n",
    "    return model"
   ]
  },
  {
   "cell_type": "code",
   "execution_count": 10,
   "id": "bd7ac9f1",
   "metadata": {
    "execution": {
     "iopub.execute_input": "2024-08-21T09:47:52.786500Z",
     "iopub.status.busy": "2024-08-21T09:47:52.786330Z",
     "iopub.status.idle": "2024-08-21T09:47:52.806012Z",
     "shell.execute_reply": "2024-08-21T09:47:52.805758Z"
    },
    "papermill": {
     "duration": 0.0229,
     "end_time": "2024-08-21T09:47:52.807004",
     "exception": false,
     "start_time": "2024-08-21T09:47:52.784104",
     "status": "completed"
    },
    "tags": []
   },
   "outputs": [],
   "source": [
    "xgb_forest = fit_xgboost(X_train, y_train, X_test, y_test, feature_names)\n",
    "xgb_forest.feature_names = feature_names"
   ]
  },
  {
   "cell_type": "code",
   "execution_count": 11,
   "id": "dcaa3020",
   "metadata": {
    "execution": {
     "iopub.execute_input": "2024-08-21T09:47:52.811023Z",
     "iopub.status.busy": "2024-08-21T09:47:52.810884Z",
     "iopub.status.idle": "2024-08-21T09:47:52.812769Z",
     "shell.execute_reply": "2024-08-21T09:47:52.812531Z"
    },
    "papermill": {
     "duration": 0.00458,
     "end_time": "2024-08-21T09:47:52.813536",
     "exception": false,
     "start_time": "2024-08-21T09:47:52.808956",
     "status": "completed"
    },
    "tags": []
   },
   "outputs": [],
   "source": [
    "def get_acc(model, samples, labels, feature_names=None):\n",
    "    predictions = (model.predict(xgboost.DMatrix(samples,\n",
    "                                                 feature_names=feature_names)) > 0.5).astype(int)\n",
    "    return (predictions == labels).sum() / predictions.shape[0]"
   ]
  },
  {
   "cell_type": "code",
   "execution_count": 12,
   "id": "7ce6b380",
   "metadata": {
    "execution": {
     "iopub.execute_input": "2024-08-21T09:47:52.816686Z",
     "iopub.status.busy": "2024-08-21T09:47:52.816574Z",
     "iopub.status.idle": "2024-08-21T09:47:52.820740Z",
     "shell.execute_reply": "2024-08-21T09:47:52.820487Z"
    },
    "papermill": {
     "duration": 0.006586,
     "end_time": "2024-08-21T09:47:52.821472",
     "exception": false,
     "start_time": "2024-08-21T09:47:52.814886",
     "status": "completed"
    },
    "tags": []
   },
   "outputs": [
    {
     "name": "stdout",
     "output_type": "stream",
     "text": [
      "Train score: 0.9607435150506312\n",
      "Test score: 0.9598502184314541\n"
     ]
    }
   ],
   "source": [
    "print('Train score:', get_acc(xgb_forest, X_train, y_train, feature_names))\n",
    "print('Test score:', get_acc(xgb_forest, X_test, y_test, feature_names))"
   ]
  },
  {
   "cell_type": "code",
   "execution_count": 13,
   "id": "97a1d2b0",
   "metadata": {
    "execution": {
     "iopub.execute_input": "2024-08-21T09:47:52.824628Z",
     "iopub.status.busy": "2024-08-21T09:47:52.824483Z",
     "iopub.status.idle": "2024-08-21T09:47:53.089672Z",
     "shell.execute_reply": "2024-08-21T09:47:53.089417Z"
    },
    "papermill": {
     "duration": 0.267905,
     "end_time": "2024-08-21T09:47:53.090765",
     "exception": false,
     "start_time": "2024-08-21T09:47:52.822860",
     "status": "completed"
    },
    "tags": []
   },
   "outputs": [],
   "source": [
    "import shap\n",
    "import pandas as pd\n",
    "explainer = shap.Explainer(xgb_forest)\n",
    "\n",
    "shap_values = explainer(pd.DataFrame(X_test, columns=feature_names))\n"
   ]
  },
  {
   "cell_type": "code",
   "execution_count": 14,
   "id": "8e7a54a8",
   "metadata": {
    "execution": {
     "iopub.execute_input": "2024-08-21T09:47:53.094217Z",
     "iopub.status.busy": "2024-08-21T09:47:53.094058Z",
     "iopub.status.idle": "2024-08-21T09:47:53.754545Z",
     "shell.execute_reply": "2024-08-21T09:47:53.753991Z"
    },
    "papermill": {
     "duration": 0.676715,
     "end_time": "2024-08-21T09:47:53.769053",
     "exception": false,
     "start_time": "2024-08-21T09:47:53.092338",
     "status": "completed"
    },
    "tags": []
   },
   "outputs": [
    {
     "data": {
      "image/png": "[encoded data removed]",
      "text/plain": [
       "<Figure size 400x200 with 2 Axes>"
      ]
     },
     "metadata": {},
     "output_type": "display_data"
    }
   ],
   "source": [
    "# Beeswarm plot\n",
    "\n",
    "shap.plots.beeswarm(shap_values, show=False)\n",
    "fig = plt.gcf()\n",
    "fig.set_size_inches(4, 2, forward=True)\n",
    "if save_figures: plt.savefig(\n",
    "    f'../{path_transport_graphics}/logitics_data_on_customer_profile_{comparison_dict[comparison_id][0]} and customer_profile_{comparison_dict[comparison_id][1]}-shap-value.{save_parms[\"format\"]}',\n",
    "    **save_parms\n",
    "    )\n",
    "plt.show()"
   ]
  }
 ],
 "metadata": {
  "kernelspec": {
   "display_name": "Python 3.7.11 ('py37')",
   "language": "python",
   "name": "python3"
  },
  "language_info": {
   "codemirror_mode": {
    "name": "ipython",
    "version": 3
   },
   "file_extension": ".py",
   "mimetype": "text/x-python",
   "name": "python",
   "nbconvert_exporter": "python",
   "pygments_lexer": "ipython3",
   "version": "3.12.0"
  },
  "papermill": {
   "default_parameters": {},
   "duration": 3.218726,
   "end_time": "2024-08-21T09:47:54.098585",
   "environment_variables": {},
   "exception": null,
   "input_path": "experiment_baseline.ipynb",
   "output_path": "./Results_Experiments/Set_num_components_to_6/experiment_baseline_1.ipynb",
   "parameters": {
    "comparison_id": 0
   },
   "start_time": "2024-08-21T09:47:50.879859",
   "version": "2.6.0"
  },
  "vscode": {
   "interpreter": {
    "hash": "5ab0220f0ca30ec7bac8a7e209564eceae6d15412b9f87f3c2f91206aa8b151c"
   }
  }
 },
 "nbformat": 4,
 "nbformat_minor": 5
}