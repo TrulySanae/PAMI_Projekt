{
 "cells": [
  {
   "cell_type": "code",
   "execution_count": 1,
   "id": "d05cab18",
   "metadata": {
    "execution": {
     "iopub.execute_input": "2024-08-21T12:10:28.173742Z",
     "iopub.status.busy": "2024-08-21T12:10:28.173419Z",
     "iopub.status.idle": "2024-08-21T12:10:29.016037Z",
     "shell.execute_reply": "2024-08-21T12:10:29.015756Z"
    },
    "papermill": {
     "duration": 0.852154,
     "end_time": "2024-08-21T12:10:29.016995",
     "exception": false,
     "start_time": "2024-08-21T12:10:28.164841",
     "status": "completed"
    },
    "tags": []
   },
   "outputs": [],
   "source": [
    "import matplotlib.pyplot as plt\n",
    "import numpy as np\n",
    "import pandas as pd\n",
    "from pathlib import Path\n",
    "import seaborn as sn\n",
    "from data_utils import load_and_preprocess_logistics_data"
   ]
  },
  {
   "cell_type": "code",
   "execution_count": 2,
   "id": "d6302d10",
   "metadata": {
    "execution": {
     "iopub.execute_input": "2024-08-21T12:10:29.020184Z",
     "iopub.status.busy": "2024-08-21T12:10:29.020032Z",
     "iopub.status.idle": "2024-08-21T12:10:29.022696Z",
     "shell.execute_reply": "2024-08-21T12:10:29.022471Z"
    },
    "papermill": {
     "duration": 0.004963,
     "end_time": "2024-08-21T12:10:29.023416",
     "exception": false,
     "start_time": "2024-08-21T12:10:29.018453",
     "status": "completed"
    },
    "tags": []
   },
   "outputs": [],
   "source": [
    "# Setting so that the plots look normal even when using dark-reader\n",
    "sn.set_style(\"whitegrid\")\n",
    "sn.set_context(context=\"paper\", font_scale=2)\n",
    "pal = sn.color_palette(\"Set1\")\n",
    "\n",
    "# Setting up specifics for plotting + saving\n",
    "save_figures = True\n",
    "add_legend = False\n",
    "add_title = False\n",
    "add_axis = False\n",
    "save_parms = {'format': 'pdf','bbox_inches':'tight', 'pad_inches':0.1}\n",
    "line_parms = {'linewidth':4, 'color':'k'}\n",
    "if save_figures:  # saves all figures in a figure directory in the local directory\n",
    "    figure_dir = Path('.') / 'figures' / 'adult-income-experiment'\n",
    "    if not figure_dir.exists():\n",
    "        figure_dir.mkdir(parents=True)"
   ]
  },
  {
   "cell_type": "code",
   "execution_count": 3,
   "id": "22d1d0e0",
   "metadata": {
    "execution": {
     "iopub.execute_input": "2024-08-21T12:10:29.026457Z",
     "iopub.status.busy": "2024-08-21T12:10:29.026334Z",
     "iopub.status.idle": "2024-08-21T12:10:29.028224Z",
     "shell.execute_reply": "2024-08-21T12:10:29.027966Z"
    },
    "papermill": {
     "duration": 0.004498,
     "end_time": "2024-08-21T12:10:29.029105",
     "exception": false,
     "start_time": "2024-08-21T12:10:29.024607",
     "status": "completed"
    },
    "tags": []
   },
   "outputs": [],
   "source": [
    "# Experiment hyperparamters\n",
    "rng = np.random.RandomState(42)\n",
    "split_on_income = False  # if True: src := income>=50k, tgt :+ income<50k, if False: src := male, tgt := female\n",
    "n_samples = 1000"
   ]
  },
  {
   "cell_type": "code",
   "execution_count": 4,
   "id": "48ff09ec",
   "metadata": {
    "execution": {
     "iopub.execute_input": "2024-08-21T12:10:29.033556Z",
     "iopub.status.busy": "2024-08-21T12:10:29.033406Z",
     "iopub.status.idle": "2024-08-21T12:10:29.035056Z",
     "shell.execute_reply": "2024-08-21T12:10:29.034834Z"
    },
    "papermill": {
     "duration": 0.005333,
     "end_time": "2024-08-21T12:10:29.035797",
     "exception": false,
     "start_time": "2024-08-21T12:10:29.030464",
     "status": "completed"
    },
    "tags": [
     "parameters"
    ]
   },
   "outputs": [],
   "source": [
    "comparison_id = None"
   ]
  },
  {
   "cell_type": "code",
   "execution_count": 5,
   "id": "b9b9423d",
   "metadata": {
    "execution": {
     "iopub.execute_input": "2024-08-21T12:10:29.038596Z",
     "iopub.status.busy": "2024-08-21T12:10:29.038500Z",
     "iopub.status.idle": "2024-08-21T12:10:29.039812Z",
     "shell.execute_reply": "2024-08-21T12:10:29.039609Z"
    },
    "papermill": {
     "duration": 0.003488,
     "end_time": "2024-08-21T12:10:29.040544",
     "exception": false,
     "start_time": "2024-08-21T12:10:29.037056",
     "status": "completed"
    },
    "tags": [
     "injected-parameters"
    ]
   },
   "outputs": [],
   "source": [
    "# Parameters\n",
    "comparison_id = 0\n"
   ]
  },
  {
   "cell_type": "code",
   "execution_count": 6,
   "id": "dade2b7e",
   "metadata": {
    "execution": {
     "iopub.execute_input": "2024-08-21T12:10:29.043377Z",
     "iopub.status.busy": "2024-08-21T12:10:29.043281Z",
     "iopub.status.idle": "2024-08-21T12:10:29.061470Z",
     "shell.execute_reply": "2024-08-21T12:10:29.061234Z"
    },
    "papermill": {
     "duration": 0.020442,
     "end_time": "2024-08-21T12:10:29.062190",
     "exception": false,
     "start_time": "2024-08-21T12:10:29.041748",
     "status": "completed"
    },
    "tags": []
   },
   "outputs": [
    {
     "name": "stdout",
     "output_type": "stream",
     "text": [
      "Comparing customer_profile_0 and customer_profile_1\n",
      "Finished preprocessing logistic dataset. Split on customer_profile_0 and customer_profile_1 with resulting source shape: (996, 3), target shape: (996, 3).\n",
      "['Connection', 'Weight', 'Unit_type']\n"
     ]
    }
   ],
   "source": [
    "\n",
    "# Load the data\n",
    "comparison_dict = {0: [0,1], 1: [2,3], 2: [4,5]}\n",
    "path_customer_profiles = open('./Results_Experiments/File_Paths/path_customer_profiles.txt','r').read()\n",
    "path_transport_graphics = open('./Results_Experiments/File_Paths/path_transport_graphics.txt','r').read()\n",
    "source = pd.read_csv(f'../{path_customer_profiles}/customer_profile_{comparison_dict[comparison_id][0]}.csv')\n",
    "target = pd.read_csv(f'../{path_customer_profiles}/customer_profile_{comparison_dict[comparison_id][1]}.csv')\n",
    "equal_week_split = True\n",
    "source, target, feature_names = load_and_preprocess_logistics_data(rng, n_samples, return_column_names=True,equal_week_split=equal_week_split, comparison_id=\n",
    "            comparison_id, comparison_dict=comparison_dict)\n",
    "print(feature_names)"
   ]
  },
  {
   "cell_type": "code",
   "execution_count": 7,
   "id": "296df3b5",
   "metadata": {
    "execution": {
     "iopub.execute_input": "2024-08-21T12:10:29.065283Z",
     "iopub.status.busy": "2024-08-21T12:10:29.065178Z",
     "iopub.status.idle": "2024-08-21T12:10:29.067372Z",
     "shell.execute_reply": "2024-08-21T12:10:29.067166Z"
    },
    "papermill": {
     "duration": 0.004515,
     "end_time": "2024-08-21T12:10:29.068097",
     "exception": false,
     "start_time": "2024-08-21T12:10:29.063582",
     "status": "completed"
    },
    "tags": []
   },
   "outputs": [],
   "source": [
    "# standardize the source and target data, and convert to domain labels\n",
    "from sklearn.preprocessing import StandardScaler\n",
    "X = np.concatenate((source, target), axis=0)\n",
    "# standardize X to remove cardinatlity bias\n",
    "X = StandardScaler().fit_transform(X)\n",
    "y = np.concatenate((np.zeros(source.shape[0]),\n",
    "                    np.ones(target.shape[0])), axis=0)  # domain labels"
   ]
  },
  {
   "cell_type": "code",
   "execution_count": 8,
   "id": "c5422e1f",
   "metadata": {
    "execution": {
     "iopub.execute_input": "2024-08-21T12:10:29.071023Z",
     "iopub.status.busy": "2024-08-21T12:10:29.070924Z",
     "iopub.status.idle": "2024-08-21T12:10:29.119732Z",
     "shell.execute_reply": "2024-08-21T12:10:29.119487Z"
    },
    "papermill": {
     "duration": 0.051286,
     "end_time": "2024-08-21T12:10:29.120629",
     "exception": false,
     "start_time": "2024-08-21T12:10:29.069343",
     "status": "completed"
    },
    "tags": []
   },
   "outputs": [],
   "source": [
    "from sklearn.datasets import make_classification\n",
    "from sklearn.model_selection import train_test_split\n",
    "\n",
    "X_train, X_test, y_train, y_test = train_test_split(X, y,\n",
    "                                     stratify=y, random_state=42)"
   ]
  },
  {
   "cell_type": "code",
   "execution_count": 9,
   "id": "5d9ba299",
   "metadata": {
    "execution": {
     "iopub.execute_input": "2024-08-21T12:10:29.123833Z",
     "iopub.status.busy": "2024-08-21T12:10:29.123692Z",
     "iopub.status.idle": "2024-08-21T12:10:29.138398Z",
     "shell.execute_reply": "2024-08-21T12:10:29.138147Z"
    },
    "papermill": {
     "duration": 0.017185,
     "end_time": "2024-08-21T12:10:29.139284",
     "exception": false,
     "start_time": "2024-08-21T12:10:29.122099",
     "status": "completed"
    },
    "tags": []
   },
   "outputs": [],
   "source": [
    "# Using XGBoost\n",
    "import xgboost\n",
    "\n",
    "def fit_xgboost(X_train, y_train, X_test, y_test, feature_names=None):\n",
    "    \"\"\" Train an XGBoost model with early stopping.\n",
    "    \"\"\"\n",
    "    dtrain = xgboost.DMatrix(X_train, label=y_train, feature_names=feature_names)\n",
    "    dtest = xgboost.DMatrix(X_test, label=y_test, feature_names=feature_names)\n",
    "    # model = xgboost.train(\n",
    "    #     { \"eta\": 0.001, \"subsample\": 0.5, \"max_depth\": 2,\n",
    "    #       \"objective\": 'binary:logistic', 'eval_metric': 'logloss'}, dtrain, num_boost_round=200000,\n",
    "    #     evals=[(dtest,'eval'), (dtrain,'train')], early_stopping_rounds=20, verbose_eval=False\n",
    "    # )\n",
    "    model = xgboost.train(\n",
    "        {\"objective\": 'binary:logistic', 'eval_metric': 'logloss'},\n",
    "        dtrain,\n",
    "        evals=[(dtest,'eval'), (dtrain,'train')],\n",
    "        verbose_eval=False)\n",
    "    return model"
   ]
  },
  {
   "cell_type": "code",
   "execution_count": 10,
   "id": "bd7ac9f1",
   "metadata": {
    "execution": {
     "iopub.execute_input": "2024-08-21T12:10:29.142379Z",
     "iopub.status.busy": "2024-08-21T12:10:29.142258Z",
     "iopub.status.idle": "2024-08-21T12:10:29.157446Z",
     "shell.execute_reply": "2024-08-21T12:10:29.157177Z"
    },
    "papermill": {
     "duration": 0.01766,
     "end_time": "2024-08-21T12:10:29.158328",
     "exception": false,
     "start_time": "2024-08-21T12:10:29.140668",
     "status": "completed"
    },
    "tags": []
   },
   "outputs": [],
   "source": [
    "xgb_forest = fit_xgboost(X_train, y_train, X_test, y_test, feature_names)\n",
    "xgb_forest.feature_names = feature_names"
   ]
  },
  {
   "cell_type": "code",
   "execution_count": 11,
   "id": "dcaa3020",
   "metadata": {
    "execution": {
     "iopub.execute_input": "2024-08-21T12:10:29.161484Z",
     "iopub.status.busy": "2024-08-21T12:10:29.161379Z",
     "iopub.status.idle": "2024-08-21T12:10:29.163267Z",
     "shell.execute_reply": "2024-08-21T12:10:29.163061Z"
    },
    "papermill": {
     "duration": 0.004181,
     "end_time": "2024-08-21T12:10:29.163946",
     "exception": false,
     "start_time": "2024-08-21T12:10:29.159765",
     "status": "completed"
    },
    "tags": []
   },
   "outputs": [],
   "source": [
    "def get_acc(model, samples, labels, feature_names=None):\n",
    "    predictions = (model.predict(xgboost.DMatrix(samples,\n",
    "                                                 feature_names=feature_names)) > 0.5).astype(int)\n",
    "    return (predictions == labels).sum() / predictions.shape[0]"
   ]
  },
  {
   "cell_type": "code",
   "execution_count": 12,
   "id": "7ce6b380",
   "metadata": {
    "execution": {
     "iopub.execute_input": "2024-08-21T12:10:29.166866Z",
     "iopub.status.busy": "2024-08-21T12:10:29.166775Z",
     "iopub.status.idle": "2024-08-21T12:10:29.169494Z",
     "shell.execute_reply": "2024-08-21T12:10:29.169263Z"
    },
    "papermill": {
     "duration": 0.005041,
     "end_time": "2024-08-21T12:10:29.170239",
     "exception": false,
     "start_time": "2024-08-21T12:10:29.165198",
     "status": "completed"
    },
    "tags": []
   },
   "outputs": [
    {
     "name": "stdout",
     "output_type": "stream",
     "text": [
      "Train score: 0.9497991967871486\n",
      "Test score: 0.9176706827309237\n"
     ]
    }
   ],
   "source": [
    "print('Train score:', get_acc(xgb_forest, X_train, y_train, feature_names))\n",
    "print('Test score:', get_acc(xgb_forest, X_test, y_test, feature_names))"
   ]
  },
  {
   "cell_type": "code",
   "execution_count": 13,
   "id": "97a1d2b0",
   "metadata": {
    "execution": {
     "iopub.execute_input": "2024-08-21T12:10:29.173249Z",
     "iopub.status.busy": "2024-08-21T12:10:29.173162Z",
     "iopub.status.idle": "2024-08-21T12:10:29.418925Z",
     "shell.execute_reply": "2024-08-21T12:10:29.418678Z"
    },
    "papermill": {
     "duration": 0.248276,
     "end_time": "2024-08-21T12:10:29.419851",
     "exception": false,
     "start_time": "2024-08-21T12:10:29.171575",
     "status": "completed"
    },
    "tags": []
   },
   "outputs": [],
   "source": [
    "import shap\n",
    "import pandas as pd\n",
    "explainer = shap.Explainer(xgb_forest)\n",
    "\n",
    "shap_values = explainer(pd.DataFrame(X_test, columns=feature_names))\n"
   ]
  },
  {
   "cell_type": "code",
   "execution_count": 14,
   "id": "8e7a54a8",
   "metadata": {
    "execution": {
     "iopub.execute_input": "2024-08-21T12:10:29.423156Z",
     "iopub.status.busy": "2024-08-21T12:10:29.423000Z",
     "iopub.status.idle": "2024-08-21T12:10:29.745165Z",
     "shell.execute_reply": "2024-08-21T12:10:29.744898Z"
    },
    "papermill": {
     "duration": 0.324628,
     "end_time": "2024-08-21T12:10:29.746029",
     "exception": false,
     "start_time": "2024-08-21T12:10:29.421401",
     "status": "completed"
    },
    "tags": []
   },
   "outputs": [
    {
     "data": {
      "image/png": "[encoded data removed]",
      "text/plain": [
       "<Figure size 400x100 with 2 Axes>"
      ]
     },
     "metadata": {},
     "output_type": "display_data"
    }
   ],
   "source": [
    "# Beeswarm plot\n",
    "\n",
    "shap.plots.beeswarm(shap_values, show=False)\n",
    "fig = plt.gcf()\n",
    "fig.set_size_inches(4, 1, forward=True)\n",
    "if save_figures: plt.savefig(\n",
    "    f'../{path_transport_graphics}/logitics_data_on_customer_profile_{comparison_dict[comparison_id][0]} and customer_profile_{comparison_dict[comparison_id][1]}-shap-value.{save_parms[\"format\"]}',\n",
    "    **save_parms\n",
    "    )\n",
    "plt.show()"
   ]
  }
 ],
 "metadata": {
  "kernelspec": {
   "display_name": "Python 3.7.11 ('py37')",
   "language": "python",
   "name": "python3"
  },
  "language_info": {
   "codemirror_mode": {
    "name": "ipython",
    "version": 3
   },
   "file_extension": ".py",
   "mimetype": "text/x-python",
   "name": "python",
   "nbconvert_exporter": "python",
   "pygments_lexer": "ipython3",
   "version": "3.12.0"
  },
  "papermill": {
   "default_parameters": {},
   "duration": 2.586716,
   "end_time": "2024-08-21T12:10:30.065753",
   "environment_variables": {},
   "exception": null,
   "input_path": "experiment_baseline.ipynb",
   "output_path": "./Results_Experiments/Set_num_components_to_6/experiment_baseline_1.ipynb",
   "parameters": {
    "comparison_id": 0
   },
   "start_time": "2024-08-21T12:10:27.479037",
   "version": "2.6.0"
  },
  "vscode": {
   "interpreter": {
    "hash": "5ab0220f0ca30ec7bac8a7e209564eceae6d15412b9f87f3c2f91206aa8b151c"
   }
  }
 },
 "nbformat": 4,
 "nbformat_minor": 5
}