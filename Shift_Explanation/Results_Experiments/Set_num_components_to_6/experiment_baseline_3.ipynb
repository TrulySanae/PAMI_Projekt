{
 "cells": [
  {
   "cell_type": "code",
   "execution_count": 1,
   "id": "d05cab18",
   "metadata": {
    "execution": {
     "iopub.execute_input": "2024-08-21T09:47:57.821801Z",
     "iopub.status.busy": "2024-08-21T09:47:57.821462Z",
     "iopub.status.idle": "2024-08-21T09:47:58.722826Z",
     "shell.execute_reply": "2024-08-21T09:47:58.722534Z"
    },
    "papermill": {
     "duration": 0.911931,
     "end_time": "2024-08-21T09:47:58.723914",
     "exception": false,
     "start_time": "2024-08-21T09:47:57.811983",
     "status": "completed"
    },
    "tags": []
   },
   "outputs": [],
   "source": [
    "import matplotlib.pyplot as plt\n",
    "import numpy as np\n",
    "import pandas as pd\n",
    "from pathlib import Path\n",
    "import seaborn as sn\n"
   ]
  },
  {
   "cell_type": "code",
   "execution_count": 2,
   "id": "d6302d10",
   "metadata": {
    "execution": {
     "iopub.execute_input": "2024-08-21T09:47:58.727279Z",
     "iopub.status.busy": "2024-08-21T09:47:58.727135Z",
     "iopub.status.idle": "2024-08-21T09:47:58.729782Z",
     "shell.execute_reply": "2024-08-21T09:47:58.729559Z"
    },
    "papermill": {
     "duration": 0.004989,
     "end_time": "2024-08-21T09:47:58.730497",
     "exception": false,
     "start_time": "2024-08-21T09:47:58.725508",
     "status": "completed"
    },
    "tags": []
   },
   "outputs": [],
   "source": [
    "# Setting so that the plots look normal even when using dark-reader\n",
    "sn.set_style(\"whitegrid\")\n",
    "sn.set_context(context=\"paper\", font_scale=2)\n",
    "pal = sn.color_palette(\"Set1\")\n",
    "\n",
    "# Setting up specifics for plotting + saving\n",
    "save_figures = True\n",
    "add_legend = False\n",
    "add_title = False\n",
    "add_axis = False\n",
    "save_parms = {'format': 'pdf','bbox_inches':'tight', 'pad_inches':0.1}\n",
    "line_parms = {'linewidth':4, 'color':'k'}\n",
    "if save_figures:  # saves all figures in a figure directory in the local directory\n",
    "    figure_dir = Path('.') / 'figures' / 'adult-income-experiment'\n",
    "    if not figure_dir.exists():\n",
    "        figure_dir.mkdir(parents=True)"
   ]
  },
  {
   "cell_type": "code",
   "execution_count": 3,
   "id": "22d1d0e0",
   "metadata": {
    "execution": {
     "iopub.execute_input": "2024-08-21T09:47:58.733767Z",
     "iopub.status.busy": "2024-08-21T09:47:58.733642Z",
     "iopub.status.idle": "2024-08-21T09:47:58.735653Z",
     "shell.execute_reply": "2024-08-21T09:47:58.735400Z"
    },
    "papermill": {
     "duration": 0.00454,
     "end_time": "2024-08-21T09:47:58.736424",
     "exception": false,
     "start_time": "2024-08-21T09:47:58.731884",
     "status": "completed"
    },
    "tags": []
   },
   "outputs": [],
   "source": [
    "# Experiment hyperparamters\n",
    "rng = np.random.RandomState(42)\n",
    "split_on_income = False  # if True: src := income>=50k, tgt :+ income<50k, if False: src := male, tgt := female\n",
    "n_samples = 1000"
   ]
  },
  {
   "cell_type": "code",
   "execution_count": 4,
   "id": "48ff09ec",
   "metadata": {
    "execution": {
     "iopub.execute_input": "2024-08-21T09:47:58.740822Z",
     "iopub.status.busy": "2024-08-21T09:47:58.740532Z",
     "iopub.status.idle": "2024-08-21T09:47:58.743409Z",
     "shell.execute_reply": "2024-08-21T09:47:58.743080Z"
    },
    "papermill": {
     "duration": 0.006252,
     "end_time": "2024-08-21T09:47:58.744408",
     "exception": false,
     "start_time": "2024-08-21T09:47:58.738156",
     "status": "completed"
    },
    "tags": [
     "parameters"
    ]
   },
   "outputs": [],
   "source": [
    "comparison_id = None"
   ]
  },
  {
   "cell_type": "code",
   "execution_count": 5,
   "id": "4b2c432b",
   "metadata": {
    "execution": {
     "iopub.execute_input": "2024-08-21T09:47:58.747877Z",
     "iopub.status.busy": "2024-08-21T09:47:58.747610Z",
     "iopub.status.idle": "2024-08-21T09:47:58.749552Z",
     "shell.execute_reply": "2024-08-21T09:47:58.749273Z"
    },
    "papermill": {
     "duration": 0.00455,
     "end_time": "2024-08-21T09:47:58.750399",
     "exception": false,
     "start_time": "2024-08-21T09:47:58.745849",
     "status": "completed"
    },
    "tags": [
     "injected-parameters"
    ]
   },
   "outputs": [],
   "source": [
    "# Parameters\n",
    "comparison_id = 2\n"
   ]
  },
  {
   "cell_type": "code",
   "execution_count": 6,
   "id": "dade2b7e",
   "metadata": {
    "execution": {
     "iopub.execute_input": "2024-08-21T09:47:58.754975Z",
     "iopub.status.busy": "2024-08-21T09:47:58.754758Z",
     "iopub.status.idle": "2024-08-21T09:47:58.774073Z",
     "shell.execute_reply": "2024-08-21T09:47:58.773763Z"
    },
    "papermill": {
     "duration": 0.024898,
     "end_time": "2024-08-21T09:47:58.776991",
     "exception": false,
     "start_time": "2024-08-21T09:47:58.752093",
     "status": "completed"
    },
    "tags": []
   },
   "outputs": [
    {
     "name": "stdout",
     "output_type": "stream",
     "text": [
      "['Customer_id', 'Connection', 'Weight', 'Unit_type', 'Day', 'Week']\n"
     ]
    }
   ],
   "source": [
    "\n",
    "# Load the data\n",
    "comparison_dict = {0: [0,1], 1: [2,3], 2: [4,5]}\n",
    "path_customer_profiles = open('./Results_Experiments/File_Paths/path_customer_profiles.txt','r').read()\n",
    "path_transport_graphics = open('./Results_Experiments/File_Paths/path_transport_graphics.txt','r').read()\n",
    "source = pd.read_csv(f'../{path_customer_profiles}/customer_profile_{comparison_dict[comparison_id][0]}.csv')\n",
    "target = pd.read_csv(f'../{path_customer_profiles}/customer_profile_{comparison_dict[comparison_id][1]}.csv')\n",
    "\n",
    "feature_names = source.columns.values\n",
    "feature_names = list(feature_names)\n",
    "print(feature_names)"
   ]
  },
  {
   "cell_type": "code",
   "execution_count": 7,
   "id": "296df3b5",
   "metadata": {
    "execution": {
     "iopub.execute_input": "2024-08-21T09:47:58.782131Z",
     "iopub.status.busy": "2024-08-21T09:47:58.781983Z",
     "iopub.status.idle": "2024-08-21T09:47:58.830190Z",
     "shell.execute_reply": "2024-08-21T09:47:58.829722Z"
    },
    "papermill": {
     "duration": 0.051872,
     "end_time": "2024-08-21T09:47:58.831887",
     "exception": false,
     "start_time": "2024-08-21T09:47:58.780015",
     "status": "completed"
    },
    "tags": []
   },
   "outputs": [],
   "source": [
    "# standardize the source and target data, and convert to domain labels\n",
    "from sklearn.preprocessing import StandardScaler\n",
    "X = np.concatenate((source, target), axis=0)\n",
    "# standardize X to remove cardinatlity bias\n",
    "X = StandardScaler().fit_transform(X)\n",
    "y = np.concatenate((np.zeros(source.shape[0]),\n",
    "                    np.ones(target.shape[0])), axis=0)  # domain labels"
   ]
  },
  {
   "cell_type": "code",
   "execution_count": 8,
   "id": "c5422e1f",
   "metadata": {
    "execution": {
     "iopub.execute_input": "2024-08-21T09:47:58.835490Z",
     "iopub.status.busy": "2024-08-21T09:47:58.835295Z",
     "iopub.status.idle": "2024-08-21T09:47:58.906770Z",
     "shell.execute_reply": "2024-08-21T09:47:58.906479Z"
    },
    "papermill": {
     "duration": 0.074302,
     "end_time": "2024-08-21T09:47:58.907798",
     "exception": false,
     "start_time": "2024-08-21T09:47:58.833496",
     "status": "completed"
    },
    "tags": []
   },
   "outputs": [],
   "source": [
    "from sklearn.datasets import make_classification\n",
    "from sklearn.model_selection import train_test_split\n",
    "\n",
    "X_train, X_test, y_train, y_test = train_test_split(X, y,\n",
    "                                     stratify=y, random_state=42)"
   ]
  },
  {
   "cell_type": "code",
   "execution_count": 9,
   "id": "5d9ba299",
   "metadata": {
    "execution": {
     "iopub.execute_input": "2024-08-21T09:47:58.911271Z",
     "iopub.status.busy": "2024-08-21T09:47:58.911105Z",
     "iopub.status.idle": "2024-08-21T09:47:58.925299Z",
     "shell.execute_reply": "2024-08-21T09:47:58.925000Z"
    },
    "papermill": {
     "duration": 0.016869,
     "end_time": "2024-08-21T09:47:58.926239",
     "exception": false,
     "start_time": "2024-08-21T09:47:58.909370",
     "status": "completed"
    },
    "tags": []
   },
   "outputs": [],
   "source": [
    "# Using XGBoost\n",
    "import xgboost\n",
    "\n",
    "def fit_xgboost(X_train, y_train, X_test, y_test, feature_names=None):\n",
    "    \"\"\" Train an XGBoost model with early stopping.\n",
    "    \"\"\"\n",
    "    dtrain = xgboost.DMatrix(X_train, label=y_train, feature_names=feature_names)\n",
    "    dtest = xgboost.DMatrix(X_test, label=y_test, feature_names=feature_names)\n",
    "    # model = xgboost.train(\n",
    "    #     { \"eta\": 0.001, \"subsample\": 0.5, \"max_depth\": 2,\n",
    "    #       \"objective\": 'binary:logistic', 'eval_metric': 'logloss'}, dtrain, num_boost_round=200000,\n",
    "    #     evals=[(dtest,'eval'), (dtrain,'train')], early_stopping_rounds=20, verbose_eval=False\n",
    "    # )\n",
    "    model = xgboost.train(\n",
    "        {\"objective\": 'binary:logistic', 'eval_metric': 'logloss'},\n",
    "        dtrain,\n",
    "        evals=[(dtest,'eval'), (dtrain,'train')],\n",
    "        verbose_eval=False)\n",
    "    return model"
   ]
  },
  {
   "cell_type": "code",
   "execution_count": 10,
   "id": "bd7ac9f1",
   "metadata": {
    "execution": {
     "iopub.execute_input": "2024-08-21T09:47:58.929364Z",
     "iopub.status.busy": "2024-08-21T09:47:58.929257Z",
     "iopub.status.idle": "2024-08-21T09:47:58.958379Z",
     "shell.execute_reply": "2024-08-21T09:47:58.958123Z"
    },
    "papermill": {
     "duration": 0.031671,
     "end_time": "2024-08-21T09:47:58.959296",
     "exception": false,
     "start_time": "2024-08-21T09:47:58.927625",
     "status": "completed"
    },
    "tags": []
   },
   "outputs": [],
   "source": [
    "xgb_forest = fit_xgboost(X_train, y_train, X_test, y_test, feature_names)\n",
    "xgb_forest.feature_names = feature_names"
   ]
  },
  {
   "cell_type": "code",
   "execution_count": 11,
   "id": "dcaa3020",
   "metadata": {
    "execution": {
     "iopub.execute_input": "2024-08-21T09:47:58.962649Z",
     "iopub.status.busy": "2024-08-21T09:47:58.962538Z",
     "iopub.status.idle": "2024-08-21T09:47:58.964369Z",
     "shell.execute_reply": "2024-08-21T09:47:58.964159Z"
    },
    "papermill": {
     "duration": 0.004366,
     "end_time": "2024-08-21T09:47:58.965144",
     "exception": false,
     "start_time": "2024-08-21T09:47:58.960778",
     "status": "completed"
    },
    "tags": []
   },
   "outputs": [],
   "source": [
    "def get_acc(model, samples, labels, feature_names=None):\n",
    "    predictions = (model.predict(xgboost.DMatrix(samples,\n",
    "                                                 feature_names=feature_names)) > 0.5).astype(int)\n",
    "    return (predictions == labels).sum() / predictions.shape[0]"
   ]
  },
  {
   "cell_type": "code",
   "execution_count": 12,
   "id": "7ce6b380",
   "metadata": {
    "execution": {
     "iopub.execute_input": "2024-08-21T09:47:58.968263Z",
     "iopub.status.busy": "2024-08-21T09:47:58.968167Z",
     "iopub.status.idle": "2024-08-21T09:47:58.973890Z",
     "shell.execute_reply": "2024-08-21T09:47:58.973606Z"
    },
    "papermill": {
     "duration": 0.008151,
     "end_time": "2024-08-21T09:47:58.974713",
     "exception": false,
     "start_time": "2024-08-21T09:47:58.966562",
     "status": "completed"
    },
    "tags": []
   },
   "outputs": [
    {
     "name": "stdout",
     "output_type": "stream",
     "text": [
      "Train score: 0.9145054680927773\n",
      "Test score: 0.9135482010238661\n"
     ]
    }
   ],
   "source": [
    "print('Train score:', get_acc(xgb_forest, X_train, y_train, feature_names))\n",
    "print('Test score:', get_acc(xgb_forest, X_test, y_test, feature_names))"
   ]
  },
  {
   "cell_type": "code",
   "execution_count": 13,
   "id": "97a1d2b0",
   "metadata": {
    "execution": {
     "iopub.execute_input": "2024-08-21T09:47:58.978841Z",
     "iopub.status.busy": "2024-08-21T09:47:58.978550Z",
     "iopub.status.idle": "2024-08-21T09:47:59.293494Z",
     "shell.execute_reply": "2024-08-21T09:47:59.293244Z"
    },
    "papermill": {
     "duration": 0.31811,
     "end_time": "2024-08-21T09:47:59.294581",
     "exception": false,
     "start_time": "2024-08-21T09:47:58.976471",
     "status": "completed"
    },
    "tags": []
   },
   "outputs": [],
   "source": [
    "import shap\n",
    "import pandas as pd\n",
    "explainer = shap.Explainer(xgb_forest)\n",
    "\n",
    "shap_values = explainer(pd.DataFrame(X_test, columns=feature_names))\n"
   ]
  },
  {
   "cell_type": "code",
   "execution_count": 14,
   "id": "8e7a54a8",
   "metadata": {
    "execution": {
     "iopub.execute_input": "2024-08-21T09:47:59.298021Z",
     "iopub.status.busy": "2024-08-21T09:47:59.297864Z",
     "iopub.status.idle": "2024-08-21T09:48:00.465232Z",
     "shell.execute_reply": "2024-08-21T09:48:00.464937Z"
    },
    "papermill": {
     "duration": 1.170138,
     "end_time": "2024-08-21T09:48:00.466317",
     "exception": false,
     "start_time": "2024-08-21T09:47:59.296179",
     "status": "completed"
    },
    "tags": []
   },
   "outputs": [
    {
     "data": {
      "image/png": "[encoded data removed]",
      "text/plain": [
       "<Figure size 400x200 with 2 Axes>"
      ]
     },
     "metadata": {},
     "output_type": "display_data"
    }
   ],
   "source": [
    "# Beeswarm plot\n",
    "\n",
    "shap.plots.beeswarm(shap_values, show=False)\n",
    "fig = plt.gcf()\n",
    "fig.set_size_inches(4, 2, forward=True)\n",
    "if save_figures: plt.savefig(\n",
    "    f'../{path_transport_graphics}/logitics_data_on_customer_profile_{comparison_dict[comparison_id][0]} and customer_profile_{comparison_dict[comparison_id][1]}-shap-value.{save_parms[\"format\"]}',\n",
    "    **save_parms\n",
    "    )\n",
    "plt.show()"
   ]
  }
 ],
 "metadata": {
  "kernelspec": {
   "display_name": "Python 3.7.11 ('py37')",
   "language": "python",
   "name": "python3"
  },
  "language_info": {
   "codemirror_mode": {
    "name": "ipython",
    "version": 3
   },
   "file_extension": ".py",
   "mimetype": "text/x-python",
   "name": "python",
   "nbconvert_exporter": "python",
   "pygments_lexer": "ipython3",
   "version": "3.12.0"
  },
  "papermill": {
   "default_parameters": {},
   "duration": 3.73589,
   "end_time": "2024-08-21T09:48:00.788167",
   "environment_variables": {},
   "exception": null,
   "input_path": "experiment_baseline.ipynb",
   "output_path": "./Results_Experiments/Set_num_components_to_6/experiment_baseline_3.ipynb",
   "parameters": {
    "comparison_id": 2
   },
   "start_time": "2024-08-21T09:47:57.052277",
   "version": "2.6.0"
  },
  "vscode": {
   "interpreter": {
    "hash": "5ab0220f0ca30ec7bac8a7e209564eceae6d15412b9f87f3c2f91206aa8b151c"
   }
  }
 },
 "nbformat": 4,
 "nbformat_minor": 5
}