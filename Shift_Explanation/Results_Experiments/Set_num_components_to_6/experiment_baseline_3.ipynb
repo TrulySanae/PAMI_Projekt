{
 "cells": [
  {
   "cell_type": "code",
   "execution_count": 1,
   "id": "d05cab18",
   "metadata": {
    "execution": {
     "iopub.execute_input": "2024-08-21T12:10:33.205752Z",
     "iopub.status.busy": "2024-08-21T12:10:33.205433Z",
     "iopub.status.idle": "2024-08-21T12:10:34.048427Z",
     "shell.execute_reply": "2024-08-21T12:10:34.048057Z"
    },
    "papermill": {
     "duration": 0.849246,
     "end_time": "2024-08-21T12:10:34.049450",
     "exception": false,
     "start_time": "2024-08-21T12:10:33.200204",
     "status": "completed"
    },
    "tags": []
   },
   "outputs": [],
   "source": [
    "import matplotlib.pyplot as plt\n",
    "import numpy as np\n",
    "import pandas as pd\n",
    "from pathlib import Path\n",
    "import seaborn as sn\n",
    "from data_utils import load_and_preprocess_logistics_data"
   ]
  },
  {
   "cell_type": "code",
   "execution_count": 2,
   "id": "d6302d10",
   "metadata": {
    "execution": {
     "iopub.execute_input": "2024-08-21T12:10:34.052645Z",
     "iopub.status.busy": "2024-08-21T12:10:34.052499Z",
     "iopub.status.idle": "2024-08-21T12:10:34.054983Z",
     "shell.execute_reply": "2024-08-21T12:10:34.054759Z"
    },
    "papermill": {
     "duration": 0.004776,
     "end_time": "2024-08-21T12:10:34.055708",
     "exception": false,
     "start_time": "2024-08-21T12:10:34.050932",
     "status": "completed"
    },
    "tags": []
   },
   "outputs": [],
   "source": [
    "# Setting so that the plots look normal even when using dark-reader\n",
    "sn.set_style(\"whitegrid\")\n",
    "sn.set_context(context=\"paper\", font_scale=2)\n",
    "pal = sn.color_palette(\"Set1\")\n",
    "\n",
    "# Setting up specifics for plotting + saving\n",
    "save_figures = True\n",
    "add_legend = False\n",
    "add_title = False\n",
    "add_axis = False\n",
    "save_parms = {'format': 'pdf','bbox_inches':'tight', 'pad_inches':0.1}\n",
    "line_parms = {'linewidth':4, 'color':'k'}\n",
    "if save_figures:  # saves all figures in a figure directory in the local directory\n",
    "    figure_dir = Path('.') / 'figures' / 'adult-income-experiment'\n",
    "    if not figure_dir.exists():\n",
    "        figure_dir.mkdir(parents=True)"
   ]
  },
  {
   "cell_type": "code",
   "execution_count": 3,
   "id": "22d1d0e0",
   "metadata": {
    "execution": {
     "iopub.execute_input": "2024-08-21T12:10:34.058849Z",
     "iopub.status.busy": "2024-08-21T12:10:34.058644Z",
     "iopub.status.idle": "2024-08-21T12:10:34.060691Z",
     "shell.execute_reply": "2024-08-21T12:10:34.060470Z"
    },
    "papermill": {
     "duration": 0.005035,
     "end_time": "2024-08-21T12:10:34.061910",
     "exception": false,
     "start_time": "2024-08-21T12:10:34.056875",
     "status": "completed"
    },
    "tags": []
   },
   "outputs": [],
   "source": [
    "# Experiment hyperparamters\n",
    "rng = np.random.RandomState(42)\n",
    "split_on_income = False  # if True: src := income>=50k, tgt :+ income<50k, if False: src := male, tgt := female\n",
    "n_samples = 1000"
   ]
  },
  {
   "cell_type": "code",
   "execution_count": 4,
   "id": "48ff09ec",
   "metadata": {
    "execution": {
     "iopub.execute_input": "2024-08-21T12:10:34.065579Z",
     "iopub.status.busy": "2024-08-21T12:10:34.065354Z",
     "iopub.status.idle": "2024-08-21T12:10:34.067065Z",
     "shell.execute_reply": "2024-08-21T12:10:34.066865Z"
    },
    "papermill": {
     "duration": 0.004334,
     "end_time": "2024-08-21T12:10:34.067768",
     "exception": false,
     "start_time": "2024-08-21T12:10:34.063434",
     "status": "completed"
    },
    "tags": [
     "parameters"
    ]
   },
   "outputs": [],
   "source": [
    "comparison_id = None"
   ]
  },
  {
   "cell_type": "code",
   "execution_count": 5,
   "id": "44c646aa",
   "metadata": {
    "execution": {
     "iopub.execute_input": "2024-08-21T12:10:34.070448Z",
     "iopub.status.busy": "2024-08-21T12:10:34.070364Z",
     "iopub.status.idle": "2024-08-21T12:10:34.071650Z",
     "shell.execute_reply": "2024-08-21T12:10:34.071462Z"
    },
    "papermill": {
     "duration": 0.003449,
     "end_time": "2024-08-21T12:10:34.072382",
     "exception": false,
     "start_time": "2024-08-21T12:10:34.068933",
     "status": "completed"
    },
    "tags": [
     "injected-parameters"
    ]
   },
   "outputs": [],
   "source": [
    "# Parameters\n",
    "comparison_id = 2\n"
   ]
  },
  {
   "cell_type": "code",
   "execution_count": 6,
   "id": "dade2b7e",
   "metadata": {
    "execution": {
     "iopub.execute_input": "2024-08-21T12:10:34.075315Z",
     "iopub.status.busy": "2024-08-21T12:10:34.075218Z",
     "iopub.status.idle": "2024-08-21T12:10:34.109270Z",
     "shell.execute_reply": "2024-08-21T12:10:34.108950Z"
    },
    "papermill": {
     "duration": 0.036395,
     "end_time": "2024-08-21T12:10:34.110139",
     "exception": false,
     "start_time": "2024-08-21T12:10:34.073744",
     "status": "completed"
    },
    "tags": []
   },
   "outputs": [
    {
     "name": "stdout",
     "output_type": "stream",
     "text": [
      "Comparing customer_profile_4 and customer_profile_5\n",
      "Finished preprocessing logistic dataset. Split on customer_profile_4 and customer_profile_5 with resulting source shape: (996, 3), target shape: (996, 3).\n",
      "['Connection', 'Weight', 'Unit_type']\n"
     ]
    }
   ],
   "source": [
    "\n",
    "# Load the data\n",
    "comparison_dict = {0: [0,1], 1: [2,3], 2: [4,5]}\n",
    "path_customer_profiles = open('./Results_Experiments/File_Paths/path_customer_profiles.txt','r').read()\n",
    "path_transport_graphics = open('./Results_Experiments/File_Paths/path_transport_graphics.txt','r').read()\n",
    "source = pd.read_csv(f'../{path_customer_profiles}/customer_profile_{comparison_dict[comparison_id][0]}.csv')\n",
    "target = pd.read_csv(f'../{path_customer_profiles}/customer_profile_{comparison_dict[comparison_id][1]}.csv')\n",
    "equal_week_split = True\n",
    "source, target, feature_names = load_and_preprocess_logistics_data(rng, n_samples, return_column_names=True,equal_week_split=equal_week_split, comparison_id=\n",
    "            comparison_id, comparison_dict=comparison_dict)\n",
    "print(feature_names)"
   ]
  },
  {
   "cell_type": "code",
   "execution_count": 7,
   "id": "296df3b5",
   "metadata": {
    "execution": {
     "iopub.execute_input": "2024-08-21T12:10:34.113250Z",
     "iopub.status.busy": "2024-08-21T12:10:34.113143Z",
     "iopub.status.idle": "2024-08-21T12:10:34.115805Z",
     "shell.execute_reply": "2024-08-21T12:10:34.115587Z"
    },
    "papermill": {
     "duration": 0.005031,
     "end_time": "2024-08-21T12:10:34.116552",
     "exception": false,
     "start_time": "2024-08-21T12:10:34.111521",
     "status": "completed"
    },
    "tags": []
   },
   "outputs": [],
   "source": [
    "# standardize the source and target data, and convert to domain labels\n",
    "from sklearn.preprocessing import StandardScaler\n",
    "X = np.concatenate((source, target), axis=0)\n",
    "# standardize X to remove cardinatlity bias\n",
    "X = StandardScaler().fit_transform(X)\n",
    "y = np.concatenate((np.zeros(source.shape[0]),\n",
    "                    np.ones(target.shape[0])), axis=0)  # domain labels"
   ]
  },
  {
   "cell_type": "code",
   "execution_count": 8,
   "id": "c5422e1f",
   "metadata": {
    "execution": {
     "iopub.execute_input": "2024-08-21T12:10:34.119487Z",
     "iopub.status.busy": "2024-08-21T12:10:34.119394Z",
     "iopub.status.idle": "2024-08-21T12:10:34.168142Z",
     "shell.execute_reply": "2024-08-21T12:10:34.167872Z"
    },
    "papermill": {
     "duration": 0.051194,
     "end_time": "2024-08-21T12:10:34.169022",
     "exception": false,
     "start_time": "2024-08-21T12:10:34.117828",
     "status": "completed"
    },
    "tags": []
   },
   "outputs": [],
   "source": [
    "from sklearn.datasets import make_classification\n",
    "from sklearn.model_selection import train_test_split\n",
    "\n",
    "X_train, X_test, y_train, y_test = train_test_split(X, y,\n",
    "                                     stratify=y, random_state=42)"
   ]
  },
  {
   "cell_type": "code",
   "execution_count": 9,
   "id": "5d9ba299",
   "metadata": {
    "execution": {
     "iopub.execute_input": "2024-08-21T12:10:34.172233Z",
     "iopub.status.busy": "2024-08-21T12:10:34.172101Z",
     "iopub.status.idle": "2024-08-21T12:10:34.186157Z",
     "shell.execute_reply": "2024-08-21T12:10:34.185914Z"
    },
    "papermill": {
     "duration": 0.016602,
     "end_time": "2024-08-21T12:10:34.187093",
     "exception": false,
     "start_time": "2024-08-21T12:10:34.170491",
     "status": "completed"
    },
    "tags": []
   },
   "outputs": [],
   "source": [
    "# Using XGBoost\n",
    "import xgboost\n",
    "\n",
    "def fit_xgboost(X_train, y_train, X_test, y_test, feature_names=None):\n",
    "    \"\"\" Train an XGBoost model with early stopping.\n",
    "    \"\"\"\n",
    "    dtrain = xgboost.DMatrix(X_train, label=y_train, feature_names=feature_names)\n",
    "    dtest = xgboost.DMatrix(X_test, label=y_test, feature_names=feature_names)\n",
    "    # model = xgboost.train(\n",
    "    #     { \"eta\": 0.001, \"subsample\": 0.5, \"max_depth\": 2,\n",
    "    #       \"objective\": 'binary:logistic', 'eval_metric': 'logloss'}, dtrain, num_boost_round=200000,\n",
    "    #     evals=[(dtest,'eval'), (dtrain,'train')], early_stopping_rounds=20, verbose_eval=False\n",
    "    # )\n",
    "    model = xgboost.train(\n",
    "        {\"objective\": 'binary:logistic', 'eval_metric': 'logloss'},\n",
    "        dtrain,\n",
    "        evals=[(dtest,'eval'), (dtrain,'train')],\n",
    "        verbose_eval=False)\n",
    "    return model"
   ]
  },
  {
   "cell_type": "code",
   "execution_count": 10,
   "id": "bd7ac9f1",
   "metadata": {
    "execution": {
     "iopub.execute_input": "2024-08-21T12:10:34.190232Z",
     "iopub.status.busy": "2024-08-21T12:10:34.190128Z",
     "iopub.status.idle": "2024-08-21T12:10:34.206446Z",
     "shell.execute_reply": "2024-08-21T12:10:34.206167Z"
    },
    "papermill": {
     "duration": 0.018912,
     "end_time": "2024-08-21T12:10:34.207378",
     "exception": false,
     "start_time": "2024-08-21T12:10:34.188466",
     "status": "completed"
    },
    "tags": []
   },
   "outputs": [],
   "source": [
    "xgb_forest = fit_xgboost(X_train, y_train, X_test, y_test, feature_names)\n",
    "xgb_forest.feature_names = feature_names"
   ]
  },
  {
   "cell_type": "code",
   "execution_count": 11,
   "id": "dcaa3020",
   "metadata": {
    "execution": {
     "iopub.execute_input": "2024-08-21T12:10:34.210465Z",
     "iopub.status.busy": "2024-08-21T12:10:34.210355Z",
     "iopub.status.idle": "2024-08-21T12:10:34.212332Z",
     "shell.execute_reply": "2024-08-21T12:10:34.212096Z"
    },
    "papermill": {
     "duration": 0.004283,
     "end_time": "2024-08-21T12:10:34.213044",
     "exception": false,
     "start_time": "2024-08-21T12:10:34.208761",
     "status": "completed"
    },
    "tags": []
   },
   "outputs": [],
   "source": [
    "def get_acc(model, samples, labels, feature_names=None):\n",
    "    predictions = (model.predict(xgboost.DMatrix(samples,\n",
    "                                                 feature_names=feature_names)) > 0.5).astype(int)\n",
    "    return (predictions == labels).sum() / predictions.shape[0]"
   ]
  },
  {
   "cell_type": "code",
   "execution_count": 12,
   "id": "7ce6b380",
   "metadata": {
    "execution": {
     "iopub.execute_input": "2024-08-21T12:10:34.216024Z",
     "iopub.status.busy": "2024-08-21T12:10:34.215927Z",
     "iopub.status.idle": "2024-08-21T12:10:34.218753Z",
     "shell.execute_reply": "2024-08-21T12:10:34.218528Z"
    },
    "papermill": {
     "duration": 0.005086,
     "end_time": "2024-08-21T12:10:34.219441",
     "exception": false,
     "start_time": "2024-08-21T12:10:34.214355",
     "status": "completed"
    },
    "tags": []
   },
   "outputs": [
    {
     "name": "stdout",
     "output_type": "stream",
     "text": [
      "Train score: 0.8734939759036144\n",
      "Test score: 0.8353413654618473\n"
     ]
    }
   ],
   "source": [
    "print('Train score:', get_acc(xgb_forest, X_train, y_train, feature_names))\n",
    "print('Test score:', get_acc(xgb_forest, X_test, y_test, feature_names))"
   ]
  },
  {
   "cell_type": "code",
   "execution_count": 13,
   "id": "97a1d2b0",
   "metadata": {
    "execution": {
     "iopub.execute_input": "2024-08-21T12:10:34.222387Z",
     "iopub.status.busy": "2024-08-21T12:10:34.222294Z",
     "iopub.status.idle": "2024-08-21T12:10:34.460529Z",
     "shell.execute_reply": "2024-08-21T12:10:34.460253Z"
    },
    "papermill": {
     "duration": 0.240747,
     "end_time": "2024-08-21T12:10:34.461476",
     "exception": false,
     "start_time": "2024-08-21T12:10:34.220729",
     "status": "completed"
    },
    "tags": []
   },
   "outputs": [],
   "source": [
    "import shap\n",
    "import pandas as pd\n",
    "explainer = shap.Explainer(xgb_forest)\n",
    "\n",
    "shap_values = explainer(pd.DataFrame(X_test, columns=feature_names))\n"
   ]
  },
  {
   "cell_type": "code",
   "execution_count": 14,
   "id": "8e7a54a8",
   "metadata": {
    "execution": {
     "iopub.execute_input": "2024-08-21T12:10:34.464826Z",
     "iopub.status.busy": "2024-08-21T12:10:34.464664Z",
     "iopub.status.idle": "2024-08-21T12:10:34.768442Z",
     "shell.execute_reply": "2024-08-21T12:10:34.768180Z"
    },
    "papermill": {
     "duration": 0.306245,
     "end_time": "2024-08-21T12:10:34.769234",
     "exception": false,
     "start_time": "2024-08-21T12:10:34.462989",
     "status": "completed"
    },
    "tags": []
   },
   "outputs": [
    {
     "data": {
      "image/png": "[encoded data removed]",
      "text/plain": [
       "<Figure size 400x100 with 2 Axes>"
      ]
     },
     "metadata": {},
     "output_type": "display_data"
    }
   ],
   "source": [
    "# Beeswarm plot\n",
    "\n",
    "shap.plots.beeswarm(shap_values, show=False)\n",
    "fig = plt.gcf()\n",
    "fig.set_size_inches(4, 1, forward=True)\n",
    "if save_figures: plt.savefig(\n",
    "    f'../{path_transport_graphics}/logitics_data_on_customer_profile_{comparison_dict[comparison_id][0]} and customer_profile_{comparison_dict[comparison_id][1]}-shap-value.{save_parms[\"format\"]}',\n",
    "    **save_parms\n",
    "    )\n",
    "plt.show()"
   ]
  }
 ],
 "metadata": {
  "kernelspec": {
   "display_name": "Python 3.7.11 ('py37')",
   "language": "python",
   "name": "python3"
  },
  "language_info": {
   "codemirror_mode": {
    "name": "ipython",
    "version": 3
   },
   "file_extension": ".py",
   "mimetype": "text/x-python",
   "name": "python",
   "nbconvert_exporter": "python",
   "pygments_lexer": "ipython3",
   "version": "3.12.0"
  },
  "papermill": {
   "default_parameters": {},
   "duration": 2.626066,
   "end_time": "2024-08-21T12:10:35.089326",
   "environment_variables": {},
   "exception": null,
   "input_path": "experiment_baseline.ipynb",
   "output_path": "./Results_Experiments/Set_num_components_to_6/experiment_baseline_3.ipynb",
   "parameters": {
    "comparison_id": 2
   },
   "start_time": "2024-08-21T12:10:32.463260",
   "version": "2.6.0"
  },
  "vscode": {
   "interpreter": {
    "hash": "5ab0220f0ca30ec7bac8a7e209564eceae6d15412b9f87f3c2f91206aa8b151c"
   }
  }
 },
 "nbformat": 4,
 "nbformat_minor": 5
}