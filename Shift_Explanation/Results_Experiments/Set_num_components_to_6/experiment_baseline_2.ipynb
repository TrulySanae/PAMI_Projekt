{
 "cells": [
  {
   "cell_type": "code",
   "execution_count": 1,
   "id": "d05cab18",
   "metadata": {
    "execution": {
     "iopub.execute_input": "2024-08-21T09:47:54.638981Z",
     "iopub.status.busy": "2024-08-21T09:47:54.638396Z",
     "iopub.status.idle": "2024-08-21T09:47:55.556966Z",
     "shell.execute_reply": "2024-08-21T09:47:55.556651Z"
    },
    "papermill": {
     "duration": 0.926655,
     "end_time": "2024-08-21T09:47:55.558003",
     "exception": false,
     "start_time": "2024-08-21T09:47:54.631348",
     "status": "completed"
    },
    "tags": []
   },
   "outputs": [],
   "source": [
    "import matplotlib.pyplot as plt\n",
    "import numpy as np\n",
    "import pandas as pd\n",
    "from pathlib import Path\n",
    "import seaborn as sn\n"
   ]
  },
  {
   "cell_type": "code",
   "execution_count": 2,
   "id": "d6302d10",
   "metadata": {
    "execution": {
     "iopub.execute_input": "2024-08-21T09:47:55.561235Z",
     "iopub.status.busy": "2024-08-21T09:47:55.561097Z",
     "iopub.status.idle": "2024-08-21T09:47:55.563891Z",
     "shell.execute_reply": "2024-08-21T09:47:55.563671Z"
    },
    "papermill": {
     "duration": 0.005051,
     "end_time": "2024-08-21T09:47:55.564558",
     "exception": false,
     "start_time": "2024-08-21T09:47:55.559507",
     "status": "completed"
    },
    "tags": []
   },
   "outputs": [],
   "source": [
    "# Setting so that the plots look normal even when using dark-reader\n",
    "sn.set_style(\"whitegrid\")\n",
    "sn.set_context(context=\"paper\", font_scale=2)\n",
    "pal = sn.color_palette(\"Set1\")\n",
    "\n",
    "# Setting up specifics for plotting + saving\n",
    "save_figures = True\n",
    "add_legend = False\n",
    "add_title = False\n",
    "add_axis = False\n",
    "save_parms = {'format': 'pdf','bbox_inches':'tight', 'pad_inches':0.1}\n",
    "line_parms = {'linewidth':4, 'color':'k'}\n",
    "if save_figures:  # saves all figures in a figure directory in the local directory\n",
    "    figure_dir = Path('.') / 'figures' / 'adult-income-experiment'\n",
    "    if not figure_dir.exists():\n",
    "        figure_dir.mkdir(parents=True)"
   ]
  },
  {
   "cell_type": "code",
   "execution_count": 3,
   "id": "22d1d0e0",
   "metadata": {
    "execution": {
     "iopub.execute_input": "2024-08-21T09:47:55.568093Z",
     "iopub.status.busy": "2024-08-21T09:47:55.567945Z",
     "iopub.status.idle": "2024-08-21T09:47:55.570102Z",
     "shell.execute_reply": "2024-08-21T09:47:55.569818Z"
    },
    "papermill": {
     "duration": 0.005101,
     "end_time": "2024-08-21T09:47:55.571008",
     "exception": false,
     "start_time": "2024-08-21T09:47:55.565907",
     "status": "completed"
    },
    "tags": []
   },
   "outputs": [],
   "source": [
    "# Experiment hyperparamters\n",
    "rng = np.random.RandomState(42)\n",
    "split_on_income = False  # if True: src := income>=50k, tgt :+ income<50k, if False: src := male, tgt := female\n",
    "n_samples = 1000"
   ]
  },
  {
   "cell_type": "code",
   "execution_count": 4,
   "id": "48ff09ec",
   "metadata": {
    "execution": {
     "iopub.execute_input": "2024-08-21T09:47:55.574974Z",
     "iopub.status.busy": "2024-08-21T09:47:55.574817Z",
     "iopub.status.idle": "2024-08-21T09:47:55.576634Z",
     "shell.execute_reply": "2024-08-21T09:47:55.576354Z"
    },
    "papermill": {
     "duration": 0.005016,
     "end_time": "2024-08-21T09:47:55.577495",
     "exception": false,
     "start_time": "2024-08-21T09:47:55.572479",
     "status": "completed"
    },
    "tags": [
     "parameters"
    ]
   },
   "outputs": [],
   "source": [
    "comparison_id = None"
   ]
  },
  {
   "cell_type": "code",
   "execution_count": 5,
   "id": "b51f607b",
   "metadata": {
    "execution": {
     "iopub.execute_input": "2024-08-21T09:47:55.581623Z",
     "iopub.status.busy": "2024-08-21T09:47:55.581437Z",
     "iopub.status.idle": "2024-08-21T09:47:55.583239Z",
     "shell.execute_reply": "2024-08-21T09:47:55.582998Z"
    },
    "papermill": {
     "duration": 0.004747,
     "end_time": "2024-08-21T09:47:55.583951",
     "exception": false,
     "start_time": "2024-08-21T09:47:55.579204",
     "status": "completed"
    },
    "tags": [
     "injected-parameters"
    ]
   },
   "outputs": [],
   "source": [
    "# Parameters\n",
    "comparison_id = 1\n"
   ]
  },
  {
   "cell_type": "code",
   "execution_count": 6,
   "id": "dade2b7e",
   "metadata": {
    "execution": {
     "iopub.execute_input": "2024-08-21T09:47:55.588125Z",
     "iopub.status.busy": "2024-08-21T09:47:55.587849Z",
     "iopub.status.idle": "2024-08-21T09:47:55.597347Z",
     "shell.execute_reply": "2024-08-21T09:47:55.597080Z"
    },
    "papermill": {
     "duration": 0.012928,
     "end_time": "2024-08-21T09:47:55.598213",
     "exception": false,
     "start_time": "2024-08-21T09:47:55.585285",
     "status": "completed"
    },
    "tags": []
   },
   "outputs": [
    {
     "name": "stdout",
     "output_type": "stream",
     "text": [
      "['Customer_id', 'Connection', 'Weight', 'Unit_type', 'Day', 'Week']\n"
     ]
    }
   ],
   "source": [
    "\n",
    "# Load the data\n",
    "comparison_dict = {0: [0,1], 1: [2,3], 2: [4,5]}\n",
    "path_customer_profiles = open('./Results_Experiments/File_Paths/path_customer_profiles.txt','r').read()\n",
    "path_transport_graphics = open('./Results_Experiments/File_Paths/path_transport_graphics.txt','r').read()\n",
    "source = pd.read_csv(f'../{path_customer_profiles}/customer_profile_{comparison_dict[comparison_id][0]}.csv')\n",
    "target = pd.read_csv(f'../{path_customer_profiles}/customer_profile_{comparison_dict[comparison_id][1]}.csv')\n",
    "\n",
    "feature_names = source.columns.values\n",
    "feature_names = list(feature_names)\n",
    "print(feature_names)"
   ]
  },
  {
   "cell_type": "code",
   "execution_count": 7,
   "id": "296df3b5",
   "metadata": {
    "execution": {
     "iopub.execute_input": "2024-08-21T09:47:55.602023Z",
     "iopub.status.busy": "2024-08-21T09:47:55.601744Z",
     "iopub.status.idle": "2024-08-21T09:47:55.643810Z",
     "shell.execute_reply": "2024-08-21T09:47:55.643472Z"
    },
    "papermill": {
     "duration": 0.045685,
     "end_time": "2024-08-21T09:47:55.645457",
     "exception": false,
     "start_time": "2024-08-21T09:47:55.599772",
     "status": "completed"
    },
    "tags": []
   },
   "outputs": [],
   "source": [
    "# standardize the source and target data, and convert to domain labels\n",
    "from sklearn.preprocessing import StandardScaler\n",
    "X = np.concatenate((source, target), axis=0)\n",
    "# standardize X to remove cardinatlity bias\n",
    "X = StandardScaler().fit_transform(X)\n",
    "y = np.concatenate((np.zeros(source.shape[0]),\n",
    "                    np.ones(target.shape[0])), axis=0)  # domain labels"
   ]
  },
  {
   "cell_type": "code",
   "execution_count": 8,
   "id": "c5422e1f",
   "metadata": {
    "execution": {
     "iopub.execute_input": "2024-08-21T09:47:55.649579Z",
     "iopub.status.busy": "2024-08-21T09:47:55.649301Z",
     "iopub.status.idle": "2024-08-21T09:47:55.706525Z",
     "shell.execute_reply": "2024-08-21T09:47:55.706267Z"
    },
    "papermill": {
     "duration": 0.060253,
     "end_time": "2024-08-21T09:47:55.707493",
     "exception": false,
     "start_time": "2024-08-21T09:47:55.647240",
     "status": "completed"
    },
    "tags": []
   },
   "outputs": [],
   "source": [
    "from sklearn.datasets import make_classification\n",
    "from sklearn.model_selection import train_test_split\n",
    "\n",
    "X_train, X_test, y_train, y_test = train_test_split(X, y,\n",
    "                                     stratify=y, random_state=42)"
   ]
  },
  {
   "cell_type": "code",
   "execution_count": 9,
   "id": "5d9ba299",
   "metadata": {
    "execution": {
     "iopub.execute_input": "2024-08-21T09:47:55.710905Z",
     "iopub.status.busy": "2024-08-21T09:47:55.710752Z",
     "iopub.status.idle": "2024-08-21T09:47:55.726908Z",
     "shell.execute_reply": "2024-08-21T09:47:55.726650Z"
    },
    "papermill": {
     "duration": 0.01881,
     "end_time": "2024-08-21T09:47:55.727887",
     "exception": false,
     "start_time": "2024-08-21T09:47:55.709077",
     "status": "completed"
    },
    "tags": []
   },
   "outputs": [],
   "source": [
    "# Using XGBoost\n",
    "import xgboost\n",
    "\n",
    "def fit_xgboost(X_train, y_train, X_test, y_test, feature_names=None):\n",
    "    \"\"\" Train an XGBoost model with early stopping.\n",
    "    \"\"\"\n",
    "    dtrain = xgboost.DMatrix(X_train, label=y_train, feature_names=feature_names)\n",
    "    dtest = xgboost.DMatrix(X_test, label=y_test, feature_names=feature_names)\n",
    "    # model = xgboost.train(\n",
    "    #     { \"eta\": 0.001, \"subsample\": 0.5, \"max_depth\": 2,\n",
    "    #       \"objective\": 'binary:logistic', 'eval_metric': 'logloss'}, dtrain, num_boost_round=200000,\n",
    "    #     evals=[(dtest,'eval'), (dtrain,'train')], early_stopping_rounds=20, verbose_eval=False\n",
    "    # )\n",
    "    model = xgboost.train(\n",
    "        {\"objective\": 'binary:logistic', 'eval_metric': 'logloss'},\n",
    "        dtrain,\n",
    "        evals=[(dtest,'eval'), (dtrain,'train')],\n",
    "        verbose_eval=False)\n",
    "    return model"
   ]
  },
  {
   "cell_type": "code",
   "execution_count": 10,
   "id": "bd7ac9f1",
   "metadata": {
    "execution": {
     "iopub.execute_input": "2024-08-21T09:47:55.730990Z",
     "iopub.status.busy": "2024-08-21T09:47:55.730886Z",
     "iopub.status.idle": "2024-08-21T09:47:55.750854Z",
     "shell.execute_reply": "2024-08-21T09:47:55.750543Z"
    },
    "papermill": {
     "duration": 0.022542,
     "end_time": "2024-08-21T09:47:55.751823",
     "exception": false,
     "start_time": "2024-08-21T09:47:55.729281",
     "status": "completed"
    },
    "tags": []
   },
   "outputs": [],
   "source": [
    "xgb_forest = fit_xgboost(X_train, y_train, X_test, y_test, feature_names)\n",
    "xgb_forest.feature_names = feature_names"
   ]
  },
  {
   "cell_type": "code",
   "execution_count": 11,
   "id": "dcaa3020",
   "metadata": {
    "execution": {
     "iopub.execute_input": "2024-08-21T09:47:55.755136Z",
     "iopub.status.busy": "2024-08-21T09:47:55.755011Z",
     "iopub.status.idle": "2024-08-21T09:47:55.756917Z",
     "shell.execute_reply": "2024-08-21T09:47:55.756689Z"
    },
    "papermill": {
     "duration": 0.004378,
     "end_time": "2024-08-21T09:47:55.757695",
     "exception": false,
     "start_time": "2024-08-21T09:47:55.753317",
     "status": "completed"
    },
    "tags": []
   },
   "outputs": [],
   "source": [
    "def get_acc(model, samples, labels, feature_names=None):\n",
    "    predictions = (model.predict(xgboost.DMatrix(samples,\n",
    "                                                 feature_names=feature_names)) > 0.5).astype(int)\n",
    "    return (predictions == labels).sum() / predictions.shape[0]"
   ]
  },
  {
   "cell_type": "code",
   "execution_count": 12,
   "id": "7ce6b380",
   "metadata": {
    "execution": {
     "iopub.execute_input": "2024-08-21T09:47:55.760731Z",
     "iopub.status.busy": "2024-08-21T09:47:55.760638Z",
     "iopub.status.idle": "2024-08-21T09:47:55.764262Z",
     "shell.execute_reply": "2024-08-21T09:47:55.764037Z"
    },
    "papermill": {
     "duration": 0.005933,
     "end_time": "2024-08-21T09:47:55.764978",
     "exception": false,
     "start_time": "2024-08-21T09:47:55.759045",
     "status": "completed"
    },
    "tags": []
   },
   "outputs": [
    {
     "name": "stdout",
     "output_type": "stream",
     "text": [
      "Train score: 0.975068108643606\n",
      "Test score: 0.9764735017335314\n"
     ]
    }
   ],
   "source": [
    "print('Train score:', get_acc(xgb_forest, X_train, y_train, feature_names))\n",
    "print('Test score:', get_acc(xgb_forest, X_test, y_test, feature_names))"
   ]
  },
  {
   "cell_type": "code",
   "execution_count": 13,
   "id": "97a1d2b0",
   "metadata": {
    "execution": {
     "iopub.execute_input": "2024-08-21T09:47:55.768121Z",
     "iopub.status.busy": "2024-08-21T09:47:55.768017Z",
     "iopub.status.idle": "2024-08-21T09:47:56.040958Z",
     "shell.execute_reply": "2024-08-21T09:47:56.040685Z"
    },
    "papermill": {
     "duration": 0.275599,
     "end_time": "2024-08-21T09:47:56.041952",
     "exception": false,
     "start_time": "2024-08-21T09:47:55.766353",
     "status": "completed"
    },
    "tags": []
   },
   "outputs": [],
   "source": [
    "import shap\n",
    "import pandas as pd\n",
    "explainer = shap.Explainer(xgb_forest)\n",
    "\n",
    "shap_values = explainer(pd.DataFrame(X_test, columns=feature_names))\n"
   ]
  },
  {
   "cell_type": "code",
   "execution_count": 14,
   "id": "8e7a54a8",
   "metadata": {
    "execution": {
     "iopub.execute_input": "2024-08-21T09:47:56.045389Z",
     "iopub.status.busy": "2024-08-21T09:47:56.045247Z",
     "iopub.status.idle": "2024-08-21T09:47:56.624193Z",
     "shell.execute_reply": "2024-08-21T09:47:56.623824Z"
    },
    "papermill": {
     "duration": 0.58221,
     "end_time": "2024-08-21T09:47:56.625750",
     "exception": false,
     "start_time": "2024-08-21T09:47:56.043540",
     "status": "completed"
    },
    "tags": []
   },
   "outputs": [
    {
     "data": {
      "image/png": "[encoded data removed]",
      "text/plain": [
       "<Figure size 400x200 with 2 Axes>"
      ]
     },
     "metadata": {},
     "output_type": "display_data"
    }
   ],
   "source": [
    "# Beeswarm plot\n",
    "\n",
    "shap.plots.beeswarm(shap_values, show=False)\n",
    "fig = plt.gcf()\n",
    "fig.set_size_inches(4, 2, forward=True)\n",
    "if save_figures: plt.savefig(\n",
    "    f'../{path_transport_graphics}/logitics_data_on_customer_profile_{comparison_dict[comparison_id][0]} and customer_profile_{comparison_dict[comparison_id][1]}-shap-value.{save_parms[\"format\"]}',\n",
    "    **save_parms\n",
    "    )\n",
    "plt.show()"
   ]
  }
 ],
 "metadata": {
  "kernelspec": {
   "display_name": "Python 3.7.11 ('py37')",
   "language": "python",
   "name": "python3"
  },
  "language_info": {
   "codemirror_mode": {
    "name": "ipython",
    "version": 3
   },
   "file_extension": ".py",
   "mimetype": "text/x-python",
   "name": "python",
   "nbconvert_exporter": "python",
   "pygments_lexer": "ipython3",
   "version": "3.12.0"
  },
  "papermill": {
   "default_parameters": {},
   "duration": 2.942789,
   "end_time": "2024-08-21T09:47:57.046700",
   "environment_variables": {},
   "exception": null,
   "input_path": "experiment_baseline.ipynb",
   "output_path": "./Results_Experiments/Set_num_components_to_6/experiment_baseline_2.ipynb",
   "parameters": {
    "comparison_id": 1
   },
   "start_time": "2024-08-21T09:47:54.103911",
   "version": "2.6.0"
  },
  "vscode": {
   "interpreter": {
    "hash": "5ab0220f0ca30ec7bac8a7e209564eceae6d15412b9f87f3c2f91206aa8b151c"
   }
  }
 },
 "nbformat": 4,
 "nbformat_minor": 5
}