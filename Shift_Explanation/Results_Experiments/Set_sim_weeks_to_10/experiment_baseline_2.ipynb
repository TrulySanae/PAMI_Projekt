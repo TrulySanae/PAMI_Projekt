{
 "cells": [
  {
   "cell_type": "code",
   "execution_count": 1,
   "id": "d05cab18",
   "metadata": {
    "execution": {
     "iopub.execute_input": "2024-08-21T09:48:45.042619Z",
     "iopub.status.busy": "2024-08-21T09:48:45.042373Z",
     "iopub.status.idle": "2024-08-21T09:48:45.996278Z",
     "shell.execute_reply": "2024-08-21T09:48:45.995965Z"
    },
    "papermill": {
     "duration": 0.961626,
     "end_time": "2024-08-21T09:48:45.998272",
     "exception": false,
     "start_time": "2024-08-21T09:48:45.036646",
     "status": "completed"
    },
    "tags": []
   },
   "outputs": [],
   "source": [
    "import matplotlib.pyplot as plt\n",
    "import numpy as np\n",
    "import pandas as pd\n",
    "from pathlib import Path\n",
    "import seaborn as sn\n"
   ]
  },
  {
   "cell_type": "code",
   "execution_count": 2,
   "id": "d6302d10",
   "metadata": {
    "execution": {
     "iopub.execute_input": "2024-08-21T09:48:46.002253Z",
     "iopub.status.busy": "2024-08-21T09:48:46.002097Z",
     "iopub.status.idle": "2024-08-21T09:48:46.004960Z",
     "shell.execute_reply": "2024-08-21T09:48:46.004745Z"
    },
    "papermill": {
     "duration": 0.005419,
     "end_time": "2024-08-21T09:48:46.005777",
     "exception": false,
     "start_time": "2024-08-21T09:48:46.000358",
     "status": "completed"
    },
    "tags": []
   },
   "outputs": [],
   "source": [
    "# Setting so that the plots look normal even when using dark-reader\n",
    "sn.set_style(\"whitegrid\")\n",
    "sn.set_context(context=\"paper\", font_scale=2)\n",
    "pal = sn.color_palette(\"Set1\")\n",
    "\n",
    "# Setting up specifics for plotting + saving\n",
    "save_figures = True\n",
    "add_legend = False\n",
    "add_title = False\n",
    "add_axis = False\n",
    "save_parms = {'format': 'pdf','bbox_inches':'tight', 'pad_inches':0.1}\n",
    "line_parms = {'linewidth':4, 'color':'k'}\n",
    "if save_figures:  # saves all figures in a figure directory in the local directory\n",
    "    figure_dir = Path('.') / 'figures' / 'adult-income-experiment'\n",
    "    if not figure_dir.exists():\n",
    "        figure_dir.mkdir(parents=True)"
   ]
  },
  {
   "cell_type": "code",
   "execution_count": 3,
   "id": "22d1d0e0",
   "metadata": {
    "execution": {
     "iopub.execute_input": "2024-08-21T09:48:46.009012Z",
     "iopub.status.busy": "2024-08-21T09:48:46.008894Z",
     "iopub.status.idle": "2024-08-21T09:48:46.010833Z",
     "shell.execute_reply": "2024-08-21T09:48:46.010571Z"
    },
    "papermill": {
     "duration": 0.004446,
     "end_time": "2024-08-21T09:48:46.011637",
     "exception": false,
     "start_time": "2024-08-21T09:48:46.007191",
     "status": "completed"
    },
    "tags": []
   },
   "outputs": [],
   "source": [
    "# Experiment hyperparamters\n",
    "rng = np.random.RandomState(42)\n",
    "split_on_income = False  # if True: src := income>=50k, tgt :+ income<50k, if False: src := male, tgt := female\n",
    "n_samples = 1000"
   ]
  },
  {
   "cell_type": "code",
   "execution_count": 4,
   "id": "48ff09ec",
   "metadata": {
    "execution": {
     "iopub.execute_input": "2024-08-21T09:48:46.015357Z",
     "iopub.status.busy": "2024-08-21T09:48:46.015020Z",
     "iopub.status.idle": "2024-08-21T09:48:46.017295Z",
     "shell.execute_reply": "2024-08-21T09:48:46.016994Z"
    },
    "papermill": {
     "duration": 0.005361,
     "end_time": "2024-08-21T09:48:46.018379",
     "exception": false,
     "start_time": "2024-08-21T09:48:46.013018",
     "status": "completed"
    },
    "tags": [
     "parameters"
    ]
   },
   "outputs": [],
   "source": [
    "comparison_id = None"
   ]
  },
  {
   "cell_type": "code",
   "execution_count": 5,
   "id": "226f8fcc",
   "metadata": {
    "execution": {
     "iopub.execute_input": "2024-08-21T09:48:46.021998Z",
     "iopub.status.busy": "2024-08-21T09:48:46.021766Z",
     "iopub.status.idle": "2024-08-21T09:48:46.023745Z",
     "shell.execute_reply": "2024-08-21T09:48:46.023457Z"
    },
    "papermill": {
     "duration": 0.004724,
     "end_time": "2024-08-21T09:48:46.024556",
     "exception": false,
     "start_time": "2024-08-21T09:48:46.019832",
     "status": "completed"
    },
    "tags": [
     "injected-parameters"
    ]
   },
   "outputs": [],
   "source": [
    "# Parameters\n",
    "comparison_id = 1\n"
   ]
  },
  {
   "cell_type": "code",
   "execution_count": 6,
   "id": "dade2b7e",
   "metadata": {
    "execution": {
     "iopub.execute_input": "2024-08-21T09:48:46.028268Z",
     "iopub.status.busy": "2024-08-21T09:48:46.028143Z",
     "iopub.status.idle": "2024-08-21T09:48:46.039127Z",
     "shell.execute_reply": "2024-08-21T09:48:46.038865Z"
    },
    "papermill": {
     "duration": 0.013533,
     "end_time": "2024-08-21T09:48:46.039856",
     "exception": false,
     "start_time": "2024-08-21T09:48:46.026323",
     "status": "completed"
    },
    "tags": []
   },
   "outputs": [
    {
     "name": "stdout",
     "output_type": "stream",
     "text": [
      "['Customer_id', 'Connection', 'Weight', 'Unit_type', 'Day', 'Week']\n"
     ]
    }
   ],
   "source": [
    "\n",
    "# Load the data\n",
    "comparison_dict = {0: [0,1], 1: [2,3], 2: [4,5]}\n",
    "path_customer_profiles = open('./Results_Experiments/File_Paths/path_customer_profiles.txt','r').read()\n",
    "path_transport_graphics = open('./Results_Experiments/File_Paths/path_transport_graphics.txt','r').read()\n",
    "source = pd.read_csv(f'../{path_customer_profiles}/customer_profile_{comparison_dict[comparison_id][0]}.csv')\n",
    "target = pd.read_csv(f'../{path_customer_profiles}/customer_profile_{comparison_dict[comparison_id][1]}.csv')\n",
    "\n",
    "feature_names = source.columns.values\n",
    "feature_names = list(feature_names)\n",
    "print(feature_names)"
   ]
  },
  {
   "cell_type": "code",
   "execution_count": 7,
   "id": "296df3b5",
   "metadata": {
    "execution": {
     "iopub.execute_input": "2024-08-21T09:48:46.043008Z",
     "iopub.status.busy": "2024-08-21T09:48:46.042901Z",
     "iopub.status.idle": "2024-08-21T09:48:46.079660Z",
     "shell.execute_reply": "2024-08-21T09:48:46.079400Z"
    },
    "papermill": {
     "duration": 0.039157,
     "end_time": "2024-08-21T09:48:46.080517",
     "exception": false,
     "start_time": "2024-08-21T09:48:46.041360",
     "status": "completed"
    },
    "tags": []
   },
   "outputs": [],
   "source": [
    "# standardize the source and target data, and convert to domain labels\n",
    "from sklearn.preprocessing import StandardScaler\n",
    "X = np.concatenate((source, target), axis=0)\n",
    "# standardize X to remove cardinatlity bias\n",
    "X = StandardScaler().fit_transform(X)\n",
    "y = np.concatenate((np.zeros(source.shape[0]),\n",
    "                    np.ones(target.shape[0])), axis=0)  # domain labels"
   ]
  },
  {
   "cell_type": "code",
   "execution_count": 8,
   "id": "c5422e1f",
   "metadata": {
    "execution": {
     "iopub.execute_input": "2024-08-21T09:48:46.083565Z",
     "iopub.status.busy": "2024-08-21T09:48:46.083423Z",
     "iopub.status.idle": "2024-08-21T09:48:46.139716Z",
     "shell.execute_reply": "2024-08-21T09:48:46.139460Z"
    },
    "papermill": {
     "duration": 0.058782,
     "end_time": "2024-08-21T09:48:46.140645",
     "exception": false,
     "start_time": "2024-08-21T09:48:46.081863",
     "status": "completed"
    },
    "tags": []
   },
   "outputs": [],
   "source": [
    "from sklearn.datasets import make_classification\n",
    "from sklearn.model_selection import train_test_split\n",
    "\n",
    "X_train, X_test, y_train, y_test = train_test_split(X, y,\n",
    "                                     stratify=y, random_state=42)"
   ]
  },
  {
   "cell_type": "code",
   "execution_count": 9,
   "id": "5d9ba299",
   "metadata": {
    "execution": {
     "iopub.execute_input": "2024-08-21T09:48:46.143852Z",
     "iopub.status.busy": "2024-08-21T09:48:46.143717Z",
     "iopub.status.idle": "2024-08-21T09:48:46.161021Z",
     "shell.execute_reply": "2024-08-21T09:48:46.160754Z"
    },
    "papermill": {
     "duration": 0.019783,
     "end_time": "2024-08-21T09:48:46.161917",
     "exception": false,
     "start_time": "2024-08-21T09:48:46.142134",
     "status": "completed"
    },
    "tags": []
   },
   "outputs": [],
   "source": [
    "# Using XGBoost\n",
    "import xgboost\n",
    "\n",
    "def fit_xgboost(X_train, y_train, X_test, y_test, feature_names=None):\n",
    "    \"\"\" Train an XGBoost model with early stopping.\n",
    "    \"\"\"\n",
    "    dtrain = xgboost.DMatrix(X_train, label=y_train, feature_names=feature_names)\n",
    "    dtest = xgboost.DMatrix(X_test, label=y_test, feature_names=feature_names)\n",
    "    # model = xgboost.train(\n",
    "    #     { \"eta\": 0.001, \"subsample\": 0.5, \"max_depth\": 2,\n",
    "    #       \"objective\": 'binary:logistic', 'eval_metric': 'logloss'}, dtrain, num_boost_round=200000,\n",
    "    #     evals=[(dtest,'eval'), (dtrain,'train')], early_stopping_rounds=20, verbose_eval=False\n",
    "    # )\n",
    "    model = xgboost.train(\n",
    "        {\"objective\": 'binary:logistic', 'eval_metric': 'logloss'},\n",
    "        dtrain,\n",
    "        evals=[(dtest,'eval'), (dtrain,'train')],\n",
    "        verbose_eval=False)\n",
    "    return model"
   ]
  },
  {
   "cell_type": "code",
   "execution_count": 10,
   "id": "bd7ac9f1",
   "metadata": {
    "execution": {
     "iopub.execute_input": "2024-08-21T09:48:46.164955Z",
     "iopub.status.busy": "2024-08-21T09:48:46.164780Z",
     "iopub.status.idle": "2024-08-21T09:48:46.190522Z",
     "shell.execute_reply": "2024-08-21T09:48:46.190253Z"
    },
    "papermill": {
     "duration": 0.028214,
     "end_time": "2024-08-21T09:48:46.191465",
     "exception": false,
     "start_time": "2024-08-21T09:48:46.163251",
     "status": "completed"
    },
    "tags": []
   },
   "outputs": [],
   "source": [
    "xgb_forest = fit_xgboost(X_train, y_train, X_test, y_test, feature_names)\n",
    "xgb_forest.feature_names = feature_names"
   ]
  },
  {
   "cell_type": "code",
   "execution_count": 11,
   "id": "dcaa3020",
   "metadata": {
    "execution": {
     "iopub.execute_input": "2024-08-21T09:48:46.195023Z",
     "iopub.status.busy": "2024-08-21T09:48:46.194914Z",
     "iopub.status.idle": "2024-08-21T09:48:46.196780Z",
     "shell.execute_reply": "2024-08-21T09:48:46.196547Z"
    },
    "papermill": {
     "duration": 0.004213,
     "end_time": "2024-08-21T09:48:46.197512",
     "exception": false,
     "start_time": "2024-08-21T09:48:46.193299",
     "status": "completed"
    },
    "tags": []
   },
   "outputs": [],
   "source": [
    "def get_acc(model, samples, labels, feature_names=None):\n",
    "    predictions = (model.predict(xgboost.DMatrix(samples,\n",
    "                                                 feature_names=feature_names)) > 0.5).astype(int)\n",
    "    return (predictions == labels).sum() / predictions.shape[0]"
   ]
  },
  {
   "cell_type": "code",
   "execution_count": 12,
   "id": "7ce6b380",
   "metadata": {
    "execution": {
     "iopub.execute_input": "2024-08-21T09:48:46.200332Z",
     "iopub.status.busy": "2024-08-21T09:48:46.200235Z",
     "iopub.status.idle": "2024-08-21T09:48:46.204449Z",
     "shell.execute_reply": "2024-08-21T09:48:46.204209Z"
    },
    "papermill": {
     "duration": 0.006441,
     "end_time": "2024-08-21T09:48:46.205138",
     "exception": false,
     "start_time": "2024-08-21T09:48:46.198697",
     "status": "completed"
    },
    "tags": []
   },
   "outputs": [
    {
     "name": "stdout",
     "output_type": "stream",
     "text": [
      "Train score: 0.9062191996846047\n",
      "Test score: 0.89150036954915\n"
     ]
    }
   ],
   "source": [
    "print('Train score:', get_acc(xgb_forest, X_train, y_train, feature_names))\n",
    "print('Test score:', get_acc(xgb_forest, X_test, y_test, feature_names))"
   ]
  },
  {
   "cell_type": "code",
   "execution_count": 13,
   "id": "97a1d2b0",
   "metadata": {
    "execution": {
     "iopub.execute_input": "2024-08-21T09:48:46.208165Z",
     "iopub.status.busy": "2024-08-21T09:48:46.208067Z",
     "iopub.status.idle": "2024-08-21T09:48:46.491889Z",
     "shell.execute_reply": "2024-08-21T09:48:46.491594Z"
    },
    "papermill": {
     "duration": 0.286463,
     "end_time": "2024-08-21T09:48:46.492960",
     "exception": false,
     "start_time": "2024-08-21T09:48:46.206497",
     "status": "completed"
    },
    "tags": []
   },
   "outputs": [],
   "source": [
    "import shap\n",
    "import pandas as pd\n",
    "explainer = shap.Explainer(xgb_forest)\n",
    "\n",
    "shap_values = explainer(pd.DataFrame(X_test, columns=feature_names))\n"
   ]
  },
  {
   "cell_type": "code",
   "execution_count": 14,
   "id": "8e7a54a8",
   "metadata": {
    "execution": {
     "iopub.execute_input": "2024-08-21T09:48:46.496312Z",
     "iopub.status.busy": "2024-08-21T09:48:46.496162Z",
     "iopub.status.idle": "2024-08-21T09:48:47.202220Z",
     "shell.execute_reply": "2024-08-21T09:48:47.201928Z"
    },
    "papermill": {
     "duration": 0.708657,
     "end_time": "2024-08-21T09:48:47.203125",
     "exception": false,
     "start_time": "2024-08-21T09:48:46.494468",
     "status": "completed"
    },
    "tags": []
   },
   "outputs": [
    {
     "data": {
      "image/png": "[encoded data removed]",
      "text/plain": [
       "<Figure size 400x200 with 2 Axes>"
      ]
     },
     "metadata": {},
     "output_type": "display_data"
    }
   ],
   "source": [
    "# Beeswarm plot\n",
    "\n",
    "shap.plots.beeswarm(shap_values, show=False)\n",
    "fig = plt.gcf()\n",
    "fig.set_size_inches(4, 2, forward=True)\n",
    "if save_figures: plt.savefig(\n",
    "    f'../{path_transport_graphics}/logitics_data_on_customer_profile_{comparison_dict[comparison_id][0]} and customer_profile_{comparison_dict[comparison_id][1]}-shap-value.{save_parms[\"format\"]}',\n",
    "    **save_parms\n",
    "    )\n",
    "plt.show()"
   ]
  }
 ],
 "metadata": {
  "kernelspec": {
   "display_name": "Python 3.7.11 ('py37')",
   "language": "python",
   "name": "python3"
  },
  "language_info": {
   "codemirror_mode": {
    "name": "ipython",
    "version": 3
   },
   "file_extension": ".py",
   "mimetype": "text/x-python",
   "name": "python",
   "nbconvert_exporter": "python",
   "pygments_lexer": "ipython3",
   "version": "3.12.0"
  },
  "papermill": {
   "default_parameters": {},
   "duration": 3.216105,
   "end_time": "2024-08-21T09:48:47.522306",
   "environment_variables": {},
   "exception": null,
   "input_path": "experiment_baseline.ipynb",
   "output_path": "./Results_Experiments/Set_sim_weeks_to_10/experiment_baseline_2.ipynb",
   "parameters": {
    "comparison_id": 1
   },
   "start_time": "2024-08-21T09:48:44.306201",
   "version": "2.6.0"
  },
  "vscode": {
   "interpreter": {
    "hash": "5ab0220f0ca30ec7bac8a7e209564eceae6d15412b9f87f3c2f91206aa8b151c"
   }
  }
 },
 "nbformat": 4,
 "nbformat_minor": 5
}