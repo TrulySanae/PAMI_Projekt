{
 "cells": [
  {
   "cell_type": "code",
   "execution_count": 1,
   "id": "d05cab18",
   "metadata": {
    "execution": {
     "iopub.execute_input": "2024-08-21T09:48:41.733541Z",
     "iopub.status.busy": "2024-08-21T09:48:41.733163Z",
     "iopub.status.idle": "2024-08-21T09:48:42.724521Z",
     "shell.execute_reply": "2024-08-21T09:48:42.724143Z"
    },
    "papermill": {
     "duration": 1.000948,
     "end_time": "2024-08-21T09:48:42.727834",
     "exception": false,
     "start_time": "2024-08-21T09:48:41.726886",
     "status": "completed"
    },
    "tags": []
   },
   "outputs": [],
   "source": [
    "import matplotlib.pyplot as plt\n",
    "import numpy as np\n",
    "import pandas as pd\n",
    "from pathlib import Path\n",
    "import seaborn as sn\n"
   ]
  },
  {
   "cell_type": "code",
   "execution_count": 2,
   "id": "d6302d10",
   "metadata": {
    "execution": {
     "iopub.execute_input": "2024-08-21T09:48:42.732725Z",
     "iopub.status.busy": "2024-08-21T09:48:42.732419Z",
     "iopub.status.idle": "2024-08-21T09:48:42.735658Z",
     "shell.execute_reply": "2024-08-21T09:48:42.735364Z"
    },
    "papermill": {
     "duration": 0.006346,
     "end_time": "2024-08-21T09:48:42.736653",
     "exception": false,
     "start_time": "2024-08-21T09:48:42.730307",
     "status": "completed"
    },
    "tags": []
   },
   "outputs": [],
   "source": [
    "# Setting so that the plots look normal even when using dark-reader\n",
    "sn.set_style(\"whitegrid\")\n",
    "sn.set_context(context=\"paper\", font_scale=2)\n",
    "pal = sn.color_palette(\"Set1\")\n",
    "\n",
    "# Setting up specifics for plotting + saving\n",
    "save_figures = True\n",
    "add_legend = False\n",
    "add_title = False\n",
    "add_axis = False\n",
    "save_parms = {'format': 'pdf','bbox_inches':'tight', 'pad_inches':0.1}\n",
    "line_parms = {'linewidth':4, 'color':'k'}\n",
    "if save_figures:  # saves all figures in a figure directory in the local directory\n",
    "    figure_dir = Path('.') / 'figures' / 'adult-income-experiment'\n",
    "    if not figure_dir.exists():\n",
    "        figure_dir.mkdir(parents=True)"
   ]
  },
  {
   "cell_type": "code",
   "execution_count": 3,
   "id": "22d1d0e0",
   "metadata": {
    "execution": {
     "iopub.execute_input": "2024-08-21T09:48:42.739761Z",
     "iopub.status.busy": "2024-08-21T09:48:42.739571Z",
     "iopub.status.idle": "2024-08-21T09:48:42.741493Z",
     "shell.execute_reply": "2024-08-21T09:48:42.741215Z"
    },
    "papermill": {
     "duration": 0.004307,
     "end_time": "2024-08-21T09:48:42.742327",
     "exception": false,
     "start_time": "2024-08-21T09:48:42.738020",
     "status": "completed"
    },
    "tags": []
   },
   "outputs": [],
   "source": [
    "# Experiment hyperparamters\n",
    "rng = np.random.RandomState(42)\n",
    "split_on_income = False  # if True: src := income>=50k, tgt :+ income<50k, if False: src := male, tgt := female\n",
    "n_samples = 1000"
   ]
  },
  {
   "cell_type": "code",
   "execution_count": 4,
   "id": "48ff09ec",
   "metadata": {
    "execution": {
     "iopub.execute_input": "2024-08-21T09:48:42.745853Z",
     "iopub.status.busy": "2024-08-21T09:48:42.745727Z",
     "iopub.status.idle": "2024-08-21T09:48:42.747297Z",
     "shell.execute_reply": "2024-08-21T09:48:42.747069Z"
    },
    "papermill": {
     "duration": 0.004109,
     "end_time": "2024-08-21T09:48:42.748017",
     "exception": false,
     "start_time": "2024-08-21T09:48:42.743908",
     "status": "completed"
    },
    "tags": [
     "parameters"
    ]
   },
   "outputs": [],
   "source": [
    "comparison_id = None"
   ]
  },
  {
   "cell_type": "code",
   "execution_count": 5,
   "id": "7b91141a",
   "metadata": {
    "execution": {
     "iopub.execute_input": "2024-08-21T09:48:42.750835Z",
     "iopub.status.busy": "2024-08-21T09:48:42.750738Z",
     "iopub.status.idle": "2024-08-21T09:48:42.752150Z",
     "shell.execute_reply": "2024-08-21T09:48:42.751879Z"
    },
    "papermill": {
     "duration": 0.003855,
     "end_time": "2024-08-21T09:48:42.753105",
     "exception": false,
     "start_time": "2024-08-21T09:48:42.749250",
     "status": "completed"
    },
    "tags": [
     "injected-parameters"
    ]
   },
   "outputs": [],
   "source": [
    "# Parameters\n",
    "comparison_id = 0\n"
   ]
  },
  {
   "cell_type": "code",
   "execution_count": 6,
   "id": "dade2b7e",
   "metadata": {
    "execution": {
     "iopub.execute_input": "2024-08-21T09:48:42.756375Z",
     "iopub.status.busy": "2024-08-21T09:48:42.756239Z",
     "iopub.status.idle": "2024-08-21T09:48:42.768508Z",
     "shell.execute_reply": "2024-08-21T09:48:42.767964Z"
    },
    "papermill": {
     "duration": 0.014947,
     "end_time": "2024-08-21T09:48:42.769458",
     "exception": false,
     "start_time": "2024-08-21T09:48:42.754511",
     "status": "completed"
    },
    "tags": []
   },
   "outputs": [
    {
     "name": "stdout",
     "output_type": "stream",
     "text": [
      "['Customer_id', 'Connection', 'Weight', 'Unit_type', 'Day', 'Week']\n"
     ]
    }
   ],
   "source": [
    "\n",
    "# Load the data\n",
    "comparison_dict = {0: [0,1], 1: [2,3], 2: [4,5]}\n",
    "path_customer_profiles = open('./Results_Experiments/File_Paths/path_customer_profiles.txt','r').read()\n",
    "path_transport_graphics = open('./Results_Experiments/File_Paths/path_transport_graphics.txt','r').read()\n",
    "source = pd.read_csv(f'../{path_customer_profiles}/customer_profile_{comparison_dict[comparison_id][0]}.csv')\n",
    "target = pd.read_csv(f'../{path_customer_profiles}/customer_profile_{comparison_dict[comparison_id][1]}.csv')\n",
    "\n",
    "feature_names = source.columns.values\n",
    "feature_names = list(feature_names)\n",
    "print(feature_names)"
   ]
  },
  {
   "cell_type": "code",
   "execution_count": 7,
   "id": "296df3b5",
   "metadata": {
    "execution": {
     "iopub.execute_input": "2024-08-21T09:48:42.773043Z",
     "iopub.status.busy": "2024-08-21T09:48:42.772931Z",
     "iopub.status.idle": "2024-08-21T09:48:42.805961Z",
     "shell.execute_reply": "2024-08-21T09:48:42.805699Z"
    },
    "papermill": {
     "duration": 0.03572,
     "end_time": "2024-08-21T09:48:42.806888",
     "exception": false,
     "start_time": "2024-08-21T09:48:42.771168",
     "status": "completed"
    },
    "tags": []
   },
   "outputs": [],
   "source": [
    "# standardize the source and target data, and convert to domain labels\n",
    "from sklearn.preprocessing import StandardScaler\n",
    "X = np.concatenate((source, target), axis=0)\n",
    "# standardize X to remove cardinatlity bias\n",
    "X = StandardScaler().fit_transform(X)\n",
    "y = np.concatenate((np.zeros(source.shape[0]),\n",
    "                    np.ones(target.shape[0])), axis=0)  # domain labels"
   ]
  },
  {
   "cell_type": "code",
   "execution_count": 8,
   "id": "c5422e1f",
   "metadata": {
    "execution": {
     "iopub.execute_input": "2024-08-21T09:48:42.810157Z",
     "iopub.status.busy": "2024-08-21T09:48:42.809983Z",
     "iopub.status.idle": "2024-08-21T09:48:42.865198Z",
     "shell.execute_reply": "2024-08-21T09:48:42.864930Z"
    },
    "papermill": {
     "duration": 0.057938,
     "end_time": "2024-08-21T09:48:42.866209",
     "exception": false,
     "start_time": "2024-08-21T09:48:42.808271",
     "status": "completed"
    },
    "tags": []
   },
   "outputs": [],
   "source": [
    "from sklearn.datasets import make_classification\n",
    "from sklearn.model_selection import train_test_split\n",
    "\n",
    "X_train, X_test, y_train, y_test = train_test_split(X, y,\n",
    "                                     stratify=y, random_state=42)"
   ]
  },
  {
   "cell_type": "code",
   "execution_count": 9,
   "id": "5d9ba299",
   "metadata": {
    "execution": {
     "iopub.execute_input": "2024-08-21T09:48:42.869462Z",
     "iopub.status.busy": "2024-08-21T09:48:42.869315Z",
     "iopub.status.idle": "2024-08-21T09:48:42.889841Z",
     "shell.execute_reply": "2024-08-21T09:48:42.889469Z"
    },
    "papermill": {
     "duration": 0.023445,
     "end_time": "2024-08-21T09:48:42.891160",
     "exception": false,
     "start_time": "2024-08-21T09:48:42.867715",
     "status": "completed"
    },
    "tags": []
   },
   "outputs": [],
   "source": [
    "# Using XGBoost\n",
    "import xgboost\n",
    "\n",
    "def fit_xgboost(X_train, y_train, X_test, y_test, feature_names=None):\n",
    "    \"\"\" Train an XGBoost model with early stopping.\n",
    "    \"\"\"\n",
    "    dtrain = xgboost.DMatrix(X_train, label=y_train, feature_names=feature_names)\n",
    "    dtest = xgboost.DMatrix(X_test, label=y_test, feature_names=feature_names)\n",
    "    # model = xgboost.train(\n",
    "    #     { \"eta\": 0.001, \"subsample\": 0.5, \"max_depth\": 2,\n",
    "    #       \"objective\": 'binary:logistic', 'eval_metric': 'logloss'}, dtrain, num_boost_round=200000,\n",
    "    #     evals=[(dtest,'eval'), (dtrain,'train')], early_stopping_rounds=20, verbose_eval=False\n",
    "    # )\n",
    "    model = xgboost.train(\n",
    "        {\"objective\": 'binary:logistic', 'eval_metric': 'logloss'},\n",
    "        dtrain,\n",
    "        evals=[(dtest,'eval'), (dtrain,'train')],\n",
    "        verbose_eval=False)\n",
    "    return model"
   ]
  },
  {
   "cell_type": "code",
   "execution_count": 10,
   "id": "bd7ac9f1",
   "metadata": {
    "execution": {
     "iopub.execute_input": "2024-08-21T09:48:42.895197Z",
     "iopub.status.busy": "2024-08-21T09:48:42.894988Z",
     "iopub.status.idle": "2024-08-21T09:48:42.926197Z",
     "shell.execute_reply": "2024-08-21T09:48:42.925833Z"
    },
    "papermill": {
     "duration": 0.034741,
     "end_time": "2024-08-21T09:48:42.927392",
     "exception": false,
     "start_time": "2024-08-21T09:48:42.892651",
     "status": "completed"
    },
    "tags": []
   },
   "outputs": [],
   "source": [
    "xgb_forest = fit_xgboost(X_train, y_train, X_test, y_test, feature_names)\n",
    "xgb_forest.feature_names = feature_names"
   ]
  },
  {
   "cell_type": "code",
   "execution_count": 11,
   "id": "dcaa3020",
   "metadata": {
    "execution": {
     "iopub.execute_input": "2024-08-21T09:48:42.930666Z",
     "iopub.status.busy": "2024-08-21T09:48:42.930551Z",
     "iopub.status.idle": "2024-08-21T09:48:42.932322Z",
     "shell.execute_reply": "2024-08-21T09:48:42.932107Z"
    },
    "papermill": {
     "duration": 0.004238,
     "end_time": "2024-08-21T09:48:42.933075",
     "exception": false,
     "start_time": "2024-08-21T09:48:42.928837",
     "status": "completed"
    },
    "tags": []
   },
   "outputs": [],
   "source": [
    "def get_acc(model, samples, labels, feature_names=None):\n",
    "    predictions = (model.predict(xgboost.DMatrix(samples,\n",
    "                                                 feature_names=feature_names)) > 0.5).astype(int)\n",
    "    return (predictions == labels).sum() / predictions.shape[0]"
   ]
  },
  {
   "cell_type": "code",
   "execution_count": 12,
   "id": "7ce6b380",
   "metadata": {
    "execution": {
     "iopub.execute_input": "2024-08-21T09:48:42.936027Z",
     "iopub.status.busy": "2024-08-21T09:48:42.935921Z",
     "iopub.status.idle": "2024-08-21T09:48:42.940093Z",
     "shell.execute_reply": "2024-08-21T09:48:42.939864Z"
    },
    "papermill": {
     "duration": 0.006478,
     "end_time": "2024-08-21T09:48:42.940798",
     "exception": false,
     "start_time": "2024-08-21T09:48:42.934320",
     "status": "completed"
    },
    "tags": []
   },
   "outputs": [
    {
     "name": "stdout",
     "output_type": "stream",
     "text": [
      "Train score: 0.8857086458744572\n",
      "Test score: 0.8827535159141376\n"
     ]
    }
   ],
   "source": [
    "print('Train score:', get_acc(xgb_forest, X_train, y_train, feature_names))\n",
    "print('Test score:', get_acc(xgb_forest, X_test, y_test, feature_names))"
   ]
  },
  {
   "cell_type": "code",
   "execution_count": 13,
   "id": "97a1d2b0",
   "metadata": {
    "execution": {
     "iopub.execute_input": "2024-08-21T09:48:42.944019Z",
     "iopub.status.busy": "2024-08-21T09:48:42.943871Z",
     "iopub.status.idle": "2024-08-21T09:48:43.239086Z",
     "shell.execute_reply": "2024-08-21T09:48:43.238807Z"
    },
    "papermill": {
     "duration": 0.297801,
     "end_time": "2024-08-21T09:48:43.240039",
     "exception": false,
     "start_time": "2024-08-21T09:48:42.942238",
     "status": "completed"
    },
    "tags": []
   },
   "outputs": [],
   "source": [
    "import shap\n",
    "import pandas as pd\n",
    "explainer = shap.Explainer(xgb_forest)\n",
    "\n",
    "shap_values = explainer(pd.DataFrame(X_test, columns=feature_names))\n"
   ]
  },
  {
   "cell_type": "code",
   "execution_count": 14,
   "id": "8e7a54a8",
   "metadata": {
    "execution": {
     "iopub.execute_input": "2024-08-21T09:48:43.243460Z",
     "iopub.status.busy": "2024-08-21T09:48:43.243303Z",
     "iopub.status.idle": "2024-08-21T09:48:43.979944Z",
     "shell.execute_reply": "2024-08-21T09:48:43.979659Z"
    },
    "papermill": {
     "duration": 0.739313,
     "end_time": "2024-08-21T09:48:43.980885",
     "exception": false,
     "start_time": "2024-08-21T09:48:43.241572",
     "status": "completed"
    },
    "tags": []
   },
   "outputs": [
    {
     "data": {
      "image/png": "[encoded data removed]",
      "text/plain": [
       "<Figure size 400x200 with 2 Axes>"
      ]
     },
     "metadata": {},
     "output_type": "display_data"
    }
   ],
   "source": [
    "# Beeswarm plot\n",
    "\n",
    "shap.plots.beeswarm(shap_values, show=False)\n",
    "fig = plt.gcf()\n",
    "fig.set_size_inches(4, 2, forward=True)\n",
    "if save_figures: plt.savefig(\n",
    "    f'../{path_transport_graphics}/logitics_data_on_customer_profile_{comparison_dict[comparison_id][0]} and customer_profile_{comparison_dict[comparison_id][1]}-shap-value.{save_parms[\"format\"]}',\n",
    "    **save_parms\n",
    "    )\n",
    "plt.show()"
   ]
  }
 ],
 "metadata": {
  "kernelspec": {
   "display_name": "Python 3.7.11 ('py37')",
   "language": "python",
   "name": "python3"
  },
  "language_info": {
   "codemirror_mode": {
    "name": "ipython",
    "version": 3
   },
   "file_extension": ".py",
   "mimetype": "text/x-python",
   "name": "python",
   "nbconvert_exporter": "python",
   "pygments_lexer": "ipython3",
   "version": "3.12.0"
  },
  "papermill": {
   "default_parameters": {},
   "duration": 3.151349,
   "end_time": "2024-08-21T09:48:44.300471",
   "environment_variables": {},
   "exception": null,
   "input_path": "experiment_baseline.ipynb",
   "output_path": "./Results_Experiments/Set_sim_weeks_to_10/experiment_baseline_1.ipynb",
   "parameters": {
    "comparison_id": 0
   },
   "start_time": "2024-08-21T09:48:41.149122",
   "version": "2.6.0"
  },
  "vscode": {
   "interpreter": {
    "hash": "5ab0220f0ca30ec7bac8a7e209564eceae6d15412b9f87f3c2f91206aa8b151c"
   }
  }
 },
 "nbformat": 4,
 "nbformat_minor": 5
}