{
 "cells": [
  {
   "cell_type": "code",
   "execution_count": 1,
   "id": "d05cab18",
   "metadata": {
    "execution": {
     "iopub.execute_input": "2024-08-21T12:11:11.475963Z",
     "iopub.status.busy": "2024-08-21T12:11:11.475622Z",
     "iopub.status.idle": "2024-08-21T12:11:12.404874Z",
     "shell.execute_reply": "2024-08-21T12:11:12.404568Z"
    },
    "papermill": {
     "duration": 0.938659,
     "end_time": "2024-08-21T12:11:12.405926",
     "exception": false,
     "start_time": "2024-08-21T12:11:11.467267",
     "status": "completed"
    },
    "tags": []
   },
   "outputs": [],
   "source": [
    "import matplotlib.pyplot as plt\n",
    "import numpy as np\n",
    "import pandas as pd\n",
    "from pathlib import Path\n",
    "import seaborn as sn\n",
    "from data_utils import load_and_preprocess_logistics_data"
   ]
  },
  {
   "cell_type": "code",
   "execution_count": 2,
   "id": "d6302d10",
   "metadata": {
    "execution": {
     "iopub.execute_input": "2024-08-21T12:11:12.409174Z",
     "iopub.status.busy": "2024-08-21T12:11:12.409008Z",
     "iopub.status.idle": "2024-08-21T12:11:12.411818Z",
     "shell.execute_reply": "2024-08-21T12:11:12.411552Z"
    },
    "papermill": {
     "duration": 0.005143,
     "end_time": "2024-08-21T12:11:12.412581",
     "exception": false,
     "start_time": "2024-08-21T12:11:12.407438",
     "status": "completed"
    },
    "tags": []
   },
   "outputs": [],
   "source": [
    "# Setting so that the plots look normal even when using dark-reader\n",
    "sn.set_style(\"whitegrid\")\n",
    "sn.set_context(context=\"paper\", font_scale=2)\n",
    "pal = sn.color_palette(\"Set1\")\n",
    "\n",
    "# Setting up specifics for plotting + saving\n",
    "save_figures = True\n",
    "add_legend = False\n",
    "add_title = False\n",
    "add_axis = False\n",
    "save_parms = {'format': 'pdf','bbox_inches':'tight', 'pad_inches':0.1}\n",
    "line_parms = {'linewidth':4, 'color':'k'}\n",
    "if save_figures:  # saves all figures in a figure directory in the local directory\n",
    "    figure_dir = Path('.') / 'figures' / 'adult-income-experiment'\n",
    "    if not figure_dir.exists():\n",
    "        figure_dir.mkdir(parents=True)"
   ]
  },
  {
   "cell_type": "code",
   "execution_count": 3,
   "id": "22d1d0e0",
   "metadata": {
    "execution": {
     "iopub.execute_input": "2024-08-21T12:11:12.416221Z",
     "iopub.status.busy": "2024-08-21T12:11:12.416083Z",
     "iopub.status.idle": "2024-08-21T12:11:12.418102Z",
     "shell.execute_reply": "2024-08-21T12:11:12.417856Z"
    },
    "papermill": {
     "duration": 0.004746,
     "end_time": "2024-08-21T12:11:12.418866",
     "exception": false,
     "start_time": "2024-08-21T12:11:12.414120",
     "status": "completed"
    },
    "tags": []
   },
   "outputs": [],
   "source": [
    "# Experiment hyperparamters\n",
    "rng = np.random.RandomState(42)\n",
    "split_on_income = False  # if True: src := income>=50k, tgt :+ income<50k, if False: src := male, tgt := female\n",
    "n_samples = 1000"
   ]
  },
  {
   "cell_type": "code",
   "execution_count": 4,
   "id": "48ff09ec",
   "metadata": {
    "execution": {
     "iopub.execute_input": "2024-08-21T12:11:12.421887Z",
     "iopub.status.busy": "2024-08-21T12:11:12.421773Z",
     "iopub.status.idle": "2024-08-21T12:11:12.423309Z",
     "shell.execute_reply": "2024-08-21T12:11:12.423104Z"
    },
    "papermill": {
     "duration": 0.003885,
     "end_time": "2024-08-21T12:11:12.424046",
     "exception": false,
     "start_time": "2024-08-21T12:11:12.420161",
     "status": "completed"
    },
    "tags": [
     "parameters"
    ]
   },
   "outputs": [],
   "source": [
    "comparison_id = None"
   ]
  },
  {
   "cell_type": "code",
   "execution_count": 5,
   "id": "e90945ca",
   "metadata": {
    "execution": {
     "iopub.execute_input": "2024-08-21T12:11:12.426960Z",
     "iopub.status.busy": "2024-08-21T12:11:12.426841Z",
     "iopub.status.idle": "2024-08-21T12:11:12.428399Z",
     "shell.execute_reply": "2024-08-21T12:11:12.428159Z"
    },
    "papermill": {
     "duration": 0.003871,
     "end_time": "2024-08-21T12:11:12.429167",
     "exception": false,
     "start_time": "2024-08-21T12:11:12.425296",
     "status": "completed"
    },
    "tags": [
     "injected-parameters"
    ]
   },
   "outputs": [],
   "source": [
    "# Parameters\n",
    "comparison_id = 2\n"
   ]
  },
  {
   "cell_type": "code",
   "execution_count": 6,
   "id": "dade2b7e",
   "metadata": {
    "execution": {
     "iopub.execute_input": "2024-08-21T12:11:12.432981Z",
     "iopub.status.busy": "2024-08-21T12:11:12.432844Z",
     "iopub.status.idle": "2024-08-21T12:11:12.456274Z",
     "shell.execute_reply": "2024-08-21T12:11:12.455995Z"
    },
    "papermill": {
     "duration": 0.026366,
     "end_time": "2024-08-21T12:11:12.457119",
     "exception": false,
     "start_time": "2024-08-21T12:11:12.430753",
     "status": "completed"
    },
    "tags": []
   },
   "outputs": [
    {
     "name": "stdout",
     "output_type": "stream",
     "text": [
      "Comparing customer_profile_4 and customer_profile_5\n",
      "Finished preprocessing logistic dataset. Split on customer_profile_4 and customer_profile_5 with resulting source shape: (1000, 3), target shape: (1000, 3).\n",
      "['Connection', 'Weight', 'Unit_type']\n"
     ]
    }
   ],
   "source": [
    "\n",
    "# Load the data\n",
    "comparison_dict = {0: [0,1], 1: [2,3], 2: [4,5]}\n",
    "path_customer_profiles = open('./Results_Experiments/File_Paths/path_customer_profiles.txt','r').read()\n",
    "path_transport_graphics = open('./Results_Experiments/File_Paths/path_transport_graphics.txt','r').read()\n",
    "source = pd.read_csv(f'../{path_customer_profiles}/customer_profile_{comparison_dict[comparison_id][0]}.csv')\n",
    "target = pd.read_csv(f'../{path_customer_profiles}/customer_profile_{comparison_dict[comparison_id][1]}.csv')\n",
    "equal_week_split = True\n",
    "source, target, feature_names = load_and_preprocess_logistics_data(rng, n_samples, return_column_names=True,equal_week_split=equal_week_split, comparison_id=\n",
    "            comparison_id, comparison_dict=comparison_dict)\n",
    "print(feature_names)"
   ]
  },
  {
   "cell_type": "code",
   "execution_count": 7,
   "id": "296df3b5",
   "metadata": {
    "execution": {
     "iopub.execute_input": "2024-08-21T12:11:12.460354Z",
     "iopub.status.busy": "2024-08-21T12:11:12.460233Z",
     "iopub.status.idle": "2024-08-21T12:11:12.463100Z",
     "shell.execute_reply": "2024-08-21T12:11:12.462831Z"
    },
    "papermill": {
     "duration": 0.005251,
     "end_time": "2024-08-21T12:11:12.463826",
     "exception": false,
     "start_time": "2024-08-21T12:11:12.458575",
     "status": "completed"
    },
    "tags": []
   },
   "outputs": [],
   "source": [
    "# standardize the source and target data, and convert to domain labels\n",
    "from sklearn.preprocessing import StandardScaler\n",
    "X = np.concatenate((source, target), axis=0)\n",
    "# standardize X to remove cardinatlity bias\n",
    "X = StandardScaler().fit_transform(X)\n",
    "y = np.concatenate((np.zeros(source.shape[0]),\n",
    "                    np.ones(target.shape[0])), axis=0)  # domain labels"
   ]
  },
  {
   "cell_type": "code",
   "execution_count": 8,
   "id": "c5422e1f",
   "metadata": {
    "execution": {
     "iopub.execute_input": "2024-08-21T12:11:12.466978Z",
     "iopub.status.busy": "2024-08-21T12:11:12.466874Z",
     "iopub.status.idle": "2024-08-21T12:11:12.517025Z",
     "shell.execute_reply": "2024-08-21T12:11:12.516769Z"
    },
    "papermill": {
     "duration": 0.052685,
     "end_time": "2024-08-21T12:11:12.517948",
     "exception": false,
     "start_time": "2024-08-21T12:11:12.465263",
     "status": "completed"
    },
    "tags": []
   },
   "outputs": [],
   "source": [
    "from sklearn.datasets import make_classification\n",
    "from sklearn.model_selection import train_test_split\n",
    "\n",
    "X_train, X_test, y_train, y_test = train_test_split(X, y,\n",
    "                                     stratify=y, random_state=42)"
   ]
  },
  {
   "cell_type": "code",
   "execution_count": 9,
   "id": "5d9ba299",
   "metadata": {
    "execution": {
     "iopub.execute_input": "2024-08-21T12:11:12.521230Z",
     "iopub.status.busy": "2024-08-21T12:11:12.521085Z",
     "iopub.status.idle": "2024-08-21T12:11:12.535933Z",
     "shell.execute_reply": "2024-08-21T12:11:12.535672Z"
    },
    "papermill": {
     "duration": 0.017951,
     "end_time": "2024-08-21T12:11:12.537399",
     "exception": false,
     "start_time": "2024-08-21T12:11:12.519448",
     "status": "completed"
    },
    "tags": []
   },
   "outputs": [],
   "source": [
    "# Using XGBoost\n",
    "import xgboost\n",
    "\n",
    "def fit_xgboost(X_train, y_train, X_test, y_test, feature_names=None):\n",
    "    \"\"\" Train an XGBoost model with early stopping.\n",
    "    \"\"\"\n",
    "    dtrain = xgboost.DMatrix(X_train, label=y_train, feature_names=feature_names)\n",
    "    dtest = xgboost.DMatrix(X_test, label=y_test, feature_names=feature_names)\n",
    "    # model = xgboost.train(\n",
    "    #     { \"eta\": 0.001, \"subsample\": 0.5, \"max_depth\": 2,\n",
    "    #       \"objective\": 'binary:logistic', 'eval_metric': 'logloss'}, dtrain, num_boost_round=200000,\n",
    "    #     evals=[(dtest,'eval'), (dtrain,'train')], early_stopping_rounds=20, verbose_eval=False\n",
    "    # )\n",
    "    model = xgboost.train(\n",
    "        {\"objective\": 'binary:logistic', 'eval_metric': 'logloss'},\n",
    "        dtrain,\n",
    "        evals=[(dtest,'eval'), (dtrain,'train')],\n",
    "        verbose_eval=False)\n",
    "    return model"
   ]
  },
  {
   "cell_type": "code",
   "execution_count": 10,
   "id": "bd7ac9f1",
   "metadata": {
    "execution": {
     "iopub.execute_input": "2024-08-21T12:11:12.541706Z",
     "iopub.status.busy": "2024-08-21T12:11:12.541600Z",
     "iopub.status.idle": "2024-08-21T12:11:12.556881Z",
     "shell.execute_reply": "2024-08-21T12:11:12.556608Z"
    },
    "papermill": {
     "duration": 0.01781,
     "end_time": "2024-08-21T12:11:12.557785",
     "exception": false,
     "start_time": "2024-08-21T12:11:12.539975",
     "status": "completed"
    },
    "tags": []
   },
   "outputs": [],
   "source": [
    "xgb_forest = fit_xgboost(X_train, y_train, X_test, y_test, feature_names)\n",
    "xgb_forest.feature_names = feature_names"
   ]
  },
  {
   "cell_type": "code",
   "execution_count": 11,
   "id": "dcaa3020",
   "metadata": {
    "execution": {
     "iopub.execute_input": "2024-08-21T12:11:12.561168Z",
     "iopub.status.busy": "2024-08-21T12:11:12.561045Z",
     "iopub.status.idle": "2024-08-21T12:11:12.563078Z",
     "shell.execute_reply": "2024-08-21T12:11:12.562818Z"
    },
    "papermill": {
     "duration": 0.004573,
     "end_time": "2024-08-21T12:11:12.563889",
     "exception": false,
     "start_time": "2024-08-21T12:11:12.559316",
     "status": "completed"
    },
    "tags": []
   },
   "outputs": [],
   "source": [
    "def get_acc(model, samples, labels, feature_names=None):\n",
    "    predictions = (model.predict(xgboost.DMatrix(samples,\n",
    "                                                 feature_names=feature_names)) > 0.5).astype(int)\n",
    "    return (predictions == labels).sum() / predictions.shape[0]"
   ]
  },
  {
   "cell_type": "code",
   "execution_count": 12,
   "id": "7ce6b380",
   "metadata": {
    "execution": {
     "iopub.execute_input": "2024-08-21T12:11:12.567147Z",
     "iopub.status.busy": "2024-08-21T12:11:12.567016Z",
     "iopub.status.idle": "2024-08-21T12:11:12.569981Z",
     "shell.execute_reply": "2024-08-21T12:11:12.569758Z"
    },
    "papermill": {
     "duration": 0.005377,
     "end_time": "2024-08-21T12:11:12.570729",
     "exception": false,
     "start_time": "2024-08-21T12:11:12.565352",
     "status": "completed"
    },
    "tags": []
   },
   "outputs": [
    {
     "name": "stdout",
     "output_type": "stream",
     "text": [
      "Train score: 0.724\n",
      "Test score: 0.628\n"
     ]
    }
   ],
   "source": [
    "print('Train score:', get_acc(xgb_forest, X_train, y_train, feature_names))\n",
    "print('Test score:', get_acc(xgb_forest, X_test, y_test, feature_names))"
   ]
  },
  {
   "cell_type": "code",
   "execution_count": 13,
   "id": "97a1d2b0",
   "metadata": {
    "execution": {
     "iopub.execute_input": "2024-08-21T12:11:12.573781Z",
     "iopub.status.busy": "2024-08-21T12:11:12.573678Z",
     "iopub.status.idle": "2024-08-21T12:11:12.815975Z",
     "shell.execute_reply": "2024-08-21T12:11:12.815724Z"
    },
    "papermill": {
     "duration": 0.244836,
     "end_time": "2024-08-21T12:11:12.816932",
     "exception": false,
     "start_time": "2024-08-21T12:11:12.572096",
     "status": "completed"
    },
    "tags": []
   },
   "outputs": [],
   "source": [
    "import shap\n",
    "import pandas as pd\n",
    "explainer = shap.Explainer(xgb_forest)\n",
    "\n",
    "shap_values = explainer(pd.DataFrame(X_test, columns=feature_names))\n"
   ]
  },
  {
   "cell_type": "code",
   "execution_count": 14,
   "id": "8e7a54a8",
   "metadata": {
    "execution": {
     "iopub.execute_input": "2024-08-21T12:11:12.820331Z",
     "iopub.status.busy": "2024-08-21T12:11:12.820171Z",
     "iopub.status.idle": "2024-08-21T12:11:13.154154Z",
     "shell.execute_reply": "2024-08-21T12:11:13.153881Z"
    },
    "papermill": {
     "duration": 0.336505,
     "end_time": "2024-08-21T12:11:13.154960",
     "exception": false,
     "start_time": "2024-08-21T12:11:12.818455",
     "status": "completed"
    },
    "tags": []
   },
   "outputs": [
    {
     "data": {
      "image/png": "[encoded data removed]",
      "text/plain": [
       "<Figure size 400x100 with 2 Axes>"
      ]
     },
     "metadata": {},
     "output_type": "display_data"
    }
   ],
   "source": [
    "# Beeswarm plot\n",
    "\n",
    "shap.plots.beeswarm(shap_values, show=False)\n",
    "fig = plt.gcf()\n",
    "fig.set_size_inches(4, 1, forward=True)\n",
    "if save_figures: plt.savefig(\n",
    "    f'../{path_transport_graphics}/logitics_data_on_customer_profile_{comparison_dict[comparison_id][0]} and customer_profile_{comparison_dict[comparison_id][1]}-shap-value.{save_parms[\"format\"]}',\n",
    "    **save_parms\n",
    "    )\n",
    "plt.show()"
   ]
  }
 ],
 "metadata": {
  "kernelspec": {
   "display_name": "Python 3.7.11 ('py37')",
   "language": "python",
   "name": "python3"
  },
  "language_info": {
   "codemirror_mode": {
    "name": "ipython",
    "version": 3
   },
   "file_extension": ".py",
   "mimetype": "text/x-python",
   "name": "python",
   "nbconvert_exporter": "python",
   "pygments_lexer": "ipython3",
   "version": "3.12.0"
  },
  "papermill": {
   "default_parameters": {},
   "duration": 2.608411,
   "end_time": "2024-08-21T12:11:13.473855",
   "environment_variables": {},
   "exception": null,
   "input_path": "experiment_baseline.ipynb",
   "output_path": "./Results_Experiments/Set_sim_weeks_to_10/experiment_baseline_3.ipynb",
   "parameters": {
    "comparison_id": 2
   },
   "start_time": "2024-08-21T12:11:10.865444",
   "version": "2.6.0"
  },
  "vscode": {
   "interpreter": {
    "hash": "5ab0220f0ca30ec7bac8a7e209564eceae6d15412b9f87f3c2f91206aa8b151c"
   }
  }
 },
 "nbformat": 4,
 "nbformat_minor": 5
}