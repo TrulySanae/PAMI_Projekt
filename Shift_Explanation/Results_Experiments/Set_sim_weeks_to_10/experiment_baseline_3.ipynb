{
 "cells": [
  {
   "cell_type": "code",
   "execution_count": 1,
   "id": "d05cab18",
   "metadata": {
    "execution": {
     "iopub.execute_input": "2024-08-21T09:48:48.053913Z",
     "iopub.status.busy": "2024-08-21T09:48:48.053712Z",
     "iopub.status.idle": "2024-08-21T09:48:49.058093Z",
     "shell.execute_reply": "2024-08-21T09:48:49.057762Z"
    },
    "papermill": {
     "duration": 1.00971,
     "end_time": "2024-08-21T09:48:49.060027",
     "exception": false,
     "start_time": "2024-08-21T09:48:48.050317",
     "status": "completed"
    },
    "tags": []
   },
   "outputs": [],
   "source": [
    "import matplotlib.pyplot as plt\n",
    "import numpy as np\n",
    "import pandas as pd\n",
    "from pathlib import Path\n",
    "import seaborn as sn\n"
   ]
  },
  {
   "cell_type": "code",
   "execution_count": 2,
   "id": "d6302d10",
   "metadata": {
    "execution": {
     "iopub.execute_input": "2024-08-21T09:48:49.065359Z",
     "iopub.status.busy": "2024-08-21T09:48:49.065114Z",
     "iopub.status.idle": "2024-08-21T09:48:49.069082Z",
     "shell.execute_reply": "2024-08-21T09:48:49.068703Z"
    },
    "papermill": {
     "duration": 0.007809,
     "end_time": "2024-08-21T09:48:49.070072",
     "exception": false,
     "start_time": "2024-08-21T09:48:49.062263",
     "status": "completed"
    },
    "tags": []
   },
   "outputs": [],
   "source": [
    "# Setting so that the plots look normal even when using dark-reader\n",
    "sn.set_style(\"whitegrid\")\n",
    "sn.set_context(context=\"paper\", font_scale=2)\n",
    "pal = sn.color_palette(\"Set1\")\n",
    "\n",
    "# Setting up specifics for plotting + saving\n",
    "save_figures = True\n",
    "add_legend = False\n",
    "add_title = False\n",
    "add_axis = False\n",
    "save_parms = {'format': 'pdf','bbox_inches':'tight', 'pad_inches':0.1}\n",
    "line_parms = {'linewidth':4, 'color':'k'}\n",
    "if save_figures:  # saves all figures in a figure directory in the local directory\n",
    "    figure_dir = Path('.') / 'figures' / 'adult-income-experiment'\n",
    "    if not figure_dir.exists():\n",
    "        figure_dir.mkdir(parents=True)"
   ]
  },
  {
   "cell_type": "code",
   "execution_count": 3,
   "id": "22d1d0e0",
   "metadata": {
    "execution": {
     "iopub.execute_input": "2024-08-21T09:48:49.077220Z",
     "iopub.status.busy": "2024-08-21T09:48:49.077052Z",
     "iopub.status.idle": "2024-08-21T09:48:49.079702Z",
     "shell.execute_reply": "2024-08-21T09:48:49.079396Z"
    },
    "papermill": {
     "duration": 0.009155,
     "end_time": "2024-08-21T09:48:49.080743",
     "exception": false,
     "start_time": "2024-08-21T09:48:49.071588",
     "status": "completed"
    },
    "tags": []
   },
   "outputs": [],
   "source": [
    "# Experiment hyperparamters\n",
    "rng = np.random.RandomState(42)\n",
    "split_on_income = False  # if True: src := income>=50k, tgt :+ income<50k, if False: src := male, tgt := female\n",
    "n_samples = 1000"
   ]
  },
  {
   "cell_type": "code",
   "execution_count": 4,
   "id": "48ff09ec",
   "metadata": {
    "execution": {
     "iopub.execute_input": "2024-08-21T09:48:49.089899Z",
     "iopub.status.busy": "2024-08-21T09:48:49.089648Z",
     "iopub.status.idle": "2024-08-21T09:48:49.091526Z",
     "shell.execute_reply": "2024-08-21T09:48:49.091268Z"
    },
    "papermill": {
     "duration": 0.009689,
     "end_time": "2024-08-21T09:48:49.093638",
     "exception": false,
     "start_time": "2024-08-21T09:48:49.083949",
     "status": "completed"
    },
    "tags": [
     "parameters"
    ]
   },
   "outputs": [],
   "source": [
    "comparison_id = None"
   ]
  },
  {
   "cell_type": "code",
   "execution_count": 5,
   "id": "05723143",
   "metadata": {
    "execution": {
     "iopub.execute_input": "2024-08-21T09:48:49.098650Z",
     "iopub.status.busy": "2024-08-21T09:48:49.098353Z",
     "iopub.status.idle": "2024-08-21T09:48:49.102562Z",
     "shell.execute_reply": "2024-08-21T09:48:49.100701Z"
    },
    "papermill": {
     "duration": 0.009114,
     "end_time": "2024-08-21T09:48:49.104768",
     "exception": false,
     "start_time": "2024-08-21T09:48:49.095654",
     "status": "completed"
    },
    "tags": [
     "injected-parameters"
    ]
   },
   "outputs": [],
   "source": [
    "# Parameters\n",
    "comparison_id = 2\n"
   ]
  },
  {
   "cell_type": "code",
   "execution_count": 6,
   "id": "dade2b7e",
   "metadata": {
    "execution": {
     "iopub.execute_input": "2024-08-21T09:48:49.112296Z",
     "iopub.status.busy": "2024-08-21T09:48:49.112052Z",
     "iopub.status.idle": "2024-08-21T09:48:49.132939Z",
     "shell.execute_reply": "2024-08-21T09:48:49.132519Z"
    },
    "papermill": {
     "duration": 0.029433,
     "end_time": "2024-08-21T09:48:49.136960",
     "exception": false,
     "start_time": "2024-08-21T09:48:49.107527",
     "status": "completed"
    },
    "tags": []
   },
   "outputs": [
    {
     "name": "stdout",
     "output_type": "stream",
     "text": [
      "['Customer_id', 'Connection', 'Weight', 'Unit_type', 'Day', 'Week']\n"
     ]
    }
   ],
   "source": [
    "\n",
    "# Load the data\n",
    "comparison_dict = {0: [0,1], 1: [2,3], 2: [4,5]}\n",
    "path_customer_profiles = open('./Results_Experiments/File_Paths/path_customer_profiles.txt','r').read()\n",
    "path_transport_graphics = open('./Results_Experiments/File_Paths/path_transport_graphics.txt','r').read()\n",
    "source = pd.read_csv(f'../{path_customer_profiles}/customer_profile_{comparison_dict[comparison_id][0]}.csv')\n",
    "target = pd.read_csv(f'../{path_customer_profiles}/customer_profile_{comparison_dict[comparison_id][1]}.csv')\n",
    "\n",
    "feature_names = source.columns.values\n",
    "feature_names = list(feature_names)\n",
    "print(feature_names)"
   ]
  },
  {
   "cell_type": "code",
   "execution_count": 7,
   "id": "296df3b5",
   "metadata": {
    "execution": {
     "iopub.execute_input": "2024-08-21T09:48:49.143195Z",
     "iopub.status.busy": "2024-08-21T09:48:49.142960Z",
     "iopub.status.idle": "2024-08-21T09:48:49.187496Z",
     "shell.execute_reply": "2024-08-21T09:48:49.187202Z"
    },
    "papermill": {
     "duration": 0.048864,
     "end_time": "2024-08-21T09:48:49.188504",
     "exception": false,
     "start_time": "2024-08-21T09:48:49.139640",
     "status": "completed"
    },
    "tags": []
   },
   "outputs": [],
   "source": [
    "# standardize the source and target data, and convert to domain labels\n",
    "from sklearn.preprocessing import StandardScaler\n",
    "X = np.concatenate((source, target), axis=0)\n",
    "# standardize X to remove cardinatlity bias\n",
    "X = StandardScaler().fit_transform(X)\n",
    "y = np.concatenate((np.zeros(source.shape[0]),\n",
    "                    np.ones(target.shape[0])), axis=0)  # domain labels"
   ]
  },
  {
   "cell_type": "code",
   "execution_count": 8,
   "id": "c5422e1f",
   "metadata": {
    "execution": {
     "iopub.execute_input": "2024-08-21T09:48:49.192244Z",
     "iopub.status.busy": "2024-08-21T09:48:49.192063Z",
     "iopub.status.idle": "2024-08-21T09:48:49.261685Z",
     "shell.execute_reply": "2024-08-21T09:48:49.261341Z"
    },
    "papermill": {
     "duration": 0.072661,
     "end_time": "2024-08-21T09:48:49.262754",
     "exception": false,
     "start_time": "2024-08-21T09:48:49.190093",
     "status": "completed"
    },
    "tags": []
   },
   "outputs": [],
   "source": [
    "from sklearn.datasets import make_classification\n",
    "from sklearn.model_selection import train_test_split\n",
    "\n",
    "X_train, X_test, y_train, y_test = train_test_split(X, y,\n",
    "                                     stratify=y, random_state=42)"
   ]
  },
  {
   "cell_type": "code",
   "execution_count": 9,
   "id": "5d9ba299",
   "metadata": {
    "execution": {
     "iopub.execute_input": "2024-08-21T09:48:49.266561Z",
     "iopub.status.busy": "2024-08-21T09:48:49.266358Z",
     "iopub.status.idle": "2024-08-21T09:48:49.282558Z",
     "shell.execute_reply": "2024-08-21T09:48:49.282241Z"
    },
    "papermill": {
     "duration": 0.019442,
     "end_time": "2024-08-21T09:48:49.283826",
     "exception": false,
     "start_time": "2024-08-21T09:48:49.264384",
     "status": "completed"
    },
    "tags": []
   },
   "outputs": [],
   "source": [
    "# Using XGBoost\n",
    "import xgboost\n",
    "\n",
    "def fit_xgboost(X_train, y_train, X_test, y_test, feature_names=None):\n",
    "    \"\"\" Train an XGBoost model with early stopping.\n",
    "    \"\"\"\n",
    "    dtrain = xgboost.DMatrix(X_train, label=y_train, feature_names=feature_names)\n",
    "    dtest = xgboost.DMatrix(X_test, label=y_test, feature_names=feature_names)\n",
    "    # model = xgboost.train(\n",
    "    #     { \"eta\": 0.001, \"subsample\": 0.5, \"max_depth\": 2,\n",
    "    #       \"objective\": 'binary:logistic', 'eval_metric': 'logloss'}, dtrain, num_boost_round=200000,\n",
    "    #     evals=[(dtest,'eval'), (dtrain,'train')], early_stopping_rounds=20, verbose_eval=False\n",
    "    # )\n",
    "    model = xgboost.train(\n",
    "        {\"objective\": 'binary:logistic', 'eval_metric': 'logloss'},\n",
    "        dtrain,\n",
    "        evals=[(dtest,'eval'), (dtrain,'train')],\n",
    "        verbose_eval=False)\n",
    "    return model"
   ]
  },
  {
   "cell_type": "code",
   "execution_count": 10,
   "id": "bd7ac9f1",
   "metadata": {
    "execution": {
     "iopub.execute_input": "2024-08-21T09:48:49.287611Z",
     "iopub.status.busy": "2024-08-21T09:48:49.287460Z",
     "iopub.status.idle": "2024-08-21T09:48:49.327282Z",
     "shell.execute_reply": "2024-08-21T09:48:49.326905Z"
    },
    "papermill": {
     "duration": 0.043431,
     "end_time": "2024-08-21T09:48:49.328868",
     "exception": false,
     "start_time": "2024-08-21T09:48:49.285437",
     "status": "completed"
    },
    "tags": []
   },
   "outputs": [],
   "source": [
    "xgb_forest = fit_xgboost(X_train, y_train, X_test, y_test, feature_names)\n",
    "xgb_forest.feature_names = feature_names"
   ]
  },
  {
   "cell_type": "code",
   "execution_count": 11,
   "id": "dcaa3020",
   "metadata": {
    "execution": {
     "iopub.execute_input": "2024-08-21T09:48:49.336804Z",
     "iopub.status.busy": "2024-08-21T09:48:49.336569Z",
     "iopub.status.idle": "2024-08-21T09:48:49.338673Z",
     "shell.execute_reply": "2024-08-21T09:48:49.338392Z"
    },
    "papermill": {
     "duration": 0.005562,
     "end_time": "2024-08-21T09:48:49.339529",
     "exception": false,
     "start_time": "2024-08-21T09:48:49.333967",
     "status": "completed"
    },
    "tags": []
   },
   "outputs": [],
   "source": [
    "def get_acc(model, samples, labels, feature_names=None):\n",
    "    predictions = (model.predict(xgboost.DMatrix(samples,\n",
    "                                                 feature_names=feature_names)) > 0.5).astype(int)\n",
    "    return (predictions == labels).sum() / predictions.shape[0]"
   ]
  },
  {
   "cell_type": "code",
   "execution_count": 12,
   "id": "7ce6b380",
   "metadata": {
    "execution": {
     "iopub.execute_input": "2024-08-21T09:48:49.349234Z",
     "iopub.status.busy": "2024-08-21T09:48:49.348907Z",
     "iopub.status.idle": "2024-08-21T09:48:49.359078Z",
     "shell.execute_reply": "2024-08-21T09:48:49.358774Z"
    },
    "papermill": {
     "duration": 0.015974,
     "end_time": "2024-08-21T09:48:49.360034",
     "exception": false,
     "start_time": "2024-08-21T09:48:49.344060",
     "status": "completed"
    },
    "tags": []
   },
   "outputs": [
    {
     "name": "stdout",
     "output_type": "stream",
     "text": [
      "Train score: 0.8839103869653768\n",
      "Test score: 0.8821646784986907\n"
     ]
    }
   ],
   "source": [
    "print('Train score:', get_acc(xgb_forest, X_train, y_train, feature_names))\n",
    "print('Test score:', get_acc(xgb_forest, X_test, y_test, feature_names))"
   ]
  },
  {
   "cell_type": "code",
   "execution_count": 13,
   "id": "97a1d2b0",
   "metadata": {
    "execution": {
     "iopub.execute_input": "2024-08-21T09:48:49.363807Z",
     "iopub.status.busy": "2024-08-21T09:48:49.363650Z",
     "iopub.status.idle": "2024-08-21T09:48:49.703199Z",
     "shell.execute_reply": "2024-08-21T09:48:49.702884Z"
    },
    "papermill": {
     "duration": 0.342685,
     "end_time": "2024-08-21T09:48:49.704262",
     "exception": false,
     "start_time": "2024-08-21T09:48:49.361577",
     "status": "completed"
    },
    "tags": []
   },
   "outputs": [],
   "source": [
    "import shap\n",
    "import pandas as pd\n",
    "explainer = shap.Explainer(xgb_forest)\n",
    "\n",
    "shap_values = explainer(pd.DataFrame(X_test, columns=feature_names))\n"
   ]
  },
  {
   "cell_type": "code",
   "execution_count": 14,
   "id": "8e7a54a8",
   "metadata": {
    "execution": {
     "iopub.execute_input": "2024-08-21T09:48:49.708065Z",
     "iopub.status.busy": "2024-08-21T09:48:49.707887Z",
     "iopub.status.idle": "2024-08-21T09:48:50.455562Z",
     "shell.execute_reply": "2024-08-21T09:48:50.454572Z"
    },
    "papermill": {
     "duration": 0.75182,
     "end_time": "2024-08-21T09:48:50.457845",
     "exception": false,
     "start_time": "2024-08-21T09:48:49.706025",
     "status": "completed"
    },
    "tags": []
   },
   "outputs": [
    {
     "data": {
      "image/png": "[encoded data removed]",
      "text/plain": [
       "<Figure size 400x200 with 2 Axes>"
      ]
     },
     "metadata": {},
     "output_type": "display_data"
    }
   ],
   "source": [
    "# Beeswarm plot\n",
    "\n",
    "shap.plots.beeswarm(shap_values, show=False)\n",
    "fig = plt.gcf()\n",
    "fig.set_size_inches(4, 2, forward=True)\n",
    "if save_figures: plt.savefig(\n",
    "    f'../{path_transport_graphics}/logitics_data_on_customer_profile_{comparison_dict[comparison_id][0]} and customer_profile_{comparison_dict[comparison_id][1]}-shap-value.{save_parms[\"format\"]}',\n",
    "    **save_parms\n",
    "    )\n",
    "plt.show()"
   ]
  }
 ],
 "metadata": {
  "kernelspec": {
   "display_name": "Python 3.7.11 ('py37')",
   "language": "python",
   "name": "python3"
  },
  "language_info": {
   "codemirror_mode": {
    "name": "ipython",
    "version": 3
   },
   "file_extension": ".py",
   "mimetype": "text/x-python",
   "name": "python",
   "nbconvert_exporter": "python",
   "pygments_lexer": "ipython3",
   "version": "3.12.0"
  },
  "papermill": {
   "default_parameters": {},
   "duration": 3.350805,
   "end_time": "2024-08-21T09:48:50.879252",
   "environment_variables": {},
   "exception": null,
   "input_path": "experiment_baseline.ipynb",
   "output_path": "./Results_Experiments/Set_sim_weeks_to_10/experiment_baseline_3.ipynb",
   "parameters": {
    "comparison_id": 2
   },
   "start_time": "2024-08-21T09:48:47.528447",
   "version": "2.6.0"
  },
  "vscode": {
   "interpreter": {
    "hash": "5ab0220f0ca30ec7bac8a7e209564eceae6d15412b9f87f3c2f91206aa8b151c"
   }
  }
 },
 "nbformat": 4,
 "nbformat_minor": 5
}