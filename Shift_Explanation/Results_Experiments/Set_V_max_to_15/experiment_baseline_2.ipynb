{
 "cells": [
  {
   "cell_type": "code",
   "execution_count": 1,
   "id": "d05cab18",
   "metadata": {
    "execution": {
     "iopub.execute_input": "2024-08-21T09:49:22.243965Z",
     "iopub.status.busy": "2024-08-21T09:49:22.243623Z",
     "iopub.status.idle": "2024-08-21T09:49:23.079824Z",
     "shell.execute_reply": "2024-08-21T09:49:23.079540Z"
    },
    "papermill": {
     "duration": 0.842846,
     "end_time": "2024-08-21T09:49:23.080860",
     "exception": false,
     "start_time": "2024-08-21T09:49:22.238014",
     "status": "completed"
    },
    "tags": []
   },
   "outputs": [],
   "source": [
    "import matplotlib.pyplot as plt\n",
    "import numpy as np\n",
    "import pandas as pd\n",
    "from pathlib import Path\n",
    "import seaborn as sn\n"
   ]
  },
  {
   "cell_type": "code",
   "execution_count": 2,
   "id": "d6302d10",
   "metadata": {
    "execution": {
     "iopub.execute_input": "2024-08-21T09:49:23.084091Z",
     "iopub.status.busy": "2024-08-21T09:49:23.083946Z",
     "iopub.status.idle": "2024-08-21T09:49:23.086718Z",
     "shell.execute_reply": "2024-08-21T09:49:23.086495Z"
    },
    "papermill": {
     "duration": 0.005126,
     "end_time": "2024-08-21T09:49:23.087458",
     "exception": false,
     "start_time": "2024-08-21T09:49:23.082332",
     "status": "completed"
    },
    "tags": []
   },
   "outputs": [],
   "source": [
    "# Setting so that the plots look normal even when using dark-reader\n",
    "sn.set_style(\"whitegrid\")\n",
    "sn.set_context(context=\"paper\", font_scale=2)\n",
    "pal = sn.color_palette(\"Set1\")\n",
    "\n",
    "# Setting up specifics for plotting + saving\n",
    "save_figures = True\n",
    "add_legend = False\n",
    "add_title = False\n",
    "add_axis = False\n",
    "save_parms = {'format': 'pdf','bbox_inches':'tight', 'pad_inches':0.1}\n",
    "line_parms = {'linewidth':4, 'color':'k'}\n",
    "if save_figures:  # saves all figures in a figure directory in the local directory\n",
    "    figure_dir = Path('.') / 'figures' / 'adult-income-experiment'\n",
    "    if not figure_dir.exists():\n",
    "        figure_dir.mkdir(parents=True)"
   ]
  },
  {
   "cell_type": "code",
   "execution_count": 3,
   "id": "22d1d0e0",
   "metadata": {
    "execution": {
     "iopub.execute_input": "2024-08-21T09:49:23.091238Z",
     "iopub.status.busy": "2024-08-21T09:49:23.091011Z",
     "iopub.status.idle": "2024-08-21T09:49:23.093569Z",
     "shell.execute_reply": "2024-08-21T09:49:23.093165Z"
    },
    "papermill": {
     "duration": 0.005672,
     "end_time": "2024-08-21T09:49:23.094477",
     "exception": false,
     "start_time": "2024-08-21T09:49:23.088805",
     "status": "completed"
    },
    "tags": []
   },
   "outputs": [],
   "source": [
    "# Experiment hyperparamters\n",
    "rng = np.random.RandomState(42)\n",
    "split_on_income = False  # if True: src := income>=50k, tgt :+ income<50k, if False: src := male, tgt := female\n",
    "n_samples = 1000"
   ]
  },
  {
   "cell_type": "code",
   "execution_count": 4,
   "id": "48ff09ec",
   "metadata": {
    "execution": {
     "iopub.execute_input": "2024-08-21T09:49:23.099941Z",
     "iopub.status.busy": "2024-08-21T09:49:23.099798Z",
     "iopub.status.idle": "2024-08-21T09:49:23.101652Z",
     "shell.execute_reply": "2024-08-21T09:49:23.101381Z"
    },
    "papermill": {
     "duration": 0.006412,
     "end_time": "2024-08-21T09:49:23.102398",
     "exception": false,
     "start_time": "2024-08-21T09:49:23.095986",
     "status": "completed"
    },
    "tags": [
     "parameters"
    ]
   },
   "outputs": [],
   "source": [
    "comparison_id = None"
   ]
  },
  {
   "cell_type": "code",
   "execution_count": 5,
   "id": "c464242a",
   "metadata": {
    "execution": {
     "iopub.execute_input": "2024-08-21T09:49:23.107469Z",
     "iopub.status.busy": "2024-08-21T09:49:23.107255Z",
     "iopub.status.idle": "2024-08-21T09:49:23.109260Z",
     "shell.execute_reply": "2024-08-21T09:49:23.108957Z"
    },
    "papermill": {
     "duration": 0.005937,
     "end_time": "2024-08-21T09:49:23.110082",
     "exception": false,
     "start_time": "2024-08-21T09:49:23.104145",
     "status": "completed"
    },
    "tags": [
     "injected-parameters"
    ]
   },
   "outputs": [],
   "source": [
    "# Parameters\n",
    "comparison_id = 1\n"
   ]
  },
  {
   "cell_type": "code",
   "execution_count": 6,
   "id": "dade2b7e",
   "metadata": {
    "execution": {
     "iopub.execute_input": "2024-08-21T09:49:23.113480Z",
     "iopub.status.busy": "2024-08-21T09:49:23.113375Z",
     "iopub.status.idle": "2024-08-21T09:49:23.121914Z",
     "shell.execute_reply": "2024-08-21T09:49:23.121660Z"
    },
    "papermill": {
     "duration": 0.011198,
     "end_time": "2024-08-21T09:49:23.122688",
     "exception": false,
     "start_time": "2024-08-21T09:49:23.111490",
     "status": "completed"
    },
    "tags": []
   },
   "outputs": [
    {
     "name": "stdout",
     "output_type": "stream",
     "text": [
      "['Customer_id', 'Connection', 'Weight', 'Unit_type', 'Day', 'Week']\n"
     ]
    }
   ],
   "source": [
    "\n",
    "# Load the data\n",
    "comparison_dict = {0: [0,1], 1: [2,3], 2: [4,5]}\n",
    "path_customer_profiles = open('./Results_Experiments/File_Paths/path_customer_profiles.txt','r').read()\n",
    "path_transport_graphics = open('./Results_Experiments/File_Paths/path_transport_graphics.txt','r').read()\n",
    "source = pd.read_csv(f'../{path_customer_profiles}/customer_profile_{comparison_dict[comparison_id][0]}.csv')\n",
    "target = pd.read_csv(f'../{path_customer_profiles}/customer_profile_{comparison_dict[comparison_id][1]}.csv')\n",
    "\n",
    "feature_names = source.columns.values\n",
    "feature_names = list(feature_names)\n",
    "print(feature_names)"
   ]
  },
  {
   "cell_type": "code",
   "execution_count": 7,
   "id": "296df3b5",
   "metadata": {
    "execution": {
     "iopub.execute_input": "2024-08-21T09:49:23.126192Z",
     "iopub.status.busy": "2024-08-21T09:49:23.125985Z",
     "iopub.status.idle": "2024-08-21T09:49:23.164618Z",
     "shell.execute_reply": "2024-08-21T09:49:23.164335Z"
    },
    "papermill": {
     "duration": 0.042109,
     "end_time": "2024-08-21T09:49:23.166367",
     "exception": false,
     "start_time": "2024-08-21T09:49:23.124258",
     "status": "completed"
    },
    "tags": []
   },
   "outputs": [],
   "source": [
    "# standardize the source and target data, and convert to domain labels\n",
    "from sklearn.preprocessing import StandardScaler\n",
    "X = np.concatenate((source, target), axis=0)\n",
    "# standardize X to remove cardinatlity bias\n",
    "X = StandardScaler().fit_transform(X)\n",
    "y = np.concatenate((np.zeros(source.shape[0]),\n",
    "                    np.ones(target.shape[0])), axis=0)  # domain labels"
   ]
  },
  {
   "cell_type": "code",
   "execution_count": 8,
   "id": "c5422e1f",
   "metadata": {
    "execution": {
     "iopub.execute_input": "2024-08-21T09:49:23.170391Z",
     "iopub.status.busy": "2024-08-21T09:49:23.170211Z",
     "iopub.status.idle": "2024-08-21T09:49:23.221598Z",
     "shell.execute_reply": "2024-08-21T09:49:23.221339Z"
    },
    "papermill": {
     "duration": 0.054312,
     "end_time": "2024-08-21T09:49:23.222559",
     "exception": false,
     "start_time": "2024-08-21T09:49:23.168247",
     "status": "completed"
    },
    "tags": []
   },
   "outputs": [],
   "source": [
    "from sklearn.datasets import make_classification\n",
    "from sklearn.model_selection import train_test_split\n",
    "\n",
    "X_train, X_test, y_train, y_test = train_test_split(X, y,\n",
    "                                     stratify=y, random_state=42)"
   ]
  },
  {
   "cell_type": "code",
   "execution_count": 9,
   "id": "5d9ba299",
   "metadata": {
    "execution": {
     "iopub.execute_input": "2024-08-21T09:49:23.226048Z",
     "iopub.status.busy": "2024-08-21T09:49:23.225895Z",
     "iopub.status.idle": "2024-08-21T09:49:23.241599Z",
     "shell.execute_reply": "2024-08-21T09:49:23.241238Z"
    },
    "papermill": {
     "duration": 0.018511,
     "end_time": "2024-08-21T09:49:23.242681",
     "exception": false,
     "start_time": "2024-08-21T09:49:23.224170",
     "status": "completed"
    },
    "tags": []
   },
   "outputs": [],
   "source": [
    "# Using XGBoost\n",
    "import xgboost\n",
    "\n",
    "def fit_xgboost(X_train, y_train, X_test, y_test, feature_names=None):\n",
    "    \"\"\" Train an XGBoost model with early stopping.\n",
    "    \"\"\"\n",
    "    dtrain = xgboost.DMatrix(X_train, label=y_train, feature_names=feature_names)\n",
    "    dtest = xgboost.DMatrix(X_test, label=y_test, feature_names=feature_names)\n",
    "    # model = xgboost.train(\n",
    "    #     { \"eta\": 0.001, \"subsample\": 0.5, \"max_depth\": 2,\n",
    "    #       \"objective\": 'binary:logistic', 'eval_metric': 'logloss'}, dtrain, num_boost_round=200000,\n",
    "    #     evals=[(dtest,'eval'), (dtrain,'train')], early_stopping_rounds=20, verbose_eval=False\n",
    "    # )\n",
    "    model = xgboost.train(\n",
    "        {\"objective\": 'binary:logistic', 'eval_metric': 'logloss'},\n",
    "        dtrain,\n",
    "        evals=[(dtest,'eval'), (dtrain,'train')],\n",
    "        verbose_eval=False)\n",
    "    return model"
   ]
  },
  {
   "cell_type": "code",
   "execution_count": 10,
   "id": "bd7ac9f1",
   "metadata": {
    "execution": {
     "iopub.execute_input": "2024-08-21T09:49:23.247899Z",
     "iopub.status.busy": "2024-08-21T09:49:23.247689Z",
     "iopub.status.idle": "2024-08-21T09:49:23.269254Z",
     "shell.execute_reply": "2024-08-21T09:49:23.268856Z"
    },
    "papermill": {
     "duration": 0.025486,
     "end_time": "2024-08-21T09:49:23.270479",
     "exception": false,
     "start_time": "2024-08-21T09:49:23.244993",
     "status": "completed"
    },
    "tags": []
   },
   "outputs": [],
   "source": [
    "xgb_forest = fit_xgboost(X_train, y_train, X_test, y_test, feature_names)\n",
    "xgb_forest.feature_names = feature_names"
   ]
  },
  {
   "cell_type": "code",
   "execution_count": 11,
   "id": "dcaa3020",
   "metadata": {
    "execution": {
     "iopub.execute_input": "2024-08-21T09:49:23.274127Z",
     "iopub.status.busy": "2024-08-21T09:49:23.273960Z",
     "iopub.status.idle": "2024-08-21T09:49:23.276137Z",
     "shell.execute_reply": "2024-08-21T09:49:23.275870Z"
    },
    "papermill": {
     "duration": 0.004817,
     "end_time": "2024-08-21T09:49:23.276897",
     "exception": false,
     "start_time": "2024-08-21T09:49:23.272080",
     "status": "completed"
    },
    "tags": []
   },
   "outputs": [],
   "source": [
    "def get_acc(model, samples, labels, feature_names=None):\n",
    "    predictions = (model.predict(xgboost.DMatrix(samples,\n",
    "                                                 feature_names=feature_names)) > 0.5).astype(int)\n",
    "    return (predictions == labels).sum() / predictions.shape[0]"
   ]
  },
  {
   "cell_type": "code",
   "execution_count": 12,
   "id": "7ce6b380",
   "metadata": {
    "execution": {
     "iopub.execute_input": "2024-08-21T09:49:23.279945Z",
     "iopub.status.busy": "2024-08-21T09:49:23.279844Z",
     "iopub.status.idle": "2024-08-21T09:49:23.283034Z",
     "shell.execute_reply": "2024-08-21T09:49:23.282717Z"
    },
    "papermill": {
     "duration": 0.00561,
     "end_time": "2024-08-21T09:49:23.283845",
     "exception": false,
     "start_time": "2024-08-21T09:49:23.278235",
     "status": "completed"
    },
    "tags": []
   },
   "outputs": [
    {
     "name": "stdout",
     "output_type": "stream",
     "text": [
      "Train score: 0.9658148025224029\n",
      "Test score: 0.9512437810945273\n"
     ]
    }
   ],
   "source": [
    "print('Train score:', get_acc(xgb_forest, X_train, y_train, feature_names))\n",
    "print('Test score:', get_acc(xgb_forest, X_test, y_test, feature_names))"
   ]
  },
  {
   "cell_type": "code",
   "execution_count": 13,
   "id": "97a1d2b0",
   "metadata": {
    "execution": {
     "iopub.execute_input": "2024-08-21T09:49:23.287017Z",
     "iopub.status.busy": "2024-08-21T09:49:23.286910Z",
     "iopub.status.idle": "2024-08-21T09:49:23.560760Z",
     "shell.execute_reply": "2024-08-21T09:49:23.560483Z"
    },
    "papermill": {
     "duration": 0.276402,
     "end_time": "2024-08-21T09:49:23.561668",
     "exception": false,
     "start_time": "2024-08-21T09:49:23.285266",
     "status": "completed"
    },
    "tags": []
   },
   "outputs": [],
   "source": [
    "import shap\n",
    "import pandas as pd\n",
    "explainer = shap.Explainer(xgb_forest)\n",
    "\n",
    "shap_values = explainer(pd.DataFrame(X_test, columns=feature_names))\n"
   ]
  },
  {
   "cell_type": "code",
   "execution_count": 14,
   "id": "8e7a54a8",
   "metadata": {
    "execution": {
     "iopub.execute_input": "2024-08-21T09:49:23.565015Z",
     "iopub.status.busy": "2024-08-21T09:49:23.564864Z",
     "iopub.status.idle": "2024-08-21T09:49:23.934351Z",
     "shell.execute_reply": "2024-08-21T09:49:23.934078Z"
    },
    "papermill": {
     "duration": 0.372034,
     "end_time": "2024-08-21T09:49:23.935229",
     "exception": false,
     "start_time": "2024-08-21T09:49:23.563195",
     "status": "completed"
    },
    "tags": []
   },
   "outputs": [
    {
     "data": {
      "image/png": "[encoded data removed]",
      "text/plain": [
       "<Figure size 400x200 with 2 Axes>"
      ]
     },
     "metadata": {},
     "output_type": "display_data"
    }
   ],
   "source": [
    "# Beeswarm plot\n",
    "\n",
    "shap.plots.beeswarm(shap_values, show=False)\n",
    "fig = plt.gcf()\n",
    "fig.set_size_inches(4, 2, forward=True)\n",
    "if save_figures: plt.savefig(\n",
    "    f'../{path_transport_graphics}/logitics_data_on_customer_profile_{comparison_dict[comparison_id][0]} and customer_profile_{comparison_dict[comparison_id][1]}-shap-value.{save_parms[\"format\"]}',\n",
    "    **save_parms\n",
    "    )\n",
    "plt.show()"
   ]
  }
 ],
 "metadata": {
  "kernelspec": {
   "display_name": "Python 3.7.11 ('py37')",
   "language": "python",
   "name": "python3"
  },
  "language_info": {
   "codemirror_mode": {
    "name": "ipython",
    "version": 3
   },
   "file_extension": ".py",
   "mimetype": "text/x-python",
   "name": "python",
   "nbconvert_exporter": "python",
   "pygments_lexer": "ipython3",
   "version": "3.12.0"
  },
  "papermill": {
   "default_parameters": {},
   "duration": 2.722626,
   "end_time": "2024-08-21T09:49:24.254467",
   "environment_variables": {},
   "exception": null,
   "input_path": "experiment_baseline.ipynb",
   "output_path": "./Results_Experiments/Set_V_max_to_15/experiment_baseline_2.ipynb",
   "parameters": {
    "comparison_id": 1
   },
   "start_time": "2024-08-21T09:49:21.531841",
   "version": "2.6.0"
  },
  "vscode": {
   "interpreter": {
    "hash": "5ab0220f0ca30ec7bac8a7e209564eceae6d15412b9f87f3c2f91206aa8b151c"
   }
  }
 },
 "nbformat": 4,
 "nbformat_minor": 5
}