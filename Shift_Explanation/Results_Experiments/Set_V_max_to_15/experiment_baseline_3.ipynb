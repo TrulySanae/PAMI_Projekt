{
 "cells": [
  {
   "cell_type": "code",
   "execution_count": 1,
   "id": "d05cab18",
   "metadata": {
    "execution": {
     "iopub.execute_input": "2024-08-21T09:49:24.853983Z",
     "iopub.status.busy": "2024-08-21T09:49:24.853427Z",
     "iopub.status.idle": "2024-08-21T09:49:25.665143Z",
     "shell.execute_reply": "2024-08-21T09:49:25.664848Z"
    },
    "papermill": {
     "duration": 0.821245,
     "end_time": "2024-08-21T09:49:25.666512",
     "exception": false,
     "start_time": "2024-08-21T09:49:24.845267",
     "status": "completed"
    },
    "tags": []
   },
   "outputs": [],
   "source": [
    "import matplotlib.pyplot as plt\n",
    "import numpy as np\n",
    "import pandas as pd\n",
    "from pathlib import Path\n",
    "import seaborn as sn\n"
   ]
  },
  {
   "cell_type": "code",
   "execution_count": 2,
   "id": "d6302d10",
   "metadata": {
    "execution": {
     "iopub.execute_input": "2024-08-21T09:49:25.670372Z",
     "iopub.status.busy": "2024-08-21T09:49:25.670204Z",
     "iopub.status.idle": "2024-08-21T09:49:25.672983Z",
     "shell.execute_reply": "2024-08-21T09:49:25.672755Z"
    },
    "papermill": {
     "duration": 0.005247,
     "end_time": "2024-08-21T09:49:25.673776",
     "exception": false,
     "start_time": "2024-08-21T09:49:25.668529",
     "status": "completed"
    },
    "tags": []
   },
   "outputs": [],
   "source": [
    "# Setting so that the plots look normal even when using dark-reader\n",
    "sn.set_style(\"whitegrid\")\n",
    "sn.set_context(context=\"paper\", font_scale=2)\n",
    "pal = sn.color_palette(\"Set1\")\n",
    "\n",
    "# Setting up specifics for plotting + saving\n",
    "save_figures = True\n",
    "add_legend = False\n",
    "add_title = False\n",
    "add_axis = False\n",
    "save_parms = {'format': 'pdf','bbox_inches':'tight', 'pad_inches':0.1}\n",
    "line_parms = {'linewidth':4, 'color':'k'}\n",
    "if save_figures:  # saves all figures in a figure directory in the local directory\n",
    "    figure_dir = Path('.') / 'figures' / 'adult-income-experiment'\n",
    "    if not figure_dir.exists():\n",
    "        figure_dir.mkdir(parents=True)"
   ]
  },
  {
   "cell_type": "code",
   "execution_count": 3,
   "id": "22d1d0e0",
   "metadata": {
    "execution": {
     "iopub.execute_input": "2024-08-21T09:49:25.676792Z",
     "iopub.status.busy": "2024-08-21T09:49:25.676663Z",
     "iopub.status.idle": "2024-08-21T09:49:25.678633Z",
     "shell.execute_reply": "2024-08-21T09:49:25.678417Z"
    },
    "papermill": {
     "duration": 0.005232,
     "end_time": "2024-08-21T09:49:25.680211",
     "exception": false,
     "start_time": "2024-08-21T09:49:25.674979",
     "status": "completed"
    },
    "tags": []
   },
   "outputs": [],
   "source": [
    "# Experiment hyperparamters\n",
    "rng = np.random.RandomState(42)\n",
    "split_on_income = False  # if True: src := income>=50k, tgt :+ income<50k, if False: src := male, tgt := female\n",
    "n_samples = 1000"
   ]
  },
  {
   "cell_type": "code",
   "execution_count": 4,
   "id": "48ff09ec",
   "metadata": {
    "execution": {
     "iopub.execute_input": "2024-08-21T09:49:25.683697Z",
     "iopub.status.busy": "2024-08-21T09:49:25.683362Z",
     "iopub.status.idle": "2024-08-21T09:49:25.685282Z",
     "shell.execute_reply": "2024-08-21T09:49:25.685034Z"
    },
    "papermill": {
     "duration": 0.004547,
     "end_time": "2024-08-21T09:49:25.686033",
     "exception": false,
     "start_time": "2024-08-21T09:49:25.681486",
     "status": "completed"
    },
    "tags": [
     "parameters"
    ]
   },
   "outputs": [],
   "source": [
    "comparison_id = None"
   ]
  },
  {
   "cell_type": "code",
   "execution_count": 5,
   "id": "88760e91",
   "metadata": {
    "execution": {
     "iopub.execute_input": "2024-08-21T09:49:25.689861Z",
     "iopub.status.busy": "2024-08-21T09:49:25.689714Z",
     "iopub.status.idle": "2024-08-21T09:49:25.691409Z",
     "shell.execute_reply": "2024-08-21T09:49:25.691171Z"
    },
    "papermill": {
     "duration": 0.004517,
     "end_time": "2024-08-21T09:49:25.692112",
     "exception": false,
     "start_time": "2024-08-21T09:49:25.687595",
     "status": "completed"
    },
    "tags": [
     "injected-parameters"
    ]
   },
   "outputs": [],
   "source": [
    "# Parameters\n",
    "comparison_id = 2\n"
   ]
  },
  {
   "cell_type": "code",
   "execution_count": 6,
   "id": "dade2b7e",
   "metadata": {
    "execution": {
     "iopub.execute_input": "2024-08-21T09:49:25.694989Z",
     "iopub.status.busy": "2024-08-21T09:49:25.694887Z",
     "iopub.status.idle": "2024-08-21T09:49:25.700389Z",
     "shell.execute_reply": "2024-08-21T09:49:25.700069Z"
    },
    "papermill": {
     "duration": 0.007941,
     "end_time": "2024-08-21T09:49:25.701300",
     "exception": false,
     "start_time": "2024-08-21T09:49:25.693359",
     "status": "completed"
    },
    "tags": []
   },
   "outputs": [
    {
     "name": "stdout",
     "output_type": "stream",
     "text": [
      "['Customer_id', 'Connection', 'Weight', 'Unit_type', 'Day', 'Week']\n"
     ]
    }
   ],
   "source": [
    "\n",
    "# Load the data\n",
    "comparison_dict = {0: [0,1], 1: [2,3], 2: [4,5]}\n",
    "path_customer_profiles = open('./Results_Experiments/File_Paths/path_customer_profiles.txt','r').read()\n",
    "path_transport_graphics = open('./Results_Experiments/File_Paths/path_transport_graphics.txt','r').read()\n",
    "source = pd.read_csv(f'../{path_customer_profiles}/customer_profile_{comparison_dict[comparison_id][0]}.csv')\n",
    "target = pd.read_csv(f'../{path_customer_profiles}/customer_profile_{comparison_dict[comparison_id][1]}.csv')\n",
    "\n",
    "feature_names = source.columns.values\n",
    "feature_names = list(feature_names)\n",
    "print(feature_names)"
   ]
  },
  {
   "cell_type": "code",
   "execution_count": 7,
   "id": "296df3b5",
   "metadata": {
    "execution": {
     "iopub.execute_input": "2024-08-21T09:49:25.704971Z",
     "iopub.status.busy": "2024-08-21T09:49:25.704829Z",
     "iopub.status.idle": "2024-08-21T09:49:25.738226Z",
     "shell.execute_reply": "2024-08-21T09:49:25.737970Z"
    },
    "papermill": {
     "duration": 0.036562,
     "end_time": "2024-08-21T09:49:25.739559",
     "exception": false,
     "start_time": "2024-08-21T09:49:25.702997",
     "status": "completed"
    },
    "tags": []
   },
   "outputs": [],
   "source": [
    "# standardize the source and target data, and convert to domain labels\n",
    "from sklearn.preprocessing import StandardScaler\n",
    "X = np.concatenate((source, target), axis=0)\n",
    "# standardize X to remove cardinatlity bias\n",
    "X = StandardScaler().fit_transform(X)\n",
    "y = np.concatenate((np.zeros(source.shape[0]),\n",
    "                    np.ones(target.shape[0])), axis=0)  # domain labels"
   ]
  },
  {
   "cell_type": "code",
   "execution_count": 8,
   "id": "c5422e1f",
   "metadata": {
    "execution": {
     "iopub.execute_input": "2024-08-21T09:49:25.743078Z",
     "iopub.status.busy": "2024-08-21T09:49:25.742879Z",
     "iopub.status.idle": "2024-08-21T09:49:25.796200Z",
     "shell.execute_reply": "2024-08-21T09:49:25.795875Z"
    },
    "papermill": {
     "duration": 0.056023,
     "end_time": "2024-08-21T09:49:25.797127",
     "exception": false,
     "start_time": "2024-08-21T09:49:25.741104",
     "status": "completed"
    },
    "tags": []
   },
   "outputs": [],
   "source": [
    "from sklearn.datasets import make_classification\n",
    "from sklearn.model_selection import train_test_split\n",
    "\n",
    "X_train, X_test, y_train, y_test = train_test_split(X, y,\n",
    "                                     stratify=y, random_state=42)"
   ]
  },
  {
   "cell_type": "code",
   "execution_count": 9,
   "id": "5d9ba299",
   "metadata": {
    "execution": {
     "iopub.execute_input": "2024-08-21T09:49:25.800380Z",
     "iopub.status.busy": "2024-08-21T09:49:25.800237Z",
     "iopub.status.idle": "2024-08-21T09:49:25.815092Z",
     "shell.execute_reply": "2024-08-21T09:49:25.814814Z"
    },
    "papermill": {
     "duration": 0.017627,
     "end_time": "2024-08-21T09:49:25.816252",
     "exception": false,
     "start_time": "2024-08-21T09:49:25.798625",
     "status": "completed"
    },
    "tags": []
   },
   "outputs": [],
   "source": [
    "# Using XGBoost\n",
    "import xgboost\n",
    "\n",
    "def fit_xgboost(X_train, y_train, X_test, y_test, feature_names=None):\n",
    "    \"\"\" Train an XGBoost model with early stopping.\n",
    "    \"\"\"\n",
    "    dtrain = xgboost.DMatrix(X_train, label=y_train, feature_names=feature_names)\n",
    "    dtest = xgboost.DMatrix(X_test, label=y_test, feature_names=feature_names)\n",
    "    # model = xgboost.train(\n",
    "    #     { \"eta\": 0.001, \"subsample\": 0.5, \"max_depth\": 2,\n",
    "    #       \"objective\": 'binary:logistic', 'eval_metric': 'logloss'}, dtrain, num_boost_round=200000,\n",
    "    #     evals=[(dtest,'eval'), (dtrain,'train')], early_stopping_rounds=20, verbose_eval=False\n",
    "    # )\n",
    "    model = xgboost.train(\n",
    "        {\"objective\": 'binary:logistic', 'eval_metric': 'logloss'},\n",
    "        dtrain,\n",
    "        evals=[(dtest,'eval'), (dtrain,'train')],\n",
    "        verbose_eval=False)\n",
    "    return model"
   ]
  },
  {
   "cell_type": "code",
   "execution_count": 10,
   "id": "bd7ac9f1",
   "metadata": {
    "execution": {
     "iopub.execute_input": "2024-08-21T09:49:25.820117Z",
     "iopub.status.busy": "2024-08-21T09:49:25.819912Z",
     "iopub.status.idle": "2024-08-21T09:49:25.834257Z",
     "shell.execute_reply": "2024-08-21T09:49:25.834007Z"
    },
    "papermill": {
     "duration": 0.017361,
     "end_time": "2024-08-21T09:49:25.835196",
     "exception": false,
     "start_time": "2024-08-21T09:49:25.817835",
     "status": "completed"
    },
    "tags": []
   },
   "outputs": [],
   "source": [
    "xgb_forest = fit_xgboost(X_train, y_train, X_test, y_test, feature_names)\n",
    "xgb_forest.feature_names = feature_names"
   ]
  },
  {
   "cell_type": "code",
   "execution_count": 11,
   "id": "dcaa3020",
   "metadata": {
    "execution": {
     "iopub.execute_input": "2024-08-21T09:49:25.838723Z",
     "iopub.status.busy": "2024-08-21T09:49:25.838577Z",
     "iopub.status.idle": "2024-08-21T09:49:25.840569Z",
     "shell.execute_reply": "2024-08-21T09:49:25.840328Z"
    },
    "papermill": {
     "duration": 0.004616,
     "end_time": "2024-08-21T09:49:25.841351",
     "exception": false,
     "start_time": "2024-08-21T09:49:25.836735",
     "status": "completed"
    },
    "tags": []
   },
   "outputs": [],
   "source": [
    "def get_acc(model, samples, labels, feature_names=None):\n",
    "    predictions = (model.predict(xgboost.DMatrix(samples,\n",
    "                                                 feature_names=feature_names)) > 0.5).astype(int)\n",
    "    return (predictions == labels).sum() / predictions.shape[0]"
   ]
  },
  {
   "cell_type": "code",
   "execution_count": 12,
   "id": "7ce6b380",
   "metadata": {
    "execution": {
     "iopub.execute_input": "2024-08-21T09:49:25.844286Z",
     "iopub.status.busy": "2024-08-21T09:49:25.844189Z",
     "iopub.status.idle": "2024-08-21T09:49:25.847174Z",
     "shell.execute_reply": "2024-08-21T09:49:25.846960Z"
    },
    "papermill": {
     "duration": 0.005289,
     "end_time": "2024-08-21T09:49:25.847896",
     "exception": false,
     "start_time": "2024-08-21T09:49:25.842607",
     "status": "completed"
    },
    "tags": []
   },
   "outputs": [
    {
     "name": "stdout",
     "output_type": "stream",
     "text": [
      "Train score: 0.9383780332056194\n",
      "Test score: 0.9157088122605364\n"
     ]
    }
   ],
   "source": [
    "print('Train score:', get_acc(xgb_forest, X_train, y_train, feature_names))\n",
    "print('Test score:', get_acc(xgb_forest, X_test, y_test, feature_names))"
   ]
  },
  {
   "cell_type": "code",
   "execution_count": 13,
   "id": "97a1d2b0",
   "metadata": {
    "execution": {
     "iopub.execute_input": "2024-08-21T09:49:25.850960Z",
     "iopub.status.busy": "2024-08-21T09:49:25.850861Z",
     "iopub.status.idle": "2024-08-21T09:49:26.095824Z",
     "shell.execute_reply": "2024-08-21T09:49:26.095575Z"
    },
    "papermill": {
     "duration": 0.247541,
     "end_time": "2024-08-21T09:49:26.096785",
     "exception": false,
     "start_time": "2024-08-21T09:49:25.849244",
     "status": "completed"
    },
    "tags": []
   },
   "outputs": [],
   "source": [
    "import shap\n",
    "import pandas as pd\n",
    "explainer = shap.Explainer(xgb_forest)\n",
    "\n",
    "shap_values = explainer(pd.DataFrame(X_test, columns=feature_names))\n"
   ]
  },
  {
   "cell_type": "code",
   "execution_count": 14,
   "id": "8e7a54a8",
   "metadata": {
    "execution": {
     "iopub.execute_input": "2024-08-21T09:49:26.100097Z",
     "iopub.status.busy": "2024-08-21T09:49:26.099942Z",
     "iopub.status.idle": "2024-08-21T09:49:26.480197Z",
     "shell.execute_reply": "2024-08-21T09:49:26.479902Z"
    },
    "papermill": {
     "duration": 0.382866,
     "end_time": "2024-08-21T09:49:26.481133",
     "exception": false,
     "start_time": "2024-08-21T09:49:26.098267",
     "status": "completed"
    },
    "tags": []
   },
   "outputs": [
    {
     "data": {
      "image/png": "[encoded data removed]",
      "text/plain": [
       "<Figure size 400x200 with 2 Axes>"
      ]
     },
     "metadata": {},
     "output_type": "display_data"
    }
   ],
   "source": [
    "# Beeswarm plot\n",
    "\n",
    "shap.plots.beeswarm(shap_values, show=False)\n",
    "fig = plt.gcf()\n",
    "fig.set_size_inches(4, 2, forward=True)\n",
    "if save_figures: plt.savefig(\n",
    "    f'../{path_transport_graphics}/logitics_data_on_customer_profile_{comparison_dict[comparison_id][0]} and customer_profile_{comparison_dict[comparison_id][1]}-shap-value.{save_parms[\"format\"]}',\n",
    "    **save_parms\n",
    "    )\n",
    "plt.show()"
   ]
  }
 ],
 "metadata": {
  "kernelspec": {
   "display_name": "Python 3.7.11 ('py37')",
   "language": "python",
   "name": "python3"
  },
  "language_info": {
   "codemirror_mode": {
    "name": "ipython",
    "version": 3
   },
   "file_extension": ".py",
   "mimetype": "text/x-python",
   "name": "python",
   "nbconvert_exporter": "python",
   "pygments_lexer": "ipython3",
   "version": "3.12.0"
  },
  "papermill": {
   "default_parameters": {},
   "duration": 2.540394,
   "end_time": "2024-08-21T09:49:26.800567",
   "environment_variables": {},
   "exception": null,
   "input_path": "experiment_baseline.ipynb",
   "output_path": "./Results_Experiments/Set_V_max_to_15/experiment_baseline_3.ipynb",
   "parameters": {
    "comparison_id": 2
   },
   "start_time": "2024-08-21T09:49:24.260173",
   "version": "2.6.0"
  },
  "vscode": {
   "interpreter": {
    "hash": "5ab0220f0ca30ec7bac8a7e209564eceae6d15412b9f87f3c2f91206aa8b151c"
   }
  }
 },
 "nbformat": 4,
 "nbformat_minor": 5
}