{
 "cells": [
  {
   "cell_type": "code",
   "execution_count": 1,
   "id": "d05cab18",
   "metadata": {
    "execution": {
     "iopub.execute_input": "2024-08-21T12:11:37.282375Z",
     "iopub.status.busy": "2024-08-21T12:11:37.282011Z",
     "iopub.status.idle": "2024-08-21T12:11:38.113473Z",
     "shell.execute_reply": "2024-08-21T12:11:38.113161Z"
    },
    "papermill": {
     "duration": 0.838005,
     "end_time": "2024-08-21T12:11:38.114460",
     "exception": false,
     "start_time": "2024-08-21T12:11:37.276455",
     "status": "completed"
    },
    "tags": []
   },
   "outputs": [],
   "source": [
    "import matplotlib.pyplot as plt\n",
    "import numpy as np\n",
    "import pandas as pd\n",
    "from pathlib import Path\n",
    "import seaborn as sn\n",
    "from data_utils import load_and_preprocess_logistics_data"
   ]
  },
  {
   "cell_type": "code",
   "execution_count": 2,
   "id": "d6302d10",
   "metadata": {
    "execution": {
     "iopub.execute_input": "2024-08-21T12:11:38.117726Z",
     "iopub.status.busy": "2024-08-21T12:11:38.117563Z",
     "iopub.status.idle": "2024-08-21T12:11:38.120176Z",
     "shell.execute_reply": "2024-08-21T12:11:38.119952Z"
    },
    "papermill": {
     "duration": 0.004975,
     "end_time": "2024-08-21T12:11:38.120939",
     "exception": false,
     "start_time": "2024-08-21T12:11:38.115964",
     "status": "completed"
    },
    "tags": []
   },
   "outputs": [],
   "source": [
    "# Setting so that the plots look normal even when using dark-reader\n",
    "sn.set_style(\"whitegrid\")\n",
    "sn.set_context(context=\"paper\", font_scale=2)\n",
    "pal = sn.color_palette(\"Set1\")\n",
    "\n",
    "# Setting up specifics for plotting + saving\n",
    "save_figures = True\n",
    "add_legend = False\n",
    "add_title = False\n",
    "add_axis = False\n",
    "save_parms = {'format': 'pdf','bbox_inches':'tight', 'pad_inches':0.1}\n",
    "line_parms = {'linewidth':4, 'color':'k'}\n",
    "if save_figures:  # saves all figures in a figure directory in the local directory\n",
    "    figure_dir = Path('.') / 'figures' / 'adult-income-experiment'\n",
    "    if not figure_dir.exists():\n",
    "        figure_dir.mkdir(parents=True)"
   ]
  },
  {
   "cell_type": "code",
   "execution_count": 3,
   "id": "22d1d0e0",
   "metadata": {
    "execution": {
     "iopub.execute_input": "2024-08-21T12:11:38.124101Z",
     "iopub.status.busy": "2024-08-21T12:11:38.123990Z",
     "iopub.status.idle": "2024-08-21T12:11:38.125761Z",
     "shell.execute_reply": "2024-08-21T12:11:38.125517Z"
    },
    "papermill": {
     "duration": 0.004211,
     "end_time": "2024-08-21T12:11:38.126475",
     "exception": false,
     "start_time": "2024-08-21T12:11:38.122264",
     "status": "completed"
    },
    "tags": []
   },
   "outputs": [],
   "source": [
    "# Experiment hyperparamters\n",
    "rng = np.random.RandomState(42)\n",
    "split_on_income = False  # if True: src := income>=50k, tgt :+ income<50k, if False: src := male, tgt := female\n",
    "n_samples = 1000"
   ]
  },
  {
   "cell_type": "code",
   "execution_count": 4,
   "id": "48ff09ec",
   "metadata": {
    "execution": {
     "iopub.execute_input": "2024-08-21T12:11:38.130042Z",
     "iopub.status.busy": "2024-08-21T12:11:38.129799Z",
     "iopub.status.idle": "2024-08-21T12:11:38.132329Z",
     "shell.execute_reply": "2024-08-21T12:11:38.131942Z"
    },
    "papermill": {
     "duration": 0.005361,
     "end_time": "2024-08-21T12:11:38.133147",
     "exception": false,
     "start_time": "2024-08-21T12:11:38.127786",
     "status": "completed"
    },
    "tags": [
     "parameters"
    ]
   },
   "outputs": [],
   "source": [
    "comparison_id = None"
   ]
  },
  {
   "cell_type": "code",
   "execution_count": 5,
   "id": "1b9d34d6",
   "metadata": {
    "execution": {
     "iopub.execute_input": "2024-08-21T12:11:38.136200Z",
     "iopub.status.busy": "2024-08-21T12:11:38.136081Z",
     "iopub.status.idle": "2024-08-21T12:11:38.137545Z",
     "shell.execute_reply": "2024-08-21T12:11:38.137320Z"
    },
    "papermill": {
     "duration": 0.003724,
     "end_time": "2024-08-21T12:11:38.138256",
     "exception": false,
     "start_time": "2024-08-21T12:11:38.134532",
     "status": "completed"
    },
    "tags": [
     "injected-parameters"
    ]
   },
   "outputs": [],
   "source": [
    "# Parameters\n",
    "comparison_id = 0\n"
   ]
  },
  {
   "cell_type": "code",
   "execution_count": 6,
   "id": "dade2b7e",
   "metadata": {
    "execution": {
     "iopub.execute_input": "2024-08-21T12:11:38.141013Z",
     "iopub.status.busy": "2024-08-21T12:11:38.140922Z",
     "iopub.status.idle": "2024-08-21T12:11:38.153144Z",
     "shell.execute_reply": "2024-08-21T12:11:38.152907Z"
    },
    "papermill": {
     "duration": 0.014441,
     "end_time": "2024-08-21T12:11:38.153885",
     "exception": false,
     "start_time": "2024-08-21T12:11:38.139444",
     "status": "completed"
    },
    "tags": []
   },
   "outputs": [
    {
     "name": "stdout",
     "output_type": "stream",
     "text": [
      "Comparing customer_profile_0 and customer_profile_1\n",
      "Finished preprocessing logistic dataset. Split on customer_profile_0 and customer_profile_1 with resulting source shape: (996, 3), target shape: (996, 3).\n",
      "['Connection', 'Weight', 'Unit_type']\n"
     ]
    }
   ],
   "source": [
    "\n",
    "# Load the data\n",
    "comparison_dict = {0: [0,1], 1: [2,3], 2: [4,5]}\n",
    "path_customer_profiles = open('./Results_Experiments/File_Paths/path_customer_profiles.txt','r').read()\n",
    "path_transport_graphics = open('./Results_Experiments/File_Paths/path_transport_graphics.txt','r').read()\n",
    "source = pd.read_csv(f'../{path_customer_profiles}/customer_profile_{comparison_dict[comparison_id][0]}.csv')\n",
    "target = pd.read_csv(f'../{path_customer_profiles}/customer_profile_{comparison_dict[comparison_id][1]}.csv')\n",
    "equal_week_split = True\n",
    "source, target, feature_names = load_and_preprocess_logistics_data(rng, n_samples, return_column_names=True,equal_week_split=equal_week_split, comparison_id=\n",
    "            comparison_id, comparison_dict=comparison_dict)\n",
    "print(feature_names)"
   ]
  },
  {
   "cell_type": "code",
   "execution_count": 7,
   "id": "296df3b5",
   "metadata": {
    "execution": {
     "iopub.execute_input": "2024-08-21T12:11:38.157031Z",
     "iopub.status.busy": "2024-08-21T12:11:38.156913Z",
     "iopub.status.idle": "2024-08-21T12:11:38.159339Z",
     "shell.execute_reply": "2024-08-21T12:11:38.159135Z"
    },
    "papermill": {
     "duration": 0.004714,
     "end_time": "2024-08-21T12:11:38.160064",
     "exception": false,
     "start_time": "2024-08-21T12:11:38.155350",
     "status": "completed"
    },
    "tags": []
   },
   "outputs": [],
   "source": [
    "# standardize the source and target data, and convert to domain labels\n",
    "from sklearn.preprocessing import StandardScaler\n",
    "X = np.concatenate((source, target), axis=0)\n",
    "# standardize X to remove cardinatlity bias\n",
    "X = StandardScaler().fit_transform(X)\n",
    "y = np.concatenate((np.zeros(source.shape[0]),\n",
    "                    np.ones(target.shape[0])), axis=0)  # domain labels"
   ]
  },
  {
   "cell_type": "code",
   "execution_count": 8,
   "id": "c5422e1f",
   "metadata": {
    "execution": {
     "iopub.execute_input": "2024-08-21T12:11:38.163064Z",
     "iopub.status.busy": "2024-08-21T12:11:38.162964Z",
     "iopub.status.idle": "2024-08-21T12:11:38.212387Z",
     "shell.execute_reply": "2024-08-21T12:11:38.212118Z"
    },
    "papermill": {
     "duration": 0.051881,
     "end_time": "2024-08-21T12:11:38.213285",
     "exception": false,
     "start_time": "2024-08-21T12:11:38.161404",
     "status": "completed"
    },
    "tags": []
   },
   "outputs": [],
   "source": [
    "from sklearn.datasets import make_classification\n",
    "from sklearn.model_selection import train_test_split\n",
    "\n",
    "X_train, X_test, y_train, y_test = train_test_split(X, y,\n",
    "                                     stratify=y, random_state=42)"
   ]
  },
  {
   "cell_type": "code",
   "execution_count": 9,
   "id": "5d9ba299",
   "metadata": {
    "execution": {
     "iopub.execute_input": "2024-08-21T12:11:38.216409Z",
     "iopub.status.busy": "2024-08-21T12:11:38.216261Z",
     "iopub.status.idle": "2024-08-21T12:11:38.229457Z",
     "shell.execute_reply": "2024-08-21T12:11:38.229188Z"
    },
    "papermill": {
     "duration": 0.015734,
     "end_time": "2024-08-21T12:11:38.230419",
     "exception": false,
     "start_time": "2024-08-21T12:11:38.214685",
     "status": "completed"
    },
    "tags": []
   },
   "outputs": [],
   "source": [
    "# Using XGBoost\n",
    "import xgboost\n",
    "\n",
    "def fit_xgboost(X_train, y_train, X_test, y_test, feature_names=None):\n",
    "    \"\"\" Train an XGBoost model with early stopping.\n",
    "    \"\"\"\n",
    "    dtrain = xgboost.DMatrix(X_train, label=y_train, feature_names=feature_names)\n",
    "    dtest = xgboost.DMatrix(X_test, label=y_test, feature_names=feature_names)\n",
    "    # model = xgboost.train(\n",
    "    #     { \"eta\": 0.001, \"subsample\": 0.5, \"max_depth\": 2,\n",
    "    #       \"objective\": 'binary:logistic', 'eval_metric': 'logloss'}, dtrain, num_boost_round=200000,\n",
    "    #     evals=[(dtest,'eval'), (dtrain,'train')], early_stopping_rounds=20, verbose_eval=False\n",
    "    # )\n",
    "    model = xgboost.train(\n",
    "        {\"objective\": 'binary:logistic', 'eval_metric': 'logloss'},\n",
    "        dtrain,\n",
    "        evals=[(dtest,'eval'), (dtrain,'train')],\n",
    "        verbose_eval=False)\n",
    "    return model"
   ]
  },
  {
   "cell_type": "code",
   "execution_count": 10,
   "id": "bd7ac9f1",
   "metadata": {
    "execution": {
     "iopub.execute_input": "2024-08-21T12:11:38.233593Z",
     "iopub.status.busy": "2024-08-21T12:11:38.233473Z",
     "iopub.status.idle": "2024-08-21T12:11:38.248687Z",
     "shell.execute_reply": "2024-08-21T12:11:38.248434Z"
    },
    "papermill": {
     "duration": 0.017722,
     "end_time": "2024-08-21T12:11:38.249586",
     "exception": false,
     "start_time": "2024-08-21T12:11:38.231864",
     "status": "completed"
    },
    "tags": []
   },
   "outputs": [],
   "source": [
    "xgb_forest = fit_xgboost(X_train, y_train, X_test, y_test, feature_names)\n",
    "xgb_forest.feature_names = feature_names"
   ]
  },
  {
   "cell_type": "code",
   "execution_count": 11,
   "id": "dcaa3020",
   "metadata": {
    "execution": {
     "iopub.execute_input": "2024-08-21T12:11:38.252776Z",
     "iopub.status.busy": "2024-08-21T12:11:38.252671Z",
     "iopub.status.idle": "2024-08-21T12:11:38.254575Z",
     "shell.execute_reply": "2024-08-21T12:11:38.254371Z"
    },
    "papermill": {
     "duration": 0.004226,
     "end_time": "2024-08-21T12:11:38.255320",
     "exception": false,
     "start_time": "2024-08-21T12:11:38.251094",
     "status": "completed"
    },
    "tags": []
   },
   "outputs": [],
   "source": [
    "def get_acc(model, samples, labels, feature_names=None):\n",
    "    predictions = (model.predict(xgboost.DMatrix(samples,\n",
    "                                                 feature_names=feature_names)) > 0.5).astype(int)\n",
    "    return (predictions == labels).sum() / predictions.shape[0]"
   ]
  },
  {
   "cell_type": "code",
   "execution_count": 12,
   "id": "7ce6b380",
   "metadata": {
    "execution": {
     "iopub.execute_input": "2024-08-21T12:11:38.258256Z",
     "iopub.status.busy": "2024-08-21T12:11:38.258155Z",
     "iopub.status.idle": "2024-08-21T12:11:38.261029Z",
     "shell.execute_reply": "2024-08-21T12:11:38.260727Z"
    },
    "papermill": {
     "duration": 0.005206,
     "end_time": "2024-08-21T12:11:38.261803",
     "exception": false,
     "start_time": "2024-08-21T12:11:38.256597",
     "status": "completed"
    },
    "tags": []
   },
   "outputs": [
    {
     "name": "stdout",
     "output_type": "stream",
     "text": [
      "Train score: 0.785140562248996\n",
      "Test score: 0.7028112449799196\n"
     ]
    }
   ],
   "source": [
    "print('Train score:', get_acc(xgb_forest, X_train, y_train, feature_names))\n",
    "print('Test score:', get_acc(xgb_forest, X_test, y_test, feature_names))"
   ]
  },
  {
   "cell_type": "code",
   "execution_count": 13,
   "id": "97a1d2b0",
   "metadata": {
    "execution": {
     "iopub.execute_input": "2024-08-21T12:11:38.264878Z",
     "iopub.status.busy": "2024-08-21T12:11:38.264783Z",
     "iopub.status.idle": "2024-08-21T12:11:38.504136Z",
     "shell.execute_reply": "2024-08-21T12:11:38.503889Z"
    },
    "papermill": {
     "duration": 0.241878,
     "end_time": "2024-08-21T12:11:38.505081",
     "exception": false,
     "start_time": "2024-08-21T12:11:38.263203",
     "status": "completed"
    },
    "tags": []
   },
   "outputs": [],
   "source": [
    "import shap\n",
    "import pandas as pd\n",
    "explainer = shap.Explainer(xgb_forest)\n",
    "\n",
    "shap_values = explainer(pd.DataFrame(X_test, columns=feature_names))\n"
   ]
  },
  {
   "cell_type": "code",
   "execution_count": 14,
   "id": "8e7a54a8",
   "metadata": {
    "execution": {
     "iopub.execute_input": "2024-08-21T12:11:38.508332Z",
     "iopub.status.busy": "2024-08-21T12:11:38.508182Z",
     "iopub.status.idle": "2024-08-21T12:11:38.822185Z",
     "shell.execute_reply": "2024-08-21T12:11:38.821907Z"
    },
    "papermill": {
     "duration": 0.316515,
     "end_time": "2024-08-21T12:11:38.823030",
     "exception": false,
     "start_time": "2024-08-21T12:11:38.506515",
     "status": "completed"
    },
    "tags": []
   },
   "outputs": [
    {
     "data": {
      "image/png": "[encoded data removed]",
      "text/plain": [
       "<Figure size 400x100 with 2 Axes>"
      ]
     },
     "metadata": {},
     "output_type": "display_data"
    }
   ],
   "source": [
    "# Beeswarm plot\n",
    "\n",
    "shap.plots.beeswarm(shap_values, show=False)\n",
    "fig = plt.gcf()\n",
    "fig.set_size_inches(4, 1, forward=True)\n",
    "if save_figures: plt.savefig(\n",
    "    f'../{path_transport_graphics}/logitics_data_on_customer_profile_{comparison_dict[comparison_id][0]} and customer_profile_{comparison_dict[comparison_id][1]}-shap-value.{save_parms[\"format\"]}',\n",
    "    **save_parms\n",
    "    )\n",
    "plt.show()"
   ]
  }
 ],
 "metadata": {
  "kernelspec": {
   "display_name": "Python 3.7.11 ('py37')",
   "language": "python",
   "name": "python3"
  },
  "language_info": {
   "codemirror_mode": {
    "name": "ipython",
    "version": 3
   },
   "file_extension": ".py",
   "mimetype": "text/x-python",
   "name": "python",
   "nbconvert_exporter": "python",
   "pygments_lexer": "ipython3",
   "version": "3.12.0"
  },
  "papermill": {
   "default_parameters": {},
   "duration": 2.526754,
   "end_time": "2024-08-21T12:11:39.243384",
   "environment_variables": {},
   "exception": null,
   "input_path": "experiment_baseline.ipynb",
   "output_path": "./Results_Experiments/Set_V_max_to_15/experiment_baseline_1.ipynb",
   "parameters": {
    "comparison_id": 0
   },
   "start_time": "2024-08-21T12:11:36.716630",
   "version": "2.6.0"
  },
  "vscode": {
   "interpreter": {
    "hash": "5ab0220f0ca30ec7bac8a7e209564eceae6d15412b9f87f3c2f91206aa8b151c"
   }
  }
 },
 "nbformat": 4,
 "nbformat_minor": 5
}