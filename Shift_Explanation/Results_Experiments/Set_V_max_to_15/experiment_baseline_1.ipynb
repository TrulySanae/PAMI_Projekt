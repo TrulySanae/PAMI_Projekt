{
 "cells": [
  {
   "cell_type": "code",
   "execution_count": 1,
   "id": "d05cab18",
   "metadata": {
    "execution": {
     "iopub.execute_input": "2024-08-21T09:49:19.474071Z",
     "iopub.status.busy": "2024-08-21T09:49:19.473683Z",
     "iopub.status.idle": "2024-08-21T09:49:20.362040Z",
     "shell.execute_reply": "2024-08-21T09:49:20.361742Z"
    },
    "papermill": {
     "duration": 0.897776,
     "end_time": "2024-08-21T09:49:20.364044",
     "exception": false,
     "start_time": "2024-08-21T09:49:19.466268",
     "status": "completed"
    },
    "tags": []
   },
   "outputs": [],
   "source": [
    "import matplotlib.pyplot as plt\n",
    "import numpy as np\n",
    "import pandas as pd\n",
    "from pathlib import Path\n",
    "import seaborn as sn\n"
   ]
  },
  {
   "cell_type": "code",
   "execution_count": 2,
   "id": "d6302d10",
   "metadata": {
    "execution": {
     "iopub.execute_input": "2024-08-21T09:49:20.367966Z",
     "iopub.status.busy": "2024-08-21T09:49:20.367815Z",
     "iopub.status.idle": "2024-08-21T09:49:20.370641Z",
     "shell.execute_reply": "2024-08-21T09:49:20.370415Z"
    },
    "papermill": {
     "duration": 0.005303,
     "end_time": "2024-08-21T09:49:20.371432",
     "exception": false,
     "start_time": "2024-08-21T09:49:20.366129",
     "status": "completed"
    },
    "tags": []
   },
   "outputs": [],
   "source": [
    "# Setting so that the plots look normal even when using dark-reader\n",
    "sn.set_style(\"whitegrid\")\n",
    "sn.set_context(context=\"paper\", font_scale=2)\n",
    "pal = sn.color_palette(\"Set1\")\n",
    "\n",
    "# Setting up specifics for plotting + saving\n",
    "save_figures = True\n",
    "add_legend = False\n",
    "add_title = False\n",
    "add_axis = False\n",
    "save_parms = {'format': 'pdf','bbox_inches':'tight', 'pad_inches':0.1}\n",
    "line_parms = {'linewidth':4, 'color':'k'}\n",
    "if save_figures:  # saves all figures in a figure directory in the local directory\n",
    "    figure_dir = Path('.') / 'figures' / 'adult-income-experiment'\n",
    "    if not figure_dir.exists():\n",
    "        figure_dir.mkdir(parents=True)"
   ]
  },
  {
   "cell_type": "code",
   "execution_count": 3,
   "id": "22d1d0e0",
   "metadata": {
    "execution": {
     "iopub.execute_input": "2024-08-21T09:49:20.374807Z",
     "iopub.status.busy": "2024-08-21T09:49:20.374589Z",
     "iopub.status.idle": "2024-08-21T09:49:20.376609Z",
     "shell.execute_reply": "2024-08-21T09:49:20.376354Z"
    },
    "papermill": {
     "duration": 0.00476,
     "end_time": "2024-08-21T09:49:20.377422",
     "exception": false,
     "start_time": "2024-08-21T09:49:20.372662",
     "status": "completed"
    },
    "tags": []
   },
   "outputs": [],
   "source": [
    "# Experiment hyperparamters\n",
    "rng = np.random.RandomState(42)\n",
    "split_on_income = False  # if True: src := income>=50k, tgt :+ income<50k, if False: src := male, tgt := female\n",
    "n_samples = 1000"
   ]
  },
  {
   "cell_type": "code",
   "execution_count": 4,
   "id": "48ff09ec",
   "metadata": {
    "execution": {
     "iopub.execute_input": "2024-08-21T09:49:20.381415Z",
     "iopub.status.busy": "2024-08-21T09:49:20.381196Z",
     "iopub.status.idle": "2024-08-21T09:49:20.382884Z",
     "shell.execute_reply": "2024-08-21T09:49:20.382661Z"
    },
    "papermill": {
     "duration": 0.004775,
     "end_time": "2024-08-21T09:49:20.383596",
     "exception": false,
     "start_time": "2024-08-21T09:49:20.378821",
     "status": "completed"
    },
    "tags": [
     "parameters"
    ]
   },
   "outputs": [],
   "source": [
    "comparison_id = None"
   ]
  },
  {
   "cell_type": "code",
   "execution_count": 5,
   "id": "21da42d9",
   "metadata": {
    "execution": {
     "iopub.execute_input": "2024-08-21T09:49:20.388417Z",
     "iopub.status.busy": "2024-08-21T09:49:20.388273Z",
     "iopub.status.idle": "2024-08-21T09:49:20.389897Z",
     "shell.execute_reply": "2024-08-21T09:49:20.389684Z"
    },
    "papermill": {
     "duration": 0.004948,
     "end_time": "2024-08-21T09:49:20.390634",
     "exception": false,
     "start_time": "2024-08-21T09:49:20.385686",
     "status": "completed"
    },
    "tags": [
     "injected-parameters"
    ]
   },
   "outputs": [],
   "source": [
    "# Parameters\n",
    "comparison_id = 0\n"
   ]
  },
  {
   "cell_type": "code",
   "execution_count": 6,
   "id": "dade2b7e",
   "metadata": {
    "execution": {
     "iopub.execute_input": "2024-08-21T09:49:20.393484Z",
     "iopub.status.busy": "2024-08-21T09:49:20.393386Z",
     "iopub.status.idle": "2024-08-21T09:49:20.398531Z",
     "shell.execute_reply": "2024-08-21T09:49:20.398307Z"
    },
    "papermill": {
     "duration": 0.007418,
     "end_time": "2024-08-21T09:49:20.399308",
     "exception": false,
     "start_time": "2024-08-21T09:49:20.391890",
     "status": "completed"
    },
    "tags": []
   },
   "outputs": [
    {
     "name": "stdout",
     "output_type": "stream",
     "text": [
      "['Customer_id', 'Connection', 'Weight', 'Unit_type', 'Day', 'Week']\n"
     ]
    }
   ],
   "source": [
    "\n",
    "# Load the data\n",
    "comparison_dict = {0: [0,1], 1: [2,3], 2: [4,5]}\n",
    "path_customer_profiles = open('./Results_Experiments/File_Paths/path_customer_profiles.txt','r').read()\n",
    "path_transport_graphics = open('./Results_Experiments/File_Paths/path_transport_graphics.txt','r').read()\n",
    "source = pd.read_csv(f'../{path_customer_profiles}/customer_profile_{comparison_dict[comparison_id][0]}.csv')\n",
    "target = pd.read_csv(f'../{path_customer_profiles}/customer_profile_{comparison_dict[comparison_id][1]}.csv')\n",
    "\n",
    "feature_names = source.columns.values\n",
    "feature_names = list(feature_names)\n",
    "print(feature_names)"
   ]
  },
  {
   "cell_type": "code",
   "execution_count": 7,
   "id": "296df3b5",
   "metadata": {
    "execution": {
     "iopub.execute_input": "2024-08-21T09:49:20.403150Z",
     "iopub.status.busy": "2024-08-21T09:49:20.402930Z",
     "iopub.status.idle": "2024-08-21T09:49:20.441307Z",
     "shell.execute_reply": "2024-08-21T09:49:20.441005Z"
    },
    "papermill": {
     "duration": 0.041241,
     "end_time": "2024-08-21T09:49:20.442354",
     "exception": false,
     "start_time": "2024-08-21T09:49:20.401113",
     "status": "completed"
    },
    "tags": []
   },
   "outputs": [],
   "source": [
    "# standardize the source and target data, and convert to domain labels\n",
    "from sklearn.preprocessing import StandardScaler\n",
    "X = np.concatenate((source, target), axis=0)\n",
    "# standardize X to remove cardinatlity bias\n",
    "X = StandardScaler().fit_transform(X)\n",
    "y = np.concatenate((np.zeros(source.shape[0]),\n",
    "                    np.ones(target.shape[0])), axis=0)  # domain labels"
   ]
  },
  {
   "cell_type": "code",
   "execution_count": 8,
   "id": "c5422e1f",
   "metadata": {
    "execution": {
     "iopub.execute_input": "2024-08-21T09:49:20.446478Z",
     "iopub.status.busy": "2024-08-21T09:49:20.446235Z",
     "iopub.status.idle": "2024-08-21T09:49:20.501916Z",
     "shell.execute_reply": "2024-08-21T09:49:20.501631Z"
    },
    "papermill": {
     "duration": 0.058703,
     "end_time": "2024-08-21T09:49:20.502862",
     "exception": false,
     "start_time": "2024-08-21T09:49:20.444159",
     "status": "completed"
    },
    "tags": []
   },
   "outputs": [],
   "source": [
    "from sklearn.datasets import make_classification\n",
    "from sklearn.model_selection import train_test_split\n",
    "\n",
    "X_train, X_test, y_train, y_test = train_test_split(X, y,\n",
    "                                     stratify=y, random_state=42)"
   ]
  },
  {
   "cell_type": "code",
   "execution_count": 9,
   "id": "5d9ba299",
   "metadata": {
    "execution": {
     "iopub.execute_input": "2024-08-21T09:49:20.506374Z",
     "iopub.status.busy": "2024-08-21T09:49:20.506215Z",
     "iopub.status.idle": "2024-08-21T09:49:20.522545Z",
     "shell.execute_reply": "2024-08-21T09:49:20.522282Z"
    },
    "papermill": {
     "duration": 0.019005,
     "end_time": "2024-08-21T09:49:20.523468",
     "exception": false,
     "start_time": "2024-08-21T09:49:20.504463",
     "status": "completed"
    },
    "tags": []
   },
   "outputs": [],
   "source": [
    "# Using XGBoost\n",
    "import xgboost\n",
    "\n",
    "def fit_xgboost(X_train, y_train, X_test, y_test, feature_names=None):\n",
    "    \"\"\" Train an XGBoost model with early stopping.\n",
    "    \"\"\"\n",
    "    dtrain = xgboost.DMatrix(X_train, label=y_train, feature_names=feature_names)\n",
    "    dtest = xgboost.DMatrix(X_test, label=y_test, feature_names=feature_names)\n",
    "    # model = xgboost.train(\n",
    "    #     { \"eta\": 0.001, \"subsample\": 0.5, \"max_depth\": 2,\n",
    "    #       \"objective\": 'binary:logistic', 'eval_metric': 'logloss'}, dtrain, num_boost_round=200000,\n",
    "    #     evals=[(dtest,'eval'), (dtrain,'train')], early_stopping_rounds=20, verbose_eval=False\n",
    "    # )\n",
    "    model = xgboost.train(\n",
    "        {\"objective\": 'binary:logistic', 'eval_metric': 'logloss'},\n",
    "        dtrain,\n",
    "        evals=[(dtest,'eval'), (dtrain,'train')],\n",
    "        verbose_eval=False)\n",
    "    return model"
   ]
  },
  {
   "cell_type": "code",
   "execution_count": 10,
   "id": "bd7ac9f1",
   "metadata": {
    "execution": {
     "iopub.execute_input": "2024-08-21T09:49:20.526579Z",
     "iopub.status.busy": "2024-08-21T09:49:20.526475Z",
     "iopub.status.idle": "2024-08-21T09:49:20.542313Z",
     "shell.execute_reply": "2024-08-21T09:49:20.542049Z"
    },
    "papermill": {
     "duration": 0.018379,
     "end_time": "2024-08-21T09:49:20.543253",
     "exception": false,
     "start_time": "2024-08-21T09:49:20.524874",
     "status": "completed"
    },
    "tags": []
   },
   "outputs": [],
   "source": [
    "xgb_forest = fit_xgboost(X_train, y_train, X_test, y_test, feature_names)\n",
    "xgb_forest.feature_names = feature_names"
   ]
  },
  {
   "cell_type": "code",
   "execution_count": 11,
   "id": "dcaa3020",
   "metadata": {
    "execution": {
     "iopub.execute_input": "2024-08-21T09:49:20.546391Z",
     "iopub.status.busy": "2024-08-21T09:49:20.546283Z",
     "iopub.status.idle": "2024-08-21T09:49:20.548071Z",
     "shell.execute_reply": "2024-08-21T09:49:20.547864Z"
    },
    "papermill": {
     "duration": 0.004222,
     "end_time": "2024-08-21T09:49:20.548898",
     "exception": false,
     "start_time": "2024-08-21T09:49:20.544676",
     "status": "completed"
    },
    "tags": []
   },
   "outputs": [],
   "source": [
    "def get_acc(model, samples, labels, feature_names=None):\n",
    "    predictions = (model.predict(xgboost.DMatrix(samples,\n",
    "                                                 feature_names=feature_names)) > 0.5).astype(int)\n",
    "    return (predictions == labels).sum() / predictions.shape[0]"
   ]
  },
  {
   "cell_type": "code",
   "execution_count": 12,
   "id": "7ce6b380",
   "metadata": {
    "execution": {
     "iopub.execute_input": "2024-08-21T09:49:20.551912Z",
     "iopub.status.busy": "2024-08-21T09:49:20.551815Z",
     "iopub.status.idle": "2024-08-21T09:49:20.554634Z",
     "shell.execute_reply": "2024-08-21T09:49:20.554420Z"
    },
    "papermill": {
     "duration": 0.005152,
     "end_time": "2024-08-21T09:49:20.555352",
     "exception": false,
     "start_time": "2024-08-21T09:49:20.550200",
     "status": "completed"
    },
    "tags": []
   },
   "outputs": [
    {
     "name": "stdout",
     "output_type": "stream",
     "text": [
      "Train score: 0.9744479495268139\n",
      "Test score: 0.9526963103122044\n"
     ]
    }
   ],
   "source": [
    "print('Train score:', get_acc(xgb_forest, X_train, y_train, feature_names))\n",
    "print('Test score:', get_acc(xgb_forest, X_test, y_test, feature_names))"
   ]
  },
  {
   "cell_type": "code",
   "execution_count": 13,
   "id": "97a1d2b0",
   "metadata": {
    "execution": {
     "iopub.execute_input": "2024-08-21T09:49:20.558451Z",
     "iopub.status.busy": "2024-08-21T09:49:20.558341Z",
     "iopub.status.idle": "2024-08-21T09:49:20.808620Z",
     "shell.execute_reply": "2024-08-21T09:49:20.808378Z"
    },
    "papermill": {
     "duration": 0.252974,
     "end_time": "2024-08-21T09:49:20.809638",
     "exception": false,
     "start_time": "2024-08-21T09:49:20.556664",
     "status": "completed"
    },
    "tags": []
   },
   "outputs": [],
   "source": [
    "import shap\n",
    "import pandas as pd\n",
    "explainer = shap.Explainer(xgb_forest)\n",
    "\n",
    "shap_values = explainer(pd.DataFrame(X_test, columns=feature_names))\n"
   ]
  },
  {
   "cell_type": "code",
   "execution_count": 14,
   "id": "8e7a54a8",
   "metadata": {
    "execution": {
     "iopub.execute_input": "2024-08-21T09:49:20.812881Z",
     "iopub.status.busy": "2024-08-21T09:49:20.812720Z",
     "iopub.status.idle": "2024-08-21T09:49:21.206831Z",
     "shell.execute_reply": "2024-08-21T09:49:21.206522Z"
    },
    "papermill": {
     "duration": 0.396545,
     "end_time": "2024-08-21T09:49:21.207665",
     "exception": false,
     "start_time": "2024-08-21T09:49:20.811120",
     "status": "completed"
    },
    "tags": []
   },
   "outputs": [
    {
     "data": {
      "image/png": "[encoded data removed]",
      "text/plain": [
       "<Figure size 400x200 with 2 Axes>"
      ]
     },
     "metadata": {},
     "output_type": "display_data"
    }
   ],
   "source": [
    "# Beeswarm plot\n",
    "\n",
    "shap.plots.beeswarm(shap_values, show=False)\n",
    "fig = plt.gcf()\n",
    "fig.set_size_inches(4, 2, forward=True)\n",
    "if save_figures: plt.savefig(\n",
    "    f'../{path_transport_graphics}/logitics_data_on_customer_profile_{comparison_dict[comparison_id][0]} and customer_profile_{comparison_dict[comparison_id][1]}-shap-value.{save_parms[\"format\"]}',\n",
    "    **save_parms\n",
    "    )\n",
    "plt.show()"
   ]
  }
 ],
 "metadata": {
  "kernelspec": {
   "display_name": "Python 3.7.11 ('py37')",
   "language": "python",
   "name": "python3"
  },
  "language_info": {
   "codemirror_mode": {
    "name": "ipython",
    "version": 3
   },
   "file_extension": ".py",
   "mimetype": "text/x-python",
   "name": "python",
   "nbconvert_exporter": "python",
   "pygments_lexer": "ipython3",
   "version": "3.12.0"
  },
  "papermill": {
   "default_parameters": {},
   "duration": 2.834638,
   "end_time": "2024-08-21T09:49:21.526443",
   "environment_variables": {},
   "exception": null,
   "input_path": "experiment_baseline.ipynb",
   "output_path": "./Results_Experiments/Set_V_max_to_15/experiment_baseline_1.ipynb",
   "parameters": {
    "comparison_id": 0
   },
   "start_time": "2024-08-21T09:49:18.691805",
   "version": "2.6.0"
  },
  "vscode": {
   "interpreter": {
    "hash": "5ab0220f0ca30ec7bac8a7e209564eceae6d15412b9f87f3c2f91206aa8b151c"
   }
  }
 },
 "nbformat": 4,
 "nbformat_minor": 5
}