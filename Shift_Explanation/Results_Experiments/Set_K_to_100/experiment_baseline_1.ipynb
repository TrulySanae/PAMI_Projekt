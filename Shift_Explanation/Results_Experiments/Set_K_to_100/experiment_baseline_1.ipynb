{
 "cells": [
  {
   "cell_type": "code",
   "execution_count": 1,
   "id": "d05cab18",
   "metadata": {
    "execution": {
     "iopub.execute_input": "2024-08-21T12:09:57.149709Z",
     "iopub.status.busy": "2024-08-21T12:09:57.149417Z",
     "iopub.status.idle": "2024-08-21T12:09:57.973259Z",
     "shell.execute_reply": "2024-08-21T12:09:57.972933Z"
    },
    "papermill": {
     "duration": 0.829466,
     "end_time": "2024-08-21T12:09:57.974242",
     "exception": false,
     "start_time": "2024-08-21T12:09:57.144776",
     "status": "completed"
    },
    "tags": []
   },
   "outputs": [],
   "source": [
    "import matplotlib.pyplot as plt\n",
    "import numpy as np\n",
    "import pandas as pd\n",
    "from pathlib import Path\n",
    "import seaborn as sn\n",
    "from data_utils import load_and_preprocess_logistics_data"
   ]
  },
  {
   "cell_type": "code",
   "execution_count": 2,
   "id": "d6302d10",
   "metadata": {
    "execution": {
     "iopub.execute_input": "2024-08-21T12:09:57.977548Z",
     "iopub.status.busy": "2024-08-21T12:09:57.977384Z",
     "iopub.status.idle": "2024-08-21T12:09:57.980153Z",
     "shell.execute_reply": "2024-08-21T12:09:57.979949Z"
    },
    "papermill": {
     "duration": 0.005217,
     "end_time": "2024-08-21T12:09:57.980919",
     "exception": false,
     "start_time": "2024-08-21T12:09:57.975702",
     "status": "completed"
    },
    "tags": []
   },
   "outputs": [],
   "source": [
    "# Setting so that the plots look normal even when using dark-reader\n",
    "sn.set_style(\"whitegrid\")\n",
    "sn.set_context(context=\"paper\", font_scale=2)\n",
    "pal = sn.color_palette(\"Set1\")\n",
    "\n",
    "# Setting up specifics for plotting + saving\n",
    "save_figures = True\n",
    "add_legend = False\n",
    "add_title = False\n",
    "add_axis = False\n",
    "save_parms = {'format': 'pdf','bbox_inches':'tight', 'pad_inches':0.1}\n",
    "line_parms = {'linewidth':4, 'color':'k'}\n",
    "if save_figures:  # saves all figures in a figure directory in the local directory\n",
    "    figure_dir = Path('.') / 'figures' / 'adult-income-experiment'\n",
    "    if not figure_dir.exists():\n",
    "        figure_dir.mkdir(parents=True)"
   ]
  },
  {
   "cell_type": "code",
   "execution_count": 3,
   "id": "22d1d0e0",
   "metadata": {
    "execution": {
     "iopub.execute_input": "2024-08-21T12:09:57.983802Z",
     "iopub.status.busy": "2024-08-21T12:09:57.983702Z",
     "iopub.status.idle": "2024-08-21T12:09:57.985496Z",
     "shell.execute_reply": "2024-08-21T12:09:57.985284Z"
    },
    "papermill": {
     "duration": 0.003971,
     "end_time": "2024-08-21T12:09:57.986174",
     "exception": false,
     "start_time": "2024-08-21T12:09:57.982203",
     "status": "completed"
    },
    "tags": []
   },
   "outputs": [],
   "source": [
    "# Experiment hyperparamters\n",
    "rng = np.random.RandomState(42)\n",
    "split_on_income = False  # if True: src := income>=50k, tgt :+ income<50k, if False: src := male, tgt := female\n",
    "n_samples = 1000"
   ]
  },
  {
   "cell_type": "code",
   "execution_count": 4,
   "id": "48ff09ec",
   "metadata": {
    "execution": {
     "iopub.execute_input": "2024-08-21T12:09:57.989105Z",
     "iopub.status.busy": "2024-08-21T12:09:57.989002Z",
     "iopub.status.idle": "2024-08-21T12:09:57.990485Z",
     "shell.execute_reply": "2024-08-21T12:09:57.990281Z"
    },
    "papermill": {
     "duration": 0.00385,
     "end_time": "2024-08-21T12:09:57.991246",
     "exception": false,
     "start_time": "2024-08-21T12:09:57.987396",
     "status": "completed"
    },
    "tags": [
     "parameters"
    ]
   },
   "outputs": [],
   "source": [
    "comparison_id = None"
   ]
  },
  {
   "cell_type": "code",
   "execution_count": 5,
   "id": "dff2a579",
   "metadata": {
    "execution": {
     "iopub.execute_input": "2024-08-21T12:09:57.994081Z",
     "iopub.status.busy": "2024-08-21T12:09:57.993966Z",
     "iopub.status.idle": "2024-08-21T12:09:57.995513Z",
     "shell.execute_reply": "2024-08-21T12:09:57.995286Z"
    },
    "papermill": {
     "duration": 0.004103,
     "end_time": "2024-08-21T12:09:57.996499",
     "exception": false,
     "start_time": "2024-08-21T12:09:57.992396",
     "status": "completed"
    },
    "tags": [
     "injected-parameters"
    ]
   },
   "outputs": [],
   "source": [
    "# Parameters\n",
    "comparison_id = 0\n"
   ]
  },
  {
   "cell_type": "code",
   "execution_count": 6,
   "id": "dade2b7e",
   "metadata": {
    "execution": {
     "iopub.execute_input": "2024-08-21T12:09:57.999917Z",
     "iopub.status.busy": "2024-08-21T12:09:57.999779Z",
     "iopub.status.idle": "2024-08-21T12:09:58.016831Z",
     "shell.execute_reply": "2024-08-21T12:09:58.016599Z"
    },
    "papermill": {
     "duration": 0.019598,
     "end_time": "2024-08-21T12:09:58.017664",
     "exception": false,
     "start_time": "2024-08-21T12:09:57.998066",
     "status": "completed"
    },
    "tags": []
   },
   "outputs": [
    {
     "name": "stdout",
     "output_type": "stream",
     "text": [
      "Comparing customer_profile_0 and customer_profile_1\n",
      "Finished preprocessing logistic dataset. Split on customer_profile_0 and customer_profile_1 with resulting source shape: (996, 3), target shape: (996, 3).\n",
      "['Connection', 'Weight', 'Unit_type']\n"
     ]
    }
   ],
   "source": [
    "\n",
    "# Load the data\n",
    "comparison_dict = {0: [0,1], 1: [2,3], 2: [4,5]}\n",
    "path_customer_profiles = open('./Results_Experiments/File_Paths/path_customer_profiles.txt','r').read()\n",
    "path_transport_graphics = open('./Results_Experiments/File_Paths/path_transport_graphics.txt','r').read()\n",
    "source = pd.read_csv(f'../{path_customer_profiles}/customer_profile_{comparison_dict[comparison_id][0]}.csv')\n",
    "target = pd.read_csv(f'../{path_customer_profiles}/customer_profile_{comparison_dict[comparison_id][1]}.csv')\n",
    "equal_week_split = True\n",
    "source, target, feature_names = load_and_preprocess_logistics_data(rng, n_samples, return_column_names=True,equal_week_split=equal_week_split, comparison_id=\n",
    "            comparison_id, comparison_dict=comparison_dict)\n",
    "print(feature_names)"
   ]
  },
  {
   "cell_type": "code",
   "execution_count": 7,
   "id": "296df3b5",
   "metadata": {
    "execution": {
     "iopub.execute_input": "2024-08-21T12:09:58.020738Z",
     "iopub.status.busy": "2024-08-21T12:09:58.020630Z",
     "iopub.status.idle": "2024-08-21T12:09:58.023018Z",
     "shell.execute_reply": "2024-08-21T12:09:58.022801Z"
    },
    "papermill": {
     "duration": 0.004695,
     "end_time": "2024-08-21T12:09:58.023730",
     "exception": false,
     "start_time": "2024-08-21T12:09:58.019035",
     "status": "completed"
    },
    "tags": []
   },
   "outputs": [],
   "source": [
    "# standardize the source and target data, and convert to domain labels\n",
    "from sklearn.preprocessing import StandardScaler\n",
    "X = np.concatenate((source, target), axis=0)\n",
    "# standardize X to remove cardinatlity bias\n",
    "X = StandardScaler().fit_transform(X)\n",
    "y = np.concatenate((np.zeros(source.shape[0]),\n",
    "                    np.ones(target.shape[0])), axis=0)  # domain labels"
   ]
  },
  {
   "cell_type": "code",
   "execution_count": 8,
   "id": "c5422e1f",
   "metadata": {
    "execution": {
     "iopub.execute_input": "2024-08-21T12:09:58.026659Z",
     "iopub.status.busy": "2024-08-21T12:09:58.026554Z",
     "iopub.status.idle": "2024-08-21T12:09:58.075510Z",
     "shell.execute_reply": "2024-08-21T12:09:58.075220Z"
    },
    "papermill": {
     "duration": 0.051623,
     "end_time": "2024-08-21T12:09:58.076593",
     "exception": false,
     "start_time": "2024-08-21T12:09:58.024970",
     "status": "completed"
    },
    "tags": []
   },
   "outputs": [],
   "source": [
    "from sklearn.datasets import make_classification\n",
    "from sklearn.model_selection import train_test_split\n",
    "\n",
    "X_train, X_test, y_train, y_test = train_test_split(X, y,\n",
    "                                     stratify=y, random_state=42)"
   ]
  },
  {
   "cell_type": "code",
   "execution_count": 9,
   "id": "5d9ba299",
   "metadata": {
    "execution": {
     "iopub.execute_input": "2024-08-21T12:09:58.079869Z",
     "iopub.status.busy": "2024-08-21T12:09:58.079719Z",
     "iopub.status.idle": "2024-08-21T12:09:58.093505Z",
     "shell.execute_reply": "2024-08-21T12:09:58.093094Z"
    },
    "papermill": {
     "duration": 0.016523,
     "end_time": "2024-08-21T12:09:58.094638",
     "exception": false,
     "start_time": "2024-08-21T12:09:58.078115",
     "status": "completed"
    },
    "tags": []
   },
   "outputs": [],
   "source": [
    "# Using XGBoost\n",
    "import xgboost\n",
    "\n",
    "def fit_xgboost(X_train, y_train, X_test, y_test, feature_names=None):\n",
    "    \"\"\" Train an XGBoost model with early stopping.\n",
    "    \"\"\"\n",
    "    dtrain = xgboost.DMatrix(X_train, label=y_train, feature_names=feature_names)\n",
    "    dtest = xgboost.DMatrix(X_test, label=y_test, feature_names=feature_names)\n",
    "    # model = xgboost.train(\n",
    "    #     { \"eta\": 0.001, \"subsample\": 0.5, \"max_depth\": 2,\n",
    "    #       \"objective\": 'binary:logistic', 'eval_metric': 'logloss'}, dtrain, num_boost_round=200000,\n",
    "    #     evals=[(dtest,'eval'), (dtrain,'train')], early_stopping_rounds=20, verbose_eval=False\n",
    "    # )\n",
    "    model = xgboost.train(\n",
    "        {\"objective\": 'binary:logistic', 'eval_metric': 'logloss'},\n",
    "        dtrain,\n",
    "        evals=[(dtest,'eval'), (dtrain,'train')],\n",
    "        verbose_eval=False)\n",
    "    return model"
   ]
  },
  {
   "cell_type": "code",
   "execution_count": 10,
   "id": "bd7ac9f1",
   "metadata": {
    "execution": {
     "iopub.execute_input": "2024-08-21T12:09:58.097766Z",
     "iopub.status.busy": "2024-08-21T12:09:58.097656Z",
     "iopub.status.idle": "2024-08-21T12:09:58.112917Z",
     "shell.execute_reply": "2024-08-21T12:09:58.112523Z"
    },
    "papermill": {
     "duration": 0.017835,
     "end_time": "2024-08-21T12:09:58.113901",
     "exception": false,
     "start_time": "2024-08-21T12:09:58.096066",
     "status": "completed"
    },
    "tags": []
   },
   "outputs": [],
   "source": [
    "xgb_forest = fit_xgboost(X_train, y_train, X_test, y_test, feature_names)\n",
    "xgb_forest.feature_names = feature_names"
   ]
  },
  {
   "cell_type": "code",
   "execution_count": 11,
   "id": "dcaa3020",
   "metadata": {
    "execution": {
     "iopub.execute_input": "2024-08-21T12:09:58.117013Z",
     "iopub.status.busy": "2024-08-21T12:09:58.116904Z",
     "iopub.status.idle": "2024-08-21T12:09:58.118807Z",
     "shell.execute_reply": "2024-08-21T12:09:58.118574Z"
    },
    "papermill": {
     "duration": 0.004247,
     "end_time": "2024-08-21T12:09:58.119576",
     "exception": false,
     "start_time": "2024-08-21T12:09:58.115329",
     "status": "completed"
    },
    "tags": []
   },
   "outputs": [],
   "source": [
    "def get_acc(model, samples, labels, feature_names=None):\n",
    "    predictions = (model.predict(xgboost.DMatrix(samples,\n",
    "                                                 feature_names=feature_names)) > 0.5).astype(int)\n",
    "    return (predictions == labels).sum() / predictions.shape[0]"
   ]
  },
  {
   "cell_type": "code",
   "execution_count": 12,
   "id": "7ce6b380",
   "metadata": {
    "execution": {
     "iopub.execute_input": "2024-08-21T12:09:58.122465Z",
     "iopub.status.busy": "2024-08-21T12:09:58.122374Z",
     "iopub.status.idle": "2024-08-21T12:09:58.125193Z",
     "shell.execute_reply": "2024-08-21T12:09:58.124981Z"
    },
    "papermill": {
     "duration": 0.005102,
     "end_time": "2024-08-21T12:09:58.125918",
     "exception": false,
     "start_time": "2024-08-21T12:09:58.120816",
     "status": "completed"
    },
    "tags": []
   },
   "outputs": [
    {
     "name": "stdout",
     "output_type": "stream",
     "text": [
      "Train score: 0.7590361445783133\n",
      "Test score: 0.7008032128514057\n"
     ]
    }
   ],
   "source": [
    "print('Train score:', get_acc(xgb_forest, X_train, y_train, feature_names))\n",
    "print('Test score:', get_acc(xgb_forest, X_test, y_test, feature_names))"
   ]
  },
  {
   "cell_type": "code",
   "execution_count": 13,
   "id": "97a1d2b0",
   "metadata": {
    "execution": {
     "iopub.execute_input": "2024-08-21T12:09:58.128910Z",
     "iopub.status.busy": "2024-08-21T12:09:58.128814Z",
     "iopub.status.idle": "2024-08-21T12:09:58.368156Z",
     "shell.execute_reply": "2024-08-21T12:09:58.367884Z"
    },
    "papermill": {
     "duration": 0.241844,
     "end_time": "2024-08-21T12:09:58.369063",
     "exception": false,
     "start_time": "2024-08-21T12:09:58.127219",
     "status": "completed"
    },
    "tags": []
   },
   "outputs": [],
   "source": [
    "import shap\n",
    "import pandas as pd\n",
    "explainer = shap.Explainer(xgb_forest)\n",
    "\n",
    "shap_values = explainer(pd.DataFrame(X_test, columns=feature_names))\n"
   ]
  },
  {
   "cell_type": "code",
   "execution_count": 14,
   "id": "8e7a54a8",
   "metadata": {
    "execution": {
     "iopub.execute_input": "2024-08-21T12:09:58.372321Z",
     "iopub.status.busy": "2024-08-21T12:09:58.372174Z",
     "iopub.status.idle": "2024-08-21T12:09:58.673943Z",
     "shell.execute_reply": "2024-08-21T12:09:58.673687Z"
    },
    "papermill": {
     "duration": 0.304268,
     "end_time": "2024-08-21T12:09:58.674811",
     "exception": false,
     "start_time": "2024-08-21T12:09:58.370543",
     "status": "completed"
    },
    "tags": []
   },
   "outputs": [
    {
     "data": {
      "image/png": "[encoded data removed]",
      "text/plain": [
       "<Figure size 400x100 with 2 Axes>"
      ]
     },
     "metadata": {},
     "output_type": "display_data"
    }
   ],
   "source": [
    "# Beeswarm plot\n",
    "\n",
    "shap.plots.beeswarm(shap_values, show=False)\n",
    "fig = plt.gcf()\n",
    "fig.set_size_inches(4, 1, forward=True)\n",
    "if save_figures: plt.savefig(\n",
    "    f'../{path_transport_graphics}/logitics_data_on_customer_profile_{comparison_dict[comparison_id][0]} and customer_profile_{comparison_dict[comparison_id][1]}-shap-value.{save_parms[\"format\"]}',\n",
    "    **save_parms\n",
    "    )\n",
    "plt.show()"
   ]
  }
 ],
 "metadata": {
  "kernelspec": {
   "display_name": "Python 3.7.11 ('py37')",
   "language": "python",
   "name": "python3"
  },
  "language_info": {
   "codemirror_mode": {
    "name": "ipython",
    "version": 3
   },
   "file_extension": ".py",
   "mimetype": "text/x-python",
   "name": "python",
   "nbconvert_exporter": "python",
   "pygments_lexer": "ipython3",
   "version": "3.12.0"
  },
  "papermill": {
   "default_parameters": {},
   "duration": 2.438276,
   "end_time": "2024-08-21T12:09:58.993636",
   "environment_variables": {},
   "exception": null,
   "input_path": "experiment_baseline.ipynb",
   "output_path": "./Results_Experiments/Set_K_to_100/experiment_baseline_1.ipynb",
   "parameters": {
    "comparison_id": 0
   },
   "start_time": "2024-08-21T12:09:56.555360",
   "version": "2.6.0"
  },
  "vscode": {
   "interpreter": {
    "hash": "5ab0220f0ca30ec7bac8a7e209564eceae6d15412b9f87f3c2f91206aa8b151c"
   }
  }
 },
 "nbformat": 4,
 "nbformat_minor": 5
}