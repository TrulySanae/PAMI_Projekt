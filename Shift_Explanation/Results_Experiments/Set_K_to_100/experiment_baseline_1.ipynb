{
 "cells": [
  {
   "cell_type": "code",
   "execution_count": 1,
   "id": "d05cab18",
   "metadata": {
    "execution": {
     "iopub.execute_input": "2024-08-21T09:47:11.777548Z",
     "iopub.status.busy": "2024-08-21T09:47:11.777250Z",
     "iopub.status.idle": "2024-08-21T09:47:12.644956Z",
     "shell.execute_reply": "2024-08-21T09:47:12.644652Z"
    },
    "papermill": {
     "duration": 0.877823,
     "end_time": "2024-08-21T09:47:12.645967",
     "exception": false,
     "start_time": "2024-08-21T09:47:11.768144",
     "status": "completed"
    },
    "tags": []
   },
   "outputs": [],
   "source": [
    "import matplotlib.pyplot as plt\n",
    "import numpy as np\n",
    "import pandas as pd\n",
    "from pathlib import Path\n",
    "import seaborn as sn\n"
   ]
  },
  {
   "cell_type": "code",
   "execution_count": 2,
   "id": "d6302d10",
   "metadata": {
    "execution": {
     "iopub.execute_input": "2024-08-21T09:47:12.649253Z",
     "iopub.status.busy": "2024-08-21T09:47:12.649111Z",
     "iopub.status.idle": "2024-08-21T09:47:12.651777Z",
     "shell.execute_reply": "2024-08-21T09:47:12.651544Z"
    },
    "papermill": {
     "duration": 0.005014,
     "end_time": "2024-08-21T09:47:12.652488",
     "exception": false,
     "start_time": "2024-08-21T09:47:12.647474",
     "status": "completed"
    },
    "tags": []
   },
   "outputs": [],
   "source": [
    "# Setting so that the plots look normal even when using dark-reader\n",
    "sn.set_style(\"whitegrid\")\n",
    "sn.set_context(context=\"paper\", font_scale=2)\n",
    "pal = sn.color_palette(\"Set1\")\n",
    "\n",
    "# Setting up specifics for plotting + saving\n",
    "save_figures = True\n",
    "add_legend = False\n",
    "add_title = False\n",
    "add_axis = False\n",
    "save_parms = {'format': 'pdf','bbox_inches':'tight', 'pad_inches':0.1}\n",
    "line_parms = {'linewidth':4, 'color':'k'}\n",
    "if save_figures:  # saves all figures in a figure directory in the local directory\n",
    "    figure_dir = Path('.') / 'figures' / 'adult-income-experiment'\n",
    "    if not figure_dir.exists():\n",
    "        figure_dir.mkdir(parents=True)"
   ]
  },
  {
   "cell_type": "code",
   "execution_count": 3,
   "id": "22d1d0e0",
   "metadata": {
    "execution": {
     "iopub.execute_input": "2024-08-21T09:47:12.655586Z",
     "iopub.status.busy": "2024-08-21T09:47:12.655488Z",
     "iopub.status.idle": "2024-08-21T09:47:12.657287Z",
     "shell.execute_reply": "2024-08-21T09:47:12.657042Z"
    },
    "papermill": {
     "duration": 0.004278,
     "end_time": "2024-08-21T09:47:12.658053",
     "exception": false,
     "start_time": "2024-08-21T09:47:12.653775",
     "status": "completed"
    },
    "tags": []
   },
   "outputs": [],
   "source": [
    "# Experiment hyperparamters\n",
    "rng = np.random.RandomState(42)\n",
    "split_on_income = False  # if True: src := income>=50k, tgt :+ income<50k, if False: src := male, tgt := female\n",
    "n_samples = 1000"
   ]
  },
  {
   "cell_type": "code",
   "execution_count": 4,
   "id": "48ff09ec",
   "metadata": {
    "execution": {
     "iopub.execute_input": "2024-08-21T09:47:12.661009Z",
     "iopub.status.busy": "2024-08-21T09:47:12.660909Z",
     "iopub.status.idle": "2024-08-21T09:47:12.662307Z",
     "shell.execute_reply": "2024-08-21T09:47:12.662100Z"
    },
    "papermill": {
     "duration": 0.003766,
     "end_time": "2024-08-21T09:47:12.663056",
     "exception": false,
     "start_time": "2024-08-21T09:47:12.659290",
     "status": "completed"
    },
    "tags": [
     "parameters"
    ]
   },
   "outputs": [],
   "source": [
    "comparison_id = None"
   ]
  },
  {
   "cell_type": "code",
   "execution_count": 5,
   "id": "2303d201",
   "metadata": {
    "execution": {
     "iopub.execute_input": "2024-08-21T09:47:12.665799Z",
     "iopub.status.busy": "2024-08-21T09:47:12.665704Z",
     "iopub.status.idle": "2024-08-21T09:47:12.667110Z",
     "shell.execute_reply": "2024-08-21T09:47:12.666882Z"
    },
    "papermill": {
     "duration": 0.003587,
     "end_time": "2024-08-21T09:47:12.667839",
     "exception": false,
     "start_time": "2024-08-21T09:47:12.664252",
     "status": "completed"
    },
    "tags": [
     "injected-parameters"
    ]
   },
   "outputs": [],
   "source": [
    "# Parameters\n",
    "comparison_id = 0\n"
   ]
  },
  {
   "cell_type": "code",
   "execution_count": 6,
   "id": "dade2b7e",
   "metadata": {
    "execution": {
     "iopub.execute_input": "2024-08-21T09:47:12.671134Z",
     "iopub.status.busy": "2024-08-21T09:47:12.671022Z",
     "iopub.status.idle": "2024-08-21T09:47:12.680298Z",
     "shell.execute_reply": "2024-08-21T09:47:12.680053Z"
    },
    "papermill": {
     "duration": 0.011882,
     "end_time": "2024-08-21T09:47:12.681064",
     "exception": false,
     "start_time": "2024-08-21T09:47:12.669182",
     "status": "completed"
    },
    "tags": []
   },
   "outputs": [
    {
     "name": "stdout",
     "output_type": "stream",
     "text": [
      "['Customer_id', 'Connection', 'Weight', 'Unit_type', 'Day', 'Week']\n"
     ]
    }
   ],
   "source": [
    "\n",
    "# Load the data\n",
    "comparison_dict = {0: [0,1], 1: [2,3], 2: [4,5]}\n",
    "path_customer_profiles = open('./Results_Experiments/File_Paths/path_customer_profiles.txt','r').read()\n",
    "path_transport_graphics = open('./Results_Experiments/File_Paths/path_transport_graphics.txt','r').read()\n",
    "source = pd.read_csv(f'../{path_customer_profiles}/customer_profile_{comparison_dict[comparison_id][0]}.csv')\n",
    "target = pd.read_csv(f'../{path_customer_profiles}/customer_profile_{comparison_dict[comparison_id][1]}.csv')\n",
    "\n",
    "feature_names = source.columns.values\n",
    "feature_names = list(feature_names)\n",
    "print(feature_names)"
   ]
  },
  {
   "cell_type": "code",
   "execution_count": 7,
   "id": "296df3b5",
   "metadata": {
    "execution": {
     "iopub.execute_input": "2024-08-21T09:47:12.684238Z",
     "iopub.status.busy": "2024-08-21T09:47:12.684129Z",
     "iopub.status.idle": "2024-08-21T09:47:12.719290Z",
     "shell.execute_reply": "2024-08-21T09:47:12.719010Z"
    },
    "papermill": {
     "duration": 0.037702,
     "end_time": "2024-08-21T09:47:12.720186",
     "exception": false,
     "start_time": "2024-08-21T09:47:12.682484",
     "status": "completed"
    },
    "tags": []
   },
   "outputs": [],
   "source": [
    "# standardize the source and target data, and convert to domain labels\n",
    "from sklearn.preprocessing import StandardScaler\n",
    "X = np.concatenate((source, target), axis=0)\n",
    "# standardize X to remove cardinatlity bias\n",
    "X = StandardScaler().fit_transform(X)\n",
    "y = np.concatenate((np.zeros(source.shape[0]),\n",
    "                    np.ones(target.shape[0])), axis=0)  # domain labels"
   ]
  },
  {
   "cell_type": "code",
   "execution_count": 8,
   "id": "c5422e1f",
   "metadata": {
    "execution": {
     "iopub.execute_input": "2024-08-21T09:47:12.723370Z",
     "iopub.status.busy": "2024-08-21T09:47:12.723223Z",
     "iopub.status.idle": "2024-08-21T09:47:12.781157Z",
     "shell.execute_reply": "2024-08-21T09:47:12.780854Z"
    },
    "papermill": {
     "duration": 0.060498,
     "end_time": "2024-08-21T09:47:12.782084",
     "exception": false,
     "start_time": "2024-08-21T09:47:12.721586",
     "status": "completed"
    },
    "tags": []
   },
   "outputs": [],
   "source": [
    "from sklearn.datasets import make_classification\n",
    "from sklearn.model_selection import train_test_split\n",
    "\n",
    "X_train, X_test, y_train, y_test = train_test_split(X, y,\n",
    "                                     stratify=y, random_state=42)"
   ]
  },
  {
   "cell_type": "code",
   "execution_count": 9,
   "id": "5d9ba299",
   "metadata": {
    "execution": {
     "iopub.execute_input": "2024-08-21T09:47:12.785755Z",
     "iopub.status.busy": "2024-08-21T09:47:12.785566Z",
     "iopub.status.idle": "2024-08-21T09:47:12.801217Z",
     "shell.execute_reply": "2024-08-21T09:47:12.800946Z"
    },
    "papermill": {
     "duration": 0.018542,
     "end_time": "2024-08-21T09:47:12.802234",
     "exception": false,
     "start_time": "2024-08-21T09:47:12.783692",
     "status": "completed"
    },
    "tags": []
   },
   "outputs": [],
   "source": [
    "# Using XGBoost\n",
    "import xgboost\n",
    "\n",
    "def fit_xgboost(X_train, y_train, X_test, y_test, feature_names=None):\n",
    "    \"\"\" Train an XGBoost model with early stopping.\n",
    "    \"\"\"\n",
    "    dtrain = xgboost.DMatrix(X_train, label=y_train, feature_names=feature_names)\n",
    "    dtest = xgboost.DMatrix(X_test, label=y_test, feature_names=feature_names)\n",
    "    # model = xgboost.train(\n",
    "    #     { \"eta\": 0.001, \"subsample\": 0.5, \"max_depth\": 2,\n",
    "    #       \"objective\": 'binary:logistic', 'eval_metric': 'logloss'}, dtrain, num_boost_round=200000,\n",
    "    #     evals=[(dtest,'eval'), (dtrain,'train')], early_stopping_rounds=20, verbose_eval=False\n",
    "    # )\n",
    "    model = xgboost.train(\n",
    "        {\"objective\": 'binary:logistic', 'eval_metric': 'logloss'},\n",
    "        dtrain,\n",
    "        evals=[(dtest,'eval'), (dtrain,'train')],\n",
    "        verbose_eval=False)\n",
    "    return model"
   ]
  },
  {
   "cell_type": "code",
   "execution_count": 10,
   "id": "bd7ac9f1",
   "metadata": {
    "execution": {
     "iopub.execute_input": "2024-08-21T09:47:12.805711Z",
     "iopub.status.busy": "2024-08-21T09:47:12.805542Z",
     "iopub.status.idle": "2024-08-21T09:47:12.825097Z",
     "shell.execute_reply": "2024-08-21T09:47:12.824848Z"
    },
    "papermill": {
     "duration": 0.022294,
     "end_time": "2024-08-21T09:47:12.826109",
     "exception": false,
     "start_time": "2024-08-21T09:47:12.803815",
     "status": "completed"
    },
    "tags": []
   },
   "outputs": [],
   "source": [
    "xgb_forest = fit_xgboost(X_train, y_train, X_test, y_test, feature_names)\n",
    "xgb_forest.feature_names = feature_names"
   ]
  },
  {
   "cell_type": "code",
   "execution_count": 11,
   "id": "dcaa3020",
   "metadata": {
    "execution": {
     "iopub.execute_input": "2024-08-21T09:47:12.829178Z",
     "iopub.status.busy": "2024-08-21T09:47:12.829076Z",
     "iopub.status.idle": "2024-08-21T09:47:12.830988Z",
     "shell.execute_reply": "2024-08-21T09:47:12.830686Z"
    },
    "papermill": {
     "duration": 0.004217,
     "end_time": "2024-08-21T09:47:12.831725",
     "exception": false,
     "start_time": "2024-08-21T09:47:12.827508",
     "status": "completed"
    },
    "tags": []
   },
   "outputs": [],
   "source": [
    "def get_acc(model, samples, labels, feature_names=None):\n",
    "    predictions = (model.predict(xgboost.DMatrix(samples,\n",
    "                                                 feature_names=feature_names)) > 0.5).astype(int)\n",
    "    return (predictions == labels).sum() / predictions.shape[0]"
   ]
  },
  {
   "cell_type": "code",
   "execution_count": 12,
   "id": "7ce6b380",
   "metadata": {
    "execution": {
     "iopub.execute_input": "2024-08-21T09:47:12.834953Z",
     "iopub.status.busy": "2024-08-21T09:47:12.834847Z",
     "iopub.status.idle": "2024-08-21T09:47:12.838663Z",
     "shell.execute_reply": "2024-08-21T09:47:12.838433Z"
    },
    "papermill": {
     "duration": 0.006187,
     "end_time": "2024-08-21T09:47:12.839366",
     "exception": false,
     "start_time": "2024-08-21T09:47:12.833179",
     "status": "completed"
    },
    "tags": []
   },
   "outputs": [
    {
     "name": "stdout",
     "output_type": "stream",
     "text": [
      "Train score: 0.855523854810588\n",
      "Test score: 0.8438317090563346\n"
     ]
    }
   ],
   "source": [
    "print('Train score:', get_acc(xgb_forest, X_train, y_train, feature_names))\n",
    "print('Test score:', get_acc(xgb_forest, X_test, y_test, feature_names))"
   ]
  },
  {
   "cell_type": "code",
   "execution_count": 13,
   "id": "97a1d2b0",
   "metadata": {
    "execution": {
     "iopub.execute_input": "2024-08-21T09:47:12.842492Z",
     "iopub.status.busy": "2024-08-21T09:47:12.842391Z",
     "iopub.status.idle": "2024-08-21T09:47:13.113404Z",
     "shell.execute_reply": "2024-08-21T09:47:13.113042Z"
    },
    "papermill": {
     "duration": 0.274285,
     "end_time": "2024-08-21T09:47:13.115036",
     "exception": false,
     "start_time": "2024-08-21T09:47:12.840751",
     "status": "completed"
    },
    "tags": []
   },
   "outputs": [],
   "source": [
    "import shap\n",
    "import pandas as pd\n",
    "explainer = shap.Explainer(xgb_forest)\n",
    "\n",
    "shap_values = explainer(pd.DataFrame(X_test, columns=feature_names))\n"
   ]
  },
  {
   "cell_type": "code",
   "execution_count": 14,
   "id": "8e7a54a8",
   "metadata": {
    "execution": {
     "iopub.execute_input": "2024-08-21T09:47:13.119921Z",
     "iopub.status.busy": "2024-08-21T09:47:13.119721Z",
     "iopub.status.idle": "2024-08-21T09:47:13.681353Z",
     "shell.execute_reply": "2024-08-21T09:47:13.680706Z"
    },
    "papermill": {
     "duration": 0.56513,
     "end_time": "2024-08-21T09:47:13.682542",
     "exception": false,
     "start_time": "2024-08-21T09:47:13.117412",
     "status": "completed"
    },
    "tags": []
   },
   "outputs": [
    {
     "data": {
      "image/png": "[encoded data removed]",
      "text/plain": [
       "<Figure size 400x200 with 2 Axes>"
      ]
     },
     "metadata": {},
     "output_type": "display_data"
    }
   ],
   "source": [
    "# Beeswarm plot\n",
    "\n",
    "shap.plots.beeswarm(shap_values, show=False)\n",
    "fig = plt.gcf()\n",
    "fig.set_size_inches(4, 2, forward=True)\n",
    "if save_figures: plt.savefig(\n",
    "    f'../{path_transport_graphics}/logitics_data_on_customer_profile_{comparison_dict[comparison_id][0]} and customer_profile_{comparison_dict[comparison_id][1]}-shap-value.{save_parms[\"format\"]}',\n",
    "    **save_parms\n",
    "    )\n",
    "plt.show()"
   ]
  }
 ],
 "metadata": {
  "kernelspec": {
   "display_name": "Python 3.7.11 ('py37')",
   "language": "python",
   "name": "python3"
  },
  "language_info": {
   "codemirror_mode": {
    "name": "ipython",
    "version": 3
   },
   "file_extension": ".py",
   "mimetype": "text/x-python",
   "name": "python",
   "nbconvert_exporter": "python",
   "pygments_lexer": "ipython3",
   "version": "3.12.0"
  },
  "papermill": {
   "default_parameters": {},
   "duration": 2.962901,
   "end_time": "2024-08-21T09:47:14.001582",
   "environment_variables": {},
   "exception": null,
   "input_path": "experiment_baseline.ipynb",
   "output_path": "./Results_Experiments/Set_K_to_100/experiment_baseline_1.ipynb",
   "parameters": {
    "comparison_id": 0
   },
   "start_time": "2024-08-21T09:47:11.038681",
   "version": "2.6.0"
  },
  "vscode": {
   "interpreter": {
    "hash": "5ab0220f0ca30ec7bac8a7e209564eceae6d15412b9f87f3c2f91206aa8b151c"
   }
  }
 },
 "nbformat": 4,
 "nbformat_minor": 5
}