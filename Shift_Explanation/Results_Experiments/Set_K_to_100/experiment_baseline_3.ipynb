{
 "cells": [
  {
   "cell_type": "code",
   "execution_count": 1,
   "id": "d05cab18",
   "metadata": {
    "execution": {
     "iopub.execute_input": "2024-08-21T12:10:02.269013Z",
     "iopub.status.busy": "2024-08-21T12:10:02.268686Z",
     "iopub.status.idle": "2024-08-21T12:10:03.082499Z",
     "shell.execute_reply": "2024-08-21T12:10:03.082179Z"
    },
    "papermill": {
     "duration": 0.820847,
     "end_time": "2024-08-21T12:10:03.083522",
     "exception": false,
     "start_time": "2024-08-21T12:10:02.262675",
     "status": "completed"
    },
    "tags": []
   },
   "outputs": [],
   "source": [
    "import matplotlib.pyplot as plt\n",
    "import numpy as np\n",
    "import pandas as pd\n",
    "from pathlib import Path\n",
    "import seaborn as sn\n",
    "from data_utils import load_and_preprocess_logistics_data"
   ]
  },
  {
   "cell_type": "code",
   "execution_count": 2,
   "id": "d6302d10",
   "metadata": {
    "execution": {
     "iopub.execute_input": "2024-08-21T12:10:03.086734Z",
     "iopub.status.busy": "2024-08-21T12:10:03.086583Z",
     "iopub.status.idle": "2024-08-21T12:10:03.089264Z",
     "shell.execute_reply": "2024-08-21T12:10:03.089042Z"
    },
    "papermill": {
     "duration": 0.004976,
     "end_time": "2024-08-21T12:10:03.089960",
     "exception": false,
     "start_time": "2024-08-21T12:10:03.084984",
     "status": "completed"
    },
    "tags": []
   },
   "outputs": [],
   "source": [
    "# Setting so that the plots look normal even when using dark-reader\n",
    "sn.set_style(\"whitegrid\")\n",
    "sn.set_context(context=\"paper\", font_scale=2)\n",
    "pal = sn.color_palette(\"Set1\")\n",
    "\n",
    "# Setting up specifics for plotting + saving\n",
    "save_figures = True\n",
    "add_legend = False\n",
    "add_title = False\n",
    "add_axis = False\n",
    "save_parms = {'format': 'pdf','bbox_inches':'tight', 'pad_inches':0.1}\n",
    "line_parms = {'linewidth':4, 'color':'k'}\n",
    "if save_figures:  # saves all figures in a figure directory in the local directory\n",
    "    figure_dir = Path('.') / 'figures' / 'adult-income-experiment'\n",
    "    if not figure_dir.exists():\n",
    "        figure_dir.mkdir(parents=True)"
   ]
  },
  {
   "cell_type": "code",
   "execution_count": 3,
   "id": "22d1d0e0",
   "metadata": {
    "execution": {
     "iopub.execute_input": "2024-08-21T12:10:03.093133Z",
     "iopub.status.busy": "2024-08-21T12:10:03.093009Z",
     "iopub.status.idle": "2024-08-21T12:10:03.095132Z",
     "shell.execute_reply": "2024-08-21T12:10:03.094718Z"
    },
    "papermill": {
     "duration": 0.005102,
     "end_time": "2024-08-21T12:10:03.096220",
     "exception": false,
     "start_time": "2024-08-21T12:10:03.091118",
     "status": "completed"
    },
    "tags": []
   },
   "outputs": [],
   "source": [
    "# Experiment hyperparamters\n",
    "rng = np.random.RandomState(42)\n",
    "split_on_income = False  # if True: src := income>=50k, tgt :+ income<50k, if False: src := male, tgt := female\n",
    "n_samples = 1000"
   ]
  },
  {
   "cell_type": "code",
   "execution_count": 4,
   "id": "48ff09ec",
   "metadata": {
    "execution": {
     "iopub.execute_input": "2024-08-21T12:10:03.099664Z",
     "iopub.status.busy": "2024-08-21T12:10:03.099535Z",
     "iopub.status.idle": "2024-08-21T12:10:03.101142Z",
     "shell.execute_reply": "2024-08-21T12:10:03.100909Z"
    },
    "papermill": {
     "duration": 0.004204,
     "end_time": "2024-08-21T12:10:03.101876",
     "exception": false,
     "start_time": "2024-08-21T12:10:03.097672",
     "status": "completed"
    },
    "tags": [
     "parameters"
    ]
   },
   "outputs": [],
   "source": [
    "comparison_id = None"
   ]
  },
  {
   "cell_type": "code",
   "execution_count": 5,
   "id": "19b9d8c3",
   "metadata": {
    "execution": {
     "iopub.execute_input": "2024-08-21T12:10:03.104607Z",
     "iopub.status.busy": "2024-08-21T12:10:03.104520Z",
     "iopub.status.idle": "2024-08-21T12:10:03.105908Z",
     "shell.execute_reply": "2024-08-21T12:10:03.105711Z"
    },
    "papermill": {
     "duration": 0.003514,
     "end_time": "2024-08-21T12:10:03.106591",
     "exception": false,
     "start_time": "2024-08-21T12:10:03.103077",
     "status": "completed"
    },
    "tags": [
     "injected-parameters"
    ]
   },
   "outputs": [],
   "source": [
    "# Parameters\n",
    "comparison_id = 2\n"
   ]
  },
  {
   "cell_type": "code",
   "execution_count": 6,
   "id": "dade2b7e",
   "metadata": {
    "execution": {
     "iopub.execute_input": "2024-08-21T12:10:03.109454Z",
     "iopub.status.busy": "2024-08-21T12:10:03.109349Z",
     "iopub.status.idle": "2024-08-21T12:10:03.125951Z",
     "shell.execute_reply": "2024-08-21T12:10:03.125691Z"
    },
    "papermill": {
     "duration": 0.018936,
     "end_time": "2024-08-21T12:10:03.126755",
     "exception": false,
     "start_time": "2024-08-21T12:10:03.107819",
     "status": "completed"
    },
    "tags": []
   },
   "outputs": [
    {
     "name": "stdout",
     "output_type": "stream",
     "text": [
      "Comparing customer_profile_4 and customer_profile_5\n",
      "Finished preprocessing logistic dataset. Split on customer_profile_4 and customer_profile_5 with resulting source shape: (996, 3), target shape: (996, 3).\n",
      "['Connection', 'Weight', 'Unit_type']\n"
     ]
    }
   ],
   "source": [
    "\n",
    "# Load the data\n",
    "comparison_dict = {0: [0,1], 1: [2,3], 2: [4,5]}\n",
    "path_customer_profiles = open('./Results_Experiments/File_Paths/path_customer_profiles.txt','r').read()\n",
    "path_transport_graphics = open('./Results_Experiments/File_Paths/path_transport_graphics.txt','r').read()\n",
    "source = pd.read_csv(f'../{path_customer_profiles}/customer_profile_{comparison_dict[comparison_id][0]}.csv')\n",
    "target = pd.read_csv(f'../{path_customer_profiles}/customer_profile_{comparison_dict[comparison_id][1]}.csv')\n",
    "equal_week_split = True\n",
    "source, target, feature_names = load_and_preprocess_logistics_data(rng, n_samples, return_column_names=True,equal_week_split=equal_week_split, comparison_id=\n",
    "            comparison_id, comparison_dict=comparison_dict)\n",
    "print(feature_names)"
   ]
  },
  {
   "cell_type": "code",
   "execution_count": 7,
   "id": "296df3b5",
   "metadata": {
    "execution": {
     "iopub.execute_input": "2024-08-21T12:10:03.129783Z",
     "iopub.status.busy": "2024-08-21T12:10:03.129684Z",
     "iopub.status.idle": "2024-08-21T12:10:03.132057Z",
     "shell.execute_reply": "2024-08-21T12:10:03.131842Z"
    },
    "papermill": {
     "duration": 0.004659,
     "end_time": "2024-08-21T12:10:03.132782",
     "exception": false,
     "start_time": "2024-08-21T12:10:03.128123",
     "status": "completed"
    },
    "tags": []
   },
   "outputs": [],
   "source": [
    "# standardize the source and target data, and convert to domain labels\n",
    "from sklearn.preprocessing import StandardScaler\n",
    "X = np.concatenate((source, target), axis=0)\n",
    "# standardize X to remove cardinatlity bias\n",
    "X = StandardScaler().fit_transform(X)\n",
    "y = np.concatenate((np.zeros(source.shape[0]),\n",
    "                    np.ones(target.shape[0])), axis=0)  # domain labels"
   ]
  },
  {
   "cell_type": "code",
   "execution_count": 8,
   "id": "c5422e1f",
   "metadata": {
    "execution": {
     "iopub.execute_input": "2024-08-21T12:10:03.135662Z",
     "iopub.status.busy": "2024-08-21T12:10:03.135572Z",
     "iopub.status.idle": "2024-08-21T12:10:03.188150Z",
     "shell.execute_reply": "2024-08-21T12:10:03.187885Z"
    },
    "papermill": {
     "duration": 0.055024,
     "end_time": "2024-08-21T12:10:03.189041",
     "exception": false,
     "start_time": "2024-08-21T12:10:03.134017",
     "status": "completed"
    },
    "tags": []
   },
   "outputs": [],
   "source": [
    "from sklearn.datasets import make_classification\n",
    "from sklearn.model_selection import train_test_split\n",
    "\n",
    "X_train, X_test, y_train, y_test = train_test_split(X, y,\n",
    "                                     stratify=y, random_state=42)"
   ]
  },
  {
   "cell_type": "code",
   "execution_count": 9,
   "id": "5d9ba299",
   "metadata": {
    "execution": {
     "iopub.execute_input": "2024-08-21T12:10:03.192268Z",
     "iopub.status.busy": "2024-08-21T12:10:03.192120Z",
     "iopub.status.idle": "2024-08-21T12:10:03.207244Z",
     "shell.execute_reply": "2024-08-21T12:10:03.206988Z"
    },
    "papermill": {
     "duration": 0.017632,
     "end_time": "2024-08-21T12:10:03.208123",
     "exception": false,
     "start_time": "2024-08-21T12:10:03.190491",
     "status": "completed"
    },
    "tags": []
   },
   "outputs": [],
   "source": [
    "# Using XGBoost\n",
    "import xgboost\n",
    "\n",
    "def fit_xgboost(X_train, y_train, X_test, y_test, feature_names=None):\n",
    "    \"\"\" Train an XGBoost model with early stopping.\n",
    "    \"\"\"\n",
    "    dtrain = xgboost.DMatrix(X_train, label=y_train, feature_names=feature_names)\n",
    "    dtest = xgboost.DMatrix(X_test, label=y_test, feature_names=feature_names)\n",
    "    # model = xgboost.train(\n",
    "    #     { \"eta\": 0.001, \"subsample\": 0.5, \"max_depth\": 2,\n",
    "    #       \"objective\": 'binary:logistic', 'eval_metric': 'logloss'}, dtrain, num_boost_round=200000,\n",
    "    #     evals=[(dtest,'eval'), (dtrain,'train')], early_stopping_rounds=20, verbose_eval=False\n",
    "    # )\n",
    "    model = xgboost.train(\n",
    "        {\"objective\": 'binary:logistic', 'eval_metric': 'logloss'},\n",
    "        dtrain,\n",
    "        evals=[(dtest,'eval'), (dtrain,'train')],\n",
    "        verbose_eval=False)\n",
    "    return model"
   ]
  },
  {
   "cell_type": "code",
   "execution_count": 10,
   "id": "bd7ac9f1",
   "metadata": {
    "execution": {
     "iopub.execute_input": "2024-08-21T12:10:03.211558Z",
     "iopub.status.busy": "2024-08-21T12:10:03.211442Z",
     "iopub.status.idle": "2024-08-21T12:10:03.225803Z",
     "shell.execute_reply": "2024-08-21T12:10:03.225541Z"
    },
    "papermill": {
     "duration": 0.017135,
     "end_time": "2024-08-21T12:10:03.226653",
     "exception": false,
     "start_time": "2024-08-21T12:10:03.209518",
     "status": "completed"
    },
    "tags": []
   },
   "outputs": [],
   "source": [
    "xgb_forest = fit_xgboost(X_train, y_train, X_test, y_test, feature_names)\n",
    "xgb_forest.feature_names = feature_names"
   ]
  },
  {
   "cell_type": "code",
   "execution_count": 11,
   "id": "dcaa3020",
   "metadata": {
    "execution": {
     "iopub.execute_input": "2024-08-21T12:10:03.229717Z",
     "iopub.status.busy": "2024-08-21T12:10:03.229618Z",
     "iopub.status.idle": "2024-08-21T12:10:03.231473Z",
     "shell.execute_reply": "2024-08-21T12:10:03.231283Z"
    },
    "papermill": {
     "duration": 0.004097,
     "end_time": "2024-08-21T12:10:03.232138",
     "exception": false,
     "start_time": "2024-08-21T12:10:03.228041",
     "status": "completed"
    },
    "tags": []
   },
   "outputs": [],
   "source": [
    "def get_acc(model, samples, labels, feature_names=None):\n",
    "    predictions = (model.predict(xgboost.DMatrix(samples,\n",
    "                                                 feature_names=feature_names)) > 0.5).astype(int)\n",
    "    return (predictions == labels).sum() / predictions.shape[0]"
   ]
  },
  {
   "cell_type": "code",
   "execution_count": 12,
   "id": "7ce6b380",
   "metadata": {
    "execution": {
     "iopub.execute_input": "2024-08-21T12:10:03.235110Z",
     "iopub.status.busy": "2024-08-21T12:10:03.235011Z",
     "iopub.status.idle": "2024-08-21T12:10:03.237714Z",
     "shell.execute_reply": "2024-08-21T12:10:03.237503Z"
    },
    "papermill": {
     "duration": 0.00503,
     "end_time": "2024-08-21T12:10:03.238427",
     "exception": false,
     "start_time": "2024-08-21T12:10:03.233397",
     "status": "completed"
    },
    "tags": []
   },
   "outputs": [
    {
     "name": "stdout",
     "output_type": "stream",
     "text": [
      "Train score: 0.748995983935743\n",
      "Test score: 0.6244979919678715\n"
     ]
    }
   ],
   "source": [
    "print('Train score:', get_acc(xgb_forest, X_train, y_train, feature_names))\n",
    "print('Test score:', get_acc(xgb_forest, X_test, y_test, feature_names))"
   ]
  },
  {
   "cell_type": "code",
   "execution_count": 13,
   "id": "97a1d2b0",
   "metadata": {
    "execution": {
     "iopub.execute_input": "2024-08-21T12:10:03.241366Z",
     "iopub.status.busy": "2024-08-21T12:10:03.241276Z",
     "iopub.status.idle": "2024-08-21T12:10:03.497175Z",
     "shell.execute_reply": "2024-08-21T12:10:03.496915Z"
    },
    "papermill": {
     "duration": 0.258405,
     "end_time": "2024-08-21T12:10:03.498116",
     "exception": false,
     "start_time": "2024-08-21T12:10:03.239711",
     "status": "completed"
    },
    "tags": []
   },
   "outputs": [],
   "source": [
    "import shap\n",
    "import pandas as pd\n",
    "explainer = shap.Explainer(xgb_forest)\n",
    "\n",
    "shap_values = explainer(pd.DataFrame(X_test, columns=feature_names))\n"
   ]
  },
  {
   "cell_type": "code",
   "execution_count": 14,
   "id": "8e7a54a8",
   "metadata": {
    "execution": {
     "iopub.execute_input": "2024-08-21T12:10:03.501430Z",
     "iopub.status.busy": "2024-08-21T12:10:03.501291Z",
     "iopub.status.idle": "2024-08-21T12:10:03.834808Z",
     "shell.execute_reply": "2024-08-21T12:10:03.834511Z"
    },
    "papermill": {
     "duration": 0.335967,
     "end_time": "2024-08-21T12:10:03.835611",
     "exception": false,
     "start_time": "2024-08-21T12:10:03.499644",
     "status": "completed"
    },
    "tags": []
   },
   "outputs": [
    {
     "data": {
      "image/png": "[encoded data removed]",
      "text/plain": [
       "<Figure size 400x100 with 2 Axes>"
      ]
     },
     "metadata": {},
     "output_type": "display_data"
    }
   ],
   "source": [
    "# Beeswarm plot\n",
    "\n",
    "shap.plots.beeswarm(shap_values, show=False)\n",
    "fig = plt.gcf()\n",
    "fig.set_size_inches(4, 1, forward=True)\n",
    "if save_figures: plt.savefig(\n",
    "    f'../{path_transport_graphics}/logitics_data_on_customer_profile_{comparison_dict[comparison_id][0]} and customer_profile_{comparison_dict[comparison_id][1]}-shap-value.{save_parms[\"format\"]}',\n",
    "    **save_parms\n",
    "    )\n",
    "plt.show()"
   ]
  }
 ],
 "metadata": {
  "kernelspec": {
   "display_name": "Python 3.7.11 ('py37')",
   "language": "python",
   "name": "python3"
  },
  "language_info": {
   "codemirror_mode": {
    "name": "ipython",
    "version": 3
   },
   "file_extension": ".py",
   "mimetype": "text/x-python",
   "name": "python",
   "nbconvert_exporter": "python",
   "pygments_lexer": "ipython3",
   "version": "3.12.0"
  },
  "papermill": {
   "default_parameters": {},
   "duration": 2.671044,
   "end_time": "2024-08-21T12:10:04.154348",
   "environment_variables": {},
   "exception": null,
   "input_path": "experiment_baseline.ipynb",
   "output_path": "./Results_Experiments/Set_K_to_100/experiment_baseline_3.ipynb",
   "parameters": {
    "comparison_id": 2
   },
   "start_time": "2024-08-21T12:10:01.483304",
   "version": "2.6.0"
  },
  "vscode": {
   "interpreter": {
    "hash": "5ab0220f0ca30ec7bac8a7e209564eceae6d15412b9f87f3c2f91206aa8b151c"
   }
  }
 },
 "nbformat": 4,
 "nbformat_minor": 5
}