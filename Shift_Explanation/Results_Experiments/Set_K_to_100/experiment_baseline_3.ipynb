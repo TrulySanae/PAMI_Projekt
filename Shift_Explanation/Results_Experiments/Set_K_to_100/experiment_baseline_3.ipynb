{
 "cells": [
  {
   "cell_type": "code",
   "execution_count": 1,
   "id": "d05cab18",
   "metadata": {
    "execution": {
     "iopub.execute_input": "2024-08-21T09:47:17.615095Z",
     "iopub.status.busy": "2024-08-21T09:47:17.614773Z",
     "iopub.status.idle": "2024-08-21T09:47:18.488455Z",
     "shell.execute_reply": "2024-08-21T09:47:18.488139Z"
    },
    "papermill": {
     "duration": 0.882665,
     "end_time": "2024-08-21T09:47:18.489602",
     "exception": false,
     "start_time": "2024-08-21T09:47:17.606937",
     "status": "completed"
    },
    "tags": []
   },
   "outputs": [],
   "source": [
    "import matplotlib.pyplot as plt\n",
    "import numpy as np\n",
    "import pandas as pd\n",
    "from pathlib import Path\n",
    "import seaborn as sn\n"
   ]
  },
  {
   "cell_type": "code",
   "execution_count": 2,
   "id": "d6302d10",
   "metadata": {
    "execution": {
     "iopub.execute_input": "2024-08-21T09:47:18.492916Z",
     "iopub.status.busy": "2024-08-21T09:47:18.492771Z",
     "iopub.status.idle": "2024-08-21T09:47:18.495403Z",
     "shell.execute_reply": "2024-08-21T09:47:18.495171Z"
    },
    "papermill": {
     "duration": 0.004973,
     "end_time": "2024-08-21T09:47:18.496104",
     "exception": false,
     "start_time": "2024-08-21T09:47:18.491131",
     "status": "completed"
    },
    "tags": []
   },
   "outputs": [],
   "source": [
    "# Setting so that the plots look normal even when using dark-reader\n",
    "sn.set_style(\"whitegrid\")\n",
    "sn.set_context(context=\"paper\", font_scale=2)\n",
    "pal = sn.color_palette(\"Set1\")\n",
    "\n",
    "# Setting up specifics for plotting + saving\n",
    "save_figures = True\n",
    "add_legend = False\n",
    "add_title = False\n",
    "add_axis = False\n",
    "save_parms = {'format': 'pdf','bbox_inches':'tight', 'pad_inches':0.1}\n",
    "line_parms = {'linewidth':4, 'color':'k'}\n",
    "if save_figures:  # saves all figures in a figure directory in the local directory\n",
    "    figure_dir = Path('.') / 'figures' / 'adult-income-experiment'\n",
    "    if not figure_dir.exists():\n",
    "        figure_dir.mkdir(parents=True)"
   ]
  },
  {
   "cell_type": "code",
   "execution_count": 3,
   "id": "22d1d0e0",
   "metadata": {
    "execution": {
     "iopub.execute_input": "2024-08-21T09:47:18.499735Z",
     "iopub.status.busy": "2024-08-21T09:47:18.499594Z",
     "iopub.status.idle": "2024-08-21T09:47:18.501697Z",
     "shell.execute_reply": "2024-08-21T09:47:18.501397Z"
    },
    "papermill": {
     "duration": 0.005189,
     "end_time": "2024-08-21T09:47:18.502666",
     "exception": false,
     "start_time": "2024-08-21T09:47:18.497477",
     "status": "completed"
    },
    "tags": []
   },
   "outputs": [],
   "source": [
    "# Experiment hyperparamters\n",
    "rng = np.random.RandomState(42)\n",
    "split_on_income = False  # if True: src := income>=50k, tgt :+ income<50k, if False: src := male, tgt := female\n",
    "n_samples = 1000"
   ]
  },
  {
   "cell_type": "code",
   "execution_count": 4,
   "id": "48ff09ec",
   "metadata": {
    "execution": {
     "iopub.execute_input": "2024-08-21T09:47:18.506458Z",
     "iopub.status.busy": "2024-08-21T09:47:18.505797Z",
     "iopub.status.idle": "2024-08-21T09:47:18.508336Z",
     "shell.execute_reply": "2024-08-21T09:47:18.508075Z"
    },
    "papermill": {
     "duration": 0.005039,
     "end_time": "2024-08-21T09:47:18.509137",
     "exception": false,
     "start_time": "2024-08-21T09:47:18.504098",
     "status": "completed"
    },
    "tags": [
     "parameters"
    ]
   },
   "outputs": [],
   "source": [
    "comparison_id = None"
   ]
  },
  {
   "cell_type": "code",
   "execution_count": 5,
   "id": "2798aa87",
   "metadata": {
    "execution": {
     "iopub.execute_input": "2024-08-21T09:47:18.513981Z",
     "iopub.status.busy": "2024-08-21T09:47:18.513758Z",
     "iopub.status.idle": "2024-08-21T09:47:18.515458Z",
     "shell.execute_reply": "2024-08-21T09:47:18.515154Z"
    },
    "papermill": {
     "duration": 0.004515,
     "end_time": "2024-08-21T09:47:18.516530",
     "exception": false,
     "start_time": "2024-08-21T09:47:18.512015",
     "status": "completed"
    },
    "tags": [
     "injected-parameters"
    ]
   },
   "outputs": [],
   "source": [
    "# Parameters\n",
    "comparison_id = 2\n"
   ]
  },
  {
   "cell_type": "code",
   "execution_count": 6,
   "id": "dade2b7e",
   "metadata": {
    "execution": {
     "iopub.execute_input": "2024-08-21T09:47:18.520101Z",
     "iopub.status.busy": "2024-08-21T09:47:18.519981Z",
     "iopub.status.idle": "2024-08-21T09:47:18.527937Z",
     "shell.execute_reply": "2024-08-21T09:47:18.527683Z"
    },
    "papermill": {
     "duration": 0.010693,
     "end_time": "2024-08-21T09:47:18.528771",
     "exception": false,
     "start_time": "2024-08-21T09:47:18.518078",
     "status": "completed"
    },
    "tags": []
   },
   "outputs": [
    {
     "name": "stdout",
     "output_type": "stream",
     "text": [
      "['Customer_id', 'Connection', 'Weight', 'Unit_type', 'Day', 'Week']\n"
     ]
    }
   ],
   "source": [
    "\n",
    "# Load the data\n",
    "comparison_dict = {0: [0,1], 1: [2,3], 2: [4,5]}\n",
    "path_customer_profiles = open('./Results_Experiments/File_Paths/path_customer_profiles.txt','r').read()\n",
    "path_transport_graphics = open('./Results_Experiments/File_Paths/path_transport_graphics.txt','r').read()\n",
    "source = pd.read_csv(f'../{path_customer_profiles}/customer_profile_{comparison_dict[comparison_id][0]}.csv')\n",
    "target = pd.read_csv(f'../{path_customer_profiles}/customer_profile_{comparison_dict[comparison_id][1]}.csv')\n",
    "\n",
    "feature_names = source.columns.values\n",
    "feature_names = list(feature_names)\n",
    "print(feature_names)"
   ]
  },
  {
   "cell_type": "code",
   "execution_count": 7,
   "id": "296df3b5",
   "metadata": {
    "execution": {
     "iopub.execute_input": "2024-08-21T09:47:18.532202Z",
     "iopub.status.busy": "2024-08-21T09:47:18.532001Z",
     "iopub.status.idle": "2024-08-21T09:47:18.566298Z",
     "shell.execute_reply": "2024-08-21T09:47:18.566007Z"
    },
    "papermill": {
     "duration": 0.036926,
     "end_time": "2024-08-21T09:47:18.567228",
     "exception": false,
     "start_time": "2024-08-21T09:47:18.530302",
     "status": "completed"
    },
    "tags": []
   },
   "outputs": [],
   "source": [
    "# standardize the source and target data, and convert to domain labels\n",
    "from sklearn.preprocessing import StandardScaler\n",
    "X = np.concatenate((source, target), axis=0)\n",
    "# standardize X to remove cardinatlity bias\n",
    "X = StandardScaler().fit_transform(X)\n",
    "y = np.concatenate((np.zeros(source.shape[0]),\n",
    "                    np.ones(target.shape[0])), axis=0)  # domain labels"
   ]
  },
  {
   "cell_type": "code",
   "execution_count": 8,
   "id": "c5422e1f",
   "metadata": {
    "execution": {
     "iopub.execute_input": "2024-08-21T09:47:18.572021Z",
     "iopub.status.busy": "2024-08-21T09:47:18.571871Z",
     "iopub.status.idle": "2024-08-21T09:47:18.627905Z",
     "shell.execute_reply": "2024-08-21T09:47:18.627628Z"
    },
    "papermill": {
     "duration": 0.060121,
     "end_time": "2024-08-21T09:47:18.628796",
     "exception": false,
     "start_time": "2024-08-21T09:47:18.568675",
     "status": "completed"
    },
    "tags": []
   },
   "outputs": [],
   "source": [
    "from sklearn.datasets import make_classification\n",
    "from sklearn.model_selection import train_test_split\n",
    "\n",
    "X_train, X_test, y_train, y_test = train_test_split(X, y,\n",
    "                                     stratify=y, random_state=42)"
   ]
  },
  {
   "cell_type": "code",
   "execution_count": 9,
   "id": "5d9ba299",
   "metadata": {
    "execution": {
     "iopub.execute_input": "2024-08-21T09:47:18.632202Z",
     "iopub.status.busy": "2024-08-21T09:47:18.632045Z",
     "iopub.status.idle": "2024-08-21T09:47:18.647252Z",
     "shell.execute_reply": "2024-08-21T09:47:18.646924Z"
    },
    "papermill": {
     "duration": 0.017837,
     "end_time": "2024-08-21T09:47:18.648215",
     "exception": false,
     "start_time": "2024-08-21T09:47:18.630378",
     "status": "completed"
    },
    "tags": []
   },
   "outputs": [],
   "source": [
    "# Using XGBoost\n",
    "import xgboost\n",
    "\n",
    "def fit_xgboost(X_train, y_train, X_test, y_test, feature_names=None):\n",
    "    \"\"\" Train an XGBoost model with early stopping.\n",
    "    \"\"\"\n",
    "    dtrain = xgboost.DMatrix(X_train, label=y_train, feature_names=feature_names)\n",
    "    dtest = xgboost.DMatrix(X_test, label=y_test, feature_names=feature_names)\n",
    "    # model = xgboost.train(\n",
    "    #     { \"eta\": 0.001, \"subsample\": 0.5, \"max_depth\": 2,\n",
    "    #       \"objective\": 'binary:logistic', 'eval_metric': 'logloss'}, dtrain, num_boost_round=200000,\n",
    "    #     evals=[(dtest,'eval'), (dtrain,'train')], early_stopping_rounds=20, verbose_eval=False\n",
    "    # )\n",
    "    model = xgboost.train(\n",
    "        {\"objective\": 'binary:logistic', 'eval_metric': 'logloss'},\n",
    "        dtrain,\n",
    "        evals=[(dtest,'eval'), (dtrain,'train')],\n",
    "        verbose_eval=False)\n",
    "    return model"
   ]
  },
  {
   "cell_type": "code",
   "execution_count": 10,
   "id": "bd7ac9f1",
   "metadata": {
    "execution": {
     "iopub.execute_input": "2024-08-21T09:47:18.651484Z",
     "iopub.status.busy": "2024-08-21T09:47:18.651369Z",
     "iopub.status.idle": "2024-08-21T09:47:18.670676Z",
     "shell.execute_reply": "2024-08-21T09:47:18.670408Z"
    },
    "papermill": {
     "duration": 0.021966,
     "end_time": "2024-08-21T09:47:18.671658",
     "exception": false,
     "start_time": "2024-08-21T09:47:18.649692",
     "status": "completed"
    },
    "tags": []
   },
   "outputs": [],
   "source": [
    "xgb_forest = fit_xgboost(X_train, y_train, X_test, y_test, feature_names)\n",
    "xgb_forest.feature_names = feature_names"
   ]
  },
  {
   "cell_type": "code",
   "execution_count": 11,
   "id": "dcaa3020",
   "metadata": {
    "execution": {
     "iopub.execute_input": "2024-08-21T09:47:18.675136Z",
     "iopub.status.busy": "2024-08-21T09:47:18.675033Z",
     "iopub.status.idle": "2024-08-21T09:47:18.676898Z",
     "shell.execute_reply": "2024-08-21T09:47:18.676682Z"
    },
    "papermill": {
     "duration": 0.004476,
     "end_time": "2024-08-21T09:47:18.677668",
     "exception": false,
     "start_time": "2024-08-21T09:47:18.673192",
     "status": "completed"
    },
    "tags": []
   },
   "outputs": [],
   "source": [
    "def get_acc(model, samples, labels, feature_names=None):\n",
    "    predictions = (model.predict(xgboost.DMatrix(samples,\n",
    "                                                 feature_names=feature_names)) > 0.5).astype(int)\n",
    "    return (predictions == labels).sum() / predictions.shape[0]"
   ]
  },
  {
   "cell_type": "code",
   "execution_count": 12,
   "id": "7ce6b380",
   "metadata": {
    "execution": {
     "iopub.execute_input": "2024-08-21T09:47:18.680594Z",
     "iopub.status.busy": "2024-08-21T09:47:18.680493Z",
     "iopub.status.idle": "2024-08-21T09:47:18.684611Z",
     "shell.execute_reply": "2024-08-21T09:47:18.684359Z"
    },
    "papermill": {
     "duration": 0.006399,
     "end_time": "2024-08-21T09:47:18.685364",
     "exception": false,
     "start_time": "2024-08-21T09:47:18.678965",
     "status": "completed"
    },
    "tags": []
   },
   "outputs": [
    {
     "name": "stdout",
     "output_type": "stream",
     "text": [
      "Train score: 0.9076014178810555\n",
      "Test score: 0.9104442344045368\n"
     ]
    }
   ],
   "source": [
    "print('Train score:', get_acc(xgb_forest, X_train, y_train, feature_names))\n",
    "print('Test score:', get_acc(xgb_forest, X_test, y_test, feature_names))"
   ]
  },
  {
   "cell_type": "code",
   "execution_count": 13,
   "id": "97a1d2b0",
   "metadata": {
    "execution": {
     "iopub.execute_input": "2024-08-21T09:47:18.688623Z",
     "iopub.status.busy": "2024-08-21T09:47:18.688520Z",
     "iopub.status.idle": "2024-08-21T09:47:18.962952Z",
     "shell.execute_reply": "2024-08-21T09:47:18.962700Z"
    },
    "papermill": {
     "duration": 0.27707,
     "end_time": "2024-08-21T09:47:18.963873",
     "exception": false,
     "start_time": "2024-08-21T09:47:18.686803",
     "status": "completed"
    },
    "tags": []
   },
   "outputs": [],
   "source": [
    "import shap\n",
    "import pandas as pd\n",
    "explainer = shap.Explainer(xgb_forest)\n",
    "\n",
    "shap_values = explainer(pd.DataFrame(X_test, columns=feature_names))\n"
   ]
  },
  {
   "cell_type": "code",
   "execution_count": 14,
   "id": "8e7a54a8",
   "metadata": {
    "execution": {
     "iopub.execute_input": "2024-08-21T09:47:18.967261Z",
     "iopub.status.busy": "2024-08-21T09:47:18.967101Z",
     "iopub.status.idle": "2024-08-21T09:47:19.528845Z",
     "shell.execute_reply": "2024-08-21T09:47:19.528552Z"
    },
    "papermill": {
     "duration": 0.564256,
     "end_time": "2024-08-21T09:47:19.529688",
     "exception": false,
     "start_time": "2024-08-21T09:47:18.965432",
     "status": "completed"
    },
    "tags": []
   },
   "outputs": [
    {
     "data": {
      "image/png": "[encoded data removed]",
      "text/plain": [
       "<Figure size 400x200 with 2 Axes>"
      ]
     },
     "metadata": {},
     "output_type": "display_data"
    }
   ],
   "source": [
    "# Beeswarm plot\n",
    "\n",
    "shap.plots.beeswarm(shap_values, show=False)\n",
    "fig = plt.gcf()\n",
    "fig.set_size_inches(4, 2, forward=True)\n",
    "if save_figures: plt.savefig(\n",
    "    f'../{path_transport_graphics}/logitics_data_on_customer_profile_{comparison_dict[comparison_id][0]} and customer_profile_{comparison_dict[comparison_id][1]}-shap-value.{save_parms[\"format\"]}',\n",
    "    **save_parms\n",
    "    )\n",
    "plt.show()"
   ]
  }
 ],
 "metadata": {
  "kernelspec": {
   "display_name": "Python 3.7.11 ('py37')",
   "language": "python",
   "name": "python3"
  },
  "language_info": {
   "codemirror_mode": {
    "name": "ipython",
    "version": 3
   },
   "file_extension": ".py",
   "mimetype": "text/x-python",
   "name": "python",
   "nbconvert_exporter": "python",
   "pygments_lexer": "ipython3",
   "version": "3.12.0"
  },
  "papermill": {
   "default_parameters": {},
   "duration": 3.023258,
   "end_time": "2024-08-21T09:47:19.849202",
   "environment_variables": {},
   "exception": null,
   "input_path": "experiment_baseline.ipynb",
   "output_path": "./Results_Experiments/Set_K_to_100/experiment_baseline_3.ipynb",
   "parameters": {
    "comparison_id": 2
   },
   "start_time": "2024-08-21T09:47:16.825944",
   "version": "2.6.0"
  },
  "vscode": {
   "interpreter": {
    "hash": "5ab0220f0ca30ec7bac8a7e209564eceae6d15412b9f87f3c2f91206aa8b151c"
   }
  }
 },
 "nbformat": 4,
 "nbformat_minor": 5
}