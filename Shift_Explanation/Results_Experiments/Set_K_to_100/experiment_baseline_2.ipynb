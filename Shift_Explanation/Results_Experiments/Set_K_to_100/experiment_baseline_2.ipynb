{
 "cells": [
  {
   "cell_type": "code",
   "execution_count": 1,
   "id": "d05cab18",
   "metadata": {
    "execution": {
     "iopub.execute_input": "2024-08-21T09:47:14.581274Z",
     "iopub.status.busy": "2024-08-21T09:47:14.580677Z",
     "iopub.status.idle": "2024-08-21T09:47:15.438069Z",
     "shell.execute_reply": "2024-08-21T09:47:15.437746Z"
    },
    "papermill": {
     "duration": 0.868313,
     "end_time": "2024-08-21T09:47:15.439124",
     "exception": false,
     "start_time": "2024-08-21T09:47:14.570811",
     "status": "completed"
    },
    "tags": []
   },
   "outputs": [],
   "source": [
    "import matplotlib.pyplot as plt\n",
    "import numpy as np\n",
    "import pandas as pd\n",
    "from pathlib import Path\n",
    "import seaborn as sn\n"
   ]
  },
  {
   "cell_type": "code",
   "execution_count": 2,
   "id": "d6302d10",
   "metadata": {
    "execution": {
     "iopub.execute_input": "2024-08-21T09:47:15.442372Z",
     "iopub.status.busy": "2024-08-21T09:47:15.442225Z",
     "iopub.status.idle": "2024-08-21T09:47:15.445009Z",
     "shell.execute_reply": "2024-08-21T09:47:15.444813Z"
    },
    "papermill": {
     "duration": 0.00517,
     "end_time": "2024-08-21T09:47:15.445807",
     "exception": false,
     "start_time": "2024-08-21T09:47:15.440637",
     "status": "completed"
    },
    "tags": []
   },
   "outputs": [],
   "source": [
    "# Setting so that the plots look normal even when using dark-reader\n",
    "sn.set_style(\"whitegrid\")\n",
    "sn.set_context(context=\"paper\", font_scale=2)\n",
    "pal = sn.color_palette(\"Set1\")\n",
    "\n",
    "# Setting up specifics for plotting + saving\n",
    "save_figures = True\n",
    "add_legend = False\n",
    "add_title = False\n",
    "add_axis = False\n",
    "save_parms = {'format': 'pdf','bbox_inches':'tight', 'pad_inches':0.1}\n",
    "line_parms = {'linewidth':4, 'color':'k'}\n",
    "if save_figures:  # saves all figures in a figure directory in the local directory\n",
    "    figure_dir = Path('.') / 'figures' / 'adult-income-experiment'\n",
    "    if not figure_dir.exists():\n",
    "        figure_dir.mkdir(parents=True)"
   ]
  },
  {
   "cell_type": "code",
   "execution_count": 3,
   "id": "22d1d0e0",
   "metadata": {
    "execution": {
     "iopub.execute_input": "2024-08-21T09:47:15.449027Z",
     "iopub.status.busy": "2024-08-21T09:47:15.448827Z",
     "iopub.status.idle": "2024-08-21T09:47:15.450554Z",
     "shell.execute_reply": "2024-08-21T09:47:15.450315Z"
    },
    "papermill": {
     "duration": 0.004337,
     "end_time": "2024-08-21T09:47:15.451379",
     "exception": false,
     "start_time": "2024-08-21T09:47:15.447042",
     "status": "completed"
    },
    "tags": []
   },
   "outputs": [],
   "source": [
    "# Experiment hyperparamters\n",
    "rng = np.random.RandomState(42)\n",
    "split_on_income = False  # if True: src := income>=50k, tgt :+ income<50k, if False: src := male, tgt := female\n",
    "n_samples = 1000"
   ]
  },
  {
   "cell_type": "code",
   "execution_count": 4,
   "id": "48ff09ec",
   "metadata": {
    "execution": {
     "iopub.execute_input": "2024-08-21T09:47:15.455125Z",
     "iopub.status.busy": "2024-08-21T09:47:15.454902Z",
     "iopub.status.idle": "2024-08-21T09:47:15.456608Z",
     "shell.execute_reply": "2024-08-21T09:47:15.456395Z"
    },
    "papermill": {
     "duration": 0.004375,
     "end_time": "2024-08-21T09:47:15.457340",
     "exception": false,
     "start_time": "2024-08-21T09:47:15.452965",
     "status": "completed"
    },
    "tags": [
     "parameters"
    ]
   },
   "outputs": [],
   "source": [
    "comparison_id = None"
   ]
  },
  {
   "cell_type": "code",
   "execution_count": 5,
   "id": "6d8c32e9",
   "metadata": {
    "execution": {
     "iopub.execute_input": "2024-08-21T09:47:15.461785Z",
     "iopub.status.busy": "2024-08-21T09:47:15.461596Z",
     "iopub.status.idle": "2024-08-21T09:47:15.463548Z",
     "shell.execute_reply": "2024-08-21T09:47:15.463294Z"
    },
    "papermill": {
     "duration": 0.004923,
     "end_time": "2024-08-21T09:47:15.464321",
     "exception": false,
     "start_time": "2024-08-21T09:47:15.459398",
     "status": "completed"
    },
    "tags": [
     "injected-parameters"
    ]
   },
   "outputs": [],
   "source": [
    "# Parameters\n",
    "comparison_id = 1\n"
   ]
  },
  {
   "cell_type": "code",
   "execution_count": 6,
   "id": "dade2b7e",
   "metadata": {
    "execution": {
     "iopub.execute_input": "2024-08-21T09:47:15.467299Z",
     "iopub.status.busy": "2024-08-21T09:47:15.467186Z",
     "iopub.status.idle": "2024-08-21T09:47:15.475067Z",
     "shell.execute_reply": "2024-08-21T09:47:15.474823Z"
    },
    "papermill": {
     "duration": 0.010126,
     "end_time": "2024-08-21T09:47:15.475792",
     "exception": false,
     "start_time": "2024-08-21T09:47:15.465666",
     "status": "completed"
    },
    "tags": []
   },
   "outputs": [
    {
     "name": "stdout",
     "output_type": "stream",
     "text": [
      "['Customer_id', 'Connection', 'Weight', 'Unit_type', 'Day', 'Week']\n"
     ]
    }
   ],
   "source": [
    "\n",
    "# Load the data\n",
    "comparison_dict = {0: [0,1], 1: [2,3], 2: [4,5]}\n",
    "path_customer_profiles = open('./Results_Experiments/File_Paths/path_customer_profiles.txt','r').read()\n",
    "path_transport_graphics = open('./Results_Experiments/File_Paths/path_transport_graphics.txt','r').read()\n",
    "source = pd.read_csv(f'../{path_customer_profiles}/customer_profile_{comparison_dict[comparison_id][0]}.csv')\n",
    "target = pd.read_csv(f'../{path_customer_profiles}/customer_profile_{comparison_dict[comparison_id][1]}.csv')\n",
    "\n",
    "feature_names = source.columns.values\n",
    "feature_names = list(feature_names)\n",
    "print(feature_names)"
   ]
  },
  {
   "cell_type": "code",
   "execution_count": 7,
   "id": "296df3b5",
   "metadata": {
    "execution": {
     "iopub.execute_input": "2024-08-21T09:47:15.478899Z",
     "iopub.status.busy": "2024-08-21T09:47:15.478795Z",
     "iopub.status.idle": "2024-08-21T09:47:15.510558Z",
     "shell.execute_reply": "2024-08-21T09:47:15.510295Z"
    },
    "papermill": {
     "duration": 0.034341,
     "end_time": "2024-08-21T09:47:15.511509",
     "exception": false,
     "start_time": "2024-08-21T09:47:15.477168",
     "status": "completed"
    },
    "tags": []
   },
   "outputs": [],
   "source": [
    "# standardize the source and target data, and convert to domain labels\n",
    "from sklearn.preprocessing import StandardScaler\n",
    "X = np.concatenate((source, target), axis=0)\n",
    "# standardize X to remove cardinatlity bias\n",
    "X = StandardScaler().fit_transform(X)\n",
    "y = np.concatenate((np.zeros(source.shape[0]),\n",
    "                    np.ones(target.shape[0])), axis=0)  # domain labels"
   ]
  },
  {
   "cell_type": "code",
   "execution_count": 8,
   "id": "c5422e1f",
   "metadata": {
    "execution": {
     "iopub.execute_input": "2024-08-21T09:47:15.515790Z",
     "iopub.status.busy": "2024-08-21T09:47:15.515601Z",
     "iopub.status.idle": "2024-08-21T09:47:15.569976Z",
     "shell.execute_reply": "2024-08-21T09:47:15.569678Z"
    },
    "papermill": {
     "duration": 0.057394,
     "end_time": "2024-08-21T09:47:15.570937",
     "exception": false,
     "start_time": "2024-08-21T09:47:15.513543",
     "status": "completed"
    },
    "tags": []
   },
   "outputs": [],
   "source": [
    "from sklearn.datasets import make_classification\n",
    "from sklearn.model_selection import train_test_split\n",
    "\n",
    "X_train, X_test, y_train, y_test = train_test_split(X, y,\n",
    "                                     stratify=y, random_state=42)"
   ]
  },
  {
   "cell_type": "code",
   "execution_count": 9,
   "id": "5d9ba299",
   "metadata": {
    "execution": {
     "iopub.execute_input": "2024-08-21T09:47:15.574359Z",
     "iopub.status.busy": "2024-08-21T09:47:15.574208Z",
     "iopub.status.idle": "2024-08-21T09:47:15.588719Z",
     "shell.execute_reply": "2024-08-21T09:47:15.588459Z"
    },
    "papermill": {
     "duration": 0.017221,
     "end_time": "2024-08-21T09:47:15.589680",
     "exception": false,
     "start_time": "2024-08-21T09:47:15.572459",
     "status": "completed"
    },
    "tags": []
   },
   "outputs": [],
   "source": [
    "# Using XGBoost\n",
    "import xgboost\n",
    "\n",
    "def fit_xgboost(X_train, y_train, X_test, y_test, feature_names=None):\n",
    "    \"\"\" Train an XGBoost model with early stopping.\n",
    "    \"\"\"\n",
    "    dtrain = xgboost.DMatrix(X_train, label=y_train, feature_names=feature_names)\n",
    "    dtest = xgboost.DMatrix(X_test, label=y_test, feature_names=feature_names)\n",
    "    # model = xgboost.train(\n",
    "    #     { \"eta\": 0.001, \"subsample\": 0.5, \"max_depth\": 2,\n",
    "    #       \"objective\": 'binary:logistic', 'eval_metric': 'logloss'}, dtrain, num_boost_round=200000,\n",
    "    #     evals=[(dtest,'eval'), (dtrain,'train')], early_stopping_rounds=20, verbose_eval=False\n",
    "    # )\n",
    "    model = xgboost.train(\n",
    "        {\"objective\": 'binary:logistic', 'eval_metric': 'logloss'},\n",
    "        dtrain,\n",
    "        evals=[(dtest,'eval'), (dtrain,'train')],\n",
    "        verbose_eval=False)\n",
    "    return model"
   ]
  },
  {
   "cell_type": "code",
   "execution_count": 10,
   "id": "bd7ac9f1",
   "metadata": {
    "execution": {
     "iopub.execute_input": "2024-08-21T09:47:15.592894Z",
     "iopub.status.busy": "2024-08-21T09:47:15.592790Z",
     "iopub.status.idle": "2024-08-21T09:47:15.612153Z",
     "shell.execute_reply": "2024-08-21T09:47:15.611908Z"
    },
    "papermill": {
     "duration": 0.022012,
     "end_time": "2024-08-21T09:47:15.613095",
     "exception": false,
     "start_time": "2024-08-21T09:47:15.591083",
     "status": "completed"
    },
    "tags": []
   },
   "outputs": [],
   "source": [
    "xgb_forest = fit_xgboost(X_train, y_train, X_test, y_test, feature_names)\n",
    "xgb_forest.feature_names = feature_names"
   ]
  },
  {
   "cell_type": "code",
   "execution_count": 11,
   "id": "dcaa3020",
   "metadata": {
    "execution": {
     "iopub.execute_input": "2024-08-21T09:47:15.616105Z",
     "iopub.status.busy": "2024-08-21T09:47:15.616011Z",
     "iopub.status.idle": "2024-08-21T09:47:15.617793Z",
     "shell.execute_reply": "2024-08-21T09:47:15.617564Z"
    },
    "papermill": {
     "duration": 0.004115,
     "end_time": "2024-08-21T09:47:15.618567",
     "exception": false,
     "start_time": "2024-08-21T09:47:15.614452",
     "status": "completed"
    },
    "tags": []
   },
   "outputs": [],
   "source": [
    "def get_acc(model, samples, labels, feature_names=None):\n",
    "    predictions = (model.predict(xgboost.DMatrix(samples,\n",
    "                                                 feature_names=feature_names)) > 0.5).astype(int)\n",
    "    return (predictions == labels).sum() / predictions.shape[0]"
   ]
  },
  {
   "cell_type": "code",
   "execution_count": 12,
   "id": "7ce6b380",
   "metadata": {
    "execution": {
     "iopub.execute_input": "2024-08-21T09:47:15.621586Z",
     "iopub.status.busy": "2024-08-21T09:47:15.621489Z",
     "iopub.status.idle": "2024-08-21T09:47:15.625041Z",
     "shell.execute_reply": "2024-08-21T09:47:15.624804Z"
    },
    "papermill": {
     "duration": 0.005892,
     "end_time": "2024-08-21T09:47:15.625749",
     "exception": false,
     "start_time": "2024-08-21T09:47:15.619857",
     "status": "completed"
    },
    "tags": []
   },
   "outputs": [
    {
     "name": "stdout",
     "output_type": "stream",
     "text": [
      "Train score: 0.9258318308474021\n",
      "Test score: 0.9196165191740413\n"
     ]
    }
   ],
   "source": [
    "print('Train score:', get_acc(xgb_forest, X_train, y_train, feature_names))\n",
    "print('Test score:', get_acc(xgb_forest, X_test, y_test, feature_names))"
   ]
  },
  {
   "cell_type": "code",
   "execution_count": 13,
   "id": "97a1d2b0",
   "metadata": {
    "execution": {
     "iopub.execute_input": "2024-08-21T09:47:15.628827Z",
     "iopub.status.busy": "2024-08-21T09:47:15.628727Z",
     "iopub.status.idle": "2024-08-21T09:47:15.878788Z",
     "shell.execute_reply": "2024-08-21T09:47:15.878529Z"
    },
    "papermill": {
     "duration": 0.252663,
     "end_time": "2024-08-21T09:47:15.879741",
     "exception": false,
     "start_time": "2024-08-21T09:47:15.627078",
     "status": "completed"
    },
    "tags": []
   },
   "outputs": [],
   "source": [
    "import shap\n",
    "import pandas as pd\n",
    "explainer = shap.Explainer(xgb_forest)\n",
    "\n",
    "shap_values = explainer(pd.DataFrame(X_test, columns=feature_names))\n"
   ]
  },
  {
   "cell_type": "code",
   "execution_count": 14,
   "id": "8e7a54a8",
   "metadata": {
    "execution": {
     "iopub.execute_input": "2024-08-21T09:47:15.883138Z",
     "iopub.status.busy": "2024-08-21T09:47:15.882998Z",
     "iopub.status.idle": "2024-08-21T09:47:16.398548Z",
     "shell.execute_reply": "2024-08-21T09:47:16.397945Z"
    },
    "papermill": {
     "duration": 0.518416,
     "end_time": "2024-08-21T09:47:16.399699",
     "exception": false,
     "start_time": "2024-08-21T09:47:15.881283",
     "status": "completed"
    },
    "tags": []
   },
   "outputs": [
    {
     "data": {
      "image/png": "[encoded data removed]",
      "text/plain": [
       "<Figure size 400x200 with 2 Axes>"
      ]
     },
     "metadata": {},
     "output_type": "display_data"
    }
   ],
   "source": [
    "# Beeswarm plot\n",
    "\n",
    "shap.plots.beeswarm(shap_values, show=False)\n",
    "fig = plt.gcf()\n",
    "fig.set_size_inches(4, 2, forward=True)\n",
    "if save_figures: plt.savefig(\n",
    "    f'../{path_transport_graphics}/logitics_data_on_customer_profile_{comparison_dict[comparison_id][0]} and customer_profile_{comparison_dict[comparison_id][1]}-shap-value.{save_parms[\"format\"]}',\n",
    "    **save_parms\n",
    "    )\n",
    "plt.show()"
   ]
  }
 ],
 "metadata": {
  "kernelspec": {
   "display_name": "Python 3.7.11 ('py37')",
   "language": "python",
   "name": "python3"
  },
  "language_info": {
   "codemirror_mode": {
    "name": "ipython",
    "version": 3
   },
   "file_extension": ".py",
   "mimetype": "text/x-python",
   "name": "python",
   "nbconvert_exporter": "python",
   "pygments_lexer": "ipython3",
   "version": "3.12.0"
  },
  "papermill": {
   "default_parameters": {},
   "duration": 2.812963,
   "end_time": "2024-08-21T09:47:16.821014",
   "environment_variables": {},
   "exception": null,
   "input_path": "experiment_baseline.ipynb",
   "output_path": "./Results_Experiments/Set_K_to_100/experiment_baseline_2.ipynb",
   "parameters": {
    "comparison_id": 1
   },
   "start_time": "2024-08-21T09:47:14.008051",
   "version": "2.6.0"
  },
  "vscode": {
   "interpreter": {
    "hash": "5ab0220f0ca30ec7bac8a7e209564eceae6d15412b9f87f3c2f91206aa8b151c"
   }
  }
 },
 "nbformat": 4,
 "nbformat_minor": 5
}