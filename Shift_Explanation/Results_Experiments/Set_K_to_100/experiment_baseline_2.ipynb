{
 "cells": [
  {
   "cell_type": "code",
   "execution_count": 1,
   "id": "d05cab18",
   "metadata": {
    "execution": {
     "iopub.execute_input": "2024-08-21T12:09:59.615154Z",
     "iopub.status.busy": "2024-08-21T12:09:59.614788Z",
     "iopub.status.idle": "2024-08-21T12:10:00.417644Z",
     "shell.execute_reply": "2024-08-21T12:10:00.417337Z"
    },
    "papermill": {
     "duration": 0.811903,
     "end_time": "2024-08-21T12:10:00.418616",
     "exception": false,
     "start_time": "2024-08-21T12:09:59.606713",
     "status": "completed"
    },
    "tags": []
   },
   "outputs": [],
   "source": [
    "import matplotlib.pyplot as plt\n",
    "import numpy as np\n",
    "import pandas as pd\n",
    "from pathlib import Path\n",
    "import seaborn as sn\n",
    "from data_utils import load_and_preprocess_logistics_data"
   ]
  },
  {
   "cell_type": "code",
   "execution_count": 2,
   "id": "d6302d10",
   "metadata": {
    "execution": {
     "iopub.execute_input": "2024-08-21T12:10:00.422735Z",
     "iopub.status.busy": "2024-08-21T12:10:00.422579Z",
     "iopub.status.idle": "2024-08-21T12:10:00.425228Z",
     "shell.execute_reply": "2024-08-21T12:10:00.425017Z"
    },
    "papermill": {
     "duration": 0.006182,
     "end_time": "2024-08-21T12:10:00.426282",
     "exception": false,
     "start_time": "2024-08-21T12:10:00.420100",
     "status": "completed"
    },
    "tags": []
   },
   "outputs": [],
   "source": [
    "# Setting so that the plots look normal even when using dark-reader\n",
    "sn.set_style(\"whitegrid\")\n",
    "sn.set_context(context=\"paper\", font_scale=2)\n",
    "pal = sn.color_palette(\"Set1\")\n",
    "\n",
    "# Setting up specifics for plotting + saving\n",
    "save_figures = True\n",
    "add_legend = False\n",
    "add_title = False\n",
    "add_axis = False\n",
    "save_parms = {'format': 'pdf','bbox_inches':'tight', 'pad_inches':0.1}\n",
    "line_parms = {'linewidth':4, 'color':'k'}\n",
    "if save_figures:  # saves all figures in a figure directory in the local directory\n",
    "    figure_dir = Path('.') / 'figures' / 'adult-income-experiment'\n",
    "    if not figure_dir.exists():\n",
    "        figure_dir.mkdir(parents=True)"
   ]
  },
  {
   "cell_type": "code",
   "execution_count": 3,
   "id": "22d1d0e0",
   "metadata": {
    "execution": {
     "iopub.execute_input": "2024-08-21T12:10:00.429411Z",
     "iopub.status.busy": "2024-08-21T12:10:00.429299Z",
     "iopub.status.idle": "2024-08-21T12:10:00.431189Z",
     "shell.execute_reply": "2024-08-21T12:10:00.430952Z"
    },
    "papermill": {
     "duration": 0.004259,
     "end_time": "2024-08-21T12:10:00.431963",
     "exception": false,
     "start_time": "2024-08-21T12:10:00.427704",
     "status": "completed"
    },
    "tags": []
   },
   "outputs": [],
   "source": [
    "# Experiment hyperparamters\n",
    "rng = np.random.RandomState(42)\n",
    "split_on_income = False  # if True: src := income>=50k, tgt :+ income<50k, if False: src := male, tgt := female\n",
    "n_samples = 1000"
   ]
  },
  {
   "cell_type": "code",
   "execution_count": 4,
   "id": "48ff09ec",
   "metadata": {
    "execution": {
     "iopub.execute_input": "2024-08-21T12:10:00.434719Z",
     "iopub.status.busy": "2024-08-21T12:10:00.434627Z",
     "iopub.status.idle": "2024-08-21T12:10:00.436124Z",
     "shell.execute_reply": "2024-08-21T12:10:00.435876Z"
    },
    "papermill": {
     "duration": 0.003661,
     "end_time": "2024-08-21T12:10:00.436826",
     "exception": false,
     "start_time": "2024-08-21T12:10:00.433165",
     "status": "completed"
    },
    "tags": [
     "parameters"
    ]
   },
   "outputs": [],
   "source": [
    "comparison_id = None"
   ]
  },
  {
   "cell_type": "code",
   "execution_count": 5,
   "id": "d5c76d8d",
   "metadata": {
    "execution": {
     "iopub.execute_input": "2024-08-21T12:10:00.439535Z",
     "iopub.status.busy": "2024-08-21T12:10:00.439443Z",
     "iopub.status.idle": "2024-08-21T12:10:00.440821Z",
     "shell.execute_reply": "2024-08-21T12:10:00.440631Z"
    },
    "papermill": {
     "duration": 0.003524,
     "end_time": "2024-08-21T12:10:00.441531",
     "exception": false,
     "start_time": "2024-08-21T12:10:00.438007",
     "status": "completed"
    },
    "tags": [
     "injected-parameters"
    ]
   },
   "outputs": [],
   "source": [
    "# Parameters\n",
    "comparison_id = 1\n"
   ]
  },
  {
   "cell_type": "code",
   "execution_count": 6,
   "id": "dade2b7e",
   "metadata": {
    "execution": {
     "iopub.execute_input": "2024-08-21T12:10:00.444603Z",
     "iopub.status.busy": "2024-08-21T12:10:00.444402Z",
     "iopub.status.idle": "2024-08-21T12:10:00.461432Z",
     "shell.execute_reply": "2024-08-21T12:10:00.461146Z"
    },
    "papermill": {
     "duration": 0.01948,
     "end_time": "2024-08-21T12:10:00.462218",
     "exception": false,
     "start_time": "2024-08-21T12:10:00.442738",
     "status": "completed"
    },
    "tags": []
   },
   "outputs": [
    {
     "name": "stdout",
     "output_type": "stream",
     "text": [
      "Comparing customer_profile_2 and customer_profile_3\n",
      "Finished preprocessing logistic dataset. Split on customer_profile_2 and customer_profile_3 with resulting source shape: (996, 3), target shape: (996, 3).\n",
      "['Connection', 'Weight', 'Unit_type']\n"
     ]
    }
   ],
   "source": [
    "\n",
    "# Load the data\n",
    "comparison_dict = {0: [0,1], 1: [2,3], 2: [4,5]}\n",
    "path_customer_profiles = open('./Results_Experiments/File_Paths/path_customer_profiles.txt','r').read()\n",
    "path_transport_graphics = open('./Results_Experiments/File_Paths/path_transport_graphics.txt','r').read()\n",
    "source = pd.read_csv(f'../{path_customer_profiles}/customer_profile_{comparison_dict[comparison_id][0]}.csv')\n",
    "target = pd.read_csv(f'../{path_customer_profiles}/customer_profile_{comparison_dict[comparison_id][1]}.csv')\n",
    "equal_week_split = True\n",
    "source, target, feature_names = load_and_preprocess_logistics_data(rng, n_samples, return_column_names=True,equal_week_split=equal_week_split, comparison_id=\n",
    "            comparison_id, comparison_dict=comparison_dict)\n",
    "print(feature_names)"
   ]
  },
  {
   "cell_type": "code",
   "execution_count": 7,
   "id": "296df3b5",
   "metadata": {
    "execution": {
     "iopub.execute_input": "2024-08-21T12:10:00.465332Z",
     "iopub.status.busy": "2024-08-21T12:10:00.465227Z",
     "iopub.status.idle": "2024-08-21T12:10:00.467532Z",
     "shell.execute_reply": "2024-08-21T12:10:00.467324Z"
    },
    "papermill": {
     "duration": 0.004601,
     "end_time": "2024-08-21T12:10:00.468260",
     "exception": false,
     "start_time": "2024-08-21T12:10:00.463659",
     "status": "completed"
    },
    "tags": []
   },
   "outputs": [],
   "source": [
    "# standardize the source and target data, and convert to domain labels\n",
    "from sklearn.preprocessing import StandardScaler\n",
    "X = np.concatenate((source, target), axis=0)\n",
    "# standardize X to remove cardinatlity bias\n",
    "X = StandardScaler().fit_transform(X)\n",
    "y = np.concatenate((np.zeros(source.shape[0]),\n",
    "                    np.ones(target.shape[0])), axis=0)  # domain labels"
   ]
  },
  {
   "cell_type": "code",
   "execution_count": 8,
   "id": "c5422e1f",
   "metadata": {
    "execution": {
     "iopub.execute_input": "2024-08-21T12:10:00.471095Z",
     "iopub.status.busy": "2024-08-21T12:10:00.471000Z",
     "iopub.status.idle": "2024-08-21T12:10:00.520483Z",
     "shell.execute_reply": "2024-08-21T12:10:00.520222Z"
    },
    "papermill": {
     "duration": 0.05191,
     "end_time": "2024-08-21T12:10:00.521393",
     "exception": false,
     "start_time": "2024-08-21T12:10:00.469483",
     "status": "completed"
    },
    "tags": []
   },
   "outputs": [],
   "source": [
    "from sklearn.datasets import make_classification\n",
    "from sklearn.model_selection import train_test_split\n",
    "\n",
    "X_train, X_test, y_train, y_test = train_test_split(X, y,\n",
    "                                     stratify=y, random_state=42)"
   ]
  },
  {
   "cell_type": "code",
   "execution_count": 9,
   "id": "5d9ba299",
   "metadata": {
    "execution": {
     "iopub.execute_input": "2024-08-21T12:10:00.524689Z",
     "iopub.status.busy": "2024-08-21T12:10:00.524542Z",
     "iopub.status.idle": "2024-08-21T12:10:00.538176Z",
     "shell.execute_reply": "2024-08-21T12:10:00.537919Z"
    },
    "papermill": {
     "duration": 0.016174,
     "end_time": "2024-08-21T12:10:00.539078",
     "exception": false,
     "start_time": "2024-08-21T12:10:00.522904",
     "status": "completed"
    },
    "tags": []
   },
   "outputs": [],
   "source": [
    "# Using XGBoost\n",
    "import xgboost\n",
    "\n",
    "def fit_xgboost(X_train, y_train, X_test, y_test, feature_names=None):\n",
    "    \"\"\" Train an XGBoost model with early stopping.\n",
    "    \"\"\"\n",
    "    dtrain = xgboost.DMatrix(X_train, label=y_train, feature_names=feature_names)\n",
    "    dtest = xgboost.DMatrix(X_test, label=y_test, feature_names=feature_names)\n",
    "    # model = xgboost.train(\n",
    "    #     { \"eta\": 0.001, \"subsample\": 0.5, \"max_depth\": 2,\n",
    "    #       \"objective\": 'binary:logistic', 'eval_metric': 'logloss'}, dtrain, num_boost_round=200000,\n",
    "    #     evals=[(dtest,'eval'), (dtrain,'train')], early_stopping_rounds=20, verbose_eval=False\n",
    "    # )\n",
    "    model = xgboost.train(\n",
    "        {\"objective\": 'binary:logistic', 'eval_metric': 'logloss'},\n",
    "        dtrain,\n",
    "        evals=[(dtest,'eval'), (dtrain,'train')],\n",
    "        verbose_eval=False)\n",
    "    return model"
   ]
  },
  {
   "cell_type": "code",
   "execution_count": 10,
   "id": "bd7ac9f1",
   "metadata": {
    "execution": {
     "iopub.execute_input": "2024-08-21T12:10:00.542163Z",
     "iopub.status.busy": "2024-08-21T12:10:00.542056Z",
     "iopub.status.idle": "2024-08-21T12:10:00.558142Z",
     "shell.execute_reply": "2024-08-21T12:10:00.557896Z"
    },
    "papermill": {
     "duration": 0.018779,
     "end_time": "2024-08-21T12:10:00.559252",
     "exception": false,
     "start_time": "2024-08-21T12:10:00.540473",
     "status": "completed"
    },
    "tags": []
   },
   "outputs": [],
   "source": [
    "xgb_forest = fit_xgboost(X_train, y_train, X_test, y_test, feature_names)\n",
    "xgb_forest.feature_names = feature_names"
   ]
  },
  {
   "cell_type": "code",
   "execution_count": 11,
   "id": "dcaa3020",
   "metadata": {
    "execution": {
     "iopub.execute_input": "2024-08-21T12:10:00.562968Z",
     "iopub.status.busy": "2024-08-21T12:10:00.562842Z",
     "iopub.status.idle": "2024-08-21T12:10:00.564837Z",
     "shell.execute_reply": "2024-08-21T12:10:00.564603Z"
    },
    "papermill": {
     "duration": 0.004478,
     "end_time": "2024-08-21T12:10:00.565628",
     "exception": false,
     "start_time": "2024-08-21T12:10:00.561150",
     "status": "completed"
    },
    "tags": []
   },
   "outputs": [],
   "source": [
    "def get_acc(model, samples, labels, feature_names=None):\n",
    "    predictions = (model.predict(xgboost.DMatrix(samples,\n",
    "                                                 feature_names=feature_names)) > 0.5).astype(int)\n",
    "    return (predictions == labels).sum() / predictions.shape[0]"
   ]
  },
  {
   "cell_type": "code",
   "execution_count": 12,
   "id": "7ce6b380",
   "metadata": {
    "execution": {
     "iopub.execute_input": "2024-08-21T12:10:00.568443Z",
     "iopub.status.busy": "2024-08-21T12:10:00.568351Z",
     "iopub.status.idle": "2024-08-21T12:10:00.571260Z",
     "shell.execute_reply": "2024-08-21T12:10:00.571033Z"
    },
    "papermill": {
     "duration": 0.005124,
     "end_time": "2024-08-21T12:10:00.571997",
     "exception": false,
     "start_time": "2024-08-21T12:10:00.566873",
     "status": "completed"
    },
    "tags": []
   },
   "outputs": [
    {
     "name": "stdout",
     "output_type": "stream",
     "text": [
      "Train score: 0.7717536813922357\n",
      "Test score: 0.6104417670682731\n"
     ]
    }
   ],
   "source": [
    "print('Train score:', get_acc(xgb_forest, X_train, y_train, feature_names))\n",
    "print('Test score:', get_acc(xgb_forest, X_test, y_test, feature_names))"
   ]
  },
  {
   "cell_type": "code",
   "execution_count": 13,
   "id": "97a1d2b0",
   "metadata": {
    "execution": {
     "iopub.execute_input": "2024-08-21T12:10:00.574914Z",
     "iopub.status.busy": "2024-08-21T12:10:00.574825Z",
     "iopub.status.idle": "2024-08-21T12:10:00.822321Z",
     "shell.execute_reply": "2024-08-21T12:10:00.822043Z"
    },
    "papermill": {
     "duration": 0.249972,
     "end_time": "2024-08-21T12:10:00.823241",
     "exception": false,
     "start_time": "2024-08-21T12:10:00.573269",
     "status": "completed"
    },
    "tags": []
   },
   "outputs": [],
   "source": [
    "import shap\n",
    "import pandas as pd\n",
    "explainer = shap.Explainer(xgb_forest)\n",
    "\n",
    "shap_values = explainer(pd.DataFrame(X_test, columns=feature_names))\n"
   ]
  },
  {
   "cell_type": "code",
   "execution_count": 14,
   "id": "8e7a54a8",
   "metadata": {
    "execution": {
     "iopub.execute_input": "2024-08-21T12:10:00.826581Z",
     "iopub.status.busy": "2024-08-21T12:10:00.826433Z",
     "iopub.status.idle": "2024-08-21T12:10:01.157550Z",
     "shell.execute_reply": "2024-08-21T12:10:01.157277Z"
    },
    "papermill": {
     "duration": 0.333565,
     "end_time": "2024-08-21T12:10:01.158355",
     "exception": false,
     "start_time": "2024-08-21T12:10:00.824790",
     "status": "completed"
    },
    "tags": []
   },
   "outputs": [
    {
     "data": {
      "image/png": "[encoded data removed]",
      "text/plain": [
       "<Figure size 400x100 with 2 Axes>"
      ]
     },
     "metadata": {},
     "output_type": "display_data"
    }
   ],
   "source": [
    "# Beeswarm plot\n",
    "\n",
    "shap.plots.beeswarm(shap_values, show=False)\n",
    "fig = plt.gcf()\n",
    "fig.set_size_inches(4, 1, forward=True)\n",
    "if save_figures: plt.savefig(\n",
    "    f'../{path_transport_graphics}/logitics_data_on_customer_profile_{comparison_dict[comparison_id][0]} and customer_profile_{comparison_dict[comparison_id][1]}-shap-value.{save_parms[\"format\"]}',\n",
    "    **save_parms\n",
    "    )\n",
    "plt.show()"
   ]
  }
 ],
 "metadata": {
  "kernelspec": {
   "display_name": "Python 3.7.11 ('py37')",
   "language": "python",
   "name": "python3"
  },
  "language_info": {
   "codemirror_mode": {
    "name": "ipython",
    "version": 3
   },
   "file_extension": ".py",
   "mimetype": "text/x-python",
   "name": "python",
   "nbconvert_exporter": "python",
   "pygments_lexer": "ipython3",
   "version": "3.12.0"
  },
  "papermill": {
   "default_parameters": {},
   "duration": 2.476581,
   "end_time": "2024-08-21T12:10:01.477455",
   "environment_variables": {},
   "exception": null,
   "input_path": "experiment_baseline.ipynb",
   "output_path": "./Results_Experiments/Set_K_to_100/experiment_baseline_2.ipynb",
   "parameters": {
    "comparison_id": 1
   },
   "start_time": "2024-08-21T12:09:59.000874",
   "version": "2.6.0"
  },
  "vscode": {
   "interpreter": {
    "hash": "5ab0220f0ca30ec7bac8a7e209564eceae6d15412b9f87f3c2f91206aa8b151c"
   }
  }
 },
 "nbformat": 4,
 "nbformat_minor": 5
}