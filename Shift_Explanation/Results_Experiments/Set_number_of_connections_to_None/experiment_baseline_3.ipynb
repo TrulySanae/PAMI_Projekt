{
 "cells": [
  {
   "cell_type": "code",
   "execution_count": 1,
   "id": "d05cab18",
   "metadata": {
    "execution": {
     "iopub.execute_input": "2024-08-21T12:10:55.899876Z",
     "iopub.status.busy": "2024-08-21T12:10:55.899497Z",
     "iopub.status.idle": "2024-08-21T12:10:56.732522Z",
     "shell.execute_reply": "2024-08-21T12:10:56.732214Z"
    },
    "papermill": {
     "duration": 0.843322,
     "end_time": "2024-08-21T12:10:56.733520",
     "exception": false,
     "start_time": "2024-08-21T12:10:55.890198",
     "status": "completed"
    },
    "tags": []
   },
   "outputs": [],
   "source": [
    "import matplotlib.pyplot as plt\n",
    "import numpy as np\n",
    "import pandas as pd\n",
    "from pathlib import Path\n",
    "import seaborn as sn\n",
    "from data_utils import load_and_preprocess_logistics_data"
   ]
  },
  {
   "cell_type": "code",
   "execution_count": 2,
   "id": "d6302d10",
   "metadata": {
    "execution": {
     "iopub.execute_input": "2024-08-21T12:10:56.736744Z",
     "iopub.status.busy": "2024-08-21T12:10:56.736597Z",
     "iopub.status.idle": "2024-08-21T12:10:56.739275Z",
     "shell.execute_reply": "2024-08-21T12:10:56.739064Z"
    },
    "papermill": {
     "duration": 0.005019,
     "end_time": "2024-08-21T12:10:56.740024",
     "exception": false,
     "start_time": "2024-08-21T12:10:56.735005",
     "status": "completed"
    },
    "tags": []
   },
   "outputs": [],
   "source": [
    "# Setting so that the plots look normal even when using dark-reader\n",
    "sn.set_style(\"whitegrid\")\n",
    "sn.set_context(context=\"paper\", font_scale=2)\n",
    "pal = sn.color_palette(\"Set1\")\n",
    "\n",
    "# Setting up specifics for plotting + saving\n",
    "save_figures = True\n",
    "add_legend = False\n",
    "add_title = False\n",
    "add_axis = False\n",
    "save_parms = {'format': 'pdf','bbox_inches':'tight', 'pad_inches':0.1}\n",
    "line_parms = {'linewidth':4, 'color':'k'}\n",
    "if save_figures:  # saves all figures in a figure directory in the local directory\n",
    "    figure_dir = Path('.') / 'figures' / 'adult-income-experiment'\n",
    "    if not figure_dir.exists():\n",
    "        figure_dir.mkdir(parents=True)"
   ]
  },
  {
   "cell_type": "code",
   "execution_count": 3,
   "id": "22d1d0e0",
   "metadata": {
    "execution": {
     "iopub.execute_input": "2024-08-21T12:10:56.743121Z",
     "iopub.status.busy": "2024-08-21T12:10:56.743017Z",
     "iopub.status.idle": "2024-08-21T12:10:56.744852Z",
     "shell.execute_reply": "2024-08-21T12:10:56.744592Z"
    },
    "papermill": {
     "duration": 0.004306,
     "end_time": "2024-08-21T12:10:56.745692",
     "exception": false,
     "start_time": "2024-08-21T12:10:56.741386",
     "status": "completed"
    },
    "tags": []
   },
   "outputs": [],
   "source": [
    "# Experiment hyperparamters\n",
    "rng = np.random.RandomState(42)\n",
    "split_on_income = False  # if True: src := income>=50k, tgt :+ income<50k, if False: src := male, tgt := female\n",
    "n_samples = 1000"
   ]
  },
  {
   "cell_type": "code",
   "execution_count": 4,
   "id": "48ff09ec",
   "metadata": {
    "execution": {
     "iopub.execute_input": "2024-08-21T12:10:56.749738Z",
     "iopub.status.busy": "2024-08-21T12:10:56.749579Z",
     "iopub.status.idle": "2024-08-21T12:10:56.751292Z",
     "shell.execute_reply": "2024-08-21T12:10:56.751030Z"
    },
    "papermill": {
     "duration": 0.004942,
     "end_time": "2024-08-21T12:10:56.752061",
     "exception": false,
     "start_time": "2024-08-21T12:10:56.747119",
     "status": "completed"
    },
    "tags": [
     "parameters"
    ]
   },
   "outputs": [],
   "source": [
    "comparison_id = None"
   ]
  },
  {
   "cell_type": "code",
   "execution_count": 5,
   "id": "b1e5bce7",
   "metadata": {
    "execution": {
     "iopub.execute_input": "2024-08-21T12:10:56.754931Z",
     "iopub.status.busy": "2024-08-21T12:10:56.754829Z",
     "iopub.status.idle": "2024-08-21T12:10:56.756270Z",
     "shell.execute_reply": "2024-08-21T12:10:56.756070Z"
    },
    "papermill": {
     "duration": 0.00365,
     "end_time": "2024-08-21T12:10:56.756984",
     "exception": false,
     "start_time": "2024-08-21T12:10:56.753334",
     "status": "completed"
    },
    "tags": [
     "injected-parameters"
    ]
   },
   "outputs": [],
   "source": [
    "# Parameters\n",
    "comparison_id = 2\n"
   ]
  },
  {
   "cell_type": "code",
   "execution_count": 6,
   "id": "dade2b7e",
   "metadata": {
    "execution": {
     "iopub.execute_input": "2024-08-21T12:10:56.759834Z",
     "iopub.status.busy": "2024-08-21T12:10:56.759737Z",
     "iopub.status.idle": "2024-08-21T12:10:56.776700Z",
     "shell.execute_reply": "2024-08-21T12:10:56.776458Z"
    },
    "papermill": {
     "duration": 0.019213,
     "end_time": "2024-08-21T12:10:56.777441",
     "exception": false,
     "start_time": "2024-08-21T12:10:56.758228",
     "status": "completed"
    },
    "tags": []
   },
   "outputs": [
    {
     "name": "stdout",
     "output_type": "stream",
     "text": [
      "Comparing customer_profile_4 and customer_profile_5\n",
      "Finished preprocessing logistic dataset. Split on customer_profile_4 and customer_profile_5 with resulting source shape: (996, 3), target shape: (996, 3).\n",
      "['Connection', 'Weight', 'Unit_type']\n"
     ]
    }
   ],
   "source": [
    "\n",
    "# Load the data\n",
    "comparison_dict = {0: [0,1], 1: [2,3], 2: [4,5]}\n",
    "path_customer_profiles = open('./Results_Experiments/File_Paths/path_customer_profiles.txt','r').read()\n",
    "path_transport_graphics = open('./Results_Experiments/File_Paths/path_transport_graphics.txt','r').read()\n",
    "source = pd.read_csv(f'../{path_customer_profiles}/customer_profile_{comparison_dict[comparison_id][0]}.csv')\n",
    "target = pd.read_csv(f'../{path_customer_profiles}/customer_profile_{comparison_dict[comparison_id][1]}.csv')\n",
    "equal_week_split = True\n",
    "source, target, feature_names = load_and_preprocess_logistics_data(rng, n_samples, return_column_names=True,equal_week_split=equal_week_split, comparison_id=\n",
    "            comparison_id, comparison_dict=comparison_dict)\n",
    "print(feature_names)"
   ]
  },
  {
   "cell_type": "code",
   "execution_count": 7,
   "id": "296df3b5",
   "metadata": {
    "execution": {
     "iopub.execute_input": "2024-08-21T12:10:56.780593Z",
     "iopub.status.busy": "2024-08-21T12:10:56.780495Z",
     "iopub.status.idle": "2024-08-21T12:10:56.782832Z",
     "shell.execute_reply": "2024-08-21T12:10:56.782636Z"
    },
    "papermill": {
     "duration": 0.004625,
     "end_time": "2024-08-21T12:10:56.783535",
     "exception": false,
     "start_time": "2024-08-21T12:10:56.778910",
     "status": "completed"
    },
    "tags": []
   },
   "outputs": [],
   "source": [
    "# standardize the source and target data, and convert to domain labels\n",
    "from sklearn.preprocessing import StandardScaler\n",
    "X = np.concatenate((source, target), axis=0)\n",
    "# standardize X to remove cardinatlity bias\n",
    "X = StandardScaler().fit_transform(X)\n",
    "y = np.concatenate((np.zeros(source.shape[0]),\n",
    "                    np.ones(target.shape[0])), axis=0)  # domain labels"
   ]
  },
  {
   "cell_type": "code",
   "execution_count": 8,
   "id": "c5422e1f",
   "metadata": {
    "execution": {
     "iopub.execute_input": "2024-08-21T12:10:56.786479Z",
     "iopub.status.busy": "2024-08-21T12:10:56.786308Z",
     "iopub.status.idle": "2024-08-21T12:10:56.837019Z",
     "shell.execute_reply": "2024-08-21T12:10:56.836738Z"
    },
    "papermill": {
     "duration": 0.053111,
     "end_time": "2024-08-21T12:10:56.837921",
     "exception": false,
     "start_time": "2024-08-21T12:10:56.784810",
     "status": "completed"
    },
    "tags": []
   },
   "outputs": [],
   "source": [
    "from sklearn.datasets import make_classification\n",
    "from sklearn.model_selection import train_test_split\n",
    "\n",
    "X_train, X_test, y_train, y_test = train_test_split(X, y,\n",
    "                                     stratify=y, random_state=42)"
   ]
  },
  {
   "cell_type": "code",
   "execution_count": 9,
   "id": "5d9ba299",
   "metadata": {
    "execution": {
     "iopub.execute_input": "2024-08-21T12:10:56.841197Z",
     "iopub.status.busy": "2024-08-21T12:10:56.841018Z",
     "iopub.status.idle": "2024-08-21T12:10:56.855129Z",
     "shell.execute_reply": "2024-08-21T12:10:56.854873Z"
    },
    "papermill": {
     "duration": 0.016635,
     "end_time": "2024-08-21T12:10:56.856056",
     "exception": false,
     "start_time": "2024-08-21T12:10:56.839421",
     "status": "completed"
    },
    "tags": []
   },
   "outputs": [],
   "source": [
    "# Using XGBoost\n",
    "import xgboost\n",
    "\n",
    "def fit_xgboost(X_train, y_train, X_test, y_test, feature_names=None):\n",
    "    \"\"\" Train an XGBoost model with early stopping.\n",
    "    \"\"\"\n",
    "    dtrain = xgboost.DMatrix(X_train, label=y_train, feature_names=feature_names)\n",
    "    dtest = xgboost.DMatrix(X_test, label=y_test, feature_names=feature_names)\n",
    "    # model = xgboost.train(\n",
    "    #     { \"eta\": 0.001, \"subsample\": 0.5, \"max_depth\": 2,\n",
    "    #       \"objective\": 'binary:logistic', 'eval_metric': 'logloss'}, dtrain, num_boost_round=200000,\n",
    "    #     evals=[(dtest,'eval'), (dtrain,'train')], early_stopping_rounds=20, verbose_eval=False\n",
    "    # )\n",
    "    model = xgboost.train(\n",
    "        {\"objective\": 'binary:logistic', 'eval_metric': 'logloss'},\n",
    "        dtrain,\n",
    "        evals=[(dtest,'eval'), (dtrain,'train')],\n",
    "        verbose_eval=False)\n",
    "    return model"
   ]
  },
  {
   "cell_type": "code",
   "execution_count": 10,
   "id": "bd7ac9f1",
   "metadata": {
    "execution": {
     "iopub.execute_input": "2024-08-21T12:10:56.859204Z",
     "iopub.status.busy": "2024-08-21T12:10:56.859100Z",
     "iopub.status.idle": "2024-08-21T12:10:56.874011Z",
     "shell.execute_reply": "2024-08-21T12:10:56.873739Z"
    },
    "papermill": {
     "duration": 0.017366,
     "end_time": "2024-08-21T12:10:56.874856",
     "exception": false,
     "start_time": "2024-08-21T12:10:56.857490",
     "status": "completed"
    },
    "tags": []
   },
   "outputs": [],
   "source": [
    "xgb_forest = fit_xgboost(X_train, y_train, X_test, y_test, feature_names)\n",
    "xgb_forest.feature_names = feature_names"
   ]
  },
  {
   "cell_type": "code",
   "execution_count": 11,
   "id": "dcaa3020",
   "metadata": {
    "execution": {
     "iopub.execute_input": "2024-08-21T12:10:56.878122Z",
     "iopub.status.busy": "2024-08-21T12:10:56.878017Z",
     "iopub.status.idle": "2024-08-21T12:10:56.879825Z",
     "shell.execute_reply": "2024-08-21T12:10:56.879583Z"
    },
    "papermill": {
     "duration": 0.00422,
     "end_time": "2024-08-21T12:10:56.880549",
     "exception": false,
     "start_time": "2024-08-21T12:10:56.876329",
     "status": "completed"
    },
    "tags": []
   },
   "outputs": [],
   "source": [
    "def get_acc(model, samples, labels, feature_names=None):\n",
    "    predictions = (model.predict(xgboost.DMatrix(samples,\n",
    "                                                 feature_names=feature_names)) > 0.5).astype(int)\n",
    "    return (predictions == labels).sum() / predictions.shape[0]"
   ]
  },
  {
   "cell_type": "code",
   "execution_count": 12,
   "id": "7ce6b380",
   "metadata": {
    "execution": {
     "iopub.execute_input": "2024-08-21T12:10:56.883457Z",
     "iopub.status.busy": "2024-08-21T12:10:56.883362Z",
     "iopub.status.idle": "2024-08-21T12:10:56.886107Z",
     "shell.execute_reply": "2024-08-21T12:10:56.885896Z"
    },
    "papermill": {
     "duration": 0.00496,
     "end_time": "2024-08-21T12:10:56.886781",
     "exception": false,
     "start_time": "2024-08-21T12:10:56.881821",
     "status": "completed"
    },
    "tags": []
   },
   "outputs": [
    {
     "name": "stdout",
     "output_type": "stream",
     "text": [
      "Train score: 0.7275769745649264\n",
      "Test score: 0.6566265060240963\n"
     ]
    }
   ],
   "source": [
    "print('Train score:', get_acc(xgb_forest, X_train, y_train, feature_names))\n",
    "print('Test score:', get_acc(xgb_forest, X_test, y_test, feature_names))"
   ]
  },
  {
   "cell_type": "code",
   "execution_count": 13,
   "id": "97a1d2b0",
   "metadata": {
    "execution": {
     "iopub.execute_input": "2024-08-21T12:10:56.889764Z",
     "iopub.status.busy": "2024-08-21T12:10:56.889664Z",
     "iopub.status.idle": "2024-08-21T12:10:57.139585Z",
     "shell.execute_reply": "2024-08-21T12:10:57.139298Z"
    },
    "papermill": {
     "duration": 0.252497,
     "end_time": "2024-08-21T12:10:57.140579",
     "exception": false,
     "start_time": "2024-08-21T12:10:56.888082",
     "status": "completed"
    },
    "tags": []
   },
   "outputs": [],
   "source": [
    "import shap\n",
    "import pandas as pd\n",
    "explainer = shap.Explainer(xgb_forest)\n",
    "\n",
    "shap_values = explainer(pd.DataFrame(X_test, columns=feature_names))\n"
   ]
  },
  {
   "cell_type": "code",
   "execution_count": 14,
   "id": "8e7a54a8",
   "metadata": {
    "execution": {
     "iopub.execute_input": "2024-08-21T12:10:57.144006Z",
     "iopub.status.busy": "2024-08-21T12:10:57.143847Z",
     "iopub.status.idle": "2024-08-21T12:10:57.467732Z",
     "shell.execute_reply": "2024-08-21T12:10:57.467471Z"
    },
    "papermill": {
     "duration": 0.326438,
     "end_time": "2024-08-21T12:10:57.468578",
     "exception": false,
     "start_time": "2024-08-21T12:10:57.142140",
     "status": "completed"
    },
    "tags": []
   },
   "outputs": [
    {
     "data": {
      "image/png": "[encoded data removed]",
      "text/plain": [
       "<Figure size 400x100 with 2 Axes>"
      ]
     },
     "metadata": {},
     "output_type": "display_data"
    }
   ],
   "source": [
    "# Beeswarm plot\n",
    "\n",
    "shap.plots.beeswarm(shap_values, show=False)\n",
    "fig = plt.gcf()\n",
    "fig.set_size_inches(4, 1, forward=True)\n",
    "if save_figures: plt.savefig(\n",
    "    f'../{path_transport_graphics}/logitics_data_on_customer_profile_{comparison_dict[comparison_id][0]} and customer_profile_{comparison_dict[comparison_id][1]}-shap-value.{save_parms[\"format\"]}',\n",
    "    **save_parms\n",
    "    )\n",
    "plt.show()"
   ]
  }
 ],
 "metadata": {
  "kernelspec": {
   "display_name": "Python 3.7.11 ('py37')",
   "language": "python",
   "name": "python3"
  },
  "language_info": {
   "codemirror_mode": {
    "name": "ipython",
    "version": 3
   },
   "file_extension": ".py",
   "mimetype": "text/x-python",
   "name": "python",
   "nbconvert_exporter": "python",
   "pygments_lexer": "ipython3",
   "version": "3.12.0"
  },
  "papermill": {
   "default_parameters": {},
   "duration": 2.623271,
   "end_time": "2024-08-21T12:10:57.786686",
   "environment_variables": {},
   "exception": null,
   "input_path": "experiment_baseline.ipynb",
   "output_path": "./Results_Experiments/Set_number_of_connections_to_None/experiment_baseline_3.ipynb",
   "parameters": {
    "comparison_id": 2
   },
   "start_time": "2024-08-21T12:10:55.163415",
   "version": "2.6.0"
  },
  "vscode": {
   "interpreter": {
    "hash": "5ab0220f0ca30ec7bac8a7e209564eceae6d15412b9f87f3c2f91206aa8b151c"
   }
  }
 },
 "nbformat": 4,
 "nbformat_minor": 5
}