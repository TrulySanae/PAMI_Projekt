{
 "cells": [
  {
   "cell_type": "code",
   "execution_count": 1,
   "id": "d05cab18",
   "metadata": {
    "execution": {
     "iopub.execute_input": "2024-08-21T09:48:28.928861Z",
     "iopub.status.busy": "2024-08-21T09:48:28.928696Z",
     "iopub.status.idle": "2024-08-21T09:48:30.284108Z",
     "shell.execute_reply": "2024-08-21T09:48:30.283761Z"
    },
    "papermill": {
     "duration": 1.36116,
     "end_time": "2024-08-21T09:48:30.286586",
     "exception": false,
     "start_time": "2024-08-21T09:48:28.925426",
     "status": "completed"
    },
    "tags": []
   },
   "outputs": [],
   "source": [
    "import matplotlib.pyplot as plt\n",
    "import numpy as np\n",
    "import pandas as pd\n",
    "from pathlib import Path\n",
    "import seaborn as sn\n"
   ]
  },
  {
   "cell_type": "code",
   "execution_count": 2,
   "id": "d6302d10",
   "metadata": {
    "execution": {
     "iopub.execute_input": "2024-08-21T09:48:30.299166Z",
     "iopub.status.busy": "2024-08-21T09:48:30.298959Z",
     "iopub.status.idle": "2024-08-21T09:48:30.302220Z",
     "shell.execute_reply": "2024-08-21T09:48:30.301900Z"
    },
    "papermill": {
     "duration": 0.008755,
     "end_time": "2024-08-21T09:48:30.304148",
     "exception": false,
     "start_time": "2024-08-21T09:48:30.295393",
     "status": "completed"
    },
    "tags": []
   },
   "outputs": [],
   "source": [
    "# Setting so that the plots look normal even when using dark-reader\n",
    "sn.set_style(\"whitegrid\")\n",
    "sn.set_context(context=\"paper\", font_scale=2)\n",
    "pal = sn.color_palette(\"Set1\")\n",
    "\n",
    "# Setting up specifics for plotting + saving\n",
    "save_figures = True\n",
    "add_legend = False\n",
    "add_title = False\n",
    "add_axis = False\n",
    "save_parms = {'format': 'pdf','bbox_inches':'tight', 'pad_inches':0.1}\n",
    "line_parms = {'linewidth':4, 'color':'k'}\n",
    "if save_figures:  # saves all figures in a figure directory in the local directory\n",
    "    figure_dir = Path('.') / 'figures' / 'adult-income-experiment'\n",
    "    if not figure_dir.exists():\n",
    "        figure_dir.mkdir(parents=True)"
   ]
  },
  {
   "cell_type": "code",
   "execution_count": 3,
   "id": "22d1d0e0",
   "metadata": {
    "execution": {
     "iopub.execute_input": "2024-08-21T09:48:30.326234Z",
     "iopub.status.busy": "2024-08-21T09:48:30.325951Z",
     "iopub.status.idle": "2024-08-21T09:48:30.329876Z",
     "shell.execute_reply": "2024-08-21T09:48:30.329529Z"
    },
    "papermill": {
     "duration": 0.011629,
     "end_time": "2024-08-21T09:48:30.330838",
     "exception": false,
     "start_time": "2024-08-21T09:48:30.319209",
     "status": "completed"
    },
    "tags": []
   },
   "outputs": [],
   "source": [
    "# Experiment hyperparamters\n",
    "rng = np.random.RandomState(42)\n",
    "split_on_income = False  # if True: src := income>=50k, tgt :+ income<50k, if False: src := male, tgt := female\n",
    "n_samples = 1000"
   ]
  },
  {
   "cell_type": "code",
   "execution_count": 4,
   "id": "48ff09ec",
   "metadata": {
    "execution": {
     "iopub.execute_input": "2024-08-21T09:48:30.337534Z",
     "iopub.status.busy": "2024-08-21T09:48:30.337360Z",
     "iopub.status.idle": "2024-08-21T09:48:30.345225Z",
     "shell.execute_reply": "2024-08-21T09:48:30.343968Z"
    },
    "papermill": {
     "duration": 0.016696,
     "end_time": "2024-08-21T09:48:30.348965",
     "exception": false,
     "start_time": "2024-08-21T09:48:30.332269",
     "status": "completed"
    },
    "tags": [
     "parameters"
    ]
   },
   "outputs": [],
   "source": [
    "comparison_id = None"
   ]
  },
  {
   "cell_type": "code",
   "execution_count": 5,
   "id": "471c9b35",
   "metadata": {
    "execution": {
     "iopub.execute_input": "2024-08-21T09:48:30.365406Z",
     "iopub.status.busy": "2024-08-21T09:48:30.365075Z",
     "iopub.status.idle": "2024-08-21T09:48:30.370223Z",
     "shell.execute_reply": "2024-08-21T09:48:30.368431Z"
    },
    "papermill": {
     "duration": 0.018466,
     "end_time": "2024-08-21T09:48:30.373355",
     "exception": false,
     "start_time": "2024-08-21T09:48:30.354889",
     "status": "completed"
    },
    "tags": [
     "injected-parameters"
    ]
   },
   "outputs": [],
   "source": [
    "# Parameters\n",
    "comparison_id = 2\n"
   ]
  },
  {
   "cell_type": "code",
   "execution_count": 6,
   "id": "dade2b7e",
   "metadata": {
    "execution": {
     "iopub.execute_input": "2024-08-21T09:48:30.381381Z",
     "iopub.status.busy": "2024-08-21T09:48:30.381091Z",
     "iopub.status.idle": "2024-08-21T09:48:30.399628Z",
     "shell.execute_reply": "2024-08-21T09:48:30.399116Z"
    },
    "papermill": {
     "duration": 0.022149,
     "end_time": "2024-08-21T09:48:30.400608",
     "exception": false,
     "start_time": "2024-08-21T09:48:30.378459",
     "status": "completed"
    },
    "tags": []
   },
   "outputs": [
    {
     "name": "stdout",
     "output_type": "stream",
     "text": [
      "['Customer_id', 'Connection', 'Weight', 'Unit_type', 'Day', 'Week']\n"
     ]
    }
   ],
   "source": [
    "\n",
    "# Load the data\n",
    "comparison_dict = {0: [0,1], 1: [2,3], 2: [4,5]}\n",
    "path_customer_profiles = open('./Results_Experiments/File_Paths/path_customer_profiles.txt','r').read()\n",
    "path_transport_graphics = open('./Results_Experiments/File_Paths/path_transport_graphics.txt','r').read()\n",
    "source = pd.read_csv(f'../{path_customer_profiles}/customer_profile_{comparison_dict[comparison_id][0]}.csv')\n",
    "target = pd.read_csv(f'../{path_customer_profiles}/customer_profile_{comparison_dict[comparison_id][1]}.csv')\n",
    "\n",
    "feature_names = source.columns.values\n",
    "feature_names = list(feature_names)\n",
    "print(feature_names)"
   ]
  },
  {
   "cell_type": "code",
   "execution_count": 7,
   "id": "296df3b5",
   "metadata": {
    "execution": {
     "iopub.execute_input": "2024-08-21T09:48:30.405019Z",
     "iopub.status.busy": "2024-08-21T09:48:30.404879Z",
     "iopub.status.idle": "2024-08-21T09:48:30.485430Z",
     "shell.execute_reply": "2024-08-21T09:48:30.485121Z"
    },
    "papermill": {
     "duration": 0.083891,
     "end_time": "2024-08-21T09:48:30.486395",
     "exception": false,
     "start_time": "2024-08-21T09:48:30.402504",
     "status": "completed"
    },
    "tags": []
   },
   "outputs": [],
   "source": [
    "# standardize the source and target data, and convert to domain labels\n",
    "from sklearn.preprocessing import StandardScaler\n",
    "X = np.concatenate((source, target), axis=0)\n",
    "# standardize X to remove cardinatlity bias\n",
    "X = StandardScaler().fit_transform(X)\n",
    "y = np.concatenate((np.zeros(source.shape[0]),\n",
    "                    np.ones(target.shape[0])), axis=0)  # domain labels"
   ]
  },
  {
   "cell_type": "code",
   "execution_count": 8,
   "id": "c5422e1f",
   "metadata": {
    "execution": {
     "iopub.execute_input": "2024-08-21T09:48:30.490196Z",
     "iopub.status.busy": "2024-08-21T09:48:30.490015Z",
     "iopub.status.idle": "2024-08-21T09:48:30.562034Z",
     "shell.execute_reply": "2024-08-21T09:48:30.561775Z"
    },
    "papermill": {
     "duration": 0.075055,
     "end_time": "2024-08-21T09:48:30.562990",
     "exception": false,
     "start_time": "2024-08-21T09:48:30.487935",
     "status": "completed"
    },
    "tags": []
   },
   "outputs": [],
   "source": [
    "from sklearn.datasets import make_classification\n",
    "from sklearn.model_selection import train_test_split\n",
    "\n",
    "X_train, X_test, y_train, y_test = train_test_split(X, y,\n",
    "                                     stratify=y, random_state=42)"
   ]
  },
  {
   "cell_type": "code",
   "execution_count": 9,
   "id": "5d9ba299",
   "metadata": {
    "execution": {
     "iopub.execute_input": "2024-08-21T09:48:30.566260Z",
     "iopub.status.busy": "2024-08-21T09:48:30.566100Z",
     "iopub.status.idle": "2024-08-21T09:48:30.589346Z",
     "shell.execute_reply": "2024-08-21T09:48:30.589044Z"
    },
    "papermill": {
     "duration": 0.025849,
     "end_time": "2024-08-21T09:48:30.590275",
     "exception": false,
     "start_time": "2024-08-21T09:48:30.564426",
     "status": "completed"
    },
    "tags": []
   },
   "outputs": [],
   "source": [
    "# Using XGBoost\n",
    "import xgboost\n",
    "\n",
    "def fit_xgboost(X_train, y_train, X_test, y_test, feature_names=None):\n",
    "    \"\"\" Train an XGBoost model with early stopping.\n",
    "    \"\"\"\n",
    "    dtrain = xgboost.DMatrix(X_train, label=y_train, feature_names=feature_names)\n",
    "    dtest = xgboost.DMatrix(X_test, label=y_test, feature_names=feature_names)\n",
    "    # model = xgboost.train(\n",
    "    #     { \"eta\": 0.001, \"subsample\": 0.5, \"max_depth\": 2,\n",
    "    #       \"objective\": 'binary:logistic', 'eval_metric': 'logloss'}, dtrain, num_boost_round=200000,\n",
    "    #     evals=[(dtest,'eval'), (dtrain,'train')], early_stopping_rounds=20, verbose_eval=False\n",
    "    # )\n",
    "    model = xgboost.train(\n",
    "        {\"objective\": 'binary:logistic', 'eval_metric': 'logloss'},\n",
    "        dtrain,\n",
    "        evals=[(dtest,'eval'), (dtrain,'train')],\n",
    "        verbose_eval=False)\n",
    "    return model"
   ]
  },
  {
   "cell_type": "code",
   "execution_count": 10,
   "id": "bd7ac9f1",
   "metadata": {
    "execution": {
     "iopub.execute_input": "2024-08-21T09:48:30.593778Z",
     "iopub.status.busy": "2024-08-21T09:48:30.593577Z",
     "iopub.status.idle": "2024-08-21T09:48:30.622257Z",
     "shell.execute_reply": "2024-08-21T09:48:30.621950Z"
    },
    "papermill": {
     "duration": 0.031473,
     "end_time": "2024-08-21T09:48:30.623316",
     "exception": false,
     "start_time": "2024-08-21T09:48:30.591843",
     "status": "completed"
    },
    "tags": []
   },
   "outputs": [],
   "source": [
    "xgb_forest = fit_xgboost(X_train, y_train, X_test, y_test, feature_names)\n",
    "xgb_forest.feature_names = feature_names"
   ]
  },
  {
   "cell_type": "code",
   "execution_count": 11,
   "id": "dcaa3020",
   "metadata": {
    "execution": {
     "iopub.execute_input": "2024-08-21T09:48:30.627648Z",
     "iopub.status.busy": "2024-08-21T09:48:30.627509Z",
     "iopub.status.idle": "2024-08-21T09:48:30.629538Z",
     "shell.execute_reply": "2024-08-21T09:48:30.629274Z"
    },
    "papermill": {
     "duration": 0.005463,
     "end_time": "2024-08-21T09:48:30.630371",
     "exception": false,
     "start_time": "2024-08-21T09:48:30.624908",
     "status": "completed"
    },
    "tags": []
   },
   "outputs": [],
   "source": [
    "def get_acc(model, samples, labels, feature_names=None):\n",
    "    predictions = (model.predict(xgboost.DMatrix(samples,\n",
    "                                                 feature_names=feature_names)) > 0.5).astype(int)\n",
    "    return (predictions == labels).sum() / predictions.shape[0]"
   ]
  },
  {
   "cell_type": "code",
   "execution_count": 12,
   "id": "7ce6b380",
   "metadata": {
    "execution": {
     "iopub.execute_input": "2024-08-21T09:48:30.633697Z",
     "iopub.status.busy": "2024-08-21T09:48:30.633543Z",
     "iopub.status.idle": "2024-08-21T09:48:30.637696Z",
     "shell.execute_reply": "2024-08-21T09:48:30.637459Z"
    },
    "papermill": {
     "duration": 0.00661,
     "end_time": "2024-08-21T09:48:30.638429",
     "exception": false,
     "start_time": "2024-08-21T09:48:30.631819",
     "status": "completed"
    },
    "tags": []
   },
   "outputs": [
    {
     "name": "stdout",
     "output_type": "stream",
     "text": [
      "Train score: 0.9063636363636364\n",
      "Test score: 0.9043181818181818\n"
     ]
    }
   ],
   "source": [
    "print('Train score:', get_acc(xgb_forest, X_train, y_train, feature_names))\n",
    "print('Test score:', get_acc(xgb_forest, X_test, y_test, feature_names))"
   ]
  },
  {
   "cell_type": "code",
   "execution_count": 13,
   "id": "97a1d2b0",
   "metadata": {
    "execution": {
     "iopub.execute_input": "2024-08-21T09:48:30.641795Z",
     "iopub.status.busy": "2024-08-21T09:48:30.641685Z",
     "iopub.status.idle": "2024-08-21T09:48:30.970318Z",
     "shell.execute_reply": "2024-08-21T09:48:30.970058Z"
    },
    "papermill": {
     "duration": 0.331509,
     "end_time": "2024-08-21T09:48:30.971454",
     "exception": false,
     "start_time": "2024-08-21T09:48:30.639945",
     "status": "completed"
    },
    "tags": []
   },
   "outputs": [],
   "source": [
    "import shap\n",
    "import pandas as pd\n",
    "explainer = shap.Explainer(xgb_forest)\n",
    "\n",
    "shap_values = explainer(pd.DataFrame(X_test, columns=feature_names))\n"
   ]
  },
  {
   "cell_type": "code",
   "execution_count": 14,
   "id": "8e7a54a8",
   "metadata": {
    "execution": {
     "iopub.execute_input": "2024-08-21T09:48:30.974995Z",
     "iopub.status.busy": "2024-08-21T09:48:30.974830Z",
     "iopub.status.idle": "2024-08-21T09:48:31.750865Z",
     "shell.execute_reply": "2024-08-21T09:48:31.750437Z"
    },
    "papermill": {
     "duration": 0.780471,
     "end_time": "2024-08-21T09:48:31.753546",
     "exception": false,
     "start_time": "2024-08-21T09:48:30.973075",
     "status": "completed"
    },
    "tags": []
   },
   "outputs": [
    {
     "data": {
      "image/png": "[encoded data removed]",
      "text/plain": [
       "<Figure size 400x200 with 2 Axes>"
      ]
     },
     "metadata": {},
     "output_type": "display_data"
    }
   ],
   "source": [
    "# Beeswarm plot\n",
    "\n",
    "shap.plots.beeswarm(shap_values, show=False)\n",
    "fig = plt.gcf()\n",
    "fig.set_size_inches(4, 2, forward=True)\n",
    "if save_figures: plt.savefig(\n",
    "    f'../{path_transport_graphics}/logitics_data_on_customer_profile_{comparison_dict[comparison_id][0]} and customer_profile_{comparison_dict[comparison_id][1]}-shap-value.{save_parms[\"format\"]}',\n",
    "    **save_parms\n",
    "    )\n",
    "plt.show()"
   ]
  }
 ],
 "metadata": {
  "kernelspec": {
   "display_name": "Python 3.7.11 ('py37')",
   "language": "python",
   "name": "python3"
  },
  "language_info": {
   "codemirror_mode": {
    "name": "ipython",
    "version": 3
   },
   "file_extension": ".py",
   "mimetype": "text/x-python",
   "name": "python",
   "nbconvert_exporter": "python",
   "pygments_lexer": "ipython3",
   "version": "3.12.0"
  },
  "papermill": {
   "default_parameters": {},
   "duration": 4.099357,
   "end_time": "2024-08-21T09:48:32.174524",
   "environment_variables": {},
   "exception": null,
   "input_path": "experiment_baseline.ipynb",
   "output_path": "./Results_Experiments/Set_number_of_connections_to_None/experiment_baseline_3.ipynb",
   "parameters": {
    "comparison_id": 2
   },
   "start_time": "2024-08-21T09:48:28.075167",
   "version": "2.6.0"
  },
  "vscode": {
   "interpreter": {
    "hash": "5ab0220f0ca30ec7bac8a7e209564eceae6d15412b9f87f3c2f91206aa8b151c"
   }
  }
 },
 "nbformat": 4,
 "nbformat_minor": 5
}