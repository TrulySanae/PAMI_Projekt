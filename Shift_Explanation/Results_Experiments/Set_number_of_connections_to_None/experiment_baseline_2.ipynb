{
 "cells": [
  {
   "cell_type": "code",
   "execution_count": 1,
   "id": "d05cab18",
   "metadata": {
    "execution": {
     "iopub.execute_input": "2024-08-21T09:48:25.243694Z",
     "iopub.status.busy": "2024-08-21T09:48:25.243483Z",
     "iopub.status.idle": "2024-08-21T09:48:26.310273Z",
     "shell.execute_reply": "2024-08-21T09:48:26.309900Z"
    },
    "papermill": {
     "duration": 1.070956,
     "end_time": "2024-08-21T09:48:26.311730",
     "exception": false,
     "start_time": "2024-08-21T09:48:25.240774",
     "status": "completed"
    },
    "tags": []
   },
   "outputs": [],
   "source": [
    "import matplotlib.pyplot as plt\n",
    "import numpy as np\n",
    "import pandas as pd\n",
    "from pathlib import Path\n",
    "import seaborn as sn\n"
   ]
  },
  {
   "cell_type": "code",
   "execution_count": 2,
   "id": "d6302d10",
   "metadata": {
    "execution": {
     "iopub.execute_input": "2024-08-21T09:48:26.316208Z",
     "iopub.status.busy": "2024-08-21T09:48:26.315913Z",
     "iopub.status.idle": "2024-08-21T09:48:26.319813Z",
     "shell.execute_reply": "2024-08-21T09:48:26.319046Z"
    },
    "papermill": {
     "duration": 0.007579,
     "end_time": "2024-08-21T09:48:26.321187",
     "exception": false,
     "start_time": "2024-08-21T09:48:26.313608",
     "status": "completed"
    },
    "tags": []
   },
   "outputs": [],
   "source": [
    "# Setting so that the plots look normal even when using dark-reader\n",
    "sn.set_style(\"whitegrid\")\n",
    "sn.set_context(context=\"paper\", font_scale=2)\n",
    "pal = sn.color_palette(\"Set1\")\n",
    "\n",
    "# Setting up specifics for plotting + saving\n",
    "save_figures = True\n",
    "add_legend = False\n",
    "add_title = False\n",
    "add_axis = False\n",
    "save_parms = {'format': 'pdf','bbox_inches':'tight', 'pad_inches':0.1}\n",
    "line_parms = {'linewidth':4, 'color':'k'}\n",
    "if save_figures:  # saves all figures in a figure directory in the local directory\n",
    "    figure_dir = Path('.') / 'figures' / 'adult-income-experiment'\n",
    "    if not figure_dir.exists():\n",
    "        figure_dir.mkdir(parents=True)"
   ]
  },
  {
   "cell_type": "code",
   "execution_count": 3,
   "id": "22d1d0e0",
   "metadata": {
    "execution": {
     "iopub.execute_input": "2024-08-21T09:48:26.325371Z",
     "iopub.status.busy": "2024-08-21T09:48:26.325175Z",
     "iopub.status.idle": "2024-08-21T09:48:26.327961Z",
     "shell.execute_reply": "2024-08-21T09:48:26.327411Z"
    },
    "papermill": {
     "duration": 0.006089,
     "end_time": "2024-08-21T09:48:26.329008",
     "exception": false,
     "start_time": "2024-08-21T09:48:26.322919",
     "status": "completed"
    },
    "tags": []
   },
   "outputs": [],
   "source": [
    "# Experiment hyperparamters\n",
    "rng = np.random.RandomState(42)\n",
    "split_on_income = False  # if True: src := income>=50k, tgt :+ income<50k, if False: src := male, tgt := female\n",
    "n_samples = 1000"
   ]
  },
  {
   "cell_type": "code",
   "execution_count": 4,
   "id": "48ff09ec",
   "metadata": {
    "execution": {
     "iopub.execute_input": "2024-08-21T09:48:26.334842Z",
     "iopub.status.busy": "2024-08-21T09:48:26.334546Z",
     "iopub.status.idle": "2024-08-21T09:48:26.337579Z",
     "shell.execute_reply": "2024-08-21T09:48:26.337165Z"
    },
    "papermill": {
     "duration": 0.006787,
     "end_time": "2024-08-21T09:48:26.338451",
     "exception": false,
     "start_time": "2024-08-21T09:48:26.331664",
     "status": "completed"
    },
    "tags": [
     "parameters"
    ]
   },
   "outputs": [],
   "source": [
    "comparison_id = None"
   ]
  },
  {
   "cell_type": "code",
   "execution_count": 5,
   "id": "e7678e65",
   "metadata": {
    "execution": {
     "iopub.execute_input": "2024-08-21T09:48:26.345437Z",
     "iopub.status.busy": "2024-08-21T09:48:26.344486Z",
     "iopub.status.idle": "2024-08-21T09:48:26.351767Z",
     "shell.execute_reply": "2024-08-21T09:48:26.349477Z"
    },
    "papermill": {
     "duration": 0.018589,
     "end_time": "2024-08-21T09:48:26.359045",
     "exception": false,
     "start_time": "2024-08-21T09:48:26.340456",
     "status": "completed"
    },
    "tags": [
     "injected-parameters"
    ]
   },
   "outputs": [],
   "source": [
    "# Parameters\n",
    "comparison_id = 1\n"
   ]
  },
  {
   "cell_type": "code",
   "execution_count": 6,
   "id": "dade2b7e",
   "metadata": {
    "execution": {
     "iopub.execute_input": "2024-08-21T09:48:26.377202Z",
     "iopub.status.busy": "2024-08-21T09:48:26.376544Z",
     "iopub.status.idle": "2024-08-21T09:48:26.395064Z",
     "shell.execute_reply": "2024-08-21T09:48:26.394539Z"
    },
    "papermill": {
     "duration": 0.02999,
     "end_time": "2024-08-21T09:48:26.396786",
     "exception": false,
     "start_time": "2024-08-21T09:48:26.366796",
     "status": "completed"
    },
    "tags": []
   },
   "outputs": [
    {
     "name": "stdout",
     "output_type": "stream",
     "text": [
      "['Customer_id', 'Connection', 'Weight', 'Unit_type', 'Day', 'Week']\n"
     ]
    }
   ],
   "source": [
    "\n",
    "# Load the data\n",
    "comparison_dict = {0: [0,1], 1: [2,3], 2: [4,5]}\n",
    "path_customer_profiles = open('./Results_Experiments/File_Paths/path_customer_profiles.txt','r').read()\n",
    "path_transport_graphics = open('./Results_Experiments/File_Paths/path_transport_graphics.txt','r').read()\n",
    "source = pd.read_csv(f'../{path_customer_profiles}/customer_profile_{comparison_dict[comparison_id][0]}.csv')\n",
    "target = pd.read_csv(f'../{path_customer_profiles}/customer_profile_{comparison_dict[comparison_id][1]}.csv')\n",
    "\n",
    "feature_names = source.columns.values\n",
    "feature_names = list(feature_names)\n",
    "print(feature_names)"
   ]
  },
  {
   "cell_type": "code",
   "execution_count": 7,
   "id": "296df3b5",
   "metadata": {
    "execution": {
     "iopub.execute_input": "2024-08-21T09:48:26.419616Z",
     "iopub.status.busy": "2024-08-21T09:48:26.418579Z",
     "iopub.status.idle": "2024-08-21T09:48:26.472065Z",
     "shell.execute_reply": "2024-08-21T09:48:26.471751Z"
    },
    "papermill": {
     "duration": 0.068361,
     "end_time": "2024-08-21T09:48:26.473048",
     "exception": false,
     "start_time": "2024-08-21T09:48:26.404687",
     "status": "completed"
    },
    "tags": []
   },
   "outputs": [],
   "source": [
    "# standardize the source and target data, and convert to domain labels\n",
    "from sklearn.preprocessing import StandardScaler\n",
    "X = np.concatenate((source, target), axis=0)\n",
    "# standardize X to remove cardinatlity bias\n",
    "X = StandardScaler().fit_transform(X)\n",
    "y = np.concatenate((np.zeros(source.shape[0]),\n",
    "                    np.ones(target.shape[0])), axis=0)  # domain labels"
   ]
  },
  {
   "cell_type": "code",
   "execution_count": 8,
   "id": "c5422e1f",
   "metadata": {
    "execution": {
     "iopub.execute_input": "2024-08-21T09:48:26.476793Z",
     "iopub.status.busy": "2024-08-21T09:48:26.476483Z",
     "iopub.status.idle": "2024-08-21T09:48:26.560624Z",
     "shell.execute_reply": "2024-08-21T09:48:26.560286Z"
    },
    "papermill": {
     "duration": 0.087317,
     "end_time": "2024-08-21T09:48:26.561939",
     "exception": false,
     "start_time": "2024-08-21T09:48:26.474622",
     "status": "completed"
    },
    "tags": []
   },
   "outputs": [],
   "source": [
    "from sklearn.datasets import make_classification\n",
    "from sklearn.model_selection import train_test_split\n",
    "\n",
    "X_train, X_test, y_train, y_test = train_test_split(X, y,\n",
    "                                     stratify=y, random_state=42)"
   ]
  },
  {
   "cell_type": "code",
   "execution_count": 9,
   "id": "5d9ba299",
   "metadata": {
    "execution": {
     "iopub.execute_input": "2024-08-21T09:48:26.566050Z",
     "iopub.status.busy": "2024-08-21T09:48:26.565799Z",
     "iopub.status.idle": "2024-08-21T09:48:26.584021Z",
     "shell.execute_reply": "2024-08-21T09:48:26.583688Z"
    },
    "papermill": {
     "duration": 0.021478,
     "end_time": "2024-08-21T09:48:26.585036",
     "exception": false,
     "start_time": "2024-08-21T09:48:26.563558",
     "status": "completed"
    },
    "tags": []
   },
   "outputs": [],
   "source": [
    "# Using XGBoost\n",
    "import xgboost\n",
    "\n",
    "def fit_xgboost(X_train, y_train, X_test, y_test, feature_names=None):\n",
    "    \"\"\" Train an XGBoost model with early stopping.\n",
    "    \"\"\"\n",
    "    dtrain = xgboost.DMatrix(X_train, label=y_train, feature_names=feature_names)\n",
    "    dtest = xgboost.DMatrix(X_test, label=y_test, feature_names=feature_names)\n",
    "    # model = xgboost.train(\n",
    "    #     { \"eta\": 0.001, \"subsample\": 0.5, \"max_depth\": 2,\n",
    "    #       \"objective\": 'binary:logistic', 'eval_metric': 'logloss'}, dtrain, num_boost_round=200000,\n",
    "    #     evals=[(dtest,'eval'), (dtrain,'train')], early_stopping_rounds=20, verbose_eval=False\n",
    "    # )\n",
    "    model = xgboost.train(\n",
    "        {\"objective\": 'binary:logistic', 'eval_metric': 'logloss'},\n",
    "        dtrain,\n",
    "        evals=[(dtest,'eval'), (dtrain,'train')],\n",
    "        verbose_eval=False)\n",
    "    return model"
   ]
  },
  {
   "cell_type": "code",
   "execution_count": 10,
   "id": "bd7ac9f1",
   "metadata": {
    "execution": {
     "iopub.execute_input": "2024-08-21T09:48:26.588570Z",
     "iopub.status.busy": "2024-08-21T09:48:26.588429Z",
     "iopub.status.idle": "2024-08-21T09:48:26.612236Z",
     "shell.execute_reply": "2024-08-21T09:48:26.611910Z"
    },
    "papermill": {
     "duration": 0.026692,
     "end_time": "2024-08-21T09:48:26.613240",
     "exception": false,
     "start_time": "2024-08-21T09:48:26.586548",
     "status": "completed"
    },
    "tags": []
   },
   "outputs": [],
   "source": [
    "xgb_forest = fit_xgboost(X_train, y_train, X_test, y_test, feature_names)\n",
    "xgb_forest.feature_names = feature_names"
   ]
  },
  {
   "cell_type": "code",
   "execution_count": 11,
   "id": "dcaa3020",
   "metadata": {
    "execution": {
     "iopub.execute_input": "2024-08-21T09:48:26.616946Z",
     "iopub.status.busy": "2024-08-21T09:48:26.616811Z",
     "iopub.status.idle": "2024-08-21T09:48:26.618801Z",
     "shell.execute_reply": "2024-08-21T09:48:26.618563Z"
    },
    "papermill": {
     "duration": 0.00462,
     "end_time": "2024-08-21T09:48:26.619580",
     "exception": false,
     "start_time": "2024-08-21T09:48:26.614960",
     "status": "completed"
    },
    "tags": []
   },
   "outputs": [],
   "source": [
    "def get_acc(model, samples, labels, feature_names=None):\n",
    "    predictions = (model.predict(xgboost.DMatrix(samples,\n",
    "                                                 feature_names=feature_names)) > 0.5).astype(int)\n",
    "    return (predictions == labels).sum() / predictions.shape[0]"
   ]
  },
  {
   "cell_type": "code",
   "execution_count": 12,
   "id": "7ce6b380",
   "metadata": {
    "execution": {
     "iopub.execute_input": "2024-08-21T09:48:26.623497Z",
     "iopub.status.busy": "2024-08-21T09:48:26.623142Z",
     "iopub.status.idle": "2024-08-21T09:48:26.640823Z",
     "shell.execute_reply": "2024-08-21T09:48:26.639285Z"
    },
    "papermill": {
     "duration": 0.024247,
     "end_time": "2024-08-21T09:48:26.645274",
     "exception": false,
     "start_time": "2024-08-21T09:48:26.621027",
     "status": "completed"
    },
    "tags": []
   },
   "outputs": [
    {
     "name": "stdout",
     "output_type": "stream",
     "text": [
      "Train score: 0.9263731656184486\n",
      "Test score: 0.9250503018108652\n"
     ]
    }
   ],
   "source": [
    "print('Train score:', get_acc(xgb_forest, X_train, y_train, feature_names))\n",
    "print('Test score:', get_acc(xgb_forest, X_test, y_test, feature_names))"
   ]
  },
  {
   "cell_type": "code",
   "execution_count": 13,
   "id": "97a1d2b0",
   "metadata": {
    "execution": {
     "iopub.execute_input": "2024-08-21T09:48:26.660082Z",
     "iopub.status.busy": "2024-08-21T09:48:26.659585Z",
     "iopub.status.idle": "2024-08-21T09:48:26.971528Z",
     "shell.execute_reply": "2024-08-21T09:48:26.971256Z"
    },
    "papermill": {
     "duration": 0.319191,
     "end_time": "2024-08-21T09:48:26.973025",
     "exception": false,
     "start_time": "2024-08-21T09:48:26.653834",
     "status": "completed"
    },
    "tags": []
   },
   "outputs": [],
   "source": [
    "import shap\n",
    "import pandas as pd\n",
    "explainer = shap.Explainer(xgb_forest)\n",
    "\n",
    "shap_values = explainer(pd.DataFrame(X_test, columns=feature_names))\n"
   ]
  },
  {
   "cell_type": "code",
   "execution_count": 14,
   "id": "8e7a54a8",
   "metadata": {
    "execution": {
     "iopub.execute_input": "2024-08-21T09:48:26.977718Z",
     "iopub.status.busy": "2024-08-21T09:48:26.977507Z",
     "iopub.status.idle": "2024-08-21T09:48:27.641033Z",
     "shell.execute_reply": "2024-08-21T09:48:27.640451Z"
    },
    "papermill": {
     "duration": 0.668471,
     "end_time": "2024-08-21T09:48:27.643913",
     "exception": false,
     "start_time": "2024-08-21T09:48:26.975442",
     "status": "completed"
    },
    "tags": []
   },
   "outputs": [
    {
     "data": {
      "image/png": "[encoded data removed]",
      "text/plain": [
       "<Figure size 400x200 with 2 Axes>"
      ]
     },
     "metadata": {},
     "output_type": "display_data"
    }
   ],
   "source": [
    "# Beeswarm plot\n",
    "\n",
    "shap.plots.beeswarm(shap_values, show=False)\n",
    "fig = plt.gcf()\n",
    "fig.set_size_inches(4, 2, forward=True)\n",
    "if save_figures: plt.savefig(\n",
    "    f'../{path_transport_graphics}/logitics_data_on_customer_profile_{comparison_dict[comparison_id][0]} and customer_profile_{comparison_dict[comparison_id][1]}-shap-value.{save_parms[\"format\"]}',\n",
    "    **save_parms\n",
    "    )\n",
    "plt.show()"
   ]
  }
 ],
 "metadata": {
  "kernelspec": {
   "display_name": "Python 3.7.11 ('py37')",
   "language": "python",
   "name": "python3"
  },
  "language_info": {
   "codemirror_mode": {
    "name": "ipython",
    "version": 3
   },
   "file_extension": ".py",
   "mimetype": "text/x-python",
   "name": "python",
   "nbconvert_exporter": "python",
   "pygments_lexer": "ipython3",
   "version": "3.12.0"
  },
  "papermill": {
   "default_parameters": {},
   "duration": 3.586614,
   "end_time": "2024-08-21T09:48:28.069194",
   "environment_variables": {},
   "exception": null,
   "input_path": "experiment_baseline.ipynb",
   "output_path": "./Results_Experiments/Set_number_of_connections_to_None/experiment_baseline_2.ipynb",
   "parameters": {
    "comparison_id": 1
   },
   "start_time": "2024-08-21T09:48:24.482580",
   "version": "2.6.0"
  },
  "vscode": {
   "interpreter": {
    "hash": "5ab0220f0ca30ec7bac8a7e209564eceae6d15412b9f87f3c2f91206aa8b151c"
   }
  }
 },
 "nbformat": 4,
 "nbformat_minor": 5
}