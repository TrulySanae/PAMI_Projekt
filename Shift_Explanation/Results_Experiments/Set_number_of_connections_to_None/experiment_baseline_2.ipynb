{
 "cells": [
  {
   "cell_type": "code",
   "execution_count": 1,
   "id": "d05cab18",
   "metadata": {
    "execution": {
     "iopub.execute_input": "2024-08-21T12:10:53.251311Z",
     "iopub.status.busy": "2024-08-21T12:10:53.250949Z",
     "iopub.status.idle": "2024-08-21T12:10:54.131620Z",
     "shell.execute_reply": "2024-08-21T12:10:54.131303Z"
    },
    "papermill": {
     "duration": 0.887122,
     "end_time": "2024-08-21T12:10:54.132607",
     "exception": false,
     "start_time": "2024-08-21T12:10:53.245485",
     "status": "completed"
    },
    "tags": []
   },
   "outputs": [],
   "source": [
    "import matplotlib.pyplot as plt\n",
    "import numpy as np\n",
    "import pandas as pd\n",
    "from pathlib import Path\n",
    "import seaborn as sn\n",
    "from data_utils import load_and_preprocess_logistics_data"
   ]
  },
  {
   "cell_type": "code",
   "execution_count": 2,
   "id": "d6302d10",
   "metadata": {
    "execution": {
     "iopub.execute_input": "2024-08-21T12:10:54.135858Z",
     "iopub.status.busy": "2024-08-21T12:10:54.135706Z",
     "iopub.status.idle": "2024-08-21T12:10:54.138374Z",
     "shell.execute_reply": "2024-08-21T12:10:54.138135Z"
    },
    "papermill": {
     "duration": 0.005027,
     "end_time": "2024-08-21T12:10:54.139107",
     "exception": false,
     "start_time": "2024-08-21T12:10:54.134080",
     "status": "completed"
    },
    "tags": []
   },
   "outputs": [],
   "source": [
    "# Setting so that the plots look normal even when using dark-reader\n",
    "sn.set_style(\"whitegrid\")\n",
    "sn.set_context(context=\"paper\", font_scale=2)\n",
    "pal = sn.color_palette(\"Set1\")\n",
    "\n",
    "# Setting up specifics for plotting + saving\n",
    "save_figures = True\n",
    "add_legend = False\n",
    "add_title = False\n",
    "add_axis = False\n",
    "save_parms = {'format': 'pdf','bbox_inches':'tight', 'pad_inches':0.1}\n",
    "line_parms = {'linewidth':4, 'color':'k'}\n",
    "if save_figures:  # saves all figures in a figure directory in the local directory\n",
    "    figure_dir = Path('.') / 'figures' / 'adult-income-experiment'\n",
    "    if not figure_dir.exists():\n",
    "        figure_dir.mkdir(parents=True)"
   ]
  },
  {
   "cell_type": "code",
   "execution_count": 3,
   "id": "22d1d0e0",
   "metadata": {
    "execution": {
     "iopub.execute_input": "2024-08-21T12:10:54.141968Z",
     "iopub.status.busy": "2024-08-21T12:10:54.141867Z",
     "iopub.status.idle": "2024-08-21T12:10:54.143646Z",
     "shell.execute_reply": "2024-08-21T12:10:54.143429Z"
    },
    "papermill": {
     "duration": 0.004066,
     "end_time": "2024-08-21T12:10:54.144397",
     "exception": false,
     "start_time": "2024-08-21T12:10:54.140331",
     "status": "completed"
    },
    "tags": []
   },
   "outputs": [],
   "source": [
    "# Experiment hyperparamters\n",
    "rng = np.random.RandomState(42)\n",
    "split_on_income = False  # if True: src := income>=50k, tgt :+ income<50k, if False: src := male, tgt := female\n",
    "n_samples = 1000"
   ]
  },
  {
   "cell_type": "code",
   "execution_count": 4,
   "id": "48ff09ec",
   "metadata": {
    "execution": {
     "iopub.execute_input": "2024-08-21T12:10:54.147887Z",
     "iopub.status.busy": "2024-08-21T12:10:54.147743Z",
     "iopub.status.idle": "2024-08-21T12:10:54.149563Z",
     "shell.execute_reply": "2024-08-21T12:10:54.149270Z"
    },
    "papermill": {
     "duration": 0.004669,
     "end_time": "2024-08-21T12:10:54.150412",
     "exception": false,
     "start_time": "2024-08-21T12:10:54.145743",
     "status": "completed"
    },
    "tags": [
     "parameters"
    ]
   },
   "outputs": [],
   "source": [
    "comparison_id = None"
   ]
  },
  {
   "cell_type": "code",
   "execution_count": 5,
   "id": "9098bb18",
   "metadata": {
    "execution": {
     "iopub.execute_input": "2024-08-21T12:10:54.153496Z",
     "iopub.status.busy": "2024-08-21T12:10:54.153323Z",
     "iopub.status.idle": "2024-08-21T12:10:54.154852Z",
     "shell.execute_reply": "2024-08-21T12:10:54.154643Z"
    },
    "papermill": {
     "duration": 0.003748,
     "end_time": "2024-08-21T12:10:54.155534",
     "exception": false,
     "start_time": "2024-08-21T12:10:54.151786",
     "status": "completed"
    },
    "tags": [
     "injected-parameters"
    ]
   },
   "outputs": [],
   "source": [
    "# Parameters\n",
    "comparison_id = 1\n"
   ]
  },
  {
   "cell_type": "code",
   "execution_count": 6,
   "id": "dade2b7e",
   "metadata": {
    "execution": {
     "iopub.execute_input": "2024-08-21T12:10:54.158313Z",
     "iopub.status.busy": "2024-08-21T12:10:54.158212Z",
     "iopub.status.idle": "2024-08-21T12:10:54.175070Z",
     "shell.execute_reply": "2024-08-21T12:10:54.174842Z"
    },
    "papermill": {
     "duration": 0.01909,
     "end_time": "2024-08-21T12:10:54.175812",
     "exception": false,
     "start_time": "2024-08-21T12:10:54.156722",
     "status": "completed"
    },
    "tags": []
   },
   "outputs": [
    {
     "name": "stdout",
     "output_type": "stream",
     "text": [
      "Comparing customer_profile_2 and customer_profile_3\n",
      "Finished preprocessing logistic dataset. Split on customer_profile_2 and customer_profile_3 with resulting source shape: (996, 3), target shape: (996, 3).\n",
      "['Connection', 'Weight', 'Unit_type']\n"
     ]
    }
   ],
   "source": [
    "\n",
    "# Load the data\n",
    "comparison_dict = {0: [0,1], 1: [2,3], 2: [4,5]}\n",
    "path_customer_profiles = open('./Results_Experiments/File_Paths/path_customer_profiles.txt','r').read()\n",
    "path_transport_graphics = open('./Results_Experiments/File_Paths/path_transport_graphics.txt','r').read()\n",
    "source = pd.read_csv(f'../{path_customer_profiles}/customer_profile_{comparison_dict[comparison_id][0]}.csv')\n",
    "target = pd.read_csv(f'../{path_customer_profiles}/customer_profile_{comparison_dict[comparison_id][1]}.csv')\n",
    "equal_week_split = True\n",
    "source, target, feature_names = load_and_preprocess_logistics_data(rng, n_samples, return_column_names=True,equal_week_split=equal_week_split, comparison_id=\n",
    "            comparison_id, comparison_dict=comparison_dict)\n",
    "print(feature_names)"
   ]
  },
  {
   "cell_type": "code",
   "execution_count": 7,
   "id": "296df3b5",
   "metadata": {
    "execution": {
     "iopub.execute_input": "2024-08-21T12:10:54.179207Z",
     "iopub.status.busy": "2024-08-21T12:10:54.179092Z",
     "iopub.status.idle": "2024-08-21T12:10:54.181558Z",
     "shell.execute_reply": "2024-08-21T12:10:54.181338Z"
    },
    "papermill": {
     "duration": 0.005019,
     "end_time": "2024-08-21T12:10:54.182295",
     "exception": false,
     "start_time": "2024-08-21T12:10:54.177276",
     "status": "completed"
    },
    "tags": []
   },
   "outputs": [],
   "source": [
    "# standardize the source and target data, and convert to domain labels\n",
    "from sklearn.preprocessing import StandardScaler\n",
    "X = np.concatenate((source, target), axis=0)\n",
    "# standardize X to remove cardinatlity bias\n",
    "X = StandardScaler().fit_transform(X)\n",
    "y = np.concatenate((np.zeros(source.shape[0]),\n",
    "                    np.ones(target.shape[0])), axis=0)  # domain labels"
   ]
  },
  {
   "cell_type": "code",
   "execution_count": 8,
   "id": "c5422e1f",
   "metadata": {
    "execution": {
     "iopub.execute_input": "2024-08-21T12:10:54.185266Z",
     "iopub.status.busy": "2024-08-21T12:10:54.185179Z",
     "iopub.status.idle": "2024-08-21T12:10:54.234711Z",
     "shell.execute_reply": "2024-08-21T12:10:54.234442Z"
    },
    "papermill": {
     "duration": 0.052095,
     "end_time": "2024-08-21T12:10:54.235683",
     "exception": false,
     "start_time": "2024-08-21T12:10:54.183588",
     "status": "completed"
    },
    "tags": []
   },
   "outputs": [],
   "source": [
    "from sklearn.datasets import make_classification\n",
    "from sklearn.model_selection import train_test_split\n",
    "\n",
    "X_train, X_test, y_train, y_test = train_test_split(X, y,\n",
    "                                     stratify=y, random_state=42)"
   ]
  },
  {
   "cell_type": "code",
   "execution_count": 9,
   "id": "5d9ba299",
   "metadata": {
    "execution": {
     "iopub.execute_input": "2024-08-21T12:10:54.239072Z",
     "iopub.status.busy": "2024-08-21T12:10:54.238922Z",
     "iopub.status.idle": "2024-08-21T12:10:54.253068Z",
     "shell.execute_reply": "2024-08-21T12:10:54.252828Z"
    },
    "papermill": {
     "duration": 0.016785,
     "end_time": "2024-08-21T12:10:54.253980",
     "exception": false,
     "start_time": "2024-08-21T12:10:54.237195",
     "status": "completed"
    },
    "tags": []
   },
   "outputs": [],
   "source": [
    "# Using XGBoost\n",
    "import xgboost\n",
    "\n",
    "def fit_xgboost(X_train, y_train, X_test, y_test, feature_names=None):\n",
    "    \"\"\" Train an XGBoost model with early stopping.\n",
    "    \"\"\"\n",
    "    dtrain = xgboost.DMatrix(X_train, label=y_train, feature_names=feature_names)\n",
    "    dtest = xgboost.DMatrix(X_test, label=y_test, feature_names=feature_names)\n",
    "    # model = xgboost.train(\n",
    "    #     { \"eta\": 0.001, \"subsample\": 0.5, \"max_depth\": 2,\n",
    "    #       \"objective\": 'binary:logistic', 'eval_metric': 'logloss'}, dtrain, num_boost_round=200000,\n",
    "    #     evals=[(dtest,'eval'), (dtrain,'train')], early_stopping_rounds=20, verbose_eval=False\n",
    "    # )\n",
    "    model = xgboost.train(\n",
    "        {\"objective\": 'binary:logistic', 'eval_metric': 'logloss'},\n",
    "        dtrain,\n",
    "        evals=[(dtest,'eval'), (dtrain,'train')],\n",
    "        verbose_eval=False)\n",
    "    return model"
   ]
  },
  {
   "cell_type": "code",
   "execution_count": 10,
   "id": "bd7ac9f1",
   "metadata": {
    "execution": {
     "iopub.execute_input": "2024-08-21T12:10:54.257213Z",
     "iopub.status.busy": "2024-08-21T12:10:54.257091Z",
     "iopub.status.idle": "2024-08-21T12:10:54.273425Z",
     "shell.execute_reply": "2024-08-21T12:10:54.273178Z"
    },
    "papermill": {
     "duration": 0.018988,
     "end_time": "2024-08-21T12:10:54.274361",
     "exception": false,
     "start_time": "2024-08-21T12:10:54.255373",
     "status": "completed"
    },
    "tags": []
   },
   "outputs": [],
   "source": [
    "xgb_forest = fit_xgboost(X_train, y_train, X_test, y_test, feature_names)\n",
    "xgb_forest.feature_names = feature_names"
   ]
  },
  {
   "cell_type": "code",
   "execution_count": 11,
   "id": "dcaa3020",
   "metadata": {
    "execution": {
     "iopub.execute_input": "2024-08-21T12:10:54.277863Z",
     "iopub.status.busy": "2024-08-21T12:10:54.277729Z",
     "iopub.status.idle": "2024-08-21T12:10:54.279756Z",
     "shell.execute_reply": "2024-08-21T12:10:54.279516Z"
    },
    "papermill": {
     "duration": 0.004697,
     "end_time": "2024-08-21T12:10:54.280487",
     "exception": false,
     "start_time": "2024-08-21T12:10:54.275790",
     "status": "completed"
    },
    "tags": []
   },
   "outputs": [],
   "source": [
    "def get_acc(model, samples, labels, feature_names=None):\n",
    "    predictions = (model.predict(xgboost.DMatrix(samples,\n",
    "                                                 feature_names=feature_names)) > 0.5).astype(int)\n",
    "    return (predictions == labels).sum() / predictions.shape[0]"
   ]
  },
  {
   "cell_type": "code",
   "execution_count": 12,
   "id": "7ce6b380",
   "metadata": {
    "execution": {
     "iopub.execute_input": "2024-08-21T12:10:54.283501Z",
     "iopub.status.busy": "2024-08-21T12:10:54.283409Z",
     "iopub.status.idle": "2024-08-21T12:10:54.286233Z",
     "shell.execute_reply": "2024-08-21T12:10:54.286022Z"
    },
    "papermill": {
     "duration": 0.005128,
     "end_time": "2024-08-21T12:10:54.286915",
     "exception": false,
     "start_time": "2024-08-21T12:10:54.281787",
     "status": "completed"
    },
    "tags": []
   },
   "outputs": [
    {
     "name": "stdout",
     "output_type": "stream",
     "text": [
      "Train score: 0.7657295850066934\n",
      "Test score: 0.6365461847389559\n"
     ]
    }
   ],
   "source": [
    "print('Train score:', get_acc(xgb_forest, X_train, y_train, feature_names))\n",
    "print('Test score:', get_acc(xgb_forest, X_test, y_test, feature_names))"
   ]
  },
  {
   "cell_type": "code",
   "execution_count": 13,
   "id": "97a1d2b0",
   "metadata": {
    "execution": {
     "iopub.execute_input": "2024-08-21T12:10:54.289965Z",
     "iopub.status.busy": "2024-08-21T12:10:54.289866Z",
     "iopub.status.idle": "2024-08-21T12:10:54.540549Z",
     "shell.execute_reply": "2024-08-21T12:10:54.540278Z"
    },
    "papermill": {
     "duration": 0.253154,
     "end_time": "2024-08-21T12:10:54.541428",
     "exception": false,
     "start_time": "2024-08-21T12:10:54.288274",
     "status": "completed"
    },
    "tags": []
   },
   "outputs": [],
   "source": [
    "import shap\n",
    "import pandas as pd\n",
    "explainer = shap.Explainer(xgb_forest)\n",
    "\n",
    "shap_values = explainer(pd.DataFrame(X_test, columns=feature_names))\n"
   ]
  },
  {
   "cell_type": "code",
   "execution_count": 14,
   "id": "8e7a54a8",
   "metadata": {
    "execution": {
     "iopub.execute_input": "2024-08-21T12:10:54.544800Z",
     "iopub.status.busy": "2024-08-21T12:10:54.544647Z",
     "iopub.status.idle": "2024-08-21T12:10:54.837448Z",
     "shell.execute_reply": "2024-08-21T12:10:54.837169Z"
    },
    "papermill": {
     "duration": 0.29531,
     "end_time": "2024-08-21T12:10:54.838267",
     "exception": false,
     "start_time": "2024-08-21T12:10:54.542957",
     "status": "completed"
    },
    "tags": []
   },
   "outputs": [
    {
     "data": {
      "image/png": "[encoded data removed]",
      "text/plain": [
       "<Figure size 400x100 with 2 Axes>"
      ]
     },
     "metadata": {},
     "output_type": "display_data"
    }
   ],
   "source": [
    "# Beeswarm plot\n",
    "\n",
    "shap.plots.beeswarm(shap_values, show=False)\n",
    "fig = plt.gcf()\n",
    "fig.set_size_inches(4, 1, forward=True)\n",
    "if save_figures: plt.savefig(\n",
    "    f'../{path_transport_graphics}/logitics_data_on_customer_profile_{comparison_dict[comparison_id][0]} and customer_profile_{comparison_dict[comparison_id][1]}-shap-value.{save_parms[\"format\"]}',\n",
    "    **save_parms\n",
    "    )\n",
    "plt.show()"
   ]
  }
 ],
 "metadata": {
  "kernelspec": {
   "display_name": "Python 3.7.11 ('py37')",
   "language": "python",
   "name": "python3"
  },
  "language_info": {
   "codemirror_mode": {
    "name": "ipython",
    "version": 3
   },
   "file_extension": ".py",
   "mimetype": "text/x-python",
   "name": "python",
   "nbconvert_exporter": "python",
   "pygments_lexer": "ipython3",
   "version": "3.12.0"
  },
  "papermill": {
   "default_parameters": {},
   "duration": 2.680538,
   "end_time": "2024-08-21T12:10:55.157262",
   "environment_variables": {},
   "exception": null,
   "input_path": "experiment_baseline.ipynb",
   "output_path": "./Results_Experiments/Set_number_of_connections_to_None/experiment_baseline_2.ipynb",
   "parameters": {
    "comparison_id": 1
   },
   "start_time": "2024-08-21T12:10:52.476724",
   "version": "2.6.0"
  },
  "vscode": {
   "interpreter": {
    "hash": "5ab0220f0ca30ec7bac8a7e209564eceae6d15412b9f87f3c2f91206aa8b151c"
   }
  }
 },
 "nbformat": 4,
 "nbformat_minor": 5
}