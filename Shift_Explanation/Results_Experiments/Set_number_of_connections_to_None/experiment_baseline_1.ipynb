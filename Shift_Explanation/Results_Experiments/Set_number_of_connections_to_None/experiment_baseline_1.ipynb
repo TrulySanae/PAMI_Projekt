{
 "cells": [
  {
   "cell_type": "code",
   "execution_count": 1,
   "id": "d05cab18",
   "metadata": {
    "execution": {
     "iopub.execute_input": "2024-08-21T09:48:21.456689Z",
     "iopub.status.busy": "2024-08-21T09:48:21.456482Z",
     "iopub.status.idle": "2024-08-21T09:48:22.574337Z",
     "shell.execute_reply": "2024-08-21T09:48:22.573980Z"
    },
    "papermill": {
     "duration": 1.123437,
     "end_time": "2024-08-21T09:48:22.576670",
     "exception": false,
     "start_time": "2024-08-21T09:48:21.453233",
     "status": "completed"
    },
    "tags": []
   },
   "outputs": [],
   "source": [
    "import matplotlib.pyplot as plt\n",
    "import numpy as np\n",
    "import pandas as pd\n",
    "from pathlib import Path\n",
    "import seaborn as sn\n"
   ]
  },
  {
   "cell_type": "code",
   "execution_count": 2,
   "id": "d6302d10",
   "metadata": {
    "execution": {
     "iopub.execute_input": "2024-08-21T09:48:22.580637Z",
     "iopub.status.busy": "2024-08-21T09:48:22.580459Z",
     "iopub.status.idle": "2024-08-21T09:48:22.583367Z",
     "shell.execute_reply": "2024-08-21T09:48:22.583134Z"
    },
    "papermill": {
     "duration": 0.005884,
     "end_time": "2024-08-21T09:48:22.584567",
     "exception": false,
     "start_time": "2024-08-21T09:48:22.578683",
     "status": "completed"
    },
    "tags": []
   },
   "outputs": [],
   "source": [
    "# Setting so that the plots look normal even when using dark-reader\n",
    "sn.set_style(\"whitegrid\")\n",
    "sn.set_context(context=\"paper\", font_scale=2)\n",
    "pal = sn.color_palette(\"Set1\")\n",
    "\n",
    "# Setting up specifics for plotting + saving\n",
    "save_figures = True\n",
    "add_legend = False\n",
    "add_title = False\n",
    "add_axis = False\n",
    "save_parms = {'format': 'pdf','bbox_inches':'tight', 'pad_inches':0.1}\n",
    "line_parms = {'linewidth':4, 'color':'k'}\n",
    "if save_figures:  # saves all figures in a figure directory in the local directory\n",
    "    figure_dir = Path('.') / 'figures' / 'adult-income-experiment'\n",
    "    if not figure_dir.exists():\n",
    "        figure_dir.mkdir(parents=True)"
   ]
  },
  {
   "cell_type": "code",
   "execution_count": 3,
   "id": "22d1d0e0",
   "metadata": {
    "execution": {
     "iopub.execute_input": "2024-08-21T09:48:22.606955Z",
     "iopub.status.busy": "2024-08-21T09:48:22.606686Z",
     "iopub.status.idle": "2024-08-21T09:48:22.621981Z",
     "shell.execute_reply": "2024-08-21T09:48:22.617326Z"
    },
    "papermill": {
     "duration": 0.037372,
     "end_time": "2024-08-21T09:48:22.630551",
     "exception": false,
     "start_time": "2024-08-21T09:48:22.593179",
     "status": "completed"
    },
    "tags": []
   },
   "outputs": [],
   "source": [
    "# Experiment hyperparamters\n",
    "rng = np.random.RandomState(42)\n",
    "split_on_income = False  # if True: src := income>=50k, tgt :+ income<50k, if False: src := male, tgt := female\n",
    "n_samples = 1000"
   ]
  },
  {
   "cell_type": "code",
   "execution_count": 4,
   "id": "48ff09ec",
   "metadata": {
    "execution": {
     "iopub.execute_input": "2024-08-21T09:48:22.651734Z",
     "iopub.status.busy": "2024-08-21T09:48:22.651380Z",
     "iopub.status.idle": "2024-08-21T09:48:22.653953Z",
     "shell.execute_reply": "2024-08-21T09:48:22.653605Z"
    },
    "papermill": {
     "duration": 0.022727,
     "end_time": "2024-08-21T09:48:22.656700",
     "exception": false,
     "start_time": "2024-08-21T09:48:22.633973",
     "status": "completed"
    },
    "tags": [
     "parameters"
    ]
   },
   "outputs": [],
   "source": [
    "comparison_id = None"
   ]
  },
  {
   "cell_type": "code",
   "execution_count": 5,
   "id": "c6a6a5bf",
   "metadata": {
    "execution": {
     "iopub.execute_input": "2024-08-21T09:48:22.663369Z",
     "iopub.status.busy": "2024-08-21T09:48:22.663178Z",
     "iopub.status.idle": "2024-08-21T09:48:22.666703Z",
     "shell.execute_reply": "2024-08-21T09:48:22.665504Z"
    },
    "papermill": {
     "duration": 0.009039,
     "end_time": "2024-08-21T09:48:22.668888",
     "exception": false,
     "start_time": "2024-08-21T09:48:22.659849",
     "status": "completed"
    },
    "tags": [
     "injected-parameters"
    ]
   },
   "outputs": [],
   "source": [
    "# Parameters\n",
    "comparison_id = 0\n"
   ]
  },
  {
   "cell_type": "code",
   "execution_count": 6,
   "id": "dade2b7e",
   "metadata": {
    "execution": {
     "iopub.execute_input": "2024-08-21T09:48:22.673413Z",
     "iopub.status.busy": "2024-08-21T09:48:22.673230Z",
     "iopub.status.idle": "2024-08-21T09:48:22.702490Z",
     "shell.execute_reply": "2024-08-21T09:48:22.700601Z"
    },
    "papermill": {
     "duration": 0.035445,
     "end_time": "2024-08-21T09:48:22.706131",
     "exception": false,
     "start_time": "2024-08-21T09:48:22.670686",
     "status": "completed"
    },
    "tags": []
   },
   "outputs": [
    {
     "name": "stdout",
     "output_type": "stream",
     "text": [
      "['Customer_id', 'Connection', 'Weight', 'Unit_type', 'Day', 'Week']\n"
     ]
    }
   ],
   "source": [
    "\n",
    "# Load the data\n",
    "comparison_dict = {0: [0,1], 1: [2,3], 2: [4,5]}\n",
    "path_customer_profiles = open('./Results_Experiments/File_Paths/path_customer_profiles.txt','r').read()\n",
    "path_transport_graphics = open('./Results_Experiments/File_Paths/path_transport_graphics.txt','r').read()\n",
    "source = pd.read_csv(f'../{path_customer_profiles}/customer_profile_{comparison_dict[comparison_id][0]}.csv')\n",
    "target = pd.read_csv(f'../{path_customer_profiles}/customer_profile_{comparison_dict[comparison_id][1]}.csv')\n",
    "\n",
    "feature_names = source.columns.values\n",
    "feature_names = list(feature_names)\n",
    "print(feature_names)"
   ]
  },
  {
   "cell_type": "code",
   "execution_count": 7,
   "id": "296df3b5",
   "metadata": {
    "execution": {
     "iopub.execute_input": "2024-08-21T09:48:22.711864Z",
     "iopub.status.busy": "2024-08-21T09:48:22.711589Z",
     "iopub.status.idle": "2024-08-21T09:48:22.815465Z",
     "shell.execute_reply": "2024-08-21T09:48:22.814668Z"
    },
    "papermill": {
     "duration": 0.109296,
     "end_time": "2024-08-21T09:48:22.817792",
     "exception": false,
     "start_time": "2024-08-21T09:48:22.708496",
     "status": "completed"
    },
    "tags": []
   },
   "outputs": [],
   "source": [
    "# standardize the source and target data, and convert to domain labels\n",
    "from sklearn.preprocessing import StandardScaler\n",
    "X = np.concatenate((source, target), axis=0)\n",
    "# standardize X to remove cardinatlity bias\n",
    "X = StandardScaler().fit_transform(X)\n",
    "y = np.concatenate((np.zeros(source.shape[0]),\n",
    "                    np.ones(target.shape[0])), axis=0)  # domain labels"
   ]
  },
  {
   "cell_type": "code",
   "execution_count": 8,
   "id": "c5422e1f",
   "metadata": {
    "execution": {
     "iopub.execute_input": "2024-08-21T09:48:22.822422Z",
     "iopub.status.busy": "2024-08-21T09:48:22.821995Z",
     "iopub.status.idle": "2024-08-21T09:48:22.912143Z",
     "shell.execute_reply": "2024-08-21T09:48:22.911300Z"
    },
    "papermill": {
     "duration": 0.094116,
     "end_time": "2024-08-21T09:48:22.913489",
     "exception": false,
     "start_time": "2024-08-21T09:48:22.819373",
     "status": "completed"
    },
    "tags": []
   },
   "outputs": [],
   "source": [
    "from sklearn.datasets import make_classification\n",
    "from sklearn.model_selection import train_test_split\n",
    "\n",
    "X_train, X_test, y_train, y_test = train_test_split(X, y,\n",
    "                                     stratify=y, random_state=42)"
   ]
  },
  {
   "cell_type": "code",
   "execution_count": 9,
   "id": "5d9ba299",
   "metadata": {
    "execution": {
     "iopub.execute_input": "2024-08-21T09:48:22.917350Z",
     "iopub.status.busy": "2024-08-21T09:48:22.917137Z",
     "iopub.status.idle": "2024-08-21T09:48:22.938404Z",
     "shell.execute_reply": "2024-08-21T09:48:22.937971Z"
    },
    "papermill": {
     "duration": 0.024407,
     "end_time": "2024-08-21T09:48:22.939673",
     "exception": false,
     "start_time": "2024-08-21T09:48:22.915266",
     "status": "completed"
    },
    "tags": []
   },
   "outputs": [],
   "source": [
    "# Using XGBoost\n",
    "import xgboost\n",
    "\n",
    "def fit_xgboost(X_train, y_train, X_test, y_test, feature_names=None):\n",
    "    \"\"\" Train an XGBoost model with early stopping.\n",
    "    \"\"\"\n",
    "    dtrain = xgboost.DMatrix(X_train, label=y_train, feature_names=feature_names)\n",
    "    dtest = xgboost.DMatrix(X_test, label=y_test, feature_names=feature_names)\n",
    "    # model = xgboost.train(\n",
    "    #     { \"eta\": 0.001, \"subsample\": 0.5, \"max_depth\": 2,\n",
    "    #       \"objective\": 'binary:logistic', 'eval_metric': 'logloss'}, dtrain, num_boost_round=200000,\n",
    "    #     evals=[(dtest,'eval'), (dtrain,'train')], early_stopping_rounds=20, verbose_eval=False\n",
    "    # )\n",
    "    model = xgboost.train(\n",
    "        {\"objective\": 'binary:logistic', 'eval_metric': 'logloss'},\n",
    "        dtrain,\n",
    "        evals=[(dtest,'eval'), (dtrain,'train')],\n",
    "        verbose_eval=False)\n",
    "    return model"
   ]
  },
  {
   "cell_type": "code",
   "execution_count": 10,
   "id": "bd7ac9f1",
   "metadata": {
    "execution": {
     "iopub.execute_input": "2024-08-21T09:48:22.945681Z",
     "iopub.status.busy": "2024-08-21T09:48:22.945325Z",
     "iopub.status.idle": "2024-08-21T09:48:23.022941Z",
     "shell.execute_reply": "2024-08-21T09:48:23.022469Z"
    },
    "papermill": {
     "duration": 0.082201,
     "end_time": "2024-08-21T09:48:23.024096",
     "exception": false,
     "start_time": "2024-08-21T09:48:22.941895",
     "status": "completed"
    },
    "tags": []
   },
   "outputs": [],
   "source": [
    "xgb_forest = fit_xgboost(X_train, y_train, X_test, y_test, feature_names)\n",
    "xgb_forest.feature_names = feature_names"
   ]
  },
  {
   "cell_type": "code",
   "execution_count": 11,
   "id": "dcaa3020",
   "metadata": {
    "execution": {
     "iopub.execute_input": "2024-08-21T09:48:23.027945Z",
     "iopub.status.busy": "2024-08-21T09:48:23.027790Z",
     "iopub.status.idle": "2024-08-21T09:48:23.029927Z",
     "shell.execute_reply": "2024-08-21T09:48:23.029646Z"
    },
    "papermill": {
     "duration": 0.005107,
     "end_time": "2024-08-21T09:48:23.030675",
     "exception": false,
     "start_time": "2024-08-21T09:48:23.025568",
     "status": "completed"
    },
    "tags": []
   },
   "outputs": [],
   "source": [
    "def get_acc(model, samples, labels, feature_names=None):\n",
    "    predictions = (model.predict(xgboost.DMatrix(samples,\n",
    "                                                 feature_names=feature_names)) > 0.5).astype(int)\n",
    "    return (predictions == labels).sum() / predictions.shape[0]"
   ]
  },
  {
   "cell_type": "code",
   "execution_count": 12,
   "id": "7ce6b380",
   "metadata": {
    "execution": {
     "iopub.execute_input": "2024-08-21T09:48:23.034344Z",
     "iopub.status.busy": "2024-08-21T09:48:23.034166Z",
     "iopub.status.idle": "2024-08-21T09:48:23.041408Z",
     "shell.execute_reply": "2024-08-21T09:48:23.040116Z"
    },
    "papermill": {
     "duration": 0.013238,
     "end_time": "2024-08-21T09:48:23.045339",
     "exception": false,
     "start_time": "2024-08-21T09:48:23.032101",
     "status": "completed"
    },
    "tags": []
   },
   "outputs": [
    {
     "name": "stdout",
     "output_type": "stream",
     "text": [
      "Train score: 0.908109367717881\n",
      "Test score: 0.8993476234855545\n"
     ]
    }
   ],
   "source": [
    "print('Train score:', get_acc(xgb_forest, X_train, y_train, feature_names))\n",
    "print('Test score:', get_acc(xgb_forest, X_test, y_test, feature_names))"
   ]
  },
  {
   "cell_type": "code",
   "execution_count": 13,
   "id": "97a1d2b0",
   "metadata": {
    "execution": {
     "iopub.execute_input": "2024-08-21T09:48:23.049889Z",
     "iopub.status.busy": "2024-08-21T09:48:23.049641Z",
     "iopub.status.idle": "2024-08-21T09:48:23.451201Z",
     "shell.execute_reply": "2024-08-21T09:48:23.450852Z"
    },
    "papermill": {
     "duration": 0.407807,
     "end_time": "2024-08-21T09:48:23.455281",
     "exception": false,
     "start_time": "2024-08-21T09:48:23.047474",
     "status": "completed"
    },
    "tags": []
   },
   "outputs": [],
   "source": [
    "import shap\n",
    "import pandas as pd\n",
    "explainer = shap.Explainer(xgb_forest)\n",
    "\n",
    "shap_values = explainer(pd.DataFrame(X_test, columns=feature_names))\n"
   ]
  },
  {
   "cell_type": "code",
   "execution_count": 14,
   "id": "8e7a54a8",
   "metadata": {
    "execution": {
     "iopub.execute_input": "2024-08-21T09:48:23.469020Z",
     "iopub.status.busy": "2024-08-21T09:48:23.468609Z",
     "iopub.status.idle": "2024-08-21T09:48:24.152287Z",
     "shell.execute_reply": "2024-08-21T09:48:24.149674Z"
    },
    "papermill": {
     "duration": 0.692248,
     "end_time": "2024-08-21T09:48:24.158400",
     "exception": false,
     "start_time": "2024-08-21T09:48:23.466152",
     "status": "completed"
    },
    "tags": []
   },
   "outputs": [
    {
     "data": {
      "image/png": "[encoded data removed]",
      "text/plain": [
       "<Figure size 400x200 with 2 Axes>"
      ]
     },
     "metadata": {},
     "output_type": "display_data"
    }
   ],
   "source": [
    "# Beeswarm plot\n",
    "\n",
    "shap.plots.beeswarm(shap_values, show=False)\n",
    "fig = plt.gcf()\n",
    "fig.set_size_inches(4, 2, forward=True)\n",
    "if save_figures: plt.savefig(\n",
    "    f'../{path_transport_graphics}/logitics_data_on_customer_profile_{comparison_dict[comparison_id][0]} and customer_profile_{comparison_dict[comparison_id][1]}-shap-value.{save_parms[\"format\"]}',\n",
    "    **save_parms\n",
    "    )\n",
    "plt.show()"
   ]
  }
 ],
 "metadata": {
  "kernelspec": {
   "display_name": "Python 3.7.11 ('py37')",
   "language": "python",
   "name": "python3"
  },
  "language_info": {
   "codemirror_mode": {
    "name": "ipython",
    "version": 3
   },
   "file_extension": ".py",
   "mimetype": "text/x-python",
   "name": "python",
   "nbconvert_exporter": "python",
   "pygments_lexer": "ipython3",
   "version": "3.12.0"
  },
  "papermill": {
   "default_parameters": {},
   "duration": 3.734788,
   "end_time": "2024-08-21T09:48:24.478145",
   "environment_variables": {},
   "exception": null,
   "input_path": "experiment_baseline.ipynb",
   "output_path": "./Results_Experiments/Set_number_of_connections_to_None/experiment_baseline_1.ipynb",
   "parameters": {
    "comparison_id": 0
   },
   "start_time": "2024-08-21T09:48:20.743357",
   "version": "2.6.0"
  },
  "vscode": {
   "interpreter": {
    "hash": "5ab0220f0ca30ec7bac8a7e209564eceae6d15412b9f87f3c2f91206aa8b151c"
   }
  }
 },
 "nbformat": 4,
 "nbformat_minor": 5
}