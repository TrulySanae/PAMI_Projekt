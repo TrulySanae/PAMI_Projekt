{
 "cells": [
  {
   "cell_type": "code",
   "execution_count": 1,
   "id": "d05cab18",
   "metadata": {
    "execution": {
     "iopub.execute_input": "2024-08-21T12:09:52.002408Z",
     "iopub.status.busy": "2024-08-21T12:09:52.002078Z",
     "iopub.status.idle": "2024-08-21T12:09:52.872824Z",
     "shell.execute_reply": "2024-08-21T12:09:52.872522Z"
    },
    "papermill": {
     "duration": 0.880259,
     "end_time": "2024-08-21T12:09:52.873832",
     "exception": false,
     "start_time": "2024-08-21T12:09:51.993573",
     "status": "completed"
    },
    "tags": []
   },
   "outputs": [],
   "source": [
    "import matplotlib.pyplot as plt\n",
    "import numpy as np\n",
    "import pandas as pd\n",
    "from pathlib import Path\n",
    "import seaborn as sn\n",
    "from data_utils import load_and_preprocess_logistics_data"
   ]
  },
  {
   "cell_type": "code",
   "execution_count": 2,
   "id": "d6302d10",
   "metadata": {
    "execution": {
     "iopub.execute_input": "2024-08-21T12:09:52.877132Z",
     "iopub.status.busy": "2024-08-21T12:09:52.876965Z",
     "iopub.status.idle": "2024-08-21T12:09:52.879619Z",
     "shell.execute_reply": "2024-08-21T12:09:52.879399Z"
    },
    "papermill": {
     "duration": 0.005114,
     "end_time": "2024-08-21T12:09:52.880368",
     "exception": false,
     "start_time": "2024-08-21T12:09:52.875254",
     "status": "completed"
    },
    "tags": []
   },
   "outputs": [],
   "source": [
    "# Setting so that the plots look normal even when using dark-reader\n",
    "sn.set_style(\"whitegrid\")\n",
    "sn.set_context(context=\"paper\", font_scale=2)\n",
    "pal = sn.color_palette(\"Set1\")\n",
    "\n",
    "# Setting up specifics for plotting + saving\n",
    "save_figures = True\n",
    "add_legend = False\n",
    "add_title = False\n",
    "add_axis = False\n",
    "save_parms = {'format': 'pdf','bbox_inches':'tight', 'pad_inches':0.1}\n",
    "line_parms = {'linewidth':4, 'color':'k'}\n",
    "if save_figures:  # saves all figures in a figure directory in the local directory\n",
    "    figure_dir = Path('.') / 'figures' / 'adult-income-experiment'\n",
    "    if not figure_dir.exists():\n",
    "        figure_dir.mkdir(parents=True)"
   ]
  },
  {
   "cell_type": "code",
   "execution_count": 3,
   "id": "22d1d0e0",
   "metadata": {
    "execution": {
     "iopub.execute_input": "2024-08-21T12:09:52.883375Z",
     "iopub.status.busy": "2024-08-21T12:09:52.883273Z",
     "iopub.status.idle": "2024-08-21T12:09:52.885066Z",
     "shell.execute_reply": "2024-08-21T12:09:52.884849Z"
    },
    "papermill": {
     "duration": 0.004141,
     "end_time": "2024-08-21T12:09:52.885769",
     "exception": false,
     "start_time": "2024-08-21T12:09:52.881628",
     "status": "completed"
    },
    "tags": []
   },
   "outputs": [],
   "source": [
    "# Experiment hyperparamters\n",
    "rng = np.random.RandomState(42)\n",
    "split_on_income = False  # if True: src := income>=50k, tgt :+ income<50k, if False: src := male, tgt := female\n",
    "n_samples = 1000"
   ]
  },
  {
   "cell_type": "code",
   "execution_count": 4,
   "id": "48ff09ec",
   "metadata": {
    "execution": {
     "iopub.execute_input": "2024-08-21T12:09:52.888638Z",
     "iopub.status.busy": "2024-08-21T12:09:52.888548Z",
     "iopub.status.idle": "2024-08-21T12:09:52.889994Z",
     "shell.execute_reply": "2024-08-21T12:09:52.889795Z"
    },
    "papermill": {
     "duration": 0.003761,
     "end_time": "2024-08-21T12:09:52.890744",
     "exception": false,
     "start_time": "2024-08-21T12:09:52.886983",
     "status": "completed"
    },
    "tags": [
     "parameters"
    ]
   },
   "outputs": [],
   "source": [
    "comparison_id = None"
   ]
  },
  {
   "cell_type": "code",
   "execution_count": 5,
   "id": "73474ebe",
   "metadata": {
    "execution": {
     "iopub.execute_input": "2024-08-21T12:09:52.893879Z",
     "iopub.status.busy": "2024-08-21T12:09:52.893766Z",
     "iopub.status.idle": "2024-08-21T12:09:52.895269Z",
     "shell.execute_reply": "2024-08-21T12:09:52.895045Z"
    },
    "papermill": {
     "duration": 0.0039,
     "end_time": "2024-08-21T12:09:52.896001",
     "exception": false,
     "start_time": "2024-08-21T12:09:52.892101",
     "status": "completed"
    },
    "tags": [
     "injected-parameters"
    ]
   },
   "outputs": [],
   "source": [
    "# Parameters\n",
    "comparison_id = 1\n"
   ]
  },
  {
   "cell_type": "code",
   "execution_count": 6,
   "id": "dade2b7e",
   "metadata": {
    "execution": {
     "iopub.execute_input": "2024-08-21T12:09:52.899686Z",
     "iopub.status.busy": "2024-08-21T12:09:52.899567Z",
     "iopub.status.idle": "2024-08-21T12:09:52.917827Z",
     "shell.execute_reply": "2024-08-21T12:09:52.917583Z"
    },
    "papermill": {
     "duration": 0.020764,
     "end_time": "2024-08-21T12:09:52.918593",
     "exception": false,
     "start_time": "2024-08-21T12:09:52.897829",
     "status": "completed"
    },
    "tags": []
   },
   "outputs": [
    {
     "name": "stdout",
     "output_type": "stream",
     "text": [
      "Comparing customer_profile_2 and customer_profile_3\n",
      "Finished preprocessing logistic dataset. Split on customer_profile_2 and customer_profile_3 with resulting source shape: (996, 3), target shape: (996, 3).\n",
      "['Connection', 'Weight', 'Unit_type']\n"
     ]
    }
   ],
   "source": [
    "\n",
    "# Load the data\n",
    "comparison_dict = {0: [0,1], 1: [2,3], 2: [4,5]}\n",
    "path_customer_profiles = open('./Results_Experiments/File_Paths/path_customer_profiles.txt','r').read()\n",
    "path_transport_graphics = open('./Results_Experiments/File_Paths/path_transport_graphics.txt','r').read()\n",
    "source = pd.read_csv(f'../{path_customer_profiles}/customer_profile_{comparison_dict[comparison_id][0]}.csv')\n",
    "target = pd.read_csv(f'../{path_customer_profiles}/customer_profile_{comparison_dict[comparison_id][1]}.csv')\n",
    "equal_week_split = True\n",
    "source, target, feature_names = load_and_preprocess_logistics_data(rng, n_samples, return_column_names=True,equal_week_split=equal_week_split, comparison_id=\n",
    "            comparison_id, comparison_dict=comparison_dict)\n",
    "print(feature_names)"
   ]
  },
  {
   "cell_type": "code",
   "execution_count": 7,
   "id": "296df3b5",
   "metadata": {
    "execution": {
     "iopub.execute_input": "2024-08-21T12:09:52.921631Z",
     "iopub.status.busy": "2024-08-21T12:09:52.921528Z",
     "iopub.status.idle": "2024-08-21T12:09:52.923953Z",
     "shell.execute_reply": "2024-08-21T12:09:52.923724Z"
    },
    "papermill": {
     "duration": 0.004754,
     "end_time": "2024-08-21T12:09:52.924705",
     "exception": false,
     "start_time": "2024-08-21T12:09:52.919951",
     "status": "completed"
    },
    "tags": []
   },
   "outputs": [],
   "source": [
    "# standardize the source and target data, and convert to domain labels\n",
    "from sklearn.preprocessing import StandardScaler\n",
    "X = np.concatenate((source, target), axis=0)\n",
    "# standardize X to remove cardinatlity bias\n",
    "X = StandardScaler().fit_transform(X)\n",
    "y = np.concatenate((np.zeros(source.shape[0]),\n",
    "                    np.ones(target.shape[0])), axis=0)  # domain labels"
   ]
  },
  {
   "cell_type": "code",
   "execution_count": 8,
   "id": "c5422e1f",
   "metadata": {
    "execution": {
     "iopub.execute_input": "2024-08-21T12:09:52.927827Z",
     "iopub.status.busy": "2024-08-21T12:09:52.927727Z",
     "iopub.status.idle": "2024-08-21T12:09:52.976581Z",
     "shell.execute_reply": "2024-08-21T12:09:52.976277Z"
    },
    "papermill": {
     "duration": 0.051571,
     "end_time": "2024-08-21T12:09:52.977512",
     "exception": false,
     "start_time": "2024-08-21T12:09:52.925941",
     "status": "completed"
    },
    "tags": []
   },
   "outputs": [],
   "source": [
    "from sklearn.datasets import make_classification\n",
    "from sklearn.model_selection import train_test_split\n",
    "\n",
    "X_train, X_test, y_train, y_test = train_test_split(X, y,\n",
    "                                     stratify=y, random_state=42)"
   ]
  },
  {
   "cell_type": "code",
   "execution_count": 9,
   "id": "5d9ba299",
   "metadata": {
    "execution": {
     "iopub.execute_input": "2024-08-21T12:09:52.980628Z",
     "iopub.status.busy": "2024-08-21T12:09:52.980488Z",
     "iopub.status.idle": "2024-08-21T12:09:52.994507Z",
     "shell.execute_reply": "2024-08-21T12:09:52.994251Z"
    },
    "papermill": {
     "duration": 0.016446,
     "end_time": "2024-08-21T12:09:52.995373",
     "exception": false,
     "start_time": "2024-08-21T12:09:52.978927",
     "status": "completed"
    },
    "tags": []
   },
   "outputs": [],
   "source": [
    "# Using XGBoost\n",
    "import xgboost\n",
    "\n",
    "def fit_xgboost(X_train, y_train, X_test, y_test, feature_names=None):\n",
    "    \"\"\" Train an XGBoost model with early stopping.\n",
    "    \"\"\"\n",
    "    dtrain = xgboost.DMatrix(X_train, label=y_train, feature_names=feature_names)\n",
    "    dtest = xgboost.DMatrix(X_test, label=y_test, feature_names=feature_names)\n",
    "    # model = xgboost.train(\n",
    "    #     { \"eta\": 0.001, \"subsample\": 0.5, \"max_depth\": 2,\n",
    "    #       \"objective\": 'binary:logistic', 'eval_metric': 'logloss'}, dtrain, num_boost_round=200000,\n",
    "    #     evals=[(dtest,'eval'), (dtrain,'train')], early_stopping_rounds=20, verbose_eval=False\n",
    "    # )\n",
    "    model = xgboost.train(\n",
    "        {\"objective\": 'binary:logistic', 'eval_metric': 'logloss'},\n",
    "        dtrain,\n",
    "        evals=[(dtest,'eval'), (dtrain,'train')],\n",
    "        verbose_eval=False)\n",
    "    return model"
   ]
  },
  {
   "cell_type": "code",
   "execution_count": 10,
   "id": "bd7ac9f1",
   "metadata": {
    "execution": {
     "iopub.execute_input": "2024-08-21T12:09:52.998460Z",
     "iopub.status.busy": "2024-08-21T12:09:52.998354Z",
     "iopub.status.idle": "2024-08-21T12:09:53.013720Z",
     "shell.execute_reply": "2024-08-21T12:09:53.013491Z"
    },
    "papermill": {
     "duration": 0.017789,
     "end_time": "2024-08-21T12:09:53.014539",
     "exception": false,
     "start_time": "2024-08-21T12:09:52.996750",
     "status": "completed"
    },
    "tags": []
   },
   "outputs": [],
   "source": [
    "xgb_forest = fit_xgboost(X_train, y_train, X_test, y_test, feature_names)\n",
    "xgb_forest.feature_names = feature_names"
   ]
  },
  {
   "cell_type": "code",
   "execution_count": 11,
   "id": "dcaa3020",
   "metadata": {
    "execution": {
     "iopub.execute_input": "2024-08-21T12:09:53.017660Z",
     "iopub.status.busy": "2024-08-21T12:09:53.017556Z",
     "iopub.status.idle": "2024-08-21T12:09:53.019455Z",
     "shell.execute_reply": "2024-08-21T12:09:53.019226Z"
    },
    "papermill": {
     "duration": 0.004265,
     "end_time": "2024-08-21T12:09:53.020209",
     "exception": false,
     "start_time": "2024-08-21T12:09:53.015944",
     "status": "completed"
    },
    "tags": []
   },
   "outputs": [],
   "source": [
    "def get_acc(model, samples, labels, feature_names=None):\n",
    "    predictions = (model.predict(xgboost.DMatrix(samples,\n",
    "                                                 feature_names=feature_names)) > 0.5).astype(int)\n",
    "    return (predictions == labels).sum() / predictions.shape[0]"
   ]
  },
  {
   "cell_type": "code",
   "execution_count": 12,
   "id": "7ce6b380",
   "metadata": {
    "execution": {
     "iopub.execute_input": "2024-08-21T12:09:53.023072Z",
     "iopub.status.busy": "2024-08-21T12:09:53.022982Z",
     "iopub.status.idle": "2024-08-21T12:09:53.025767Z",
     "shell.execute_reply": "2024-08-21T12:09:53.025522Z"
    },
    "papermill": {
     "duration": 0.005045,
     "end_time": "2024-08-21T12:09:53.026474",
     "exception": false,
     "start_time": "2024-08-21T12:09:53.021429",
     "status": "completed"
    },
    "tags": []
   },
   "outputs": [
    {
     "name": "stdout",
     "output_type": "stream",
     "text": [
      "Train score: 0.7791164658634538\n",
      "Test score: 0.6947791164658634\n"
     ]
    }
   ],
   "source": [
    "print('Train score:', get_acc(xgb_forest, X_train, y_train, feature_names))\n",
    "print('Test score:', get_acc(xgb_forest, X_test, y_test, feature_names))"
   ]
  },
  {
   "cell_type": "code",
   "execution_count": 13,
   "id": "97a1d2b0",
   "metadata": {
    "execution": {
     "iopub.execute_input": "2024-08-21T12:09:53.029583Z",
     "iopub.status.busy": "2024-08-21T12:09:53.029483Z",
     "iopub.status.idle": "2024-08-21T12:09:53.267331Z",
     "shell.execute_reply": "2024-08-21T12:09:53.267064Z"
    },
    "papermill": {
     "duration": 0.240418,
     "end_time": "2024-08-21T12:09:53.268251",
     "exception": false,
     "start_time": "2024-08-21T12:09:53.027833",
     "status": "completed"
    },
    "tags": []
   },
   "outputs": [],
   "source": [
    "import shap\n",
    "import pandas as pd\n",
    "explainer = shap.Explainer(xgb_forest)\n",
    "\n",
    "shap_values = explainer(pd.DataFrame(X_test, columns=feature_names))\n"
   ]
  },
  {
   "cell_type": "code",
   "execution_count": 14,
   "id": "8e7a54a8",
   "metadata": {
    "execution": {
     "iopub.execute_input": "2024-08-21T12:09:53.271570Z",
     "iopub.status.busy": "2024-08-21T12:09:53.271434Z",
     "iopub.status.idle": "2024-08-21T12:09:53.610478Z",
     "shell.execute_reply": "2024-08-21T12:09:53.610215Z"
    },
    "papermill": {
     "duration": 0.341565,
     "end_time": "2024-08-21T12:09:53.611352",
     "exception": false,
     "start_time": "2024-08-21T12:09:53.269787",
     "status": "completed"
    },
    "tags": []
   },
   "outputs": [
    {
     "data": {
      "image/png": "[encoded data removed]",
      "text/plain": [
       "<Figure size 400x100 with 2 Axes>"
      ]
     },
     "metadata": {},
     "output_type": "display_data"
    }
   ],
   "source": [
    "# Beeswarm plot\n",
    "\n",
    "shap.plots.beeswarm(shap_values, show=False)\n",
    "fig = plt.gcf()\n",
    "fig.set_size_inches(4, 1, forward=True)\n",
    "if save_figures: plt.savefig(\n",
    "    f'../{path_transport_graphics}/logitics_data_on_customer_profile_{comparison_dict[comparison_id][0]} and customer_profile_{comparison_dict[comparison_id][1]}-shap-value.{save_parms[\"format\"]}',\n",
    "    **save_parms\n",
    "    )\n",
    "plt.show()"
   ]
  }
 ],
 "metadata": {
  "kernelspec": {
   "display_name": "Python 3.7.11 ('py37')",
   "language": "python",
   "name": "python3"
  },
  "language_info": {
   "codemirror_mode": {
    "name": "ipython",
    "version": 3
   },
   "file_extension": ".py",
   "mimetype": "text/x-python",
   "name": "python",
   "nbconvert_exporter": "python",
   "pygments_lexer": "ipython3",
   "version": "3.12.0"
  },
  "papermill": {
   "default_parameters": {},
   "duration": 2.527425,
   "end_time": "2024-08-21T12:09:53.931450",
   "environment_variables": {},
   "exception": null,
   "input_path": "experiment_baseline.ipynb",
   "output_path": "./Results_Experiments/Set_K_to_30/experiment_baseline_2.ipynb",
   "parameters": {
    "comparison_id": 1
   },
   "start_time": "2024-08-21T12:09:51.404025",
   "version": "2.6.0"
  },
  "vscode": {
   "interpreter": {
    "hash": "5ab0220f0ca30ec7bac8a7e209564eceae6d15412b9f87f3c2f91206aa8b151c"
   }
  }
 },
 "nbformat": 4,
 "nbformat_minor": 5
}