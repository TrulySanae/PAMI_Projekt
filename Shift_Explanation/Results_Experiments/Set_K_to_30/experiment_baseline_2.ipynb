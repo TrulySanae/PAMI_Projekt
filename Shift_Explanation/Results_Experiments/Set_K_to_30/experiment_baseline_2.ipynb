{
 "cells": [
  {
   "cell_type": "code",
   "execution_count": 1,
   "id": "d05cab18",
   "metadata": {
    "execution": {
     "iopub.execute_input": "2024-08-21T09:47:06.068810Z",
     "iopub.status.busy": "2024-08-21T09:47:06.068439Z",
     "iopub.status.idle": "2024-08-21T09:47:06.943831Z",
     "shell.execute_reply": "2024-08-21T09:47:06.943515Z"
    },
    "papermill": {
     "duration": 0.882164,
     "end_time": "2024-08-21T09:47:06.944878",
     "exception": false,
     "start_time": "2024-08-21T09:47:06.062714",
     "status": "completed"
    },
    "tags": []
   },
   "outputs": [],
   "source": [
    "import matplotlib.pyplot as plt\n",
    "import numpy as np\n",
    "import pandas as pd\n",
    "from pathlib import Path\n",
    "import seaborn as sn\n"
   ]
  },
  {
   "cell_type": "code",
   "execution_count": 2,
   "id": "d6302d10",
   "metadata": {
    "execution": {
     "iopub.execute_input": "2024-08-21T09:47:06.950243Z",
     "iopub.status.busy": "2024-08-21T09:47:06.950087Z",
     "iopub.status.idle": "2024-08-21T09:47:06.953007Z",
     "shell.execute_reply": "2024-08-21T09:47:06.952783Z"
    },
    "papermill": {
     "duration": 0.005607,
     "end_time": "2024-08-21T09:47:06.953790",
     "exception": false,
     "start_time": "2024-08-21T09:47:06.948183",
     "status": "completed"
    },
    "tags": []
   },
   "outputs": [],
   "source": [
    "# Setting so that the plots look normal even when using dark-reader\n",
    "sn.set_style(\"whitegrid\")\n",
    "sn.set_context(context=\"paper\", font_scale=2)\n",
    "pal = sn.color_palette(\"Set1\")\n",
    "\n",
    "# Setting up specifics for plotting + saving\n",
    "save_figures = True\n",
    "add_legend = False\n",
    "add_title = False\n",
    "add_axis = False\n",
    "save_parms = {'format': 'pdf','bbox_inches':'tight', 'pad_inches':0.1}\n",
    "line_parms = {'linewidth':4, 'color':'k'}\n",
    "if save_figures:  # saves all figures in a figure directory in the local directory\n",
    "    figure_dir = Path('.') / 'figures' / 'adult-income-experiment'\n",
    "    if not figure_dir.exists():\n",
    "        figure_dir.mkdir(parents=True)"
   ]
  },
  {
   "cell_type": "code",
   "execution_count": 3,
   "id": "22d1d0e0",
   "metadata": {
    "execution": {
     "iopub.execute_input": "2024-08-21T09:47:06.957153Z",
     "iopub.status.busy": "2024-08-21T09:47:06.957017Z",
     "iopub.status.idle": "2024-08-21T09:47:06.959089Z",
     "shell.execute_reply": "2024-08-21T09:47:06.958821Z"
    },
    "papermill": {
     "duration": 0.004706,
     "end_time": "2024-08-21T09:47:06.959893",
     "exception": false,
     "start_time": "2024-08-21T09:47:06.955187",
     "status": "completed"
    },
    "tags": []
   },
   "outputs": [],
   "source": [
    "# Experiment hyperparamters\n",
    "rng = np.random.RandomState(42)\n",
    "split_on_income = False  # if True: src := income>=50k, tgt :+ income<50k, if False: src := male, tgt := female\n",
    "n_samples = 1000"
   ]
  },
  {
   "cell_type": "code",
   "execution_count": 4,
   "id": "48ff09ec",
   "metadata": {
    "execution": {
     "iopub.execute_input": "2024-08-21T09:47:06.964062Z",
     "iopub.status.busy": "2024-08-21T09:47:06.963886Z",
     "iopub.status.idle": "2024-08-21T09:47:06.965669Z",
     "shell.execute_reply": "2024-08-21T09:47:06.965256Z"
    },
    "papermill": {
     "duration": 0.00529,
     "end_time": "2024-08-21T09:47:06.966531",
     "exception": false,
     "start_time": "2024-08-21T09:47:06.961241",
     "status": "completed"
    },
    "tags": [
     "parameters"
    ]
   },
   "outputs": [],
   "source": [
    "comparison_id = None"
   ]
  },
  {
   "cell_type": "code",
   "execution_count": 5,
   "id": "8e72e3c2",
   "metadata": {
    "execution": {
     "iopub.execute_input": "2024-08-21T09:47:06.969846Z",
     "iopub.status.busy": "2024-08-21T09:47:06.969720Z",
     "iopub.status.idle": "2024-08-21T09:47:06.971281Z",
     "shell.execute_reply": "2024-08-21T09:47:06.971056Z"
    },
    "papermill": {
     "duration": 0.004067,
     "end_time": "2024-08-21T09:47:06.971982",
     "exception": false,
     "start_time": "2024-08-21T09:47:06.967915",
     "status": "completed"
    },
    "tags": [
     "injected-parameters"
    ]
   },
   "outputs": [],
   "source": [
    "# Parameters\n",
    "comparison_id = 1\n"
   ]
  },
  {
   "cell_type": "code",
   "execution_count": 6,
   "id": "dade2b7e",
   "metadata": {
    "execution": {
     "iopub.execute_input": "2024-08-21T09:47:06.974890Z",
     "iopub.status.busy": "2024-08-21T09:47:06.974799Z",
     "iopub.status.idle": "2024-08-21T09:47:06.983128Z",
     "shell.execute_reply": "2024-08-21T09:47:06.982899Z"
    },
    "papermill": {
     "duration": 0.010665,
     "end_time": "2024-08-21T09:47:06.983916",
     "exception": false,
     "start_time": "2024-08-21T09:47:06.973251",
     "status": "completed"
    },
    "tags": []
   },
   "outputs": [
    {
     "name": "stdout",
     "output_type": "stream",
     "text": [
      "['Customer_id', 'Connection', 'Weight', 'Unit_type', 'Day', 'Week']\n"
     ]
    }
   ],
   "source": [
    "\n",
    "# Load the data\n",
    "comparison_dict = {0: [0,1], 1: [2,3], 2: [4,5]}\n",
    "path_customer_profiles = open('./Results_Experiments/File_Paths/path_customer_profiles.txt','r').read()\n",
    "path_transport_graphics = open('./Results_Experiments/File_Paths/path_transport_graphics.txt','r').read()\n",
    "source = pd.read_csv(f'../{path_customer_profiles}/customer_profile_{comparison_dict[comparison_id][0]}.csv')\n",
    "target = pd.read_csv(f'../{path_customer_profiles}/customer_profile_{comparison_dict[comparison_id][1]}.csv')\n",
    "\n",
    "feature_names = source.columns.values\n",
    "feature_names = list(feature_names)\n",
    "print(feature_names)"
   ]
  },
  {
   "cell_type": "code",
   "execution_count": 7,
   "id": "296df3b5",
   "metadata": {
    "execution": {
     "iopub.execute_input": "2024-08-21T09:47:06.987103Z",
     "iopub.status.busy": "2024-08-21T09:47:06.986996Z",
     "iopub.status.idle": "2024-08-21T09:47:07.023235Z",
     "shell.execute_reply": "2024-08-21T09:47:07.022972Z"
    },
    "papermill": {
     "duration": 0.038738,
     "end_time": "2024-08-21T09:47:07.024070",
     "exception": false,
     "start_time": "2024-08-21T09:47:06.985332",
     "status": "completed"
    },
    "tags": []
   },
   "outputs": [],
   "source": [
    "# standardize the source and target data, and convert to domain labels\n",
    "from sklearn.preprocessing import StandardScaler\n",
    "X = np.concatenate((source, target), axis=0)\n",
    "# standardize X to remove cardinatlity bias\n",
    "X = StandardScaler().fit_transform(X)\n",
    "y = np.concatenate((np.zeros(source.shape[0]),\n",
    "                    np.ones(target.shape[0])), axis=0)  # domain labels"
   ]
  },
  {
   "cell_type": "code",
   "execution_count": 8,
   "id": "c5422e1f",
   "metadata": {
    "execution": {
     "iopub.execute_input": "2024-08-21T09:47:07.027242Z",
     "iopub.status.busy": "2024-08-21T09:47:07.027104Z",
     "iopub.status.idle": "2024-08-21T09:47:07.082411Z",
     "shell.execute_reply": "2024-08-21T09:47:07.082148Z"
    },
    "papermill": {
     "duration": 0.057904,
     "end_time": "2024-08-21T09:47:07.083340",
     "exception": false,
     "start_time": "2024-08-21T09:47:07.025436",
     "status": "completed"
    },
    "tags": []
   },
   "outputs": [],
   "source": [
    "from sklearn.datasets import make_classification\n",
    "from sklearn.model_selection import train_test_split\n",
    "\n",
    "X_train, X_test, y_train, y_test = train_test_split(X, y,\n",
    "                                     stratify=y, random_state=42)"
   ]
  },
  {
   "cell_type": "code",
   "execution_count": 9,
   "id": "5d9ba299",
   "metadata": {
    "execution": {
     "iopub.execute_input": "2024-08-21T09:47:07.086654Z",
     "iopub.status.busy": "2024-08-21T09:47:07.086518Z",
     "iopub.status.idle": "2024-08-21T09:47:07.102101Z",
     "shell.execute_reply": "2024-08-21T09:47:07.101761Z"
    },
    "papermill": {
     "duration": 0.018133,
     "end_time": "2024-08-21T09:47:07.103000",
     "exception": false,
     "start_time": "2024-08-21T09:47:07.084867",
     "status": "completed"
    },
    "tags": []
   },
   "outputs": [],
   "source": [
    "# Using XGBoost\n",
    "import xgboost\n",
    "\n",
    "def fit_xgboost(X_train, y_train, X_test, y_test, feature_names=None):\n",
    "    \"\"\" Train an XGBoost model with early stopping.\n",
    "    \"\"\"\n",
    "    dtrain = xgboost.DMatrix(X_train, label=y_train, feature_names=feature_names)\n",
    "    dtest = xgboost.DMatrix(X_test, label=y_test, feature_names=feature_names)\n",
    "    # model = xgboost.train(\n",
    "    #     { \"eta\": 0.001, \"subsample\": 0.5, \"max_depth\": 2,\n",
    "    #       \"objective\": 'binary:logistic', 'eval_metric': 'logloss'}, dtrain, num_boost_round=200000,\n",
    "    #     evals=[(dtest,'eval'), (dtrain,'train')], early_stopping_rounds=20, verbose_eval=False\n",
    "    # )\n",
    "    model = xgboost.train(\n",
    "        {\"objective\": 'binary:logistic', 'eval_metric': 'logloss'},\n",
    "        dtrain,\n",
    "        evals=[(dtest,'eval'), (dtrain,'train')],\n",
    "        verbose_eval=False)\n",
    "    return model"
   ]
  },
  {
   "cell_type": "code",
   "execution_count": 10,
   "id": "bd7ac9f1",
   "metadata": {
    "execution": {
     "iopub.execute_input": "2024-08-21T09:47:07.106123Z",
     "iopub.status.busy": "2024-08-21T09:47:07.106021Z",
     "iopub.status.idle": "2024-08-21T09:47:07.125282Z",
     "shell.execute_reply": "2024-08-21T09:47:07.125030Z"
    },
    "papermill": {
     "duration": 0.021804,
     "end_time": "2024-08-21T09:47:07.126203",
     "exception": false,
     "start_time": "2024-08-21T09:47:07.104399",
     "status": "completed"
    },
    "tags": []
   },
   "outputs": [],
   "source": [
    "xgb_forest = fit_xgboost(X_train, y_train, X_test, y_test, feature_names)\n",
    "xgb_forest.feature_names = feature_names"
   ]
  },
  {
   "cell_type": "code",
   "execution_count": 11,
   "id": "dcaa3020",
   "metadata": {
    "execution": {
     "iopub.execute_input": "2024-08-21T09:47:07.129295Z",
     "iopub.status.busy": "2024-08-21T09:47:07.129193Z",
     "iopub.status.idle": "2024-08-21T09:47:07.130960Z",
     "shell.execute_reply": "2024-08-21T09:47:07.130742Z"
    },
    "papermill": {
     "duration": 0.004145,
     "end_time": "2024-08-21T09:47:07.131720",
     "exception": false,
     "start_time": "2024-08-21T09:47:07.127575",
     "status": "completed"
    },
    "tags": []
   },
   "outputs": [],
   "source": [
    "def get_acc(model, samples, labels, feature_names=None):\n",
    "    predictions = (model.predict(xgboost.DMatrix(samples,\n",
    "                                                 feature_names=feature_names)) > 0.5).astype(int)\n",
    "    return (predictions == labels).sum() / predictions.shape[0]"
   ]
  },
  {
   "cell_type": "code",
   "execution_count": 12,
   "id": "7ce6b380",
   "metadata": {
    "execution": {
     "iopub.execute_input": "2024-08-21T09:47:07.134667Z",
     "iopub.status.busy": "2024-08-21T09:47:07.134572Z",
     "iopub.status.idle": "2024-08-21T09:47:07.138201Z",
     "shell.execute_reply": "2024-08-21T09:47:07.137976Z"
    },
    "papermill": {
     "duration": 0.00589,
     "end_time": "2024-08-21T09:47:07.138887",
     "exception": false,
     "start_time": "2024-08-21T09:47:07.132997",
     "status": "completed"
    },
    "tags": []
   },
   "outputs": [
    {
     "name": "stdout",
     "output_type": "stream",
     "text": [
      "Train score: 0.8653801078209236\n",
      "Test score: 0.8647761893602063\n"
     ]
    }
   ],
   "source": [
    "print('Train score:', get_acc(xgb_forest, X_train, y_train, feature_names))\n",
    "print('Test score:', get_acc(xgb_forest, X_test, y_test, feature_names))"
   ]
  },
  {
   "cell_type": "code",
   "execution_count": 13,
   "id": "97a1d2b0",
   "metadata": {
    "execution": {
     "iopub.execute_input": "2024-08-21T09:47:07.141943Z",
     "iopub.status.busy": "2024-08-21T09:47:07.141847Z",
     "iopub.status.idle": "2024-08-21T09:47:07.411961Z",
     "shell.execute_reply": "2024-08-21T09:47:07.411718Z"
    },
    "papermill": {
     "duration": 0.27266,
     "end_time": "2024-08-21T09:47:07.412921",
     "exception": false,
     "start_time": "2024-08-21T09:47:07.140261",
     "status": "completed"
    },
    "tags": []
   },
   "outputs": [],
   "source": [
    "import shap\n",
    "import pandas as pd\n",
    "explainer = shap.Explainer(xgb_forest)\n",
    "\n",
    "shap_values = explainer(pd.DataFrame(X_test, columns=feature_names))\n"
   ]
  },
  {
   "cell_type": "code",
   "execution_count": 14,
   "id": "8e7a54a8",
   "metadata": {
    "execution": {
     "iopub.execute_input": "2024-08-21T09:47:07.416274Z",
     "iopub.status.busy": "2024-08-21T09:47:07.416125Z",
     "iopub.status.idle": "2024-08-21T09:47:07.965315Z",
     "shell.execute_reply": "2024-08-21T09:47:07.965017Z"
    },
    "papermill": {
     "duration": 0.551712,
     "end_time": "2024-08-21T09:47:07.966147",
     "exception": false,
     "start_time": "2024-08-21T09:47:07.414435",
     "status": "completed"
    },
    "tags": []
   },
   "outputs": [
    {
     "data": {
      "image/png": "[encoded data removed]",
      "text/plain": [
       "<Figure size 400x200 with 2 Axes>"
      ]
     },
     "metadata": {},
     "output_type": "display_data"
    }
   ],
   "source": [
    "# Beeswarm plot\n",
    "\n",
    "shap.plots.beeswarm(shap_values, show=False)\n",
    "fig = plt.gcf()\n",
    "fig.set_size_inches(4, 2, forward=True)\n",
    "if save_figures: plt.savefig(\n",
    "    f'../{path_transport_graphics}/logitics_data_on_customer_profile_{comparison_dict[comparison_id][0]} and customer_profile_{comparison_dict[comparison_id][1]}-shap-value.{save_parms[\"format\"]}',\n",
    "    **save_parms\n",
    "    )\n",
    "plt.show()"
   ]
  }
 ],
 "metadata": {
  "kernelspec": {
   "display_name": "Python 3.7.11 ('py37')",
   "language": "python",
   "name": "python3"
  },
  "language_info": {
   "codemirror_mode": {
    "name": "ipython",
    "version": 3
   },
   "file_extension": ".py",
   "mimetype": "text/x-python",
   "name": "python",
   "nbconvert_exporter": "python",
   "pygments_lexer": "ipython3",
   "version": "3.12.0"
  },
  "papermill": {
   "default_parameters": {},
   "duration": 2.945956,
   "end_time": "2024-08-21T09:47:08.285030",
   "environment_variables": {},
   "exception": null,
   "input_path": "experiment_baseline.ipynb",
   "output_path": "./Results_Experiments/Set_K_to_30/experiment_baseline_2.ipynb",
   "parameters": {
    "comparison_id": 1
   },
   "start_time": "2024-08-21T09:47:05.339074",
   "version": "2.6.0"
  },
  "vscode": {
   "interpreter": {
    "hash": "5ab0220f0ca30ec7bac8a7e209564eceae6d15412b9f87f3c2f91206aa8b151c"
   }
  }
 },
 "nbformat": 4,
 "nbformat_minor": 5
}