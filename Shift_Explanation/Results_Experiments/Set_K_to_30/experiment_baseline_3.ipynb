{
 "cells": [
  {
   "cell_type": "code",
   "execution_count": 1,
   "id": "d05cab18",
   "metadata": {
    "execution": {
     "iopub.execute_input": "2024-08-21T09:47:08.812434Z",
     "iopub.status.busy": "2024-08-21T09:47:08.811979Z",
     "iopub.status.idle": "2024-08-21T09:47:09.672436Z",
     "shell.execute_reply": "2024-08-21T09:47:09.672141Z"
    },
    "papermill": {
     "duration": 0.868537,
     "end_time": "2024-08-21T09:47:09.673455",
     "exception": false,
     "start_time": "2024-08-21T09:47:08.804918",
     "status": "completed"
    },
    "tags": []
   },
   "outputs": [],
   "source": [
    "import matplotlib.pyplot as plt\n",
    "import numpy as np\n",
    "import pandas as pd\n",
    "from pathlib import Path\n",
    "import seaborn as sn\n"
   ]
  },
  {
   "cell_type": "code",
   "execution_count": 2,
   "id": "d6302d10",
   "metadata": {
    "execution": {
     "iopub.execute_input": "2024-08-21T09:47:09.676733Z",
     "iopub.status.busy": "2024-08-21T09:47:09.676576Z",
     "iopub.status.idle": "2024-08-21T09:47:09.679394Z",
     "shell.execute_reply": "2024-08-21T09:47:09.679139Z"
    },
    "papermill": {
     "duration": 0.005339,
     "end_time": "2024-08-21T09:47:09.680298",
     "exception": false,
     "start_time": "2024-08-21T09:47:09.674959",
     "status": "completed"
    },
    "tags": []
   },
   "outputs": [],
   "source": [
    "# Setting so that the plots look normal even when using dark-reader\n",
    "sn.set_style(\"whitegrid\")\n",
    "sn.set_context(context=\"paper\", font_scale=2)\n",
    "pal = sn.color_palette(\"Set1\")\n",
    "\n",
    "# Setting up specifics for plotting + saving\n",
    "save_figures = True\n",
    "add_legend = False\n",
    "add_title = False\n",
    "add_axis = False\n",
    "save_parms = {'format': 'pdf','bbox_inches':'tight', 'pad_inches':0.1}\n",
    "line_parms = {'linewidth':4, 'color':'k'}\n",
    "if save_figures:  # saves all figures in a figure directory in the local directory\n",
    "    figure_dir = Path('.') / 'figures' / 'adult-income-experiment'\n",
    "    if not figure_dir.exists():\n",
    "        figure_dir.mkdir(parents=True)"
   ]
  },
  {
   "cell_type": "code",
   "execution_count": 3,
   "id": "22d1d0e0",
   "metadata": {
    "execution": {
     "iopub.execute_input": "2024-08-21T09:47:09.683737Z",
     "iopub.status.busy": "2024-08-21T09:47:09.683531Z",
     "iopub.status.idle": "2024-08-21T09:47:09.685711Z",
     "shell.execute_reply": "2024-08-21T09:47:09.685405Z"
    },
    "papermill": {
     "duration": 0.004798,
     "end_time": "2024-08-21T09:47:09.686643",
     "exception": false,
     "start_time": "2024-08-21T09:47:09.681845",
     "status": "completed"
    },
    "tags": []
   },
   "outputs": [],
   "source": [
    "# Experiment hyperparamters\n",
    "rng = np.random.RandomState(42)\n",
    "split_on_income = False  # if True: src := income>=50k, tgt :+ income<50k, if False: src := male, tgt := female\n",
    "n_samples = 1000"
   ]
  },
  {
   "cell_type": "code",
   "execution_count": 4,
   "id": "48ff09ec",
   "metadata": {
    "execution": {
     "iopub.execute_input": "2024-08-21T09:47:09.690464Z",
     "iopub.status.busy": "2024-08-21T09:47:09.690323Z",
     "iopub.status.idle": "2024-08-21T09:47:09.692388Z",
     "shell.execute_reply": "2024-08-21T09:47:09.691781Z"
    },
    "papermill": {
     "duration": 0.005312,
     "end_time": "2024-08-21T09:47:09.693582",
     "exception": false,
     "start_time": "2024-08-21T09:47:09.688270",
     "status": "completed"
    },
    "tags": [
     "parameters"
    ]
   },
   "outputs": [],
   "source": [
    "comparison_id = None"
   ]
  },
  {
   "cell_type": "code",
   "execution_count": 5,
   "id": "c644e362",
   "metadata": {
    "execution": {
     "iopub.execute_input": "2024-08-21T09:47:09.697025Z",
     "iopub.status.busy": "2024-08-21T09:47:09.696901Z",
     "iopub.status.idle": "2024-08-21T09:47:09.698439Z",
     "shell.execute_reply": "2024-08-21T09:47:09.698230Z"
    },
    "papermill": {
     "duration": 0.00399,
     "end_time": "2024-08-21T09:47:09.699135",
     "exception": false,
     "start_time": "2024-08-21T09:47:09.695145",
     "status": "completed"
    },
    "tags": [
     "injected-parameters"
    ]
   },
   "outputs": [],
   "source": [
    "# Parameters\n",
    "comparison_id = 2\n"
   ]
  },
  {
   "cell_type": "code",
   "execution_count": 6,
   "id": "dade2b7e",
   "metadata": {
    "execution": {
     "iopub.execute_input": "2024-08-21T09:47:09.702033Z",
     "iopub.status.busy": "2024-08-21T09:47:09.701936Z",
     "iopub.status.idle": "2024-08-21T09:47:09.710013Z",
     "shell.execute_reply": "2024-08-21T09:47:09.709765Z"
    },
    "papermill": {
     "duration": 0.010358,
     "end_time": "2024-08-21T09:47:09.710748",
     "exception": false,
     "start_time": "2024-08-21T09:47:09.700390",
     "status": "completed"
    },
    "tags": []
   },
   "outputs": [
    {
     "name": "stdout",
     "output_type": "stream",
     "text": [
      "['Customer_id', 'Connection', 'Weight', 'Unit_type', 'Day', 'Week']\n"
     ]
    }
   ],
   "source": [
    "\n",
    "# Load the data\n",
    "comparison_dict = {0: [0,1], 1: [2,3], 2: [4,5]}\n",
    "path_customer_profiles = open('./Results_Experiments/File_Paths/path_customer_profiles.txt','r').read()\n",
    "path_transport_graphics = open('./Results_Experiments/File_Paths/path_transport_graphics.txt','r').read()\n",
    "source = pd.read_csv(f'../{path_customer_profiles}/customer_profile_{comparison_dict[comparison_id][0]}.csv')\n",
    "target = pd.read_csv(f'../{path_customer_profiles}/customer_profile_{comparison_dict[comparison_id][1]}.csv')\n",
    "\n",
    "feature_names = source.columns.values\n",
    "feature_names = list(feature_names)\n",
    "print(feature_names)"
   ]
  },
  {
   "cell_type": "code",
   "execution_count": 7,
   "id": "296df3b5",
   "metadata": {
    "execution": {
     "iopub.execute_input": "2024-08-21T09:47:09.714007Z",
     "iopub.status.busy": "2024-08-21T09:47:09.713883Z",
     "iopub.status.idle": "2024-08-21T09:47:09.746053Z",
     "shell.execute_reply": "2024-08-21T09:47:09.745804Z"
    },
    "papermill": {
     "duration": 0.034802,
     "end_time": "2024-08-21T09:47:09.746992",
     "exception": false,
     "start_time": "2024-08-21T09:47:09.712190",
     "status": "completed"
    },
    "tags": []
   },
   "outputs": [],
   "source": [
    "# standardize the source and target data, and convert to domain labels\n",
    "from sklearn.preprocessing import StandardScaler\n",
    "X = np.concatenate((source, target), axis=0)\n",
    "# standardize X to remove cardinatlity bias\n",
    "X = StandardScaler().fit_transform(X)\n",
    "y = np.concatenate((np.zeros(source.shape[0]),\n",
    "                    np.ones(target.shape[0])), axis=0)  # domain labels"
   ]
  },
  {
   "cell_type": "code",
   "execution_count": 8,
   "id": "c5422e1f",
   "metadata": {
    "execution": {
     "iopub.execute_input": "2024-08-21T09:47:09.750166Z",
     "iopub.status.busy": "2024-08-21T09:47:09.750025Z",
     "iopub.status.idle": "2024-08-21T09:47:09.802951Z",
     "shell.execute_reply": "2024-08-21T09:47:09.802538Z"
    },
    "papermill": {
     "duration": 0.055579,
     "end_time": "2024-08-21T09:47:09.803995",
     "exception": false,
     "start_time": "2024-08-21T09:47:09.748416",
     "status": "completed"
    },
    "tags": []
   },
   "outputs": [],
   "source": [
    "from sklearn.datasets import make_classification\n",
    "from sklearn.model_selection import train_test_split\n",
    "\n",
    "X_train, X_test, y_train, y_test = train_test_split(X, y,\n",
    "                                     stratify=y, random_state=42)"
   ]
  },
  {
   "cell_type": "code",
   "execution_count": 9,
   "id": "5d9ba299",
   "metadata": {
    "execution": {
     "iopub.execute_input": "2024-08-21T09:47:09.807975Z",
     "iopub.status.busy": "2024-08-21T09:47:09.807786Z",
     "iopub.status.idle": "2024-08-21T09:47:09.822760Z",
     "shell.execute_reply": "2024-08-21T09:47:09.822391Z"
    },
    "papermill": {
     "duration": 0.018309,
     "end_time": "2024-08-21T09:47:09.823969",
     "exception": false,
     "start_time": "2024-08-21T09:47:09.805660",
     "status": "completed"
    },
    "tags": []
   },
   "outputs": [],
   "source": [
    "# Using XGBoost\n",
    "import xgboost\n",
    "\n",
    "def fit_xgboost(X_train, y_train, X_test, y_test, feature_names=None):\n",
    "    \"\"\" Train an XGBoost model with early stopping.\n",
    "    \"\"\"\n",
    "    dtrain = xgboost.DMatrix(X_train, label=y_train, feature_names=feature_names)\n",
    "    dtest = xgboost.DMatrix(X_test, label=y_test, feature_names=feature_names)\n",
    "    # model = xgboost.train(\n",
    "    #     { \"eta\": 0.001, \"subsample\": 0.5, \"max_depth\": 2,\n",
    "    #       \"objective\": 'binary:logistic', 'eval_metric': 'logloss'}, dtrain, num_boost_round=200000,\n",
    "    #     evals=[(dtest,'eval'), (dtrain,'train')], early_stopping_rounds=20, verbose_eval=False\n",
    "    # )\n",
    "    model = xgboost.train(\n",
    "        {\"objective\": 'binary:logistic', 'eval_metric': 'logloss'},\n",
    "        dtrain,\n",
    "        evals=[(dtest,'eval'), (dtrain,'train')],\n",
    "        verbose_eval=False)\n",
    "    return model"
   ]
  },
  {
   "cell_type": "code",
   "execution_count": 10,
   "id": "bd7ac9f1",
   "metadata": {
    "execution": {
     "iopub.execute_input": "2024-08-21T09:47:09.827620Z",
     "iopub.status.busy": "2024-08-21T09:47:09.827487Z",
     "iopub.status.idle": "2024-08-21T09:47:09.846063Z",
     "shell.execute_reply": "2024-08-21T09:47:09.845768Z"
    },
    "papermill": {
     "duration": 0.021357,
     "end_time": "2024-08-21T09:47:09.847038",
     "exception": false,
     "start_time": "2024-08-21T09:47:09.825681",
     "status": "completed"
    },
    "tags": []
   },
   "outputs": [],
   "source": [
    "xgb_forest = fit_xgboost(X_train, y_train, X_test, y_test, feature_names)\n",
    "xgb_forest.feature_names = feature_names"
   ]
  },
  {
   "cell_type": "code",
   "execution_count": 11,
   "id": "dcaa3020",
   "metadata": {
    "execution": {
     "iopub.execute_input": "2024-08-21T09:47:09.851123Z",
     "iopub.status.busy": "2024-08-21T09:47:09.850982Z",
     "iopub.status.idle": "2024-08-21T09:47:09.852898Z",
     "shell.execute_reply": "2024-08-21T09:47:09.852687Z"
    },
    "papermill": {
     "duration": 0.00475,
     "end_time": "2024-08-21T09:47:09.853687",
     "exception": false,
     "start_time": "2024-08-21T09:47:09.848937",
     "status": "completed"
    },
    "tags": []
   },
   "outputs": [],
   "source": [
    "def get_acc(model, samples, labels, feature_names=None):\n",
    "    predictions = (model.predict(xgboost.DMatrix(samples,\n",
    "                                                 feature_names=feature_names)) > 0.5).astype(int)\n",
    "    return (predictions == labels).sum() / predictions.shape[0]"
   ]
  },
  {
   "cell_type": "code",
   "execution_count": 12,
   "id": "7ce6b380",
   "metadata": {
    "execution": {
     "iopub.execute_input": "2024-08-21T09:47:09.856694Z",
     "iopub.status.busy": "2024-08-21T09:47:09.856600Z",
     "iopub.status.idle": "2024-08-21T09:47:09.860320Z",
     "shell.execute_reply": "2024-08-21T09:47:09.860065Z"
    },
    "papermill": {
     "duration": 0.006067,
     "end_time": "2024-08-21T09:47:09.861101",
     "exception": false,
     "start_time": "2024-08-21T09:47:09.855034",
     "status": "completed"
    },
    "tags": []
   },
   "outputs": [
    {
     "name": "stdout",
     "output_type": "stream",
     "text": [
      "Train score: 0.9179056754596323\n",
      "Test score: 0.9127307600095901\n"
     ]
    }
   ],
   "source": [
    "print('Train score:', get_acc(xgb_forest, X_train, y_train, feature_names))\n",
    "print('Test score:', get_acc(xgb_forest, X_test, y_test, feature_names))"
   ]
  },
  {
   "cell_type": "code",
   "execution_count": 13,
   "id": "97a1d2b0",
   "metadata": {
    "execution": {
     "iopub.execute_input": "2024-08-21T09:47:09.864299Z",
     "iopub.status.busy": "2024-08-21T09:47:09.864105Z",
     "iopub.status.idle": "2024-08-21T09:47:10.128016Z",
     "shell.execute_reply": "2024-08-21T09:47:10.127768Z"
    },
    "papermill": {
     "duration": 0.266837,
     "end_time": "2024-08-21T09:47:10.129336",
     "exception": false,
     "start_time": "2024-08-21T09:47:09.862499",
     "status": "completed"
    },
    "tags": []
   },
   "outputs": [],
   "source": [
    "import shap\n",
    "import pandas as pd\n",
    "explainer = shap.Explainer(xgb_forest)\n",
    "\n",
    "shap_values = explainer(pd.DataFrame(X_test, columns=feature_names))\n"
   ]
  },
  {
   "cell_type": "code",
   "execution_count": 14,
   "id": "8e7a54a8",
   "metadata": {
    "execution": {
     "iopub.execute_input": "2024-08-21T09:47:10.132939Z",
     "iopub.status.busy": "2024-08-21T09:47:10.132785Z",
     "iopub.status.idle": "2024-08-21T09:47:10.660641Z",
     "shell.execute_reply": "2024-08-21T09:47:10.660363Z"
    },
    "papermill": {
     "duration": 0.530449,
     "end_time": "2024-08-21T09:47:10.661477",
     "exception": false,
     "start_time": "2024-08-21T09:47:10.131028",
     "status": "completed"
    },
    "tags": []
   },
   "outputs": [
    {
     "data": {
      "image/png": "[encoded data removed]",
      "text/plain": [
       "<Figure size 400x200 with 2 Axes>"
      ]
     },
     "metadata": {},
     "output_type": "display_data"
    }
   ],
   "source": [
    "# Beeswarm plot\n",
    "\n",
    "shap.plots.beeswarm(shap_values, show=False)\n",
    "fig = plt.gcf()\n",
    "fig.set_size_inches(4, 2, forward=True)\n",
    "if save_figures: plt.savefig(\n",
    "    f'../{path_transport_graphics}/logitics_data_on_customer_profile_{comparison_dict[comparison_id][0]} and customer_profile_{comparison_dict[comparison_id][1]}-shap-value.{save_parms[\"format\"]}',\n",
    "    **save_parms\n",
    "    )\n",
    "plt.show()"
   ]
  }
 ],
 "metadata": {
  "kernelspec": {
   "display_name": "Python 3.7.11 ('py37')",
   "language": "python",
   "name": "python3"
  },
  "language_info": {
   "codemirror_mode": {
    "name": "ipython",
    "version": 3
   },
   "file_extension": ".py",
   "mimetype": "text/x-python",
   "name": "python",
   "nbconvert_exporter": "python",
   "pygments_lexer": "ipython3",
   "version": "3.12.0"
  },
  "papermill": {
   "default_parameters": {},
   "duration": 2.742557,
   "end_time": "2024-08-21T09:47:11.032542",
   "environment_variables": {},
   "exception": null,
   "input_path": "experiment_baseline.ipynb",
   "output_path": "./Results_Experiments/Set_K_to_30/experiment_baseline_3.ipynb",
   "parameters": {
    "comparison_id": 2
   },
   "start_time": "2024-08-21T09:47:08.289985",
   "version": "2.6.0"
  },
  "vscode": {
   "interpreter": {
    "hash": "5ab0220f0ca30ec7bac8a7e209564eceae6d15412b9f87f3c2f91206aa8b151c"
   }
  }
 },
 "nbformat": 4,
 "nbformat_minor": 5
}