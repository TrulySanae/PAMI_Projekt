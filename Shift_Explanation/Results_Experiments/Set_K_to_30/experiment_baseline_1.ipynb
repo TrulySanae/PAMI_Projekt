{
 "cells": [
  {
   "cell_type": "code",
   "execution_count": 1,
   "id": "d05cab18",
   "metadata": {
    "execution": {
     "iopub.execute_input": "2024-08-21T12:09:49.557689Z",
     "iopub.status.busy": "2024-08-21T12:09:49.557335Z",
     "iopub.status.idle": "2024-08-21T12:09:50.394880Z",
     "shell.execute_reply": "2024-08-21T12:09:50.394537Z"
    },
    "papermill": {
     "duration": 0.846996,
     "end_time": "2024-08-21T12:09:50.395842",
     "exception": false,
     "start_time": "2024-08-21T12:09:49.548846",
     "status": "completed"
    },
    "tags": []
   },
   "outputs": [],
   "source": [
    "import matplotlib.pyplot as plt\n",
    "import numpy as np\n",
    "import pandas as pd\n",
    "from pathlib import Path\n",
    "import seaborn as sn\n",
    "from data_utils import load_and_preprocess_logistics_data"
   ]
  },
  {
   "cell_type": "code",
   "execution_count": 2,
   "id": "d6302d10",
   "metadata": {
    "execution": {
     "iopub.execute_input": "2024-08-21T12:09:50.399174Z",
     "iopub.status.busy": "2024-08-21T12:09:50.399013Z",
     "iopub.status.idle": "2024-08-21T12:09:50.401701Z",
     "shell.execute_reply": "2024-08-21T12:09:50.401494Z"
    },
    "papermill": {
     "duration": 0.005094,
     "end_time": "2024-08-21T12:09:50.402504",
     "exception": false,
     "start_time": "2024-08-21T12:09:50.397410",
     "status": "completed"
    },
    "tags": []
   },
   "outputs": [],
   "source": [
    "# Setting so that the plots look normal even when using dark-reader\n",
    "sn.set_style(\"whitegrid\")\n",
    "sn.set_context(context=\"paper\", font_scale=2)\n",
    "pal = sn.color_palette(\"Set1\")\n",
    "\n",
    "# Setting up specifics for plotting + saving\n",
    "save_figures = True\n",
    "add_legend = False\n",
    "add_title = False\n",
    "add_axis = False\n",
    "save_parms = {'format': 'pdf','bbox_inches':'tight', 'pad_inches':0.1}\n",
    "line_parms = {'linewidth':4, 'color':'k'}\n",
    "if save_figures:  # saves all figures in a figure directory in the local directory\n",
    "    figure_dir = Path('.') / 'figures' / 'adult-income-experiment'\n",
    "    if not figure_dir.exists():\n",
    "        figure_dir.mkdir(parents=True)"
   ]
  },
  {
   "cell_type": "code",
   "execution_count": 3,
   "id": "22d1d0e0",
   "metadata": {
    "execution": {
     "iopub.execute_input": "2024-08-21T12:09:50.405412Z",
     "iopub.status.busy": "2024-08-21T12:09:50.405301Z",
     "iopub.status.idle": "2024-08-21T12:09:50.407107Z",
     "shell.execute_reply": "2024-08-21T12:09:50.406900Z"
    },
    "papermill": {
     "duration": 0.004095,
     "end_time": "2024-08-21T12:09:50.407808",
     "exception": false,
     "start_time": "2024-08-21T12:09:50.403713",
     "status": "completed"
    },
    "tags": []
   },
   "outputs": [],
   "source": [
    "# Experiment hyperparamters\n",
    "rng = np.random.RandomState(42)\n",
    "split_on_income = False  # if True: src := income>=50k, tgt :+ income<50k, if False: src := male, tgt := female\n",
    "n_samples = 1000"
   ]
  },
  {
   "cell_type": "code",
   "execution_count": 4,
   "id": "48ff09ec",
   "metadata": {
    "execution": {
     "iopub.execute_input": "2024-08-21T12:09:50.410894Z",
     "iopub.status.busy": "2024-08-21T12:09:50.410773Z",
     "iopub.status.idle": "2024-08-21T12:09:50.412382Z",
     "shell.execute_reply": "2024-08-21T12:09:50.412173Z"
    },
    "papermill": {
     "duration": 0.00479,
     "end_time": "2024-08-21T12:09:50.413801",
     "exception": false,
     "start_time": "2024-08-21T12:09:50.409011",
     "status": "completed"
    },
    "tags": [
     "parameters"
    ]
   },
   "outputs": [],
   "source": [
    "comparison_id = None"
   ]
  },
  {
   "cell_type": "code",
   "execution_count": 5,
   "id": "c4e2bb37",
   "metadata": {
    "execution": {
     "iopub.execute_input": "2024-08-21T12:09:50.417287Z",
     "iopub.status.busy": "2024-08-21T12:09:50.417117Z",
     "iopub.status.idle": "2024-08-21T12:09:50.418715Z",
     "shell.execute_reply": "2024-08-21T12:09:50.418499Z"
    },
    "papermill": {
     "duration": 0.004027,
     "end_time": "2024-08-21T12:09:50.419459",
     "exception": false,
     "start_time": "2024-08-21T12:09:50.415432",
     "status": "completed"
    },
    "tags": [
     "injected-parameters"
    ]
   },
   "outputs": [],
   "source": [
    "# Parameters\n",
    "comparison_id = 0\n"
   ]
  },
  {
   "cell_type": "code",
   "execution_count": 6,
   "id": "dade2b7e",
   "metadata": {
    "execution": {
     "iopub.execute_input": "2024-08-21T12:09:50.422277Z",
     "iopub.status.busy": "2024-08-21T12:09:50.422184Z",
     "iopub.status.idle": "2024-08-21T12:09:50.439946Z",
     "shell.execute_reply": "2024-08-21T12:09:50.439706Z"
    },
    "papermill": {
     "duration": 0.020024,
     "end_time": "2024-08-21T12:09:50.440716",
     "exception": false,
     "start_time": "2024-08-21T12:09:50.420692",
     "status": "completed"
    },
    "tags": []
   },
   "outputs": [
    {
     "name": "stdout",
     "output_type": "stream",
     "text": [
      "Comparing customer_profile_0 and customer_profile_1\n",
      "Finished preprocessing logistic dataset. Split on customer_profile_0 and customer_profile_1 with resulting source shape: (996, 3), target shape: (996, 3).\n",
      "['Connection', 'Weight', 'Unit_type']\n"
     ]
    }
   ],
   "source": [
    "\n",
    "# Load the data\n",
    "comparison_dict = {0: [0,1], 1: [2,3], 2: [4,5]}\n",
    "path_customer_profiles = open('./Results_Experiments/File_Paths/path_customer_profiles.txt','r').read()\n",
    "path_transport_graphics = open('./Results_Experiments/File_Paths/path_transport_graphics.txt','r').read()\n",
    "source = pd.read_csv(f'../{path_customer_profiles}/customer_profile_{comparison_dict[comparison_id][0]}.csv')\n",
    "target = pd.read_csv(f'../{path_customer_profiles}/customer_profile_{comparison_dict[comparison_id][1]}.csv')\n",
    "equal_week_split = True\n",
    "source, target, feature_names = load_and_preprocess_logistics_data(rng, n_samples, return_column_names=True,equal_week_split=equal_week_split, comparison_id=\n",
    "            comparison_id, comparison_dict=comparison_dict)\n",
    "print(feature_names)"
   ]
  },
  {
   "cell_type": "code",
   "execution_count": 7,
   "id": "296df3b5",
   "metadata": {
    "execution": {
     "iopub.execute_input": "2024-08-21T12:09:50.443914Z",
     "iopub.status.busy": "2024-08-21T12:09:50.443811Z",
     "iopub.status.idle": "2024-08-21T12:09:50.446184Z",
     "shell.execute_reply": "2024-08-21T12:09:50.445968Z"
    },
    "papermill": {
     "duration": 0.004815,
     "end_time": "2024-08-21T12:09:50.446941",
     "exception": false,
     "start_time": "2024-08-21T12:09:50.442126",
     "status": "completed"
    },
    "tags": []
   },
   "outputs": [],
   "source": [
    "# standardize the source and target data, and convert to domain labels\n",
    "from sklearn.preprocessing import StandardScaler\n",
    "X = np.concatenate((source, target), axis=0)\n",
    "# standardize X to remove cardinatlity bias\n",
    "X = StandardScaler().fit_transform(X)\n",
    "y = np.concatenate((np.zeros(source.shape[0]),\n",
    "                    np.ones(target.shape[0])), axis=0)  # domain labels"
   ]
  },
  {
   "cell_type": "code",
   "execution_count": 8,
   "id": "c5422e1f",
   "metadata": {
    "execution": {
     "iopub.execute_input": "2024-08-21T12:09:50.449796Z",
     "iopub.status.busy": "2024-08-21T12:09:50.449698Z",
     "iopub.status.idle": "2024-08-21T12:09:50.498945Z",
     "shell.execute_reply": "2024-08-21T12:09:50.498674Z"
    },
    "papermill": {
     "duration": 0.051708,
     "end_time": "2024-08-21T12:09:50.499906",
     "exception": false,
     "start_time": "2024-08-21T12:09:50.448198",
     "status": "completed"
    },
    "tags": []
   },
   "outputs": [],
   "source": [
    "from sklearn.datasets import make_classification\n",
    "from sklearn.model_selection import train_test_split\n",
    "\n",
    "X_train, X_test, y_train, y_test = train_test_split(X, y,\n",
    "                                     stratify=y, random_state=42)"
   ]
  },
  {
   "cell_type": "code",
   "execution_count": 9,
   "id": "5d9ba299",
   "metadata": {
    "execution": {
     "iopub.execute_input": "2024-08-21T12:09:50.503208Z",
     "iopub.status.busy": "2024-08-21T12:09:50.503061Z",
     "iopub.status.idle": "2024-08-21T12:09:50.517048Z",
     "shell.execute_reply": "2024-08-21T12:09:50.516796Z"
    },
    "papermill": {
     "duration": 0.016587,
     "end_time": "2024-08-21T12:09:50.517960",
     "exception": false,
     "start_time": "2024-08-21T12:09:50.501373",
     "status": "completed"
    },
    "tags": []
   },
   "outputs": [],
   "source": [
    "# Using XGBoost\n",
    "import xgboost\n",
    "\n",
    "def fit_xgboost(X_train, y_train, X_test, y_test, feature_names=None):\n",
    "    \"\"\" Train an XGBoost model with early stopping.\n",
    "    \"\"\"\n",
    "    dtrain = xgboost.DMatrix(X_train, label=y_train, feature_names=feature_names)\n",
    "    dtest = xgboost.DMatrix(X_test, label=y_test, feature_names=feature_names)\n",
    "    # model = xgboost.train(\n",
    "    #     { \"eta\": 0.001, \"subsample\": 0.5, \"max_depth\": 2,\n",
    "    #       \"objective\": 'binary:logistic', 'eval_metric': 'logloss'}, dtrain, num_boost_round=200000,\n",
    "    #     evals=[(dtest,'eval'), (dtrain,'train')], early_stopping_rounds=20, verbose_eval=False\n",
    "    # )\n",
    "    model = xgboost.train(\n",
    "        {\"objective\": 'binary:logistic', 'eval_metric': 'logloss'},\n",
    "        dtrain,\n",
    "        evals=[(dtest,'eval'), (dtrain,'train')],\n",
    "        verbose_eval=False)\n",
    "    return model"
   ]
  },
  {
   "cell_type": "code",
   "execution_count": 10,
   "id": "bd7ac9f1",
   "metadata": {
    "execution": {
     "iopub.execute_input": "2024-08-21T12:09:50.521056Z",
     "iopub.status.busy": "2024-08-21T12:09:50.520946Z",
     "iopub.status.idle": "2024-08-21T12:09:50.536050Z",
     "shell.execute_reply": "2024-08-21T12:09:50.535797Z"
    },
    "papermill": {
     "duration": 0.017665,
     "end_time": "2024-08-21T12:09:50.536956",
     "exception": false,
     "start_time": "2024-08-21T12:09:50.519291",
     "status": "completed"
    },
    "tags": []
   },
   "outputs": [],
   "source": [
    "xgb_forest = fit_xgboost(X_train, y_train, X_test, y_test, feature_names)\n",
    "xgb_forest.feature_names = feature_names"
   ]
  },
  {
   "cell_type": "code",
   "execution_count": 11,
   "id": "dcaa3020",
   "metadata": {
    "execution": {
     "iopub.execute_input": "2024-08-21T12:09:50.540001Z",
     "iopub.status.busy": "2024-08-21T12:09:50.539897Z",
     "iopub.status.idle": "2024-08-21T12:09:50.541793Z",
     "shell.execute_reply": "2024-08-21T12:09:50.541573Z"
    },
    "papermill": {
     "duration": 0.004163,
     "end_time": "2024-08-21T12:09:50.542505",
     "exception": false,
     "start_time": "2024-08-21T12:09:50.538342",
     "status": "completed"
    },
    "tags": []
   },
   "outputs": [],
   "source": [
    "def get_acc(model, samples, labels, feature_names=None):\n",
    "    predictions = (model.predict(xgboost.DMatrix(samples,\n",
    "                                                 feature_names=feature_names)) > 0.5).astype(int)\n",
    "    return (predictions == labels).sum() / predictions.shape[0]"
   ]
  },
  {
   "cell_type": "code",
   "execution_count": 12,
   "id": "7ce6b380",
   "metadata": {
    "execution": {
     "iopub.execute_input": "2024-08-21T12:09:50.545623Z",
     "iopub.status.busy": "2024-08-21T12:09:50.545435Z",
     "iopub.status.idle": "2024-08-21T12:09:50.548341Z",
     "shell.execute_reply": "2024-08-21T12:09:50.548105Z"
    },
    "papermill": {
     "duration": 0.005115,
     "end_time": "2024-08-21T12:09:50.549020",
     "exception": false,
     "start_time": "2024-08-21T12:09:50.543905",
     "status": "completed"
    },
    "tags": []
   },
   "outputs": [
    {
     "name": "stdout",
     "output_type": "stream",
     "text": [
      "Train score: 0.7516733601070951\n",
      "Test score: 0.6807228915662651\n"
     ]
    }
   ],
   "source": [
    "print('Train score:', get_acc(xgb_forest, X_train, y_train, feature_names))\n",
    "print('Test score:', get_acc(xgb_forest, X_test, y_test, feature_names))"
   ]
  },
  {
   "cell_type": "code",
   "execution_count": 13,
   "id": "97a1d2b0",
   "metadata": {
    "execution": {
     "iopub.execute_input": "2024-08-21T12:09:50.551864Z",
     "iopub.status.busy": "2024-08-21T12:09:50.551779Z",
     "iopub.status.idle": "2024-08-21T12:09:50.789732Z",
     "shell.execute_reply": "2024-08-21T12:09:50.789480Z"
    },
    "papermill": {
     "duration": 0.240419,
     "end_time": "2024-08-21T12:09:50.790685",
     "exception": false,
     "start_time": "2024-08-21T12:09:50.550266",
     "status": "completed"
    },
    "tags": []
   },
   "outputs": [],
   "source": [
    "import shap\n",
    "import pandas as pd\n",
    "explainer = shap.Explainer(xgb_forest)\n",
    "\n",
    "shap_values = explainer(pd.DataFrame(X_test, columns=feature_names))\n"
   ]
  },
  {
   "cell_type": "code",
   "execution_count": 14,
   "id": "8e7a54a8",
   "metadata": {
    "execution": {
     "iopub.execute_input": "2024-08-21T12:09:50.794067Z",
     "iopub.status.busy": "2024-08-21T12:09:50.793918Z",
     "iopub.status.idle": "2024-08-21T12:09:51.075433Z",
     "shell.execute_reply": "2024-08-21T12:09:51.075161Z"
    },
    "papermill": {
     "duration": 0.284049,
     "end_time": "2024-08-21T12:09:51.076241",
     "exception": false,
     "start_time": "2024-08-21T12:09:50.792192",
     "status": "completed"
    },
    "tags": []
   },
   "outputs": [
    {
     "data": {
      "image/png": "[encoded data removed]",
      "text/plain": [
       "<Figure size 400x100 with 2 Axes>"
      ]
     },
     "metadata": {},
     "output_type": "display_data"
    }
   ],
   "source": [
    "# Beeswarm plot\n",
    "\n",
    "shap.plots.beeswarm(shap_values, show=False)\n",
    "fig = plt.gcf()\n",
    "fig.set_size_inches(4, 1, forward=True)\n",
    "if save_figures: plt.savefig(\n",
    "    f'../{path_transport_graphics}/logitics_data_on_customer_profile_{comparison_dict[comparison_id][0]} and customer_profile_{comparison_dict[comparison_id][1]}-shap-value.{save_parms[\"format\"]}',\n",
    "    **save_parms\n",
    "    )\n",
    "plt.show()"
   ]
  }
 ],
 "metadata": {
  "kernelspec": {
   "display_name": "Python 3.7.11 ('py37')",
   "language": "python",
   "name": "python3"
  },
  "language_info": {
   "codemirror_mode": {
    "name": "ipython",
    "version": 3
   },
   "file_extension": ".py",
   "mimetype": "text/x-python",
   "name": "python",
   "nbconvert_exporter": "python",
   "pygments_lexer": "ipython3",
   "version": "3.12.0"
  },
  "papermill": {
   "default_parameters": {},
   "duration": 2.389123,
   "end_time": "2024-08-21T12:09:51.395255",
   "environment_variables": {},
   "exception": null,
   "input_path": "experiment_baseline.ipynb",
   "output_path": "./Results_Experiments/Set_K_to_30/experiment_baseline_1.ipynb",
   "parameters": {
    "comparison_id": 0
   },
   "start_time": "2024-08-21T12:09:49.006132",
   "version": "2.6.0"
  },
  "vscode": {
   "interpreter": {
    "hash": "5ab0220f0ca30ec7bac8a7e209564eceae6d15412b9f87f3c2f91206aa8b151c"
   }
  }
 },
 "nbformat": 4,
 "nbformat_minor": 5
}