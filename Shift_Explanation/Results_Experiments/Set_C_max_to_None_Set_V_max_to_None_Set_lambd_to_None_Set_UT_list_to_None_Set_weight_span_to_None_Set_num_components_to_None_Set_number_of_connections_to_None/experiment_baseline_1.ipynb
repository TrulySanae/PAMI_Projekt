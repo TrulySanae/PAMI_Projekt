{
 "cells": [
  {
   "cell_type": "code",
   "execution_count": 1,
   "id": "d05cab18",
   "metadata": {
    "execution": {
     "iopub.execute_input": "2024-08-21T12:09:42.116960Z",
     "iopub.status.busy": "2024-08-21T12:09:42.116724Z",
     "iopub.status.idle": "2024-08-21T12:09:42.954818Z",
     "shell.execute_reply": "2024-08-21T12:09:42.954445Z"
    },
    "papermill": {
     "duration": 0.84309,
     "end_time": "2024-08-21T12:09:42.955860",
     "exception": false,
     "start_time": "2024-08-21T12:09:42.112770",
     "status": "completed"
    },
    "tags": []
   },
   "outputs": [],
   "source": [
    "import matplotlib.pyplot as plt\n",
    "import numpy as np\n",
    "import pandas as pd\n",
    "from pathlib import Path\n",
    "import seaborn as sn\n",
    "from data_utils import load_and_preprocess_logistics_data"
   ]
  },
  {
   "cell_type": "code",
   "execution_count": 2,
   "id": "d6302d10",
   "metadata": {
    "execution": {
     "iopub.execute_input": "2024-08-21T12:09:42.959173Z",
     "iopub.status.busy": "2024-08-21T12:09:42.958986Z",
     "iopub.status.idle": "2024-08-21T12:09:42.961737Z",
     "shell.execute_reply": "2024-08-21T12:09:42.961529Z"
    },
    "papermill": {
     "duration": 0.005138,
     "end_time": "2024-08-21T12:09:42.962509",
     "exception": false,
     "start_time": "2024-08-21T12:09:42.957371",
     "status": "completed"
    },
    "tags": []
   },
   "outputs": [],
   "source": [
    "# Setting so that the plots look normal even when using dark-reader\n",
    "sn.set_style(\"whitegrid\")\n",
    "sn.set_context(context=\"paper\", font_scale=2)\n",
    "pal = sn.color_palette(\"Set1\")\n",
    "\n",
    "# Setting up specifics for plotting + saving\n",
    "save_figures = True\n",
    "add_legend = False\n",
    "add_title = False\n",
    "add_axis = False\n",
    "save_parms = {'format': 'pdf','bbox_inches':'tight', 'pad_inches':0.1}\n",
    "line_parms = {'linewidth':4, 'color':'k'}\n",
    "if save_figures:  # saves all figures in a figure directory in the local directory\n",
    "    figure_dir = Path('.') / 'figures' / 'adult-income-experiment'\n",
    "    if not figure_dir.exists():\n",
    "        figure_dir.mkdir(parents=True)"
   ]
  },
  {
   "cell_type": "code",
   "execution_count": 3,
   "id": "22d1d0e0",
   "metadata": {
    "execution": {
     "iopub.execute_input": "2024-08-21T12:09:42.965527Z",
     "iopub.status.busy": "2024-08-21T12:09:42.965350Z",
     "iopub.status.idle": "2024-08-21T12:09:42.967196Z",
     "shell.execute_reply": "2024-08-21T12:09:42.966976Z"
    },
    "papermill": {
     "duration": 0.004026,
     "end_time": "2024-08-21T12:09:42.967872",
     "exception": false,
     "start_time": "2024-08-21T12:09:42.963846",
     "status": "completed"
    },
    "tags": []
   },
   "outputs": [],
   "source": [
    "# Experiment hyperparamters\n",
    "rng = np.random.RandomState(42)\n",
    "split_on_income = False  # if True: src := income>=50k, tgt :+ income<50k, if False: src := male, tgt := female\n",
    "n_samples = 1000"
   ]
  },
  {
   "cell_type": "code",
   "execution_count": 4,
   "id": "48ff09ec",
   "metadata": {
    "execution": {
     "iopub.execute_input": "2024-08-21T12:09:42.970732Z",
     "iopub.status.busy": "2024-08-21T12:09:42.970629Z",
     "iopub.status.idle": "2024-08-21T12:09:42.971996Z",
     "shell.execute_reply": "2024-08-21T12:09:42.971786Z"
    },
    "papermill": {
     "duration": 0.003663,
     "end_time": "2024-08-21T12:09:42.972750",
     "exception": false,
     "start_time": "2024-08-21T12:09:42.969087",
     "status": "completed"
    },
    "tags": [
     "parameters"
    ]
   },
   "outputs": [],
   "source": [
    "comparison_id = None"
   ]
  },
  {
   "cell_type": "code",
   "execution_count": 5,
   "id": "fc339811",
   "metadata": {
    "execution": {
     "iopub.execute_input": "2024-08-21T12:09:42.975454Z",
     "iopub.status.busy": "2024-08-21T12:09:42.975357Z",
     "iopub.status.idle": "2024-08-21T12:09:42.976760Z",
     "shell.execute_reply": "2024-08-21T12:09:42.976535Z"
    },
    "papermill": {
     "duration": 0.003698,
     "end_time": "2024-08-21T12:09:42.977598",
     "exception": false,
     "start_time": "2024-08-21T12:09:42.973900",
     "status": "completed"
    },
    "tags": [
     "injected-parameters"
    ]
   },
   "outputs": [],
   "source": [
    "# Parameters\n",
    "comparison_id = 0\n"
   ]
  },
  {
   "cell_type": "code",
   "execution_count": 6,
   "id": "dade2b7e",
   "metadata": {
    "execution": {
     "iopub.execute_input": "2024-08-21T12:09:42.981028Z",
     "iopub.status.busy": "2024-08-21T12:09:42.980859Z",
     "iopub.status.idle": "2024-08-21T12:09:43.001520Z",
     "shell.execute_reply": "2024-08-21T12:09:43.001277Z"
    },
    "papermill": {
     "duration": 0.023428,
     "end_time": "2024-08-21T12:09:43.002352",
     "exception": false,
     "start_time": "2024-08-21T12:09:42.978924",
     "status": "completed"
    },
    "tags": []
   },
   "outputs": [
    {
     "name": "stdout",
     "output_type": "stream",
     "text": [
      "Comparing customer_profile_0 and customer_profile_1\n",
      "Finished preprocessing logistic dataset. Split on customer_profile_0 and customer_profile_1 with resulting source shape: (996, 3), target shape: (996, 3).\n",
      "['Connection', 'Weight', 'Unit_type']\n"
     ]
    }
   ],
   "source": [
    "\n",
    "# Load the data\n",
    "comparison_dict = {0: [0,1], 1: [2,3], 2: [4,5]}\n",
    "path_customer_profiles = open('./Results_Experiments/File_Paths/path_customer_profiles.txt','r').read()\n",
    "path_transport_graphics = open('./Results_Experiments/File_Paths/path_transport_graphics.txt','r').read()\n",
    "source = pd.read_csv(f'../{path_customer_profiles}/customer_profile_{comparison_dict[comparison_id][0]}.csv')\n",
    "target = pd.read_csv(f'../{path_customer_profiles}/customer_profile_{comparison_dict[comparison_id][1]}.csv')\n",
    "equal_week_split = True\n",
    "source, target, feature_names = load_and_preprocess_logistics_data(rng, n_samples, return_column_names=True,equal_week_split=equal_week_split, comparison_id=\n",
    "            comparison_id, comparison_dict=comparison_dict)\n",
    "print(feature_names)"
   ]
  },
  {
   "cell_type": "code",
   "execution_count": 7,
   "id": "296df3b5",
   "metadata": {
    "execution": {
     "iopub.execute_input": "2024-08-21T12:09:43.005557Z",
     "iopub.status.busy": "2024-08-21T12:09:43.005452Z",
     "iopub.status.idle": "2024-08-21T12:09:43.008635Z",
     "shell.execute_reply": "2024-08-21T12:09:43.008307Z"
    },
    "papermill": {
     "duration": 0.005645,
     "end_time": "2024-08-21T12:09:43.009470",
     "exception": false,
     "start_time": "2024-08-21T12:09:43.003825",
     "status": "completed"
    },
    "tags": []
   },
   "outputs": [],
   "source": [
    "# standardize the source and target data, and convert to domain labels\n",
    "from sklearn.preprocessing import StandardScaler\n",
    "X = np.concatenate((source, target), axis=0)\n",
    "# standardize X to remove cardinatlity bias\n",
    "X = StandardScaler().fit_transform(X)\n",
    "y = np.concatenate((np.zeros(source.shape[0]),\n",
    "                    np.ones(target.shape[0])), axis=0)  # domain labels"
   ]
  },
  {
   "cell_type": "code",
   "execution_count": 8,
   "id": "c5422e1f",
   "metadata": {
    "execution": {
     "iopub.execute_input": "2024-08-21T12:09:43.012735Z",
     "iopub.status.busy": "2024-08-21T12:09:43.012636Z",
     "iopub.status.idle": "2024-08-21T12:09:43.065315Z",
     "shell.execute_reply": "2024-08-21T12:09:43.065035Z"
    },
    "papermill": {
     "duration": 0.055204,
     "end_time": "2024-08-21T12:09:43.066220",
     "exception": false,
     "start_time": "2024-08-21T12:09:43.011016",
     "status": "completed"
    },
    "tags": []
   },
   "outputs": [],
   "source": [
    "from sklearn.datasets import make_classification\n",
    "from sklearn.model_selection import train_test_split\n",
    "\n",
    "X_train, X_test, y_train, y_test = train_test_split(X, y,\n",
    "                                     stratify=y, random_state=42)"
   ]
  },
  {
   "cell_type": "code",
   "execution_count": 9,
   "id": "5d9ba299",
   "metadata": {
    "execution": {
     "iopub.execute_input": "2024-08-21T12:09:43.069456Z",
     "iopub.status.busy": "2024-08-21T12:09:43.069307Z",
     "iopub.status.idle": "2024-08-21T12:09:43.083894Z",
     "shell.execute_reply": "2024-08-21T12:09:43.083632Z"
    },
    "papermill": {
     "duration": 0.017067,
     "end_time": "2024-08-21T12:09:43.084769",
     "exception": false,
     "start_time": "2024-08-21T12:09:43.067702",
     "status": "completed"
    },
    "tags": []
   },
   "outputs": [],
   "source": [
    "# Using XGBoost\n",
    "import xgboost\n",
    "\n",
    "def fit_xgboost(X_train, y_train, X_test, y_test, feature_names=None):\n",
    "    \"\"\" Train an XGBoost model with early stopping.\n",
    "    \"\"\"\n",
    "    dtrain = xgboost.DMatrix(X_train, label=y_train, feature_names=feature_names)\n",
    "    dtest = xgboost.DMatrix(X_test, label=y_test, feature_names=feature_names)\n",
    "    # model = xgboost.train(\n",
    "    #     { \"eta\": 0.001, \"subsample\": 0.5, \"max_depth\": 2,\n",
    "    #       \"objective\": 'binary:logistic', 'eval_metric': 'logloss'}, dtrain, num_boost_round=200000,\n",
    "    #     evals=[(dtest,'eval'), (dtrain,'train')], early_stopping_rounds=20, verbose_eval=False\n",
    "    # )\n",
    "    model = xgboost.train(\n",
    "        {\"objective\": 'binary:logistic', 'eval_metric': 'logloss'},\n",
    "        dtrain,\n",
    "        evals=[(dtest,'eval'), (dtrain,'train')],\n",
    "        verbose_eval=False)\n",
    "    return model"
   ]
  },
  {
   "cell_type": "code",
   "execution_count": 10,
   "id": "bd7ac9f1",
   "metadata": {
    "execution": {
     "iopub.execute_input": "2024-08-21T12:09:43.087848Z",
     "iopub.status.busy": "2024-08-21T12:09:43.087739Z",
     "iopub.status.idle": "2024-08-21T12:09:43.104349Z",
     "shell.execute_reply": "2024-08-21T12:09:43.104090Z"
    },
    "papermill": {
     "duration": 0.019092,
     "end_time": "2024-08-21T12:09:43.105199",
     "exception": false,
     "start_time": "2024-08-21T12:09:43.086107",
     "status": "completed"
    },
    "tags": []
   },
   "outputs": [],
   "source": [
    "xgb_forest = fit_xgboost(X_train, y_train, X_test, y_test, feature_names)\n",
    "xgb_forest.feature_names = feature_names"
   ]
  },
  {
   "cell_type": "code",
   "execution_count": 11,
   "id": "dcaa3020",
   "metadata": {
    "execution": {
     "iopub.execute_input": "2024-08-21T12:09:43.108325Z",
     "iopub.status.busy": "2024-08-21T12:09:43.108224Z",
     "iopub.status.idle": "2024-08-21T12:09:43.110052Z",
     "shell.execute_reply": "2024-08-21T12:09:43.109825Z"
    },
    "papermill": {
     "duration": 0.004144,
     "end_time": "2024-08-21T12:09:43.110802",
     "exception": false,
     "start_time": "2024-08-21T12:09:43.106658",
     "status": "completed"
    },
    "tags": []
   },
   "outputs": [],
   "source": [
    "def get_acc(model, samples, labels, feature_names=None):\n",
    "    predictions = (model.predict(xgboost.DMatrix(samples,\n",
    "                                                 feature_names=feature_names)) > 0.5).astype(int)\n",
    "    return (predictions == labels).sum() / predictions.shape[0]"
   ]
  },
  {
   "cell_type": "code",
   "execution_count": 12,
   "id": "7ce6b380",
   "metadata": {
    "execution": {
     "iopub.execute_input": "2024-08-21T12:09:43.113620Z",
     "iopub.status.busy": "2024-08-21T12:09:43.113527Z",
     "iopub.status.idle": "2024-08-21T12:09:43.116262Z",
     "shell.execute_reply": "2024-08-21T12:09:43.116051Z"
    },
    "papermill": {
     "duration": 0.004923,
     "end_time": "2024-08-21T12:09:43.116954",
     "exception": false,
     "start_time": "2024-08-21T12:09:43.112031",
     "status": "completed"
    },
    "tags": []
   },
   "outputs": [
    {
     "name": "stdout",
     "output_type": "stream",
     "text": [
      "Train score: 0.8714859437751004\n",
      "Test score: 0.8012048192771084\n"
     ]
    }
   ],
   "source": [
    "print('Train score:', get_acc(xgb_forest, X_train, y_train, feature_names))\n",
    "print('Test score:', get_acc(xgb_forest, X_test, y_test, feature_names))"
   ]
  },
  {
   "cell_type": "code",
   "execution_count": 13,
   "id": "97a1d2b0",
   "metadata": {
    "execution": {
     "iopub.execute_input": "2024-08-21T12:09:43.119949Z",
     "iopub.status.busy": "2024-08-21T12:09:43.119858Z",
     "iopub.status.idle": "2024-08-21T12:09:43.360884Z",
     "shell.execute_reply": "2024-08-21T12:09:43.360620Z"
    },
    "papermill": {
     "duration": 0.243519,
     "end_time": "2024-08-21T12:09:43.361809",
     "exception": false,
     "start_time": "2024-08-21T12:09:43.118290",
     "status": "completed"
    },
    "tags": []
   },
   "outputs": [],
   "source": [
    "import shap\n",
    "import pandas as pd\n",
    "explainer = shap.Explainer(xgb_forest)\n",
    "\n",
    "shap_values = explainer(pd.DataFrame(X_test, columns=feature_names))\n"
   ]
  },
  {
   "cell_type": "code",
   "execution_count": 14,
   "id": "8e7a54a8",
   "metadata": {
    "execution": {
     "iopub.execute_input": "2024-08-21T12:09:43.365089Z",
     "iopub.status.busy": "2024-08-21T12:09:43.364950Z",
     "iopub.status.idle": "2024-08-21T12:09:43.644726Z",
     "shell.execute_reply": "2024-08-21T12:09:43.643161Z"
    },
    "papermill": {
     "duration": 0.282785,
     "end_time": "2024-08-21T12:09:43.646115",
     "exception": false,
     "start_time": "2024-08-21T12:09:43.363330",
     "status": "completed"
    },
    "tags": []
   },
   "outputs": [
    {
     "data": {
      "image/png": "[encoded data removed]",
      "text/plain": [
       "<Figure size 400x100 with 2 Axes>"
      ]
     },
     "metadata": {},
     "output_type": "display_data"
    }
   ],
   "source": [
    "# Beeswarm plot\n",
    "\n",
    "shap.plots.beeswarm(shap_values, show=False)\n",
    "fig = plt.gcf()\n",
    "fig.set_size_inches(4, 1, forward=True)\n",
    "if save_figures: plt.savefig(\n",
    "    f'../{path_transport_graphics}/logitics_data_on_customer_profile_{comparison_dict[comparison_id][0]} and customer_profile_{comparison_dict[comparison_id][1]}-shap-value.{save_parms[\"format\"]}',\n",
    "    **save_parms\n",
    "    )\n",
    "plt.show()"
   ]
  }
 ],
 "metadata": {
  "kernelspec": {
   "display_name": "Python 3.7.11 ('py37')",
   "language": "python",
   "name": "python3"
  },
  "language_info": {
   "codemirror_mode": {
    "name": "ipython",
    "version": 3
   },
   "file_extension": ".py",
   "mimetype": "text/x-python",
   "name": "python",
   "nbconvert_exporter": "python",
   "pygments_lexer": "ipython3",
   "version": "3.12.0"
  },
  "papermill": {
   "default_parameters": {},
   "duration": 2.573242,
   "end_time": "2024-08-21T12:09:43.965250",
   "environment_variables": {},
   "exception": null,
   "input_path": "experiment_baseline.ipynb",
   "output_path": "./Results_Experiments/Set_C_max_to_None_Set_V_max_to_None_Set_lambd_to_None_Set_UT_list_to_None_Set_weight_span_to_None_Set_num_components_to_None_Set_number_of_connections_to_None/experiment_baseline_1.ipynb",
   "parameters": {
    "comparison_id": 0
   },
   "start_time": "2024-08-21T12:09:41.392008",
   "version": "2.6.0"
  },
  "vscode": {
   "interpreter": {
    "hash": "5ab0220f0ca30ec7bac8a7e209564eceae6d15412b9f87f3c2f91206aa8b151c"
   }
  }
 },
 "nbformat": 4,
 "nbformat_minor": 5
}