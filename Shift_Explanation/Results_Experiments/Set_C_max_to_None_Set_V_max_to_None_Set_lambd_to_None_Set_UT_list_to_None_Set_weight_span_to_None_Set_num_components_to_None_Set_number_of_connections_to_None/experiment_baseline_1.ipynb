{
 "cells": [
  {
   "cell_type": "code",
   "execution_count": 1,
   "id": "d05cab18",
   "metadata": {
    "execution": {
     "iopub.execute_input": "2024-08-21T09:46:53.075122Z",
     "iopub.status.busy": "2024-08-21T09:46:53.074803Z",
     "iopub.status.idle": "2024-08-21T09:46:54.023472Z",
     "shell.execute_reply": "2024-08-21T09:46:54.023160Z"
    },
    "papermill": {
     "duration": 0.955643,
     "end_time": "2024-08-21T09:46:54.024463",
     "exception": false,
     "start_time": "2024-08-21T09:46:53.068820",
     "status": "completed"
    },
    "tags": []
   },
   "outputs": [],
   "source": [
    "import matplotlib.pyplot as plt\n",
    "import numpy as np\n",
    "import pandas as pd\n",
    "from pathlib import Path\n",
    "import seaborn as sn\n"
   ]
  },
  {
   "cell_type": "code",
   "execution_count": 2,
   "id": "d6302d10",
   "metadata": {
    "execution": {
     "iopub.execute_input": "2024-08-21T09:46:54.028007Z",
     "iopub.status.busy": "2024-08-21T09:46:54.027871Z",
     "iopub.status.idle": "2024-08-21T09:46:54.030659Z",
     "shell.execute_reply": "2024-08-21T09:46:54.030448Z"
    },
    "papermill": {
     "duration": 0.005173,
     "end_time": "2024-08-21T09:46:54.031396",
     "exception": false,
     "start_time": "2024-08-21T09:46:54.026223",
     "status": "completed"
    },
    "tags": []
   },
   "outputs": [],
   "source": [
    "# Setting so that the plots look normal even when using dark-reader\n",
    "sn.set_style(\"whitegrid\")\n",
    "sn.set_context(context=\"paper\", font_scale=2)\n",
    "pal = sn.color_palette(\"Set1\")\n",
    "\n",
    "# Setting up specifics for plotting + saving\n",
    "save_figures = True\n",
    "add_legend = False\n",
    "add_title = False\n",
    "add_axis = False\n",
    "save_parms = {'format': 'pdf','bbox_inches':'tight', 'pad_inches':0.1}\n",
    "line_parms = {'linewidth':4, 'color':'k'}\n",
    "if save_figures:  # saves all figures in a figure directory in the local directory\n",
    "    figure_dir = Path('.') / 'figures' / 'adult-income-experiment'\n",
    "    if not figure_dir.exists():\n",
    "        figure_dir.mkdir(parents=True)"
   ]
  },
  {
   "cell_type": "code",
   "execution_count": 3,
   "id": "22d1d0e0",
   "metadata": {
    "execution": {
     "iopub.execute_input": "2024-08-21T09:46:54.034651Z",
     "iopub.status.busy": "2024-08-21T09:46:54.034404Z",
     "iopub.status.idle": "2024-08-21T09:46:54.036519Z",
     "shell.execute_reply": "2024-08-21T09:46:54.036270Z"
    },
    "papermill": {
     "duration": 0.004741,
     "end_time": "2024-08-21T09:46:54.037310",
     "exception": false,
     "start_time": "2024-08-21T09:46:54.032569",
     "status": "completed"
    },
    "tags": []
   },
   "outputs": [],
   "source": [
    "# Experiment hyperparamters\n",
    "rng = np.random.RandomState(42)\n",
    "split_on_income = False  # if True: src := income>=50k, tgt :+ income<50k, if False: src := male, tgt := female\n",
    "n_samples = 1000"
   ]
  },
  {
   "cell_type": "code",
   "execution_count": 4,
   "id": "48ff09ec",
   "metadata": {
    "execution": {
     "iopub.execute_input": "2024-08-21T09:46:54.042496Z",
     "iopub.status.busy": "2024-08-21T09:46:54.042304Z",
     "iopub.status.idle": "2024-08-21T09:46:54.044095Z",
     "shell.execute_reply": "2024-08-21T09:46:54.043859Z"
    },
    "papermill": {
     "duration": 0.005188,
     "end_time": "2024-08-21T09:46:54.044819",
     "exception": false,
     "start_time": "2024-08-21T09:46:54.039631",
     "status": "completed"
    },
    "tags": [
     "parameters"
    ]
   },
   "outputs": [],
   "source": [
    "comparison_id = None"
   ]
  },
  {
   "cell_type": "code",
   "execution_count": 5,
   "id": "a8300ea3",
   "metadata": {
    "execution": {
     "iopub.execute_input": "2024-08-21T09:46:54.047752Z",
     "iopub.status.busy": "2024-08-21T09:46:54.047651Z",
     "iopub.status.idle": "2024-08-21T09:46:54.049081Z",
     "shell.execute_reply": "2024-08-21T09:46:54.048882Z"
    },
    "papermill": {
     "duration": 0.003683,
     "end_time": "2024-08-21T09:46:54.049808",
     "exception": false,
     "start_time": "2024-08-21T09:46:54.046125",
     "status": "completed"
    },
    "tags": [
     "injected-parameters"
    ]
   },
   "outputs": [],
   "source": [
    "# Parameters\n",
    "comparison_id = 0\n"
   ]
  },
  {
   "cell_type": "code",
   "execution_count": 6,
   "id": "dade2b7e",
   "metadata": {
    "execution": {
     "iopub.execute_input": "2024-08-21T09:46:54.052916Z",
     "iopub.status.busy": "2024-08-21T09:46:54.052787Z",
     "iopub.status.idle": "2024-08-21T09:46:54.062358Z",
     "shell.execute_reply": "2024-08-21T09:46:54.062112Z"
    },
    "papermill": {
     "duration": 0.012117,
     "end_time": "2024-08-21T09:46:54.063102",
     "exception": false,
     "start_time": "2024-08-21T09:46:54.050985",
     "status": "completed"
    },
    "tags": []
   },
   "outputs": [
    {
     "name": "stdout",
     "output_type": "stream",
     "text": [
      "['Customer_id', 'Connection', 'Weight', 'Unit_type', 'Day', 'Week']\n"
     ]
    }
   ],
   "source": [
    "\n",
    "# Load the data\n",
    "comparison_dict = {0: [0,1], 1: [2,3], 2: [4,5]}\n",
    "path_customer_profiles = open('./Results_Experiments/File_Paths/path_customer_profiles.txt','r').read()\n",
    "path_transport_graphics = open('./Results_Experiments/File_Paths/path_transport_graphics.txt','r').read()\n",
    "source = pd.read_csv(f'../{path_customer_profiles}/customer_profile_{comparison_dict[comparison_id][0]}.csv')\n",
    "target = pd.read_csv(f'../{path_customer_profiles}/customer_profile_{comparison_dict[comparison_id][1]}.csv')\n",
    "\n",
    "feature_names = source.columns.values\n",
    "feature_names = list(feature_names)\n",
    "print(feature_names)"
   ]
  },
  {
   "cell_type": "code",
   "execution_count": 7,
   "id": "296df3b5",
   "metadata": {
    "execution": {
     "iopub.execute_input": "2024-08-21T09:46:54.066158Z",
     "iopub.status.busy": "2024-08-21T09:46:54.066066Z",
     "iopub.status.idle": "2024-08-21T09:46:54.099018Z",
     "shell.execute_reply": "2024-08-21T09:46:54.098744Z"
    },
    "papermill": {
     "duration": 0.035391,
     "end_time": "2024-08-21T09:46:54.099895",
     "exception": false,
     "start_time": "2024-08-21T09:46:54.064504",
     "status": "completed"
    },
    "tags": []
   },
   "outputs": [],
   "source": [
    "# standardize the source and target data, and convert to domain labels\n",
    "from sklearn.preprocessing import StandardScaler\n",
    "X = np.concatenate((source, target), axis=0)\n",
    "# standardize X to remove cardinatlity bias\n",
    "X = StandardScaler().fit_transform(X)\n",
    "y = np.concatenate((np.zeros(source.shape[0]),\n",
    "                    np.ones(target.shape[0])), axis=0)  # domain labels"
   ]
  },
  {
   "cell_type": "code",
   "execution_count": 8,
   "id": "c5422e1f",
   "metadata": {
    "execution": {
     "iopub.execute_input": "2024-08-21T09:46:54.103211Z",
     "iopub.status.busy": "2024-08-21T09:46:54.103061Z",
     "iopub.status.idle": "2024-08-21T09:46:54.161285Z",
     "shell.execute_reply": "2024-08-21T09:46:54.161023Z"
    },
    "papermill": {
     "duration": 0.060883,
     "end_time": "2024-08-21T09:46:54.162211",
     "exception": false,
     "start_time": "2024-08-21T09:46:54.101328",
     "status": "completed"
    },
    "tags": []
   },
   "outputs": [],
   "source": [
    "from sklearn.datasets import make_classification\n",
    "from sklearn.model_selection import train_test_split\n",
    "\n",
    "X_train, X_test, y_train, y_test = train_test_split(X, y,\n",
    "                                     stratify=y, random_state=42)"
   ]
  },
  {
   "cell_type": "code",
   "execution_count": 9,
   "id": "5d9ba299",
   "metadata": {
    "execution": {
     "iopub.execute_input": "2024-08-21T09:46:54.165638Z",
     "iopub.status.busy": "2024-08-21T09:46:54.165493Z",
     "iopub.status.idle": "2024-08-21T09:46:54.180379Z",
     "shell.execute_reply": "2024-08-21T09:46:54.180106Z"
    },
    "papermill": {
     "duration": 0.017435,
     "end_time": "2024-08-21T09:46:54.181259",
     "exception": false,
     "start_time": "2024-08-21T09:46:54.163824",
     "status": "completed"
    },
    "tags": []
   },
   "outputs": [],
   "source": [
    "# Using XGBoost\n",
    "import xgboost\n",
    "\n",
    "def fit_xgboost(X_train, y_train, X_test, y_test, feature_names=None):\n",
    "    \"\"\" Train an XGBoost model with early stopping.\n",
    "    \"\"\"\n",
    "    dtrain = xgboost.DMatrix(X_train, label=y_train, feature_names=feature_names)\n",
    "    dtest = xgboost.DMatrix(X_test, label=y_test, feature_names=feature_names)\n",
    "    # model = xgboost.train(\n",
    "    #     { \"eta\": 0.001, \"subsample\": 0.5, \"max_depth\": 2,\n",
    "    #       \"objective\": 'binary:logistic', 'eval_metric': 'logloss'}, dtrain, num_boost_round=200000,\n",
    "    #     evals=[(dtest,'eval'), (dtrain,'train')], early_stopping_rounds=20, verbose_eval=False\n",
    "    # )\n",
    "    model = xgboost.train(\n",
    "        {\"objective\": 'binary:logistic', 'eval_metric': 'logloss'},\n",
    "        dtrain,\n",
    "        evals=[(dtest,'eval'), (dtrain,'train')],\n",
    "        verbose_eval=False)\n",
    "    return model"
   ]
  },
  {
   "cell_type": "code",
   "execution_count": 10,
   "id": "bd7ac9f1",
   "metadata": {
    "execution": {
     "iopub.execute_input": "2024-08-21T09:46:54.184514Z",
     "iopub.status.busy": "2024-08-21T09:46:54.184387Z",
     "iopub.status.idle": "2024-08-21T09:46:54.205311Z",
     "shell.execute_reply": "2024-08-21T09:46:54.205046Z"
    },
    "papermill": {
     "duration": 0.023532,
     "end_time": "2024-08-21T09:46:54.206204",
     "exception": false,
     "start_time": "2024-08-21T09:46:54.182672",
     "status": "completed"
    },
    "tags": []
   },
   "outputs": [],
   "source": [
    "xgb_forest = fit_xgboost(X_train, y_train, X_test, y_test, feature_names)\n",
    "xgb_forest.feature_names = feature_names"
   ]
  },
  {
   "cell_type": "code",
   "execution_count": 11,
   "id": "dcaa3020",
   "metadata": {
    "execution": {
     "iopub.execute_input": "2024-08-21T09:46:54.209370Z",
     "iopub.status.busy": "2024-08-21T09:46:54.209230Z",
     "iopub.status.idle": "2024-08-21T09:46:54.211123Z",
     "shell.execute_reply": "2024-08-21T09:46:54.210905Z"
    },
    "papermill": {
     "duration": 0.004195,
     "end_time": "2024-08-21T09:46:54.211844",
     "exception": false,
     "start_time": "2024-08-21T09:46:54.207649",
     "status": "completed"
    },
    "tags": []
   },
   "outputs": [],
   "source": [
    "def get_acc(model, samples, labels, feature_names=None):\n",
    "    predictions = (model.predict(xgboost.DMatrix(samples,\n",
    "                                                 feature_names=feature_names)) > 0.5).astype(int)\n",
    "    return (predictions == labels).sum() / predictions.shape[0]"
   ]
  },
  {
   "cell_type": "code",
   "execution_count": 12,
   "id": "7ce6b380",
   "metadata": {
    "execution": {
     "iopub.execute_input": "2024-08-21T09:46:54.214742Z",
     "iopub.status.busy": "2024-08-21T09:46:54.214651Z",
     "iopub.status.idle": "2024-08-21T09:46:54.218522Z",
     "shell.execute_reply": "2024-08-21T09:46:54.218236Z"
    },
    "papermill": {
     "duration": 0.006167,
     "end_time": "2024-08-21T09:46:54.219261",
     "exception": false,
     "start_time": "2024-08-21T09:46:54.213094",
     "status": "completed"
    },
    "tags": []
   },
   "outputs": [
    {
     "name": "stdout",
     "output_type": "stream",
     "text": [
      "Train score: 0.9854617545018999\n",
      "Test score: 0.9824909150974562\n"
     ]
    }
   ],
   "source": [
    "print('Train score:', get_acc(xgb_forest, X_train, y_train, feature_names))\n",
    "print('Test score:', get_acc(xgb_forest, X_test, y_test, feature_names))"
   ]
  },
  {
   "cell_type": "code",
   "execution_count": 13,
   "id": "97a1d2b0",
   "metadata": {
    "execution": {
     "iopub.execute_input": "2024-08-21T09:46:54.222366Z",
     "iopub.status.busy": "2024-08-21T09:46:54.222272Z",
     "iopub.status.idle": "2024-08-21T09:46:54.526748Z",
     "shell.execute_reply": "2024-08-21T09:46:54.526501Z"
    },
    "papermill": {
     "duration": 0.307003,
     "end_time": "2024-08-21T09:46:54.527687",
     "exception": false,
     "start_time": "2024-08-21T09:46:54.220684",
     "status": "completed"
    },
    "tags": []
   },
   "outputs": [],
   "source": [
    "import shap\n",
    "import pandas as pd\n",
    "explainer = shap.Explainer(xgb_forest)\n",
    "\n",
    "shap_values = explainer(pd.DataFrame(X_test, columns=feature_names))\n"
   ]
  },
  {
   "cell_type": "code",
   "execution_count": 14,
   "id": "8e7a54a8",
   "metadata": {
    "execution": {
     "iopub.execute_input": "2024-08-21T09:46:54.531012Z",
     "iopub.status.busy": "2024-08-21T09:46:54.530867Z",
     "iopub.status.idle": "2024-08-21T09:46:55.227416Z",
     "shell.execute_reply": "2024-08-21T09:46:55.227091Z"
    },
    "papermill": {
     "duration": 0.699636,
     "end_time": "2024-08-21T09:46:55.228846",
     "exception": false,
     "start_time": "2024-08-21T09:46:54.529210",
     "status": "completed"
    },
    "tags": []
   },
   "outputs": [
    {
     "data": {
      "image/png": "[encoded data removed]",
      "text/plain": [
       "<Figure size 400x200 with 2 Axes>"
      ]
     },
     "metadata": {},
     "output_type": "display_data"
    }
   ],
   "source": [
    "# Beeswarm plot\n",
    "\n",
    "shap.plots.beeswarm(shap_values, show=False)\n",
    "fig = plt.gcf()\n",
    "fig.set_size_inches(4, 2, forward=True)\n",
    "if save_figures: plt.savefig(\n",
    "    f'../{path_transport_graphics}/logitics_data_on_customer_profile_{comparison_dict[comparison_id][0]} and customer_profile_{comparison_dict[comparison_id][1]}-shap-value.{save_parms[\"format\"]}',\n",
    "    **save_parms\n",
    "    )\n",
    "plt.show()"
   ]
  }
 ],
 "metadata": {
  "kernelspec": {
   "display_name": "Python 3.7.11 ('py37')",
   "language": "python",
   "name": "python3"
  },
  "language_info": {
   "codemirror_mode": {
    "name": "ipython",
    "version": 3
   },
   "file_extension": ".py",
   "mimetype": "text/x-python",
   "name": "python",
   "nbconvert_exporter": "python",
   "pygments_lexer": "ipython3",
   "version": "3.12.0"
  },
  "papermill": {
   "default_parameters": {},
   "duration": 3.420864,
   "end_time": "2024-08-21T09:46:55.547586",
   "environment_variables": {},
   "exception": null,
   "input_path": "experiment_baseline.ipynb",
   "output_path": "./Results_Experiments/Set_C_max_to_None_Set_V_max_to_None_Set_lambd_to_None_Set_UT_list_to_None_Set_weight_span_to_None_Set_num_components_to_None_Set_number_of_connections_to_None/experiment_baseline_1.ipynb",
   "parameters": {
    "comparison_id": 0
   },
   "start_time": "2024-08-21T09:46:52.126722",
   "version": "2.6.0"
  },
  "vscode": {
   "interpreter": {
    "hash": "5ab0220f0ca30ec7bac8a7e209564eceae6d15412b9f87f3c2f91206aa8b151c"
   }
  }
 },
 "nbformat": 4,
 "nbformat_minor": 5
}