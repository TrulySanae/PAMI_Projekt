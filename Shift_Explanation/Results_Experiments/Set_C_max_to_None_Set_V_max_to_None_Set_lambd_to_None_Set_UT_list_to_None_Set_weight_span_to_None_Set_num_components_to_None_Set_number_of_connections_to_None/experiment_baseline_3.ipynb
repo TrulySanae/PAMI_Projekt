{
 "cells": [
  {
   "cell_type": "code",
   "execution_count": 1,
   "id": "d05cab18",
   "metadata": {
    "execution": {
     "iopub.execute_input": "2024-08-21T09:46:59.915033Z",
     "iopub.status.busy": "2024-08-21T09:46:59.914682Z",
     "iopub.status.idle": "2024-08-21T09:47:00.848626Z",
     "shell.execute_reply": "2024-08-21T09:47:00.848337Z"
    },
    "papermill": {
     "duration": 0.941984,
     "end_time": "2024-08-21T09:47:00.849623",
     "exception": false,
     "start_time": "2024-08-21T09:46:59.907639",
     "status": "completed"
    },
    "tags": []
   },
   "outputs": [],
   "source": [
    "import matplotlib.pyplot as plt\n",
    "import numpy as np\n",
    "import pandas as pd\n",
    "from pathlib import Path\n",
    "import seaborn as sn\n"
   ]
  },
  {
   "cell_type": "code",
   "execution_count": 2,
   "id": "d6302d10",
   "metadata": {
    "execution": {
     "iopub.execute_input": "2024-08-21T09:47:00.853276Z",
     "iopub.status.busy": "2024-08-21T09:47:00.853112Z",
     "iopub.status.idle": "2024-08-21T09:47:00.855943Z",
     "shell.execute_reply": "2024-08-21T09:47:00.855718Z"
    },
    "papermill": {
     "duration": 0.005497,
     "end_time": "2024-08-21T09:47:00.856728",
     "exception": false,
     "start_time": "2024-08-21T09:47:00.851231",
     "status": "completed"
    },
    "tags": []
   },
   "outputs": [],
   "source": [
    "# Setting so that the plots look normal even when using dark-reader\n",
    "sn.set_style(\"whitegrid\")\n",
    "sn.set_context(context=\"paper\", font_scale=2)\n",
    "pal = sn.color_palette(\"Set1\")\n",
    "\n",
    "# Setting up specifics for plotting + saving\n",
    "save_figures = True\n",
    "add_legend = False\n",
    "add_title = False\n",
    "add_axis = False\n",
    "save_parms = {'format': 'pdf','bbox_inches':'tight', 'pad_inches':0.1}\n",
    "line_parms = {'linewidth':4, 'color':'k'}\n",
    "if save_figures:  # saves all figures in a figure directory in the local directory\n",
    "    figure_dir = Path('.') / 'figures' / 'adult-income-experiment'\n",
    "    if not figure_dir.exists():\n",
    "        figure_dir.mkdir(parents=True)"
   ]
  },
  {
   "cell_type": "code",
   "execution_count": 3,
   "id": "22d1d0e0",
   "metadata": {
    "execution": {
     "iopub.execute_input": "2024-08-21T09:47:00.859831Z",
     "iopub.status.busy": "2024-08-21T09:47:00.859719Z",
     "iopub.status.idle": "2024-08-21T09:47:00.861581Z",
     "shell.execute_reply": "2024-08-21T09:47:00.861372Z"
    },
    "papermill": {
     "duration": 0.004248,
     "end_time": "2024-08-21T09:47:00.862299",
     "exception": false,
     "start_time": "2024-08-21T09:47:00.858051",
     "status": "completed"
    },
    "tags": []
   },
   "outputs": [],
   "source": [
    "# Experiment hyperparamters\n",
    "rng = np.random.RandomState(42)\n",
    "split_on_income = False  # if True: src := income>=50k, tgt :+ income<50k, if False: src := male, tgt := female\n",
    "n_samples = 1000"
   ]
  },
  {
   "cell_type": "code",
   "execution_count": 4,
   "id": "48ff09ec",
   "metadata": {
    "execution": {
     "iopub.execute_input": "2024-08-21T09:47:00.865321Z",
     "iopub.status.busy": "2024-08-21T09:47:00.865219Z",
     "iopub.status.idle": "2024-08-21T09:47:00.866718Z",
     "shell.execute_reply": "2024-08-21T09:47:00.866501Z"
    },
    "papermill": {
     "duration": 0.003927,
     "end_time": "2024-08-21T09:47:00.867447",
     "exception": false,
     "start_time": "2024-08-21T09:47:00.863520",
     "status": "completed"
    },
    "tags": [
     "parameters"
    ]
   },
   "outputs": [],
   "source": [
    "comparison_id = None"
   ]
  },
  {
   "cell_type": "code",
   "execution_count": 5,
   "id": "dc41008c",
   "metadata": {
    "execution": {
     "iopub.execute_input": "2024-08-21T09:47:00.871038Z",
     "iopub.status.busy": "2024-08-21T09:47:00.870836Z",
     "iopub.status.idle": "2024-08-21T09:47:00.872446Z",
     "shell.execute_reply": "2024-08-21T09:47:00.872227Z"
    },
    "papermill": {
     "duration": 0.004732,
     "end_time": "2024-08-21T09:47:00.873668",
     "exception": false,
     "start_time": "2024-08-21T09:47:00.868936",
     "status": "completed"
    },
    "tags": [
     "injected-parameters"
    ]
   },
   "outputs": [],
   "source": [
    "# Parameters\n",
    "comparison_id = 2\n"
   ]
  },
  {
   "cell_type": "code",
   "execution_count": 6,
   "id": "dade2b7e",
   "metadata": {
    "execution": {
     "iopub.execute_input": "2024-08-21T09:47:00.877422Z",
     "iopub.status.busy": "2024-08-21T09:47:00.877204Z",
     "iopub.status.idle": "2024-08-21T09:47:00.884956Z",
     "shell.execute_reply": "2024-08-21T09:47:00.884679Z"
    },
    "papermill": {
     "duration": 0.010367,
     "end_time": "2024-08-21T09:47:00.885732",
     "exception": false,
     "start_time": "2024-08-21T09:47:00.875365",
     "status": "completed"
    },
    "tags": []
   },
   "outputs": [
    {
     "name": "stdout",
     "output_type": "stream",
     "text": [
      "['Customer_id', 'Connection', 'Weight', 'Unit_type', 'Day', 'Week']\n"
     ]
    }
   ],
   "source": [
    "\n",
    "# Load the data\n",
    "comparison_dict = {0: [0,1], 1: [2,3], 2: [4,5]}\n",
    "path_customer_profiles = open('./Results_Experiments/File_Paths/path_customer_profiles.txt','r').read()\n",
    "path_transport_graphics = open('./Results_Experiments/File_Paths/path_transport_graphics.txt','r').read()\n",
    "source = pd.read_csv(f'../{path_customer_profiles}/customer_profile_{comparison_dict[comparison_id][0]}.csv')\n",
    "target = pd.read_csv(f'../{path_customer_profiles}/customer_profile_{comparison_dict[comparison_id][1]}.csv')\n",
    "\n",
    "feature_names = source.columns.values\n",
    "feature_names = list(feature_names)\n",
    "print(feature_names)"
   ]
  },
  {
   "cell_type": "code",
   "execution_count": 7,
   "id": "296df3b5",
   "metadata": {
    "execution": {
     "iopub.execute_input": "2024-08-21T09:47:00.889498Z",
     "iopub.status.busy": "2024-08-21T09:47:00.889343Z",
     "iopub.status.idle": "2024-08-21T09:47:00.924430Z",
     "shell.execute_reply": "2024-08-21T09:47:00.924141Z"
    },
    "papermill": {
     "duration": 0.038154,
     "end_time": "2024-08-21T09:47:00.925365",
     "exception": false,
     "start_time": "2024-08-21T09:47:00.887211",
     "status": "completed"
    },
    "tags": []
   },
   "outputs": [],
   "source": [
    "# standardize the source and target data, and convert to domain labels\n",
    "from sklearn.preprocessing import StandardScaler\n",
    "X = np.concatenate((source, target), axis=0)\n",
    "# standardize X to remove cardinatlity bias\n",
    "X = StandardScaler().fit_transform(X)\n",
    "y = np.concatenate((np.zeros(source.shape[0]),\n",
    "                    np.ones(target.shape[0])), axis=0)  # domain labels"
   ]
  },
  {
   "cell_type": "code",
   "execution_count": 8,
   "id": "c5422e1f",
   "metadata": {
    "execution": {
     "iopub.execute_input": "2024-08-21T09:47:00.928588Z",
     "iopub.status.busy": "2024-08-21T09:47:00.928434Z",
     "iopub.status.idle": "2024-08-21T09:47:00.982629Z",
     "shell.execute_reply": "2024-08-21T09:47:00.982299Z"
    },
    "papermill": {
     "duration": 0.056845,
     "end_time": "2024-08-21T09:47:00.983596",
     "exception": false,
     "start_time": "2024-08-21T09:47:00.926751",
     "status": "completed"
    },
    "tags": []
   },
   "outputs": [],
   "source": [
    "from sklearn.datasets import make_classification\n",
    "from sklearn.model_selection import train_test_split\n",
    "\n",
    "X_train, X_test, y_train, y_test = train_test_split(X, y,\n",
    "                                     stratify=y, random_state=42)"
   ]
  },
  {
   "cell_type": "code",
   "execution_count": 9,
   "id": "5d9ba299",
   "metadata": {
    "execution": {
     "iopub.execute_input": "2024-08-21T09:47:00.986999Z",
     "iopub.status.busy": "2024-08-21T09:47:00.986763Z",
     "iopub.status.idle": "2024-08-21T09:47:01.001935Z",
     "shell.execute_reply": "2024-08-21T09:47:01.001614Z"
    },
    "papermill": {
     "duration": 0.017764,
     "end_time": "2024-08-21T09:47:01.002878",
     "exception": false,
     "start_time": "2024-08-21T09:47:00.985114",
     "status": "completed"
    },
    "tags": []
   },
   "outputs": [],
   "source": [
    "# Using XGBoost\n",
    "import xgboost\n",
    "\n",
    "def fit_xgboost(X_train, y_train, X_test, y_test, feature_names=None):\n",
    "    \"\"\" Train an XGBoost model with early stopping.\n",
    "    \"\"\"\n",
    "    dtrain = xgboost.DMatrix(X_train, label=y_train, feature_names=feature_names)\n",
    "    dtest = xgboost.DMatrix(X_test, label=y_test, feature_names=feature_names)\n",
    "    # model = xgboost.train(\n",
    "    #     { \"eta\": 0.001, \"subsample\": 0.5, \"max_depth\": 2,\n",
    "    #       \"objective\": 'binary:logistic', 'eval_metric': 'logloss'}, dtrain, num_boost_round=200000,\n",
    "    #     evals=[(dtest,'eval'), (dtrain,'train')], early_stopping_rounds=20, verbose_eval=False\n",
    "    # )\n",
    "    model = xgboost.train(\n",
    "        {\"objective\": 'binary:logistic', 'eval_metric': 'logloss'},\n",
    "        dtrain,\n",
    "        evals=[(dtest,'eval'), (dtrain,'train')],\n",
    "        verbose_eval=False)\n",
    "    return model"
   ]
  },
  {
   "cell_type": "code",
   "execution_count": 10,
   "id": "bd7ac9f1",
   "metadata": {
    "execution": {
     "iopub.execute_input": "2024-08-21T09:47:01.005991Z",
     "iopub.status.busy": "2024-08-21T09:47:01.005890Z",
     "iopub.status.idle": "2024-08-21T09:47:01.023109Z",
     "shell.execute_reply": "2024-08-21T09:47:01.022851Z"
    },
    "papermill": {
     "duration": 0.019806,
     "end_time": "2024-08-21T09:47:01.024093",
     "exception": false,
     "start_time": "2024-08-21T09:47:01.004287",
     "status": "completed"
    },
    "tags": []
   },
   "outputs": [],
   "source": [
    "xgb_forest = fit_xgboost(X_train, y_train, X_test, y_test, feature_names)\n",
    "xgb_forest.feature_names = feature_names"
   ]
  },
  {
   "cell_type": "code",
   "execution_count": 11,
   "id": "dcaa3020",
   "metadata": {
    "execution": {
     "iopub.execute_input": "2024-08-21T09:47:01.027217Z",
     "iopub.status.busy": "2024-08-21T09:47:01.027114Z",
     "iopub.status.idle": "2024-08-21T09:47:01.028895Z",
     "shell.execute_reply": "2024-08-21T09:47:01.028681Z"
    },
    "papermill": {
     "duration": 0.004077,
     "end_time": "2024-08-21T09:47:01.029550",
     "exception": false,
     "start_time": "2024-08-21T09:47:01.025473",
     "status": "completed"
    },
    "tags": []
   },
   "outputs": [],
   "source": [
    "def get_acc(model, samples, labels, feature_names=None):\n",
    "    predictions = (model.predict(xgboost.DMatrix(samples,\n",
    "                                                 feature_names=feature_names)) > 0.5).astype(int)\n",
    "    return (predictions == labels).sum() / predictions.shape[0]"
   ]
  },
  {
   "cell_type": "code",
   "execution_count": 12,
   "id": "7ce6b380",
   "metadata": {
    "execution": {
     "iopub.execute_input": "2024-08-21T09:47:01.032499Z",
     "iopub.status.busy": "2024-08-21T09:47:01.032407Z",
     "iopub.status.idle": "2024-08-21T09:47:01.036479Z",
     "shell.execute_reply": "2024-08-21T09:47:01.036271Z"
    },
    "papermill": {
     "duration": 0.006376,
     "end_time": "2024-08-21T09:47:01.037197",
     "exception": false,
     "start_time": "2024-08-21T09:47:01.030821",
     "status": "completed"
    },
    "tags": []
   },
   "outputs": [
    {
     "name": "stdout",
     "output_type": "stream",
     "text": [
      "Train score: 0.972105864432597\n",
      "Test score: 0.9660194174757282\n"
     ]
    }
   ],
   "source": [
    "print('Train score:', get_acc(xgb_forest, X_train, y_train, feature_names))\n",
    "print('Test score:', get_acc(xgb_forest, X_test, y_test, feature_names))"
   ]
  },
  {
   "cell_type": "code",
   "execution_count": 13,
   "id": "97a1d2b0",
   "metadata": {
    "execution": {
     "iopub.execute_input": "2024-08-21T09:47:01.040247Z",
     "iopub.status.busy": "2024-08-21T09:47:01.040152Z",
     "iopub.status.idle": "2024-08-21T09:47:01.304791Z",
     "shell.execute_reply": "2024-08-21T09:47:01.304496Z"
    },
    "papermill": {
     "duration": 0.267169,
     "end_time": "2024-08-21T09:47:01.305743",
     "exception": false,
     "start_time": "2024-08-21T09:47:01.038574",
     "status": "completed"
    },
    "tags": []
   },
   "outputs": [],
   "source": [
    "import shap\n",
    "import pandas as pd\n",
    "explainer = shap.Explainer(xgb_forest)\n",
    "\n",
    "shap_values = explainer(pd.DataFrame(X_test, columns=feature_names))\n"
   ]
  },
  {
   "cell_type": "code",
   "execution_count": 14,
   "id": "8e7a54a8",
   "metadata": {
    "execution": {
     "iopub.execute_input": "2024-08-21T09:47:01.309150Z",
     "iopub.status.busy": "2024-08-21T09:47:01.308994Z",
     "iopub.status.idle": "2024-08-21T09:47:01.797128Z",
     "shell.execute_reply": "2024-08-21T09:47:01.796855Z"
    },
    "papermill": {
     "duration": 0.490662,
     "end_time": "2024-08-21T09:47:01.797968",
     "exception": false,
     "start_time": "2024-08-21T09:47:01.307306",
     "status": "completed"
    },
    "tags": []
   },
   "outputs": [
    {
     "data": {
      "image/png": "[encoded data removed]",
      "text/plain": [
       "<Figure size 400x200 with 2 Axes>"
      ]
     },
     "metadata": {},
     "output_type": "display_data"
    }
   ],
   "source": [
    "# Beeswarm plot\n",
    "\n",
    "shap.plots.beeswarm(shap_values, show=False)\n",
    "fig = plt.gcf()\n",
    "fig.set_size_inches(4, 2, forward=True)\n",
    "if save_figures: plt.savefig(\n",
    "    f'../{path_transport_graphics}/logitics_data_on_customer_profile_{comparison_dict[comparison_id][0]} and customer_profile_{comparison_dict[comparison_id][1]}-shap-value.{save_parms[\"format\"]}',\n",
    "    **save_parms\n",
    "    )\n",
    "plt.show()"
   ]
  }
 ],
 "metadata": {
  "kernelspec": {
   "display_name": "Python 3.7.11 ('py37')",
   "language": "python",
   "name": "python3"
  },
  "language_info": {
   "codemirror_mode": {
    "name": "ipython",
    "version": 3
   },
   "file_extension": ".py",
   "mimetype": "text/x-python",
   "name": "python",
   "nbconvert_exporter": "python",
   "pygments_lexer": "ipython3",
   "version": "3.12.0"
  },
  "papermill": {
   "default_parameters": {},
   "duration": 2.795672,
   "end_time": "2024-08-21T09:47:02.117411",
   "environment_variables": {},
   "exception": null,
   "input_path": "experiment_baseline.ipynb",
   "output_path": "./Results_Experiments/Set_C_max_to_None_Set_V_max_to_None_Set_lambd_to_None_Set_UT_list_to_None_Set_weight_span_to_None_Set_num_components_to_None_Set_number_of_connections_to_None/experiment_baseline_3.ipynb",
   "parameters": {
    "comparison_id": 2
   },
   "start_time": "2024-08-21T09:46:59.321739",
   "version": "2.6.0"
  },
  "vscode": {
   "interpreter": {
    "hash": "5ab0220f0ca30ec7bac8a7e209564eceae6d15412b9f87f3c2f91206aa8b151c"
   }
  }
 },
 "nbformat": 4,
 "nbformat_minor": 5
}