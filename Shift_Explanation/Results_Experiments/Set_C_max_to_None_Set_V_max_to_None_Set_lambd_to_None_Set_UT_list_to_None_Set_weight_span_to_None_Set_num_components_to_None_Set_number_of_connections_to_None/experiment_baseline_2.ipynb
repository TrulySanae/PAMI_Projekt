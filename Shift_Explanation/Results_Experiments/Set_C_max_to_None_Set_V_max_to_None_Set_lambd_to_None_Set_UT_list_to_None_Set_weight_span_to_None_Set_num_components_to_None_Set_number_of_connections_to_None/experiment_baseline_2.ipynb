{
 "cells": [
  {
   "cell_type": "code",
   "execution_count": 1,
   "id": "d05cab18",
   "metadata": {
    "execution": {
     "iopub.execute_input": "2024-08-21T12:09:44.677116Z",
     "iopub.status.busy": "2024-08-21T12:09:44.676586Z",
     "iopub.status.idle": "2024-08-21T12:09:45.500465Z",
     "shell.execute_reply": "2024-08-21T12:09:45.500108Z"
    },
    "papermill": {
     "duration": 0.8352,
     "end_time": "2024-08-21T12:09:45.501495",
     "exception": false,
     "start_time": "2024-08-21T12:09:44.666295",
     "status": "completed"
    },
    "tags": []
   },
   "outputs": [],
   "source": [
    "import matplotlib.pyplot as plt\n",
    "import numpy as np\n",
    "import pandas as pd\n",
    "from pathlib import Path\n",
    "import seaborn as sn\n",
    "from data_utils import load_and_preprocess_logistics_data"
   ]
  },
  {
   "cell_type": "code",
   "execution_count": 2,
   "id": "d6302d10",
   "metadata": {
    "execution": {
     "iopub.execute_input": "2024-08-21T12:09:45.504743Z",
     "iopub.status.busy": "2024-08-21T12:09:45.504584Z",
     "iopub.status.idle": "2024-08-21T12:09:45.507274Z",
     "shell.execute_reply": "2024-08-21T12:09:45.507055Z"
    },
    "papermill": {
     "duration": 0.005121,
     "end_time": "2024-08-21T12:09:45.508089",
     "exception": false,
     "start_time": "2024-08-21T12:09:45.502968",
     "status": "completed"
    },
    "tags": []
   },
   "outputs": [],
   "source": [
    "# Setting so that the plots look normal even when using dark-reader\n",
    "sn.set_style(\"whitegrid\")\n",
    "sn.set_context(context=\"paper\", font_scale=2)\n",
    "pal = sn.color_palette(\"Set1\")\n",
    "\n",
    "# Setting up specifics for plotting + saving\n",
    "save_figures = True\n",
    "add_legend = False\n",
    "add_title = False\n",
    "add_axis = False\n",
    "save_parms = {'format': 'pdf','bbox_inches':'tight', 'pad_inches':0.1}\n",
    "line_parms = {'linewidth':4, 'color':'k'}\n",
    "if save_figures:  # saves all figures in a figure directory in the local directory\n",
    "    figure_dir = Path('.') / 'figures' / 'adult-income-experiment'\n",
    "    if not figure_dir.exists():\n",
    "        figure_dir.mkdir(parents=True)"
   ]
  },
  {
   "cell_type": "code",
   "execution_count": 3,
   "id": "22d1d0e0",
   "metadata": {
    "execution": {
     "iopub.execute_input": "2024-08-21T12:09:45.511262Z",
     "iopub.status.busy": "2024-08-21T12:09:45.511156Z",
     "iopub.status.idle": "2024-08-21T12:09:45.513409Z",
     "shell.execute_reply": "2024-08-21T12:09:45.513110Z"
    },
    "papermill": {
     "duration": 0.004813,
     "end_time": "2024-08-21T12:09:45.514255",
     "exception": false,
     "start_time": "2024-08-21T12:09:45.509442",
     "status": "completed"
    },
    "tags": []
   },
   "outputs": [],
   "source": [
    "# Experiment hyperparamters\n",
    "rng = np.random.RandomState(42)\n",
    "split_on_income = False  # if True: src := income>=50k, tgt :+ income<50k, if False: src := male, tgt := female\n",
    "n_samples = 1000"
   ]
  },
  {
   "cell_type": "code",
   "execution_count": 4,
   "id": "48ff09ec",
   "metadata": {
    "execution": {
     "iopub.execute_input": "2024-08-21T12:09:45.517456Z",
     "iopub.status.busy": "2024-08-21T12:09:45.517326Z",
     "iopub.status.idle": "2024-08-21T12:09:45.518933Z",
     "shell.execute_reply": "2024-08-21T12:09:45.518699Z"
    },
    "papermill": {
     "duration": 0.003951,
     "end_time": "2024-08-21T12:09:45.519595",
     "exception": false,
     "start_time": "2024-08-21T12:09:45.515644",
     "status": "completed"
    },
    "tags": [
     "parameters"
    ]
   },
   "outputs": [],
   "source": [
    "comparison_id = None"
   ]
  },
  {
   "cell_type": "code",
   "execution_count": 5,
   "id": "5a5dd443",
   "metadata": {
    "execution": {
     "iopub.execute_input": "2024-08-21T12:09:45.522369Z",
     "iopub.status.busy": "2024-08-21T12:09:45.522273Z",
     "iopub.status.idle": "2024-08-21T12:09:45.523681Z",
     "shell.execute_reply": "2024-08-21T12:09:45.523470Z"
    },
    "papermill": {
     "duration": 0.003625,
     "end_time": "2024-08-21T12:09:45.524435",
     "exception": false,
     "start_time": "2024-08-21T12:09:45.520810",
     "status": "completed"
    },
    "tags": [
     "injected-parameters"
    ]
   },
   "outputs": [],
   "source": [
    "# Parameters\n",
    "comparison_id = 1\n"
   ]
  },
  {
   "cell_type": "code",
   "execution_count": 6,
   "id": "dade2b7e",
   "metadata": {
    "execution": {
     "iopub.execute_input": "2024-08-21T12:09:45.527474Z",
     "iopub.status.busy": "2024-08-21T12:09:45.527364Z",
     "iopub.status.idle": "2024-08-21T12:09:45.556824Z",
     "shell.execute_reply": "2024-08-21T12:09:45.556581Z"
    },
    "papermill": {
     "duration": 0.03206,
     "end_time": "2024-08-21T12:09:45.557646",
     "exception": false,
     "start_time": "2024-08-21T12:09:45.525586",
     "status": "completed"
    },
    "tags": []
   },
   "outputs": [
    {
     "name": "stdout",
     "output_type": "stream",
     "text": [
      "Comparing customer_profile_2 and customer_profile_3\n",
      "Finished preprocessing logistic dataset. Split on customer_profile_2 and customer_profile_3 with resulting source shape: (996, 3), target shape: (996, 3).\n",
      "['Connection', 'Weight', 'Unit_type']\n"
     ]
    }
   ],
   "source": [
    "\n",
    "# Load the data\n",
    "comparison_dict = {0: [0,1], 1: [2,3], 2: [4,5]}\n",
    "path_customer_profiles = open('./Results_Experiments/File_Paths/path_customer_profiles.txt','r').read()\n",
    "path_transport_graphics = open('./Results_Experiments/File_Paths/path_transport_graphics.txt','r').read()\n",
    "source = pd.read_csv(f'../{path_customer_profiles}/customer_profile_{comparison_dict[comparison_id][0]}.csv')\n",
    "target = pd.read_csv(f'../{path_customer_profiles}/customer_profile_{comparison_dict[comparison_id][1]}.csv')\n",
    "equal_week_split = True\n",
    "source, target, feature_names = load_and_preprocess_logistics_data(rng, n_samples, return_column_names=True,equal_week_split=equal_week_split, comparison_id=\n",
    "            comparison_id, comparison_dict=comparison_dict)\n",
    "print(feature_names)"
   ]
  },
  {
   "cell_type": "code",
   "execution_count": 7,
   "id": "296df3b5",
   "metadata": {
    "execution": {
     "iopub.execute_input": "2024-08-21T12:09:45.560849Z",
     "iopub.status.busy": "2024-08-21T12:09:45.560744Z",
     "iopub.status.idle": "2024-08-21T12:09:45.563931Z",
     "shell.execute_reply": "2024-08-21T12:09:45.563715Z"
    },
    "papermill": {
     "duration": 0.005602,
     "end_time": "2024-08-21T12:09:45.564665",
     "exception": false,
     "start_time": "2024-08-21T12:09:45.559063",
     "status": "completed"
    },
    "tags": []
   },
   "outputs": [],
   "source": [
    "# standardize the source and target data, and convert to domain labels\n",
    "from sklearn.preprocessing import StandardScaler\n",
    "X = np.concatenate((source, target), axis=0)\n",
    "# standardize X to remove cardinatlity bias\n",
    "X = StandardScaler().fit_transform(X)\n",
    "y = np.concatenate((np.zeros(source.shape[0]),\n",
    "                    np.ones(target.shape[0])), axis=0)  # domain labels"
   ]
  },
  {
   "cell_type": "code",
   "execution_count": 8,
   "id": "c5422e1f",
   "metadata": {
    "execution": {
     "iopub.execute_input": "2024-08-21T12:09:45.567772Z",
     "iopub.status.busy": "2024-08-21T12:09:45.567675Z",
     "iopub.status.idle": "2024-08-21T12:09:45.616726Z",
     "shell.execute_reply": "2024-08-21T12:09:45.616435Z"
    },
    "papermill": {
     "duration": 0.051619,
     "end_time": "2024-08-21T12:09:45.617628",
     "exception": false,
     "start_time": "2024-08-21T12:09:45.566009",
     "status": "completed"
    },
    "tags": []
   },
   "outputs": [],
   "source": [
    "from sklearn.datasets import make_classification\n",
    "from sklearn.model_selection import train_test_split\n",
    "\n",
    "X_train, X_test, y_train, y_test = train_test_split(X, y,\n",
    "                                     stratify=y, random_state=42)"
   ]
  },
  {
   "cell_type": "code",
   "execution_count": 9,
   "id": "5d9ba299",
   "metadata": {
    "execution": {
     "iopub.execute_input": "2024-08-21T12:09:45.620910Z",
     "iopub.status.busy": "2024-08-21T12:09:45.620759Z",
     "iopub.status.idle": "2024-08-21T12:09:45.635196Z",
     "shell.execute_reply": "2024-08-21T12:09:45.634957Z"
    },
    "papermill": {
     "duration": 0.016997,
     "end_time": "2024-08-21T12:09:45.636134",
     "exception": false,
     "start_time": "2024-08-21T12:09:45.619137",
     "status": "completed"
    },
    "tags": []
   },
   "outputs": [],
   "source": [
    "# Using XGBoost\n",
    "import xgboost\n",
    "\n",
    "def fit_xgboost(X_train, y_train, X_test, y_test, feature_names=None):\n",
    "    \"\"\" Train an XGBoost model with early stopping.\n",
    "    \"\"\"\n",
    "    dtrain = xgboost.DMatrix(X_train, label=y_train, feature_names=feature_names)\n",
    "    dtest = xgboost.DMatrix(X_test, label=y_test, feature_names=feature_names)\n",
    "    # model = xgboost.train(\n",
    "    #     { \"eta\": 0.001, \"subsample\": 0.5, \"max_depth\": 2,\n",
    "    #       \"objective\": 'binary:logistic', 'eval_metric': 'logloss'}, dtrain, num_boost_round=200000,\n",
    "    #     evals=[(dtest,'eval'), (dtrain,'train')], early_stopping_rounds=20, verbose_eval=False\n",
    "    # )\n",
    "    model = xgboost.train(\n",
    "        {\"objective\": 'binary:logistic', 'eval_metric': 'logloss'},\n",
    "        dtrain,\n",
    "        evals=[(dtest,'eval'), (dtrain,'train')],\n",
    "        verbose_eval=False)\n",
    "    return model"
   ]
  },
  {
   "cell_type": "code",
   "execution_count": 10,
   "id": "bd7ac9f1",
   "metadata": {
    "execution": {
     "iopub.execute_input": "2024-08-21T12:09:45.639209Z",
     "iopub.status.busy": "2024-08-21T12:09:45.639107Z",
     "iopub.status.idle": "2024-08-21T12:09:45.652879Z",
     "shell.execute_reply": "2024-08-21T12:09:45.652621Z"
    },
    "papermill": {
     "duration": 0.01626,
     "end_time": "2024-08-21T12:09:45.653761",
     "exception": false,
     "start_time": "2024-08-21T12:09:45.637501",
     "status": "completed"
    },
    "tags": []
   },
   "outputs": [],
   "source": [
    "xgb_forest = fit_xgboost(X_train, y_train, X_test, y_test, feature_names)\n",
    "xgb_forest.feature_names = feature_names"
   ]
  },
  {
   "cell_type": "code",
   "execution_count": 11,
   "id": "dcaa3020",
   "metadata": {
    "execution": {
     "iopub.execute_input": "2024-08-21T12:09:45.656856Z",
     "iopub.status.busy": "2024-08-21T12:09:45.656749Z",
     "iopub.status.idle": "2024-08-21T12:09:45.658657Z",
     "shell.execute_reply": "2024-08-21T12:09:45.658441Z"
    },
    "papermill": {
     "duration": 0.004233,
     "end_time": "2024-08-21T12:09:45.659392",
     "exception": false,
     "start_time": "2024-08-21T12:09:45.655159",
     "status": "completed"
    },
    "tags": []
   },
   "outputs": [],
   "source": [
    "def get_acc(model, samples, labels, feature_names=None):\n",
    "    predictions = (model.predict(xgboost.DMatrix(samples,\n",
    "                                                 feature_names=feature_names)) > 0.5).astype(int)\n",
    "    return (predictions == labels).sum() / predictions.shape[0]"
   ]
  },
  {
   "cell_type": "code",
   "execution_count": 12,
   "id": "7ce6b380",
   "metadata": {
    "execution": {
     "iopub.execute_input": "2024-08-21T12:09:45.662359Z",
     "iopub.status.busy": "2024-08-21T12:09:45.662263Z",
     "iopub.status.idle": "2024-08-21T12:09:45.665103Z",
     "shell.execute_reply": "2024-08-21T12:09:45.664881Z"
    },
    "papermill": {
     "duration": 0.005149,
     "end_time": "2024-08-21T12:09:45.665810",
     "exception": false,
     "start_time": "2024-08-21T12:09:45.660661",
     "status": "completed"
    },
    "tags": []
   },
   "outputs": [
    {
     "name": "stdout",
     "output_type": "stream",
     "text": [
      "Train score: 0.9364123159303882\n",
      "Test score: 0.927710843373494\n"
     ]
    }
   ],
   "source": [
    "print('Train score:', get_acc(xgb_forest, X_train, y_train, feature_names))\n",
    "print('Test score:', get_acc(xgb_forest, X_test, y_test, feature_names))"
   ]
  },
  {
   "cell_type": "code",
   "execution_count": 13,
   "id": "97a1d2b0",
   "metadata": {
    "execution": {
     "iopub.execute_input": "2024-08-21T12:09:45.668813Z",
     "iopub.status.busy": "2024-08-21T12:09:45.668723Z",
     "iopub.status.idle": "2024-08-21T12:09:45.909010Z",
     "shell.execute_reply": "2024-08-21T12:09:45.908755Z"
    },
    "papermill": {
     "duration": 0.242794,
     "end_time": "2024-08-21T12:09:45.909944",
     "exception": false,
     "start_time": "2024-08-21T12:09:45.667150",
     "status": "completed"
    },
    "tags": []
   },
   "outputs": [],
   "source": [
    "import shap\n",
    "import pandas as pd\n",
    "explainer = shap.Explainer(xgb_forest)\n",
    "\n",
    "shap_values = explainer(pd.DataFrame(X_test, columns=feature_names))\n"
   ]
  },
  {
   "cell_type": "code",
   "execution_count": 14,
   "id": "8e7a54a8",
   "metadata": {
    "execution": {
     "iopub.execute_input": "2024-08-21T12:09:45.913230Z",
     "iopub.status.busy": "2024-08-21T12:09:45.913095Z",
     "iopub.status.idle": "2024-08-21T12:09:46.232015Z",
     "shell.execute_reply": "2024-08-21T12:09:46.231740Z"
    },
    "papermill": {
     "duration": 0.321373,
     "end_time": "2024-08-21T12:09:46.232846",
     "exception": false,
     "start_time": "2024-08-21T12:09:45.911473",
     "status": "completed"
    },
    "tags": []
   },
   "outputs": [
    {
     "data": {
      "image/png": "[encoded data removed]",
      "text/plain": [
       "<Figure size 400x100 with 2 Axes>"
      ]
     },
     "metadata": {},
     "output_type": "display_data"
    }
   ],
   "source": [
    "# Beeswarm plot\n",
    "\n",
    "shap.plots.beeswarm(shap_values, show=False)\n",
    "fig = plt.gcf()\n",
    "fig.set_size_inches(4, 1, forward=True)\n",
    "if save_figures: plt.savefig(\n",
    "    f'../{path_transport_graphics}/logitics_data_on_customer_profile_{comparison_dict[comparison_id][0]} and customer_profile_{comparison_dict[comparison_id][1]}-shap-value.{save_parms[\"format\"]}',\n",
    "    **save_parms\n",
    "    )\n",
    "plt.show()"
   ]
  }
 ],
 "metadata": {
  "kernelspec": {
   "display_name": "Python 3.7.11 ('py37')",
   "language": "python",
   "name": "python3"
  },
  "language_info": {
   "codemirror_mode": {
    "name": "ipython",
    "version": 3
   },
   "file_extension": ".py",
   "mimetype": "text/x-python",
   "name": "python",
   "nbconvert_exporter": "python",
   "pygments_lexer": "ipython3",
   "version": "3.12.0"
  },
  "papermill": {
   "default_parameters": {},
   "duration": 2.578749,
   "end_time": "2024-08-21T12:09:46.550325",
   "environment_variables": {},
   "exception": null,
   "input_path": "experiment_baseline.ipynb",
   "output_path": "./Results_Experiments/Set_C_max_to_None_Set_V_max_to_None_Set_lambd_to_None_Set_UT_list_to_None_Set_weight_span_to_None_Set_num_components_to_None_Set_number_of_connections_to_None/experiment_baseline_2.ipynb",
   "parameters": {
    "comparison_id": 1
   },
   "start_time": "2024-08-21T12:09:43.971576",
   "version": "2.6.0"
  },
  "vscode": {
   "interpreter": {
    "hash": "5ab0220f0ca30ec7bac8a7e209564eceae6d15412b9f87f3c2f91206aa8b151c"
   }
  }
 },
 "nbformat": 4,
 "nbformat_minor": 5
}