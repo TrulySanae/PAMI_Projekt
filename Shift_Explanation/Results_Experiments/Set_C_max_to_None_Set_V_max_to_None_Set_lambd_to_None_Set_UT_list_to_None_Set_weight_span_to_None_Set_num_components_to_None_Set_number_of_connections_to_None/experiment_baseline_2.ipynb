{
 "cells": [
  {
   "cell_type": "code",
   "execution_count": 1,
   "id": "d05cab18",
   "metadata": {
    "execution": {
     "iopub.execute_input": "2024-08-21T09:46:56.283118Z",
     "iopub.status.busy": "2024-08-21T09:46:56.282930Z",
     "iopub.status.idle": "2024-08-21T09:46:57.235988Z",
     "shell.execute_reply": "2024-08-21T09:46:57.235485Z"
    },
    "papermill": {
     "duration": 0.959054,
     "end_time": "2024-08-21T09:46:57.238847",
     "exception": false,
     "start_time": "2024-08-21T09:46:56.279793",
     "status": "completed"
    },
    "tags": []
   },
   "outputs": [],
   "source": [
    "import matplotlib.pyplot as plt\n",
    "import numpy as np\n",
    "import pandas as pd\n",
    "from pathlib import Path\n",
    "import seaborn as sn\n"
   ]
  },
  {
   "cell_type": "code",
   "execution_count": 2,
   "id": "d6302d10",
   "metadata": {
    "execution": {
     "iopub.execute_input": "2024-08-21T09:46:57.243399Z",
     "iopub.status.busy": "2024-08-21T09:46:57.243113Z",
     "iopub.status.idle": "2024-08-21T09:46:57.247139Z",
     "shell.execute_reply": "2024-08-21T09:46:57.246809Z"
    },
    "papermill": {
     "duration": 0.007842,
     "end_time": "2024-08-21T09:46:57.248833",
     "exception": false,
     "start_time": "2024-08-21T09:46:57.240991",
     "status": "completed"
    },
    "tags": []
   },
   "outputs": [],
   "source": [
    "# Setting so that the plots look normal even when using dark-reader\n",
    "sn.set_style(\"whitegrid\")\n",
    "sn.set_context(context=\"paper\", font_scale=2)\n",
    "pal = sn.color_palette(\"Set1\")\n",
    "\n",
    "# Setting up specifics for plotting + saving\n",
    "save_figures = True\n",
    "add_legend = False\n",
    "add_title = False\n",
    "add_axis = False\n",
    "save_parms = {'format': 'pdf','bbox_inches':'tight', 'pad_inches':0.1}\n",
    "line_parms = {'linewidth':4, 'color':'k'}\n",
    "if save_figures:  # saves all figures in a figure directory in the local directory\n",
    "    figure_dir = Path('.') / 'figures' / 'adult-income-experiment'\n",
    "    if not figure_dir.exists():\n",
    "        figure_dir.mkdir(parents=True)"
   ]
  },
  {
   "cell_type": "code",
   "execution_count": 3,
   "id": "22d1d0e0",
   "metadata": {
    "execution": {
     "iopub.execute_input": "2024-08-21T09:46:57.255229Z",
     "iopub.status.busy": "2024-08-21T09:46:57.255050Z",
     "iopub.status.idle": "2024-08-21T09:46:57.259868Z",
     "shell.execute_reply": "2024-08-21T09:46:57.259457Z"
    },
    "papermill": {
     "duration": 0.009355,
     "end_time": "2024-08-21T09:46:57.261145",
     "exception": false,
     "start_time": "2024-08-21T09:46:57.251790",
     "status": "completed"
    },
    "tags": []
   },
   "outputs": [],
   "source": [
    "# Experiment hyperparamters\n",
    "rng = np.random.RandomState(42)\n",
    "split_on_income = False  # if True: src := income>=50k, tgt :+ income<50k, if False: src := male, tgt := female\n",
    "n_samples = 1000"
   ]
  },
  {
   "cell_type": "code",
   "execution_count": 4,
   "id": "48ff09ec",
   "metadata": {
    "execution": {
     "iopub.execute_input": "2024-08-21T09:46:57.265522Z",
     "iopub.status.busy": "2024-08-21T09:46:57.265393Z",
     "iopub.status.idle": "2024-08-21T09:46:57.267395Z",
     "shell.execute_reply": "2024-08-21T09:46:57.266924Z"
    },
    "papermill": {
     "duration": 0.004725,
     "end_time": "2024-08-21T09:46:57.268305",
     "exception": false,
     "start_time": "2024-08-21T09:46:57.263580",
     "status": "completed"
    },
    "tags": [
     "parameters"
    ]
   },
   "outputs": [],
   "source": [
    "comparison_id = None"
   ]
  },
  {
   "cell_type": "code",
   "execution_count": 5,
   "id": "40c066e0",
   "metadata": {
    "execution": {
     "iopub.execute_input": "2024-08-21T09:46:57.271728Z",
     "iopub.status.busy": "2024-08-21T09:46:57.271597Z",
     "iopub.status.idle": "2024-08-21T09:46:57.273231Z",
     "shell.execute_reply": "2024-08-21T09:46:57.272951Z"
    },
    "papermill": {
     "duration": 0.004484,
     "end_time": "2024-08-21T09:46:57.274314",
     "exception": false,
     "start_time": "2024-08-21T09:46:57.269830",
     "status": "completed"
    },
    "tags": [
     "injected-parameters"
    ]
   },
   "outputs": [],
   "source": [
    "# Parameters\n",
    "comparison_id = 1\n"
   ]
  },
  {
   "cell_type": "code",
   "execution_count": 6,
   "id": "dade2b7e",
   "metadata": {
    "execution": {
     "iopub.execute_input": "2024-08-21T09:46:57.277767Z",
     "iopub.status.busy": "2024-08-21T09:46:57.277635Z",
     "iopub.status.idle": "2024-08-21T09:46:57.302356Z",
     "shell.execute_reply": "2024-08-21T09:46:57.301989Z"
    },
    "papermill": {
     "duration": 0.027662,
     "end_time": "2024-08-21T09:46:57.303469",
     "exception": false,
     "start_time": "2024-08-21T09:46:57.275807",
     "status": "completed"
    },
    "tags": []
   },
   "outputs": [
    {
     "name": "stdout",
     "output_type": "stream",
     "text": [
      "['Customer_id', 'Connection', 'Weight', 'Unit_type', 'Day', 'Week']\n"
     ]
    }
   ],
   "source": [
    "\n",
    "# Load the data\n",
    "comparison_dict = {0: [0,1], 1: [2,3], 2: [4,5]}\n",
    "path_customer_profiles = open('./Results_Experiments/File_Paths/path_customer_profiles.txt','r').read()\n",
    "path_transport_graphics = open('./Results_Experiments/File_Paths/path_transport_graphics.txt','r').read()\n",
    "source = pd.read_csv(f'../{path_customer_profiles}/customer_profile_{comparison_dict[comparison_id][0]}.csv')\n",
    "target = pd.read_csv(f'../{path_customer_profiles}/customer_profile_{comparison_dict[comparison_id][1]}.csv')\n",
    "\n",
    "feature_names = source.columns.values\n",
    "feature_names = list(feature_names)\n",
    "print(feature_names)"
   ]
  },
  {
   "cell_type": "code",
   "execution_count": 7,
   "id": "296df3b5",
   "metadata": {
    "execution": {
     "iopub.execute_input": "2024-08-21T09:46:57.306744Z",
     "iopub.status.busy": "2024-08-21T09:46:57.306632Z",
     "iopub.status.idle": "2024-08-21T09:46:57.346477Z",
     "shell.execute_reply": "2024-08-21T09:46:57.346154Z"
    },
    "papermill": {
     "duration": 0.042519,
     "end_time": "2024-08-21T09:46:57.347500",
     "exception": false,
     "start_time": "2024-08-21T09:46:57.304981",
     "status": "completed"
    },
    "tags": []
   },
   "outputs": [],
   "source": [
    "# standardize the source and target data, and convert to domain labels\n",
    "from sklearn.preprocessing import StandardScaler\n",
    "X = np.concatenate((source, target), axis=0)\n",
    "# standardize X to remove cardinatlity bias\n",
    "X = StandardScaler().fit_transform(X)\n",
    "y = np.concatenate((np.zeros(source.shape[0]),\n",
    "                    np.ones(target.shape[0])), axis=0)  # domain labels"
   ]
  },
  {
   "cell_type": "code",
   "execution_count": 8,
   "id": "c5422e1f",
   "metadata": {
    "execution": {
     "iopub.execute_input": "2024-08-21T09:46:57.352230Z",
     "iopub.status.busy": "2024-08-21T09:46:57.352037Z",
     "iopub.status.idle": "2024-08-21T09:46:57.432707Z",
     "shell.execute_reply": "2024-08-21T09:46:57.432359Z"
    },
    "papermill": {
     "duration": 0.084619,
     "end_time": "2024-08-21T09:46:57.433713",
     "exception": false,
     "start_time": "2024-08-21T09:46:57.349094",
     "status": "completed"
    },
    "tags": []
   },
   "outputs": [],
   "source": [
    "from sklearn.datasets import make_classification\n",
    "from sklearn.model_selection import train_test_split\n",
    "\n",
    "X_train, X_test, y_train, y_test = train_test_split(X, y,\n",
    "                                     stratify=y, random_state=42)"
   ]
  },
  {
   "cell_type": "code",
   "execution_count": 9,
   "id": "5d9ba299",
   "metadata": {
    "execution": {
     "iopub.execute_input": "2024-08-21T09:46:57.437875Z",
     "iopub.status.busy": "2024-08-21T09:46:57.437586Z",
     "iopub.status.idle": "2024-08-21T09:46:57.454432Z",
     "shell.execute_reply": "2024-08-21T09:46:57.454149Z"
    },
    "papermill": {
     "duration": 0.01991,
     "end_time": "2024-08-21T09:46:57.455439",
     "exception": false,
     "start_time": "2024-08-21T09:46:57.435529",
     "status": "completed"
    },
    "tags": []
   },
   "outputs": [],
   "source": [
    "# Using XGBoost\n",
    "import xgboost\n",
    "\n",
    "def fit_xgboost(X_train, y_train, X_test, y_test, feature_names=None):\n",
    "    \"\"\" Train an XGBoost model with early stopping.\n",
    "    \"\"\"\n",
    "    dtrain = xgboost.DMatrix(X_train, label=y_train, feature_names=feature_names)\n",
    "    dtest = xgboost.DMatrix(X_test, label=y_test, feature_names=feature_names)\n",
    "    # model = xgboost.train(\n",
    "    #     { \"eta\": 0.001, \"subsample\": 0.5, \"max_depth\": 2,\n",
    "    #       \"objective\": 'binary:logistic', 'eval_metric': 'logloss'}, dtrain, num_boost_round=200000,\n",
    "    #     evals=[(dtest,'eval'), (dtrain,'train')], early_stopping_rounds=20, verbose_eval=False\n",
    "    # )\n",
    "    model = xgboost.train(\n",
    "        {\"objective\": 'binary:logistic', 'eval_metric': 'logloss'},\n",
    "        dtrain,\n",
    "        evals=[(dtest,'eval'), (dtrain,'train')],\n",
    "        verbose_eval=False)\n",
    "    return model"
   ]
  },
  {
   "cell_type": "code",
   "execution_count": 10,
   "id": "bd7ac9f1",
   "metadata": {
    "execution": {
     "iopub.execute_input": "2024-08-21T09:46:57.458883Z",
     "iopub.status.busy": "2024-08-21T09:46:57.458749Z",
     "iopub.status.idle": "2024-08-21T09:46:57.491615Z",
     "shell.execute_reply": "2024-08-21T09:46:57.491303Z"
    },
    "papermill": {
     "duration": 0.035607,
     "end_time": "2024-08-21T09:46:57.492556",
     "exception": false,
     "start_time": "2024-08-21T09:46:57.456949",
     "status": "completed"
    },
    "tags": []
   },
   "outputs": [],
   "source": [
    "xgb_forest = fit_xgboost(X_train, y_train, X_test, y_test, feature_names)\n",
    "xgb_forest.feature_names = feature_names"
   ]
  },
  {
   "cell_type": "code",
   "execution_count": 11,
   "id": "dcaa3020",
   "metadata": {
    "execution": {
     "iopub.execute_input": "2024-08-21T09:46:57.496395Z",
     "iopub.status.busy": "2024-08-21T09:46:57.496257Z",
     "iopub.status.idle": "2024-08-21T09:46:57.498315Z",
     "shell.execute_reply": "2024-08-21T09:46:57.498049Z"
    },
    "papermill": {
     "duration": 0.004949,
     "end_time": "2024-08-21T09:46:57.499114",
     "exception": false,
     "start_time": "2024-08-21T09:46:57.494165",
     "status": "completed"
    },
    "tags": []
   },
   "outputs": [],
   "source": [
    "def get_acc(model, samples, labels, feature_names=None):\n",
    "    predictions = (model.predict(xgboost.DMatrix(samples,\n",
    "                                                 feature_names=feature_names)) > 0.5).astype(int)\n",
    "    return (predictions == labels).sum() / predictions.shape[0]"
   ]
  },
  {
   "cell_type": "code",
   "execution_count": 12,
   "id": "7ce6b380",
   "metadata": {
    "execution": {
     "iopub.execute_input": "2024-08-21T09:46:57.502684Z",
     "iopub.status.busy": "2024-08-21T09:46:57.502478Z",
     "iopub.status.idle": "2024-08-21T09:46:57.510315Z",
     "shell.execute_reply": "2024-08-21T09:46:57.509951Z"
    },
    "papermill": {
     "duration": 0.010672,
     "end_time": "2024-08-21T09:46:57.511288",
     "exception": false,
     "start_time": "2024-08-21T09:46:57.500616",
     "status": "completed"
    },
    "tags": []
   },
   "outputs": [
    {
     "name": "stdout",
     "output_type": "stream",
     "text": [
      "Train score: 0.9362492542979555\n",
      "Test score: 0.930773610998129\n"
     ]
    }
   ],
   "source": [
    "print('Train score:', get_acc(xgb_forest, X_train, y_train, feature_names))\n",
    "print('Test score:', get_acc(xgb_forest, X_test, y_test, feature_names))"
   ]
  },
  {
   "cell_type": "code",
   "execution_count": 13,
   "id": "97a1d2b0",
   "metadata": {
    "execution": {
     "iopub.execute_input": "2024-08-21T09:46:57.515039Z",
     "iopub.status.busy": "2024-08-21T09:46:57.514901Z",
     "iopub.status.idle": "2024-08-21T09:46:57.815537Z",
     "shell.execute_reply": "2024-08-21T09:46:57.815247Z"
    },
    "papermill": {
     "duration": 0.303768,
     "end_time": "2024-08-21T09:46:57.816524",
     "exception": false,
     "start_time": "2024-08-21T09:46:57.512756",
     "status": "completed"
    },
    "tags": []
   },
   "outputs": [],
   "source": [
    "import shap\n",
    "import pandas as pd\n",
    "explainer = shap.Explainer(xgb_forest)\n",
    "\n",
    "shap_values = explainer(pd.DataFrame(X_test, columns=feature_names))\n"
   ]
  },
  {
   "cell_type": "code",
   "execution_count": 14,
   "id": "8e7a54a8",
   "metadata": {
    "execution": {
     "iopub.execute_input": "2024-08-21T09:46:57.820128Z",
     "iopub.status.busy": "2024-08-21T09:46:57.819942Z",
     "iopub.status.idle": "2024-08-21T09:46:58.891806Z",
     "shell.execute_reply": "2024-08-21T09:46:58.891563Z"
    },
    "papermill": {
     "duration": 1.075406,
     "end_time": "2024-08-21T09:46:58.893462",
     "exception": false,
     "start_time": "2024-08-21T09:46:57.818056",
     "status": "completed"
    },
    "tags": []
   },
   "outputs": [
    {
     "data": {
      "image/png": "[encoded data removed]",
      "text/plain": [
       "<Figure size 400x200 with 2 Axes>"
      ]
     },
     "metadata": {},
     "output_type": "display_data"
    }
   ],
   "source": [
    "# Beeswarm plot\n",
    "\n",
    "shap.plots.beeswarm(shap_values, show=False)\n",
    "fig = plt.gcf()\n",
    "fig.set_size_inches(4, 2, forward=True)\n",
    "if save_figures: plt.savefig(\n",
    "    f'../{path_transport_graphics}/logitics_data_on_customer_profile_{comparison_dict[comparison_id][0]} and customer_profile_{comparison_dict[comparison_id][1]}-shap-value.{save_parms[\"format\"]}',\n",
    "    **save_parms\n",
    "    )\n",
    "plt.show()"
   ]
  }
 ],
 "metadata": {
  "kernelspec": {
   "display_name": "Python 3.7.11 ('py37')",
   "language": "python",
   "name": "python3"
  },
  "language_info": {
   "codemirror_mode": {
    "name": "ipython",
    "version": 3
   },
   "file_extension": ".py",
   "mimetype": "text/x-python",
   "name": "python",
   "nbconvert_exporter": "python",
   "pygments_lexer": "ipython3",
   "version": "3.12.0"
  },
  "papermill": {
   "default_parameters": {},
   "duration": 3.761705,
   "end_time": "2024-08-21T09:46:59.314068",
   "environment_variables": {},
   "exception": null,
   "input_path": "experiment_baseline.ipynb",
   "output_path": "./Results_Experiments/Set_C_max_to_None_Set_V_max_to_None_Set_lambd_to_None_Set_UT_list_to_None_Set_weight_span_to_None_Set_num_components_to_None_Set_number_of_connections_to_None/experiment_baseline_2.ipynb",
   "parameters": {
    "comparison_id": 1
   },
   "start_time": "2024-08-21T09:46:55.552363",
   "version": "2.6.0"
  },
  "vscode": {
   "interpreter": {
    "hash": "5ab0220f0ca30ec7bac8a7e209564eceae6d15412b9f87f3c2f91206aa8b151c"
   }
  }
 },
 "nbformat": 4,
 "nbformat_minor": 5
}