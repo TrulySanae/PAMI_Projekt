{
 "cells": [
  {
   "cell_type": "code",
   "execution_count": 1,
   "id": "d05cab18",
   "metadata": {
    "execution": {
     "iopub.execute_input": "2024-08-21T09:48:33.132803Z",
     "iopub.status.busy": "2024-08-21T09:48:33.132594Z",
     "iopub.status.idle": "2024-08-21T09:48:34.186621Z",
     "shell.execute_reply": "2024-08-21T09:48:34.186216Z"
    },
    "papermill": {
     "duration": 1.062572,
     "end_time": "2024-08-21T09:48:34.191649",
     "exception": false,
     "start_time": "2024-08-21T09:48:33.129077",
     "status": "completed"
    },
    "tags": []
   },
   "outputs": [],
   "source": [
    "import matplotlib.pyplot as plt\n",
    "import numpy as np\n",
    "import pandas as pd\n",
    "from pathlib import Path\n",
    "import seaborn as sn\n"
   ]
  },
  {
   "cell_type": "code",
   "execution_count": 2,
   "id": "d6302d10",
   "metadata": {
    "execution": {
     "iopub.execute_input": "2024-08-21T09:48:34.195534Z",
     "iopub.status.busy": "2024-08-21T09:48:34.195361Z",
     "iopub.status.idle": "2024-08-21T09:48:34.198362Z",
     "shell.execute_reply": "2024-08-21T09:48:34.198153Z"
    },
    "papermill": {
     "duration": 0.005577,
     "end_time": "2024-08-21T09:48:34.199123",
     "exception": false,
     "start_time": "2024-08-21T09:48:34.193546",
     "status": "completed"
    },
    "tags": []
   },
   "outputs": [],
   "source": [
    "# Setting so that the plots look normal even when using dark-reader\n",
    "sn.set_style(\"whitegrid\")\n",
    "sn.set_context(context=\"paper\", font_scale=2)\n",
    "pal = sn.color_palette(\"Set1\")\n",
    "\n",
    "# Setting up specifics for plotting + saving\n",
    "save_figures = True\n",
    "add_legend = False\n",
    "add_title = False\n",
    "add_axis = False\n",
    "save_parms = {'format': 'pdf','bbox_inches':'tight', 'pad_inches':0.1}\n",
    "line_parms = {'linewidth':4, 'color':'k'}\n",
    "if save_figures:  # saves all figures in a figure directory in the local directory\n",
    "    figure_dir = Path('.') / 'figures' / 'adult-income-experiment'\n",
    "    if not figure_dir.exists():\n",
    "        figure_dir.mkdir(parents=True)"
   ]
  },
  {
   "cell_type": "code",
   "execution_count": 3,
   "id": "22d1d0e0",
   "metadata": {
    "execution": {
     "iopub.execute_input": "2024-08-21T09:48:34.202790Z",
     "iopub.status.busy": "2024-08-21T09:48:34.202656Z",
     "iopub.status.idle": "2024-08-21T09:48:34.204680Z",
     "shell.execute_reply": "2024-08-21T09:48:34.204415Z"
    },
    "papermill": {
     "duration": 0.004801,
     "end_time": "2024-08-21T09:48:34.205580",
     "exception": false,
     "start_time": "2024-08-21T09:48:34.200779",
     "status": "completed"
    },
    "tags": []
   },
   "outputs": [],
   "source": [
    "# Experiment hyperparamters\n",
    "rng = np.random.RandomState(42)\n",
    "split_on_income = False  # if True: src := income>=50k, tgt :+ income<50k, if False: src := male, tgt := female\n",
    "n_samples = 1000"
   ]
  },
  {
   "cell_type": "code",
   "execution_count": 4,
   "id": "48ff09ec",
   "metadata": {
    "execution": {
     "iopub.execute_input": "2024-08-21T09:48:34.209556Z",
     "iopub.status.busy": "2024-08-21T09:48:34.209354Z",
     "iopub.status.idle": "2024-08-21T09:48:34.211386Z",
     "shell.execute_reply": "2024-08-21T09:48:34.211128Z"
    },
    "papermill": {
     "duration": 0.005221,
     "end_time": "2024-08-21T09:48:34.212187",
     "exception": false,
     "start_time": "2024-08-21T09:48:34.206966",
     "status": "completed"
    },
    "tags": [
     "parameters"
    ]
   },
   "outputs": [],
   "source": [
    "comparison_id = None"
   ]
  },
  {
   "cell_type": "code",
   "execution_count": 5,
   "id": "02d7c8ec",
   "metadata": {
    "execution": {
     "iopub.execute_input": "2024-08-21T09:48:34.216066Z",
     "iopub.status.busy": "2024-08-21T09:48:34.215971Z",
     "iopub.status.idle": "2024-08-21T09:48:34.217473Z",
     "shell.execute_reply": "2024-08-21T09:48:34.217223Z"
    },
    "papermill": {
     "duration": 0.005012,
     "end_time": "2024-08-21T09:48:34.218831",
     "exception": false,
     "start_time": "2024-08-21T09:48:34.213819",
     "status": "completed"
    },
    "tags": [
     "injected-parameters"
    ]
   },
   "outputs": [],
   "source": [
    "# Parameters\n",
    "comparison_id = 0\n"
   ]
  },
  {
   "cell_type": "code",
   "execution_count": 6,
   "id": "dade2b7e",
   "metadata": {
    "execution": {
     "iopub.execute_input": "2024-08-21T09:48:34.225008Z",
     "iopub.status.busy": "2024-08-21T09:48:34.224870Z",
     "iopub.status.idle": "2024-08-21T09:48:34.235163Z",
     "shell.execute_reply": "2024-08-21T09:48:34.234829Z"
    },
    "papermill": {
     "duration": 0.01457,
     "end_time": "2024-08-21T09:48:34.236059",
     "exception": false,
     "start_time": "2024-08-21T09:48:34.221489",
     "status": "completed"
    },
    "tags": []
   },
   "outputs": [
    {
     "name": "stdout",
     "output_type": "stream",
     "text": [
      "['Customer_id', 'Connection', 'Weight', 'Unit_type', 'Day', 'Week']\n"
     ]
    }
   ],
   "source": [
    "\n",
    "# Load the data\n",
    "comparison_dict = {0: [0,1], 1: [2,3], 2: [4,5]}\n",
    "path_customer_profiles = open('./Results_Experiments/File_Paths/path_customer_profiles.txt','r').read()\n",
    "path_transport_graphics = open('./Results_Experiments/File_Paths/path_transport_graphics.txt','r').read()\n",
    "source = pd.read_csv(f'../{path_customer_profiles}/customer_profile_{comparison_dict[comparison_id][0]}.csv')\n",
    "target = pd.read_csv(f'../{path_customer_profiles}/customer_profile_{comparison_dict[comparison_id][1]}.csv')\n",
    "\n",
    "feature_names = source.columns.values\n",
    "feature_names = list(feature_names)\n",
    "print(feature_names)"
   ]
  },
  {
   "cell_type": "code",
   "execution_count": 7,
   "id": "296df3b5",
   "metadata": {
    "execution": {
     "iopub.execute_input": "2024-08-21T09:48:34.239854Z",
     "iopub.status.busy": "2024-08-21T09:48:34.239668Z",
     "iopub.status.idle": "2024-08-21T09:48:34.273381Z",
     "shell.execute_reply": "2024-08-21T09:48:34.273091Z"
    },
    "papermill": {
     "duration": 0.036375,
     "end_time": "2024-08-21T09:48:34.274268",
     "exception": false,
     "start_time": "2024-08-21T09:48:34.237893",
     "status": "completed"
    },
    "tags": []
   },
   "outputs": [],
   "source": [
    "# standardize the source and target data, and convert to domain labels\n",
    "from sklearn.preprocessing import StandardScaler\n",
    "X = np.concatenate((source, target), axis=0)\n",
    "# standardize X to remove cardinatlity bias\n",
    "X = StandardScaler().fit_transform(X)\n",
    "y = np.concatenate((np.zeros(source.shape[0]),\n",
    "                    np.ones(target.shape[0])), axis=0)  # domain labels"
   ]
  },
  {
   "cell_type": "code",
   "execution_count": 8,
   "id": "c5422e1f",
   "metadata": {
    "execution": {
     "iopub.execute_input": "2024-08-21T09:48:34.277388Z",
     "iopub.status.busy": "2024-08-21T09:48:34.277236Z",
     "iopub.status.idle": "2024-08-21T09:48:34.329475Z",
     "shell.execute_reply": "2024-08-21T09:48:34.329188Z"
    },
    "papermill": {
     "duration": 0.054753,
     "end_time": "2024-08-21T09:48:34.330377",
     "exception": false,
     "start_time": "2024-08-21T09:48:34.275624",
     "status": "completed"
    },
    "tags": []
   },
   "outputs": [],
   "source": [
    "from sklearn.datasets import make_classification\n",
    "from sklearn.model_selection import train_test_split\n",
    "\n",
    "X_train, X_test, y_train, y_test = train_test_split(X, y,\n",
    "                                     stratify=y, random_state=42)"
   ]
  },
  {
   "cell_type": "code",
   "execution_count": 9,
   "id": "5d9ba299",
   "metadata": {
    "execution": {
     "iopub.execute_input": "2024-08-21T09:48:34.333653Z",
     "iopub.status.busy": "2024-08-21T09:48:34.333493Z",
     "iopub.status.idle": "2024-08-21T09:48:34.349609Z",
     "shell.execute_reply": "2024-08-21T09:48:34.349266Z"
    },
    "papermill": {
     "duration": 0.019636,
     "end_time": "2024-08-21T09:48:34.351501",
     "exception": false,
     "start_time": "2024-08-21T09:48:34.331865",
     "status": "completed"
    },
    "tags": []
   },
   "outputs": [],
   "source": [
    "# Using XGBoost\n",
    "import xgboost\n",
    "\n",
    "def fit_xgboost(X_train, y_train, X_test, y_test, feature_names=None):\n",
    "    \"\"\" Train an XGBoost model with early stopping.\n",
    "    \"\"\"\n",
    "    dtrain = xgboost.DMatrix(X_train, label=y_train, feature_names=feature_names)\n",
    "    dtest = xgboost.DMatrix(X_test, label=y_test, feature_names=feature_names)\n",
    "    # model = xgboost.train(\n",
    "    #     { \"eta\": 0.001, \"subsample\": 0.5, \"max_depth\": 2,\n",
    "    #       \"objective\": 'binary:logistic', 'eval_metric': 'logloss'}, dtrain, num_boost_round=200000,\n",
    "    #     evals=[(dtest,'eval'), (dtrain,'train')], early_stopping_rounds=20, verbose_eval=False\n",
    "    # )\n",
    "    model = xgboost.train(\n",
    "        {\"objective\": 'binary:logistic', 'eval_metric': 'logloss'},\n",
    "        dtrain,\n",
    "        evals=[(dtest,'eval'), (dtrain,'train')],\n",
    "        verbose_eval=False)\n",
    "    return model"
   ]
  },
  {
   "cell_type": "code",
   "execution_count": 10,
   "id": "bd7ac9f1",
   "metadata": {
    "execution": {
     "iopub.execute_input": "2024-08-21T09:48:34.358464Z",
     "iopub.status.busy": "2024-08-21T09:48:34.358208Z",
     "iopub.status.idle": "2024-08-21T09:48:34.378647Z",
     "shell.execute_reply": "2024-08-21T09:48:34.378364Z"
    },
    "papermill": {
     "duration": 0.025454,
     "end_time": "2024-08-21T09:48:34.379803",
     "exception": false,
     "start_time": "2024-08-21T09:48:34.354349",
     "status": "completed"
    },
    "tags": []
   },
   "outputs": [],
   "source": [
    "xgb_forest = fit_xgboost(X_train, y_train, X_test, y_test, feature_names)\n",
    "xgb_forest.feature_names = feature_names"
   ]
  },
  {
   "cell_type": "code",
   "execution_count": 11,
   "id": "dcaa3020",
   "metadata": {
    "execution": {
     "iopub.execute_input": "2024-08-21T09:48:34.383380Z",
     "iopub.status.busy": "2024-08-21T09:48:34.383230Z",
     "iopub.status.idle": "2024-08-21T09:48:34.385260Z",
     "shell.execute_reply": "2024-08-21T09:48:34.384996Z"
    },
    "papermill": {
     "duration": 0.004784,
     "end_time": "2024-08-21T09:48:34.386082",
     "exception": false,
     "start_time": "2024-08-21T09:48:34.381298",
     "status": "completed"
    },
    "tags": []
   },
   "outputs": [],
   "source": [
    "def get_acc(model, samples, labels, feature_names=None):\n",
    "    predictions = (model.predict(xgboost.DMatrix(samples,\n",
    "                                                 feature_names=feature_names)) > 0.5).astype(int)\n",
    "    return (predictions == labels).sum() / predictions.shape[0]"
   ]
  },
  {
   "cell_type": "code",
   "execution_count": 12,
   "id": "7ce6b380",
   "metadata": {
    "execution": {
     "iopub.execute_input": "2024-08-21T09:48:34.389310Z",
     "iopub.status.busy": "2024-08-21T09:48:34.389203Z",
     "iopub.status.idle": "2024-08-21T09:48:34.392406Z",
     "shell.execute_reply": "2024-08-21T09:48:34.392140Z"
    },
    "papermill": {
     "duration": 0.005545,
     "end_time": "2024-08-21T09:48:34.393116",
     "exception": false,
     "start_time": "2024-08-21T09:48:34.387571",
     "status": "completed"
    },
    "tags": []
   },
   "outputs": [
    {
     "name": "stdout",
     "output_type": "stream",
     "text": [
      "Train score: 0.8871465906391067\n",
      "Test score: 0.8603988603988604\n"
     ]
    }
   ],
   "source": [
    "print('Train score:', get_acc(xgb_forest, X_train, y_train, feature_names))\n",
    "print('Test score:', get_acc(xgb_forest, X_test, y_test, feature_names))"
   ]
  },
  {
   "cell_type": "code",
   "execution_count": 13,
   "id": "97a1d2b0",
   "metadata": {
    "execution": {
     "iopub.execute_input": "2024-08-21T09:48:34.396099Z",
     "iopub.status.busy": "2024-08-21T09:48:34.396003Z",
     "iopub.status.idle": "2024-08-21T09:48:34.651064Z",
     "shell.execute_reply": "2024-08-21T09:48:34.650800Z"
    },
    "papermill": {
     "duration": 0.257574,
     "end_time": "2024-08-21T09:48:34.652033",
     "exception": false,
     "start_time": "2024-08-21T09:48:34.394459",
     "status": "completed"
    },
    "tags": []
   },
   "outputs": [],
   "source": [
    "import shap\n",
    "import pandas as pd\n",
    "explainer = shap.Explainer(xgb_forest)\n",
    "\n",
    "shap_values = explainer(pd.DataFrame(X_test, columns=feature_names))\n"
   ]
  },
  {
   "cell_type": "code",
   "execution_count": 14,
   "id": "8e7a54a8",
   "metadata": {
    "execution": {
     "iopub.execute_input": "2024-08-21T09:48:34.655355Z",
     "iopub.status.busy": "2024-08-21T09:48:34.655203Z",
     "iopub.status.idle": "2024-08-21T09:48:35.041638Z",
     "shell.execute_reply": "2024-08-21T09:48:35.041353Z"
    },
    "papermill": {
     "duration": 0.389362,
     "end_time": "2024-08-21T09:48:35.042874",
     "exception": false,
     "start_time": "2024-08-21T09:48:34.653512",
     "status": "completed"
    },
    "tags": []
   },
   "outputs": [
    {
     "data": {
      "image/png": "[encoded data removed]",
      "text/plain": [
       "<Figure size 400x200 with 2 Axes>"
      ]
     },
     "metadata": {},
     "output_type": "display_data"
    }
   ],
   "source": [
    "# Beeswarm plot\n",
    "\n",
    "shap.plots.beeswarm(shap_values, show=False)\n",
    "fig = plt.gcf()\n",
    "fig.set_size_inches(4, 2, forward=True)\n",
    "if save_figures: plt.savefig(\n",
    "    f'../{path_transport_graphics}/logitics_data_on_customer_profile_{comparison_dict[comparison_id][0]} and customer_profile_{comparison_dict[comparison_id][1]}-shap-value.{save_parms[\"format\"]}',\n",
    "    **save_parms\n",
    "    )\n",
    "plt.show()"
   ]
  }
 ],
 "metadata": {
  "kernelspec": {
   "display_name": "Python 3.7.11 ('py37')",
   "language": "python",
   "name": "python3"
  },
  "language_info": {
   "codemirror_mode": {
    "name": "ipython",
    "version": 3
   },
   "file_extension": ".py",
   "mimetype": "text/x-python",
   "name": "python",
   "nbconvert_exporter": "python",
   "pygments_lexer": "ipython3",
   "version": "3.12.0"
  },
  "papermill": {
   "default_parameters": {},
   "duration": 3.29054,
   "end_time": "2024-08-21T09:48:35.470553",
   "environment_variables": {},
   "exception": null,
   "input_path": "experiment_baseline.ipynb",
   "output_path": "./Results_Experiments/Set_sim_weeks_to_2/experiment_baseline_1.ipynb",
   "parameters": {
    "comparison_id": 0
   },
   "start_time": "2024-08-21T09:48:32.180013",
   "version": "2.6.0"
  },
  "vscode": {
   "interpreter": {
    "hash": "5ab0220f0ca30ec7bac8a7e209564eceae6d15412b9f87f3c2f91206aa8b151c"
   }
  }
 },
 "nbformat": 4,
 "nbformat_minor": 5
}