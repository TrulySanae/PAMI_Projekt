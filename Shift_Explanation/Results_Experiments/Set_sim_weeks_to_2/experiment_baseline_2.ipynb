{
 "cells": [
  {
   "cell_type": "code",
   "execution_count": 1,
   "id": "d05cab18",
   "metadata": {
    "execution": {
     "iopub.execute_input": "2024-08-21T09:48:36.142108Z",
     "iopub.status.busy": "2024-08-21T09:48:36.141757Z",
     "iopub.status.idle": "2024-08-21T09:48:37.125613Z",
     "shell.execute_reply": "2024-08-21T09:48:37.125319Z"
    },
    "papermill": {
     "duration": 1.000933,
     "end_time": "2024-08-21T09:48:37.134352",
     "exception": false,
     "start_time": "2024-08-21T09:48:36.133419",
     "status": "completed"
    },
    "tags": []
   },
   "outputs": [],
   "source": [
    "import matplotlib.pyplot as plt\n",
    "import numpy as np\n",
    "import pandas as pd\n",
    "from pathlib import Path\n",
    "import seaborn as sn\n"
   ]
  },
  {
   "cell_type": "code",
   "execution_count": 2,
   "id": "d6302d10",
   "metadata": {
    "execution": {
     "iopub.execute_input": "2024-08-21T09:48:37.140154Z",
     "iopub.status.busy": "2024-08-21T09:48:37.139972Z",
     "iopub.status.idle": "2024-08-21T09:48:37.142868Z",
     "shell.execute_reply": "2024-08-21T09:48:37.142647Z"
    },
    "papermill": {
     "duration": 0.005588,
     "end_time": "2024-08-21T09:48:37.143703",
     "exception": false,
     "start_time": "2024-08-21T09:48:37.138115",
     "status": "completed"
    },
    "tags": []
   },
   "outputs": [],
   "source": [
    "# Setting so that the plots look normal even when using dark-reader\n",
    "sn.set_style(\"whitegrid\")\n",
    "sn.set_context(context=\"paper\", font_scale=2)\n",
    "pal = sn.color_palette(\"Set1\")\n",
    "\n",
    "# Setting up specifics for plotting + saving\n",
    "save_figures = True\n",
    "add_legend = False\n",
    "add_title = False\n",
    "add_axis = False\n",
    "save_parms = {'format': 'pdf','bbox_inches':'tight', 'pad_inches':0.1}\n",
    "line_parms = {'linewidth':4, 'color':'k'}\n",
    "if save_figures:  # saves all figures in a figure directory in the local directory\n",
    "    figure_dir = Path('.') / 'figures' / 'adult-income-experiment'\n",
    "    if not figure_dir.exists():\n",
    "        figure_dir.mkdir(parents=True)"
   ]
  },
  {
   "cell_type": "code",
   "execution_count": 3,
   "id": "22d1d0e0",
   "metadata": {
    "execution": {
     "iopub.execute_input": "2024-08-21T09:48:37.147134Z",
     "iopub.status.busy": "2024-08-21T09:48:37.146994Z",
     "iopub.status.idle": "2024-08-21T09:48:37.148892Z",
     "shell.execute_reply": "2024-08-21T09:48:37.148609Z"
    },
    "papermill": {
     "duration": 0.004666,
     "end_time": "2024-08-21T09:48:37.149771",
     "exception": false,
     "start_time": "2024-08-21T09:48:37.145105",
     "status": "completed"
    },
    "tags": []
   },
   "outputs": [],
   "source": [
    "# Experiment hyperparamters\n",
    "rng = np.random.RandomState(42)\n",
    "split_on_income = False  # if True: src := income>=50k, tgt :+ income<50k, if False: src := male, tgt := female\n",
    "n_samples = 1000"
   ]
  },
  {
   "cell_type": "code",
   "execution_count": 4,
   "id": "48ff09ec",
   "metadata": {
    "execution": {
     "iopub.execute_input": "2024-08-21T09:48:37.153824Z",
     "iopub.status.busy": "2024-08-21T09:48:37.153655Z",
     "iopub.status.idle": "2024-08-21T09:48:37.158470Z",
     "shell.execute_reply": "2024-08-21T09:48:37.157805Z"
    },
    "papermill": {
     "duration": 0.008265,
     "end_time": "2024-08-21T09:48:37.159677",
     "exception": false,
     "start_time": "2024-08-21T09:48:37.151412",
     "status": "completed"
    },
    "tags": [
     "parameters"
    ]
   },
   "outputs": [],
   "source": [
    "comparison_id = None"
   ]
  },
  {
   "cell_type": "code",
   "execution_count": 5,
   "id": "87d7b120",
   "metadata": {
    "execution": {
     "iopub.execute_input": "2024-08-21T09:48:37.163008Z",
     "iopub.status.busy": "2024-08-21T09:48:37.162836Z",
     "iopub.status.idle": "2024-08-21T09:48:37.164755Z",
     "shell.execute_reply": "2024-08-21T09:48:37.164476Z"
    },
    "papermill": {
     "duration": 0.004452,
     "end_time": "2024-08-21T09:48:37.165566",
     "exception": false,
     "start_time": "2024-08-21T09:48:37.161114",
     "status": "completed"
    },
    "tags": [
     "injected-parameters"
    ]
   },
   "outputs": [],
   "source": [
    "# Parameters\n",
    "comparison_id = 1\n"
   ]
  },
  {
   "cell_type": "code",
   "execution_count": 6,
   "id": "dade2b7e",
   "metadata": {
    "execution": {
     "iopub.execute_input": "2024-08-21T09:48:37.168916Z",
     "iopub.status.busy": "2024-08-21T09:48:37.168754Z",
     "iopub.status.idle": "2024-08-21T09:48:37.175298Z",
     "shell.execute_reply": "2024-08-21T09:48:37.175067Z"
    },
    "papermill": {
     "duration": 0.009125,
     "end_time": "2024-08-21T09:48:37.176114",
     "exception": false,
     "start_time": "2024-08-21T09:48:37.166989",
     "status": "completed"
    },
    "tags": []
   },
   "outputs": [
    {
     "name": "stdout",
     "output_type": "stream",
     "text": [
      "['Customer_id', 'Connection', 'Weight', 'Unit_type', 'Day', 'Week']\n"
     ]
    }
   ],
   "source": [
    "\n",
    "# Load the data\n",
    "comparison_dict = {0: [0,1], 1: [2,3], 2: [4,5]}\n",
    "path_customer_profiles = open('./Results_Experiments/File_Paths/path_customer_profiles.txt','r').read()\n",
    "path_transport_graphics = open('./Results_Experiments/File_Paths/path_transport_graphics.txt','r').read()\n",
    "source = pd.read_csv(f'../{path_customer_profiles}/customer_profile_{comparison_dict[comparison_id][0]}.csv')\n",
    "target = pd.read_csv(f'../{path_customer_profiles}/customer_profile_{comparison_dict[comparison_id][1]}.csv')\n",
    "\n",
    "feature_names = source.columns.values\n",
    "feature_names = list(feature_names)\n",
    "print(feature_names)"
   ]
  },
  {
   "cell_type": "code",
   "execution_count": 7,
   "id": "296df3b5",
   "metadata": {
    "execution": {
     "iopub.execute_input": "2024-08-21T09:48:37.179178Z",
     "iopub.status.busy": "2024-08-21T09:48:37.179080Z",
     "iopub.status.idle": "2024-08-21T09:48:37.211551Z",
     "shell.execute_reply": "2024-08-21T09:48:37.211298Z"
    },
    "papermill": {
     "duration": 0.03496,
     "end_time": "2024-08-21T09:48:37.212462",
     "exception": false,
     "start_time": "2024-08-21T09:48:37.177502",
     "status": "completed"
    },
    "tags": []
   },
   "outputs": [],
   "source": [
    "# standardize the source and target data, and convert to domain labels\n",
    "from sklearn.preprocessing import StandardScaler\n",
    "X = np.concatenate((source, target), axis=0)\n",
    "# standardize X to remove cardinatlity bias\n",
    "X = StandardScaler().fit_transform(X)\n",
    "y = np.concatenate((np.zeros(source.shape[0]),\n",
    "                    np.ones(target.shape[0])), axis=0)  # domain labels"
   ]
  },
  {
   "cell_type": "code",
   "execution_count": 8,
   "id": "c5422e1f",
   "metadata": {
    "execution": {
     "iopub.execute_input": "2024-08-21T09:48:37.215576Z",
     "iopub.status.busy": "2024-08-21T09:48:37.215433Z",
     "iopub.status.idle": "2024-08-21T09:48:37.268490Z",
     "shell.execute_reply": "2024-08-21T09:48:37.268231Z"
    },
    "papermill": {
     "duration": 0.055629,
     "end_time": "2024-08-21T09:48:37.269434",
     "exception": false,
     "start_time": "2024-08-21T09:48:37.213805",
     "status": "completed"
    },
    "tags": []
   },
   "outputs": [],
   "source": [
    "from sklearn.datasets import make_classification\n",
    "from sklearn.model_selection import train_test_split\n",
    "\n",
    "X_train, X_test, y_train, y_test = train_test_split(X, y,\n",
    "                                     stratify=y, random_state=42)"
   ]
  },
  {
   "cell_type": "code",
   "execution_count": 9,
   "id": "5d9ba299",
   "metadata": {
    "execution": {
     "iopub.execute_input": "2024-08-21T09:48:37.272741Z",
     "iopub.status.busy": "2024-08-21T09:48:37.272582Z",
     "iopub.status.idle": "2024-08-21T09:48:37.289324Z",
     "shell.execute_reply": "2024-08-21T09:48:37.288916Z"
    },
    "papermill": {
     "duration": 0.019642,
     "end_time": "2024-08-21T09:48:37.290541",
     "exception": false,
     "start_time": "2024-08-21T09:48:37.270899",
     "status": "completed"
    },
    "tags": []
   },
   "outputs": [],
   "source": [
    "# Using XGBoost\n",
    "import xgboost\n",
    "\n",
    "def fit_xgboost(X_train, y_train, X_test, y_test, feature_names=None):\n",
    "    \"\"\" Train an XGBoost model with early stopping.\n",
    "    \"\"\"\n",
    "    dtrain = xgboost.DMatrix(X_train, label=y_train, feature_names=feature_names)\n",
    "    dtest = xgboost.DMatrix(X_test, label=y_test, feature_names=feature_names)\n",
    "    # model = xgboost.train(\n",
    "    #     { \"eta\": 0.001, \"subsample\": 0.5, \"max_depth\": 2,\n",
    "    #       \"objective\": 'binary:logistic', 'eval_metric': 'logloss'}, dtrain, num_boost_round=200000,\n",
    "    #     evals=[(dtest,'eval'), (dtrain,'train')], early_stopping_rounds=20, verbose_eval=False\n",
    "    # )\n",
    "    model = xgboost.train(\n",
    "        {\"objective\": 'binary:logistic', 'eval_metric': 'logloss'},\n",
    "        dtrain,\n",
    "        evals=[(dtest,'eval'), (dtrain,'train')],\n",
    "        verbose_eval=False)\n",
    "    return model"
   ]
  },
  {
   "cell_type": "code",
   "execution_count": 10,
   "id": "bd7ac9f1",
   "metadata": {
    "execution": {
     "iopub.execute_input": "2024-08-21T09:48:37.294536Z",
     "iopub.status.busy": "2024-08-21T09:48:37.294383Z",
     "iopub.status.idle": "2024-08-21T09:48:37.318005Z",
     "shell.execute_reply": "2024-08-21T09:48:37.317710Z"
    },
    "papermill": {
     "duration": 0.026903,
     "end_time": "2024-08-21T09:48:37.319067",
     "exception": false,
     "start_time": "2024-08-21T09:48:37.292164",
     "status": "completed"
    },
    "tags": []
   },
   "outputs": [],
   "source": [
    "xgb_forest = fit_xgboost(X_train, y_train, X_test, y_test, feature_names)\n",
    "xgb_forest.feature_names = feature_names"
   ]
  },
  {
   "cell_type": "code",
   "execution_count": 11,
   "id": "dcaa3020",
   "metadata": {
    "execution": {
     "iopub.execute_input": "2024-08-21T09:48:37.322253Z",
     "iopub.status.busy": "2024-08-21T09:48:37.322141Z",
     "iopub.status.idle": "2024-08-21T09:48:37.323974Z",
     "shell.execute_reply": "2024-08-21T09:48:37.323742Z"
    },
    "papermill": {
     "duration": 0.00416,
     "end_time": "2024-08-21T09:48:37.324693",
     "exception": false,
     "start_time": "2024-08-21T09:48:37.320533",
     "status": "completed"
    },
    "tags": []
   },
   "outputs": [],
   "source": [
    "def get_acc(model, samples, labels, feature_names=None):\n",
    "    predictions = (model.predict(xgboost.DMatrix(samples,\n",
    "                                                 feature_names=feature_names)) > 0.5).astype(int)\n",
    "    return (predictions == labels).sum() / predictions.shape[0]"
   ]
  },
  {
   "cell_type": "code",
   "execution_count": 12,
   "id": "7ce6b380",
   "metadata": {
    "execution": {
     "iopub.execute_input": "2024-08-21T09:48:37.327512Z",
     "iopub.status.busy": "2024-08-21T09:48:37.327414Z",
     "iopub.status.idle": "2024-08-21T09:48:37.330599Z",
     "shell.execute_reply": "2024-08-21T09:48:37.330343Z"
    },
    "papermill": {
     "duration": 0.005429,
     "end_time": "2024-08-21T09:48:37.331285",
     "exception": false,
     "start_time": "2024-08-21T09:48:37.325856",
     "status": "completed"
    },
    "tags": []
   },
   "outputs": [
    {
     "name": "stdout",
     "output_type": "stream",
     "text": [
      "Train score: 0.907411907654921\n",
      "Test score: 0.8819241982507289\n"
     ]
    }
   ],
   "source": [
    "print('Train score:', get_acc(xgb_forest, X_train, y_train, feature_names))\n",
    "print('Test score:', get_acc(xgb_forest, X_test, y_test, feature_names))"
   ]
  },
  {
   "cell_type": "code",
   "execution_count": 13,
   "id": "97a1d2b0",
   "metadata": {
    "execution": {
     "iopub.execute_input": "2024-08-21T09:48:37.334337Z",
     "iopub.status.busy": "2024-08-21T09:48:37.334239Z",
     "iopub.status.idle": "2024-08-21T09:48:37.590729Z",
     "shell.execute_reply": "2024-08-21T09:48:37.590341Z"
    },
    "papermill": {
     "duration": 0.259127,
     "end_time": "2024-08-21T09:48:37.591768",
     "exception": false,
     "start_time": "2024-08-21T09:48:37.332641",
     "status": "completed"
    },
    "tags": []
   },
   "outputs": [],
   "source": [
    "import shap\n",
    "import pandas as pd\n",
    "explainer = shap.Explainer(xgb_forest)\n",
    "\n",
    "shap_values = explainer(pd.DataFrame(X_test, columns=feature_names))\n"
   ]
  },
  {
   "cell_type": "code",
   "execution_count": 14,
   "id": "8e7a54a8",
   "metadata": {
    "execution": {
     "iopub.execute_input": "2024-08-21T09:48:37.595298Z",
     "iopub.status.busy": "2024-08-21T09:48:37.595031Z",
     "iopub.status.idle": "2024-08-21T09:48:38.011464Z",
     "shell.execute_reply": "2024-08-21T09:48:38.011207Z"
    },
    "papermill": {
     "duration": 0.419174,
     "end_time": "2024-08-21T09:48:38.012457",
     "exception": false,
     "start_time": "2024-08-21T09:48:37.593283",
     "status": "completed"
    },
    "tags": []
   },
   "outputs": [
    {
     "data": {
      "image/png": "[encoded data removed]",
      "text/plain": [
       "<Figure size 400x200 with 2 Axes>"
      ]
     },
     "metadata": {},
     "output_type": "display_data"
    }
   ],
   "source": [
    "# Beeswarm plot\n",
    "\n",
    "shap.plots.beeswarm(shap_values, show=False)\n",
    "fig = plt.gcf()\n",
    "fig.set_size_inches(4, 2, forward=True)\n",
    "if save_figures: plt.savefig(\n",
    "    f'../{path_transport_graphics}/logitics_data_on_customer_profile_{comparison_dict[comparison_id][0]} and customer_profile_{comparison_dict[comparison_id][1]}-shap-value.{save_parms[\"format\"]}',\n",
    "    **save_parms\n",
    "    )\n",
    "plt.show()"
   ]
  }
 ],
 "metadata": {
  "kernelspec": {
   "display_name": "Python 3.7.11 ('py37')",
   "language": "python",
   "name": "python3"
  },
  "language_info": {
   "codemirror_mode": {
    "name": "ipython",
    "version": 3
   },
   "file_extension": ".py",
   "mimetype": "text/x-python",
   "name": "python",
   "nbconvert_exporter": "python",
   "pygments_lexer": "ipython3",
   "version": "3.12.0"
  },
  "papermill": {
   "default_parameters": {},
   "duration": 2.85532,
   "end_time": "2024-08-21T09:48:38.331333",
   "environment_variables": {},
   "exception": null,
   "input_path": "experiment_baseline.ipynb",
   "output_path": "./Results_Experiments/Set_sim_weeks_to_2/experiment_baseline_2.ipynb",
   "parameters": {
    "comparison_id": 1
   },
   "start_time": "2024-08-21T09:48:35.476013",
   "version": "2.6.0"
  },
  "vscode": {
   "interpreter": {
    "hash": "5ab0220f0ca30ec7bac8a7e209564eceae6d15412b9f87f3c2f91206aa8b151c"
   }
  }
 },
 "nbformat": 4,
 "nbformat_minor": 5
}