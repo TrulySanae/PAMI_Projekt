{
 "cells": [
  {
   "cell_type": "code",
   "execution_count": 1,
   "id": "d05cab18",
   "metadata": {
    "execution": {
     "iopub.execute_input": "2024-08-21T09:48:38.895123Z",
     "iopub.status.busy": "2024-08-21T09:48:38.894790Z",
     "iopub.status.idle": "2024-08-21T09:48:39.884189Z",
     "shell.execute_reply": "2024-08-21T09:48:39.883880Z"
    },
    "papermill": {
     "duration": 0.997861,
     "end_time": "2024-08-21T09:48:39.886814",
     "exception": false,
     "start_time": "2024-08-21T09:48:38.888953",
     "status": "completed"
    },
    "tags": []
   },
   "outputs": [],
   "source": [
    "import matplotlib.pyplot as plt\n",
    "import numpy as np\n",
    "import pandas as pd\n",
    "from pathlib import Path\n",
    "import seaborn as sn\n"
   ]
  },
  {
   "cell_type": "code",
   "execution_count": 2,
   "id": "d6302d10",
   "metadata": {
    "execution": {
     "iopub.execute_input": "2024-08-21T09:48:39.892276Z",
     "iopub.status.busy": "2024-08-21T09:48:39.891975Z",
     "iopub.status.idle": "2024-08-21T09:48:39.895545Z",
     "shell.execute_reply": "2024-08-21T09:48:39.895249Z"
    },
    "papermill": {
     "duration": 0.007278,
     "end_time": "2024-08-21T09:48:39.896427",
     "exception": false,
     "start_time": "2024-08-21T09:48:39.889149",
     "status": "completed"
    },
    "tags": []
   },
   "outputs": [],
   "source": [
    "# Setting so that the plots look normal even when using dark-reader\n",
    "sn.set_style(\"whitegrid\")\n",
    "sn.set_context(context=\"paper\", font_scale=2)\n",
    "pal = sn.color_palette(\"Set1\")\n",
    "\n",
    "# Setting up specifics for plotting + saving\n",
    "save_figures = True\n",
    "add_legend = False\n",
    "add_title = False\n",
    "add_axis = False\n",
    "save_parms = {'format': 'pdf','bbox_inches':'tight', 'pad_inches':0.1}\n",
    "line_parms = {'linewidth':4, 'color':'k'}\n",
    "if save_figures:  # saves all figures in a figure directory in the local directory\n",
    "    figure_dir = Path('.') / 'figures' / 'adult-income-experiment'\n",
    "    if not figure_dir.exists():\n",
    "        figure_dir.mkdir(parents=True)"
   ]
  },
  {
   "cell_type": "code",
   "execution_count": 3,
   "id": "22d1d0e0",
   "metadata": {
    "execution": {
     "iopub.execute_input": "2024-08-21T09:48:39.899619Z",
     "iopub.status.busy": "2024-08-21T09:48:39.899502Z",
     "iopub.status.idle": "2024-08-21T09:48:39.901665Z",
     "shell.execute_reply": "2024-08-21T09:48:39.901401Z"
    },
    "papermill": {
     "duration": 0.006197,
     "end_time": "2024-08-21T09:48:39.904120",
     "exception": false,
     "start_time": "2024-08-21T09:48:39.897923",
     "status": "completed"
    },
    "tags": []
   },
   "outputs": [],
   "source": [
    "# Experiment hyperparamters\n",
    "rng = np.random.RandomState(42)\n",
    "split_on_income = False  # if True: src := income>=50k, tgt :+ income<50k, if False: src := male, tgt := female\n",
    "n_samples = 1000"
   ]
  },
  {
   "cell_type": "code",
   "execution_count": 4,
   "id": "48ff09ec",
   "metadata": {
    "execution": {
     "iopub.execute_input": "2024-08-21T09:48:39.910963Z",
     "iopub.status.busy": "2024-08-21T09:48:39.910703Z",
     "iopub.status.idle": "2024-08-21T09:48:39.912554Z",
     "shell.execute_reply": "2024-08-21T09:48:39.912297Z"
    },
    "papermill": {
     "duration": 0.007472,
     "end_time": "2024-08-21T09:48:39.913407",
     "exception": false,
     "start_time": "2024-08-21T09:48:39.905935",
     "status": "completed"
    },
    "tags": [
     "parameters"
    ]
   },
   "outputs": [],
   "source": [
    "comparison_id = None"
   ]
  },
  {
   "cell_type": "code",
   "execution_count": 5,
   "id": "0ec63c40",
   "metadata": {
    "execution": {
     "iopub.execute_input": "2024-08-21T09:48:39.920356Z",
     "iopub.status.busy": "2024-08-21T09:48:39.919968Z",
     "iopub.status.idle": "2024-08-21T09:48:39.922333Z",
     "shell.execute_reply": "2024-08-21T09:48:39.921984Z"
    },
    "papermill": {
     "duration": 0.007636,
     "end_time": "2024-08-21T09:48:39.923776",
     "exception": false,
     "start_time": "2024-08-21T09:48:39.916140",
     "status": "completed"
    },
    "tags": [
     "injected-parameters"
    ]
   },
   "outputs": [],
   "source": [
    "# Parameters\n",
    "comparison_id = 2\n"
   ]
  },
  {
   "cell_type": "code",
   "execution_count": 6,
   "id": "dade2b7e",
   "metadata": {
    "execution": {
     "iopub.execute_input": "2024-08-21T09:48:39.928901Z",
     "iopub.status.busy": "2024-08-21T09:48:39.928489Z",
     "iopub.status.idle": "2024-08-21T09:48:39.953340Z",
     "shell.execute_reply": "2024-08-21T09:48:39.953000Z"
    },
    "papermill": {
     "duration": 0.027883,
     "end_time": "2024-08-21T09:48:39.954161",
     "exception": false,
     "start_time": "2024-08-21T09:48:39.926278",
     "status": "completed"
    },
    "tags": []
   },
   "outputs": [
    {
     "name": "stdout",
     "output_type": "stream",
     "text": [
      "['Customer_id', 'Connection', 'Weight', 'Unit_type', 'Day', 'Week']\n"
     ]
    }
   ],
   "source": [
    "\n",
    "# Load the data\n",
    "comparison_dict = {0: [0,1], 1: [2,3], 2: [4,5]}\n",
    "path_customer_profiles = open('./Results_Experiments/File_Paths/path_customer_profiles.txt','r').read()\n",
    "path_transport_graphics = open('./Results_Experiments/File_Paths/path_transport_graphics.txt','r').read()\n",
    "source = pd.read_csv(f'../{path_customer_profiles}/customer_profile_{comparison_dict[comparison_id][0]}.csv')\n",
    "target = pd.read_csv(f'../{path_customer_profiles}/customer_profile_{comparison_dict[comparison_id][1]}.csv')\n",
    "\n",
    "feature_names = source.columns.values\n",
    "feature_names = list(feature_names)\n",
    "print(feature_names)"
   ]
  },
  {
   "cell_type": "code",
   "execution_count": 7,
   "id": "296df3b5",
   "metadata": {
    "execution": {
     "iopub.execute_input": "2024-08-21T09:48:39.957417Z",
     "iopub.status.busy": "2024-08-21T09:48:39.957309Z",
     "iopub.status.idle": "2024-08-21T09:48:40.003283Z",
     "shell.execute_reply": "2024-08-21T09:48:40.002991Z"
    },
    "papermill": {
     "duration": 0.04874,
     "end_time": "2024-08-21T09:48:40.004423",
     "exception": false,
     "start_time": "2024-08-21T09:48:39.955683",
     "status": "completed"
    },
    "tags": []
   },
   "outputs": [],
   "source": [
    "# standardize the source and target data, and convert to domain labels\n",
    "from sklearn.preprocessing import StandardScaler\n",
    "X = np.concatenate((source, target), axis=0)\n",
    "# standardize X to remove cardinatlity bias\n",
    "X = StandardScaler().fit_transform(X)\n",
    "y = np.concatenate((np.zeros(source.shape[0]),\n",
    "                    np.ones(target.shape[0])), axis=0)  # domain labels"
   ]
  },
  {
   "cell_type": "code",
   "execution_count": 8,
   "id": "c5422e1f",
   "metadata": {
    "execution": {
     "iopub.execute_input": "2024-08-21T09:48:40.008059Z",
     "iopub.status.busy": "2024-08-21T09:48:40.007889Z",
     "iopub.status.idle": "2024-08-21T09:48:40.065244Z",
     "shell.execute_reply": "2024-08-21T09:48:40.064961Z"
    },
    "papermill": {
     "duration": 0.060157,
     "end_time": "2024-08-21T09:48:40.066182",
     "exception": false,
     "start_time": "2024-08-21T09:48:40.006025",
     "status": "completed"
    },
    "tags": []
   },
   "outputs": [],
   "source": [
    "from sklearn.datasets import make_classification\n",
    "from sklearn.model_selection import train_test_split\n",
    "\n",
    "X_train, X_test, y_train, y_test = train_test_split(X, y,\n",
    "                                     stratify=y, random_state=42)"
   ]
  },
  {
   "cell_type": "code",
   "execution_count": 9,
   "id": "5d9ba299",
   "metadata": {
    "execution": {
     "iopub.execute_input": "2024-08-21T09:48:40.069365Z",
     "iopub.status.busy": "2024-08-21T09:48:40.069214Z",
     "iopub.status.idle": "2024-08-21T09:48:40.084836Z",
     "shell.execute_reply": "2024-08-21T09:48:40.084554Z"
    },
    "papermill": {
     "duration": 0.018297,
     "end_time": "2024-08-21T09:48:40.085872",
     "exception": false,
     "start_time": "2024-08-21T09:48:40.067575",
     "status": "completed"
    },
    "tags": []
   },
   "outputs": [],
   "source": [
    "# Using XGBoost\n",
    "import xgboost\n",
    "\n",
    "def fit_xgboost(X_train, y_train, X_test, y_test, feature_names=None):\n",
    "    \"\"\" Train an XGBoost model with early stopping.\n",
    "    \"\"\"\n",
    "    dtrain = xgboost.DMatrix(X_train, label=y_train, feature_names=feature_names)\n",
    "    dtest = xgboost.DMatrix(X_test, label=y_test, feature_names=feature_names)\n",
    "    # model = xgboost.train(\n",
    "    #     { \"eta\": 0.001, \"subsample\": 0.5, \"max_depth\": 2,\n",
    "    #       \"objective\": 'binary:logistic', 'eval_metric': 'logloss'}, dtrain, num_boost_round=200000,\n",
    "    #     evals=[(dtest,'eval'), (dtrain,'train')], early_stopping_rounds=20, verbose_eval=False\n",
    "    # )\n",
    "    model = xgboost.train(\n",
    "        {\"objective\": 'binary:logistic', 'eval_metric': 'logloss'},\n",
    "        dtrain,\n",
    "        evals=[(dtest,'eval'), (dtrain,'train')],\n",
    "        verbose_eval=False)\n",
    "    return model"
   ]
  },
  {
   "cell_type": "code",
   "execution_count": 10,
   "id": "bd7ac9f1",
   "metadata": {
    "execution": {
     "iopub.execute_input": "2024-08-21T09:48:40.089258Z",
     "iopub.status.busy": "2024-08-21T09:48:40.089102Z",
     "iopub.status.idle": "2024-08-21T09:48:40.107006Z",
     "shell.execute_reply": "2024-08-21T09:48:40.106677Z"
    },
    "papermill": {
     "duration": 0.020682,
     "end_time": "2024-08-21T09:48:40.108028",
     "exception": false,
     "start_time": "2024-08-21T09:48:40.087346",
     "status": "completed"
    },
    "tags": []
   },
   "outputs": [],
   "source": [
    "xgb_forest = fit_xgboost(X_train, y_train, X_test, y_test, feature_names)\n",
    "xgb_forest.feature_names = feature_names"
   ]
  },
  {
   "cell_type": "code",
   "execution_count": 11,
   "id": "dcaa3020",
   "metadata": {
    "execution": {
     "iopub.execute_input": "2024-08-21T09:48:40.111263Z",
     "iopub.status.busy": "2024-08-21T09:48:40.111154Z",
     "iopub.status.idle": "2024-08-21T09:48:40.112941Z",
     "shell.execute_reply": "2024-08-21T09:48:40.112714Z"
    },
    "papermill": {
     "duration": 0.004189,
     "end_time": "2024-08-21T09:48:40.113682",
     "exception": false,
     "start_time": "2024-08-21T09:48:40.109493",
     "status": "completed"
    },
    "tags": []
   },
   "outputs": [],
   "source": [
    "def get_acc(model, samples, labels, feature_names=None):\n",
    "    predictions = (model.predict(xgboost.DMatrix(samples,\n",
    "                                                 feature_names=feature_names)) > 0.5).astype(int)\n",
    "    return (predictions == labels).sum() / predictions.shape[0]"
   ]
  },
  {
   "cell_type": "code",
   "execution_count": 12,
   "id": "7ce6b380",
   "metadata": {
    "execution": {
     "iopub.execute_input": "2024-08-21T09:48:40.116741Z",
     "iopub.status.busy": "2024-08-21T09:48:40.116631Z",
     "iopub.status.idle": "2024-08-21T09:48:40.119785Z",
     "shell.execute_reply": "2024-08-21T09:48:40.119497Z"
    },
    "papermill": {
     "duration": 0.005506,
     "end_time": "2024-08-21T09:48:40.120567",
     "exception": false,
     "start_time": "2024-08-21T09:48:40.115061",
     "status": "completed"
    },
    "tags": []
   },
   "outputs": [
    {
     "name": "stdout",
     "output_type": "stream",
     "text": [
      "Train score: 0.9248728617660656\n",
      "Test score: 0.8884268884268884\n"
     ]
    }
   ],
   "source": [
    "print('Train score:', get_acc(xgb_forest, X_train, y_train, feature_names))\n",
    "print('Test score:', get_acc(xgb_forest, X_test, y_test, feature_names))"
   ]
  },
  {
   "cell_type": "code",
   "execution_count": 13,
   "id": "97a1d2b0",
   "metadata": {
    "execution": {
     "iopub.execute_input": "2024-08-21T09:48:40.126408Z",
     "iopub.status.busy": "2024-08-21T09:48:40.126182Z",
     "iopub.status.idle": "2024-08-21T09:48:40.404523Z",
     "shell.execute_reply": "2024-08-21T09:48:40.404234Z"
    },
    "papermill": {
     "duration": 0.282796,
     "end_time": "2024-08-21T09:48:40.405480",
     "exception": false,
     "start_time": "2024-08-21T09:48:40.122684",
     "status": "completed"
    },
    "tags": []
   },
   "outputs": [],
   "source": [
    "import shap\n",
    "import pandas as pd\n",
    "explainer = shap.Explainer(xgb_forest)\n",
    "\n",
    "shap_values = explainer(pd.DataFrame(X_test, columns=feature_names))\n"
   ]
  },
  {
   "cell_type": "code",
   "execution_count": 14,
   "id": "8e7a54a8",
   "metadata": {
    "execution": {
     "iopub.execute_input": "2024-08-21T09:48:40.408653Z",
     "iopub.status.busy": "2024-08-21T09:48:40.408507Z",
     "iopub.status.idle": "2024-08-21T09:48:40.821875Z",
     "shell.execute_reply": "2024-08-21T09:48:40.821608Z"
    },
    "papermill": {
     "duration": 0.41599,
     "end_time": "2024-08-21T09:48:40.822884",
     "exception": false,
     "start_time": "2024-08-21T09:48:40.406894",
     "status": "completed"
    },
    "tags": []
   },
   "outputs": [
    {
     "data": {
      "image/png": "[encoded data removed]",
      "text/plain": [
       "<Figure size 400x200 with 2 Axes>"
      ]
     },
     "metadata": {},
     "output_type": "display_data"
    }
   ],
   "source": [
    "# Beeswarm plot\n",
    "\n",
    "shap.plots.beeswarm(shap_values, show=False)\n",
    "fig = plt.gcf()\n",
    "fig.set_size_inches(4, 2, forward=True)\n",
    "if save_figures: plt.savefig(\n",
    "    f'../{path_transport_graphics}/logitics_data_on_customer_profile_{comparison_dict[comparison_id][0]} and customer_profile_{comparison_dict[comparison_id][1]}-shap-value.{save_parms[\"format\"]}',\n",
    "    **save_parms\n",
    "    )\n",
    "plt.show()"
   ]
  }
 ],
 "metadata": {
  "kernelspec": {
   "display_name": "Python 3.7.11 ('py37')",
   "language": "python",
   "name": "python3"
  },
  "language_info": {
   "codemirror_mode": {
    "name": "ipython",
    "version": 3
   },
   "file_extension": ".py",
   "mimetype": "text/x-python",
   "name": "python",
   "nbconvert_exporter": "python",
   "pygments_lexer": "ipython3",
   "version": "3.12.0"
  },
  "papermill": {
   "default_parameters": {},
   "duration": 2.806061,
   "end_time": "2024-08-21T09:48:41.142570",
   "environment_variables": {},
   "exception": null,
   "input_path": "experiment_baseline.ipynb",
   "output_path": "./Results_Experiments/Set_sim_weeks_to_2/experiment_baseline_3.ipynb",
   "parameters": {
    "comparison_id": 2
   },
   "start_time": "2024-08-21T09:48:38.336509",
   "version": "2.6.0"
  },
  "vscode": {
   "interpreter": {
    "hash": "5ab0220f0ca30ec7bac8a7e209564eceae6d15412b9f87f3c2f91206aa8b151c"
   }
  }
 },
 "nbformat": 4,
 "nbformat_minor": 5
}