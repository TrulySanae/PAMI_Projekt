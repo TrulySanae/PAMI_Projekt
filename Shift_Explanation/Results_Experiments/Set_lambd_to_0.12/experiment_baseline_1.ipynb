{
 "cells": [
  {
   "cell_type": "code",
   "execution_count": 1,
   "id": "d05cab18",
   "metadata": {
    "execution": {
     "iopub.execute_input": "2024-08-21T12:10:12.706826Z",
     "iopub.status.busy": "2024-08-21T12:10:12.706515Z",
     "iopub.status.idle": "2024-08-21T12:10:13.530672Z",
     "shell.execute_reply": "2024-08-21T12:10:13.530313Z"
    },
    "papermill": {
     "duration": 0.833182,
     "end_time": "2024-08-21T12:10:13.531649",
     "exception": false,
     "start_time": "2024-08-21T12:10:12.698467",
     "status": "completed"
    },
    "tags": []
   },
   "outputs": [],
   "source": [
    "import matplotlib.pyplot as plt\n",
    "import numpy as np\n",
    "import pandas as pd\n",
    "from pathlib import Path\n",
    "import seaborn as sn\n",
    "from data_utils import load_and_preprocess_logistics_data"
   ]
  },
  {
   "cell_type": "code",
   "execution_count": 2,
   "id": "d6302d10",
   "metadata": {
    "execution": {
     "iopub.execute_input": "2024-08-21T12:10:13.534841Z",
     "iopub.status.busy": "2024-08-21T12:10:13.534690Z",
     "iopub.status.idle": "2024-08-21T12:10:13.537424Z",
     "shell.execute_reply": "2024-08-21T12:10:13.537184Z"
    },
    "papermill": {
     "duration": 0.00512,
     "end_time": "2024-08-21T12:10:13.538238",
     "exception": false,
     "start_time": "2024-08-21T12:10:13.533118",
     "status": "completed"
    },
    "tags": []
   },
   "outputs": [],
   "source": [
    "# Setting so that the plots look normal even when using dark-reader\n",
    "sn.set_style(\"whitegrid\")\n",
    "sn.set_context(context=\"paper\", font_scale=2)\n",
    "pal = sn.color_palette(\"Set1\")\n",
    "\n",
    "# Setting up specifics for plotting + saving\n",
    "save_figures = True\n",
    "add_legend = False\n",
    "add_title = False\n",
    "add_axis = False\n",
    "save_parms = {'format': 'pdf','bbox_inches':'tight', 'pad_inches':0.1}\n",
    "line_parms = {'linewidth':4, 'color':'k'}\n",
    "if save_figures:  # saves all figures in a figure directory in the local directory\n",
    "    figure_dir = Path('.') / 'figures' / 'adult-income-experiment'\n",
    "    if not figure_dir.exists():\n",
    "        figure_dir.mkdir(parents=True)"
   ]
  },
  {
   "cell_type": "code",
   "execution_count": 3,
   "id": "22d1d0e0",
   "metadata": {
    "execution": {
     "iopub.execute_input": "2024-08-21T12:10:13.541212Z",
     "iopub.status.busy": "2024-08-21T12:10:13.541110Z",
     "iopub.status.idle": "2024-08-21T12:10:13.542921Z",
     "shell.execute_reply": "2024-08-21T12:10:13.542695Z"
    },
    "papermill": {
     "duration": 0.004294,
     "end_time": "2024-08-21T12:10:13.543768",
     "exception": false,
     "start_time": "2024-08-21T12:10:13.539474",
     "status": "completed"
    },
    "tags": []
   },
   "outputs": [],
   "source": [
    "# Experiment hyperparamters\n",
    "rng = np.random.RandomState(42)\n",
    "split_on_income = False  # if True: src := income>=50k, tgt :+ income<50k, if False: src := male, tgt := female\n",
    "n_samples = 1000"
   ]
  },
  {
   "cell_type": "code",
   "execution_count": 4,
   "id": "48ff09ec",
   "metadata": {
    "execution": {
     "iopub.execute_input": "2024-08-21T12:10:13.547991Z",
     "iopub.status.busy": "2024-08-21T12:10:13.547848Z",
     "iopub.status.idle": "2024-08-21T12:10:13.549577Z",
     "shell.execute_reply": "2024-08-21T12:10:13.549346Z"
    },
    "papermill": {
     "duration": 0.005167,
     "end_time": "2024-08-21T12:10:13.550321",
     "exception": false,
     "start_time": "2024-08-21T12:10:13.545154",
     "status": "completed"
    },
    "tags": [
     "parameters"
    ]
   },
   "outputs": [],
   "source": [
    "comparison_id = None"
   ]
  },
  {
   "cell_type": "code",
   "execution_count": 5,
   "id": "bb1d26d2",
   "metadata": {
    "execution": {
     "iopub.execute_input": "2024-08-21T12:10:13.553153Z",
     "iopub.status.busy": "2024-08-21T12:10:13.553066Z",
     "iopub.status.idle": "2024-08-21T12:10:13.554435Z",
     "shell.execute_reply": "2024-08-21T12:10:13.554233Z"
    },
    "papermill": {
     "duration": 0.00356,
     "end_time": "2024-08-21T12:10:13.555124",
     "exception": false,
     "start_time": "2024-08-21T12:10:13.551564",
     "status": "completed"
    },
    "tags": [
     "injected-parameters"
    ]
   },
   "outputs": [],
   "source": [
    "# Parameters\n",
    "comparison_id = 0\n"
   ]
  },
  {
   "cell_type": "code",
   "execution_count": 6,
   "id": "dade2b7e",
   "metadata": {
    "execution": {
     "iopub.execute_input": "2024-08-21T12:10:13.557975Z",
     "iopub.status.busy": "2024-08-21T12:10:13.557883Z",
     "iopub.status.idle": "2024-08-21T12:10:13.574041Z",
     "shell.execute_reply": "2024-08-21T12:10:13.573799Z"
    },
    "papermill": {
     "duration": 0.018502,
     "end_time": "2024-08-21T12:10:13.574844",
     "exception": false,
     "start_time": "2024-08-21T12:10:13.556342",
     "status": "completed"
    },
    "tags": []
   },
   "outputs": [
    {
     "name": "stdout",
     "output_type": "stream",
     "text": [
      "Comparing customer_profile_0 and customer_profile_1\n",
      "Finished preprocessing logistic dataset. Split on customer_profile_0 and customer_profile_1 with resulting source shape: (996, 3), target shape: (996, 3).\n",
      "['Connection', 'Weight', 'Unit_type']\n"
     ]
    }
   ],
   "source": [
    "\n",
    "# Load the data\n",
    "comparison_dict = {0: [0,1], 1: [2,3], 2: [4,5]}\n",
    "path_customer_profiles = open('./Results_Experiments/File_Paths/path_customer_profiles.txt','r').read()\n",
    "path_transport_graphics = open('./Results_Experiments/File_Paths/path_transport_graphics.txt','r').read()\n",
    "source = pd.read_csv(f'../{path_customer_profiles}/customer_profile_{comparison_dict[comparison_id][0]}.csv')\n",
    "target = pd.read_csv(f'../{path_customer_profiles}/customer_profile_{comparison_dict[comparison_id][1]}.csv')\n",
    "equal_week_split = True\n",
    "source, target, feature_names = load_and_preprocess_logistics_data(rng, n_samples, return_column_names=True,equal_week_split=equal_week_split, comparison_id=\n",
    "            comparison_id, comparison_dict=comparison_dict)\n",
    "print(feature_names)"
   ]
  },
  {
   "cell_type": "code",
   "execution_count": 7,
   "id": "296df3b5",
   "metadata": {
    "execution": {
     "iopub.execute_input": "2024-08-21T12:10:13.577939Z",
     "iopub.status.busy": "2024-08-21T12:10:13.577837Z",
     "iopub.status.idle": "2024-08-21T12:10:13.580205Z",
     "shell.execute_reply": "2024-08-21T12:10:13.580000Z"
    },
    "papermill": {
     "duration": 0.004705,
     "end_time": "2024-08-21T12:10:13.580935",
     "exception": false,
     "start_time": "2024-08-21T12:10:13.576230",
     "status": "completed"
    },
    "tags": []
   },
   "outputs": [],
   "source": [
    "# standardize the source and target data, and convert to domain labels\n",
    "from sklearn.preprocessing import StandardScaler\n",
    "X = np.concatenate((source, target), axis=0)\n",
    "# standardize X to remove cardinatlity bias\n",
    "X = StandardScaler().fit_transform(X)\n",
    "y = np.concatenate((np.zeros(source.shape[0]),\n",
    "                    np.ones(target.shape[0])), axis=0)  # domain labels"
   ]
  },
  {
   "cell_type": "code",
   "execution_count": 8,
   "id": "c5422e1f",
   "metadata": {
    "execution": {
     "iopub.execute_input": "2024-08-21T12:10:13.583842Z",
     "iopub.status.busy": "2024-08-21T12:10:13.583747Z",
     "iopub.status.idle": "2024-08-21T12:10:13.632089Z",
     "shell.execute_reply": "2024-08-21T12:10:13.631831Z"
    },
    "papermill": {
     "duration": 0.05081,
     "end_time": "2024-08-21T12:10:13.632997",
     "exception": false,
     "start_time": "2024-08-21T12:10:13.582187",
     "status": "completed"
    },
    "tags": []
   },
   "outputs": [],
   "source": [
    "from sklearn.datasets import make_classification\n",
    "from sklearn.model_selection import train_test_split\n",
    "\n",
    "X_train, X_test, y_train, y_test = train_test_split(X, y,\n",
    "                                     stratify=y, random_state=42)"
   ]
  },
  {
   "cell_type": "code",
   "execution_count": 9,
   "id": "5d9ba299",
   "metadata": {
    "execution": {
     "iopub.execute_input": "2024-08-21T12:10:13.636279Z",
     "iopub.status.busy": "2024-08-21T12:10:13.636132Z",
     "iopub.status.idle": "2024-08-21T12:10:13.650063Z",
     "shell.execute_reply": "2024-08-21T12:10:13.649809Z"
    },
    "papermill": {
     "duration": 0.016507,
     "end_time": "2024-08-21T12:10:13.650974",
     "exception": false,
     "start_time": "2024-08-21T12:10:13.634467",
     "status": "completed"
    },
    "tags": []
   },
   "outputs": [],
   "source": [
    "# Using XGBoost\n",
    "import xgboost\n",
    "\n",
    "def fit_xgboost(X_train, y_train, X_test, y_test, feature_names=None):\n",
    "    \"\"\" Train an XGBoost model with early stopping.\n",
    "    \"\"\"\n",
    "    dtrain = xgboost.DMatrix(X_train, label=y_train, feature_names=feature_names)\n",
    "    dtest = xgboost.DMatrix(X_test, label=y_test, feature_names=feature_names)\n",
    "    # model = xgboost.train(\n",
    "    #     { \"eta\": 0.001, \"subsample\": 0.5, \"max_depth\": 2,\n",
    "    #       \"objective\": 'binary:logistic', 'eval_metric': 'logloss'}, dtrain, num_boost_round=200000,\n",
    "    #     evals=[(dtest,'eval'), (dtrain,'train')], early_stopping_rounds=20, verbose_eval=False\n",
    "    # )\n",
    "    model = xgboost.train(\n",
    "        {\"objective\": 'binary:logistic', 'eval_metric': 'logloss'},\n",
    "        dtrain,\n",
    "        evals=[(dtest,'eval'), (dtrain,'train')],\n",
    "        verbose_eval=False)\n",
    "    return model"
   ]
  },
  {
   "cell_type": "code",
   "execution_count": 10,
   "id": "bd7ac9f1",
   "metadata": {
    "execution": {
     "iopub.execute_input": "2024-08-21T12:10:13.654048Z",
     "iopub.status.busy": "2024-08-21T12:10:13.653940Z",
     "iopub.status.idle": "2024-08-21T12:10:13.670829Z",
     "shell.execute_reply": "2024-08-21T12:10:13.670505Z"
    },
    "papermill": {
     "duration": 0.019401,
     "end_time": "2024-08-21T12:10:13.671728",
     "exception": false,
     "start_time": "2024-08-21T12:10:13.652327",
     "status": "completed"
    },
    "tags": []
   },
   "outputs": [],
   "source": [
    "xgb_forest = fit_xgboost(X_train, y_train, X_test, y_test, feature_names)\n",
    "xgb_forest.feature_names = feature_names"
   ]
  },
  {
   "cell_type": "code",
   "execution_count": 11,
   "id": "dcaa3020",
   "metadata": {
    "execution": {
     "iopub.execute_input": "2024-08-21T12:10:13.675195Z",
     "iopub.status.busy": "2024-08-21T12:10:13.675064Z",
     "iopub.status.idle": "2024-08-21T12:10:13.677284Z",
     "shell.execute_reply": "2024-08-21T12:10:13.677006Z"
    },
    "papermill": {
     "duration": 0.004904,
     "end_time": "2024-08-21T12:10:13.678139",
     "exception": false,
     "start_time": "2024-08-21T12:10:13.673235",
     "status": "completed"
    },
    "tags": []
   },
   "outputs": [],
   "source": [
    "def get_acc(model, samples, labels, feature_names=None):\n",
    "    predictions = (model.predict(xgboost.DMatrix(samples,\n",
    "                                                 feature_names=feature_names)) > 0.5).astype(int)\n",
    "    return (predictions == labels).sum() / predictions.shape[0]"
   ]
  },
  {
   "cell_type": "code",
   "execution_count": 12,
   "id": "7ce6b380",
   "metadata": {
    "execution": {
     "iopub.execute_input": "2024-08-21T12:10:13.681741Z",
     "iopub.status.busy": "2024-08-21T12:10:13.681523Z",
     "iopub.status.idle": "2024-08-21T12:10:13.684737Z",
     "shell.execute_reply": "2024-08-21T12:10:13.684471Z"
    },
    "papermill": {
     "duration": 0.005973,
     "end_time": "2024-08-21T12:10:13.685561",
     "exception": false,
     "start_time": "2024-08-21T12:10:13.679588",
     "status": "completed"
    },
    "tags": []
   },
   "outputs": [
    {
     "name": "stdout",
     "output_type": "stream",
     "text": [
      "Train score: 0.7791164658634538\n",
      "Test score: 0.6807228915662651\n"
     ]
    }
   ],
   "source": [
    "print('Train score:', get_acc(xgb_forest, X_train, y_train, feature_names))\n",
    "print('Test score:', get_acc(xgb_forest, X_test, y_test, feature_names))"
   ]
  },
  {
   "cell_type": "code",
   "execution_count": 13,
   "id": "97a1d2b0",
   "metadata": {
    "execution": {
     "iopub.execute_input": "2024-08-21T12:10:13.689071Z",
     "iopub.status.busy": "2024-08-21T12:10:13.688955Z",
     "iopub.status.idle": "2024-08-21T12:10:13.926777Z",
     "shell.execute_reply": "2024-08-21T12:10:13.926509Z"
    },
    "papermill": {
     "duration": 0.240625,
     "end_time": "2024-08-21T12:10:13.927705",
     "exception": false,
     "start_time": "2024-08-21T12:10:13.687080",
     "status": "completed"
    },
    "tags": []
   },
   "outputs": [],
   "source": [
    "import shap\n",
    "import pandas as pd\n",
    "explainer = shap.Explainer(xgb_forest)\n",
    "\n",
    "shap_values = explainer(pd.DataFrame(X_test, columns=feature_names))\n"
   ]
  },
  {
   "cell_type": "code",
   "execution_count": 14,
   "id": "8e7a54a8",
   "metadata": {
    "execution": {
     "iopub.execute_input": "2024-08-21T12:10:13.931069Z",
     "iopub.status.busy": "2024-08-21T12:10:13.930920Z",
     "iopub.status.idle": "2024-08-21T12:10:14.234458Z",
     "shell.execute_reply": "2024-08-21T12:10:14.234184Z"
    },
    "papermill": {
     "duration": 0.306044,
     "end_time": "2024-08-21T12:10:14.235299",
     "exception": false,
     "start_time": "2024-08-21T12:10:13.929255",
     "status": "completed"
    },
    "tags": []
   },
   "outputs": [
    {
     "data": {
      "image/png": "[encoded data removed]",
      "text/plain": [
       "<Figure size 400x100 with 2 Axes>"
      ]
     },
     "metadata": {},
     "output_type": "display_data"
    }
   ],
   "source": [
    "# Beeswarm plot\n",
    "\n",
    "shap.plots.beeswarm(shap_values, show=False)\n",
    "fig = plt.gcf()\n",
    "fig.set_size_inches(4, 1, forward=True)\n",
    "if save_figures: plt.savefig(\n",
    "    f'../{path_transport_graphics}/logitics_data_on_customer_profile_{comparison_dict[comparison_id][0]} and customer_profile_{comparison_dict[comparison_id][1]}-shap-value.{save_parms[\"format\"]}',\n",
    "    **save_parms\n",
    "    )\n",
    "plt.show()"
   ]
  }
 ],
 "metadata": {
  "kernelspec": {
   "display_name": "Python 3.7.11 ('py37')",
   "language": "python",
   "name": "python3"
  },
  "language_info": {
   "codemirror_mode": {
    "name": "ipython",
    "version": 3
   },
   "file_extension": ".py",
   "mimetype": "text/x-python",
   "name": "python",
   "nbconvert_exporter": "python",
   "pygments_lexer": "ipython3",
   "version": "3.12.0"
  },
  "papermill": {
   "default_parameters": {},
   "duration": 2.583028,
   "end_time": "2024-08-21T12:10:14.554076",
   "environment_variables": {},
   "exception": null,
   "input_path": "experiment_baseline.ipynb",
   "output_path": "./Results_Experiments/Set_lambd_to_0.12/experiment_baseline_1.ipynb",
   "parameters": {
    "comparison_id": 0
   },
   "start_time": "2024-08-21T12:10:11.971048",
   "version": "2.6.0"
  },
  "vscode": {
   "interpreter": {
    "hash": "5ab0220f0ca30ec7bac8a7e209564eceae6d15412b9f87f3c2f91206aa8b151c"
   }
  }
 },
 "nbformat": 4,
 "nbformat_minor": 5
}