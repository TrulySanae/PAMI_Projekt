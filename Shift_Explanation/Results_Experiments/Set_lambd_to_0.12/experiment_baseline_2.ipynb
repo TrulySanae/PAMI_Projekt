{
 "cells": [
  {
   "cell_type": "code",
   "execution_count": 1,
   "id": "d05cab18",
   "metadata": {
    "execution": {
     "iopub.execute_input": "2024-08-21T09:47:34.892993Z",
     "iopub.status.busy": "2024-08-21T09:47:34.892823Z",
     "iopub.status.idle": "2024-08-21T09:47:35.772184Z",
     "shell.execute_reply": "2024-08-21T09:47:35.771868Z"
    },
    "papermill": {
     "duration": 0.883304,
     "end_time": "2024-08-21T09:47:35.773298",
     "exception": false,
     "start_time": "2024-08-21T09:47:34.889994",
     "status": "completed"
    },
    "tags": []
   },
   "outputs": [],
   "source": [
    "import matplotlib.pyplot as plt\n",
    "import numpy as np\n",
    "import pandas as pd\n",
    "from pathlib import Path\n",
    "import seaborn as sn\n"
   ]
  },
  {
   "cell_type": "code",
   "execution_count": 2,
   "id": "d6302d10",
   "metadata": {
    "execution": {
     "iopub.execute_input": "2024-08-21T09:47:35.776639Z",
     "iopub.status.busy": "2024-08-21T09:47:35.776501Z",
     "iopub.status.idle": "2024-08-21T09:47:35.779263Z",
     "shell.execute_reply": "2024-08-21T09:47:35.779033Z"
    },
    "papermill": {
     "duration": 0.00511,
     "end_time": "2024-08-21T09:47:35.779972",
     "exception": false,
     "start_time": "2024-08-21T09:47:35.774862",
     "status": "completed"
    },
    "tags": []
   },
   "outputs": [],
   "source": [
    "# Setting so that the plots look normal even when using dark-reader\n",
    "sn.set_style(\"whitegrid\")\n",
    "sn.set_context(context=\"paper\", font_scale=2)\n",
    "pal = sn.color_palette(\"Set1\")\n",
    "\n",
    "# Setting up specifics for plotting + saving\n",
    "save_figures = True\n",
    "add_legend = False\n",
    "add_title = False\n",
    "add_axis = False\n",
    "save_parms = {'format': 'pdf','bbox_inches':'tight', 'pad_inches':0.1}\n",
    "line_parms = {'linewidth':4, 'color':'k'}\n",
    "if save_figures:  # saves all figures in a figure directory in the local directory\n",
    "    figure_dir = Path('.') / 'figures' / 'adult-income-experiment'\n",
    "    if not figure_dir.exists():\n",
    "        figure_dir.mkdir(parents=True)"
   ]
  },
  {
   "cell_type": "code",
   "execution_count": 3,
   "id": "22d1d0e0",
   "metadata": {
    "execution": {
     "iopub.execute_input": "2024-08-21T09:47:35.782943Z",
     "iopub.status.busy": "2024-08-21T09:47:35.782820Z",
     "iopub.status.idle": "2024-08-21T09:47:35.784704Z",
     "shell.execute_reply": "2024-08-21T09:47:35.784471Z"
    },
    "papermill": {
     "duration": 0.004325,
     "end_time": "2024-08-21T09:47:35.785510",
     "exception": false,
     "start_time": "2024-08-21T09:47:35.781185",
     "status": "completed"
    },
    "tags": []
   },
   "outputs": [],
   "source": [
    "# Experiment hyperparamters\n",
    "rng = np.random.RandomState(42)\n",
    "split_on_income = False  # if True: src := income>=50k, tgt :+ income<50k, if False: src := male, tgt := female\n",
    "n_samples = 1000"
   ]
  },
  {
   "cell_type": "code",
   "execution_count": 4,
   "id": "48ff09ec",
   "metadata": {
    "execution": {
     "iopub.execute_input": "2024-08-21T09:47:35.789320Z",
     "iopub.status.busy": "2024-08-21T09:47:35.789191Z",
     "iopub.status.idle": "2024-08-21T09:47:35.790867Z",
     "shell.execute_reply": "2024-08-21T09:47:35.790604Z"
    },
    "papermill": {
     "duration": 0.00486,
     "end_time": "2024-08-21T09:47:35.791650",
     "exception": false,
     "start_time": "2024-08-21T09:47:35.786790",
     "status": "completed"
    },
    "tags": [
     "parameters"
    ]
   },
   "outputs": [],
   "source": [
    "comparison_id = None"
   ]
  },
  {
   "cell_type": "code",
   "execution_count": 5,
   "id": "5a23a2d5",
   "metadata": {
    "execution": {
     "iopub.execute_input": "2024-08-21T09:47:35.795946Z",
     "iopub.status.busy": "2024-08-21T09:47:35.795805Z",
     "iopub.status.idle": "2024-08-21T09:47:35.797435Z",
     "shell.execute_reply": "2024-08-21T09:47:35.797166Z"
    },
    "papermill": {
     "duration": 0.00518,
     "end_time": "2024-08-21T09:47:35.798228",
     "exception": false,
     "start_time": "2024-08-21T09:47:35.793048",
     "status": "completed"
    },
    "tags": [
     "injected-parameters"
    ]
   },
   "outputs": [],
   "source": [
    "# Parameters\n",
    "comparison_id = 1\n"
   ]
  },
  {
   "cell_type": "code",
   "execution_count": 6,
   "id": "dade2b7e",
   "metadata": {
    "execution": {
     "iopub.execute_input": "2024-08-21T09:47:35.801207Z",
     "iopub.status.busy": "2024-08-21T09:47:35.801106Z",
     "iopub.status.idle": "2024-08-21T09:47:35.809879Z",
     "shell.execute_reply": "2024-08-21T09:47:35.809623Z"
    },
    "papermill": {
     "duration": 0.011977,
     "end_time": "2024-08-21T09:47:35.811523",
     "exception": false,
     "start_time": "2024-08-21T09:47:35.799546",
     "status": "completed"
    },
    "tags": []
   },
   "outputs": [
    {
     "name": "stdout",
     "output_type": "stream",
     "text": [
      "['Customer_id', 'Connection', 'Weight', 'Unit_type', 'Day', 'Week']\n"
     ]
    }
   ],
   "source": [
    "\n",
    "# Load the data\n",
    "comparison_dict = {0: [0,1], 1: [2,3], 2: [4,5]}\n",
    "path_customer_profiles = open('./Results_Experiments/File_Paths/path_customer_profiles.txt','r').read()\n",
    "path_transport_graphics = open('./Results_Experiments/File_Paths/path_transport_graphics.txt','r').read()\n",
    "source = pd.read_csv(f'../{path_customer_profiles}/customer_profile_{comparison_dict[comparison_id][0]}.csv')\n",
    "target = pd.read_csv(f'../{path_customer_profiles}/customer_profile_{comparison_dict[comparison_id][1]}.csv')\n",
    "\n",
    "feature_names = source.columns.values\n",
    "feature_names = list(feature_names)\n",
    "print(feature_names)"
   ]
  },
  {
   "cell_type": "code",
   "execution_count": 7,
   "id": "296df3b5",
   "metadata": {
    "execution": {
     "iopub.execute_input": "2024-08-21T09:47:35.814721Z",
     "iopub.status.busy": "2024-08-21T09:47:35.814609Z",
     "iopub.status.idle": "2024-08-21T09:47:35.853050Z",
     "shell.execute_reply": "2024-08-21T09:47:35.852793Z"
    },
    "papermill": {
     "duration": 0.040984,
     "end_time": "2024-08-21T09:47:35.853969",
     "exception": false,
     "start_time": "2024-08-21T09:47:35.812985",
     "status": "completed"
    },
    "tags": []
   },
   "outputs": [],
   "source": [
    "# standardize the source and target data, and convert to domain labels\n",
    "from sklearn.preprocessing import StandardScaler\n",
    "X = np.concatenate((source, target), axis=0)\n",
    "# standardize X to remove cardinatlity bias\n",
    "X = StandardScaler().fit_transform(X)\n",
    "y = np.concatenate((np.zeros(source.shape[0]),\n",
    "                    np.ones(target.shape[0])), axis=0)  # domain labels"
   ]
  },
  {
   "cell_type": "code",
   "execution_count": 8,
   "id": "c5422e1f",
   "metadata": {
    "execution": {
     "iopub.execute_input": "2024-08-21T09:47:35.857223Z",
     "iopub.status.busy": "2024-08-21T09:47:35.857073Z",
     "iopub.status.idle": "2024-08-21T09:47:35.908387Z",
     "shell.execute_reply": "2024-08-21T09:47:35.908115Z"
    },
    "papermill": {
     "duration": 0.053939,
     "end_time": "2024-08-21T09:47:35.909337",
     "exception": false,
     "start_time": "2024-08-21T09:47:35.855398",
     "status": "completed"
    },
    "tags": []
   },
   "outputs": [],
   "source": [
    "from sklearn.datasets import make_classification\n",
    "from sklearn.model_selection import train_test_split\n",
    "\n",
    "X_train, X_test, y_train, y_test = train_test_split(X, y,\n",
    "                                     stratify=y, random_state=42)"
   ]
  },
  {
   "cell_type": "code",
   "execution_count": 9,
   "id": "5d9ba299",
   "metadata": {
    "execution": {
     "iopub.execute_input": "2024-08-21T09:47:35.912646Z",
     "iopub.status.busy": "2024-08-21T09:47:35.912496Z",
     "iopub.status.idle": "2024-08-21T09:47:35.926970Z",
     "shell.execute_reply": "2024-08-21T09:47:35.926715Z"
    },
    "papermill": {
     "duration": 0.017032,
     "end_time": "2024-08-21T09:47:35.927880",
     "exception": false,
     "start_time": "2024-08-21T09:47:35.910848",
     "status": "completed"
    },
    "tags": []
   },
   "outputs": [],
   "source": [
    "# Using XGBoost\n",
    "import xgboost\n",
    "\n",
    "def fit_xgboost(X_train, y_train, X_test, y_test, feature_names=None):\n",
    "    \"\"\" Train an XGBoost model with early stopping.\n",
    "    \"\"\"\n",
    "    dtrain = xgboost.DMatrix(X_train, label=y_train, feature_names=feature_names)\n",
    "    dtest = xgboost.DMatrix(X_test, label=y_test, feature_names=feature_names)\n",
    "    # model = xgboost.train(\n",
    "    #     { \"eta\": 0.001, \"subsample\": 0.5, \"max_depth\": 2,\n",
    "    #       \"objective\": 'binary:logistic', 'eval_metric': 'logloss'}, dtrain, num_boost_round=200000,\n",
    "    #     evals=[(dtest,'eval'), (dtrain,'train')], early_stopping_rounds=20, verbose_eval=False\n",
    "    # )\n",
    "    model = xgboost.train(\n",
    "        {\"objective\": 'binary:logistic', 'eval_metric': 'logloss'},\n",
    "        dtrain,\n",
    "        evals=[(dtest,'eval'), (dtrain,'train')],\n",
    "        verbose_eval=False)\n",
    "    return model"
   ]
  },
  {
   "cell_type": "code",
   "execution_count": 10,
   "id": "bd7ac9f1",
   "metadata": {
    "execution": {
     "iopub.execute_input": "2024-08-21T09:47:35.930990Z",
     "iopub.status.busy": "2024-08-21T09:47:35.930883Z",
     "iopub.status.idle": "2024-08-21T09:47:35.959398Z",
     "shell.execute_reply": "2024-08-21T09:47:35.958828Z"
    },
    "papermill": {
     "duration": 0.031488,
     "end_time": "2024-08-21T09:47:35.960726",
     "exception": false,
     "start_time": "2024-08-21T09:47:35.929238",
     "status": "completed"
    },
    "tags": []
   },
   "outputs": [],
   "source": [
    "xgb_forest = fit_xgboost(X_train, y_train, X_test, y_test, feature_names)\n",
    "xgb_forest.feature_names = feature_names"
   ]
  },
  {
   "cell_type": "code",
   "execution_count": 11,
   "id": "dcaa3020",
   "metadata": {
    "execution": {
     "iopub.execute_input": "2024-08-21T09:47:35.964361Z",
     "iopub.status.busy": "2024-08-21T09:47:35.964224Z",
     "iopub.status.idle": "2024-08-21T09:47:35.966081Z",
     "shell.execute_reply": "2024-08-21T09:47:35.965847Z"
    },
    "papermill": {
     "duration": 0.004383,
     "end_time": "2024-08-21T09:47:35.966777",
     "exception": false,
     "start_time": "2024-08-21T09:47:35.962394",
     "status": "completed"
    },
    "tags": []
   },
   "outputs": [],
   "source": [
    "def get_acc(model, samples, labels, feature_names=None):\n",
    "    predictions = (model.predict(xgboost.DMatrix(samples,\n",
    "                                                 feature_names=feature_names)) > 0.5).astype(int)\n",
    "    return (predictions == labels).sum() / predictions.shape[0]"
   ]
  },
  {
   "cell_type": "code",
   "execution_count": 12,
   "id": "7ce6b380",
   "metadata": {
    "execution": {
     "iopub.execute_input": "2024-08-21T09:47:35.970179Z",
     "iopub.status.busy": "2024-08-21T09:47:35.970047Z",
     "iopub.status.idle": "2024-08-21T09:47:35.974655Z",
     "shell.execute_reply": "2024-08-21T09:47:35.974343Z"
    },
    "papermill": {
     "duration": 0.007536,
     "end_time": "2024-08-21T09:47:35.975656",
     "exception": false,
     "start_time": "2024-08-21T09:47:35.968120",
     "status": "completed"
    },
    "tags": []
   },
   "outputs": [
    {
     "name": "stdout",
     "output_type": "stream",
     "text": [
      "Train score: 0.8905750798722045\n",
      "Test score: 0.8890071865850413\n"
     ]
    }
   ],
   "source": [
    "print('Train score:', get_acc(xgb_forest, X_train, y_train, feature_names))\n",
    "print('Test score:', get_acc(xgb_forest, X_test, y_test, feature_names))"
   ]
  },
  {
   "cell_type": "code",
   "execution_count": 13,
   "id": "97a1d2b0",
   "metadata": {
    "execution": {
     "iopub.execute_input": "2024-08-21T09:47:35.978944Z",
     "iopub.status.busy": "2024-08-21T09:47:35.978811Z",
     "iopub.status.idle": "2024-08-21T09:47:36.257418Z",
     "shell.execute_reply": "2024-08-21T09:47:36.257117Z"
    },
    "papermill": {
     "duration": 0.281872,
     "end_time": "2024-08-21T09:47:36.259012",
     "exception": false,
     "start_time": "2024-08-21T09:47:35.977140",
     "status": "completed"
    },
    "tags": []
   },
   "outputs": [],
   "source": [
    "import shap\n",
    "import pandas as pd\n",
    "explainer = shap.Explainer(xgb_forest)\n",
    "\n",
    "shap_values = explainer(pd.DataFrame(X_test, columns=feature_names))\n"
   ]
  },
  {
   "cell_type": "code",
   "execution_count": 14,
   "id": "8e7a54a8",
   "metadata": {
    "execution": {
     "iopub.execute_input": "2024-08-21T09:47:36.263026Z",
     "iopub.status.busy": "2024-08-21T09:47:36.262834Z",
     "iopub.status.idle": "2024-08-21T09:47:36.825440Z",
     "shell.execute_reply": "2024-08-21T09:47:36.824658Z"
    },
    "papermill": {
     "duration": 0.565645,
     "end_time": "2024-08-21T09:47:36.826548",
     "exception": false,
     "start_time": "2024-08-21T09:47:36.260903",
     "status": "completed"
    },
    "tags": []
   },
   "outputs": [
    {
     "data": {
      "image/png": "[encoded data removed]",
      "text/plain": [
       "<Figure size 400x200 with 2 Axes>"
      ]
     },
     "metadata": {},
     "output_type": "display_data"
    }
   ],
   "source": [
    "# Beeswarm plot\n",
    "\n",
    "shap.plots.beeswarm(shap_values, show=False)\n",
    "fig = plt.gcf()\n",
    "fig.set_size_inches(4, 2, forward=True)\n",
    "if save_figures: plt.savefig(\n",
    "    f'../{path_transport_graphics}/logitics_data_on_customer_profile_{comparison_dict[comparison_id][0]} and customer_profile_{comparison_dict[comparison_id][1]}-shap-value.{save_parms[\"format\"]}',\n",
    "    **save_parms\n",
    "    )\n",
    "plt.show()"
   ]
  }
 ],
 "metadata": {
  "kernelspec": {
   "display_name": "Python 3.7.11 ('py37')",
   "language": "python",
   "name": "python3"
  },
  "language_info": {
   "codemirror_mode": {
    "name": "ipython",
    "version": 3
   },
   "file_extension": ".py",
   "mimetype": "text/x-python",
   "name": "python",
   "nbconvert_exporter": "python",
   "pygments_lexer": "ipython3",
   "version": "3.12.0"
  },
  "papermill": {
   "default_parameters": {},
   "duration": 2.992844,
   "end_time": "2024-08-21T09:47:37.146285",
   "environment_variables": {},
   "exception": null,
   "input_path": "experiment_baseline.ipynb",
   "output_path": "./Results_Experiments/Set_lambd_to_0.12/experiment_baseline_2.ipynb",
   "parameters": {
    "comparison_id": 1
   },
   "start_time": "2024-08-21T09:47:34.153441",
   "version": "2.6.0"
  },
  "vscode": {
   "interpreter": {
    "hash": "5ab0220f0ca30ec7bac8a7e209564eceae6d15412b9f87f3c2f91206aa8b151c"
   }
  }
 },
 "nbformat": 4,
 "nbformat_minor": 5
}