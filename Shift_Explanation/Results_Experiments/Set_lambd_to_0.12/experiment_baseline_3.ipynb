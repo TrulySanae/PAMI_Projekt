{
 "cells": [
  {
   "cell_type": "code",
   "execution_count": 1,
   "id": "d05cab18",
   "metadata": {
    "execution": {
     "iopub.execute_input": "2024-08-21T09:47:37.992025Z",
     "iopub.status.busy": "2024-08-21T09:47:37.991809Z",
     "iopub.status.idle": "2024-08-21T09:47:38.859515Z",
     "shell.execute_reply": "2024-08-21T09:47:38.859145Z"
    },
    "papermill": {
     "duration": 0.877988,
     "end_time": "2024-08-21T09:47:38.861002",
     "exception": false,
     "start_time": "2024-08-21T09:47:37.983014",
     "status": "completed"
    },
    "tags": []
   },
   "outputs": [],
   "source": [
    "import matplotlib.pyplot as plt\n",
    "import numpy as np\n",
    "import pandas as pd\n",
    "from pathlib import Path\n",
    "import seaborn as sn\n"
   ]
  },
  {
   "cell_type": "code",
   "execution_count": 2,
   "id": "d6302d10",
   "metadata": {
    "execution": {
     "iopub.execute_input": "2024-08-21T09:47:38.864661Z",
     "iopub.status.busy": "2024-08-21T09:47:38.864484Z",
     "iopub.status.idle": "2024-08-21T09:47:38.867388Z",
     "shell.execute_reply": "2024-08-21T09:47:38.867161Z"
    },
    "papermill": {
     "duration": 0.005395,
     "end_time": "2024-08-21T09:47:38.868119",
     "exception": false,
     "start_time": "2024-08-21T09:47:38.862724",
     "status": "completed"
    },
    "tags": []
   },
   "outputs": [],
   "source": [
    "# Setting so that the plots look normal even when using dark-reader\n",
    "sn.set_style(\"whitegrid\")\n",
    "sn.set_context(context=\"paper\", font_scale=2)\n",
    "pal = sn.color_palette(\"Set1\")\n",
    "\n",
    "# Setting up specifics for plotting + saving\n",
    "save_figures = True\n",
    "add_legend = False\n",
    "add_title = False\n",
    "add_axis = False\n",
    "save_parms = {'format': 'pdf','bbox_inches':'tight', 'pad_inches':0.1}\n",
    "line_parms = {'linewidth':4, 'color':'k'}\n",
    "if save_figures:  # saves all figures in a figure directory in the local directory\n",
    "    figure_dir = Path('.') / 'figures' / 'adult-income-experiment'\n",
    "    if not figure_dir.exists():\n",
    "        figure_dir.mkdir(parents=True)"
   ]
  },
  {
   "cell_type": "code",
   "execution_count": 3,
   "id": "22d1d0e0",
   "metadata": {
    "execution": {
     "iopub.execute_input": "2024-08-21T09:47:38.871791Z",
     "iopub.status.busy": "2024-08-21T09:47:38.871565Z",
     "iopub.status.idle": "2024-08-21T09:47:38.873667Z",
     "shell.execute_reply": "2024-08-21T09:47:38.873376Z"
    },
    "papermill": {
     "duration": 0.005011,
     "end_time": "2024-08-21T09:47:38.874525",
     "exception": false,
     "start_time": "2024-08-21T09:47:38.869514",
     "status": "completed"
    },
    "tags": []
   },
   "outputs": [],
   "source": [
    "# Experiment hyperparamters\n",
    "rng = np.random.RandomState(42)\n",
    "split_on_income = False  # if True: src := income>=50k, tgt :+ income<50k, if False: src := male, tgt := female\n",
    "n_samples = 1000"
   ]
  },
  {
   "cell_type": "code",
   "execution_count": 4,
   "id": "48ff09ec",
   "metadata": {
    "execution": {
     "iopub.execute_input": "2024-08-21T09:47:38.878937Z",
     "iopub.status.busy": "2024-08-21T09:47:38.878776Z",
     "iopub.status.idle": "2024-08-21T09:47:38.880554Z",
     "shell.execute_reply": "2024-08-21T09:47:38.880303Z"
    },
    "papermill": {
     "duration": 0.00538,
     "end_time": "2024-08-21T09:47:38.881358",
     "exception": false,
     "start_time": "2024-08-21T09:47:38.875978",
     "status": "completed"
    },
    "tags": [
     "parameters"
    ]
   },
   "outputs": [],
   "source": [
    "comparison_id = None"
   ]
  },
  {
   "cell_type": "code",
   "execution_count": 5,
   "id": "2a6cb1a0",
   "metadata": {
    "execution": {
     "iopub.execute_input": "2024-08-21T09:47:38.884501Z",
     "iopub.status.busy": "2024-08-21T09:47:38.884385Z",
     "iopub.status.idle": "2024-08-21T09:47:38.886081Z",
     "shell.execute_reply": "2024-08-21T09:47:38.885836Z"
    },
    "papermill": {
     "duration": 0.004028,
     "end_time": "2024-08-21T09:47:38.886814",
     "exception": false,
     "start_time": "2024-08-21T09:47:38.882786",
     "status": "completed"
    },
    "tags": [
     "injected-parameters"
    ]
   },
   "outputs": [],
   "source": [
    "# Parameters\n",
    "comparison_id = 2\n"
   ]
  },
  {
   "cell_type": "code",
   "execution_count": 6,
   "id": "dade2b7e",
   "metadata": {
    "execution": {
     "iopub.execute_input": "2024-08-21T09:47:38.889853Z",
     "iopub.status.busy": "2024-08-21T09:47:38.889746Z",
     "iopub.status.idle": "2024-08-21T09:47:38.897417Z",
     "shell.execute_reply": "2024-08-21T09:47:38.897170Z"
    },
    "papermill": {
     "duration": 0.009997,
     "end_time": "2024-08-21T09:47:38.898167",
     "exception": false,
     "start_time": "2024-08-21T09:47:38.888170",
     "status": "completed"
    },
    "tags": []
   },
   "outputs": [
    {
     "name": "stdout",
     "output_type": "stream",
     "text": [
      "['Customer_id', 'Connection', 'Weight', 'Unit_type', 'Day', 'Week']\n"
     ]
    }
   ],
   "source": [
    "\n",
    "# Load the data\n",
    "comparison_dict = {0: [0,1], 1: [2,3], 2: [4,5]}\n",
    "path_customer_profiles = open('./Results_Experiments/File_Paths/path_customer_profiles.txt','r').read()\n",
    "path_transport_graphics = open('./Results_Experiments/File_Paths/path_transport_graphics.txt','r').read()\n",
    "source = pd.read_csv(f'../{path_customer_profiles}/customer_profile_{comparison_dict[comparison_id][0]}.csv')\n",
    "target = pd.read_csv(f'../{path_customer_profiles}/customer_profile_{comparison_dict[comparison_id][1]}.csv')\n",
    "\n",
    "feature_names = source.columns.values\n",
    "feature_names = list(feature_names)\n",
    "print(feature_names)"
   ]
  },
  {
   "cell_type": "code",
   "execution_count": 7,
   "id": "296df3b5",
   "metadata": {
    "execution": {
     "iopub.execute_input": "2024-08-21T09:47:38.901570Z",
     "iopub.status.busy": "2024-08-21T09:47:38.901454Z",
     "iopub.status.idle": "2024-08-21T09:47:38.938523Z",
     "shell.execute_reply": "2024-08-21T09:47:38.938244Z"
    },
    "papermill": {
     "duration": 0.039695,
     "end_time": "2024-08-21T09:47:38.939414",
     "exception": false,
     "start_time": "2024-08-21T09:47:38.899719",
     "status": "completed"
    },
    "tags": []
   },
   "outputs": [],
   "source": [
    "# standardize the source and target data, and convert to domain labels\n",
    "from sklearn.preprocessing import StandardScaler\n",
    "X = np.concatenate((source, target), axis=0)\n",
    "# standardize X to remove cardinatlity bias\n",
    "X = StandardScaler().fit_transform(X)\n",
    "y = np.concatenate((np.zeros(source.shape[0]),\n",
    "                    np.ones(target.shape[0])), axis=0)  # domain labels"
   ]
  },
  {
   "cell_type": "code",
   "execution_count": 8,
   "id": "c5422e1f",
   "metadata": {
    "execution": {
     "iopub.execute_input": "2024-08-21T09:47:38.942552Z",
     "iopub.status.busy": "2024-08-21T09:47:38.942408Z",
     "iopub.status.idle": "2024-08-21T09:47:39.002850Z",
     "shell.execute_reply": "2024-08-21T09:47:39.002521Z"
    },
    "papermill": {
     "duration": 0.063034,
     "end_time": "2024-08-21T09:47:39.003832",
     "exception": false,
     "start_time": "2024-08-21T09:47:38.940798",
     "status": "completed"
    },
    "tags": []
   },
   "outputs": [],
   "source": [
    "from sklearn.datasets import make_classification\n",
    "from sklearn.model_selection import train_test_split\n",
    "\n",
    "X_train, X_test, y_train, y_test = train_test_split(X, y,\n",
    "                                     stratify=y, random_state=42)"
   ]
  },
  {
   "cell_type": "code",
   "execution_count": 9,
   "id": "5d9ba299",
   "metadata": {
    "execution": {
     "iopub.execute_input": "2024-08-21T09:47:39.007634Z",
     "iopub.status.busy": "2024-08-21T09:47:39.007360Z",
     "iopub.status.idle": "2024-08-21T09:47:39.029402Z",
     "shell.execute_reply": "2024-08-21T09:47:39.029078Z"
    },
    "papermill": {
     "duration": 0.02515,
     "end_time": "2024-08-21T09:47:39.030607",
     "exception": false,
     "start_time": "2024-08-21T09:47:39.005457",
     "status": "completed"
    },
    "tags": []
   },
   "outputs": [],
   "source": [
    "# Using XGBoost\n",
    "import xgboost\n",
    "\n",
    "def fit_xgboost(X_train, y_train, X_test, y_test, feature_names=None):\n",
    "    \"\"\" Train an XGBoost model with early stopping.\n",
    "    \"\"\"\n",
    "    dtrain = xgboost.DMatrix(X_train, label=y_train, feature_names=feature_names)\n",
    "    dtest = xgboost.DMatrix(X_test, label=y_test, feature_names=feature_names)\n",
    "    # model = xgboost.train(\n",
    "    #     { \"eta\": 0.001, \"subsample\": 0.5, \"max_depth\": 2,\n",
    "    #       \"objective\": 'binary:logistic', 'eval_metric': 'logloss'}, dtrain, num_boost_round=200000,\n",
    "    #     evals=[(dtest,'eval'), (dtrain,'train')], early_stopping_rounds=20, verbose_eval=False\n",
    "    # )\n",
    "    model = xgboost.train(\n",
    "        {\"objective\": 'binary:logistic', 'eval_metric': 'logloss'},\n",
    "        dtrain,\n",
    "        evals=[(dtest,'eval'), (dtrain,'train')],\n",
    "        verbose_eval=False)\n",
    "    return model"
   ]
  },
  {
   "cell_type": "code",
   "execution_count": 10,
   "id": "bd7ac9f1",
   "metadata": {
    "execution": {
     "iopub.execute_input": "2024-08-21T09:47:39.034267Z",
     "iopub.status.busy": "2024-08-21T09:47:39.034106Z",
     "iopub.status.idle": "2024-08-21T09:47:39.062004Z",
     "shell.execute_reply": "2024-08-21T09:47:39.061613Z"
    },
    "papermill": {
     "duration": 0.031294,
     "end_time": "2024-08-21T09:47:39.063480",
     "exception": false,
     "start_time": "2024-08-21T09:47:39.032186",
     "status": "completed"
    },
    "tags": []
   },
   "outputs": [],
   "source": [
    "xgb_forest = fit_xgboost(X_train, y_train, X_test, y_test, feature_names)\n",
    "xgb_forest.feature_names = feature_names"
   ]
  },
  {
   "cell_type": "code",
   "execution_count": 11,
   "id": "dcaa3020",
   "metadata": {
    "execution": {
     "iopub.execute_input": "2024-08-21T09:47:39.067425Z",
     "iopub.status.busy": "2024-08-21T09:47:39.067256Z",
     "iopub.status.idle": "2024-08-21T09:47:39.069432Z",
     "shell.execute_reply": "2024-08-21T09:47:39.069141Z"
    },
    "papermill": {
     "duration": 0.005138,
     "end_time": "2024-08-21T09:47:39.070417",
     "exception": false,
     "start_time": "2024-08-21T09:47:39.065279",
     "status": "completed"
    },
    "tags": []
   },
   "outputs": [],
   "source": [
    "def get_acc(model, samples, labels, feature_names=None):\n",
    "    predictions = (model.predict(xgboost.DMatrix(samples,\n",
    "                                                 feature_names=feature_names)) > 0.5).astype(int)\n",
    "    return (predictions == labels).sum() / predictions.shape[0]"
   ]
  },
  {
   "cell_type": "code",
   "execution_count": 12,
   "id": "7ce6b380",
   "metadata": {
    "execution": {
     "iopub.execute_input": "2024-08-21T09:47:39.073784Z",
     "iopub.status.busy": "2024-08-21T09:47:39.073661Z",
     "iopub.status.idle": "2024-08-21T09:47:39.077456Z",
     "shell.execute_reply": "2024-08-21T09:47:39.077185Z"
    },
    "papermill": {
     "duration": 0.006288,
     "end_time": "2024-08-21T09:47:39.078234",
     "exception": false,
     "start_time": "2024-08-21T09:47:39.071946",
     "status": "completed"
    },
    "tags": []
   },
   "outputs": [
    {
     "name": "stdout",
     "output_type": "stream",
     "text": [
      "Train score: 0.8664982510687913\n",
      "Test score: 0.8606820169046925\n"
     ]
    }
   ],
   "source": [
    "print('Train score:', get_acc(xgb_forest, X_train, y_train, feature_names))\n",
    "print('Test score:', get_acc(xgb_forest, X_test, y_test, feature_names))"
   ]
  },
  {
   "cell_type": "code",
   "execution_count": 13,
   "id": "97a1d2b0",
   "metadata": {
    "execution": {
     "iopub.execute_input": "2024-08-21T09:47:39.081624Z",
     "iopub.status.busy": "2024-08-21T09:47:39.081512Z",
     "iopub.status.idle": "2024-08-21T09:47:39.396261Z",
     "shell.execute_reply": "2024-08-21T09:47:39.396004Z"
    },
    "papermill": {
     "duration": 0.317584,
     "end_time": "2024-08-21T09:47:39.397357",
     "exception": false,
     "start_time": "2024-08-21T09:47:39.079773",
     "status": "completed"
    },
    "tags": []
   },
   "outputs": [],
   "source": [
    "import shap\n",
    "import pandas as pd\n",
    "explainer = shap.Explainer(xgb_forest)\n",
    "\n",
    "shap_values = explainer(pd.DataFrame(X_test, columns=feature_names))\n"
   ]
  },
  {
   "cell_type": "code",
   "execution_count": 14,
   "id": "8e7a54a8",
   "metadata": {
    "execution": {
     "iopub.execute_input": "2024-08-21T09:47:39.400909Z",
     "iopub.status.busy": "2024-08-21T09:47:39.400736Z",
     "iopub.status.idle": "2024-08-21T09:47:39.934435Z",
     "shell.execute_reply": "2024-08-21T09:47:39.934054Z"
    },
    "papermill": {
     "duration": 0.536522,
     "end_time": "2024-08-21T09:47:39.935496",
     "exception": false,
     "start_time": "2024-08-21T09:47:39.398974",
     "status": "completed"
    },
    "tags": []
   },
   "outputs": [
    {
     "data": {
      "image/png": "[encoded data removed]",
      "text/plain": [
       "<Figure size 400x200 with 2 Axes>"
      ]
     },
     "metadata": {},
     "output_type": "display_data"
    }
   ],
   "source": [
    "# Beeswarm plot\n",
    "\n",
    "shap.plots.beeswarm(shap_values, show=False)\n",
    "fig = plt.gcf()\n",
    "fig.set_size_inches(4, 2, forward=True)\n",
    "if save_figures: plt.savefig(\n",
    "    f'../{path_transport_graphics}/logitics_data_on_customer_profile_{comparison_dict[comparison_id][0]} and customer_profile_{comparison_dict[comparison_id][1]}-shap-value.{save_parms[\"format\"]}',\n",
    "    **save_parms\n",
    "    )\n",
    "plt.show()"
   ]
  }
 ],
 "metadata": {
  "kernelspec": {
   "display_name": "Python 3.7.11 ('py37')",
   "language": "python",
   "name": "python3"
  },
  "language_info": {
   "codemirror_mode": {
    "name": "ipython",
    "version": 3
   },
   "file_extension": ".py",
   "mimetype": "text/x-python",
   "name": "python",
   "nbconvert_exporter": "python",
   "pygments_lexer": "ipython3",
   "version": "3.12.0"
  },
  "papermill": {
   "default_parameters": {},
   "duration": 3.206086,
   "end_time": "2024-08-21T09:47:40.357797",
   "environment_variables": {},
   "exception": null,
   "input_path": "experiment_baseline.ipynb",
   "output_path": "./Results_Experiments/Set_lambd_to_0.12/experiment_baseline_3.ipynb",
   "parameters": {
    "comparison_id": 2
   },
   "start_time": "2024-08-21T09:47:37.151711",
   "version": "2.6.0"
  },
  "vscode": {
   "interpreter": {
    "hash": "5ab0220f0ca30ec7bac8a7e209564eceae6d15412b9f87f3c2f91206aa8b151c"
   }
  }
 },
 "nbformat": 4,
 "nbformat_minor": 5
}