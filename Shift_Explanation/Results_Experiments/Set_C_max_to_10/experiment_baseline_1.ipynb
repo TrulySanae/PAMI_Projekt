{
 "cells": [
  {
   "cell_type": "code",
   "execution_count": 1,
   "id": "d05cab18",
   "metadata": {
    "execution": {
     "iopub.execute_input": "2024-08-21T09:46:31.657102Z",
     "iopub.status.busy": "2024-08-21T09:46:31.656919Z",
     "iopub.status.idle": "2024-08-21T09:46:33.063191Z",
     "shell.execute_reply": "2024-08-21T09:46:33.062882Z"
    },
    "papermill": {
     "duration": 1.416281,
     "end_time": "2024-08-21T09:46:33.065379",
     "exception": false,
     "start_time": "2024-08-21T09:46:31.649098",
     "status": "completed"
    },
    "tags": []
   },
   "outputs": [],
   "source": [
    "import matplotlib.pyplot as plt\n",
    "import numpy as np\n",
    "import pandas as pd\n",
    "from pathlib import Path\n",
    "import seaborn as sn\n"
   ]
  },
  {
   "cell_type": "code",
   "execution_count": 2,
   "id": "d6302d10",
   "metadata": {
    "execution": {
     "iopub.execute_input": "2024-08-21T09:46:33.070301Z",
     "iopub.status.busy": "2024-08-21T09:46:33.070125Z",
     "iopub.status.idle": "2024-08-21T09:46:33.073217Z",
     "shell.execute_reply": "2024-08-21T09:46:33.072969Z"
    },
    "papermill": {
     "duration": 0.006153,
     "end_time": "2024-08-21T09:46:33.074264",
     "exception": false,
     "start_time": "2024-08-21T09:46:33.068111",
     "status": "completed"
    },
    "tags": []
   },
   "outputs": [],
   "source": [
    "# Setting so that the plots look normal even when using dark-reader\n",
    "sn.set_style(\"whitegrid\")\n",
    "sn.set_context(context=\"paper\", font_scale=2)\n",
    "pal = sn.color_palette(\"Set1\")\n",
    "\n",
    "# Setting up specifics for plotting + saving\n",
    "save_figures = True\n",
    "add_legend = False\n",
    "add_title = False\n",
    "add_axis = False\n",
    "save_parms = {'format': 'pdf','bbox_inches':'tight', 'pad_inches':0.1}\n",
    "line_parms = {'linewidth':4, 'color':'k'}\n",
    "if save_figures:  # saves all figures in a figure directory in the local directory\n",
    "    figure_dir = Path('.') / 'figures' / 'adult-income-experiment'\n",
    "    if not figure_dir.exists():\n",
    "        figure_dir.mkdir(parents=True)"
   ]
  },
  {
   "cell_type": "code",
   "execution_count": 3,
   "id": "22d1d0e0",
   "metadata": {
    "execution": {
     "iopub.execute_input": "2024-08-21T09:46:33.077445Z",
     "iopub.status.busy": "2024-08-21T09:46:33.077339Z",
     "iopub.status.idle": "2024-08-21T09:46:33.079216Z",
     "shell.execute_reply": "2024-08-21T09:46:33.078996Z"
    },
    "papermill": {
     "duration": 0.004226,
     "end_time": "2024-08-21T09:46:33.079934",
     "exception": false,
     "start_time": "2024-08-21T09:46:33.075708",
     "status": "completed"
    },
    "tags": []
   },
   "outputs": [],
   "source": [
    "# Experiment hyperparamters\n",
    "rng = np.random.RandomState(42)\n",
    "split_on_income = False  # if True: src := income>=50k, tgt :+ income<50k, if False: src := male, tgt := female\n",
    "n_samples = 1000"
   ]
  },
  {
   "cell_type": "code",
   "execution_count": 4,
   "id": "48ff09ec",
   "metadata": {
    "execution": {
     "iopub.execute_input": "2024-08-21T09:46:33.083010Z",
     "iopub.status.busy": "2024-08-21T09:46:33.082905Z",
     "iopub.status.idle": "2024-08-21T09:46:33.084398Z",
     "shell.execute_reply": "2024-08-21T09:46:33.084180Z"
    },
    "papermill": {
     "duration": 0.003785,
     "end_time": "2024-08-21T09:46:33.085094",
     "exception": false,
     "start_time": "2024-08-21T09:46:33.081309",
     "status": "completed"
    },
    "tags": [
     "parameters"
    ]
   },
   "outputs": [],
   "source": [
    "comparison_id = None"
   ]
  },
  {
   "cell_type": "code",
   "execution_count": 5,
   "id": "3f54f957",
   "metadata": {
    "execution": {
     "iopub.execute_input": "2024-08-21T09:46:33.088647Z",
     "iopub.status.busy": "2024-08-21T09:46:33.088423Z",
     "iopub.status.idle": "2024-08-21T09:46:33.090115Z",
     "shell.execute_reply": "2024-08-21T09:46:33.089893Z"
    },
    "papermill": {
     "duration": 0.004485,
     "end_time": "2024-08-21T09:46:33.090906",
     "exception": false,
     "start_time": "2024-08-21T09:46:33.086421",
     "status": "completed"
    },
    "tags": [
     "injected-parameters"
    ]
   },
   "outputs": [],
   "source": [
    "# Parameters\n",
    "comparison_id = 0\n"
   ]
  },
  {
   "cell_type": "code",
   "execution_count": 6,
   "id": "dade2b7e",
   "metadata": {
    "execution": {
     "iopub.execute_input": "2024-08-21T09:46:33.095035Z",
     "iopub.status.busy": "2024-08-21T09:46:33.094907Z",
     "iopub.status.idle": "2024-08-21T09:46:33.106785Z",
     "shell.execute_reply": "2024-08-21T09:46:33.106531Z"
    },
    "papermill": {
     "duration": 0.01618,
     "end_time": "2024-08-21T09:46:33.109110",
     "exception": false,
     "start_time": "2024-08-21T09:46:33.092930",
     "status": "completed"
    },
    "tags": []
   },
   "outputs": [
    {
     "name": "stdout",
     "output_type": "stream",
     "text": [
      "['Customer_id', 'Connection', 'Weight', 'Unit_type', 'Day', 'Week']\n"
     ]
    }
   ],
   "source": [
    "\n",
    "# Load the data\n",
    "comparison_dict = {0: [0,1], 1: [2,3], 2: [4,5]}\n",
    "path_customer_profiles = open('./Results_Experiments/File_Paths/path_customer_profiles.txt','r').read()\n",
    "path_transport_graphics = open('./Results_Experiments/File_Paths/path_transport_graphics.txt','r').read()\n",
    "source = pd.read_csv(f'../{path_customer_profiles}/customer_profile_{comparison_dict[comparison_id][0]}.csv')\n",
    "target = pd.read_csv(f'../{path_customer_profiles}/customer_profile_{comparison_dict[comparison_id][1]}.csv')\n",
    "\n",
    "feature_names = source.columns.values\n",
    "feature_names = list(feature_names)\n",
    "print(feature_names)"
   ]
  },
  {
   "cell_type": "code",
   "execution_count": 7,
   "id": "296df3b5",
   "metadata": {
    "execution": {
     "iopub.execute_input": "2024-08-21T09:46:33.112474Z",
     "iopub.status.busy": "2024-08-21T09:46:33.112340Z",
     "iopub.status.idle": "2024-08-21T09:46:33.171878Z",
     "shell.execute_reply": "2024-08-21T09:46:33.171593Z"
    },
    "papermill": {
     "duration": 0.062236,
     "end_time": "2024-08-21T09:46:33.172793",
     "exception": false,
     "start_time": "2024-08-21T09:46:33.110557",
     "status": "completed"
    },
    "tags": []
   },
   "outputs": [],
   "source": [
    "# standardize the source and target data, and convert to domain labels\n",
    "from sklearn.preprocessing import StandardScaler\n",
    "X = np.concatenate((source, target), axis=0)\n",
    "# standardize X to remove cardinatlity bias\n",
    "X = StandardScaler().fit_transform(X)\n",
    "y = np.concatenate((np.zeros(source.shape[0]),\n",
    "                    np.ones(target.shape[0])), axis=0)  # domain labels"
   ]
  },
  {
   "cell_type": "code",
   "execution_count": 8,
   "id": "c5422e1f",
   "metadata": {
    "execution": {
     "iopub.execute_input": "2024-08-21T09:46:33.176129Z",
     "iopub.status.busy": "2024-08-21T09:46:33.175983Z",
     "iopub.status.idle": "2024-08-21T09:46:33.268509Z",
     "shell.execute_reply": "2024-08-21T09:46:33.268217Z"
    },
    "papermill": {
     "duration": 0.095538,
     "end_time": "2024-08-21T09:46:33.269806",
     "exception": false,
     "start_time": "2024-08-21T09:46:33.174268",
     "status": "completed"
    },
    "tags": []
   },
   "outputs": [],
   "source": [
    "from sklearn.datasets import make_classification\n",
    "from sklearn.model_selection import train_test_split\n",
    "\n",
    "X_train, X_test, y_train, y_test = train_test_split(X, y,\n",
    "                                     stratify=y, random_state=42)"
   ]
  },
  {
   "cell_type": "code",
   "execution_count": 9,
   "id": "5d9ba299",
   "metadata": {
    "execution": {
     "iopub.execute_input": "2024-08-21T09:46:33.273718Z",
     "iopub.status.busy": "2024-08-21T09:46:33.273517Z",
     "iopub.status.idle": "2024-08-21T09:46:33.308157Z",
     "shell.execute_reply": "2024-08-21T09:46:33.307781Z"
    },
    "papermill": {
     "duration": 0.037709,
     "end_time": "2024-08-21T09:46:33.309154",
     "exception": false,
     "start_time": "2024-08-21T09:46:33.271445",
     "status": "completed"
    },
    "tags": []
   },
   "outputs": [],
   "source": [
    "# Using XGBoost\n",
    "import xgboost\n",
    "\n",
    "def fit_xgboost(X_train, y_train, X_test, y_test, feature_names=None):\n",
    "    \"\"\" Train an XGBoost model with early stopping.\n",
    "    \"\"\"\n",
    "    dtrain = xgboost.DMatrix(X_train, label=y_train, feature_names=feature_names)\n",
    "    dtest = xgboost.DMatrix(X_test, label=y_test, feature_names=feature_names)\n",
    "    # model = xgboost.train(\n",
    "    #     { \"eta\": 0.001, \"subsample\": 0.5, \"max_depth\": 2,\n",
    "    #       \"objective\": 'binary:logistic', 'eval_metric': 'logloss'}, dtrain, num_boost_round=200000,\n",
    "    #     evals=[(dtest,'eval'), (dtrain,'train')], early_stopping_rounds=20, verbose_eval=False\n",
    "    # )\n",
    "    model = xgboost.train(\n",
    "        {\"objective\": 'binary:logistic', 'eval_metric': 'logloss'},\n",
    "        dtrain,\n",
    "        evals=[(dtest,'eval'), (dtrain,'train')],\n",
    "        verbose_eval=False)\n",
    "    return model"
   ]
  },
  {
   "cell_type": "code",
   "execution_count": 10,
   "id": "bd7ac9f1",
   "metadata": {
    "execution": {
     "iopub.execute_input": "2024-08-21T09:46:33.312676Z",
     "iopub.status.busy": "2024-08-21T09:46:33.312548Z",
     "iopub.status.idle": "2024-08-21T09:46:33.347063Z",
     "shell.execute_reply": "2024-08-21T09:46:33.346809Z"
    },
    "papermill": {
     "duration": 0.037328,
     "end_time": "2024-08-21T09:46:33.347978",
     "exception": false,
     "start_time": "2024-08-21T09:46:33.310650",
     "status": "completed"
    },
    "tags": []
   },
   "outputs": [],
   "source": [
    "xgb_forest = fit_xgboost(X_train, y_train, X_test, y_test, feature_names)\n",
    "xgb_forest.feature_names = feature_names"
   ]
  },
  {
   "cell_type": "code",
   "execution_count": 11,
   "id": "dcaa3020",
   "metadata": {
    "execution": {
     "iopub.execute_input": "2024-08-21T09:46:33.351181Z",
     "iopub.status.busy": "2024-08-21T09:46:33.351073Z",
     "iopub.status.idle": "2024-08-21T09:46:33.352912Z",
     "shell.execute_reply": "2024-08-21T09:46:33.352696Z"
    },
    "papermill": {
     "duration": 0.00429,
     "end_time": "2024-08-21T09:46:33.353734",
     "exception": false,
     "start_time": "2024-08-21T09:46:33.349444",
     "status": "completed"
    },
    "tags": []
   },
   "outputs": [],
   "source": [
    "def get_acc(model, samples, labels, feature_names=None):\n",
    "    predictions = (model.predict(xgboost.DMatrix(samples,\n",
    "                                                 feature_names=feature_names)) > 0.5).astype(int)\n",
    "    return (predictions == labels).sum() / predictions.shape[0]"
   ]
  },
  {
   "cell_type": "code",
   "execution_count": 12,
   "id": "7ce6b380",
   "metadata": {
    "execution": {
     "iopub.execute_input": "2024-08-21T09:46:33.356856Z",
     "iopub.status.busy": "2024-08-21T09:46:33.356747Z",
     "iopub.status.idle": "2024-08-21T09:46:33.360583Z",
     "shell.execute_reply": "2024-08-21T09:46:33.360265Z"
    },
    "papermill": {
     "duration": 0.006205,
     "end_time": "2024-08-21T09:46:33.361310",
     "exception": false,
     "start_time": "2024-08-21T09:46:33.355105",
     "status": "completed"
    },
    "tags": []
   },
   "outputs": [
    {
     "name": "stdout",
     "output_type": "stream",
     "text": [
      "Train score: 0.8823017943245594\n",
      "Test score: 0.8764524543514347\n"
     ]
    }
   ],
   "source": [
    "print('Train score:', get_acc(xgb_forest, X_train, y_train, feature_names))\n",
    "print('Test score:', get_acc(xgb_forest, X_test, y_test, feature_names))"
   ]
  },
  {
   "cell_type": "code",
   "execution_count": 13,
   "id": "97a1d2b0",
   "metadata": {
    "execution": {
     "iopub.execute_input": "2024-08-21T09:46:33.364549Z",
     "iopub.status.busy": "2024-08-21T09:46:33.364445Z",
     "iopub.status.idle": "2024-08-21T09:46:33.932935Z",
     "shell.execute_reply": "2024-08-21T09:46:33.931923Z"
    },
    "papermill": {
     "duration": 0.574767,
     "end_time": "2024-08-21T09:46:33.937515",
     "exception": false,
     "start_time": "2024-08-21T09:46:33.362748",
     "status": "completed"
    },
    "tags": []
   },
   "outputs": [],
   "source": [
    "import shap\n",
    "import pandas as pd\n",
    "explainer = shap.Explainer(xgb_forest)\n",
    "\n",
    "shap_values = explainer(pd.DataFrame(X_test, columns=feature_names))\n"
   ]
  },
  {
   "cell_type": "code",
   "execution_count": 14,
   "id": "8e7a54a8",
   "metadata": {
    "execution": {
     "iopub.execute_input": "2024-08-21T09:46:33.944584Z",
     "iopub.status.busy": "2024-08-21T09:46:33.943914Z",
     "iopub.status.idle": "2024-08-21T09:46:34.565296Z",
     "shell.execute_reply": "2024-08-21T09:46:34.564988Z"
    },
    "papermill": {
     "duration": 0.625827,
     "end_time": "2024-08-21T09:46:34.566263",
     "exception": false,
     "start_time": "2024-08-21T09:46:33.940436",
     "status": "completed"
    },
    "tags": []
   },
   "outputs": [
    {
     "data": {
      "image/png": "[encoded data removed]",
      "text/plain": [
       "<Figure size 400x200 with 2 Axes>"
      ]
     },
     "metadata": {},
     "output_type": "display_data"
    }
   ],
   "source": [
    "# Beeswarm plot\n",
    "\n",
    "shap.plots.beeswarm(shap_values, show=False)\n",
    "fig = plt.gcf()\n",
    "fig.set_size_inches(4, 2, forward=True)\n",
    "if save_figures: plt.savefig(\n",
    "    f'../{path_transport_graphics}/logitics_data_on_customer_profile_{comparison_dict[comparison_id][0]} and customer_profile_{comparison_dict[comparison_id][1]}-shap-value.{save_parms[\"format\"]}',\n",
    "    **save_parms\n",
    "    )\n",
    "plt.show()"
   ]
  }
 ],
 "metadata": {
  "kernelspec": {
   "display_name": "Python 3.7.11 ('py37')",
   "language": "python",
   "name": "python3"
  },
  "language_info": {
   "codemirror_mode": {
    "name": "ipython",
    "version": 3
   },
   "file_extension": ".py",
   "mimetype": "text/x-python",
   "name": "python",
   "nbconvert_exporter": "python",
   "pygments_lexer": "ipython3",
   "version": "3.12.0"
  },
  "papermill": {
   "default_parameters": {},
   "duration": 4.356485,
   "end_time": "2024-08-21T09:46:34.988168",
   "environment_variables": {},
   "exception": null,
   "input_path": "experiment_baseline.ipynb",
   "output_path": "./Results_Experiments/Set_C_max_to_10/experiment_baseline_1.ipynb",
   "parameters": {
    "comparison_id": 0
   },
   "start_time": "2024-08-21T09:46:30.631683",
   "version": "2.6.0"
  },
  "vscode": {
   "interpreter": {
    "hash": "5ab0220f0ca30ec7bac8a7e209564eceae6d15412b9f87f3c2f91206aa8b151c"
   }
  }
 },
 "nbformat": 4,
 "nbformat_minor": 5
}