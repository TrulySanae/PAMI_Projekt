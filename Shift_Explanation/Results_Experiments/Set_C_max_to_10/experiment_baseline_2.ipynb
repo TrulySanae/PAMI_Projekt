{
 "cells": [
  {
   "cell_type": "code",
   "execution_count": 1,
   "id": "d05cab18",
   "metadata": {
    "execution": {
     "iopub.execute_input": "2024-08-21T09:46:35.538884Z",
     "iopub.status.busy": "2024-08-21T09:46:35.538586Z",
     "iopub.status.idle": "2024-08-21T09:46:36.448279Z",
     "shell.execute_reply": "2024-08-21T09:46:36.447976Z"
    },
    "papermill": {
     "duration": 0.916015,
     "end_time": "2024-08-21T09:46:36.449259",
     "exception": false,
     "start_time": "2024-08-21T09:46:35.533244",
     "status": "completed"
    },
    "tags": []
   },
   "outputs": [],
   "source": [
    "import matplotlib.pyplot as plt\n",
    "import numpy as np\n",
    "import pandas as pd\n",
    "from pathlib import Path\n",
    "import seaborn as sn\n"
   ]
  },
  {
   "cell_type": "code",
   "execution_count": 2,
   "id": "d6302d10",
   "metadata": {
    "execution": {
     "iopub.execute_input": "2024-08-21T09:46:36.452678Z",
     "iopub.status.busy": "2024-08-21T09:46:36.452530Z",
     "iopub.status.idle": "2024-08-21T09:46:36.455229Z",
     "shell.execute_reply": "2024-08-21T09:46:36.454978Z"
    },
    "papermill": {
     "duration": 0.00521,
     "end_time": "2024-08-21T09:46:36.455928",
     "exception": false,
     "start_time": "2024-08-21T09:46:36.450718",
     "status": "completed"
    },
    "tags": []
   },
   "outputs": [],
   "source": [
    "# Setting so that the plots look normal even when using dark-reader\n",
    "sn.set_style(\"whitegrid\")\n",
    "sn.set_context(context=\"paper\", font_scale=2)\n",
    "pal = sn.color_palette(\"Set1\")\n",
    "\n",
    "# Setting up specifics for plotting + saving\n",
    "save_figures = True\n",
    "add_legend = False\n",
    "add_title = False\n",
    "add_axis = False\n",
    "save_parms = {'format': 'pdf','bbox_inches':'tight', 'pad_inches':0.1}\n",
    "line_parms = {'linewidth':4, 'color':'k'}\n",
    "if save_figures:  # saves all figures in a figure directory in the local directory\n",
    "    figure_dir = Path('.') / 'figures' / 'adult-income-experiment'\n",
    "    if not figure_dir.exists():\n",
    "        figure_dir.mkdir(parents=True)"
   ]
  },
  {
   "cell_type": "code",
   "execution_count": 3,
   "id": "22d1d0e0",
   "metadata": {
    "execution": {
     "iopub.execute_input": "2024-08-21T09:46:36.458997Z",
     "iopub.status.busy": "2024-08-21T09:46:36.458890Z",
     "iopub.status.idle": "2024-08-21T09:46:36.460679Z",
     "shell.execute_reply": "2024-08-21T09:46:36.460477Z"
    },
    "papermill": {
     "duration": 0.004265,
     "end_time": "2024-08-21T09:46:36.461467",
     "exception": false,
     "start_time": "2024-08-21T09:46:36.457202",
     "status": "completed"
    },
    "tags": []
   },
   "outputs": [],
   "source": [
    "# Experiment hyperparamters\n",
    "rng = np.random.RandomState(42)\n",
    "split_on_income = False  # if True: src := income>=50k, tgt :+ income<50k, if False: src := male, tgt := female\n",
    "n_samples = 1000"
   ]
  },
  {
   "cell_type": "code",
   "execution_count": 4,
   "id": "48ff09ec",
   "metadata": {
    "execution": {
     "iopub.execute_input": "2024-08-21T09:46:36.464575Z",
     "iopub.status.busy": "2024-08-21T09:46:36.464473Z",
     "iopub.status.idle": "2024-08-21T09:46:36.466023Z",
     "shell.execute_reply": "2024-08-21T09:46:36.465778Z"
    },
    "papermill": {
     "duration": 0.003868,
     "end_time": "2024-08-21T09:46:36.466772",
     "exception": false,
     "start_time": "2024-08-21T09:46:36.462904",
     "status": "completed"
    },
    "tags": [
     "parameters"
    ]
   },
   "outputs": [],
   "source": [
    "comparison_id = None"
   ]
  },
  {
   "cell_type": "code",
   "execution_count": 5,
   "id": "712df58c",
   "metadata": {
    "execution": {
     "iopub.execute_input": "2024-08-21T09:46:36.469878Z",
     "iopub.status.busy": "2024-08-21T09:46:36.469754Z",
     "iopub.status.idle": "2024-08-21T09:46:36.471384Z",
     "shell.execute_reply": "2024-08-21T09:46:36.471124Z"
    },
    "papermill": {
     "duration": 0.004169,
     "end_time": "2024-08-21T09:46:36.472157",
     "exception": false,
     "start_time": "2024-08-21T09:46:36.467988",
     "status": "completed"
    },
    "tags": [
     "injected-parameters"
    ]
   },
   "outputs": [],
   "source": [
    "# Parameters\n",
    "comparison_id = 1\n"
   ]
  },
  {
   "cell_type": "code",
   "execution_count": 6,
   "id": "dade2b7e",
   "metadata": {
    "execution": {
     "iopub.execute_input": "2024-08-21T09:46:36.476236Z",
     "iopub.status.busy": "2024-08-21T09:46:36.476108Z",
     "iopub.status.idle": "2024-08-21T09:46:36.485996Z",
     "shell.execute_reply": "2024-08-21T09:46:36.485662Z"
    },
    "papermill": {
     "duration": 0.013441,
     "end_time": "2024-08-21T09:46:36.487022",
     "exception": false,
     "start_time": "2024-08-21T09:46:36.473581",
     "status": "completed"
    },
    "tags": []
   },
   "outputs": [
    {
     "name": "stdout",
     "output_type": "stream",
     "text": [
      "['Customer_id', 'Connection', 'Weight', 'Unit_type', 'Day', 'Week']\n"
     ]
    }
   ],
   "source": [
    "\n",
    "# Load the data\n",
    "comparison_dict = {0: [0,1], 1: [2,3], 2: [4,5]}\n",
    "path_customer_profiles = open('./Results_Experiments/File_Paths/path_customer_profiles.txt','r').read()\n",
    "path_transport_graphics = open('./Results_Experiments/File_Paths/path_transport_graphics.txt','r').read()\n",
    "source = pd.read_csv(f'../{path_customer_profiles}/customer_profile_{comparison_dict[comparison_id][0]}.csv')\n",
    "target = pd.read_csv(f'../{path_customer_profiles}/customer_profile_{comparison_dict[comparison_id][1]}.csv')\n",
    "\n",
    "feature_names = source.columns.values\n",
    "feature_names = list(feature_names)\n",
    "print(feature_names)"
   ]
  },
  {
   "cell_type": "code",
   "execution_count": 7,
   "id": "296df3b5",
   "metadata": {
    "execution": {
     "iopub.execute_input": "2024-08-21T09:46:36.491111Z",
     "iopub.status.busy": "2024-08-21T09:46:36.490998Z",
     "iopub.status.idle": "2024-08-21T09:46:36.524224Z",
     "shell.execute_reply": "2024-08-21T09:46:36.523970Z"
    },
    "papermill": {
     "duration": 0.036628,
     "end_time": "2024-08-21T09:46:36.525137",
     "exception": false,
     "start_time": "2024-08-21T09:46:36.488509",
     "status": "completed"
    },
    "tags": []
   },
   "outputs": [],
   "source": [
    "# standardize the source and target data, and convert to domain labels\n",
    "from sklearn.preprocessing import StandardScaler\n",
    "X = np.concatenate((source, target), axis=0)\n",
    "# standardize X to remove cardinatlity bias\n",
    "X = StandardScaler().fit_transform(X)\n",
    "y = np.concatenate((np.zeros(source.shape[0]),\n",
    "                    np.ones(target.shape[0])), axis=0)  # domain labels"
   ]
  },
  {
   "cell_type": "code",
   "execution_count": 8,
   "id": "c5422e1f",
   "metadata": {
    "execution": {
     "iopub.execute_input": "2024-08-21T09:46:36.528254Z",
     "iopub.status.busy": "2024-08-21T09:46:36.528103Z",
     "iopub.status.idle": "2024-08-21T09:46:36.581702Z",
     "shell.execute_reply": "2024-08-21T09:46:36.581448Z"
    },
    "papermill": {
     "duration": 0.056078,
     "end_time": "2024-08-21T09:46:36.582591",
     "exception": false,
     "start_time": "2024-08-21T09:46:36.526513",
     "status": "completed"
    },
    "tags": []
   },
   "outputs": [],
   "source": [
    "from sklearn.datasets import make_classification\n",
    "from sklearn.model_selection import train_test_split\n",
    "\n",
    "X_train, X_test, y_train, y_test = train_test_split(X, y,\n",
    "                                     stratify=y, random_state=42)"
   ]
  },
  {
   "cell_type": "code",
   "execution_count": 9,
   "id": "5d9ba299",
   "metadata": {
    "execution": {
     "iopub.execute_input": "2024-08-21T09:46:36.586368Z",
     "iopub.status.busy": "2024-08-21T09:46:36.586200Z",
     "iopub.status.idle": "2024-08-21T09:46:36.599921Z",
     "shell.execute_reply": "2024-08-21T09:46:36.599647Z"
    },
    "papermill": {
     "duration": 0.016728,
     "end_time": "2024-08-21T09:46:36.600952",
     "exception": false,
     "start_time": "2024-08-21T09:46:36.584224",
     "status": "completed"
    },
    "tags": []
   },
   "outputs": [],
   "source": [
    "# Using XGBoost\n",
    "import xgboost\n",
    "\n",
    "def fit_xgboost(X_train, y_train, X_test, y_test, feature_names=None):\n",
    "    \"\"\" Train an XGBoost model with early stopping.\n",
    "    \"\"\"\n",
    "    dtrain = xgboost.DMatrix(X_train, label=y_train, feature_names=feature_names)\n",
    "    dtest = xgboost.DMatrix(X_test, label=y_test, feature_names=feature_names)\n",
    "    # model = xgboost.train(\n",
    "    #     { \"eta\": 0.001, \"subsample\": 0.5, \"max_depth\": 2,\n",
    "    #       \"objective\": 'binary:logistic', 'eval_metric': 'logloss'}, dtrain, num_boost_round=200000,\n",
    "    #     evals=[(dtest,'eval'), (dtrain,'train')], early_stopping_rounds=20, verbose_eval=False\n",
    "    # )\n",
    "    model = xgboost.train(\n",
    "        {\"objective\": 'binary:logistic', 'eval_metric': 'logloss'},\n",
    "        dtrain,\n",
    "        evals=[(dtest,'eval'), (dtrain,'train')],\n",
    "        verbose_eval=False)\n",
    "    return model"
   ]
  },
  {
   "cell_type": "code",
   "execution_count": 10,
   "id": "bd7ac9f1",
   "metadata": {
    "execution": {
     "iopub.execute_input": "2024-08-21T09:46:36.605194Z",
     "iopub.status.busy": "2024-08-21T09:46:36.605054Z",
     "iopub.status.idle": "2024-08-21T09:46:36.630470Z",
     "shell.execute_reply": "2024-08-21T09:46:36.630130Z"
    },
    "papermill": {
     "duration": 0.02883,
     "end_time": "2024-08-21T09:46:36.631722",
     "exception": false,
     "start_time": "2024-08-21T09:46:36.602892",
     "status": "completed"
    },
    "tags": []
   },
   "outputs": [],
   "source": [
    "xgb_forest = fit_xgboost(X_train, y_train, X_test, y_test, feature_names)\n",
    "xgb_forest.feature_names = feature_names"
   ]
  },
  {
   "cell_type": "code",
   "execution_count": 11,
   "id": "dcaa3020",
   "metadata": {
    "execution": {
     "iopub.execute_input": "2024-08-21T09:46:36.635462Z",
     "iopub.status.busy": "2024-08-21T09:46:36.635326Z",
     "iopub.status.idle": "2024-08-21T09:46:36.637322Z",
     "shell.execute_reply": "2024-08-21T09:46:36.637040Z"
    },
    "papermill": {
     "duration": 0.004746,
     "end_time": "2024-08-21T09:46:36.638084",
     "exception": false,
     "start_time": "2024-08-21T09:46:36.633338",
     "status": "completed"
    },
    "tags": []
   },
   "outputs": [],
   "source": [
    "def get_acc(model, samples, labels, feature_names=None):\n",
    "    predictions = (model.predict(xgboost.DMatrix(samples,\n",
    "                                                 feature_names=feature_names)) > 0.5).astype(int)\n",
    "    return (predictions == labels).sum() / predictions.shape[0]"
   ]
  },
  {
   "cell_type": "code",
   "execution_count": 12,
   "id": "7ce6b380",
   "metadata": {
    "execution": {
     "iopub.execute_input": "2024-08-21T09:46:36.641430Z",
     "iopub.status.busy": "2024-08-21T09:46:36.641290Z",
     "iopub.status.idle": "2024-08-21T09:46:36.646011Z",
     "shell.execute_reply": "2024-08-21T09:46:36.645750Z"
    },
    "papermill": {
     "duration": 0.007338,
     "end_time": "2024-08-21T09:46:36.646866",
     "exception": false,
     "start_time": "2024-08-21T09:46:36.639528",
     "status": "completed"
    },
    "tags": []
   },
   "outputs": [
    {
     "name": "stdout",
     "output_type": "stream",
     "text": [
      "Train score: 0.8559929163648072\n",
      "Test score: 0.8491067117334621\n"
     ]
    }
   ],
   "source": [
    "print('Train score:', get_acc(xgb_forest, X_train, y_train, feature_names))\n",
    "print('Test score:', get_acc(xgb_forest, X_test, y_test, feature_names))"
   ]
  },
  {
   "cell_type": "code",
   "execution_count": 13,
   "id": "97a1d2b0",
   "metadata": {
    "execution": {
     "iopub.execute_input": "2024-08-21T09:46:36.650268Z",
     "iopub.status.busy": "2024-08-21T09:46:36.650149Z",
     "iopub.status.idle": "2024-08-21T09:46:36.918140Z",
     "shell.execute_reply": "2024-08-21T09:46:36.917885Z"
    },
    "papermill": {
     "duration": 0.270739,
     "end_time": "2024-08-21T09:46:36.919147",
     "exception": false,
     "start_time": "2024-08-21T09:46:36.648408",
     "status": "completed"
    },
    "tags": []
   },
   "outputs": [],
   "source": [
    "import shap\n",
    "import pandas as pd\n",
    "explainer = shap.Explainer(xgb_forest)\n",
    "\n",
    "shap_values = explainer(pd.DataFrame(X_test, columns=feature_names))\n"
   ]
  },
  {
   "cell_type": "code",
   "execution_count": 14,
   "id": "8e7a54a8",
   "metadata": {
    "execution": {
     "iopub.execute_input": "2024-08-21T09:46:36.922549Z",
     "iopub.status.busy": "2024-08-21T09:46:36.922398Z",
     "iopub.status.idle": "2024-08-21T09:46:37.885886Z",
     "shell.execute_reply": "2024-08-21T09:46:37.885375Z"
    },
    "papermill": {
     "duration": 0.968502,
     "end_time": "2024-08-21T09:46:37.889219",
     "exception": false,
     "start_time": "2024-08-21T09:46:36.920717",
     "status": "completed"
    },
    "tags": []
   },
   "outputs": [
    {
     "data": {
      "image/png": "[encoded data removed]",
      "text/plain": [
       "<Figure size 400x200 with 2 Axes>"
      ]
     },
     "metadata": {},
     "output_type": "display_data"
    }
   ],
   "source": [
    "# Beeswarm plot\n",
    "\n",
    "shap.plots.beeswarm(shap_values, show=False)\n",
    "fig = plt.gcf()\n",
    "fig.set_size_inches(4, 2, forward=True)\n",
    "if save_figures: plt.savefig(\n",
    "    f'../{path_transport_graphics}/logitics_data_on_customer_profile_{comparison_dict[comparison_id][0]} and customer_profile_{comparison_dict[comparison_id][1]}-shap-value.{save_parms[\"format\"]}',\n",
    "    **save_parms\n",
    "    )\n",
    "plt.show()"
   ]
  }
 ],
 "metadata": {
  "kernelspec": {
   "display_name": "Python 3.7.11 ('py37')",
   "language": "python",
   "name": "python3"
  },
  "language_info": {
   "codemirror_mode": {
    "name": "ipython",
    "version": 3
   },
   "file_extension": ".py",
   "mimetype": "text/x-python",
   "name": "python",
   "nbconvert_exporter": "python",
   "pygments_lexer": "ipython3",
   "version": "3.12.0"
  },
  "papermill": {
   "default_parameters": {},
   "duration": 3.317444,
   "end_time": "2024-08-21T09:46:38.312755",
   "environment_variables": {},
   "exception": null,
   "input_path": "experiment_baseline.ipynb",
   "output_path": "./Results_Experiments/Set_C_max_to_10/experiment_baseline_2.ipynb",
   "parameters": {
    "comparison_id": 1
   },
   "start_time": "2024-08-21T09:46:34.995311",
   "version": "2.6.0"
  },
  "vscode": {
   "interpreter": {
    "hash": "5ab0220f0ca30ec7bac8a7e209564eceae6d15412b9f87f3c2f91206aa8b151c"
   }
  }
 },
 "nbformat": 4,
 "nbformat_minor": 5
}