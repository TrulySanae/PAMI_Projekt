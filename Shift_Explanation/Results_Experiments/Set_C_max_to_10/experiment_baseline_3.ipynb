{
 "cells": [
  {
   "cell_type": "code",
   "execution_count": 1,
   "id": "d05cab18",
   "metadata": {
    "execution": {
     "iopub.execute_input": "2024-08-21T09:46:39.052525Z",
     "iopub.status.busy": "2024-08-21T09:46:39.052160Z",
     "iopub.status.idle": "2024-08-21T09:46:39.975527Z",
     "shell.execute_reply": "2024-08-21T09:46:39.975234Z"
    },
    "papermill": {
     "duration": 0.930946,
     "end_time": "2024-08-21T09:46:39.976500",
     "exception": false,
     "start_time": "2024-08-21T09:46:39.045554",
     "status": "completed"
    },
    "tags": []
   },
   "outputs": [],
   "source": [
    "import matplotlib.pyplot as plt\n",
    "import numpy as np\n",
    "import pandas as pd\n",
    "from pathlib import Path\n",
    "import seaborn as sn\n"
   ]
  },
  {
   "cell_type": "code",
   "execution_count": 2,
   "id": "d6302d10",
   "metadata": {
    "execution": {
     "iopub.execute_input": "2024-08-21T09:46:39.979736Z",
     "iopub.status.busy": "2024-08-21T09:46:39.979570Z",
     "iopub.status.idle": "2024-08-21T09:46:39.982627Z",
     "shell.execute_reply": "2024-08-21T09:46:39.982385Z"
    },
    "papermill": {
     "duration": 0.005497,
     "end_time": "2024-08-21T09:46:39.983433",
     "exception": false,
     "start_time": "2024-08-21T09:46:39.977936",
     "status": "completed"
    },
    "tags": []
   },
   "outputs": [],
   "source": [
    "# Setting so that the plots look normal even when using dark-reader\n",
    "sn.set_style(\"whitegrid\")\n",
    "sn.set_context(context=\"paper\", font_scale=2)\n",
    "pal = sn.color_palette(\"Set1\")\n",
    "\n",
    "# Setting up specifics for plotting + saving\n",
    "save_figures = True\n",
    "add_legend = False\n",
    "add_title = False\n",
    "add_axis = False\n",
    "save_parms = {'format': 'pdf','bbox_inches':'tight', 'pad_inches':0.1}\n",
    "line_parms = {'linewidth':4, 'color':'k'}\n",
    "if save_figures:  # saves all figures in a figure directory in the local directory\n",
    "    figure_dir = Path('.') / 'figures' / 'adult-income-experiment'\n",
    "    if not figure_dir.exists():\n",
    "        figure_dir.mkdir(parents=True)"
   ]
  },
  {
   "cell_type": "code",
   "execution_count": 3,
   "id": "22d1d0e0",
   "metadata": {
    "execution": {
     "iopub.execute_input": "2024-08-21T09:46:39.987235Z",
     "iopub.status.busy": "2024-08-21T09:46:39.987089Z",
     "iopub.status.idle": "2024-08-21T09:46:39.989122Z",
     "shell.execute_reply": "2024-08-21T09:46:39.988872Z"
    },
    "papermill": {
     "duration": 0.005742,
     "end_time": "2024-08-21T09:46:39.990862",
     "exception": false,
     "start_time": "2024-08-21T09:46:39.985120",
     "status": "completed"
    },
    "tags": []
   },
   "outputs": [],
   "source": [
    "# Experiment hyperparamters\n",
    "rng = np.random.RandomState(42)\n",
    "split_on_income = False  # if True: src := income>=50k, tgt :+ income<50k, if False: src := male, tgt := female\n",
    "n_samples = 1000"
   ]
  },
  {
   "cell_type": "code",
   "execution_count": 4,
   "id": "48ff09ec",
   "metadata": {
    "execution": {
     "iopub.execute_input": "2024-08-21T09:46:39.994724Z",
     "iopub.status.busy": "2024-08-21T09:46:39.994461Z",
     "iopub.status.idle": "2024-08-21T09:46:39.996360Z",
     "shell.execute_reply": "2024-08-21T09:46:39.996092Z"
    },
    "papermill": {
     "duration": 0.004594,
     "end_time": "2024-08-21T09:46:39.997118",
     "exception": false,
     "start_time": "2024-08-21T09:46:39.992524",
     "status": "completed"
    },
    "tags": [
     "parameters"
    ]
   },
   "outputs": [],
   "source": [
    "comparison_id = None"
   ]
  },
  {
   "cell_type": "code",
   "execution_count": 5,
   "id": "cce08b68",
   "metadata": {
    "execution": {
     "iopub.execute_input": "2024-08-21T09:46:40.000098Z",
     "iopub.status.busy": "2024-08-21T09:46:39.999988Z",
     "iopub.status.idle": "2024-08-21T09:46:40.002171Z",
     "shell.execute_reply": "2024-08-21T09:46:40.001492Z"
    },
    "papermill": {
     "duration": 0.005171,
     "end_time": "2024-08-21T09:46:40.003619",
     "exception": false,
     "start_time": "2024-08-21T09:46:39.998448",
     "status": "completed"
    },
    "tags": [
     "injected-parameters"
    ]
   },
   "outputs": [],
   "source": [
    "# Parameters\n",
    "comparison_id = 2\n"
   ]
  },
  {
   "cell_type": "code",
   "execution_count": 6,
   "id": "dade2b7e",
   "metadata": {
    "execution": {
     "iopub.execute_input": "2024-08-21T09:46:40.006684Z",
     "iopub.status.busy": "2024-08-21T09:46:40.006564Z",
     "iopub.status.idle": "2024-08-21T09:46:40.016638Z",
     "shell.execute_reply": "2024-08-21T09:46:40.016374Z"
    },
    "papermill": {
     "duration": 0.013131,
     "end_time": "2024-08-21T09:46:40.018108",
     "exception": false,
     "start_time": "2024-08-21T09:46:40.004977",
     "status": "completed"
    },
    "tags": []
   },
   "outputs": [
    {
     "name": "stdout",
     "output_type": "stream",
     "text": [
      "['Customer_id', 'Connection', 'Weight', 'Unit_type', 'Day', 'Week']\n"
     ]
    }
   ],
   "source": [
    "\n",
    "# Load the data\n",
    "comparison_dict = {0: [0,1], 1: [2,3], 2: [4,5]}\n",
    "path_customer_profiles = open('./Results_Experiments/File_Paths/path_customer_profiles.txt','r').read()\n",
    "path_transport_graphics = open('./Results_Experiments/File_Paths/path_transport_graphics.txt','r').read()\n",
    "source = pd.read_csv(f'../{path_customer_profiles}/customer_profile_{comparison_dict[comparison_id][0]}.csv')\n",
    "target = pd.read_csv(f'../{path_customer_profiles}/customer_profile_{comparison_dict[comparison_id][1]}.csv')\n",
    "\n",
    "feature_names = source.columns.values\n",
    "feature_names = list(feature_names)\n",
    "print(feature_names)"
   ]
  },
  {
   "cell_type": "code",
   "execution_count": 7,
   "id": "296df3b5",
   "metadata": {
    "execution": {
     "iopub.execute_input": "2024-08-21T09:46:40.021360Z",
     "iopub.status.busy": "2024-08-21T09:46:40.021238Z",
     "iopub.status.idle": "2024-08-21T09:46:40.056932Z",
     "shell.execute_reply": "2024-08-21T09:46:40.056639Z"
    },
    "papermill": {
     "duration": 0.03823,
     "end_time": "2024-08-21T09:46:40.057816",
     "exception": false,
     "start_time": "2024-08-21T09:46:40.019586",
     "status": "completed"
    },
    "tags": []
   },
   "outputs": [],
   "source": [
    "# standardize the source and target data, and convert to domain labels\n",
    "from sklearn.preprocessing import StandardScaler\n",
    "X = np.concatenate((source, target), axis=0)\n",
    "# standardize X to remove cardinatlity bias\n",
    "X = StandardScaler().fit_transform(X)\n",
    "y = np.concatenate((np.zeros(source.shape[0]),\n",
    "                    np.ones(target.shape[0])), axis=0)  # domain labels"
   ]
  },
  {
   "cell_type": "code",
   "execution_count": 8,
   "id": "c5422e1f",
   "metadata": {
    "execution": {
     "iopub.execute_input": "2024-08-21T09:46:40.061036Z",
     "iopub.status.busy": "2024-08-21T09:46:40.060882Z",
     "iopub.status.idle": "2024-08-21T09:46:40.117075Z",
     "shell.execute_reply": "2024-08-21T09:46:40.116720Z"
    },
    "papermill": {
     "duration": 0.058934,
     "end_time": "2024-08-21T09:46:40.118129",
     "exception": false,
     "start_time": "2024-08-21T09:46:40.059195",
     "status": "completed"
    },
    "tags": []
   },
   "outputs": [],
   "source": [
    "from sklearn.datasets import make_classification\n",
    "from sklearn.model_selection import train_test_split\n",
    "\n",
    "X_train, X_test, y_train, y_test = train_test_split(X, y,\n",
    "                                     stratify=y, random_state=42)"
   ]
  },
  {
   "cell_type": "code",
   "execution_count": 9,
   "id": "5d9ba299",
   "metadata": {
    "execution": {
     "iopub.execute_input": "2024-08-21T09:46:40.121537Z",
     "iopub.status.busy": "2024-08-21T09:46:40.121383Z",
     "iopub.status.idle": "2024-08-21T09:46:40.136263Z",
     "shell.execute_reply": "2024-08-21T09:46:40.135955Z"
    },
    "papermill": {
     "duration": 0.017486,
     "end_time": "2024-08-21T09:46:40.137181",
     "exception": false,
     "start_time": "2024-08-21T09:46:40.119695",
     "status": "completed"
    },
    "tags": []
   },
   "outputs": [],
   "source": [
    "# Using XGBoost\n",
    "import xgboost\n",
    "\n",
    "def fit_xgboost(X_train, y_train, X_test, y_test, feature_names=None):\n",
    "    \"\"\" Train an XGBoost model with early stopping.\n",
    "    \"\"\"\n",
    "    dtrain = xgboost.DMatrix(X_train, label=y_train, feature_names=feature_names)\n",
    "    dtest = xgboost.DMatrix(X_test, label=y_test, feature_names=feature_names)\n",
    "    # model = xgboost.train(\n",
    "    #     { \"eta\": 0.001, \"subsample\": 0.5, \"max_depth\": 2,\n",
    "    #       \"objective\": 'binary:logistic', 'eval_metric': 'logloss'}, dtrain, num_boost_round=200000,\n",
    "    #     evals=[(dtest,'eval'), (dtrain,'train')], early_stopping_rounds=20, verbose_eval=False\n",
    "    # )\n",
    "    model = xgboost.train(\n",
    "        {\"objective\": 'binary:logistic', 'eval_metric': 'logloss'},\n",
    "        dtrain,\n",
    "        evals=[(dtest,'eval'), (dtrain,'train')],\n",
    "        verbose_eval=False)\n",
    "    return model"
   ]
  },
  {
   "cell_type": "code",
   "execution_count": 10,
   "id": "bd7ac9f1",
   "metadata": {
    "execution": {
     "iopub.execute_input": "2024-08-21T09:46:40.140234Z",
     "iopub.status.busy": "2024-08-21T09:46:40.140133Z",
     "iopub.status.idle": "2024-08-21T09:46:40.158581Z",
     "shell.execute_reply": "2024-08-21T09:46:40.158207Z"
    },
    "papermill": {
     "duration": 0.021776,
     "end_time": "2024-08-21T09:46:40.160330",
     "exception": false,
     "start_time": "2024-08-21T09:46:40.138554",
     "status": "completed"
    },
    "tags": []
   },
   "outputs": [],
   "source": [
    "xgb_forest = fit_xgboost(X_train, y_train, X_test, y_test, feature_names)\n",
    "xgb_forest.feature_names = feature_names"
   ]
  },
  {
   "cell_type": "code",
   "execution_count": 11,
   "id": "dcaa3020",
   "metadata": {
    "execution": {
     "iopub.execute_input": "2024-08-21T09:46:40.163945Z",
     "iopub.status.busy": "2024-08-21T09:46:40.163811Z",
     "iopub.status.idle": "2024-08-21T09:46:40.165728Z",
     "shell.execute_reply": "2024-08-21T09:46:40.165479Z"
    },
    "papermill": {
     "duration": 0.004678,
     "end_time": "2024-08-21T09:46:40.166497",
     "exception": false,
     "start_time": "2024-08-21T09:46:40.161819",
     "status": "completed"
    },
    "tags": []
   },
   "outputs": [],
   "source": [
    "def get_acc(model, samples, labels, feature_names=None):\n",
    "    predictions = (model.predict(xgboost.DMatrix(samples,\n",
    "                                                 feature_names=feature_names)) > 0.5).astype(int)\n",
    "    return (predictions == labels).sum() / predictions.shape[0]"
   ]
  },
  {
   "cell_type": "code",
   "execution_count": 12,
   "id": "7ce6b380",
   "metadata": {
    "execution": {
     "iopub.execute_input": "2024-08-21T09:46:40.169904Z",
     "iopub.status.busy": "2024-08-21T09:46:40.169793Z",
     "iopub.status.idle": "2024-08-21T09:46:40.173595Z",
     "shell.execute_reply": "2024-08-21T09:46:40.173333Z"
    },
    "papermill": {
     "duration": 0.006479,
     "end_time": "2024-08-21T09:46:40.174361",
     "exception": false,
     "start_time": "2024-08-21T09:46:40.167882",
     "status": "completed"
    },
    "tags": []
   },
   "outputs": [
    {
     "name": "stdout",
     "output_type": "stream",
     "text": [
      "Train score: 0.8515167642362959\n",
      "Test score: 0.8405929304446979\n"
     ]
    }
   ],
   "source": [
    "print('Train score:', get_acc(xgb_forest, X_train, y_train, feature_names))\n",
    "print('Test score:', get_acc(xgb_forest, X_test, y_test, feature_names))"
   ]
  },
  {
   "cell_type": "code",
   "execution_count": 13,
   "id": "97a1d2b0",
   "metadata": {
    "execution": {
     "iopub.execute_input": "2024-08-21T09:46:40.178133Z",
     "iopub.status.busy": "2024-08-21T09:46:40.177894Z",
     "iopub.status.idle": "2024-08-21T09:46:40.461352Z",
     "shell.execute_reply": "2024-08-21T09:46:40.461101Z"
    },
    "papermill": {
     "duration": 0.286465,
     "end_time": "2024-08-21T09:46:40.462303",
     "exception": false,
     "start_time": "2024-08-21T09:46:40.175838",
     "status": "completed"
    },
    "tags": []
   },
   "outputs": [],
   "source": [
    "import shap\n",
    "import pandas as pd\n",
    "explainer = shap.Explainer(xgb_forest)\n",
    "\n",
    "shap_values = explainer(pd.DataFrame(X_test, columns=feature_names))\n"
   ]
  },
  {
   "cell_type": "code",
   "execution_count": 14,
   "id": "8e7a54a8",
   "metadata": {
    "execution": {
     "iopub.execute_input": "2024-08-21T09:46:40.465645Z",
     "iopub.status.busy": "2024-08-21T09:46:40.465492Z",
     "iopub.status.idle": "2024-08-21T09:46:41.068177Z",
     "shell.execute_reply": "2024-08-21T09:46:41.067898Z"
    },
    "papermill": {
     "duration": 0.605471,
     "end_time": "2024-08-21T09:46:41.069293",
     "exception": false,
     "start_time": "2024-08-21T09:46:40.463822",
     "status": "completed"
    },
    "tags": []
   },
   "outputs": [
    {
     "data": {
      "image/png": "[encoded data removed]",
      "text/plain": [
       "<Figure size 400x200 with 2 Axes>"
      ]
     },
     "metadata": {},
     "output_type": "display_data"
    }
   ],
   "source": [
    "# Beeswarm plot\n",
    "\n",
    "shap.plots.beeswarm(shap_values, show=False)\n",
    "fig = plt.gcf()\n",
    "fig.set_size_inches(4, 2, forward=True)\n",
    "if save_figures: plt.savefig(\n",
    "    f'../{path_transport_graphics}/logitics_data_on_customer_profile_{comparison_dict[comparison_id][0]} and customer_profile_{comparison_dict[comparison_id][1]}-shap-value.{save_parms[\"format\"]}',\n",
    "    **save_parms\n",
    "    )\n",
    "plt.show()"
   ]
  }
 ],
 "metadata": {
  "kernelspec": {
   "display_name": "Python 3.7.11 ('py37')",
   "language": "python",
   "name": "python3"
  },
  "language_info": {
   "codemirror_mode": {
    "name": "ipython",
    "version": 3
   },
   "file_extension": ".py",
   "mimetype": "text/x-python",
   "name": "python",
   "nbconvert_exporter": "python",
   "pygments_lexer": "ipython3",
   "version": "3.12.0"
  },
  "papermill": {
   "default_parameters": {},
   "duration": 3.069024,
   "end_time": "2024-08-21T09:46:41.388242",
   "environment_variables": {},
   "exception": null,
   "input_path": "experiment_baseline.ipynb",
   "output_path": "./Results_Experiments/Set_C_max_to_10/experiment_baseline_3.ipynb",
   "parameters": {
    "comparison_id": 2
   },
   "start_time": "2024-08-21T09:46:38.319218",
   "version": "2.6.0"
  },
  "vscode": {
   "interpreter": {
    "hash": "5ab0220f0ca30ec7bac8a7e209564eceae6d15412b9f87f3c2f91206aa8b151c"
   }
  }
 },
 "nbformat": 4,
 "nbformat_minor": 5
}