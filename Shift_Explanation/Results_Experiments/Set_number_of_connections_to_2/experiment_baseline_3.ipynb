{
 "cells": [
  {
   "cell_type": "code",
   "execution_count": 1,
   "id": "d05cab18",
   "metadata": {
    "execution": {
     "iopub.execute_input": "2024-08-21T09:48:07.678109Z",
     "iopub.status.busy": "2024-08-21T09:48:07.677471Z",
     "iopub.status.idle": "2024-08-21T09:48:08.636342Z",
     "shell.execute_reply": "2024-08-21T09:48:08.636036Z"
    },
    "papermill": {
     "duration": 0.969318,
     "end_time": "2024-08-21T09:48:08.638498",
     "exception": false,
     "start_time": "2024-08-21T09:48:07.669180",
     "status": "completed"
    },
    "tags": []
   },
   "outputs": [],
   "source": [
    "import matplotlib.pyplot as plt\n",
    "import numpy as np\n",
    "import pandas as pd\n",
    "from pathlib import Path\n",
    "import seaborn as sn\n"
   ]
  },
  {
   "cell_type": "code",
   "execution_count": 2,
   "id": "d6302d10",
   "metadata": {
    "execution": {
     "iopub.execute_input": "2024-08-21T09:48:08.642286Z",
     "iopub.status.busy": "2024-08-21T09:48:08.642143Z",
     "iopub.status.idle": "2024-08-21T09:48:08.644974Z",
     "shell.execute_reply": "2024-08-21T09:48:08.644747Z"
    },
    "papermill": {
     "duration": 0.005303,
     "end_time": "2024-08-21T09:48:08.645716",
     "exception": false,
     "start_time": "2024-08-21T09:48:08.640413",
     "status": "completed"
    },
    "tags": []
   },
   "outputs": [],
   "source": [
    "# Setting so that the plots look normal even when using dark-reader\n",
    "sn.set_style(\"whitegrid\")\n",
    "sn.set_context(context=\"paper\", font_scale=2)\n",
    "pal = sn.color_palette(\"Set1\")\n",
    "\n",
    "# Setting up specifics for plotting + saving\n",
    "save_figures = True\n",
    "add_legend = False\n",
    "add_title = False\n",
    "add_axis = False\n",
    "save_parms = {'format': 'pdf','bbox_inches':'tight', 'pad_inches':0.1}\n",
    "line_parms = {'linewidth':4, 'color':'k'}\n",
    "if save_figures:  # saves all figures in a figure directory in the local directory\n",
    "    figure_dir = Path('.') / 'figures' / 'adult-income-experiment'\n",
    "    if not figure_dir.exists():\n",
    "        figure_dir.mkdir(parents=True)"
   ]
  },
  {
   "cell_type": "code",
   "execution_count": 3,
   "id": "22d1d0e0",
   "metadata": {
    "execution": {
     "iopub.execute_input": "2024-08-21T09:48:08.648914Z",
     "iopub.status.busy": "2024-08-21T09:48:08.648792Z",
     "iopub.status.idle": "2024-08-21T09:48:08.650826Z",
     "shell.execute_reply": "2024-08-21T09:48:08.650545Z"
    },
    "papermill": {
     "duration": 0.004819,
     "end_time": "2024-08-21T09:48:08.651704",
     "exception": false,
     "start_time": "2024-08-21T09:48:08.646885",
     "status": "completed"
    },
    "tags": []
   },
   "outputs": [],
   "source": [
    "# Experiment hyperparamters\n",
    "rng = np.random.RandomState(42)\n",
    "split_on_income = False  # if True: src := income>=50k, tgt :+ income<50k, if False: src := male, tgt := female\n",
    "n_samples = 1000"
   ]
  },
  {
   "cell_type": "code",
   "execution_count": 4,
   "id": "48ff09ec",
   "metadata": {
    "execution": {
     "iopub.execute_input": "2024-08-21T09:48:08.656238Z",
     "iopub.status.busy": "2024-08-21T09:48:08.656104Z",
     "iopub.status.idle": "2024-08-21T09:48:08.657846Z",
     "shell.execute_reply": "2024-08-21T09:48:08.657568Z"
    },
    "papermill": {
     "duration": 0.005045,
     "end_time": "2024-08-21T09:48:08.658726",
     "exception": false,
     "start_time": "2024-08-21T09:48:08.653681",
     "status": "completed"
    },
    "tags": [
     "parameters"
    ]
   },
   "outputs": [],
   "source": [
    "comparison_id = None"
   ]
  },
  {
   "cell_type": "code",
   "execution_count": 5,
   "id": "b60e7e1f",
   "metadata": {
    "execution": {
     "iopub.execute_input": "2024-08-21T09:48:08.662527Z",
     "iopub.status.busy": "2024-08-21T09:48:08.662409Z",
     "iopub.status.idle": "2024-08-21T09:48:08.663960Z",
     "shell.execute_reply": "2024-08-21T09:48:08.663733Z"
    },
    "papermill": {
     "duration": 0.004311,
     "end_time": "2024-08-21T09:48:08.664667",
     "exception": false,
     "start_time": "2024-08-21T09:48:08.660356",
     "status": "completed"
    },
    "tags": [
     "injected-parameters"
    ]
   },
   "outputs": [],
   "source": [
    "# Parameters\n",
    "comparison_id = 2\n"
   ]
  },
  {
   "cell_type": "code",
   "execution_count": 6,
   "id": "dade2b7e",
   "metadata": {
    "execution": {
     "iopub.execute_input": "2024-08-21T09:48:08.667535Z",
     "iopub.status.busy": "2024-08-21T09:48:08.667440Z",
     "iopub.status.idle": "2024-08-21T09:48:08.676781Z",
     "shell.execute_reply": "2024-08-21T09:48:08.676527Z"
    },
    "papermill": {
     "duration": 0.011627,
     "end_time": "2024-08-21T09:48:08.677565",
     "exception": false,
     "start_time": "2024-08-21T09:48:08.665938",
     "status": "completed"
    },
    "tags": []
   },
   "outputs": [
    {
     "name": "stdout",
     "output_type": "stream",
     "text": [
      "['Customer_id', 'Connection', 'Weight', 'Unit_type', 'Day', 'Week']\n"
     ]
    }
   ],
   "source": [
    "\n",
    "# Load the data\n",
    "comparison_dict = {0: [0,1], 1: [2,3], 2: [4,5]}\n",
    "path_customer_profiles = open('./Results_Experiments/File_Paths/path_customer_profiles.txt','r').read()\n",
    "path_transport_graphics = open('./Results_Experiments/File_Paths/path_transport_graphics.txt','r').read()\n",
    "source = pd.read_csv(f'../{path_customer_profiles}/customer_profile_{comparison_dict[comparison_id][0]}.csv')\n",
    "target = pd.read_csv(f'../{path_customer_profiles}/customer_profile_{comparison_dict[comparison_id][1]}.csv')\n",
    "\n",
    "feature_names = source.columns.values\n",
    "feature_names = list(feature_names)\n",
    "print(feature_names)"
   ]
  },
  {
   "cell_type": "code",
   "execution_count": 7,
   "id": "296df3b5",
   "metadata": {
    "execution": {
     "iopub.execute_input": "2024-08-21T09:48:08.680885Z",
     "iopub.status.busy": "2024-08-21T09:48:08.680755Z",
     "iopub.status.idle": "2024-08-21T09:48:08.713662Z",
     "shell.execute_reply": "2024-08-21T09:48:08.713404Z"
    },
    "papermill": {
     "duration": 0.035606,
     "end_time": "2024-08-21T09:48:08.714618",
     "exception": false,
     "start_time": "2024-08-21T09:48:08.679012",
     "status": "completed"
    },
    "tags": []
   },
   "outputs": [],
   "source": [
    "# standardize the source and target data, and convert to domain labels\n",
    "from sklearn.preprocessing import StandardScaler\n",
    "X = np.concatenate((source, target), axis=0)\n",
    "# standardize X to remove cardinatlity bias\n",
    "X = StandardScaler().fit_transform(X)\n",
    "y = np.concatenate((np.zeros(source.shape[0]),\n",
    "                    np.ones(target.shape[0])), axis=0)  # domain labels"
   ]
  },
  {
   "cell_type": "code",
   "execution_count": 8,
   "id": "c5422e1f",
   "metadata": {
    "execution": {
     "iopub.execute_input": "2024-08-21T09:48:08.717818Z",
     "iopub.status.busy": "2024-08-21T09:48:08.717663Z",
     "iopub.status.idle": "2024-08-21T09:48:08.769976Z",
     "shell.execute_reply": "2024-08-21T09:48:08.769686Z"
    },
    "papermill": {
     "duration": 0.054975,
     "end_time": "2024-08-21T09:48:08.770956",
     "exception": false,
     "start_time": "2024-08-21T09:48:08.715981",
     "status": "completed"
    },
    "tags": []
   },
   "outputs": [],
   "source": [
    "from sklearn.datasets import make_classification\n",
    "from sklearn.model_selection import train_test_split\n",
    "\n",
    "X_train, X_test, y_train, y_test = train_test_split(X, y,\n",
    "                                     stratify=y, random_state=42)"
   ]
  },
  {
   "cell_type": "code",
   "execution_count": 9,
   "id": "5d9ba299",
   "metadata": {
    "execution": {
     "iopub.execute_input": "2024-08-21T09:48:08.774489Z",
     "iopub.status.busy": "2024-08-21T09:48:08.774331Z",
     "iopub.status.idle": "2024-08-21T09:48:08.796091Z",
     "shell.execute_reply": "2024-08-21T09:48:08.795843Z"
    },
    "papermill": {
     "duration": 0.024513,
     "end_time": "2024-08-21T09:48:08.797009",
     "exception": false,
     "start_time": "2024-08-21T09:48:08.772496",
     "status": "completed"
    },
    "tags": []
   },
   "outputs": [],
   "source": [
    "# Using XGBoost\n",
    "import xgboost\n",
    "\n",
    "def fit_xgboost(X_train, y_train, X_test, y_test, feature_names=None):\n",
    "    \"\"\" Train an XGBoost model with early stopping.\n",
    "    \"\"\"\n",
    "    dtrain = xgboost.DMatrix(X_train, label=y_train, feature_names=feature_names)\n",
    "    dtest = xgboost.DMatrix(X_test, label=y_test, feature_names=feature_names)\n",
    "    # model = xgboost.train(\n",
    "    #     { \"eta\": 0.001, \"subsample\": 0.5, \"max_depth\": 2,\n",
    "    #       \"objective\": 'binary:logistic', 'eval_metric': 'logloss'}, dtrain, num_boost_round=200000,\n",
    "    #     evals=[(dtest,'eval'), (dtrain,'train')], early_stopping_rounds=20, verbose_eval=False\n",
    "    # )\n",
    "    model = xgboost.train(\n",
    "        {\"objective\": 'binary:logistic', 'eval_metric': 'logloss'},\n",
    "        dtrain,\n",
    "        evals=[(dtest,'eval'), (dtrain,'train')],\n",
    "        verbose_eval=False)\n",
    "    return model"
   ]
  },
  {
   "cell_type": "code",
   "execution_count": 10,
   "id": "bd7ac9f1",
   "metadata": {
    "execution": {
     "iopub.execute_input": "2024-08-21T09:48:08.800109Z",
     "iopub.status.busy": "2024-08-21T09:48:08.800016Z",
     "iopub.status.idle": "2024-08-21T09:48:08.820146Z",
     "shell.execute_reply": "2024-08-21T09:48:08.819902Z"
    },
    "papermill": {
     "duration": 0.02264,
     "end_time": "2024-08-21T09:48:08.821065",
     "exception": false,
     "start_time": "2024-08-21T09:48:08.798425",
     "status": "completed"
    },
    "tags": []
   },
   "outputs": [],
   "source": [
    "xgb_forest = fit_xgboost(X_train, y_train, X_test, y_test, feature_names)\n",
    "xgb_forest.feature_names = feature_names"
   ]
  },
  {
   "cell_type": "code",
   "execution_count": 11,
   "id": "dcaa3020",
   "metadata": {
    "execution": {
     "iopub.execute_input": "2024-08-21T09:48:08.824231Z",
     "iopub.status.busy": "2024-08-21T09:48:08.824122Z",
     "iopub.status.idle": "2024-08-21T09:48:08.825873Z",
     "shell.execute_reply": "2024-08-21T09:48:08.825636Z"
    },
    "papermill": {
     "duration": 0.00412,
     "end_time": "2024-08-21T09:48:08.826593",
     "exception": false,
     "start_time": "2024-08-21T09:48:08.822473",
     "status": "completed"
    },
    "tags": []
   },
   "outputs": [],
   "source": [
    "def get_acc(model, samples, labels, feature_names=None):\n",
    "    predictions = (model.predict(xgboost.DMatrix(samples,\n",
    "                                                 feature_names=feature_names)) > 0.5).astype(int)\n",
    "    return (predictions == labels).sum() / predictions.shape[0]"
   ]
  },
  {
   "cell_type": "code",
   "execution_count": 12,
   "id": "7ce6b380",
   "metadata": {
    "execution": {
     "iopub.execute_input": "2024-08-21T09:48:08.829504Z",
     "iopub.status.busy": "2024-08-21T09:48:08.829406Z",
     "iopub.status.idle": "2024-08-21T09:48:08.833244Z",
     "shell.execute_reply": "2024-08-21T09:48:08.833004Z"
    },
    "papermill": {
     "duration": 0.006225,
     "end_time": "2024-08-21T09:48:08.834025",
     "exception": false,
     "start_time": "2024-08-21T09:48:08.827800",
     "status": "completed"
    },
    "tags": []
   },
   "outputs": [
    {
     "name": "stdout",
     "output_type": "stream",
     "text": [
      "Train score: 0.9387269053117783\n",
      "Test score: 0.9359168651223209\n"
     ]
    }
   ],
   "source": [
    "print('Train score:', get_acc(xgb_forest, X_train, y_train, feature_names))\n",
    "print('Test score:', get_acc(xgb_forest, X_test, y_test, feature_names))"
   ]
  },
  {
   "cell_type": "code",
   "execution_count": 13,
   "id": "97a1d2b0",
   "metadata": {
    "execution": {
     "iopub.execute_input": "2024-08-21T09:48:08.837194Z",
     "iopub.status.busy": "2024-08-21T09:48:08.837090Z",
     "iopub.status.idle": "2024-08-21T09:48:09.116542Z",
     "shell.execute_reply": "2024-08-21T09:48:09.116273Z"
    },
    "papermill": {
     "duration": 0.282171,
     "end_time": "2024-08-21T09:48:09.117612",
     "exception": false,
     "start_time": "2024-08-21T09:48:08.835441",
     "status": "completed"
    },
    "tags": []
   },
   "outputs": [],
   "source": [
    "import shap\n",
    "import pandas as pd\n",
    "explainer = shap.Explainer(xgb_forest)\n",
    "\n",
    "shap_values = explainer(pd.DataFrame(X_test, columns=feature_names))\n"
   ]
  },
  {
   "cell_type": "code",
   "execution_count": 14,
   "id": "8e7a54a8",
   "metadata": {
    "execution": {
     "iopub.execute_input": "2024-08-21T09:48:09.121226Z",
     "iopub.status.busy": "2024-08-21T09:48:09.121068Z",
     "iopub.status.idle": "2024-08-21T09:48:09.741624Z",
     "shell.execute_reply": "2024-08-21T09:48:09.741296Z"
    },
    "papermill": {
     "duration": 0.625022,
     "end_time": "2024-08-21T09:48:09.744358",
     "exception": false,
     "start_time": "2024-08-21T09:48:09.119336",
     "status": "completed"
    },
    "tags": []
   },
   "outputs": [
    {
     "data": {
      "image/png": "[encoded data removed]",
      "text/plain": [
       "<Figure size 400x200 with 2 Axes>"
      ]
     },
     "metadata": {},
     "output_type": "display_data"
    }
   ],
   "source": [
    "# Beeswarm plot\n",
    "\n",
    "shap.plots.beeswarm(shap_values, show=False)\n",
    "fig = plt.gcf()\n",
    "fig.set_size_inches(4, 2, forward=True)\n",
    "if save_figures: plt.savefig(\n",
    "    f'../{path_transport_graphics}/logitics_data_on_customer_profile_{comparison_dict[comparison_id][0]} and customer_profile_{comparison_dict[comparison_id][1]}-shap-value.{save_parms[\"format\"]}',\n",
    "    **save_parms\n",
    "    )\n",
    "plt.show()"
   ]
  }
 ],
 "metadata": {
  "kernelspec": {
   "display_name": "Python 3.7.11 ('py37')",
   "language": "python",
   "name": "python3"
  },
  "language_info": {
   "codemirror_mode": {
    "name": "ipython",
    "version": 3
   },
   "file_extension": ".py",
   "mimetype": "text/x-python",
   "name": "python",
   "nbconvert_exporter": "python",
   "pygments_lexer": "ipython3",
   "version": "3.12.0"
  },
  "papermill": {
   "default_parameters": {},
   "duration": 3.217214,
   "end_time": "2024-08-21T09:48:10.167464",
   "environment_variables": {},
   "exception": null,
   "input_path": "experiment_baseline.ipynb",
   "output_path": "./Results_Experiments/Set_number_of_connections_to_2/experiment_baseline_3.ipynb",
   "parameters": {
    "comparison_id": 2
   },
   "start_time": "2024-08-21T09:48:06.950250",
   "version": "2.6.0"
  },
  "vscode": {
   "interpreter": {
    "hash": "5ab0220f0ca30ec7bac8a7e209564eceae6d15412b9f87f3c2f91206aa8b151c"
   }
  }
 },
 "nbformat": 4,
 "nbformat_minor": 5
}