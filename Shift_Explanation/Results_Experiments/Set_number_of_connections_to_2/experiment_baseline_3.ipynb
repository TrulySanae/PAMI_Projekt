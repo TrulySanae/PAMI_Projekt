{
 "cells": [
  {
   "cell_type": "code",
   "execution_count": 1,
   "id": "d05cab18",
   "metadata": {
    "execution": {
     "iopub.execute_input": "2024-08-21T12:10:40.457348Z",
     "iopub.status.busy": "2024-08-21T12:10:40.457032Z",
     "iopub.status.idle": "2024-08-21T12:10:41.287367Z",
     "shell.execute_reply": "2024-08-21T12:10:41.287062Z"
    },
    "papermill": {
     "duration": 0.839728,
     "end_time": "2024-08-21T12:10:41.288431",
     "exception": false,
     "start_time": "2024-08-21T12:10:40.448703",
     "status": "completed"
    },
    "tags": []
   },
   "outputs": [],
   "source": [
    "import matplotlib.pyplot as plt\n",
    "import numpy as np\n",
    "import pandas as pd\n",
    "from pathlib import Path\n",
    "import seaborn as sn\n",
    "from data_utils import load_and_preprocess_logistics_data"
   ]
  },
  {
   "cell_type": "code",
   "execution_count": 2,
   "id": "d6302d10",
   "metadata": {
    "execution": {
     "iopub.execute_input": "2024-08-21T12:10:41.291706Z",
     "iopub.status.busy": "2024-08-21T12:10:41.291546Z",
     "iopub.status.idle": "2024-08-21T12:10:41.294209Z",
     "shell.execute_reply": "2024-08-21T12:10:41.293912Z"
    },
    "papermill": {
     "duration": 0.005042,
     "end_time": "2024-08-21T12:10:41.294973",
     "exception": false,
     "start_time": "2024-08-21T12:10:41.289931",
     "status": "completed"
    },
    "tags": []
   },
   "outputs": [],
   "source": [
    "# Setting so that the plots look normal even when using dark-reader\n",
    "sn.set_style(\"whitegrid\")\n",
    "sn.set_context(context=\"paper\", font_scale=2)\n",
    "pal = sn.color_palette(\"Set1\")\n",
    "\n",
    "# Setting up specifics for plotting + saving\n",
    "save_figures = True\n",
    "add_legend = False\n",
    "add_title = False\n",
    "add_axis = False\n",
    "save_parms = {'format': 'pdf','bbox_inches':'tight', 'pad_inches':0.1}\n",
    "line_parms = {'linewidth':4, 'color':'k'}\n",
    "if save_figures:  # saves all figures in a figure directory in the local directory\n",
    "    figure_dir = Path('.') / 'figures' / 'adult-income-experiment'\n",
    "    if not figure_dir.exists():\n",
    "        figure_dir.mkdir(parents=True)"
   ]
  },
  {
   "cell_type": "code",
   "execution_count": 3,
   "id": "22d1d0e0",
   "metadata": {
    "execution": {
     "iopub.execute_input": "2024-08-21T12:10:41.298206Z",
     "iopub.status.busy": "2024-08-21T12:10:41.298095Z",
     "iopub.status.idle": "2024-08-21T12:10:41.299937Z",
     "shell.execute_reply": "2024-08-21T12:10:41.299735Z"
    },
    "papermill": {
     "duration": 0.00427,
     "end_time": "2024-08-21T12:10:41.300632",
     "exception": false,
     "start_time": "2024-08-21T12:10:41.296362",
     "status": "completed"
    },
    "tags": []
   },
   "outputs": [],
   "source": [
    "# Experiment hyperparamters\n",
    "rng = np.random.RandomState(42)\n",
    "split_on_income = False  # if True: src := income>=50k, tgt :+ income<50k, if False: src := male, tgt := female\n",
    "n_samples = 1000"
   ]
  },
  {
   "cell_type": "code",
   "execution_count": 4,
   "id": "48ff09ec",
   "metadata": {
    "execution": {
     "iopub.execute_input": "2024-08-21T12:10:41.303516Z",
     "iopub.status.busy": "2024-08-21T12:10:41.303412Z",
     "iopub.status.idle": "2024-08-21T12:10:41.304917Z",
     "shell.execute_reply": "2024-08-21T12:10:41.304701Z"
    },
    "papermill": {
     "duration": 0.003854,
     "end_time": "2024-08-21T12:10:41.305699",
     "exception": false,
     "start_time": "2024-08-21T12:10:41.301845",
     "status": "completed"
    },
    "tags": [
     "parameters"
    ]
   },
   "outputs": [],
   "source": [
    "comparison_id = None"
   ]
  },
  {
   "cell_type": "code",
   "execution_count": 5,
   "id": "9277d38e",
   "metadata": {
    "execution": {
     "iopub.execute_input": "2024-08-21T12:10:41.308457Z",
     "iopub.status.busy": "2024-08-21T12:10:41.308364Z",
     "iopub.status.idle": "2024-08-21T12:10:41.309798Z",
     "shell.execute_reply": "2024-08-21T12:10:41.309562Z"
    },
    "papermill": {
     "duration": 0.003716,
     "end_time": "2024-08-21T12:10:41.310614",
     "exception": false,
     "start_time": "2024-08-21T12:10:41.306898",
     "status": "completed"
    },
    "tags": [
     "injected-parameters"
    ]
   },
   "outputs": [],
   "source": [
    "# Parameters\n",
    "comparison_id = 2\n"
   ]
  },
  {
   "cell_type": "code",
   "execution_count": 6,
   "id": "dade2b7e",
   "metadata": {
    "execution": {
     "iopub.execute_input": "2024-08-21T12:10:41.314255Z",
     "iopub.status.busy": "2024-08-21T12:10:41.314083Z",
     "iopub.status.idle": "2024-08-21T12:10:41.331827Z",
     "shell.execute_reply": "2024-08-21T12:10:41.331582Z"
    },
    "papermill": {
     "duration": 0.020602,
     "end_time": "2024-08-21T12:10:41.332563",
     "exception": false,
     "start_time": "2024-08-21T12:10:41.311961",
     "status": "completed"
    },
    "tags": []
   },
   "outputs": [
    {
     "name": "stdout",
     "output_type": "stream",
     "text": [
      "Comparing customer_profile_4 and customer_profile_5\n",
      "Finished preprocessing logistic dataset. Split on customer_profile_4 and customer_profile_5 with resulting source shape: (996, 3), target shape: (996, 3).\n",
      "['Connection', 'Weight', 'Unit_type']\n"
     ]
    }
   ],
   "source": [
    "\n",
    "# Load the data\n",
    "comparison_dict = {0: [0,1], 1: [2,3], 2: [4,5]}\n",
    "path_customer_profiles = open('./Results_Experiments/File_Paths/path_customer_profiles.txt','r').read()\n",
    "path_transport_graphics = open('./Results_Experiments/File_Paths/path_transport_graphics.txt','r').read()\n",
    "source = pd.read_csv(f'../{path_customer_profiles}/customer_profile_{comparison_dict[comparison_id][0]}.csv')\n",
    "target = pd.read_csv(f'../{path_customer_profiles}/customer_profile_{comparison_dict[comparison_id][1]}.csv')\n",
    "equal_week_split = True\n",
    "source, target, feature_names = load_and_preprocess_logistics_data(rng, n_samples, return_column_names=True,equal_week_split=equal_week_split, comparison_id=\n",
    "            comparison_id, comparison_dict=comparison_dict)\n",
    "print(feature_names)"
   ]
  },
  {
   "cell_type": "code",
   "execution_count": 7,
   "id": "296df3b5",
   "metadata": {
    "execution": {
     "iopub.execute_input": "2024-08-21T12:10:41.335718Z",
     "iopub.status.busy": "2024-08-21T12:10:41.335615Z",
     "iopub.status.idle": "2024-08-21T12:10:41.338095Z",
     "shell.execute_reply": "2024-08-21T12:10:41.337858Z"
    },
    "papermill": {
     "duration": 0.004811,
     "end_time": "2024-08-21T12:10:41.338832",
     "exception": false,
     "start_time": "2024-08-21T12:10:41.334021",
     "status": "completed"
    },
    "tags": []
   },
   "outputs": [],
   "source": [
    "# standardize the source and target data, and convert to domain labels\n",
    "from sklearn.preprocessing import StandardScaler\n",
    "X = np.concatenate((source, target), axis=0)\n",
    "# standardize X to remove cardinatlity bias\n",
    "X = StandardScaler().fit_transform(X)\n",
    "y = np.concatenate((np.zeros(source.shape[0]),\n",
    "                    np.ones(target.shape[0])), axis=0)  # domain labels"
   ]
  },
  {
   "cell_type": "code",
   "execution_count": 8,
   "id": "c5422e1f",
   "metadata": {
    "execution": {
     "iopub.execute_input": "2024-08-21T12:10:41.341716Z",
     "iopub.status.busy": "2024-08-21T12:10:41.341622Z",
     "iopub.status.idle": "2024-08-21T12:10:41.390773Z",
     "shell.execute_reply": "2024-08-21T12:10:41.390525Z"
    },
    "papermill": {
     "duration": 0.051598,
     "end_time": "2024-08-21T12:10:41.391703",
     "exception": false,
     "start_time": "2024-08-21T12:10:41.340105",
     "status": "completed"
    },
    "tags": []
   },
   "outputs": [],
   "source": [
    "from sklearn.datasets import make_classification\n",
    "from sklearn.model_selection import train_test_split\n",
    "\n",
    "X_train, X_test, y_train, y_test = train_test_split(X, y,\n",
    "                                     stratify=y, random_state=42)"
   ]
  },
  {
   "cell_type": "code",
   "execution_count": 9,
   "id": "5d9ba299",
   "metadata": {
    "execution": {
     "iopub.execute_input": "2024-08-21T12:10:41.395257Z",
     "iopub.status.busy": "2024-08-21T12:10:41.395104Z",
     "iopub.status.idle": "2024-08-21T12:10:41.408497Z",
     "shell.execute_reply": "2024-08-21T12:10:41.408219Z"
    },
    "papermill": {
     "duration": 0.016264,
     "end_time": "2024-08-21T12:10:41.409493",
     "exception": false,
     "start_time": "2024-08-21T12:10:41.393229",
     "status": "completed"
    },
    "tags": []
   },
   "outputs": [],
   "source": [
    "# Using XGBoost\n",
    "import xgboost\n",
    "\n",
    "def fit_xgboost(X_train, y_train, X_test, y_test, feature_names=None):\n",
    "    \"\"\" Train an XGBoost model with early stopping.\n",
    "    \"\"\"\n",
    "    dtrain = xgboost.DMatrix(X_train, label=y_train, feature_names=feature_names)\n",
    "    dtest = xgboost.DMatrix(X_test, label=y_test, feature_names=feature_names)\n",
    "    # model = xgboost.train(\n",
    "    #     { \"eta\": 0.001, \"subsample\": 0.5, \"max_depth\": 2,\n",
    "    #       \"objective\": 'binary:logistic', 'eval_metric': 'logloss'}, dtrain, num_boost_round=200000,\n",
    "    #     evals=[(dtest,'eval'), (dtrain,'train')], early_stopping_rounds=20, verbose_eval=False\n",
    "    # )\n",
    "    model = xgboost.train(\n",
    "        {\"objective\": 'binary:logistic', 'eval_metric': 'logloss'},\n",
    "        dtrain,\n",
    "        evals=[(dtest,'eval'), (dtrain,'train')],\n",
    "        verbose_eval=False)\n",
    "    return model"
   ]
  },
  {
   "cell_type": "code",
   "execution_count": 10,
   "id": "bd7ac9f1",
   "metadata": {
    "execution": {
     "iopub.execute_input": "2024-08-21T12:10:41.413010Z",
     "iopub.status.busy": "2024-08-21T12:10:41.412888Z",
     "iopub.status.idle": "2024-08-21T12:10:41.427422Z",
     "shell.execute_reply": "2024-08-21T12:10:41.427153Z"
    },
    "papermill": {
     "duration": 0.017274,
     "end_time": "2024-08-21T12:10:41.428380",
     "exception": false,
     "start_time": "2024-08-21T12:10:41.411106",
     "status": "completed"
    },
    "tags": []
   },
   "outputs": [],
   "source": [
    "xgb_forest = fit_xgboost(X_train, y_train, X_test, y_test, feature_names)\n",
    "xgb_forest.feature_names = feature_names"
   ]
  },
  {
   "cell_type": "code",
   "execution_count": 11,
   "id": "dcaa3020",
   "metadata": {
    "execution": {
     "iopub.execute_input": "2024-08-21T12:10:41.432296Z",
     "iopub.status.busy": "2024-08-21T12:10:41.432168Z",
     "iopub.status.idle": "2024-08-21T12:10:41.434075Z",
     "shell.execute_reply": "2024-08-21T12:10:41.433849Z"
    },
    "papermill": {
     "duration": 0.004511,
     "end_time": "2024-08-21T12:10:41.434833",
     "exception": false,
     "start_time": "2024-08-21T12:10:41.430322",
     "status": "completed"
    },
    "tags": []
   },
   "outputs": [],
   "source": [
    "def get_acc(model, samples, labels, feature_names=None):\n",
    "    predictions = (model.predict(xgboost.DMatrix(samples,\n",
    "                                                 feature_names=feature_names)) > 0.5).astype(int)\n",
    "    return (predictions == labels).sum() / predictions.shape[0]"
   ]
  },
  {
   "cell_type": "code",
   "execution_count": 12,
   "id": "7ce6b380",
   "metadata": {
    "execution": {
     "iopub.execute_input": "2024-08-21T12:10:41.437710Z",
     "iopub.status.busy": "2024-08-21T12:10:41.437618Z",
     "iopub.status.idle": "2024-08-21T12:10:41.440437Z",
     "shell.execute_reply": "2024-08-21T12:10:41.440224Z"
    },
    "papermill": {
     "duration": 0.005065,
     "end_time": "2024-08-21T12:10:41.441162",
     "exception": false,
     "start_time": "2024-08-21T12:10:41.436097",
     "status": "completed"
    },
    "tags": []
   },
   "outputs": [
    {
     "name": "stdout",
     "output_type": "stream",
     "text": [
      "Train score: 0.8400267737617135\n",
      "Test score: 0.7730923694779116\n"
     ]
    }
   ],
   "source": [
    "print('Train score:', get_acc(xgb_forest, X_train, y_train, feature_names))\n",
    "print('Test score:', get_acc(xgb_forest, X_test, y_test, feature_names))"
   ]
  },
  {
   "cell_type": "code",
   "execution_count": 13,
   "id": "97a1d2b0",
   "metadata": {
    "execution": {
     "iopub.execute_input": "2024-08-21T12:10:41.444309Z",
     "iopub.status.busy": "2024-08-21T12:10:41.444208Z",
     "iopub.status.idle": "2024-08-21T12:10:41.682172Z",
     "shell.execute_reply": "2024-08-21T12:10:41.681918Z"
    },
    "papermill": {
     "duration": 0.240589,
     "end_time": "2024-08-21T12:10:41.683120",
     "exception": false,
     "start_time": "2024-08-21T12:10:41.442531",
     "status": "completed"
    },
    "tags": []
   },
   "outputs": [],
   "source": [
    "import shap\n",
    "import pandas as pd\n",
    "explainer = shap.Explainer(xgb_forest)\n",
    "\n",
    "shap_values = explainer(pd.DataFrame(X_test, columns=feature_names))\n"
   ]
  },
  {
   "cell_type": "code",
   "execution_count": 14,
   "id": "8e7a54a8",
   "metadata": {
    "execution": {
     "iopub.execute_input": "2024-08-21T12:10:41.686499Z",
     "iopub.status.busy": "2024-08-21T12:10:41.686350Z",
     "iopub.status.idle": "2024-08-21T12:10:41.983324Z",
     "shell.execute_reply": "2024-08-21T12:10:41.983052Z"
    },
    "papermill": {
     "duration": 0.299857,
     "end_time": "2024-08-21T12:10:41.984519",
     "exception": false,
     "start_time": "2024-08-21T12:10:41.684662",
     "status": "completed"
    },
    "tags": []
   },
   "outputs": [
    {
     "data": {
      "image/png": "[encoded data removed]",
      "text/plain": [
       "<Figure size 400x100 with 2 Axes>"
      ]
     },
     "metadata": {},
     "output_type": "display_data"
    }
   ],
   "source": [
    "# Beeswarm plot\n",
    "\n",
    "shap.plots.beeswarm(shap_values, show=False)\n",
    "fig = plt.gcf()\n",
    "fig.set_size_inches(4, 1, forward=True)\n",
    "if save_figures: plt.savefig(\n",
    "    f'../{path_transport_graphics}/logitics_data_on_customer_profile_{comparison_dict[comparison_id][0]} and customer_profile_{comparison_dict[comparison_id][1]}-shap-value.{save_parms[\"format\"]}',\n",
    "    **save_parms\n",
    "    )\n",
    "plt.show()"
   ]
  }
 ],
 "metadata": {
  "kernelspec": {
   "display_name": "Python 3.7.11 ('py37')",
   "language": "python",
   "name": "python3"
  },
  "language_info": {
   "codemirror_mode": {
    "name": "ipython",
    "version": 3
   },
   "file_extension": ".py",
   "mimetype": "text/x-python",
   "name": "python",
   "nbconvert_exporter": "python",
   "pygments_lexer": "ipython3",
   "version": "3.12.0"
  },
  "papermill": {
   "default_parameters": {},
   "duration": 2.415494,
   "end_time": "2024-08-21T12:10:42.303562",
   "environment_variables": {},
   "exception": null,
   "input_path": "experiment_baseline.ipynb",
   "output_path": "./Results_Experiments/Set_number_of_connections_to_2/experiment_baseline_3.ipynb",
   "parameters": {
    "comparison_id": 2
   },
   "start_time": "2024-08-21T12:10:39.888068",
   "version": "2.6.0"
  },
  "vscode": {
   "interpreter": {
    "hash": "5ab0220f0ca30ec7bac8a7e209564eceae6d15412b9f87f3c2f91206aa8b151c"
   }
  }
 },
 "nbformat": 4,
 "nbformat_minor": 5
}