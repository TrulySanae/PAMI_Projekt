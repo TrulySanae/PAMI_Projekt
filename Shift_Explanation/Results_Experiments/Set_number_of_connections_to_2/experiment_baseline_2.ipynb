{
 "cells": [
  {
   "cell_type": "code",
   "execution_count": 1,
   "id": "d05cab18",
   "metadata": {
    "execution": {
     "iopub.execute_input": "2024-08-21T09:48:04.670944Z",
     "iopub.status.busy": "2024-08-21T09:48:04.670251Z",
     "iopub.status.idle": "2024-08-21T09:48:05.566978Z",
     "shell.execute_reply": "2024-08-21T09:48:05.566680Z"
    },
    "papermill": {
     "duration": 0.908012,
     "end_time": "2024-08-21T09:48:05.568336",
     "exception": false,
     "start_time": "2024-08-21T09:48:04.660324",
     "status": "completed"
    },
    "tags": []
   },
   "outputs": [],
   "source": [
    "import matplotlib.pyplot as plt\n",
    "import numpy as np\n",
    "import pandas as pd\n",
    "from pathlib import Path\n",
    "import seaborn as sn\n"
   ]
  },
  {
   "cell_type": "code",
   "execution_count": 2,
   "id": "d6302d10",
   "metadata": {
    "execution": {
     "iopub.execute_input": "2024-08-21T09:48:05.571655Z",
     "iopub.status.busy": "2024-08-21T09:48:05.571509Z",
     "iopub.status.idle": "2024-08-21T09:48:05.574338Z",
     "shell.execute_reply": "2024-08-21T09:48:05.574094Z"
    },
    "papermill": {
     "duration": 0.005242,
     "end_time": "2024-08-21T09:48:05.575119",
     "exception": false,
     "start_time": "2024-08-21T09:48:05.569877",
     "status": "completed"
    },
    "tags": []
   },
   "outputs": [],
   "source": [
    "# Setting so that the plots look normal even when using dark-reader\n",
    "sn.set_style(\"whitegrid\")\n",
    "sn.set_context(context=\"paper\", font_scale=2)\n",
    "pal = sn.color_palette(\"Set1\")\n",
    "\n",
    "# Setting up specifics for plotting + saving\n",
    "save_figures = True\n",
    "add_legend = False\n",
    "add_title = False\n",
    "add_axis = False\n",
    "save_parms = {'format': 'pdf','bbox_inches':'tight', 'pad_inches':0.1}\n",
    "line_parms = {'linewidth':4, 'color':'k'}\n",
    "if save_figures:  # saves all figures in a figure directory in the local directory\n",
    "    figure_dir = Path('.') / 'figures' / 'adult-income-experiment'\n",
    "    if not figure_dir.exists():\n",
    "        figure_dir.mkdir(parents=True)"
   ]
  },
  {
   "cell_type": "code",
   "execution_count": 3,
   "id": "22d1d0e0",
   "metadata": {
    "execution": {
     "iopub.execute_input": "2024-08-21T09:48:05.578562Z",
     "iopub.status.busy": "2024-08-21T09:48:05.578393Z",
     "iopub.status.idle": "2024-08-21T09:48:05.580329Z",
     "shell.execute_reply": "2024-08-21T09:48:05.580080Z"
    },
    "papermill": {
     "duration": 0.004659,
     "end_time": "2024-08-21T09:48:05.581120",
     "exception": false,
     "start_time": "2024-08-21T09:48:05.576461",
     "status": "completed"
    },
    "tags": []
   },
   "outputs": [],
   "source": [
    "# Experiment hyperparamters\n",
    "rng = np.random.RandomState(42)\n",
    "split_on_income = False  # if True: src := income>=50k, tgt :+ income<50k, if False: src := male, tgt := female\n",
    "n_samples = 1000"
   ]
  },
  {
   "cell_type": "code",
   "execution_count": 4,
   "id": "48ff09ec",
   "metadata": {
    "execution": {
     "iopub.execute_input": "2024-08-21T09:48:05.585473Z",
     "iopub.status.busy": "2024-08-21T09:48:05.585295Z",
     "iopub.status.idle": "2024-08-21T09:48:05.587125Z",
     "shell.execute_reply": "2024-08-21T09:48:05.586894Z"
    },
    "papermill": {
     "duration": 0.004863,
     "end_time": "2024-08-21T09:48:05.587882",
     "exception": false,
     "start_time": "2024-08-21T09:48:05.583019",
     "status": "completed"
    },
    "tags": [
     "parameters"
    ]
   },
   "outputs": [],
   "source": [
    "comparison_id = None"
   ]
  },
  {
   "cell_type": "code",
   "execution_count": 5,
   "id": "ffacdad4",
   "metadata": {
    "execution": {
     "iopub.execute_input": "2024-08-21T09:48:05.592019Z",
     "iopub.status.busy": "2024-08-21T09:48:05.591840Z",
     "iopub.status.idle": "2024-08-21T09:48:05.593956Z",
     "shell.execute_reply": "2024-08-21T09:48:05.593567Z"
    },
    "papermill": {
     "duration": 0.006192,
     "end_time": "2024-08-21T09:48:05.595743",
     "exception": false,
     "start_time": "2024-08-21T09:48:05.589551",
     "status": "completed"
    },
    "tags": [
     "injected-parameters"
    ]
   },
   "outputs": [],
   "source": [
    "# Parameters\n",
    "comparison_id = 1\n"
   ]
  },
  {
   "cell_type": "code",
   "execution_count": 6,
   "id": "dade2b7e",
   "metadata": {
    "execution": {
     "iopub.execute_input": "2024-08-21T09:48:05.600939Z",
     "iopub.status.busy": "2024-08-21T09:48:05.600785Z",
     "iopub.status.idle": "2024-08-21T09:48:05.611596Z",
     "shell.execute_reply": "2024-08-21T09:48:05.611273Z"
    },
    "papermill": {
     "duration": 0.014333,
     "end_time": "2024-08-21T09:48:05.612489",
     "exception": false,
     "start_time": "2024-08-21T09:48:05.598156",
     "status": "completed"
    },
    "tags": []
   },
   "outputs": [
    {
     "name": "stdout",
     "output_type": "stream",
     "text": [
      "['Customer_id', 'Connection', 'Weight', 'Unit_type', 'Day', 'Week']\n"
     ]
    }
   ],
   "source": [
    "\n",
    "# Load the data\n",
    "comparison_dict = {0: [0,1], 1: [2,3], 2: [4,5]}\n",
    "path_customer_profiles = open('./Results_Experiments/File_Paths/path_customer_profiles.txt','r').read()\n",
    "path_transport_graphics = open('./Results_Experiments/File_Paths/path_transport_graphics.txt','r').read()\n",
    "source = pd.read_csv(f'../{path_customer_profiles}/customer_profile_{comparison_dict[comparison_id][0]}.csv')\n",
    "target = pd.read_csv(f'../{path_customer_profiles}/customer_profile_{comparison_dict[comparison_id][1]}.csv')\n",
    "\n",
    "feature_names = source.columns.values\n",
    "feature_names = list(feature_names)\n",
    "print(feature_names)"
   ]
  },
  {
   "cell_type": "code",
   "execution_count": 7,
   "id": "296df3b5",
   "metadata": {
    "execution": {
     "iopub.execute_input": "2024-08-21T09:48:05.616770Z",
     "iopub.status.busy": "2024-08-21T09:48:05.616641Z",
     "iopub.status.idle": "2024-08-21T09:48:05.656719Z",
     "shell.execute_reply": "2024-08-21T09:48:05.656428Z"
    },
    "papermill": {
     "duration": 0.043262,
     "end_time": "2024-08-21T09:48:05.657697",
     "exception": false,
     "start_time": "2024-08-21T09:48:05.614435",
     "status": "completed"
    },
    "tags": []
   },
   "outputs": [],
   "source": [
    "# standardize the source and target data, and convert to domain labels\n",
    "from sklearn.preprocessing import StandardScaler\n",
    "X = np.concatenate((source, target), axis=0)\n",
    "# standardize X to remove cardinatlity bias\n",
    "X = StandardScaler().fit_transform(X)\n",
    "y = np.concatenate((np.zeros(source.shape[0]),\n",
    "                    np.ones(target.shape[0])), axis=0)  # domain labels"
   ]
  },
  {
   "cell_type": "code",
   "execution_count": 8,
   "id": "c5422e1f",
   "metadata": {
    "execution": {
     "iopub.execute_input": "2024-08-21T09:48:05.661004Z",
     "iopub.status.busy": "2024-08-21T09:48:05.660827Z",
     "iopub.status.idle": "2024-08-21T09:48:05.716312Z",
     "shell.execute_reply": "2024-08-21T09:48:05.716022Z"
    },
    "papermill": {
     "duration": 0.058267,
     "end_time": "2024-08-21T09:48:05.717383",
     "exception": false,
     "start_time": "2024-08-21T09:48:05.659116",
     "status": "completed"
    },
    "tags": []
   },
   "outputs": [],
   "source": [
    "from sklearn.datasets import make_classification\n",
    "from sklearn.model_selection import train_test_split\n",
    "\n",
    "X_train, X_test, y_train, y_test = train_test_split(X, y,\n",
    "                                     stratify=y, random_state=42)"
   ]
  },
  {
   "cell_type": "code",
   "execution_count": 9,
   "id": "5d9ba299",
   "metadata": {
    "execution": {
     "iopub.execute_input": "2024-08-21T09:48:05.720936Z",
     "iopub.status.busy": "2024-08-21T09:48:05.720752Z",
     "iopub.status.idle": "2024-08-21T09:48:05.739214Z",
     "shell.execute_reply": "2024-08-21T09:48:05.738857Z"
    },
    "papermill": {
     "duration": 0.021145,
     "end_time": "2024-08-21T09:48:05.740136",
     "exception": false,
     "start_time": "2024-08-21T09:48:05.718991",
     "status": "completed"
    },
    "tags": []
   },
   "outputs": [],
   "source": [
    "# Using XGBoost\n",
    "import xgboost\n",
    "\n",
    "def fit_xgboost(X_train, y_train, X_test, y_test, feature_names=None):\n",
    "    \"\"\" Train an XGBoost model with early stopping.\n",
    "    \"\"\"\n",
    "    dtrain = xgboost.DMatrix(X_train, label=y_train, feature_names=feature_names)\n",
    "    dtest = xgboost.DMatrix(X_test, label=y_test, feature_names=feature_names)\n",
    "    # model = xgboost.train(\n",
    "    #     { \"eta\": 0.001, \"subsample\": 0.5, \"max_depth\": 2,\n",
    "    #       \"objective\": 'binary:logistic', 'eval_metric': 'logloss'}, dtrain, num_boost_round=200000,\n",
    "    #     evals=[(dtest,'eval'), (dtrain,'train')], early_stopping_rounds=20, verbose_eval=False\n",
    "    # )\n",
    "    model = xgboost.train(\n",
    "        {\"objective\": 'binary:logistic', 'eval_metric': 'logloss'},\n",
    "        dtrain,\n",
    "        evals=[(dtest,'eval'), (dtrain,'train')],\n",
    "        verbose_eval=False)\n",
    "    return model"
   ]
  },
  {
   "cell_type": "code",
   "execution_count": 10,
   "id": "bd7ac9f1",
   "metadata": {
    "execution": {
     "iopub.execute_input": "2024-08-21T09:48:05.743329Z",
     "iopub.status.busy": "2024-08-21T09:48:05.743228Z",
     "iopub.status.idle": "2024-08-21T09:48:05.763537Z",
     "shell.execute_reply": "2024-08-21T09:48:05.763227Z"
    },
    "papermill": {
     "duration": 0.023051,
     "end_time": "2024-08-21T09:48:05.764645",
     "exception": false,
     "start_time": "2024-08-21T09:48:05.741594",
     "status": "completed"
    },
    "tags": []
   },
   "outputs": [],
   "source": [
    "xgb_forest = fit_xgboost(X_train, y_train, X_test, y_test, feature_names)\n",
    "xgb_forest.feature_names = feature_names"
   ]
  },
  {
   "cell_type": "code",
   "execution_count": 11,
   "id": "dcaa3020",
   "metadata": {
    "execution": {
     "iopub.execute_input": "2024-08-21T09:48:05.768020Z",
     "iopub.status.busy": "2024-08-21T09:48:05.767899Z",
     "iopub.status.idle": "2024-08-21T09:48:05.769789Z",
     "shell.execute_reply": "2024-08-21T09:48:05.769562Z"
    },
    "papermill": {
     "duration": 0.004421,
     "end_time": "2024-08-21T09:48:05.770586",
     "exception": false,
     "start_time": "2024-08-21T09:48:05.766165",
     "status": "completed"
    },
    "tags": []
   },
   "outputs": [],
   "source": [
    "def get_acc(model, samples, labels, feature_names=None):\n",
    "    predictions = (model.predict(xgboost.DMatrix(samples,\n",
    "                                                 feature_names=feature_names)) > 0.5).astype(int)\n",
    "    return (predictions == labels).sum() / predictions.shape[0]"
   ]
  },
  {
   "cell_type": "code",
   "execution_count": 12,
   "id": "7ce6b380",
   "metadata": {
    "execution": {
     "iopub.execute_input": "2024-08-21T09:48:05.773682Z",
     "iopub.status.busy": "2024-08-21T09:48:05.773576Z",
     "iopub.status.idle": "2024-08-21T09:48:05.777484Z",
     "shell.execute_reply": "2024-08-21T09:48:05.777230Z"
    },
    "papermill": {
     "duration": 0.006328,
     "end_time": "2024-08-21T09:48:05.778270",
     "exception": false,
     "start_time": "2024-08-21T09:48:05.771942",
     "status": "completed"
    },
    "tags": []
   },
   "outputs": [
    {
     "name": "stdout",
     "output_type": "stream",
     "text": [
      "Train score: 0.9608482871125612\n",
      "Test score: 0.9594594594594594\n"
     ]
    }
   ],
   "source": [
    "print('Train score:', get_acc(xgb_forest, X_train, y_train, feature_names))\n",
    "print('Test score:', get_acc(xgb_forest, X_test, y_test, feature_names))"
   ]
  },
  {
   "cell_type": "code",
   "execution_count": 13,
   "id": "97a1d2b0",
   "metadata": {
    "execution": {
     "iopub.execute_input": "2024-08-21T09:48:05.781506Z",
     "iopub.status.busy": "2024-08-21T09:48:05.781403Z",
     "iopub.status.idle": "2024-08-21T09:48:06.046241Z",
     "shell.execute_reply": "2024-08-21T09:48:06.045991Z"
    },
    "papermill": {
     "duration": 0.267486,
     "end_time": "2024-08-21T09:48:06.047203",
     "exception": false,
     "start_time": "2024-08-21T09:48:05.779717",
     "status": "completed"
    },
    "tags": []
   },
   "outputs": [],
   "source": [
    "import shap\n",
    "import pandas as pd\n",
    "explainer = shap.Explainer(xgb_forest)\n",
    "\n",
    "shap_values = explainer(pd.DataFrame(X_test, columns=feature_names))\n"
   ]
  },
  {
   "cell_type": "code",
   "execution_count": 14,
   "id": "8e7a54a8",
   "metadata": {
    "execution": {
     "iopub.execute_input": "2024-08-21T09:48:06.050618Z",
     "iopub.status.busy": "2024-08-21T09:48:06.050466Z",
     "iopub.status.idle": "2024-08-21T09:48:06.623585Z",
     "shell.execute_reply": "2024-08-21T09:48:06.623269Z"
    },
    "papermill": {
     "duration": 0.575938,
     "end_time": "2024-08-21T09:48:06.624682",
     "exception": false,
     "start_time": "2024-08-21T09:48:06.048744",
     "status": "completed"
    },
    "tags": []
   },
   "outputs": [
    {
     "data": {
      "image/png": "[encoded data removed]",
      "text/plain": [
       "<Figure size 400x200 with 2 Axes>"
      ]
     },
     "metadata": {},
     "output_type": "display_data"
    }
   ],
   "source": [
    "# Beeswarm plot\n",
    "\n",
    "shap.plots.beeswarm(shap_values, show=False)\n",
    "fig = plt.gcf()\n",
    "fig.set_size_inches(4, 2, forward=True)\n",
    "if save_figures: plt.savefig(\n",
    "    f'../{path_transport_graphics}/logitics_data_on_customer_profile_{comparison_dict[comparison_id][0]} and customer_profile_{comparison_dict[comparison_id][1]}-shap-value.{save_parms[\"format\"]}',\n",
    "    **save_parms\n",
    "    )\n",
    "plt.show()"
   ]
  }
 ],
 "metadata": {
  "kernelspec": {
   "display_name": "Python 3.7.11 ('py37')",
   "language": "python",
   "name": "python3"
  },
  "language_info": {
   "codemirror_mode": {
    "name": "ipython",
    "version": 3
   },
   "file_extension": ".py",
   "mimetype": "text/x-python",
   "name": "python",
   "nbconvert_exporter": "python",
   "pygments_lexer": "ipython3",
   "version": "3.12.0"
  },
  "papermill": {
   "default_parameters": {},
   "duration": 3.026329,
   "end_time": "2024-08-21T09:48:06.944301",
   "environment_variables": {},
   "exception": null,
   "input_path": "experiment_baseline.ipynb",
   "output_path": "./Results_Experiments/Set_number_of_connections_to_2/experiment_baseline_2.ipynb",
   "parameters": {
    "comparison_id": 1
   },
   "start_time": "2024-08-21T09:48:03.917972",
   "version": "2.6.0"
  },
  "vscode": {
   "interpreter": {
    "hash": "5ab0220f0ca30ec7bac8a7e209564eceae6d15412b9f87f3c2f91206aa8b151c"
   }
  }
 },
 "nbformat": 4,
 "nbformat_minor": 5
}