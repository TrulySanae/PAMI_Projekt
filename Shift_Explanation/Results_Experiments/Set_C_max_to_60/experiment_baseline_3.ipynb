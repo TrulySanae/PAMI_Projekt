{
 "cells": [
  {
   "cell_type": "code",
   "execution_count": 1,
   "id": "d05cab18",
   "metadata": {
    "execution": {
     "iopub.execute_input": "2024-08-21T12:09:39.461644Z",
     "iopub.status.busy": "2024-08-21T12:09:39.461106Z",
     "iopub.status.idle": "2024-08-21T12:09:40.325433Z",
     "shell.execute_reply": "2024-08-21T12:09:40.325023Z"
    },
    "papermill": {
     "duration": 0.872116,
     "end_time": "2024-08-21T12:09:40.326699",
     "exception": false,
     "start_time": "2024-08-21T12:09:39.454583",
     "status": "completed"
    },
    "tags": []
   },
   "outputs": [],
   "source": [
    "import matplotlib.pyplot as plt\n",
    "import numpy as np\n",
    "import pandas as pd\n",
    "from pathlib import Path\n",
    "import seaborn as sn\n",
    "from data_utils import load_and_preprocess_logistics_data"
   ]
  },
  {
   "cell_type": "code",
   "execution_count": 2,
   "id": "d6302d10",
   "metadata": {
    "execution": {
     "iopub.execute_input": "2024-08-21T12:09:40.330063Z",
     "iopub.status.busy": "2024-08-21T12:09:40.329883Z",
     "iopub.status.idle": "2024-08-21T12:09:40.332645Z",
     "shell.execute_reply": "2024-08-21T12:09:40.332432Z"
    },
    "papermill": {
     "duration": 0.005239,
     "end_time": "2024-08-21T12:09:40.333455",
     "exception": false,
     "start_time": "2024-08-21T12:09:40.328216",
     "status": "completed"
    },
    "tags": []
   },
   "outputs": [],
   "source": [
    "# Setting so that the plots look normal even when using dark-reader\n",
    "sn.set_style(\"whitegrid\")\n",
    "sn.set_context(context=\"paper\", font_scale=2)\n",
    "pal = sn.color_palette(\"Set1\")\n",
    "\n",
    "# Setting up specifics for plotting + saving\n",
    "save_figures = True\n",
    "add_legend = False\n",
    "add_title = False\n",
    "add_axis = False\n",
    "save_parms = {'format': 'pdf','bbox_inches':'tight', 'pad_inches':0.1}\n",
    "line_parms = {'linewidth':4, 'color':'k'}\n",
    "if save_figures:  # saves all figures in a figure directory in the local directory\n",
    "    figure_dir = Path('.') / 'figures' / 'adult-income-experiment'\n",
    "    if not figure_dir.exists():\n",
    "        figure_dir.mkdir(parents=True)"
   ]
  },
  {
   "cell_type": "code",
   "execution_count": 3,
   "id": "22d1d0e0",
   "metadata": {
    "execution": {
     "iopub.execute_input": "2024-08-21T12:09:40.336372Z",
     "iopub.status.busy": "2024-08-21T12:09:40.336270Z",
     "iopub.status.idle": "2024-08-21T12:09:40.338082Z",
     "shell.execute_reply": "2024-08-21T12:09:40.337859Z"
    },
    "papermill": {
     "duration": 0.004237,
     "end_time": "2024-08-21T12:09:40.338971",
     "exception": false,
     "start_time": "2024-08-21T12:09:40.334734",
     "status": "completed"
    },
    "tags": []
   },
   "outputs": [],
   "source": [
    "# Experiment hyperparamters\n",
    "rng = np.random.RandomState(42)\n",
    "split_on_income = False  # if True: src := income>=50k, tgt :+ income<50k, if False: src := male, tgt := female\n",
    "n_samples = 1000"
   ]
  },
  {
   "cell_type": "code",
   "execution_count": 4,
   "id": "48ff09ec",
   "metadata": {
    "execution": {
     "iopub.execute_input": "2024-08-21T12:09:40.342197Z",
     "iopub.status.busy": "2024-08-21T12:09:40.342060Z",
     "iopub.status.idle": "2024-08-21T12:09:40.343819Z",
     "shell.execute_reply": "2024-08-21T12:09:40.343557Z"
    },
    "papermill": {
     "duration": 0.004432,
     "end_time": "2024-08-21T12:09:40.344677",
     "exception": false,
     "start_time": "2024-08-21T12:09:40.340245",
     "status": "completed"
    },
    "tags": [
     "parameters"
    ]
   },
   "outputs": [],
   "source": [
    "comparison_id = None"
   ]
  },
  {
   "cell_type": "code",
   "execution_count": 5,
   "id": "0bc4ec48",
   "metadata": {
    "execution": {
     "iopub.execute_input": "2024-08-21T12:09:40.348208Z",
     "iopub.status.busy": "2024-08-21T12:09:40.348072Z",
     "iopub.status.idle": "2024-08-21T12:09:40.349640Z",
     "shell.execute_reply": "2024-08-21T12:09:40.349418Z"
    },
    "papermill": {
     "duration": 0.004195,
     "end_time": "2024-08-21T12:09:40.350359",
     "exception": false,
     "start_time": "2024-08-21T12:09:40.346164",
     "status": "completed"
    },
    "tags": [
     "injected-parameters"
    ]
   },
   "outputs": [],
   "source": [
    "# Parameters\n",
    "comparison_id = 2\n"
   ]
  },
  {
   "cell_type": "code",
   "execution_count": 6,
   "id": "dade2b7e",
   "metadata": {
    "execution": {
     "iopub.execute_input": "2024-08-21T12:09:40.353113Z",
     "iopub.status.busy": "2024-08-21T12:09:40.353014Z",
     "iopub.status.idle": "2024-08-21T12:09:40.370722Z",
     "shell.execute_reply": "2024-08-21T12:09:40.370491Z"
    },
    "papermill": {
     "duration": 0.02001,
     "end_time": "2024-08-21T12:09:40.371534",
     "exception": false,
     "start_time": "2024-08-21T12:09:40.351524",
     "status": "completed"
    },
    "tags": []
   },
   "outputs": [
    {
     "name": "stdout",
     "output_type": "stream",
     "text": [
      "Comparing customer_profile_4 and customer_profile_5\n",
      "Finished preprocessing logistic dataset. Split on customer_profile_4 and customer_profile_5 with resulting source shape: (996, 3), target shape: (996, 3).\n",
      "['Connection', 'Weight', 'Unit_type']\n"
     ]
    }
   ],
   "source": [
    "\n",
    "# Load the data\n",
    "comparison_dict = {0: [0,1], 1: [2,3], 2: [4,5]}\n",
    "path_customer_profiles = open('./Results_Experiments/File_Paths/path_customer_profiles.txt','r').read()\n",
    "path_transport_graphics = open('./Results_Experiments/File_Paths/path_transport_graphics.txt','r').read()\n",
    "source = pd.read_csv(f'../{path_customer_profiles}/customer_profile_{comparison_dict[comparison_id][0]}.csv')\n",
    "target = pd.read_csv(f'../{path_customer_profiles}/customer_profile_{comparison_dict[comparison_id][1]}.csv')\n",
    "equal_week_split = True\n",
    "source, target, feature_names = load_and_preprocess_logistics_data(rng, n_samples, return_column_names=True,equal_week_split=equal_week_split, comparison_id=\n",
    "            comparison_id, comparison_dict=comparison_dict)\n",
    "print(feature_names)"
   ]
  },
  {
   "cell_type": "code",
   "execution_count": 7,
   "id": "296df3b5",
   "metadata": {
    "execution": {
     "iopub.execute_input": "2024-08-21T12:09:40.374767Z",
     "iopub.status.busy": "2024-08-21T12:09:40.374646Z",
     "iopub.status.idle": "2024-08-21T12:09:40.377395Z",
     "shell.execute_reply": "2024-08-21T12:09:40.377124Z"
    },
    "papermill": {
     "duration": 0.005263,
     "end_time": "2024-08-21T12:09:40.378210",
     "exception": false,
     "start_time": "2024-08-21T12:09:40.372947",
     "status": "completed"
    },
    "tags": []
   },
   "outputs": [],
   "source": [
    "# standardize the source and target data, and convert to domain labels\n",
    "from sklearn.preprocessing import StandardScaler\n",
    "X = np.concatenate((source, target), axis=0)\n",
    "# standardize X to remove cardinatlity bias\n",
    "X = StandardScaler().fit_transform(X)\n",
    "y = np.concatenate((np.zeros(source.shape[0]),\n",
    "                    np.ones(target.shape[0])), axis=0)  # domain labels"
   ]
  },
  {
   "cell_type": "code",
   "execution_count": 8,
   "id": "c5422e1f",
   "metadata": {
    "execution": {
     "iopub.execute_input": "2024-08-21T12:09:40.381684Z",
     "iopub.status.busy": "2024-08-21T12:09:40.381566Z",
     "iopub.status.idle": "2024-08-21T12:09:40.431935Z",
     "shell.execute_reply": "2024-08-21T12:09:40.431671Z"
    },
    "papermill": {
     "duration": 0.053187,
     "end_time": "2024-08-21T12:09:40.432851",
     "exception": false,
     "start_time": "2024-08-21T12:09:40.379664",
     "status": "completed"
    },
    "tags": []
   },
   "outputs": [],
   "source": [
    "from sklearn.datasets import make_classification\n",
    "from sklearn.model_selection import train_test_split\n",
    "\n",
    "X_train, X_test, y_train, y_test = train_test_split(X, y,\n",
    "                                     stratify=y, random_state=42)"
   ]
  },
  {
   "cell_type": "code",
   "execution_count": 9,
   "id": "5d9ba299",
   "metadata": {
    "execution": {
     "iopub.execute_input": "2024-08-21T12:09:40.436060Z",
     "iopub.status.busy": "2024-08-21T12:09:40.435908Z",
     "iopub.status.idle": "2024-08-21T12:09:40.450198Z",
     "shell.execute_reply": "2024-08-21T12:09:40.449924Z"
    },
    "papermill": {
     "duration": 0.016818,
     "end_time": "2024-08-21T12:09:40.451113",
     "exception": false,
     "start_time": "2024-08-21T12:09:40.434295",
     "status": "completed"
    },
    "tags": []
   },
   "outputs": [],
   "source": [
    "# Using XGBoost\n",
    "import xgboost\n",
    "\n",
    "def fit_xgboost(X_train, y_train, X_test, y_test, feature_names=None):\n",
    "    \"\"\" Train an XGBoost model with early stopping.\n",
    "    \"\"\"\n",
    "    dtrain = xgboost.DMatrix(X_train, label=y_train, feature_names=feature_names)\n",
    "    dtest = xgboost.DMatrix(X_test, label=y_test, feature_names=feature_names)\n",
    "    # model = xgboost.train(\n",
    "    #     { \"eta\": 0.001, \"subsample\": 0.5, \"max_depth\": 2,\n",
    "    #       \"objective\": 'binary:logistic', 'eval_metric': 'logloss'}, dtrain, num_boost_round=200000,\n",
    "    #     evals=[(dtest,'eval'), (dtrain,'train')], early_stopping_rounds=20, verbose_eval=False\n",
    "    # )\n",
    "    model = xgboost.train(\n",
    "        {\"objective\": 'binary:logistic', 'eval_metric': 'logloss'},\n",
    "        dtrain,\n",
    "        evals=[(dtest,'eval'), (dtrain,'train')],\n",
    "        verbose_eval=False)\n",
    "    return model"
   ]
  },
  {
   "cell_type": "code",
   "execution_count": 10,
   "id": "bd7ac9f1",
   "metadata": {
    "execution": {
     "iopub.execute_input": "2024-08-21T12:09:40.454185Z",
     "iopub.status.busy": "2024-08-21T12:09:40.454077Z",
     "iopub.status.idle": "2024-08-21T12:09:40.470669Z",
     "shell.execute_reply": "2024-08-21T12:09:40.470401Z"
    },
    "papermill": {
     "duration": 0.019181,
     "end_time": "2024-08-21T12:09:40.471623",
     "exception": false,
     "start_time": "2024-08-21T12:09:40.452442",
     "status": "completed"
    },
    "tags": []
   },
   "outputs": [],
   "source": [
    "xgb_forest = fit_xgboost(X_train, y_train, X_test, y_test, feature_names)\n",
    "xgb_forest.feature_names = feature_names"
   ]
  },
  {
   "cell_type": "code",
   "execution_count": 11,
   "id": "dcaa3020",
   "metadata": {
    "execution": {
     "iopub.execute_input": "2024-08-21T12:09:40.474662Z",
     "iopub.status.busy": "2024-08-21T12:09:40.474557Z",
     "iopub.status.idle": "2024-08-21T12:09:40.476573Z",
     "shell.execute_reply": "2024-08-21T12:09:40.476356Z"
    },
    "papermill": {
     "duration": 0.004366,
     "end_time": "2024-08-21T12:09:40.477345",
     "exception": false,
     "start_time": "2024-08-21T12:09:40.472979",
     "status": "completed"
    },
    "tags": []
   },
   "outputs": [],
   "source": [
    "def get_acc(model, samples, labels, feature_names=None):\n",
    "    predictions = (model.predict(xgboost.DMatrix(samples,\n",
    "                                                 feature_names=feature_names)) > 0.5).astype(int)\n",
    "    return (predictions == labels).sum() / predictions.shape[0]"
   ]
  },
  {
   "cell_type": "code",
   "execution_count": 12,
   "id": "7ce6b380",
   "metadata": {
    "execution": {
     "iopub.execute_input": "2024-08-21T12:09:40.480381Z",
     "iopub.status.busy": "2024-08-21T12:09:40.480273Z",
     "iopub.status.idle": "2024-08-21T12:09:40.483422Z",
     "shell.execute_reply": "2024-08-21T12:09:40.483146Z"
    },
    "papermill": {
     "duration": 0.005528,
     "end_time": "2024-08-21T12:09:40.484141",
     "exception": false,
     "start_time": "2024-08-21T12:09:40.478613",
     "status": "completed"
    },
    "tags": []
   },
   "outputs": [
    {
     "name": "stdout",
     "output_type": "stream",
     "text": [
      "Train score: 0.8266398929049531\n",
      "Test score: 0.7751004016064257\n"
     ]
    }
   ],
   "source": [
    "print('Train score:', get_acc(xgb_forest, X_train, y_train, feature_names))\n",
    "print('Test score:', get_acc(xgb_forest, X_test, y_test, feature_names))"
   ]
  },
  {
   "cell_type": "code",
   "execution_count": 13,
   "id": "97a1d2b0",
   "metadata": {
    "execution": {
     "iopub.execute_input": "2024-08-21T12:09:40.487186Z",
     "iopub.status.busy": "2024-08-21T12:09:40.487092Z",
     "iopub.status.idle": "2024-08-21T12:09:40.735844Z",
     "shell.execute_reply": "2024-08-21T12:09:40.735604Z"
    },
    "papermill": {
     "duration": 0.251226,
     "end_time": "2024-08-21T12:09:40.736741",
     "exception": false,
     "start_time": "2024-08-21T12:09:40.485515",
     "status": "completed"
    },
    "tags": []
   },
   "outputs": [],
   "source": [
    "import shap\n",
    "import pandas as pd\n",
    "explainer = shap.Explainer(xgb_forest)\n",
    "\n",
    "shap_values = explainer(pd.DataFrame(X_test, columns=feature_names))\n"
   ]
  },
  {
   "cell_type": "code",
   "execution_count": 14,
   "id": "8e7a54a8",
   "metadata": {
    "execution": {
     "iopub.execute_input": "2024-08-21T12:09:40.740052Z",
     "iopub.status.busy": "2024-08-21T12:09:40.739863Z",
     "iopub.status.idle": "2024-08-21T12:09:41.064684Z",
     "shell.execute_reply": "2024-08-21T12:09:41.064412Z"
    },
    "papermill": {
     "duration": 0.327316,
     "end_time": "2024-08-21T12:09:41.065546",
     "exception": false,
     "start_time": "2024-08-21T12:09:40.738230",
     "status": "completed"
    },
    "tags": []
   },
   "outputs": [
    {
     "data": {
      "image/png": "[encoded data removed]",
      "text/plain": [
       "<Figure size 400x100 with 2 Axes>"
      ]
     },
     "metadata": {},
     "output_type": "display_data"
    }
   ],
   "source": [
    "# Beeswarm plot\n",
    "\n",
    "shap.plots.beeswarm(shap_values, show=False)\n",
    "fig = plt.gcf()\n",
    "fig.set_size_inches(4, 1, forward=True)\n",
    "if save_figures: plt.savefig(\n",
    "    f'../{path_transport_graphics}/logitics_data_on_customer_profile_{comparison_dict[comparison_id][0]} and customer_profile_{comparison_dict[comparison_id][1]}-shap-value.{save_parms[\"format\"]}',\n",
    "    **save_parms\n",
    "    )\n",
    "plt.show()"
   ]
  }
 ],
 "metadata": {
  "kernelspec": {
   "display_name": "Python 3.7.11 ('py37')",
   "language": "python",
   "name": "python3"
  },
  "language_info": {
   "codemirror_mode": {
    "name": "ipython",
    "version": 3
   },
   "file_extension": ".py",
   "mimetype": "text/x-python",
   "name": "python",
   "nbconvert_exporter": "python",
   "pygments_lexer": "ipython3",
   "version": "3.12.0"
  },
  "papermill": {
   "default_parameters": {},
   "duration": 2.693633,
   "end_time": "2024-08-21T12:09:41.384804",
   "environment_variables": {},
   "exception": null,
   "input_path": "experiment_baseline.ipynb",
   "output_path": "./Results_Experiments/Set_C_max_to_60/experiment_baseline_3.ipynb",
   "parameters": {
    "comparison_id": 2
   },
   "start_time": "2024-08-21T12:09:38.691171",
   "version": "2.6.0"
  },
  "vscode": {
   "interpreter": {
    "hash": "5ab0220f0ca30ec7bac8a7e209564eceae6d15412b9f87f3c2f91206aa8b151c"
   }
  }
 },
 "nbformat": 4,
 "nbformat_minor": 5
}