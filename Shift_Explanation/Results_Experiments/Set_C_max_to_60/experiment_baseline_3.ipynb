{
 "cells": [
  {
   "cell_type": "code",
   "execution_count": 1,
   "id": "d05cab18",
   "metadata": {
    "execution": {
     "iopub.execute_input": "2024-08-21T09:46:48.087333Z",
     "iopub.status.busy": "2024-08-21T09:46:48.086689Z",
     "iopub.status.idle": "2024-08-21T09:46:49.614853Z",
     "shell.execute_reply": "2024-08-21T09:46:49.613952Z"
    },
    "papermill": {
     "duration": 1.544677,
     "end_time": "2024-08-21T09:46:49.625789",
     "exception": false,
     "start_time": "2024-08-21T09:46:48.081112",
     "status": "completed"
    },
    "tags": []
   },
   "outputs": [],
   "source": [
    "import matplotlib.pyplot as plt\n",
    "import numpy as np\n",
    "import pandas as pd\n",
    "from pathlib import Path\n",
    "import seaborn as sn\n"
   ]
  },
  {
   "cell_type": "code",
   "execution_count": 2,
   "id": "d6302d10",
   "metadata": {
    "execution": {
     "iopub.execute_input": "2024-08-21T09:46:49.635519Z",
     "iopub.status.busy": "2024-08-21T09:46:49.635040Z",
     "iopub.status.idle": "2024-08-21T09:46:49.641170Z",
     "shell.execute_reply": "2024-08-21T09:46:49.640831Z"
    },
    "papermill": {
     "duration": 0.012182,
     "end_time": "2024-08-21T09:46:49.643294",
     "exception": false,
     "start_time": "2024-08-21T09:46:49.631112",
     "status": "completed"
    },
    "tags": []
   },
   "outputs": [],
   "source": [
    "# Setting so that the plots look normal even when using dark-reader\n",
    "sn.set_style(\"whitegrid\")\n",
    "sn.set_context(context=\"paper\", font_scale=2)\n",
    "pal = sn.color_palette(\"Set1\")\n",
    "\n",
    "# Setting up specifics for plotting + saving\n",
    "save_figures = True\n",
    "add_legend = False\n",
    "add_title = False\n",
    "add_axis = False\n",
    "save_parms = {'format': 'pdf','bbox_inches':'tight', 'pad_inches':0.1}\n",
    "line_parms = {'linewidth':4, 'color':'k'}\n",
    "if save_figures:  # saves all figures in a figure directory in the local directory\n",
    "    figure_dir = Path('.') / 'figures' / 'adult-income-experiment'\n",
    "    if not figure_dir.exists():\n",
    "        figure_dir.mkdir(parents=True)"
   ]
  },
  {
   "cell_type": "code",
   "execution_count": 3,
   "id": "22d1d0e0",
   "metadata": {
    "execution": {
     "iopub.execute_input": "2024-08-21T09:46:49.650617Z",
     "iopub.status.busy": "2024-08-21T09:46:49.650289Z",
     "iopub.status.idle": "2024-08-21T09:46:49.659360Z",
     "shell.execute_reply": "2024-08-21T09:46:49.657785Z"
    },
    "papermill": {
     "duration": 0.016265,
     "end_time": "2024-08-21T09:46:49.662502",
     "exception": false,
     "start_time": "2024-08-21T09:46:49.646237",
     "status": "completed"
    },
    "tags": []
   },
   "outputs": [],
   "source": [
    "# Experiment hyperparamters\n",
    "rng = np.random.RandomState(42)\n",
    "split_on_income = False  # if True: src := income>=50k, tgt :+ income<50k, if False: src := male, tgt := female\n",
    "n_samples = 1000"
   ]
  },
  {
   "cell_type": "code",
   "execution_count": 4,
   "id": "48ff09ec",
   "metadata": {
    "execution": {
     "iopub.execute_input": "2024-08-21T09:46:49.674281Z",
     "iopub.status.busy": "2024-08-21T09:46:49.673987Z",
     "iopub.status.idle": "2024-08-21T09:46:49.677057Z",
     "shell.execute_reply": "2024-08-21T09:46:49.676198Z"
    },
    "papermill": {
     "duration": 0.015292,
     "end_time": "2024-08-21T09:46:49.681192",
     "exception": false,
     "start_time": "2024-08-21T09:46:49.665900",
     "status": "completed"
    },
    "tags": [
     "parameters"
    ]
   },
   "outputs": [],
   "source": [
    "comparison_id = None"
   ]
  },
  {
   "cell_type": "code",
   "execution_count": 5,
   "id": "3e881208",
   "metadata": {
    "execution": {
     "iopub.execute_input": "2024-08-21T09:46:49.687701Z",
     "iopub.status.busy": "2024-08-21T09:46:49.687561Z",
     "iopub.status.idle": "2024-08-21T09:46:49.689183Z",
     "shell.execute_reply": "2024-08-21T09:46:49.688939Z"
    },
    "papermill": {
     "duration": 0.005403,
     "end_time": "2024-08-21T09:46:49.690008",
     "exception": false,
     "start_time": "2024-08-21T09:46:49.684605",
     "status": "completed"
    },
    "tags": [
     "injected-parameters"
    ]
   },
   "outputs": [],
   "source": [
    "# Parameters\n",
    "comparison_id = 2\n"
   ]
  },
  {
   "cell_type": "code",
   "execution_count": 6,
   "id": "dade2b7e",
   "metadata": {
    "execution": {
     "iopub.execute_input": "2024-08-21T09:46:49.693651Z",
     "iopub.status.busy": "2024-08-21T09:46:49.693498Z",
     "iopub.status.idle": "2024-08-21T09:46:49.705760Z",
     "shell.execute_reply": "2024-08-21T09:46:49.705426Z"
    },
    "papermill": {
     "duration": 0.015224,
     "end_time": "2024-08-21T09:46:49.706607",
     "exception": false,
     "start_time": "2024-08-21T09:46:49.691383",
     "status": "completed"
    },
    "tags": []
   },
   "outputs": [
    {
     "name": "stdout",
     "output_type": "stream",
     "text": [
      "['Customer_id', 'Connection', 'Weight', 'Unit_type', 'Day', 'Week']\n"
     ]
    }
   ],
   "source": [
    "\n",
    "# Load the data\n",
    "comparison_dict = {0: [0,1], 1: [2,3], 2: [4,5]}\n",
    "path_customer_profiles = open('./Results_Experiments/File_Paths/path_customer_profiles.txt','r').read()\n",
    "path_transport_graphics = open('./Results_Experiments/File_Paths/path_transport_graphics.txt','r').read()\n",
    "source = pd.read_csv(f'../{path_customer_profiles}/customer_profile_{comparison_dict[comparison_id][0]}.csv')\n",
    "target = pd.read_csv(f'../{path_customer_profiles}/customer_profile_{comparison_dict[comparison_id][1]}.csv')\n",
    "\n",
    "feature_names = source.columns.values\n",
    "feature_names = list(feature_names)\n",
    "print(feature_names)"
   ]
  },
  {
   "cell_type": "code",
   "execution_count": 7,
   "id": "296df3b5",
   "metadata": {
    "execution": {
     "iopub.execute_input": "2024-08-21T09:46:49.710004Z",
     "iopub.status.busy": "2024-08-21T09:46:49.709874Z",
     "iopub.status.idle": "2024-08-21T09:46:49.749361Z",
     "shell.execute_reply": "2024-08-21T09:46:49.749070Z"
    },
    "papermill": {
     "duration": 0.042186,
     "end_time": "2024-08-21T09:46:49.750328",
     "exception": false,
     "start_time": "2024-08-21T09:46:49.708142",
     "status": "completed"
    },
    "tags": []
   },
   "outputs": [],
   "source": [
    "# standardize the source and target data, and convert to domain labels\n",
    "from sklearn.preprocessing import StandardScaler\n",
    "X = np.concatenate((source, target), axis=0)\n",
    "# standardize X to remove cardinatlity bias\n",
    "X = StandardScaler().fit_transform(X)\n",
    "y = np.concatenate((np.zeros(source.shape[0]),\n",
    "                    np.ones(target.shape[0])), axis=0)  # domain labels"
   ]
  },
  {
   "cell_type": "code",
   "execution_count": 8,
   "id": "c5422e1f",
   "metadata": {
    "execution": {
     "iopub.execute_input": "2024-08-21T09:46:49.754574Z",
     "iopub.status.busy": "2024-08-21T09:46:49.754383Z",
     "iopub.status.idle": "2024-08-21T09:46:49.880461Z",
     "shell.execute_reply": "2024-08-21T09:46:49.878361Z"
    },
    "papermill": {
     "duration": 0.130512,
     "end_time": "2024-08-21T09:46:49.882826",
     "exception": false,
     "start_time": "2024-08-21T09:46:49.752314",
     "status": "completed"
    },
    "tags": []
   },
   "outputs": [],
   "source": [
    "from sklearn.datasets import make_classification\n",
    "from sklearn.model_selection import train_test_split\n",
    "\n",
    "X_train, X_test, y_train, y_test = train_test_split(X, y,\n",
    "                                     stratify=y, random_state=42)"
   ]
  },
  {
   "cell_type": "code",
   "execution_count": 9,
   "id": "5d9ba299",
   "metadata": {
    "execution": {
     "iopub.execute_input": "2024-08-21T09:46:49.896433Z",
     "iopub.status.busy": "2024-08-21T09:46:49.895730Z",
     "iopub.status.idle": "2024-08-21T09:46:49.942265Z",
     "shell.execute_reply": "2024-08-21T09:46:49.939157Z"
    },
    "papermill": {
     "duration": 0.063096,
     "end_time": "2024-08-21T09:46:49.953520",
     "exception": false,
     "start_time": "2024-08-21T09:46:49.890424",
     "status": "completed"
    },
    "tags": []
   },
   "outputs": [],
   "source": [
    "# Using XGBoost\n",
    "import xgboost\n",
    "\n",
    "def fit_xgboost(X_train, y_train, X_test, y_test, feature_names=None):\n",
    "    \"\"\" Train an XGBoost model with early stopping.\n",
    "    \"\"\"\n",
    "    dtrain = xgboost.DMatrix(X_train, label=y_train, feature_names=feature_names)\n",
    "    dtest = xgboost.DMatrix(X_test, label=y_test, feature_names=feature_names)\n",
    "    # model = xgboost.train(\n",
    "    #     { \"eta\": 0.001, \"subsample\": 0.5, \"max_depth\": 2,\n",
    "    #       \"objective\": 'binary:logistic', 'eval_metric': 'logloss'}, dtrain, num_boost_round=200000,\n",
    "    #     evals=[(dtest,'eval'), (dtrain,'train')], early_stopping_rounds=20, verbose_eval=False\n",
    "    # )\n",
    "    model = xgboost.train(\n",
    "        {\"objective\": 'binary:logistic', 'eval_metric': 'logloss'},\n",
    "        dtrain,\n",
    "        evals=[(dtest,'eval'), (dtrain,'train')],\n",
    "        verbose_eval=False)\n",
    "    return model"
   ]
  },
  {
   "cell_type": "code",
   "execution_count": 10,
   "id": "bd7ac9f1",
   "metadata": {
    "execution": {
     "iopub.execute_input": "2024-08-21T09:46:49.970560Z",
     "iopub.status.busy": "2024-08-21T09:46:49.969776Z",
     "iopub.status.idle": "2024-08-21T09:46:50.024750Z",
     "shell.execute_reply": "2024-08-21T09:46:50.024391Z"
    },
    "papermill": {
     "duration": 0.07469,
     "end_time": "2024-08-21T09:46:50.033271",
     "exception": false,
     "start_time": "2024-08-21T09:46:49.958581",
     "status": "completed"
    },
    "tags": []
   },
   "outputs": [],
   "source": [
    "xgb_forest = fit_xgboost(X_train, y_train, X_test, y_test, feature_names)\n",
    "xgb_forest.feature_names = feature_names"
   ]
  },
  {
   "cell_type": "code",
   "execution_count": 11,
   "id": "dcaa3020",
   "metadata": {
    "execution": {
     "iopub.execute_input": "2024-08-21T09:46:50.054668Z",
     "iopub.status.busy": "2024-08-21T09:46:50.054052Z",
     "iopub.status.idle": "2024-08-21T09:46:50.058104Z",
     "shell.execute_reply": "2024-08-21T09:46:50.057143Z"
    },
    "papermill": {
     "duration": 0.018821,
     "end_time": "2024-08-21T09:46:50.063502",
     "exception": false,
     "start_time": "2024-08-21T09:46:50.044681",
     "status": "completed"
    },
    "tags": []
   },
   "outputs": [],
   "source": [
    "def get_acc(model, samples, labels, feature_names=None):\n",
    "    predictions = (model.predict(xgboost.DMatrix(samples,\n",
    "                                                 feature_names=feature_names)) > 0.5).astype(int)\n",
    "    return (predictions == labels).sum() / predictions.shape[0]"
   ]
  },
  {
   "cell_type": "code",
   "execution_count": 12,
   "id": "7ce6b380",
   "metadata": {
    "execution": {
     "iopub.execute_input": "2024-08-21T09:46:50.070866Z",
     "iopub.status.busy": "2024-08-21T09:46:50.070635Z",
     "iopub.status.idle": "2024-08-21T09:46:50.093403Z",
     "shell.execute_reply": "2024-08-21T09:46:50.091289Z"
    },
    "papermill": {
     "duration": 0.045483,
     "end_time": "2024-08-21T09:46:50.111658",
     "exception": false,
     "start_time": "2024-08-21T09:46:50.066175",
     "status": "completed"
    },
    "tags": []
   },
   "outputs": [
    {
     "name": "stdout",
     "output_type": "stream",
     "text": [
      "Train score: 0.9331559425899049\n",
      "Test score: 0.9300919206579584\n"
     ]
    }
   ],
   "source": [
    "print('Train score:', get_acc(xgb_forest, X_train, y_train, feature_names))\n",
    "print('Test score:', get_acc(xgb_forest, X_test, y_test, feature_names))"
   ]
  },
  {
   "cell_type": "code",
   "execution_count": 13,
   "id": "97a1d2b0",
   "metadata": {
    "execution": {
     "iopub.execute_input": "2024-08-21T09:46:50.116351Z",
     "iopub.status.busy": "2024-08-21T09:46:50.116192Z",
     "iopub.status.idle": "2024-08-21T09:46:51.055243Z",
     "shell.execute_reply": "2024-08-21T09:46:51.054546Z"
    },
    "papermill": {
     "duration": 0.95099,
     "end_time": "2024-08-21T09:46:51.064710",
     "exception": false,
     "start_time": "2024-08-21T09:46:50.113720",
     "status": "completed"
    },
    "tags": []
   },
   "outputs": [],
   "source": [
    "import shap\n",
    "import pandas as pd\n",
    "explainer = shap.Explainer(xgb_forest)\n",
    "\n",
    "shap_values = explainer(pd.DataFrame(X_test, columns=feature_names))\n"
   ]
  },
  {
   "cell_type": "code",
   "execution_count": 14,
   "id": "8e7a54a8",
   "metadata": {
    "execution": {
     "iopub.execute_input": "2024-08-21T09:46:51.083289Z",
     "iopub.status.busy": "2024-08-21T09:46:51.081928Z",
     "iopub.status.idle": "2024-08-21T09:46:51.691772Z",
     "shell.execute_reply": "2024-08-21T09:46:51.691312Z"
    },
    "papermill": {
     "duration": 0.621942,
     "end_time": "2024-08-21T09:46:51.692685",
     "exception": false,
     "start_time": "2024-08-21T09:46:51.070743",
     "status": "completed"
    },
    "tags": []
   },
   "outputs": [
    {
     "data": {
      "image/png": "[encoded data removed]",
      "text/plain": [
       "<Figure size 400x200 with 2 Axes>"
      ]
     },
     "metadata": {},
     "output_type": "display_data"
    }
   ],
   "source": [
    "# Beeswarm plot\n",
    "\n",
    "shap.plots.beeswarm(shap_values, show=False)\n",
    "fig = plt.gcf()\n",
    "fig.set_size_inches(4, 2, forward=True)\n",
    "if save_figures: plt.savefig(\n",
    "    f'../{path_transport_graphics}/logitics_data_on_customer_profile_{comparison_dict[comparison_id][0]} and customer_profile_{comparison_dict[comparison_id][1]}-shap-value.{save_parms[\"format\"]}',\n",
    "    **save_parms\n",
    "    )\n",
    "plt.show()"
   ]
  }
 ],
 "metadata": {
  "kernelspec": {
   "display_name": "Python 3.7.11 ('py37')",
   "language": "python",
   "name": "python3"
  },
  "language_info": {
   "codemirror_mode": {
    "name": "ipython",
    "version": 3
   },
   "file_extension": ".py",
   "mimetype": "text/x-python",
   "name": "python",
   "nbconvert_exporter": "python",
   "pygments_lexer": "ipython3",
   "version": "3.12.0"
  },
  "papermill": {
   "default_parameters": {},
   "duration": 4.765263,
   "end_time": "2024-08-21T09:46:52.116889",
   "environment_variables": {},
   "exception": null,
   "input_path": "experiment_baseline.ipynb",
   "output_path": "./Results_Experiments/Set_C_max_to_60/experiment_baseline_3.ipynb",
   "parameters": {
    "comparison_id": 2
   },
   "start_time": "2024-08-21T09:46:47.351626",
   "version": "2.6.0"
  },
  "vscode": {
   "interpreter": {
    "hash": "5ab0220f0ca30ec7bac8a7e209564eceae6d15412b9f87f3c2f91206aa8b151c"
   }
  }
 },
 "nbformat": 4,
 "nbformat_minor": 5
}