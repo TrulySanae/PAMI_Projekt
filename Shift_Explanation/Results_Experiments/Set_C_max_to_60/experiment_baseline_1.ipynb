{
 "cells": [
  {
   "cell_type": "code",
   "execution_count": 1,
   "id": "d05cab18",
   "metadata": {
    "execution": {
     "iopub.execute_input": "2024-08-21T09:46:42.104866Z",
     "iopub.status.busy": "2024-08-21T09:46:42.104692Z",
     "iopub.status.idle": "2024-08-21T09:46:43.044348Z",
     "shell.execute_reply": "2024-08-21T09:46:43.044044Z"
    },
    "papermill": {
     "duration": 0.946874,
     "end_time": "2024-08-21T09:46:43.045392",
     "exception": false,
     "start_time": "2024-08-21T09:46:42.098518",
     "status": "completed"
    },
    "tags": []
   },
   "outputs": [],
   "source": [
    "import matplotlib.pyplot as plt\n",
    "import numpy as np\n",
    "import pandas as pd\n",
    "from pathlib import Path\n",
    "import seaborn as sn\n"
   ]
  },
  {
   "cell_type": "code",
   "execution_count": 2,
   "id": "d6302d10",
   "metadata": {
    "execution": {
     "iopub.execute_input": "2024-08-21T09:46:43.048700Z",
     "iopub.status.busy": "2024-08-21T09:46:43.048559Z",
     "iopub.status.idle": "2024-08-21T09:46:43.051259Z",
     "shell.execute_reply": "2024-08-21T09:46:43.051019Z"
    },
    "papermill": {
     "duration": 0.005074,
     "end_time": "2024-08-21T09:46:43.051992",
     "exception": false,
     "start_time": "2024-08-21T09:46:43.046918",
     "status": "completed"
    },
    "tags": []
   },
   "outputs": [],
   "source": [
    "# Setting so that the plots look normal even when using dark-reader\n",
    "sn.set_style(\"whitegrid\")\n",
    "sn.set_context(context=\"paper\", font_scale=2)\n",
    "pal = sn.color_palette(\"Set1\")\n",
    "\n",
    "# Setting up specifics for plotting + saving\n",
    "save_figures = True\n",
    "add_legend = False\n",
    "add_title = False\n",
    "add_axis = False\n",
    "save_parms = {'format': 'pdf','bbox_inches':'tight', 'pad_inches':0.1}\n",
    "line_parms = {'linewidth':4, 'color':'k'}\n",
    "if save_figures:  # saves all figures in a figure directory in the local directory\n",
    "    figure_dir = Path('.') / 'figures' / 'adult-income-experiment'\n",
    "    if not figure_dir.exists():\n",
    "        figure_dir.mkdir(parents=True)"
   ]
  },
  {
   "cell_type": "code",
   "execution_count": 3,
   "id": "22d1d0e0",
   "metadata": {
    "execution": {
     "iopub.execute_input": "2024-08-21T09:46:43.055339Z",
     "iopub.status.busy": "2024-08-21T09:46:43.055205Z",
     "iopub.status.idle": "2024-08-21T09:46:43.057227Z",
     "shell.execute_reply": "2024-08-21T09:46:43.056972Z"
    },
    "papermill": {
     "duration": 0.004626,
     "end_time": "2024-08-21T09:46:43.058052",
     "exception": false,
     "start_time": "2024-08-21T09:46:43.053426",
     "status": "completed"
    },
    "tags": []
   },
   "outputs": [],
   "source": [
    "# Experiment hyperparamters\n",
    "rng = np.random.RandomState(42)\n",
    "split_on_income = False  # if True: src := income>=50k, tgt :+ income<50k, if False: src := male, tgt := female\n",
    "n_samples = 1000"
   ]
  },
  {
   "cell_type": "code",
   "execution_count": 4,
   "id": "48ff09ec",
   "metadata": {
    "execution": {
     "iopub.execute_input": "2024-08-21T09:46:43.061258Z",
     "iopub.status.busy": "2024-08-21T09:46:43.061126Z",
     "iopub.status.idle": "2024-08-21T09:46:43.063385Z",
     "shell.execute_reply": "2024-08-21T09:46:43.063054Z"
    },
    "papermill": {
     "duration": 0.005086,
     "end_time": "2024-08-21T09:46:43.064513",
     "exception": false,
     "start_time": "2024-08-21T09:46:43.059427",
     "status": "completed"
    },
    "tags": [
     "parameters"
    ]
   },
   "outputs": [],
   "source": [
    "comparison_id = None"
   ]
  },
  {
   "cell_type": "code",
   "execution_count": 5,
   "id": "56fc459a",
   "metadata": {
    "execution": {
     "iopub.execute_input": "2024-08-21T09:46:43.069463Z",
     "iopub.status.busy": "2024-08-21T09:46:43.069218Z",
     "iopub.status.idle": "2024-08-21T09:46:43.070961Z",
     "shell.execute_reply": "2024-08-21T09:46:43.070726Z"
    },
    "papermill": {
     "duration": 0.004595,
     "end_time": "2024-08-21T09:46:43.071893",
     "exception": false,
     "start_time": "2024-08-21T09:46:43.067298",
     "status": "completed"
    },
    "tags": [
     "injected-parameters"
    ]
   },
   "outputs": [],
   "source": [
    "# Parameters\n",
    "comparison_id = 0\n"
   ]
  },
  {
   "cell_type": "code",
   "execution_count": 6,
   "id": "dade2b7e",
   "metadata": {
    "execution": {
     "iopub.execute_input": "2024-08-21T09:46:43.074815Z",
     "iopub.status.busy": "2024-08-21T09:46:43.074717Z",
     "iopub.status.idle": "2024-08-21T09:46:43.083149Z",
     "shell.execute_reply": "2024-08-21T09:46:43.082920Z"
    },
    "papermill": {
     "duration": 0.010701,
     "end_time": "2024-08-21T09:46:43.083907",
     "exception": false,
     "start_time": "2024-08-21T09:46:43.073206",
     "status": "completed"
    },
    "tags": []
   },
   "outputs": [
    {
     "name": "stdout",
     "output_type": "stream",
     "text": [
      "['Customer_id', 'Connection', 'Weight', 'Unit_type', 'Day', 'Week']\n"
     ]
    }
   ],
   "source": [
    "\n",
    "# Load the data\n",
    "comparison_dict = {0: [0,1], 1: [2,3], 2: [4,5]}\n",
    "path_customer_profiles = open('./Results_Experiments/File_Paths/path_customer_profiles.txt','r').read()\n",
    "path_transport_graphics = open('./Results_Experiments/File_Paths/path_transport_graphics.txt','r').read()\n",
    "source = pd.read_csv(f'../{path_customer_profiles}/customer_profile_{comparison_dict[comparison_id][0]}.csv')\n",
    "target = pd.read_csv(f'../{path_customer_profiles}/customer_profile_{comparison_dict[comparison_id][1]}.csv')\n",
    "\n",
    "feature_names = source.columns.values\n",
    "feature_names = list(feature_names)\n",
    "print(feature_names)"
   ]
  },
  {
   "cell_type": "code",
   "execution_count": 7,
   "id": "296df3b5",
   "metadata": {
    "execution": {
     "iopub.execute_input": "2024-08-21T09:46:43.087682Z",
     "iopub.status.busy": "2024-08-21T09:46:43.087482Z",
     "iopub.status.idle": "2024-08-21T09:46:43.120642Z",
     "shell.execute_reply": "2024-08-21T09:46:43.120377Z"
    },
    "papermill": {
     "duration": 0.036178,
     "end_time": "2024-08-21T09:46:43.121551",
     "exception": false,
     "start_time": "2024-08-21T09:46:43.085373",
     "status": "completed"
    },
    "tags": []
   },
   "outputs": [],
   "source": [
    "# standardize the source and target data, and convert to domain labels\n",
    "from sklearn.preprocessing import StandardScaler\n",
    "X = np.concatenate((source, target), axis=0)\n",
    "# standardize X to remove cardinatlity bias\n",
    "X = StandardScaler().fit_transform(X)\n",
    "y = np.concatenate((np.zeros(source.shape[0]),\n",
    "                    np.ones(target.shape[0])), axis=0)  # domain labels"
   ]
  },
  {
   "cell_type": "code",
   "execution_count": 8,
   "id": "c5422e1f",
   "metadata": {
    "execution": {
     "iopub.execute_input": "2024-08-21T09:46:43.124697Z",
     "iopub.status.busy": "2024-08-21T09:46:43.124552Z",
     "iopub.status.idle": "2024-08-21T09:46:43.179014Z",
     "shell.execute_reply": "2024-08-21T09:46:43.178755Z"
    },
    "papermill": {
     "duration": 0.056992,
     "end_time": "2024-08-21T09:46:43.179945",
     "exception": false,
     "start_time": "2024-08-21T09:46:43.122953",
     "status": "completed"
    },
    "tags": []
   },
   "outputs": [],
   "source": [
    "from sklearn.datasets import make_classification\n",
    "from sklearn.model_selection import train_test_split\n",
    "\n",
    "X_train, X_test, y_train, y_test = train_test_split(X, y,\n",
    "                                     stratify=y, random_state=42)"
   ]
  },
  {
   "cell_type": "code",
   "execution_count": 9,
   "id": "5d9ba299",
   "metadata": {
    "execution": {
     "iopub.execute_input": "2024-08-21T09:46:43.183220Z",
     "iopub.status.busy": "2024-08-21T09:46:43.183078Z",
     "iopub.status.idle": "2024-08-21T09:46:43.196557Z",
     "shell.execute_reply": "2024-08-21T09:46:43.196315Z"
    },
    "papermill": {
     "duration": 0.015969,
     "end_time": "2024-08-21T09:46:43.197391",
     "exception": false,
     "start_time": "2024-08-21T09:46:43.181422",
     "status": "completed"
    },
    "tags": []
   },
   "outputs": [],
   "source": [
    "# Using XGBoost\n",
    "import xgboost\n",
    "\n",
    "def fit_xgboost(X_train, y_train, X_test, y_test, feature_names=None):\n",
    "    \"\"\" Train an XGBoost model with early stopping.\n",
    "    \"\"\"\n",
    "    dtrain = xgboost.DMatrix(X_train, label=y_train, feature_names=feature_names)\n",
    "    dtest = xgboost.DMatrix(X_test, label=y_test, feature_names=feature_names)\n",
    "    # model = xgboost.train(\n",
    "    #     { \"eta\": 0.001, \"subsample\": 0.5, \"max_depth\": 2,\n",
    "    #       \"objective\": 'binary:logistic', 'eval_metric': 'logloss'}, dtrain, num_boost_round=200000,\n",
    "    #     evals=[(dtest,'eval'), (dtrain,'train')], early_stopping_rounds=20, verbose_eval=False\n",
    "    # )\n",
    "    model = xgboost.train(\n",
    "        {\"objective\": 'binary:logistic', 'eval_metric': 'logloss'},\n",
    "        dtrain,\n",
    "        evals=[(dtest,'eval'), (dtrain,'train')],\n",
    "        verbose_eval=False)\n",
    "    return model"
   ]
  },
  {
   "cell_type": "code",
   "execution_count": 10,
   "id": "bd7ac9f1",
   "metadata": {
    "execution": {
     "iopub.execute_input": "2024-08-21T09:46:43.200415Z",
     "iopub.status.busy": "2024-08-21T09:46:43.200311Z",
     "iopub.status.idle": "2024-08-21T09:46:43.221081Z",
     "shell.execute_reply": "2024-08-21T09:46:43.220784Z"
    },
    "papermill": {
     "duration": 0.023293,
     "end_time": "2024-08-21T09:46:43.222048",
     "exception": false,
     "start_time": "2024-08-21T09:46:43.198755",
     "status": "completed"
    },
    "tags": []
   },
   "outputs": [],
   "source": [
    "xgb_forest = fit_xgboost(X_train, y_train, X_test, y_test, feature_names)\n",
    "xgb_forest.feature_names = feature_names"
   ]
  },
  {
   "cell_type": "code",
   "execution_count": 11,
   "id": "dcaa3020",
   "metadata": {
    "execution": {
     "iopub.execute_input": "2024-08-21T09:46:43.225568Z",
     "iopub.status.busy": "2024-08-21T09:46:43.225461Z",
     "iopub.status.idle": "2024-08-21T09:46:43.227280Z",
     "shell.execute_reply": "2024-08-21T09:46:43.227058Z"
    },
    "papermill": {
     "duration": 0.004171,
     "end_time": "2024-08-21T09:46:43.227998",
     "exception": false,
     "start_time": "2024-08-21T09:46:43.223827",
     "status": "completed"
    },
    "tags": []
   },
   "outputs": [],
   "source": [
    "def get_acc(model, samples, labels, feature_names=None):\n",
    "    predictions = (model.predict(xgboost.DMatrix(samples,\n",
    "                                                 feature_names=feature_names)) > 0.5).astype(int)\n",
    "    return (predictions == labels).sum() / predictions.shape[0]"
   ]
  },
  {
   "cell_type": "code",
   "execution_count": 12,
   "id": "7ce6b380",
   "metadata": {
    "execution": {
     "iopub.execute_input": "2024-08-21T09:46:43.230857Z",
     "iopub.status.busy": "2024-08-21T09:46:43.230761Z",
     "iopub.status.idle": "2024-08-21T09:46:43.234288Z",
     "shell.execute_reply": "2024-08-21T09:46:43.234060Z"
    },
    "papermill": {
     "duration": 0.005802,
     "end_time": "2024-08-21T09:46:43.235024",
     "exception": false,
     "start_time": "2024-08-21T09:46:43.229222",
     "status": "completed"
    },
    "tags": []
   },
   "outputs": [
    {
     "name": "stdout",
     "output_type": "stream",
     "text": [
      "Train score: 0.965366897005594\n",
      "Test score: 0.9597828768813225\n"
     ]
    }
   ],
   "source": [
    "print('Train score:', get_acc(xgb_forest, X_train, y_train, feature_names))\n",
    "print('Test score:', get_acc(xgb_forest, X_test, y_test, feature_names))"
   ]
  },
  {
   "cell_type": "code",
   "execution_count": 13,
   "id": "97a1d2b0",
   "metadata": {
    "execution": {
     "iopub.execute_input": "2024-08-21T09:46:43.238081Z",
     "iopub.status.busy": "2024-08-21T09:46:43.237978Z",
     "iopub.status.idle": "2024-08-21T09:46:43.506183Z",
     "shell.execute_reply": "2024-08-21T09:46:43.505934Z"
    },
    "papermill": {
     "duration": 0.270743,
     "end_time": "2024-08-21T09:46:43.507133",
     "exception": false,
     "start_time": "2024-08-21T09:46:43.236390",
     "status": "completed"
    },
    "tags": []
   },
   "outputs": [],
   "source": [
    "import shap\n",
    "import pandas as pd\n",
    "explainer = shap.Explainer(xgb_forest)\n",
    "\n",
    "shap_values = explainer(pd.DataFrame(X_test, columns=feature_names))\n"
   ]
  },
  {
   "cell_type": "code",
   "execution_count": 14,
   "id": "8e7a54a8",
   "metadata": {
    "execution": {
     "iopub.execute_input": "2024-08-21T09:46:43.510510Z",
     "iopub.status.busy": "2024-08-21T09:46:43.510355Z",
     "iopub.status.idle": "2024-08-21T09:46:44.077792Z",
     "shell.execute_reply": "2024-08-21T09:46:44.077501Z"
    },
    "papermill": {
     "duration": 0.569923,
     "end_time": "2024-08-21T09:46:44.078609",
     "exception": false,
     "start_time": "2024-08-21T09:46:43.508686",
     "status": "completed"
    },
    "tags": []
   },
   "outputs": [
    {
     "data": {
      "image/png": "[encoded data removed]",
      "text/plain": [
       "<Figure size 400x200 with 2 Axes>"
      ]
     },
     "metadata": {},
     "output_type": "display_data"
    }
   ],
   "source": [
    "# Beeswarm plot\n",
    "\n",
    "shap.plots.beeswarm(shap_values, show=False)\n",
    "fig = plt.gcf()\n",
    "fig.set_size_inches(4, 2, forward=True)\n",
    "if save_figures: plt.savefig(\n",
    "    f'../{path_transport_graphics}/logitics_data_on_customer_profile_{comparison_dict[comparison_id][0]} and customer_profile_{comparison_dict[comparison_id][1]}-shap-value.{save_parms[\"format\"]}',\n",
    "    **save_parms\n",
    "    )\n",
    "plt.show()"
   ]
  }
 ],
 "metadata": {
  "kernelspec": {
   "display_name": "Python 3.7.11 ('py37')",
   "language": "python",
   "name": "python3"
  },
  "language_info": {
   "codemirror_mode": {
    "name": "ipython",
    "version": 3
   },
   "file_extension": ".py",
   "mimetype": "text/x-python",
   "name": "python",
   "nbconvert_exporter": "python",
   "pygments_lexer": "ipython3",
   "version": "3.12.0"
  },
  "papermill": {
   "default_parameters": {},
   "duration": 3.003521,
   "end_time": "2024-08-21T09:46:44.397140",
   "environment_variables": {},
   "exception": null,
   "input_path": "experiment_baseline.ipynb",
   "output_path": "./Results_Experiments/Set_C_max_to_60/experiment_baseline_1.ipynb",
   "parameters": {
    "comparison_id": 0
   },
   "start_time": "2024-08-21T09:46:41.393619",
   "version": "2.6.0"
  },
  "vscode": {
   "interpreter": {
    "hash": "5ab0220f0ca30ec7bac8a7e209564eceae6d15412b9f87f3c2f91206aa8b151c"
   }
  }
 },
 "nbformat": 4,
 "nbformat_minor": 5
}