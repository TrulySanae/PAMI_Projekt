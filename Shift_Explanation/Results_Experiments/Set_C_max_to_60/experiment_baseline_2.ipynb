{
 "cells": [
  {
   "cell_type": "code",
   "execution_count": 1,
   "id": "d05cab18",
   "metadata": {
    "execution": {
     "iopub.execute_input": "2024-08-21T12:09:36.808125Z",
     "iopub.status.busy": "2024-08-21T12:09:36.807693Z",
     "iopub.status.idle": "2024-08-21T12:09:37.644021Z",
     "shell.execute_reply": "2024-08-21T12:09:37.643712Z"
    },
    "papermill": {
     "duration": 0.846008,
     "end_time": "2024-08-21T12:09:37.645018",
     "exception": false,
     "start_time": "2024-08-21T12:09:36.799010",
     "status": "completed"
    },
    "tags": []
   },
   "outputs": [],
   "source": [
    "import matplotlib.pyplot as plt\n",
    "import numpy as np\n",
    "import pandas as pd\n",
    "from pathlib import Path\n",
    "import seaborn as sn\n",
    "from data_utils import load_and_preprocess_logistics_data"
   ]
  },
  {
   "cell_type": "code",
   "execution_count": 2,
   "id": "d6302d10",
   "metadata": {
    "execution": {
     "iopub.execute_input": "2024-08-21T12:09:37.648247Z",
     "iopub.status.busy": "2024-08-21T12:09:37.648086Z",
     "iopub.status.idle": "2024-08-21T12:09:37.650671Z",
     "shell.execute_reply": "2024-08-21T12:09:37.650453Z"
    },
    "papermill": {
     "duration": 0.00495,
     "end_time": "2024-08-21T12:09:37.651456",
     "exception": false,
     "start_time": "2024-08-21T12:09:37.646506",
     "status": "completed"
    },
    "tags": []
   },
   "outputs": [],
   "source": [
    "# Setting so that the plots look normal even when using dark-reader\n",
    "sn.set_style(\"whitegrid\")\n",
    "sn.set_context(context=\"paper\", font_scale=2)\n",
    "pal = sn.color_palette(\"Set1\")\n",
    "\n",
    "# Setting up specifics for plotting + saving\n",
    "save_figures = True\n",
    "add_legend = False\n",
    "add_title = False\n",
    "add_axis = False\n",
    "save_parms = {'format': 'pdf','bbox_inches':'tight', 'pad_inches':0.1}\n",
    "line_parms = {'linewidth':4, 'color':'k'}\n",
    "if save_figures:  # saves all figures in a figure directory in the local directory\n",
    "    figure_dir = Path('.') / 'figures' / 'adult-income-experiment'\n",
    "    if not figure_dir.exists():\n",
    "        figure_dir.mkdir(parents=True)"
   ]
  },
  {
   "cell_type": "code",
   "execution_count": 3,
   "id": "22d1d0e0",
   "metadata": {
    "execution": {
     "iopub.execute_input": "2024-08-21T12:09:37.654452Z",
     "iopub.status.busy": "2024-08-21T12:09:37.654345Z",
     "iopub.status.idle": "2024-08-21T12:09:37.656120Z",
     "shell.execute_reply": "2024-08-21T12:09:37.655917Z"
    },
    "papermill": {
     "duration": 0.004067,
     "end_time": "2024-08-21T12:09:37.656817",
     "exception": false,
     "start_time": "2024-08-21T12:09:37.652750",
     "status": "completed"
    },
    "tags": []
   },
   "outputs": [],
   "source": [
    "# Experiment hyperparamters\n",
    "rng = np.random.RandomState(42)\n",
    "split_on_income = False  # if True: src := income>=50k, tgt :+ income<50k, if False: src := male, tgt := female\n",
    "n_samples = 1000"
   ]
  },
  {
   "cell_type": "code",
   "execution_count": 4,
   "id": "48ff09ec",
   "metadata": {
    "execution": {
     "iopub.execute_input": "2024-08-21T12:09:37.659994Z",
     "iopub.status.busy": "2024-08-21T12:09:37.659838Z",
     "iopub.status.idle": "2024-08-21T12:09:37.661561Z",
     "shell.execute_reply": "2024-08-21T12:09:37.661330Z"
    },
    "papermill": {
     "duration": 0.004275,
     "end_time": "2024-08-21T12:09:37.662276",
     "exception": false,
     "start_time": "2024-08-21T12:09:37.658001",
     "status": "completed"
    },
    "tags": [
     "parameters"
    ]
   },
   "outputs": [],
   "source": [
    "comparison_id = None"
   ]
  },
  {
   "cell_type": "code",
   "execution_count": 5,
   "id": "cc623c65",
   "metadata": {
    "execution": {
     "iopub.execute_input": "2024-08-21T12:09:37.665798Z",
     "iopub.status.busy": "2024-08-21T12:09:37.665671Z",
     "iopub.status.idle": "2024-08-21T12:09:37.667154Z",
     "shell.execute_reply": "2024-08-21T12:09:37.666945Z"
    },
    "papermill": {
     "duration": 0.003906,
     "end_time": "2024-08-21T12:09:37.667904",
     "exception": false,
     "start_time": "2024-08-21T12:09:37.663998",
     "status": "completed"
    },
    "tags": [
     "injected-parameters"
    ]
   },
   "outputs": [],
   "source": [
    "# Parameters\n",
    "comparison_id = 1\n"
   ]
  },
  {
   "cell_type": "code",
   "execution_count": 6,
   "id": "dade2b7e",
   "metadata": {
    "execution": {
     "iopub.execute_input": "2024-08-21T12:09:37.670723Z",
     "iopub.status.busy": "2024-08-21T12:09:37.670629Z",
     "iopub.status.idle": "2024-08-21T12:09:37.687407Z",
     "shell.execute_reply": "2024-08-21T12:09:37.687172Z"
    },
    "papermill": {
     "duration": 0.019113,
     "end_time": "2024-08-21T12:09:37.688225",
     "exception": false,
     "start_time": "2024-08-21T12:09:37.669112",
     "status": "completed"
    },
    "tags": []
   },
   "outputs": [
    {
     "name": "stdout",
     "output_type": "stream",
     "text": [
      "Comparing customer_profile_2 and customer_profile_3\n",
      "Finished preprocessing logistic dataset. Split on customer_profile_2 and customer_profile_3 with resulting source shape: (996, 3), target shape: (996, 3).\n",
      "['Connection', 'Weight', 'Unit_type']\n"
     ]
    }
   ],
   "source": [
    "\n",
    "# Load the data\n",
    "comparison_dict = {0: [0,1], 1: [2,3], 2: [4,5]}\n",
    "path_customer_profiles = open('./Results_Experiments/File_Paths/path_customer_profiles.txt','r').read()\n",
    "path_transport_graphics = open('./Results_Experiments/File_Paths/path_transport_graphics.txt','r').read()\n",
    "source = pd.read_csv(f'../{path_customer_profiles}/customer_profile_{comparison_dict[comparison_id][0]}.csv')\n",
    "target = pd.read_csv(f'../{path_customer_profiles}/customer_profile_{comparison_dict[comparison_id][1]}.csv')\n",
    "equal_week_split = True\n",
    "source, target, feature_names = load_and_preprocess_logistics_data(rng, n_samples, return_column_names=True,equal_week_split=equal_week_split, comparison_id=\n",
    "            comparison_id, comparison_dict=comparison_dict)\n",
    "print(feature_names)"
   ]
  },
  {
   "cell_type": "code",
   "execution_count": 7,
   "id": "296df3b5",
   "metadata": {
    "execution": {
     "iopub.execute_input": "2024-08-21T12:09:37.691351Z",
     "iopub.status.busy": "2024-08-21T12:09:37.691242Z",
     "iopub.status.idle": "2024-08-21T12:09:37.693655Z",
     "shell.execute_reply": "2024-08-21T12:09:37.693425Z"
    },
    "papermill": {
     "duration": 0.004753,
     "end_time": "2024-08-21T12:09:37.694405",
     "exception": false,
     "start_time": "2024-08-21T12:09:37.689652",
     "status": "completed"
    },
    "tags": []
   },
   "outputs": [],
   "source": [
    "# standardize the source and target data, and convert to domain labels\n",
    "from sklearn.preprocessing import StandardScaler\n",
    "X = np.concatenate((source, target), axis=0)\n",
    "# standardize X to remove cardinatlity bias\n",
    "X = StandardScaler().fit_transform(X)\n",
    "y = np.concatenate((np.zeros(source.shape[0]),\n",
    "                    np.ones(target.shape[0])), axis=0)  # domain labels"
   ]
  },
  {
   "cell_type": "code",
   "execution_count": 8,
   "id": "c5422e1f",
   "metadata": {
    "execution": {
     "iopub.execute_input": "2024-08-21T12:09:37.697305Z",
     "iopub.status.busy": "2024-08-21T12:09:37.697208Z",
     "iopub.status.idle": "2024-08-21T12:09:37.746044Z",
     "shell.execute_reply": "2024-08-21T12:09:37.745777Z"
    },
    "papermill": {
     "duration": 0.051249,
     "end_time": "2024-08-21T12:09:37.746961",
     "exception": false,
     "start_time": "2024-08-21T12:09:37.695712",
     "status": "completed"
    },
    "tags": []
   },
   "outputs": [],
   "source": [
    "from sklearn.datasets import make_classification\n",
    "from sklearn.model_selection import train_test_split\n",
    "\n",
    "X_train, X_test, y_train, y_test = train_test_split(X, y,\n",
    "                                     stratify=y, random_state=42)"
   ]
  },
  {
   "cell_type": "code",
   "execution_count": 9,
   "id": "5d9ba299",
   "metadata": {
    "execution": {
     "iopub.execute_input": "2024-08-21T12:09:37.750167Z",
     "iopub.status.busy": "2024-08-21T12:09:37.750018Z",
     "iopub.status.idle": "2024-08-21T12:09:37.764263Z",
     "shell.execute_reply": "2024-08-21T12:09:37.764006Z"
    },
    "papermill": {
     "duration": 0.016771,
     "end_time": "2024-08-21T12:09:37.765180",
     "exception": false,
     "start_time": "2024-08-21T12:09:37.748409",
     "status": "completed"
    },
    "tags": []
   },
   "outputs": [],
   "source": [
    "# Using XGBoost\n",
    "import xgboost\n",
    "\n",
    "def fit_xgboost(X_train, y_train, X_test, y_test, feature_names=None):\n",
    "    \"\"\" Train an XGBoost model with early stopping.\n",
    "    \"\"\"\n",
    "    dtrain = xgboost.DMatrix(X_train, label=y_train, feature_names=feature_names)\n",
    "    dtest = xgboost.DMatrix(X_test, label=y_test, feature_names=feature_names)\n",
    "    # model = xgboost.train(\n",
    "    #     { \"eta\": 0.001, \"subsample\": 0.5, \"max_depth\": 2,\n",
    "    #       \"objective\": 'binary:logistic', 'eval_metric': 'logloss'}, dtrain, num_boost_round=200000,\n",
    "    #     evals=[(dtest,'eval'), (dtrain,'train')], early_stopping_rounds=20, verbose_eval=False\n",
    "    # )\n",
    "    model = xgboost.train(\n",
    "        {\"objective\": 'binary:logistic', 'eval_metric': 'logloss'},\n",
    "        dtrain,\n",
    "        evals=[(dtest,'eval'), (dtrain,'train')],\n",
    "        verbose_eval=False)\n",
    "    return model"
   ]
  },
  {
   "cell_type": "code",
   "execution_count": 10,
   "id": "bd7ac9f1",
   "metadata": {
    "execution": {
     "iopub.execute_input": "2024-08-21T12:09:37.768234Z",
     "iopub.status.busy": "2024-08-21T12:09:37.768126Z",
     "iopub.status.idle": "2024-08-21T12:09:37.782575Z",
     "shell.execute_reply": "2024-08-21T12:09:37.782309Z"
    },
    "papermill": {
     "duration": 0.016893,
     "end_time": "2024-08-21T12:09:37.783446",
     "exception": false,
     "start_time": "2024-08-21T12:09:37.766553",
     "status": "completed"
    },
    "tags": []
   },
   "outputs": [],
   "source": [
    "xgb_forest = fit_xgboost(X_train, y_train, X_test, y_test, feature_names)\n",
    "xgb_forest.feature_names = feature_names"
   ]
  },
  {
   "cell_type": "code",
   "execution_count": 11,
   "id": "dcaa3020",
   "metadata": {
    "execution": {
     "iopub.execute_input": "2024-08-21T12:09:37.790030Z",
     "iopub.status.busy": "2024-08-21T12:09:37.789880Z",
     "iopub.status.idle": "2024-08-21T12:09:37.791858Z",
     "shell.execute_reply": "2024-08-21T12:09:37.791600Z"
    },
    "papermill": {
     "duration": 0.007121,
     "end_time": "2024-08-21T12:09:37.792670",
     "exception": false,
     "start_time": "2024-08-21T12:09:37.785549",
     "status": "completed"
    },
    "tags": []
   },
   "outputs": [],
   "source": [
    "def get_acc(model, samples, labels, feature_names=None):\n",
    "    predictions = (model.predict(xgboost.DMatrix(samples,\n",
    "                                                 feature_names=feature_names)) > 0.5).astype(int)\n",
    "    return (predictions == labels).sum() / predictions.shape[0]"
   ]
  },
  {
   "cell_type": "code",
   "execution_count": 12,
   "id": "7ce6b380",
   "metadata": {
    "execution": {
     "iopub.execute_input": "2024-08-21T12:09:37.795779Z",
     "iopub.status.busy": "2024-08-21T12:09:37.795662Z",
     "iopub.status.idle": "2024-08-21T12:09:37.798633Z",
     "shell.execute_reply": "2024-08-21T12:09:37.798410Z"
    },
    "papermill": {
     "duration": 0.005319,
     "end_time": "2024-08-21T12:09:37.799385",
     "exception": false,
     "start_time": "2024-08-21T12:09:37.794066",
     "status": "completed"
    },
    "tags": []
   },
   "outputs": [
    {
     "name": "stdout",
     "output_type": "stream",
     "text": [
      "Train score: 0.7991967871485943\n",
      "Test score: 0.7389558232931727\n"
     ]
    }
   ],
   "source": [
    "print('Train score:', get_acc(xgb_forest, X_train, y_train, feature_names))\n",
    "print('Test score:', get_acc(xgb_forest, X_test, y_test, feature_names))"
   ]
  },
  {
   "cell_type": "code",
   "execution_count": 13,
   "id": "97a1d2b0",
   "metadata": {
    "execution": {
     "iopub.execute_input": "2024-08-21T12:09:37.802493Z",
     "iopub.status.busy": "2024-08-21T12:09:37.802394Z",
     "iopub.status.idle": "2024-08-21T12:09:38.042183Z",
     "shell.execute_reply": "2024-08-21T12:09:38.041914Z"
    },
    "papermill": {
     "duration": 0.242309,
     "end_time": "2024-08-21T12:09:38.043100",
     "exception": false,
     "start_time": "2024-08-21T12:09:37.800791",
     "status": "completed"
    },
    "tags": []
   },
   "outputs": [],
   "source": [
    "import shap\n",
    "import pandas as pd\n",
    "explainer = shap.Explainer(xgb_forest)\n",
    "\n",
    "shap_values = explainer(pd.DataFrame(X_test, columns=feature_names))\n"
   ]
  },
  {
   "cell_type": "code",
   "execution_count": 14,
   "id": "8e7a54a8",
   "metadata": {
    "execution": {
     "iopub.execute_input": "2024-08-21T12:09:38.046415Z",
     "iopub.status.busy": "2024-08-21T12:09:38.046269Z",
     "iopub.status.idle": "2024-08-21T12:09:38.363871Z",
     "shell.execute_reply": "2024-08-21T12:09:38.363605Z"
    },
    "papermill": {
     "duration": 0.320152,
     "end_time": "2024-08-21T12:09:38.364757",
     "exception": false,
     "start_time": "2024-08-21T12:09:38.044605",
     "status": "completed"
    },
    "tags": []
   },
   "outputs": [
    {
     "data": {
      "image/png": "[encoded data removed]",
      "text/plain": [
       "<Figure size 400x100 with 2 Axes>"
      ]
     },
     "metadata": {},
     "output_type": "display_data"
    }
   ],
   "source": [
    "# Beeswarm plot\n",
    "\n",
    "shap.plots.beeswarm(shap_values, show=False)\n",
    "fig = plt.gcf()\n",
    "fig.set_size_inches(4, 1, forward=True)\n",
    "if save_figures: plt.savefig(\n",
    "    f'../{path_transport_graphics}/logitics_data_on_customer_profile_{comparison_dict[comparison_id][0]} and customer_profile_{comparison_dict[comparison_id][1]}-shap-value.{save_parms[\"format\"]}',\n",
    "    **save_parms\n",
    "    )\n",
    "plt.show()"
   ]
  }
 ],
 "metadata": {
  "kernelspec": {
   "display_name": "Python 3.7.11 ('py37')",
   "language": "python",
   "name": "python3"
  },
  "language_info": {
   "codemirror_mode": {
    "name": "ipython",
    "version": 3
   },
   "file_extension": ".py",
   "mimetype": "text/x-python",
   "name": "python",
   "nbconvert_exporter": "python",
   "pygments_lexer": "ipython3",
   "version": "3.12.0"
  },
  "papermill": {
   "default_parameters": {},
   "duration": 2.446817,
   "end_time": "2024-08-21T12:09:38.684776",
   "environment_variables": {},
   "exception": null,
   "input_path": "experiment_baseline.ipynb",
   "output_path": "./Results_Experiments/Set_C_max_to_60/experiment_baseline_2.ipynb",
   "parameters": {
    "comparison_id": 1
   },
   "start_time": "2024-08-21T12:09:36.237959",
   "version": "2.6.0"
  },
  "vscode": {
   "interpreter": {
    "hash": "5ab0220f0ca30ec7bac8a7e209564eceae6d15412b9f87f3c2f91206aa8b151c"
   }
  }
 },
 "nbformat": 4,
 "nbformat_minor": 5
}