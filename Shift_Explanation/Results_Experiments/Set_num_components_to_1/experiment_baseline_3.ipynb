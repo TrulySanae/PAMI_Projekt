{
 "cells": [
  {
   "cell_type": "code",
   "execution_count": 1,
   "id": "d05cab18",
   "metadata": {
    "execution": {
     "iopub.execute_input": "2024-08-21T09:47:48.494760Z",
     "iopub.status.busy": "2024-08-21T09:47:48.494382Z",
     "iopub.status.idle": "2024-08-21T09:47:49.493253Z",
     "shell.execute_reply": "2024-08-21T09:47:49.492962Z"
    },
    "papermill": {
     "duration": 1.010227,
     "end_time": "2024-08-21T09:47:49.495595",
     "exception": false,
     "start_time": "2024-08-21T09:47:48.485368",
     "status": "completed"
    },
    "tags": []
   },
   "outputs": [],
   "source": [
    "import matplotlib.pyplot as plt\n",
    "import numpy as np\n",
    "import pandas as pd\n",
    "from pathlib import Path\n",
    "import seaborn as sn\n"
   ]
  },
  {
   "cell_type": "code",
   "execution_count": 2,
   "id": "d6302d10",
   "metadata": {
    "execution": {
     "iopub.execute_input": "2024-08-21T09:47:49.499722Z",
     "iopub.status.busy": "2024-08-21T09:47:49.499557Z",
     "iopub.status.idle": "2024-08-21T09:47:49.502263Z",
     "shell.execute_reply": "2024-08-21T09:47:49.502002Z"
    },
    "papermill": {
     "duration": 0.005363,
     "end_time": "2024-08-21T09:47:49.503153",
     "exception": false,
     "start_time": "2024-08-21T09:47:49.497790",
     "status": "completed"
    },
    "tags": []
   },
   "outputs": [],
   "source": [
    "# Setting so that the plots look normal even when using dark-reader\n",
    "sn.set_style(\"whitegrid\")\n",
    "sn.set_context(context=\"paper\", font_scale=2)\n",
    "pal = sn.color_palette(\"Set1\")\n",
    "\n",
    "# Setting up specifics for plotting + saving\n",
    "save_figures = True\n",
    "add_legend = False\n",
    "add_title = False\n",
    "add_axis = False\n",
    "save_parms = {'format': 'pdf','bbox_inches':'tight', 'pad_inches':0.1}\n",
    "line_parms = {'linewidth':4, 'color':'k'}\n",
    "if save_figures:  # saves all figures in a figure directory in the local directory\n",
    "    figure_dir = Path('.') / 'figures' / 'adult-income-experiment'\n",
    "    if not figure_dir.exists():\n",
    "        figure_dir.mkdir(parents=True)"
   ]
  },
  {
   "cell_type": "code",
   "execution_count": 3,
   "id": "22d1d0e0",
   "metadata": {
    "execution": {
     "iopub.execute_input": "2024-08-21T09:47:49.506408Z",
     "iopub.status.busy": "2024-08-21T09:47:49.506282Z",
     "iopub.status.idle": "2024-08-21T09:47:49.508277Z",
     "shell.execute_reply": "2024-08-21T09:47:49.507993Z"
    },
    "papermill": {
     "duration": 0.004662,
     "end_time": "2024-08-21T09:47:49.509103",
     "exception": false,
     "start_time": "2024-08-21T09:47:49.504441",
     "status": "completed"
    },
    "tags": []
   },
   "outputs": [],
   "source": [
    "# Experiment hyperparamters\n",
    "rng = np.random.RandomState(42)\n",
    "split_on_income = False  # if True: src := income>=50k, tgt :+ income<50k, if False: src := male, tgt := female\n",
    "n_samples = 1000"
   ]
  },
  {
   "cell_type": "code",
   "execution_count": 4,
   "id": "48ff09ec",
   "metadata": {
    "execution": {
     "iopub.execute_input": "2024-08-21T09:47:49.514207Z",
     "iopub.status.busy": "2024-08-21T09:47:49.513868Z",
     "iopub.status.idle": "2024-08-21T09:47:49.516223Z",
     "shell.execute_reply": "2024-08-21T09:47:49.515915Z"
    },
    "papermill": {
     "duration": 0.005883,
     "end_time": "2024-08-21T09:47:49.517027",
     "exception": false,
     "start_time": "2024-08-21T09:47:49.511144",
     "status": "completed"
    },
    "tags": [
     "parameters"
    ]
   },
   "outputs": [],
   "source": [
    "comparison_id = None"
   ]
  },
  {
   "cell_type": "code",
   "execution_count": 5,
   "id": "170e61d9",
   "metadata": {
    "execution": {
     "iopub.execute_input": "2024-08-21T09:47:49.521695Z",
     "iopub.status.busy": "2024-08-21T09:47:49.521547Z",
     "iopub.status.idle": "2024-08-21T09:47:49.523326Z",
     "shell.execute_reply": "2024-08-21T09:47:49.523077Z"
    },
    "papermill": {
     "duration": 0.006924,
     "end_time": "2024-08-21T09:47:49.525389",
     "exception": false,
     "start_time": "2024-08-21T09:47:49.518465",
     "status": "completed"
    },
    "tags": [
     "injected-parameters"
    ]
   },
   "outputs": [],
   "source": [
    "# Parameters\n",
    "comparison_id = 2\n"
   ]
  },
  {
   "cell_type": "code",
   "execution_count": 6,
   "id": "dade2b7e",
   "metadata": {
    "execution": {
     "iopub.execute_input": "2024-08-21T09:47:49.535092Z",
     "iopub.status.busy": "2024-08-21T09:47:49.534782Z",
     "iopub.status.idle": "2024-08-21T09:47:49.546843Z",
     "shell.execute_reply": "2024-08-21T09:47:49.546601Z"
    },
    "papermill": {
     "duration": 0.015657,
     "end_time": "2024-08-21T09:47:49.547592",
     "exception": false,
     "start_time": "2024-08-21T09:47:49.531935",
     "status": "completed"
    },
    "tags": []
   },
   "outputs": [
    {
     "name": "stdout",
     "output_type": "stream",
     "text": [
      "['Customer_id', 'Connection', 'Weight', 'Unit_type', 'Day', 'Week']\n"
     ]
    }
   ],
   "source": [
    "\n",
    "# Load the data\n",
    "comparison_dict = {0: [0,1], 1: [2,3], 2: [4,5]}\n",
    "path_customer_profiles = open('./Results_Experiments/File_Paths/path_customer_profiles.txt','r').read()\n",
    "path_transport_graphics = open('./Results_Experiments/File_Paths/path_transport_graphics.txt','r').read()\n",
    "source = pd.read_csv(f'../{path_customer_profiles}/customer_profile_{comparison_dict[comparison_id][0]}.csv')\n",
    "target = pd.read_csv(f'../{path_customer_profiles}/customer_profile_{comparison_dict[comparison_id][1]}.csv')\n",
    "\n",
    "feature_names = source.columns.values\n",
    "feature_names = list(feature_names)\n",
    "print(feature_names)"
   ]
  },
  {
   "cell_type": "code",
   "execution_count": 7,
   "id": "296df3b5",
   "metadata": {
    "execution": {
     "iopub.execute_input": "2024-08-21T09:47:49.550843Z",
     "iopub.status.busy": "2024-08-21T09:47:49.550705Z",
     "iopub.status.idle": "2024-08-21T09:47:49.584726Z",
     "shell.execute_reply": "2024-08-21T09:47:49.584427Z"
    },
    "papermill": {
     "duration": 0.036654,
     "end_time": "2024-08-21T09:47:49.585669",
     "exception": false,
     "start_time": "2024-08-21T09:47:49.549015",
     "status": "completed"
    },
    "tags": []
   },
   "outputs": [],
   "source": [
    "# standardize the source and target data, and convert to domain labels\n",
    "from sklearn.preprocessing import StandardScaler\n",
    "X = np.concatenate((source, target), axis=0)\n",
    "# standardize X to remove cardinatlity bias\n",
    "X = StandardScaler().fit_transform(X)\n",
    "y = np.concatenate((np.zeros(source.shape[0]),\n",
    "                    np.ones(target.shape[0])), axis=0)  # domain labels"
   ]
  },
  {
   "cell_type": "code",
   "execution_count": 8,
   "id": "c5422e1f",
   "metadata": {
    "execution": {
     "iopub.execute_input": "2024-08-21T09:47:49.588967Z",
     "iopub.status.busy": "2024-08-21T09:47:49.588792Z",
     "iopub.status.idle": "2024-08-21T09:47:49.640900Z",
     "shell.execute_reply": "2024-08-21T09:47:49.640639Z"
    },
    "papermill": {
     "duration": 0.054745,
     "end_time": "2024-08-21T09:47:49.641838",
     "exception": false,
     "start_time": "2024-08-21T09:47:49.587093",
     "status": "completed"
    },
    "tags": []
   },
   "outputs": [],
   "source": [
    "from sklearn.datasets import make_classification\n",
    "from sklearn.model_selection import train_test_split\n",
    "\n",
    "X_train, X_test, y_train, y_test = train_test_split(X, y,\n",
    "                                     stratify=y, random_state=42)"
   ]
  },
  {
   "cell_type": "code",
   "execution_count": 9,
   "id": "5d9ba299",
   "metadata": {
    "execution": {
     "iopub.execute_input": "2024-08-21T09:47:49.645141Z",
     "iopub.status.busy": "2024-08-21T09:47:49.644990Z",
     "iopub.status.idle": "2024-08-21T09:47:49.664819Z",
     "shell.execute_reply": "2024-08-21T09:47:49.664194Z"
    },
    "papermill": {
     "duration": 0.023008,
     "end_time": "2024-08-21T09:47:49.666337",
     "exception": false,
     "start_time": "2024-08-21T09:47:49.643329",
     "status": "completed"
    },
    "tags": []
   },
   "outputs": [],
   "source": [
    "# Using XGBoost\n",
    "import xgboost\n",
    "\n",
    "def fit_xgboost(X_train, y_train, X_test, y_test, feature_names=None):\n",
    "    \"\"\" Train an XGBoost model with early stopping.\n",
    "    \"\"\"\n",
    "    dtrain = xgboost.DMatrix(X_train, label=y_train, feature_names=feature_names)\n",
    "    dtest = xgboost.DMatrix(X_test, label=y_test, feature_names=feature_names)\n",
    "    # model = xgboost.train(\n",
    "    #     { \"eta\": 0.001, \"subsample\": 0.5, \"max_depth\": 2,\n",
    "    #       \"objective\": 'binary:logistic', 'eval_metric': 'logloss'}, dtrain, num_boost_round=200000,\n",
    "    #     evals=[(dtest,'eval'), (dtrain,'train')], early_stopping_rounds=20, verbose_eval=False\n",
    "    # )\n",
    "    model = xgboost.train(\n",
    "        {\"objective\": 'binary:logistic', 'eval_metric': 'logloss'},\n",
    "        dtrain,\n",
    "        evals=[(dtest,'eval'), (dtrain,'train')],\n",
    "        verbose_eval=False)\n",
    "    return model"
   ]
  },
  {
   "cell_type": "code",
   "execution_count": 10,
   "id": "bd7ac9f1",
   "metadata": {
    "execution": {
     "iopub.execute_input": "2024-08-21T09:47:49.670507Z",
     "iopub.status.busy": "2024-08-21T09:47:49.670378Z",
     "iopub.status.idle": "2024-08-21T09:47:49.698881Z",
     "shell.execute_reply": "2024-08-21T09:47:49.698562Z"
    },
    "papermill": {
     "duration": 0.032052,
     "end_time": "2024-08-21T09:47:49.699927",
     "exception": false,
     "start_time": "2024-08-21T09:47:49.667875",
     "status": "completed"
    },
    "tags": []
   },
   "outputs": [],
   "source": [
    "xgb_forest = fit_xgboost(X_train, y_train, X_test, y_test, feature_names)\n",
    "xgb_forest.feature_names = feature_names"
   ]
  },
  {
   "cell_type": "code",
   "execution_count": 11,
   "id": "dcaa3020",
   "metadata": {
    "execution": {
     "iopub.execute_input": "2024-08-21T09:47:49.703487Z",
     "iopub.status.busy": "2024-08-21T09:47:49.703363Z",
     "iopub.status.idle": "2024-08-21T09:47:49.705249Z",
     "shell.execute_reply": "2024-08-21T09:47:49.705009Z"
    },
    "papermill": {
     "duration": 0.004493,
     "end_time": "2024-08-21T09:47:49.706031",
     "exception": false,
     "start_time": "2024-08-21T09:47:49.701538",
     "status": "completed"
    },
    "tags": []
   },
   "outputs": [],
   "source": [
    "def get_acc(model, samples, labels, feature_names=None):\n",
    "    predictions = (model.predict(xgboost.DMatrix(samples,\n",
    "                                                 feature_names=feature_names)) > 0.5).astype(int)\n",
    "    return (predictions == labels).sum() / predictions.shape[0]"
   ]
  },
  {
   "cell_type": "code",
   "execution_count": 12,
   "id": "7ce6b380",
   "metadata": {
    "execution": {
     "iopub.execute_input": "2024-08-21T09:47:49.709509Z",
     "iopub.status.busy": "2024-08-21T09:47:49.709383Z",
     "iopub.status.idle": "2024-08-21T09:47:49.713251Z",
     "shell.execute_reply": "2024-08-21T09:47:49.713012Z"
    },
    "papermill": {
     "duration": 0.006555,
     "end_time": "2024-08-21T09:47:49.713972",
     "exception": false,
     "start_time": "2024-08-21T09:47:49.707417",
     "status": "completed"
    },
    "tags": []
   },
   "outputs": [
    {
     "name": "stdout",
     "output_type": "stream",
     "text": [
      "Train score: 0.9565039986943039\n",
      "Test score: 0.9510403916768666\n"
     ]
    }
   ],
   "source": [
    "print('Train score:', get_acc(xgb_forest, X_train, y_train, feature_names))\n",
    "print('Test score:', get_acc(xgb_forest, X_test, y_test, feature_names))"
   ]
  },
  {
   "cell_type": "code",
   "execution_count": 13,
   "id": "97a1d2b0",
   "metadata": {
    "execution": {
     "iopub.execute_input": "2024-08-21T09:47:49.717005Z",
     "iopub.status.busy": "2024-08-21T09:47:49.716913Z",
     "iopub.status.idle": "2024-08-21T09:47:49.998087Z",
     "shell.execute_reply": "2024-08-21T09:47:49.997790Z"
    },
    "papermill": {
     "duration": 0.283845,
     "end_time": "2024-08-21T09:47:49.999196",
     "exception": false,
     "start_time": "2024-08-21T09:47:49.715351",
     "status": "completed"
    },
    "tags": []
   },
   "outputs": [],
   "source": [
    "import shap\n",
    "import pandas as pd\n",
    "explainer = shap.Explainer(xgb_forest)\n",
    "\n",
    "shap_values = explainer(pd.DataFrame(X_test, columns=feature_names))\n"
   ]
  },
  {
   "cell_type": "code",
   "execution_count": 14,
   "id": "8e7a54a8",
   "metadata": {
    "execution": {
     "iopub.execute_input": "2024-08-21T09:47:50.003287Z",
     "iopub.status.busy": "2024-08-21T09:47:50.002882Z",
     "iopub.status.idle": "2024-08-21T09:47:50.552986Z",
     "shell.execute_reply": "2024-08-21T09:47:50.552638Z"
    },
    "papermill": {
     "duration": 0.553172,
     "end_time": "2024-08-21T09:47:50.553958",
     "exception": false,
     "start_time": "2024-08-21T09:47:50.000786",
     "status": "completed"
    },
    "tags": []
   },
   "outputs": [
    {
     "data": {
      "image/png": "[encoded data removed]",
      "text/plain": [
       "<Figure size 400x200 with 2 Axes>"
      ]
     },
     "metadata": {},
     "output_type": "display_data"
    }
   ],
   "source": [
    "# Beeswarm plot\n",
    "\n",
    "shap.plots.beeswarm(shap_values, show=False)\n",
    "fig = plt.gcf()\n",
    "fig.set_size_inches(4, 2, forward=True)\n",
    "if save_figures: plt.savefig(\n",
    "    f'../{path_transport_graphics}/logitics_data_on_customer_profile_{comparison_dict[comparison_id][0]} and customer_profile_{comparison_dict[comparison_id][1]}-shap-value.{save_parms[\"format\"]}',\n",
    "    **save_parms\n",
    "    )\n",
    "plt.show()"
   ]
  }
 ],
 "metadata": {
  "kernelspec": {
   "display_name": "Python 3.7.11 ('py37')",
   "language": "python",
   "name": "python3"
  },
  "language_info": {
   "codemirror_mode": {
    "name": "ipython",
    "version": 3
   },
   "file_extension": ".py",
   "mimetype": "text/x-python",
   "name": "python",
   "nbconvert_exporter": "python",
   "pygments_lexer": "ipython3",
   "version": "3.12.0"
  },
  "papermill": {
   "default_parameters": {},
   "duration": 2.971163,
   "end_time": "2024-08-21T09:47:50.874046",
   "environment_variables": {},
   "exception": null,
   "input_path": "experiment_baseline.ipynb",
   "output_path": "./Results_Experiments/Set_num_components_to_1/experiment_baseline_3.ipynb",
   "parameters": {
    "comparison_id": 2
   },
   "start_time": "2024-08-21T09:47:47.902883",
   "version": "2.6.0"
  },
  "vscode": {
   "interpreter": {
    "hash": "5ab0220f0ca30ec7bac8a7e209564eceae6d15412b9f87f3c2f91206aa8b151c"
   }
  }
 },
 "nbformat": 4,
 "nbformat_minor": 5
}