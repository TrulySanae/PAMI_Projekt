{
 "cells": [
  {
   "cell_type": "code",
   "execution_count": 1,
   "id": "d05cab18",
   "metadata": {
    "execution": {
     "iopub.execute_input": "2024-08-21T09:47:41.579802Z",
     "iopub.status.busy": "2024-08-21T09:47:41.579579Z",
     "iopub.status.idle": "2024-08-21T09:47:42.601426Z",
     "shell.execute_reply": "2024-08-21T09:47:42.601102Z"
    },
    "papermill": {
     "duration": 1.027159,
     "end_time": "2024-08-21T09:47:42.603343",
     "exception": false,
     "start_time": "2024-08-21T09:47:41.576184",
     "status": "completed"
    },
    "tags": []
   },
   "outputs": [],
   "source": [
    "import matplotlib.pyplot as plt\n",
    "import numpy as np\n",
    "import pandas as pd\n",
    "from pathlib import Path\n",
    "import seaborn as sn\n"
   ]
  },
  {
   "cell_type": "code",
   "execution_count": 2,
   "id": "d6302d10",
   "metadata": {
    "execution": {
     "iopub.execute_input": "2024-08-21T09:47:42.607084Z",
     "iopub.status.busy": "2024-08-21T09:47:42.606897Z",
     "iopub.status.idle": "2024-08-21T09:47:42.609795Z",
     "shell.execute_reply": "2024-08-21T09:47:42.609509Z"
    },
    "papermill": {
     "duration": 0.005361,
     "end_time": "2024-08-21T09:47:42.610547",
     "exception": false,
     "start_time": "2024-08-21T09:47:42.605186",
     "status": "completed"
    },
    "tags": []
   },
   "outputs": [],
   "source": [
    "# Setting so that the plots look normal even when using dark-reader\n",
    "sn.set_style(\"whitegrid\")\n",
    "sn.set_context(context=\"paper\", font_scale=2)\n",
    "pal = sn.color_palette(\"Set1\")\n",
    "\n",
    "# Setting up specifics for plotting + saving\n",
    "save_figures = True\n",
    "add_legend = False\n",
    "add_title = False\n",
    "add_axis = False\n",
    "save_parms = {'format': 'pdf','bbox_inches':'tight', 'pad_inches':0.1}\n",
    "line_parms = {'linewidth':4, 'color':'k'}\n",
    "if save_figures:  # saves all figures in a figure directory in the local directory\n",
    "    figure_dir = Path('.') / 'figures' / 'adult-income-experiment'\n",
    "    if not figure_dir.exists():\n",
    "        figure_dir.mkdir(parents=True)"
   ]
  },
  {
   "cell_type": "code",
   "execution_count": 3,
   "id": "22d1d0e0",
   "metadata": {
    "execution": {
     "iopub.execute_input": "2024-08-21T09:47:42.613963Z",
     "iopub.status.busy": "2024-08-21T09:47:42.613848Z",
     "iopub.status.idle": "2024-08-21T09:47:42.615736Z",
     "shell.execute_reply": "2024-08-21T09:47:42.615510Z"
    },
    "papermill": {
     "duration": 0.004554,
     "end_time": "2024-08-21T09:47:42.616452",
     "exception": false,
     "start_time": "2024-08-21T09:47:42.611898",
     "status": "completed"
    },
    "tags": []
   },
   "outputs": [],
   "source": [
    "# Experiment hyperparamters\n",
    "rng = np.random.RandomState(42)\n",
    "split_on_income = False  # if True: src := income>=50k, tgt :+ income<50k, if False: src := male, tgt := female\n",
    "n_samples = 1000"
   ]
  },
  {
   "cell_type": "code",
   "execution_count": 4,
   "id": "48ff09ec",
   "metadata": {
    "execution": {
     "iopub.execute_input": "2024-08-21T09:47:42.619725Z",
     "iopub.status.busy": "2024-08-21T09:47:42.619586Z",
     "iopub.status.idle": "2024-08-21T09:47:42.621196Z",
     "shell.execute_reply": "2024-08-21T09:47:42.620938Z"
    },
    "papermill": {
     "duration": 0.004264,
     "end_time": "2024-08-21T09:47:42.621969",
     "exception": false,
     "start_time": "2024-08-21T09:47:42.617705",
     "status": "completed"
    },
    "tags": [
     "parameters"
    ]
   },
   "outputs": [],
   "source": [
    "comparison_id = None"
   ]
  },
  {
   "cell_type": "code",
   "execution_count": 5,
   "id": "c7718f76",
   "metadata": {
    "execution": {
     "iopub.execute_input": "2024-08-21T09:47:42.625821Z",
     "iopub.status.busy": "2024-08-21T09:47:42.625671Z",
     "iopub.status.idle": "2024-08-21T09:47:42.627370Z",
     "shell.execute_reply": "2024-08-21T09:47:42.627119Z"
    },
    "papermill": {
     "duration": 0.004747,
     "end_time": "2024-08-21T09:47:42.628138",
     "exception": false,
     "start_time": "2024-08-21T09:47:42.623391",
     "status": "completed"
    },
    "tags": [
     "injected-parameters"
    ]
   },
   "outputs": [],
   "source": [
    "# Parameters\n",
    "comparison_id = 0\n"
   ]
  },
  {
   "cell_type": "code",
   "execution_count": 6,
   "id": "dade2b7e",
   "metadata": {
    "execution": {
     "iopub.execute_input": "2024-08-21T09:47:42.631646Z",
     "iopub.status.busy": "2024-08-21T09:47:42.631516Z",
     "iopub.status.idle": "2024-08-21T09:47:42.643095Z",
     "shell.execute_reply": "2024-08-21T09:47:42.642804Z"
    },
    "papermill": {
     "duration": 0.014701,
     "end_time": "2024-08-21T09:47:42.644207",
     "exception": false,
     "start_time": "2024-08-21T09:47:42.629506",
     "status": "completed"
    },
    "tags": []
   },
   "outputs": [
    {
     "name": "stdout",
     "output_type": "stream",
     "text": [
      "['Customer_id', 'Connection', 'Weight', 'Unit_type', 'Day', 'Week']\n"
     ]
    }
   ],
   "source": [
    "\n",
    "# Load the data\n",
    "comparison_dict = {0: [0,1], 1: [2,3], 2: [4,5]}\n",
    "path_customer_profiles = open('./Results_Experiments/File_Paths/path_customer_profiles.txt','r').read()\n",
    "path_transport_graphics = open('./Results_Experiments/File_Paths/path_transport_graphics.txt','r').read()\n",
    "source = pd.read_csv(f'../{path_customer_profiles}/customer_profile_{comparison_dict[comparison_id][0]}.csv')\n",
    "target = pd.read_csv(f'../{path_customer_profiles}/customer_profile_{comparison_dict[comparison_id][1]}.csv')\n",
    "\n",
    "feature_names = source.columns.values\n",
    "feature_names = list(feature_names)\n",
    "print(feature_names)"
   ]
  },
  {
   "cell_type": "code",
   "execution_count": 7,
   "id": "296df3b5",
   "metadata": {
    "execution": {
     "iopub.execute_input": "2024-08-21T09:47:42.647555Z",
     "iopub.status.busy": "2024-08-21T09:47:42.647432Z",
     "iopub.status.idle": "2024-08-21T09:47:42.685364Z",
     "shell.execute_reply": "2024-08-21T09:47:42.685064Z"
    },
    "papermill": {
     "duration": 0.040598,
     "end_time": "2024-08-21T09:47:42.686314",
     "exception": false,
     "start_time": "2024-08-21T09:47:42.645716",
     "status": "completed"
    },
    "tags": []
   },
   "outputs": [],
   "source": [
    "# standardize the source and target data, and convert to domain labels\n",
    "from sklearn.preprocessing import StandardScaler\n",
    "X = np.concatenate((source, target), axis=0)\n",
    "# standardize X to remove cardinatlity bias\n",
    "X = StandardScaler().fit_transform(X)\n",
    "y = np.concatenate((np.zeros(source.shape[0]),\n",
    "                    np.ones(target.shape[0])), axis=0)  # domain labels"
   ]
  },
  {
   "cell_type": "code",
   "execution_count": 8,
   "id": "c5422e1f",
   "metadata": {
    "execution": {
     "iopub.execute_input": "2024-08-21T09:47:42.689906Z",
     "iopub.status.busy": "2024-08-21T09:47:42.689753Z",
     "iopub.status.idle": "2024-08-21T09:47:42.743710Z",
     "shell.execute_reply": "2024-08-21T09:47:42.743446Z"
    },
    "papermill": {
     "duration": 0.057182,
     "end_time": "2024-08-21T09:47:42.745189",
     "exception": false,
     "start_time": "2024-08-21T09:47:42.688007",
     "status": "completed"
    },
    "tags": []
   },
   "outputs": [],
   "source": [
    "from sklearn.datasets import make_classification\n",
    "from sklearn.model_selection import train_test_split\n",
    "\n",
    "X_train, X_test, y_train, y_test = train_test_split(X, y,\n",
    "                                     stratify=y, random_state=42)"
   ]
  },
  {
   "cell_type": "code",
   "execution_count": 9,
   "id": "5d9ba299",
   "metadata": {
    "execution": {
     "iopub.execute_input": "2024-08-21T09:47:42.750731Z",
     "iopub.status.busy": "2024-08-21T09:47:42.750520Z",
     "iopub.status.idle": "2024-08-21T09:47:42.766309Z",
     "shell.execute_reply": "2024-08-21T09:47:42.766041Z"
    },
    "papermill": {
     "duration": 0.019343,
     "end_time": "2024-08-21T09:47:42.767415",
     "exception": false,
     "start_time": "2024-08-21T09:47:42.748072",
     "status": "completed"
    },
    "tags": []
   },
   "outputs": [],
   "source": [
    "# Using XGBoost\n",
    "import xgboost\n",
    "\n",
    "def fit_xgboost(X_train, y_train, X_test, y_test, feature_names=None):\n",
    "    \"\"\" Train an XGBoost model with early stopping.\n",
    "    \"\"\"\n",
    "    dtrain = xgboost.DMatrix(X_train, label=y_train, feature_names=feature_names)\n",
    "    dtest = xgboost.DMatrix(X_test, label=y_test, feature_names=feature_names)\n",
    "    # model = xgboost.train(\n",
    "    #     { \"eta\": 0.001, \"subsample\": 0.5, \"max_depth\": 2,\n",
    "    #       \"objective\": 'binary:logistic', 'eval_metric': 'logloss'}, dtrain, num_boost_round=200000,\n",
    "    #     evals=[(dtest,'eval'), (dtrain,'train')], early_stopping_rounds=20, verbose_eval=False\n",
    "    # )\n",
    "    model = xgboost.train(\n",
    "        {\"objective\": 'binary:logistic', 'eval_metric': 'logloss'},\n",
    "        dtrain,\n",
    "        evals=[(dtest,'eval'), (dtrain,'train')],\n",
    "        verbose_eval=False)\n",
    "    return model"
   ]
  },
  {
   "cell_type": "code",
   "execution_count": 10,
   "id": "bd7ac9f1",
   "metadata": {
    "execution": {
     "iopub.execute_input": "2024-08-21T09:47:42.771095Z",
     "iopub.status.busy": "2024-08-21T09:47:42.770929Z",
     "iopub.status.idle": "2024-08-21T09:47:42.813567Z",
     "shell.execute_reply": "2024-08-21T09:47:42.813275Z"
    },
    "papermill": {
     "duration": 0.045573,
     "end_time": "2024-08-21T09:47:42.814504",
     "exception": false,
     "start_time": "2024-08-21T09:47:42.768931",
     "status": "completed"
    },
    "tags": []
   },
   "outputs": [],
   "source": [
    "xgb_forest = fit_xgboost(X_train, y_train, X_test, y_test, feature_names)\n",
    "xgb_forest.feature_names = feature_names"
   ]
  },
  {
   "cell_type": "code",
   "execution_count": 11,
   "id": "dcaa3020",
   "metadata": {
    "execution": {
     "iopub.execute_input": "2024-08-21T09:47:42.817722Z",
     "iopub.status.busy": "2024-08-21T09:47:42.817599Z",
     "iopub.status.idle": "2024-08-21T09:47:42.819540Z",
     "shell.execute_reply": "2024-08-21T09:47:42.819138Z"
    },
    "papermill": {
     "duration": 0.004426,
     "end_time": "2024-08-21T09:47:42.820389",
     "exception": false,
     "start_time": "2024-08-21T09:47:42.815963",
     "status": "completed"
    },
    "tags": []
   },
   "outputs": [],
   "source": [
    "def get_acc(model, samples, labels, feature_names=None):\n",
    "    predictions = (model.predict(xgboost.DMatrix(samples,\n",
    "                                                 feature_names=feature_names)) > 0.5).astype(int)\n",
    "    return (predictions == labels).sum() / predictions.shape[0]"
   ]
  },
  {
   "cell_type": "code",
   "execution_count": 12,
   "id": "7ce6b380",
   "metadata": {
    "execution": {
     "iopub.execute_input": "2024-08-21T09:47:42.823793Z",
     "iopub.status.busy": "2024-08-21T09:47:42.823671Z",
     "iopub.status.idle": "2024-08-21T09:47:42.827615Z",
     "shell.execute_reply": "2024-08-21T09:47:42.827326Z"
    },
    "papermill": {
     "duration": 0.007157,
     "end_time": "2024-08-21T09:47:42.829010",
     "exception": false,
     "start_time": "2024-08-21T09:47:42.821853",
     "status": "completed"
    },
    "tags": []
   },
   "outputs": [
    {
     "name": "stdout",
     "output_type": "stream",
     "text": [
      "Train score: 0.9039737812371978\n",
      "Test score: 0.8989923814204964\n"
     ]
    }
   ],
   "source": [
    "print('Train score:', get_acc(xgb_forest, X_train, y_train, feature_names))\n",
    "print('Test score:', get_acc(xgb_forest, X_test, y_test, feature_names))"
   ]
  },
  {
   "cell_type": "code",
   "execution_count": 13,
   "id": "97a1d2b0",
   "metadata": {
    "execution": {
     "iopub.execute_input": "2024-08-21T09:47:42.832617Z",
     "iopub.status.busy": "2024-08-21T09:47:42.832495Z",
     "iopub.status.idle": "2024-08-21T09:47:43.322501Z",
     "shell.execute_reply": "2024-08-21T09:47:43.321406Z"
    },
    "papermill": {
     "duration": 0.493628,
     "end_time": "2024-08-21T09:47:43.324264",
     "exception": false,
     "start_time": "2024-08-21T09:47:42.830636",
     "status": "completed"
    },
    "tags": []
   },
   "outputs": [],
   "source": [
    "import shap\n",
    "import pandas as pd\n",
    "explainer = shap.Explainer(xgb_forest)\n",
    "\n",
    "shap_values = explainer(pd.DataFrame(X_test, columns=feature_names))\n"
   ]
  },
  {
   "cell_type": "code",
   "execution_count": 14,
   "id": "8e7a54a8",
   "metadata": {
    "execution": {
     "iopub.execute_input": "2024-08-21T09:47:43.328799Z",
     "iopub.status.busy": "2024-08-21T09:47:43.328571Z",
     "iopub.status.idle": "2024-08-21T09:47:44.008663Z",
     "shell.execute_reply": "2024-08-21T09:47:44.008345Z"
    },
    "papermill": {
     "duration": 0.685368,
     "end_time": "2024-08-21T09:47:44.011319",
     "exception": false,
     "start_time": "2024-08-21T09:47:43.325951",
     "status": "completed"
    },
    "tags": []
   },
   "outputs": [
    {
     "data": {
      "image/png": "[encoded data removed]",
      "text/plain": [
       "<Figure size 400x200 with 2 Axes>"
      ]
     },
     "metadata": {},
     "output_type": "display_data"
    }
   ],
   "source": [
    "# Beeswarm plot\n",
    "\n",
    "shap.plots.beeswarm(shap_values, show=False)\n",
    "fig = plt.gcf()\n",
    "fig.set_size_inches(4, 2, forward=True)\n",
    "if save_figures: plt.savefig(\n",
    "    f'../{path_transport_graphics}/logitics_data_on_customer_profile_{comparison_dict[comparison_id][0]} and customer_profile_{comparison_dict[comparison_id][1]}-shap-value.{save_parms[\"format\"]}',\n",
    "    **save_parms\n",
    "    )\n",
    "plt.show()"
   ]
  }
 ],
 "metadata": {
  "kernelspec": {
   "display_name": "Python 3.7.11 ('py37')",
   "language": "python",
   "name": "python3"
  },
  "language_info": {
   "codemirror_mode": {
    "name": "ipython",
    "version": 3
   },
   "file_extension": ".py",
   "mimetype": "text/x-python",
   "name": "python",
   "nbconvert_exporter": "python",
   "pygments_lexer": "ipython3",
   "version": "3.12.0"
  },
  "papermill": {
   "default_parameters": {},
   "duration": 4.168005,
   "end_time": "2024-08-21T09:47:44.535546",
   "environment_variables": {},
   "exception": null,
   "input_path": "experiment_baseline.ipynb",
   "output_path": "./Results_Experiments/Set_num_components_to_1/experiment_baseline_1.ipynb",
   "parameters": {
    "comparison_id": 0
   },
   "start_time": "2024-08-21T09:47:40.367541",
   "version": "2.6.0"
  },
  "vscode": {
   "interpreter": {
    "hash": "5ab0220f0ca30ec7bac8a7e209564eceae6d15412b9f87f3c2f91206aa8b151c"
   }
  }
 },
 "nbformat": 4,
 "nbformat_minor": 5
}