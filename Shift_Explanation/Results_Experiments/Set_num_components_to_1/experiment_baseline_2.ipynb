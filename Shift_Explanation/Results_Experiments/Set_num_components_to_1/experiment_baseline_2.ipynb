{
 "cells": [
  {
   "cell_type": "code",
   "execution_count": 1,
   "id": "d05cab18",
   "metadata": {
    "execution": {
     "iopub.execute_input": "2024-08-21T09:47:45.445172Z",
     "iopub.status.busy": "2024-08-21T09:47:45.444591Z",
     "iopub.status.idle": "2024-08-21T09:47:46.456794Z",
     "shell.execute_reply": "2024-08-21T09:47:46.456508Z"
    },
    "papermill": {
     "duration": 1.020823,
     "end_time": "2024-08-21T09:47:46.457914",
     "exception": false,
     "start_time": "2024-08-21T09:47:45.437091",
     "status": "completed"
    },
    "tags": []
   },
   "outputs": [],
   "source": [
    "import matplotlib.pyplot as plt\n",
    "import numpy as np\n",
    "import pandas as pd\n",
    "from pathlib import Path\n",
    "import seaborn as sn\n"
   ]
  },
  {
   "cell_type": "code",
   "execution_count": 2,
   "id": "d6302d10",
   "metadata": {
    "execution": {
     "iopub.execute_input": "2024-08-21T09:47:46.461361Z",
     "iopub.status.busy": "2024-08-21T09:47:46.461205Z",
     "iopub.status.idle": "2024-08-21T09:47:46.464061Z",
     "shell.execute_reply": "2024-08-21T09:47:46.463817Z"
    },
    "papermill": {
     "duration": 0.005317,
     "end_time": "2024-08-21T09:47:46.464757",
     "exception": false,
     "start_time": "2024-08-21T09:47:46.459440",
     "status": "completed"
    },
    "tags": []
   },
   "outputs": [],
   "source": [
    "# Setting so that the plots look normal even when using dark-reader\n",
    "sn.set_style(\"whitegrid\")\n",
    "sn.set_context(context=\"paper\", font_scale=2)\n",
    "pal = sn.color_palette(\"Set1\")\n",
    "\n",
    "# Setting up specifics for plotting + saving\n",
    "save_figures = True\n",
    "add_legend = False\n",
    "add_title = False\n",
    "add_axis = False\n",
    "save_parms = {'format': 'pdf','bbox_inches':'tight', 'pad_inches':0.1}\n",
    "line_parms = {'linewidth':4, 'color':'k'}\n",
    "if save_figures:  # saves all figures in a figure directory in the local directory\n",
    "    figure_dir = Path('.') / 'figures' / 'adult-income-experiment'\n",
    "    if not figure_dir.exists():\n",
    "        figure_dir.mkdir(parents=True)"
   ]
  },
  {
   "cell_type": "code",
   "execution_count": 3,
   "id": "22d1d0e0",
   "metadata": {
    "execution": {
     "iopub.execute_input": "2024-08-21T09:47:46.468331Z",
     "iopub.status.busy": "2024-08-21T09:47:46.468177Z",
     "iopub.status.idle": "2024-08-21T09:47:46.470288Z",
     "shell.execute_reply": "2024-08-21T09:47:46.470066Z"
    },
    "papermill": {
     "duration": 0.00482,
     "end_time": "2024-08-21T09:47:46.471099",
     "exception": false,
     "start_time": "2024-08-21T09:47:46.466279",
     "status": "completed"
    },
    "tags": []
   },
   "outputs": [],
   "source": [
    "# Experiment hyperparamters\n",
    "rng = np.random.RandomState(42)\n",
    "split_on_income = False  # if True: src := income>=50k, tgt :+ income<50k, if False: src := male, tgt := female\n",
    "n_samples = 1000"
   ]
  },
  {
   "cell_type": "code",
   "execution_count": 4,
   "id": "48ff09ec",
   "metadata": {
    "execution": {
     "iopub.execute_input": "2024-08-21T09:47:46.477303Z",
     "iopub.status.busy": "2024-08-21T09:47:46.477115Z",
     "iopub.status.idle": "2024-08-21T09:47:46.479418Z",
     "shell.execute_reply": "2024-08-21T09:47:46.479010Z"
    },
    "papermill": {
     "duration": 0.006573,
     "end_time": "2024-08-21T09:47:46.480254",
     "exception": false,
     "start_time": "2024-08-21T09:47:46.473681",
     "status": "completed"
    },
    "tags": [
     "parameters"
    ]
   },
   "outputs": [],
   "source": [
    "comparison_id = None"
   ]
  },
  {
   "cell_type": "code",
   "execution_count": 5,
   "id": "49196b19",
   "metadata": {
    "execution": {
     "iopub.execute_input": "2024-08-21T09:47:46.484918Z",
     "iopub.status.busy": "2024-08-21T09:47:46.484659Z",
     "iopub.status.idle": "2024-08-21T09:47:46.486645Z",
     "shell.execute_reply": "2024-08-21T09:47:46.486289Z"
    },
    "papermill": {
     "duration": 0.005487,
     "end_time": "2024-08-21T09:47:46.487546",
     "exception": false,
     "start_time": "2024-08-21T09:47:46.482059",
     "status": "completed"
    },
    "tags": [
     "injected-parameters"
    ]
   },
   "outputs": [],
   "source": [
    "# Parameters\n",
    "comparison_id = 1\n"
   ]
  },
  {
   "cell_type": "code",
   "execution_count": 6,
   "id": "dade2b7e",
   "metadata": {
    "execution": {
     "iopub.execute_input": "2024-08-21T09:47:46.491315Z",
     "iopub.status.busy": "2024-08-21T09:47:46.491187Z",
     "iopub.status.idle": "2024-08-21T09:47:46.503142Z",
     "shell.execute_reply": "2024-08-21T09:47:46.502857Z"
    },
    "papermill": {
     "duration": 0.01464,
     "end_time": "2024-08-21T09:47:46.503924",
     "exception": false,
     "start_time": "2024-08-21T09:47:46.489284",
     "status": "completed"
    },
    "tags": []
   },
   "outputs": [
    {
     "name": "stdout",
     "output_type": "stream",
     "text": [
      "['Customer_id', 'Connection', 'Weight', 'Unit_type', 'Day', 'Week']\n"
     ]
    }
   ],
   "source": [
    "\n",
    "# Load the data\n",
    "comparison_dict = {0: [0,1], 1: [2,3], 2: [4,5]}\n",
    "path_customer_profiles = open('./Results_Experiments/File_Paths/path_customer_profiles.txt','r').read()\n",
    "path_transport_graphics = open('./Results_Experiments/File_Paths/path_transport_graphics.txt','r').read()\n",
    "source = pd.read_csv(f'../{path_customer_profiles}/customer_profile_{comparison_dict[comparison_id][0]}.csv')\n",
    "target = pd.read_csv(f'../{path_customer_profiles}/customer_profile_{comparison_dict[comparison_id][1]}.csv')\n",
    "\n",
    "feature_names = source.columns.values\n",
    "feature_names = list(feature_names)\n",
    "print(feature_names)"
   ]
  },
  {
   "cell_type": "code",
   "execution_count": 7,
   "id": "296df3b5",
   "metadata": {
    "execution": {
     "iopub.execute_input": "2024-08-21T09:47:46.507512Z",
     "iopub.status.busy": "2024-08-21T09:47:46.507372Z",
     "iopub.status.idle": "2024-08-21T09:47:46.542112Z",
     "shell.execute_reply": "2024-08-21T09:47:46.541860Z"
    },
    "papermill": {
     "duration": 0.037607,
     "end_time": "2024-08-21T09:47:46.543071",
     "exception": false,
     "start_time": "2024-08-21T09:47:46.505464",
     "status": "completed"
    },
    "tags": []
   },
   "outputs": [],
   "source": [
    "# standardize the source and target data, and convert to domain labels\n",
    "from sklearn.preprocessing import StandardScaler\n",
    "X = np.concatenate((source, target), axis=0)\n",
    "# standardize X to remove cardinatlity bias\n",
    "X = StandardScaler().fit_transform(X)\n",
    "y = np.concatenate((np.zeros(source.shape[0]),\n",
    "                    np.ones(target.shape[0])), axis=0)  # domain labels"
   ]
  },
  {
   "cell_type": "code",
   "execution_count": 8,
   "id": "c5422e1f",
   "metadata": {
    "execution": {
     "iopub.execute_input": "2024-08-21T09:47:46.546813Z",
     "iopub.status.busy": "2024-08-21T09:47:46.546620Z",
     "iopub.status.idle": "2024-08-21T09:47:46.604163Z",
     "shell.execute_reply": "2024-08-21T09:47:46.603878Z"
    },
    "papermill": {
     "duration": 0.060488,
     "end_time": "2024-08-21T09:47:46.605124",
     "exception": false,
     "start_time": "2024-08-21T09:47:46.544636",
     "status": "completed"
    },
    "tags": []
   },
   "outputs": [],
   "source": [
    "from sklearn.datasets import make_classification\n",
    "from sklearn.model_selection import train_test_split\n",
    "\n",
    "X_train, X_test, y_train, y_test = train_test_split(X, y,\n",
    "                                     stratify=y, random_state=42)"
   ]
  },
  {
   "cell_type": "code",
   "execution_count": 9,
   "id": "5d9ba299",
   "metadata": {
    "execution": {
     "iopub.execute_input": "2024-08-21T09:47:46.608485Z",
     "iopub.status.busy": "2024-08-21T09:47:46.608334Z",
     "iopub.status.idle": "2024-08-21T09:47:46.627451Z",
     "shell.execute_reply": "2024-08-21T09:47:46.627117Z"
    },
    "papermill": {
     "duration": 0.02217,
     "end_time": "2024-08-21T09:47:46.628825",
     "exception": false,
     "start_time": "2024-08-21T09:47:46.606655",
     "status": "completed"
    },
    "tags": []
   },
   "outputs": [],
   "source": [
    "# Using XGBoost\n",
    "import xgboost\n",
    "\n",
    "def fit_xgboost(X_train, y_train, X_test, y_test, feature_names=None):\n",
    "    \"\"\" Train an XGBoost model with early stopping.\n",
    "    \"\"\"\n",
    "    dtrain = xgboost.DMatrix(X_train, label=y_train, feature_names=feature_names)\n",
    "    dtest = xgboost.DMatrix(X_test, label=y_test, feature_names=feature_names)\n",
    "    # model = xgboost.train(\n",
    "    #     { \"eta\": 0.001, \"subsample\": 0.5, \"max_depth\": 2,\n",
    "    #       \"objective\": 'binary:logistic', 'eval_metric': 'logloss'}, dtrain, num_boost_round=200000,\n",
    "    #     evals=[(dtest,'eval'), (dtrain,'train')], early_stopping_rounds=20, verbose_eval=False\n",
    "    # )\n",
    "    model = xgboost.train(\n",
    "        {\"objective\": 'binary:logistic', 'eval_metric': 'logloss'},\n",
    "        dtrain,\n",
    "        evals=[(dtest,'eval'), (dtrain,'train')],\n",
    "        verbose_eval=False)\n",
    "    return model"
   ]
  },
  {
   "cell_type": "code",
   "execution_count": 10,
   "id": "bd7ac9f1",
   "metadata": {
    "execution": {
     "iopub.execute_input": "2024-08-21T09:47:46.636055Z",
     "iopub.status.busy": "2024-08-21T09:47:46.635881Z",
     "iopub.status.idle": "2024-08-21T09:47:46.671213Z",
     "shell.execute_reply": "2024-08-21T09:47:46.670940Z"
    },
    "papermill": {
     "duration": 0.040699,
     "end_time": "2024-08-21T09:47:46.672262",
     "exception": false,
     "start_time": "2024-08-21T09:47:46.631563",
     "status": "completed"
    },
    "tags": []
   },
   "outputs": [],
   "source": [
    "xgb_forest = fit_xgboost(X_train, y_train, X_test, y_test, feature_names)\n",
    "xgb_forest.feature_names = feature_names"
   ]
  },
  {
   "cell_type": "code",
   "execution_count": 11,
   "id": "dcaa3020",
   "metadata": {
    "execution": {
     "iopub.execute_input": "2024-08-21T09:47:46.675561Z",
     "iopub.status.busy": "2024-08-21T09:47:46.675450Z",
     "iopub.status.idle": "2024-08-21T09:47:46.677338Z",
     "shell.execute_reply": "2024-08-21T09:47:46.677125Z"
    },
    "papermill": {
     "duration": 0.004334,
     "end_time": "2024-08-21T09:47:46.678099",
     "exception": false,
     "start_time": "2024-08-21T09:47:46.673765",
     "status": "completed"
    },
    "tags": []
   },
   "outputs": [],
   "source": [
    "def get_acc(model, samples, labels, feature_names=None):\n",
    "    predictions = (model.predict(xgboost.DMatrix(samples,\n",
    "                                                 feature_names=feature_names)) > 0.5).astype(int)\n",
    "    return (predictions == labels).sum() / predictions.shape[0]"
   ]
  },
  {
   "cell_type": "code",
   "execution_count": 12,
   "id": "7ce6b380",
   "metadata": {
    "execution": {
     "iopub.execute_input": "2024-08-21T09:47:46.681107Z",
     "iopub.status.busy": "2024-08-21T09:47:46.681001Z",
     "iopub.status.idle": "2024-08-21T09:47:46.685200Z",
     "shell.execute_reply": "2024-08-21T09:47:46.684872Z"
    },
    "papermill": {
     "duration": 0.006625,
     "end_time": "2024-08-21T09:47:46.686038",
     "exception": false,
     "start_time": "2024-08-21T09:47:46.679413",
     "status": "completed"
    },
    "tags": []
   },
   "outputs": [
    {
     "name": "stdout",
     "output_type": "stream",
     "text": [
      "Train score: 0.9056803385416666\n",
      "Test score: 0.898706370515011\n"
     ]
    }
   ],
   "source": [
    "print('Train score:', get_acc(xgb_forest, X_train, y_train, feature_names))\n",
    "print('Test score:', get_acc(xgb_forest, X_test, y_test, feature_names))"
   ]
  },
  {
   "cell_type": "code",
   "execution_count": 13,
   "id": "97a1d2b0",
   "metadata": {
    "execution": {
     "iopub.execute_input": "2024-08-21T09:47:46.689267Z",
     "iopub.status.busy": "2024-08-21T09:47:46.689162Z",
     "iopub.status.idle": "2024-08-21T09:47:47.003311Z",
     "shell.execute_reply": "2024-08-21T09:47:47.003035Z"
    },
    "papermill": {
     "duration": 0.317115,
     "end_time": "2024-08-21T09:47:47.004589",
     "exception": false,
     "start_time": "2024-08-21T09:47:46.687474",
     "status": "completed"
    },
    "tags": []
   },
   "outputs": [],
   "source": [
    "import shap\n",
    "import pandas as pd\n",
    "explainer = shap.Explainer(xgb_forest)\n",
    "\n",
    "shap_values = explainer(pd.DataFrame(X_test, columns=feature_names))\n"
   ]
  },
  {
   "cell_type": "code",
   "execution_count": 14,
   "id": "8e7a54a8",
   "metadata": {
    "execution": {
     "iopub.execute_input": "2024-08-21T09:47:47.008721Z",
     "iopub.status.busy": "2024-08-21T09:47:47.008549Z",
     "iopub.status.idle": "2024-08-21T09:47:47.577691Z",
     "shell.execute_reply": "2024-08-21T09:47:47.577422Z"
    },
    "papermill": {
     "duration": 0.571824,
     "end_time": "2024-08-21T09:47:47.578542",
     "exception": false,
     "start_time": "2024-08-21T09:47:47.006718",
     "status": "completed"
    },
    "tags": []
   },
   "outputs": [
    {
     "data": {
      "image/png": "[encoded data removed]",
      "text/plain": [
       "<Figure size 400x200 with 2 Axes>"
      ]
     },
     "metadata": {},
     "output_type": "display_data"
    }
   ],
   "source": [
    "# Beeswarm plot\n",
    "\n",
    "shap.plots.beeswarm(shap_values, show=False)\n",
    "fig = plt.gcf()\n",
    "fig.set_size_inches(4, 2, forward=True)\n",
    "if save_figures: plt.savefig(\n",
    "    f'../{path_transport_graphics}/logitics_data_on_customer_profile_{comparison_dict[comparison_id][0]} and customer_profile_{comparison_dict[comparison_id][1]}-shap-value.{save_parms[\"format\"]}',\n",
    "    **save_parms\n",
    "    )\n",
    "plt.show()"
   ]
  }
 ],
 "metadata": {
  "kernelspec": {
   "display_name": "Python 3.7.11 ('py37')",
   "language": "python",
   "name": "python3"
  },
  "language_info": {
   "codemirror_mode": {
    "name": "ipython",
    "version": 3
   },
   "file_extension": ".py",
   "mimetype": "text/x-python",
   "name": "python",
   "nbconvert_exporter": "python",
   "pygments_lexer": "ipython3",
   "version": "3.12.0"
  },
  "papermill": {
   "default_parameters": {},
   "duration": 3.353702,
   "end_time": "2024-08-21T09:47:47.897895",
   "environment_variables": {},
   "exception": null,
   "input_path": "experiment_baseline.ipynb",
   "output_path": "./Results_Experiments/Set_num_components_to_1/experiment_baseline_2.ipynb",
   "parameters": {
    "comparison_id": 1
   },
   "start_time": "2024-08-21T09:47:44.544193",
   "version": "2.6.0"
  },
  "vscode": {
   "interpreter": {
    "hash": "5ab0220f0ca30ec7bac8a7e209564eceae6d15412b9f87f3c2f91206aa8b151c"
   }
  }
 },
 "nbformat": 4,
 "nbformat_minor": 5
}