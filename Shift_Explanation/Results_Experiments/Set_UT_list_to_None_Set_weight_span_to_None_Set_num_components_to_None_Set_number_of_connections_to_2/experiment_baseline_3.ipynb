{
 "cells": [
  {
   "cell_type": "code",
   "execution_count": 1,
   "id": "d05cab18",
   "metadata": {
    "execution": {
     "iopub.execute_input": "2024-08-21T12:11:27.029345Z",
     "iopub.status.busy": "2024-08-21T12:11:27.029047Z",
     "iopub.status.idle": "2024-08-21T12:11:27.832537Z",
     "shell.execute_reply": "2024-08-21T12:11:27.832229Z"
    },
    "papermill": {
     "duration": 0.812364,
     "end_time": "2024-08-21T12:11:27.833519",
     "exception": false,
     "start_time": "2024-08-21T12:11:27.021155",
     "status": "completed"
    },
    "tags": []
   },
   "outputs": [],
   "source": [
    "import matplotlib.pyplot as plt\n",
    "import numpy as np\n",
    "import pandas as pd\n",
    "from pathlib import Path\n",
    "import seaborn as sn\n",
    "from data_utils import load_and_preprocess_logistics_data"
   ]
  },
  {
   "cell_type": "code",
   "execution_count": 2,
   "id": "d6302d10",
   "metadata": {
    "execution": {
     "iopub.execute_input": "2024-08-21T12:11:27.836729Z",
     "iopub.status.busy": "2024-08-21T12:11:27.836575Z",
     "iopub.status.idle": "2024-08-21T12:11:27.839174Z",
     "shell.execute_reply": "2024-08-21T12:11:27.838948Z"
    },
    "papermill": {
     "duration": 0.004959,
     "end_time": "2024-08-21T12:11:27.839951",
     "exception": false,
     "start_time": "2024-08-21T12:11:27.834992",
     "status": "completed"
    },
    "tags": []
   },
   "outputs": [],
   "source": [
    "# Setting so that the plots look normal even when using dark-reader\n",
    "sn.set_style(\"whitegrid\")\n",
    "sn.set_context(context=\"paper\", font_scale=2)\n",
    "pal = sn.color_palette(\"Set1\")\n",
    "\n",
    "# Setting up specifics for plotting + saving\n",
    "save_figures = True\n",
    "add_legend = False\n",
    "add_title = False\n",
    "add_axis = False\n",
    "save_parms = {'format': 'pdf','bbox_inches':'tight', 'pad_inches':0.1}\n",
    "line_parms = {'linewidth':4, 'color':'k'}\n",
    "if save_figures:  # saves all figures in a figure directory in the local directory\n",
    "    figure_dir = Path('.') / 'figures' / 'adult-income-experiment'\n",
    "    if not figure_dir.exists():\n",
    "        figure_dir.mkdir(parents=True)"
   ]
  },
  {
   "cell_type": "code",
   "execution_count": 3,
   "id": "22d1d0e0",
   "metadata": {
    "execution": {
     "iopub.execute_input": "2024-08-21T12:11:27.843018Z",
     "iopub.status.busy": "2024-08-21T12:11:27.842906Z",
     "iopub.status.idle": "2024-08-21T12:11:27.844854Z",
     "shell.execute_reply": "2024-08-21T12:11:27.844600Z"
    },
    "papermill": {
     "duration": 0.004377,
     "end_time": "2024-08-21T12:11:27.845636",
     "exception": false,
     "start_time": "2024-08-21T12:11:27.841259",
     "status": "completed"
    },
    "tags": []
   },
   "outputs": [],
   "source": [
    "# Experiment hyperparamters\n",
    "rng = np.random.RandomState(42)\n",
    "split_on_income = False  # if True: src := income>=50k, tgt :+ income<50k, if False: src := male, tgt := female\n",
    "n_samples = 1000"
   ]
  },
  {
   "cell_type": "code",
   "execution_count": 4,
   "id": "48ff09ec",
   "metadata": {
    "execution": {
     "iopub.execute_input": "2024-08-21T12:11:27.849843Z",
     "iopub.status.busy": "2024-08-21T12:11:27.849700Z",
     "iopub.status.idle": "2024-08-21T12:11:27.851347Z",
     "shell.execute_reply": "2024-08-21T12:11:27.851106Z"
    },
    "papermill": {
     "duration": 0.004304,
     "end_time": "2024-08-21T12:11:27.852020",
     "exception": false,
     "start_time": "2024-08-21T12:11:27.847716",
     "status": "completed"
    },
    "tags": [
     "parameters"
    ]
   },
   "outputs": [],
   "source": [
    "comparison_id = None"
   ]
  },
  {
   "cell_type": "code",
   "execution_count": 5,
   "id": "2c6ed996",
   "metadata": {
    "execution": {
     "iopub.execute_input": "2024-08-21T12:11:27.854739Z",
     "iopub.status.busy": "2024-08-21T12:11:27.854644Z",
     "iopub.status.idle": "2024-08-21T12:11:27.856034Z",
     "shell.execute_reply": "2024-08-21T12:11:27.855836Z"
    },
    "papermill": {
     "duration": 0.003578,
     "end_time": "2024-08-21T12:11:27.856770",
     "exception": false,
     "start_time": "2024-08-21T12:11:27.853192",
     "status": "completed"
    },
    "tags": [
     "injected-parameters"
    ]
   },
   "outputs": [],
   "source": [
    "# Parameters\n",
    "comparison_id = 2\n"
   ]
  },
  {
   "cell_type": "code",
   "execution_count": 6,
   "id": "dade2b7e",
   "metadata": {
    "execution": {
     "iopub.execute_input": "2024-08-21T12:11:27.859541Z",
     "iopub.status.busy": "2024-08-21T12:11:27.859448Z",
     "iopub.status.idle": "2024-08-21T12:11:27.877050Z",
     "shell.execute_reply": "2024-08-21T12:11:27.876796Z"
    },
    "papermill": {
     "duration": 0.019818,
     "end_time": "2024-08-21T12:11:27.877777",
     "exception": false,
     "start_time": "2024-08-21T12:11:27.857959",
     "status": "completed"
    },
    "tags": []
   },
   "outputs": [
    {
     "name": "stdout",
     "output_type": "stream",
     "text": [
      "Comparing customer_profile_4 and customer_profile_5\n",
      "Finished preprocessing logistic dataset. Split on customer_profile_4 and customer_profile_5 with resulting source shape: (996, 3), target shape: (996, 3).\n",
      "['Connection', 'Weight', 'Unit_type']\n"
     ]
    }
   ],
   "source": [
    "\n",
    "# Load the data\n",
    "comparison_dict = {0: [0,1], 1: [2,3], 2: [4,5]}\n",
    "path_customer_profiles = open('./Results_Experiments/File_Paths/path_customer_profiles.txt','r').read()\n",
    "path_transport_graphics = open('./Results_Experiments/File_Paths/path_transport_graphics.txt','r').read()\n",
    "source = pd.read_csv(f'../{path_customer_profiles}/customer_profile_{comparison_dict[comparison_id][0]}.csv')\n",
    "target = pd.read_csv(f'../{path_customer_profiles}/customer_profile_{comparison_dict[comparison_id][1]}.csv')\n",
    "equal_week_split = True\n",
    "source, target, feature_names = load_and_preprocess_logistics_data(rng, n_samples, return_column_names=True,equal_week_split=equal_week_split, comparison_id=\n",
    "            comparison_id, comparison_dict=comparison_dict)\n",
    "print(feature_names)"
   ]
  },
  {
   "cell_type": "code",
   "execution_count": 7,
   "id": "296df3b5",
   "metadata": {
    "execution": {
     "iopub.execute_input": "2024-08-21T12:11:27.880842Z",
     "iopub.status.busy": "2024-08-21T12:11:27.880745Z",
     "iopub.status.idle": "2024-08-21T12:11:27.883234Z",
     "shell.execute_reply": "2024-08-21T12:11:27.882980Z"
    },
    "papermill": {
     "duration": 0.004723,
     "end_time": "2024-08-21T12:11:27.883932",
     "exception": false,
     "start_time": "2024-08-21T12:11:27.879209",
     "status": "completed"
    },
    "tags": []
   },
   "outputs": [],
   "source": [
    "# standardize the source and target data, and convert to domain labels\n",
    "from sklearn.preprocessing import StandardScaler\n",
    "X = np.concatenate((source, target), axis=0)\n",
    "# standardize X to remove cardinatlity bias\n",
    "X = StandardScaler().fit_transform(X)\n",
    "y = np.concatenate((np.zeros(source.shape[0]),\n",
    "                    np.ones(target.shape[0])), axis=0)  # domain labels"
   ]
  },
  {
   "cell_type": "code",
   "execution_count": 8,
   "id": "c5422e1f",
   "metadata": {
    "execution": {
     "iopub.execute_input": "2024-08-21T12:11:27.886770Z",
     "iopub.status.busy": "2024-08-21T12:11:27.886677Z",
     "iopub.status.idle": "2024-08-21T12:11:27.936284Z",
     "shell.execute_reply": "2024-08-21T12:11:27.936034Z"
    },
    "papermill": {
     "duration": 0.052071,
     "end_time": "2024-08-21T12:11:27.937243",
     "exception": false,
     "start_time": "2024-08-21T12:11:27.885172",
     "status": "completed"
    },
    "tags": []
   },
   "outputs": [],
   "source": [
    "from sklearn.datasets import make_classification\n",
    "from sklearn.model_selection import train_test_split\n",
    "\n",
    "X_train, X_test, y_train, y_test = train_test_split(X, y,\n",
    "                                     stratify=y, random_state=42)"
   ]
  },
  {
   "cell_type": "code",
   "execution_count": 9,
   "id": "5d9ba299",
   "metadata": {
    "execution": {
     "iopub.execute_input": "2024-08-21T12:11:27.940498Z",
     "iopub.status.busy": "2024-08-21T12:11:27.940363Z",
     "iopub.status.idle": "2024-08-21T12:11:27.954252Z",
     "shell.execute_reply": "2024-08-21T12:11:27.954003Z"
    },
    "papermill": {
     "duration": 0.016478,
     "end_time": "2024-08-21T12:11:27.955218",
     "exception": false,
     "start_time": "2024-08-21T12:11:27.938740",
     "status": "completed"
    },
    "tags": []
   },
   "outputs": [],
   "source": [
    "# Using XGBoost\n",
    "import xgboost\n",
    "\n",
    "def fit_xgboost(X_train, y_train, X_test, y_test, feature_names=None):\n",
    "    \"\"\" Train an XGBoost model with early stopping.\n",
    "    \"\"\"\n",
    "    dtrain = xgboost.DMatrix(X_train, label=y_train, feature_names=feature_names)\n",
    "    dtest = xgboost.DMatrix(X_test, label=y_test, feature_names=feature_names)\n",
    "    # model = xgboost.train(\n",
    "    #     { \"eta\": 0.001, \"subsample\": 0.5, \"max_depth\": 2,\n",
    "    #       \"objective\": 'binary:logistic', 'eval_metric': 'logloss'}, dtrain, num_boost_round=200000,\n",
    "    #     evals=[(dtest,'eval'), (dtrain,'train')], early_stopping_rounds=20, verbose_eval=False\n",
    "    # )\n",
    "    model = xgboost.train(\n",
    "        {\"objective\": 'binary:logistic', 'eval_metric': 'logloss'},\n",
    "        dtrain,\n",
    "        evals=[(dtest,'eval'), (dtrain,'train')],\n",
    "        verbose_eval=False)\n",
    "    return model"
   ]
  },
  {
   "cell_type": "code",
   "execution_count": 10,
   "id": "bd7ac9f1",
   "metadata": {
    "execution": {
     "iopub.execute_input": "2024-08-21T12:11:27.958256Z",
     "iopub.status.busy": "2024-08-21T12:11:27.958152Z",
     "iopub.status.idle": "2024-08-21T12:11:27.974045Z",
     "shell.execute_reply": "2024-08-21T12:11:27.973785Z"
    },
    "papermill": {
     "duration": 0.018415,
     "end_time": "2024-08-21T12:11:27.974981",
     "exception": false,
     "start_time": "2024-08-21T12:11:27.956566",
     "status": "completed"
    },
    "tags": []
   },
   "outputs": [],
   "source": [
    "xgb_forest = fit_xgboost(X_train, y_train, X_test, y_test, feature_names)\n",
    "xgb_forest.feature_names = feature_names"
   ]
  },
  {
   "cell_type": "code",
   "execution_count": 11,
   "id": "dcaa3020",
   "metadata": {
    "execution": {
     "iopub.execute_input": "2024-08-21T12:11:27.978488Z",
     "iopub.status.busy": "2024-08-21T12:11:27.978269Z",
     "iopub.status.idle": "2024-08-21T12:11:27.980460Z",
     "shell.execute_reply": "2024-08-21T12:11:27.980243Z"
    },
    "papermill": {
     "duration": 0.004707,
     "end_time": "2024-08-21T12:11:27.981153",
     "exception": false,
     "start_time": "2024-08-21T12:11:27.976446",
     "status": "completed"
    },
    "tags": []
   },
   "outputs": [],
   "source": [
    "def get_acc(model, samples, labels, feature_names=None):\n",
    "    predictions = (model.predict(xgboost.DMatrix(samples,\n",
    "                                                 feature_names=feature_names)) > 0.5).astype(int)\n",
    "    return (predictions == labels).sum() / predictions.shape[0]"
   ]
  },
  {
   "cell_type": "code",
   "execution_count": 12,
   "id": "7ce6b380",
   "metadata": {
    "execution": {
     "iopub.execute_input": "2024-08-21T12:11:27.984119Z",
     "iopub.status.busy": "2024-08-21T12:11:27.984022Z",
     "iopub.status.idle": "2024-08-21T12:11:27.986810Z",
     "shell.execute_reply": "2024-08-21T12:11:27.986579Z"
    },
    "papermill": {
     "duration": 0.005017,
     "end_time": "2024-08-21T12:11:27.987514",
     "exception": false,
     "start_time": "2024-08-21T12:11:27.982497",
     "status": "completed"
    },
    "tags": []
   },
   "outputs": [
    {
     "name": "stdout",
     "output_type": "stream",
     "text": [
      "Train score: 0.8507362784471219\n",
      "Test score: 0.8293172690763052\n"
     ]
    }
   ],
   "source": [
    "print('Train score:', get_acc(xgb_forest, X_train, y_train, feature_names))\n",
    "print('Test score:', get_acc(xgb_forest, X_test, y_test, feature_names))"
   ]
  },
  {
   "cell_type": "code",
   "execution_count": 13,
   "id": "97a1d2b0",
   "metadata": {
    "execution": {
     "iopub.execute_input": "2024-08-21T12:11:27.990477Z",
     "iopub.status.busy": "2024-08-21T12:11:27.990392Z",
     "iopub.status.idle": "2024-08-21T12:11:28.227914Z",
     "shell.execute_reply": "2024-08-21T12:11:28.227653Z"
    },
    "papermill": {
     "duration": 0.239985,
     "end_time": "2024-08-21T12:11:28.228818",
     "exception": false,
     "start_time": "2024-08-21T12:11:27.988833",
     "status": "completed"
    },
    "tags": []
   },
   "outputs": [],
   "source": [
    "import shap\n",
    "import pandas as pd\n",
    "explainer = shap.Explainer(xgb_forest)\n",
    "\n",
    "shap_values = explainer(pd.DataFrame(X_test, columns=feature_names))\n"
   ]
  },
  {
   "cell_type": "code",
   "execution_count": 14,
   "id": "8e7a54a8",
   "metadata": {
    "execution": {
     "iopub.execute_input": "2024-08-21T12:11:28.232133Z",
     "iopub.status.busy": "2024-08-21T12:11:28.231979Z",
     "iopub.status.idle": "2024-08-21T12:11:28.569989Z",
     "shell.execute_reply": "2024-08-21T12:11:28.569707Z"
    },
    "papermill": {
     "duration": 0.340558,
     "end_time": "2024-08-21T12:11:28.570875",
     "exception": false,
     "start_time": "2024-08-21T12:11:28.230317",
     "status": "completed"
    },
    "tags": []
   },
   "outputs": [
    {
     "data": {
      "image/png": "[encoded data removed]",
      "text/plain": [
       "<Figure size 400x100 with 2 Axes>"
      ]
     },
     "metadata": {},
     "output_type": "display_data"
    }
   ],
   "source": [
    "# Beeswarm plot\n",
    "\n",
    "shap.plots.beeswarm(shap_values, show=False)\n",
    "fig = plt.gcf()\n",
    "fig.set_size_inches(4, 1, forward=True)\n",
    "if save_figures: plt.savefig(\n",
    "    f'../{path_transport_graphics}/logitics_data_on_customer_profile_{comparison_dict[comparison_id][0]} and customer_profile_{comparison_dict[comparison_id][1]}-shap-value.{save_parms[\"format\"]}',\n",
    "    **save_parms\n",
    "    )\n",
    "plt.show()"
   ]
  }
 ],
 "metadata": {
  "kernelspec": {
   "display_name": "Python 3.7.11 ('py37')",
   "language": "python",
   "name": "python3"
  },
  "language_info": {
   "codemirror_mode": {
    "name": "ipython",
    "version": 3
   },
   "file_extension": ".py",
   "mimetype": "text/x-python",
   "name": "python",
   "nbconvert_exporter": "python",
   "pygments_lexer": "ipython3",
   "version": "3.12.0"
  },
  "papermill": {
   "default_parameters": {},
   "duration": 2.461679,
   "end_time": "2024-08-21T12:11:28.889460",
   "environment_variables": {},
   "exception": null,
   "input_path": "experiment_baseline.ipynb",
   "output_path": "./Results_Experiments/Set_UT_list_to_None_Set_weight_span_to_None_Set_num_components_to_None_Set_number_of_connections_to_2/experiment_baseline_3.ipynb",
   "parameters": {
    "comparison_id": 2
   },
   "start_time": "2024-08-21T12:11:26.427781",
   "version": "2.6.0"
  },
  "vscode": {
   "interpreter": {
    "hash": "5ab0220f0ca30ec7bac8a7e209564eceae6d15412b9f87f3c2f91206aa8b151c"
   }
  }
 },
 "nbformat": 4,
 "nbformat_minor": 5
}