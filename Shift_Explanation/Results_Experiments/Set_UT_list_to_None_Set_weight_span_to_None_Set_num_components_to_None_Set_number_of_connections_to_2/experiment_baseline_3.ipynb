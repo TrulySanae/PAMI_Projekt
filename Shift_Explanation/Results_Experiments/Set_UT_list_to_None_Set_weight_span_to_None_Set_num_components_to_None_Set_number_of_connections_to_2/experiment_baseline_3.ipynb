{
 "cells": [
  {
   "cell_type": "code",
   "execution_count": 1,
   "id": "d05cab18",
   "metadata": {
    "execution": {
     "iopub.execute_input": "2024-08-21T09:49:07.344322Z",
     "iopub.status.busy": "2024-08-21T09:49:07.343901Z",
     "iopub.status.idle": "2024-08-21T09:49:08.265306Z",
     "shell.execute_reply": "2024-08-21T09:49:08.264978Z"
    },
    "papermill": {
     "duration": 0.931831,
     "end_time": "2024-08-21T09:49:08.266439",
     "exception": false,
     "start_time": "2024-08-21T09:49:07.334608",
     "status": "completed"
    },
    "tags": []
   },
   "outputs": [],
   "source": [
    "import matplotlib.pyplot as plt\n",
    "import numpy as np\n",
    "import pandas as pd\n",
    "from pathlib import Path\n",
    "import seaborn as sn\n"
   ]
  },
  {
   "cell_type": "code",
   "execution_count": 2,
   "id": "d6302d10",
   "metadata": {
    "execution": {
     "iopub.execute_input": "2024-08-21T09:49:08.270841Z",
     "iopub.status.busy": "2024-08-21T09:49:08.270554Z",
     "iopub.status.idle": "2024-08-21T09:49:08.273858Z",
     "shell.execute_reply": "2024-08-21T09:49:08.273613Z"
    },
    "papermill": {
     "duration": 0.006496,
     "end_time": "2024-08-21T09:49:08.274659",
     "exception": false,
     "start_time": "2024-08-21T09:49:08.268163",
     "status": "completed"
    },
    "tags": []
   },
   "outputs": [],
   "source": [
    "# Setting so that the plots look normal even when using dark-reader\n",
    "sn.set_style(\"whitegrid\")\n",
    "sn.set_context(context=\"paper\", font_scale=2)\n",
    "pal = sn.color_palette(\"Set1\")\n",
    "\n",
    "# Setting up specifics for plotting + saving\n",
    "save_figures = True\n",
    "add_legend = False\n",
    "add_title = False\n",
    "add_axis = False\n",
    "save_parms = {'format': 'pdf','bbox_inches':'tight', 'pad_inches':0.1}\n",
    "line_parms = {'linewidth':4, 'color':'k'}\n",
    "if save_figures:  # saves all figures in a figure directory in the local directory\n",
    "    figure_dir = Path('.') / 'figures' / 'adult-income-experiment'\n",
    "    if not figure_dir.exists():\n",
    "        figure_dir.mkdir(parents=True)"
   ]
  },
  {
   "cell_type": "code",
   "execution_count": 3,
   "id": "22d1d0e0",
   "metadata": {
    "execution": {
     "iopub.execute_input": "2024-08-21T09:49:08.277561Z",
     "iopub.status.busy": "2024-08-21T09:49:08.277452Z",
     "iopub.status.idle": "2024-08-21T09:49:08.279274Z",
     "shell.execute_reply": "2024-08-21T09:49:08.279033Z"
    },
    "papermill": {
     "duration": 0.004083,
     "end_time": "2024-08-21T09:49:08.280013",
     "exception": false,
     "start_time": "2024-08-21T09:49:08.275930",
     "status": "completed"
    },
    "tags": []
   },
   "outputs": [],
   "source": [
    "# Experiment hyperparamters\n",
    "rng = np.random.RandomState(42)\n",
    "split_on_income = False  # if True: src := income>=50k, tgt :+ income<50k, if False: src := male, tgt := female\n",
    "n_samples = 1000"
   ]
  },
  {
   "cell_type": "code",
   "execution_count": 4,
   "id": "48ff09ec",
   "metadata": {
    "execution": {
     "iopub.execute_input": "2024-08-21T09:49:08.283072Z",
     "iopub.status.busy": "2024-08-21T09:49:08.282954Z",
     "iopub.status.idle": "2024-08-21T09:49:08.284578Z",
     "shell.execute_reply": "2024-08-21T09:49:08.284288Z"
    },
    "papermill": {
     "duration": 0.004134,
     "end_time": "2024-08-21T09:49:08.285436",
     "exception": false,
     "start_time": "2024-08-21T09:49:08.281302",
     "status": "completed"
    },
    "tags": [
     "parameters"
    ]
   },
   "outputs": [],
   "source": [
    "comparison_id = None"
   ]
  },
  {
   "cell_type": "code",
   "execution_count": 5,
   "id": "aa9d2329",
   "metadata": {
    "execution": {
     "iopub.execute_input": "2024-08-21T09:49:08.288686Z",
     "iopub.status.busy": "2024-08-21T09:49:08.288550Z",
     "iopub.status.idle": "2024-08-21T09:49:08.290790Z",
     "shell.execute_reply": "2024-08-21T09:49:08.290513Z"
    },
    "papermill": {
     "duration": 0.004753,
     "end_time": "2024-08-21T09:49:08.291624",
     "exception": false,
     "start_time": "2024-08-21T09:49:08.286871",
     "status": "completed"
    },
    "tags": [
     "injected-parameters"
    ]
   },
   "outputs": [],
   "source": [
    "# Parameters\n",
    "comparison_id = 2\n"
   ]
  },
  {
   "cell_type": "code",
   "execution_count": 6,
   "id": "dade2b7e",
   "metadata": {
    "execution": {
     "iopub.execute_input": "2024-08-21T09:49:08.295509Z",
     "iopub.status.busy": "2024-08-21T09:49:08.295323Z",
     "iopub.status.idle": "2024-08-21T09:49:08.304701Z",
     "shell.execute_reply": "2024-08-21T09:49:08.304235Z"
    },
    "papermill": {
     "duration": 0.012544,
     "end_time": "2024-08-21T09:49:08.305759",
     "exception": false,
     "start_time": "2024-08-21T09:49:08.293215",
     "status": "completed"
    },
    "tags": []
   },
   "outputs": [
    {
     "name": "stdout",
     "output_type": "stream",
     "text": [
      "['Customer_id', 'Connection', 'Weight', 'Unit_type', 'Day', 'Week']\n"
     ]
    }
   ],
   "source": [
    "\n",
    "# Load the data\n",
    "comparison_dict = {0: [0,1], 1: [2,3], 2: [4,5]}\n",
    "path_customer_profiles = open('./Results_Experiments/File_Paths/path_customer_profiles.txt','r').read()\n",
    "path_transport_graphics = open('./Results_Experiments/File_Paths/path_transport_graphics.txt','r').read()\n",
    "source = pd.read_csv(f'../{path_customer_profiles}/customer_profile_{comparison_dict[comparison_id][0]}.csv')\n",
    "target = pd.read_csv(f'../{path_customer_profiles}/customer_profile_{comparison_dict[comparison_id][1]}.csv')\n",
    "\n",
    "feature_names = source.columns.values\n",
    "feature_names = list(feature_names)\n",
    "print(feature_names)"
   ]
  },
  {
   "cell_type": "code",
   "execution_count": 7,
   "id": "296df3b5",
   "metadata": {
    "execution": {
     "iopub.execute_input": "2024-08-21T09:49:08.309211Z",
     "iopub.status.busy": "2024-08-21T09:49:08.309092Z",
     "iopub.status.idle": "2024-08-21T09:49:08.344748Z",
     "shell.execute_reply": "2024-08-21T09:49:08.344465Z"
    },
    "papermill": {
     "duration": 0.038255,
     "end_time": "2024-08-21T09:49:08.345634",
     "exception": false,
     "start_time": "2024-08-21T09:49:08.307379",
     "status": "completed"
    },
    "tags": []
   },
   "outputs": [],
   "source": [
    "# standardize the source and target data, and convert to domain labels\n",
    "from sklearn.preprocessing import StandardScaler\n",
    "X = np.concatenate((source, target), axis=0)\n",
    "# standardize X to remove cardinatlity bias\n",
    "X = StandardScaler().fit_transform(X)\n",
    "y = np.concatenate((np.zeros(source.shape[0]),\n",
    "                    np.ones(target.shape[0])), axis=0)  # domain labels"
   ]
  },
  {
   "cell_type": "code",
   "execution_count": 8,
   "id": "c5422e1f",
   "metadata": {
    "execution": {
     "iopub.execute_input": "2024-08-21T09:49:08.348806Z",
     "iopub.status.busy": "2024-08-21T09:49:08.348672Z",
     "iopub.status.idle": "2024-08-21T09:49:08.401846Z",
     "shell.execute_reply": "2024-08-21T09:49:08.401575Z"
    },
    "papermill": {
     "duration": 0.05577,
     "end_time": "2024-08-21T09:49:08.402782",
     "exception": false,
     "start_time": "2024-08-21T09:49:08.347012",
     "status": "completed"
    },
    "tags": []
   },
   "outputs": [],
   "source": [
    "from sklearn.datasets import make_classification\n",
    "from sklearn.model_selection import train_test_split\n",
    "\n",
    "X_train, X_test, y_train, y_test = train_test_split(X, y,\n",
    "                                     stratify=y, random_state=42)"
   ]
  },
  {
   "cell_type": "code",
   "execution_count": 9,
   "id": "5d9ba299",
   "metadata": {
    "execution": {
     "iopub.execute_input": "2024-08-21T09:49:08.405977Z",
     "iopub.status.busy": "2024-08-21T09:49:08.405836Z",
     "iopub.status.idle": "2024-08-21T09:49:08.424770Z",
     "shell.execute_reply": "2024-08-21T09:49:08.424488Z"
    },
    "papermill": {
     "duration": 0.02141,
     "end_time": "2024-08-21T09:49:08.425695",
     "exception": false,
     "start_time": "2024-08-21T09:49:08.404285",
     "status": "completed"
    },
    "tags": []
   },
   "outputs": [],
   "source": [
    "# Using XGBoost\n",
    "import xgboost\n",
    "\n",
    "def fit_xgboost(X_train, y_train, X_test, y_test, feature_names=None):\n",
    "    \"\"\" Train an XGBoost model with early stopping.\n",
    "    \"\"\"\n",
    "    dtrain = xgboost.DMatrix(X_train, label=y_train, feature_names=feature_names)\n",
    "    dtest = xgboost.DMatrix(X_test, label=y_test, feature_names=feature_names)\n",
    "    # model = xgboost.train(\n",
    "    #     { \"eta\": 0.001, \"subsample\": 0.5, \"max_depth\": 2,\n",
    "    #       \"objective\": 'binary:logistic', 'eval_metric': 'logloss'}, dtrain, num_boost_round=200000,\n",
    "    #     evals=[(dtest,'eval'), (dtrain,'train')], early_stopping_rounds=20, verbose_eval=False\n",
    "    # )\n",
    "    model = xgboost.train(\n",
    "        {\"objective\": 'binary:logistic', 'eval_metric': 'logloss'},\n",
    "        dtrain,\n",
    "        evals=[(dtest,'eval'), (dtrain,'train')],\n",
    "        verbose_eval=False)\n",
    "    return model"
   ]
  },
  {
   "cell_type": "code",
   "execution_count": 10,
   "id": "bd7ac9f1",
   "metadata": {
    "execution": {
     "iopub.execute_input": "2024-08-21T09:49:08.428822Z",
     "iopub.status.busy": "2024-08-21T09:49:08.428715Z",
     "iopub.status.idle": "2024-08-21T09:49:08.447640Z",
     "shell.execute_reply": "2024-08-21T09:49:08.447394Z"
    },
    "papermill": {
     "duration": 0.021448,
     "end_time": "2024-08-21T09:49:08.448562",
     "exception": false,
     "start_time": "2024-08-21T09:49:08.427114",
     "status": "completed"
    },
    "tags": []
   },
   "outputs": [],
   "source": [
    "xgb_forest = fit_xgboost(X_train, y_train, X_test, y_test, feature_names)\n",
    "xgb_forest.feature_names = feature_names"
   ]
  },
  {
   "cell_type": "code",
   "execution_count": 11,
   "id": "dcaa3020",
   "metadata": {
    "execution": {
     "iopub.execute_input": "2024-08-21T09:49:08.451832Z",
     "iopub.status.busy": "2024-08-21T09:49:08.451722Z",
     "iopub.status.idle": "2024-08-21T09:49:08.453561Z",
     "shell.execute_reply": "2024-08-21T09:49:08.453340Z"
    },
    "papermill": {
     "duration": 0.004284,
     "end_time": "2024-08-21T09:49:08.454242",
     "exception": false,
     "start_time": "2024-08-21T09:49:08.449958",
     "status": "completed"
    },
    "tags": []
   },
   "outputs": [],
   "source": [
    "def get_acc(model, samples, labels, feature_names=None):\n",
    "    predictions = (model.predict(xgboost.DMatrix(samples,\n",
    "                                                 feature_names=feature_names)) > 0.5).astype(int)\n",
    "    return (predictions == labels).sum() / predictions.shape[0]"
   ]
  },
  {
   "cell_type": "code",
   "execution_count": 12,
   "id": "7ce6b380",
   "metadata": {
    "execution": {
     "iopub.execute_input": "2024-08-21T09:49:08.457037Z",
     "iopub.status.busy": "2024-08-21T09:49:08.456945Z",
     "iopub.status.idle": "2024-08-21T09:49:08.460768Z",
     "shell.execute_reply": "2024-08-21T09:49:08.460521Z"
    },
    "papermill": {
     "duration": 0.006048,
     "end_time": "2024-08-21T09:49:08.461467",
     "exception": false,
     "start_time": "2024-08-21T09:49:08.455419",
     "status": "completed"
    },
    "tags": []
   },
   "outputs": [
    {
     "name": "stdout",
     "output_type": "stream",
     "text": [
      "Train score: 0.9245296724050265\n",
      "Test score: 0.918082788671024\n"
     ]
    }
   ],
   "source": [
    "print('Train score:', get_acc(xgb_forest, X_train, y_train, feature_names))\n",
    "print('Test score:', get_acc(xgb_forest, X_test, y_test, feature_names))"
   ]
  },
  {
   "cell_type": "code",
   "execution_count": 13,
   "id": "97a1d2b0",
   "metadata": {
    "execution": {
     "iopub.execute_input": "2024-08-21T09:49:08.464562Z",
     "iopub.status.busy": "2024-08-21T09:49:08.464464Z",
     "iopub.status.idle": "2024-08-21T09:49:08.728084Z",
     "shell.execute_reply": "2024-08-21T09:49:08.727820Z"
    },
    "papermill": {
     "duration": 0.266675,
     "end_time": "2024-08-21T09:49:08.729523",
     "exception": false,
     "start_time": "2024-08-21T09:49:08.462848",
     "status": "completed"
    },
    "tags": []
   },
   "outputs": [],
   "source": [
    "import shap\n",
    "import pandas as pd\n",
    "explainer = shap.Explainer(xgb_forest)\n",
    "\n",
    "shap_values = explainer(pd.DataFrame(X_test, columns=feature_names))\n"
   ]
  },
  {
   "cell_type": "code",
   "execution_count": 14,
   "id": "8e7a54a8",
   "metadata": {
    "execution": {
     "iopub.execute_input": "2024-08-21T09:49:08.733061Z",
     "iopub.status.busy": "2024-08-21T09:49:08.732904Z",
     "iopub.status.idle": "2024-08-21T09:49:09.330863Z",
     "shell.execute_reply": "2024-08-21T09:49:09.330253Z"
    },
    "papermill": {
     "duration": 0.600587,
     "end_time": "2024-08-21T09:49:09.331806",
     "exception": false,
     "start_time": "2024-08-21T09:49:08.731219",
     "status": "completed"
    },
    "tags": []
   },
   "outputs": [
    {
     "data": {
      "image/png": "[encoded data removed]",
      "text/plain": [
       "<Figure size 400x200 with 2 Axes>"
      ]
     },
     "metadata": {},
     "output_type": "display_data"
    }
   ],
   "source": [
    "# Beeswarm plot\n",
    "\n",
    "shap.plots.beeswarm(shap_values, show=False)\n",
    "fig = plt.gcf()\n",
    "fig.set_size_inches(4, 2, forward=True)\n",
    "if save_figures: plt.savefig(\n",
    "    f'../{path_transport_graphics}/logitics_data_on_customer_profile_{comparison_dict[comparison_id][0]} and customer_profile_{comparison_dict[comparison_id][1]}-shap-value.{save_parms[\"format\"]}',\n",
    "    **save_parms\n",
    "    )\n",
    "plt.show()"
   ]
  }
 ],
 "metadata": {
  "kernelspec": {
   "display_name": "Python 3.7.11 ('py37')",
   "language": "python",
   "name": "python3"
  },
  "language_info": {
   "codemirror_mode": {
    "name": "ipython",
    "version": 3
   },
   "file_extension": ".py",
   "mimetype": "text/x-python",
   "name": "python",
   "nbconvert_exporter": "python",
   "pygments_lexer": "ipython3",
   "version": "3.12.0"
  },
  "papermill": {
   "default_parameters": {},
   "duration": 2.897378,
   "end_time": "2024-08-21T09:49:09.650691",
   "environment_variables": {},
   "exception": null,
   "input_path": "experiment_baseline.ipynb",
   "output_path": "./Results_Experiments/Set_UT_list_to_None_Set_weight_span_to_None_Set_num_components_to_None_Set_number_of_connections_to_2/experiment_baseline_3.ipynb",
   "parameters": {
    "comparison_id": 2
   },
   "start_time": "2024-08-21T09:49:06.753313",
   "version": "2.6.0"
  },
  "vscode": {
   "interpreter": {
    "hash": "5ab0220f0ca30ec7bac8a7e209564eceae6d15412b9f87f3c2f91206aa8b151c"
   }
  }
 },
 "nbformat": 4,
 "nbformat_minor": 5
}