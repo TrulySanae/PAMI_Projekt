{
 "cells": [
  {
   "cell_type": "code",
   "execution_count": 1,
   "id": "d05cab18",
   "metadata": {
    "execution": {
     "iopub.execute_input": "2024-08-21T12:11:22.013754Z",
     "iopub.status.busy": "2024-08-21T12:11:22.013213Z",
     "iopub.status.idle": "2024-08-21T12:11:22.837553Z",
     "shell.execute_reply": "2024-08-21T12:11:22.837258Z"
    },
    "papermill": {
     "duration": 0.832239,
     "end_time": "2024-08-21T12:11:22.838519",
     "exception": false,
     "start_time": "2024-08-21T12:11:22.006280",
     "status": "completed"
    },
    "tags": []
   },
   "outputs": [],
   "source": [
    "import matplotlib.pyplot as plt\n",
    "import numpy as np\n",
    "import pandas as pd\n",
    "from pathlib import Path\n",
    "import seaborn as sn\n",
    "from data_utils import load_and_preprocess_logistics_data"
   ]
  },
  {
   "cell_type": "code",
   "execution_count": 2,
   "id": "d6302d10",
   "metadata": {
    "execution": {
     "iopub.execute_input": "2024-08-21T12:11:22.841726Z",
     "iopub.status.busy": "2024-08-21T12:11:22.841582Z",
     "iopub.status.idle": "2024-08-21T12:11:22.844221Z",
     "shell.execute_reply": "2024-08-21T12:11:22.843995Z"
    },
    "papermill": {
     "duration": 0.004991,
     "end_time": "2024-08-21T12:11:22.844989",
     "exception": false,
     "start_time": "2024-08-21T12:11:22.839998",
     "status": "completed"
    },
    "tags": []
   },
   "outputs": [],
   "source": [
    "# Setting so that the plots look normal even when using dark-reader\n",
    "sn.set_style(\"whitegrid\")\n",
    "sn.set_context(context=\"paper\", font_scale=2)\n",
    "pal = sn.color_palette(\"Set1\")\n",
    "\n",
    "# Setting up specifics for plotting + saving\n",
    "save_figures = True\n",
    "add_legend = False\n",
    "add_title = False\n",
    "add_axis = False\n",
    "save_parms = {'format': 'pdf','bbox_inches':'tight', 'pad_inches':0.1}\n",
    "line_parms = {'linewidth':4, 'color':'k'}\n",
    "if save_figures:  # saves all figures in a figure directory in the local directory\n",
    "    figure_dir = Path('.') / 'figures' / 'adult-income-experiment'\n",
    "    if not figure_dir.exists():\n",
    "        figure_dir.mkdir(parents=True)"
   ]
  },
  {
   "cell_type": "code",
   "execution_count": 3,
   "id": "22d1d0e0",
   "metadata": {
    "execution": {
     "iopub.execute_input": "2024-08-21T12:11:22.848300Z",
     "iopub.status.busy": "2024-08-21T12:11:22.848166Z",
     "iopub.status.idle": "2024-08-21T12:11:22.850132Z",
     "shell.execute_reply": "2024-08-21T12:11:22.849818Z"
    },
    "papermill": {
     "duration": 0.004775,
     "end_time": "2024-08-21T12:11:22.851070",
     "exception": false,
     "start_time": "2024-08-21T12:11:22.846295",
     "status": "completed"
    },
    "tags": []
   },
   "outputs": [],
   "source": [
    "# Experiment hyperparamters\n",
    "rng = np.random.RandomState(42)\n",
    "split_on_income = False  # if True: src := income>=50k, tgt :+ income<50k, if False: src := male, tgt := female\n",
    "n_samples = 1000"
   ]
  },
  {
   "cell_type": "code",
   "execution_count": 4,
   "id": "48ff09ec",
   "metadata": {
    "execution": {
     "iopub.execute_input": "2024-08-21T12:11:22.854535Z",
     "iopub.status.busy": "2024-08-21T12:11:22.854308Z",
     "iopub.status.idle": "2024-08-21T12:11:22.856008Z",
     "shell.execute_reply": "2024-08-21T12:11:22.855783Z"
    },
    "papermill": {
     "duration": 0.004173,
     "end_time": "2024-08-21T12:11:22.856700",
     "exception": false,
     "start_time": "2024-08-21T12:11:22.852527",
     "status": "completed"
    },
    "tags": [
     "parameters"
    ]
   },
   "outputs": [],
   "source": [
    "comparison_id = None"
   ]
  },
  {
   "cell_type": "code",
   "execution_count": 5,
   "id": "04b40361",
   "metadata": {
    "execution": {
     "iopub.execute_input": "2024-08-21T12:11:22.859384Z",
     "iopub.status.busy": "2024-08-21T12:11:22.859278Z",
     "iopub.status.idle": "2024-08-21T12:11:22.860725Z",
     "shell.execute_reply": "2024-08-21T12:11:22.860521Z"
    },
    "papermill": {
     "duration": 0.003717,
     "end_time": "2024-08-21T12:11:22.861596",
     "exception": false,
     "start_time": "2024-08-21T12:11:22.857879",
     "status": "completed"
    },
    "tags": [
     "injected-parameters"
    ]
   },
   "outputs": [],
   "source": [
    "# Parameters\n",
    "comparison_id = 0\n"
   ]
  },
  {
   "cell_type": "code",
   "execution_count": 6,
   "id": "dade2b7e",
   "metadata": {
    "execution": {
     "iopub.execute_input": "2024-08-21T12:11:22.864656Z",
     "iopub.status.busy": "2024-08-21T12:11:22.864537Z",
     "iopub.status.idle": "2024-08-21T12:11:22.881332Z",
     "shell.execute_reply": "2024-08-21T12:11:22.881096Z"
    },
    "papermill": {
     "duration": 0.019172,
     "end_time": "2024-08-21T12:11:22.882077",
     "exception": false,
     "start_time": "2024-08-21T12:11:22.862905",
     "status": "completed"
    },
    "tags": []
   },
   "outputs": [
    {
     "name": "stdout",
     "output_type": "stream",
     "text": [
      "Comparing customer_profile_0 and customer_profile_1\n",
      "Finished preprocessing logistic dataset. Split on customer_profile_0 and customer_profile_1 with resulting source shape: (996, 3), target shape: (996, 3).\n",
      "['Connection', 'Weight', 'Unit_type']\n"
     ]
    }
   ],
   "source": [
    "\n",
    "# Load the data\n",
    "comparison_dict = {0: [0,1], 1: [2,3], 2: [4,5]}\n",
    "path_customer_profiles = open('./Results_Experiments/File_Paths/path_customer_profiles.txt','r').read()\n",
    "path_transport_graphics = open('./Results_Experiments/File_Paths/path_transport_graphics.txt','r').read()\n",
    "source = pd.read_csv(f'../{path_customer_profiles}/customer_profile_{comparison_dict[comparison_id][0]}.csv')\n",
    "target = pd.read_csv(f'../{path_customer_profiles}/customer_profile_{comparison_dict[comparison_id][1]}.csv')\n",
    "equal_week_split = True\n",
    "source, target, feature_names = load_and_preprocess_logistics_data(rng, n_samples, return_column_names=True,equal_week_split=equal_week_split, comparison_id=\n",
    "            comparison_id, comparison_dict=comparison_dict)\n",
    "print(feature_names)"
   ]
  },
  {
   "cell_type": "code",
   "execution_count": 7,
   "id": "296df3b5",
   "metadata": {
    "execution": {
     "iopub.execute_input": "2024-08-21T12:11:22.885168Z",
     "iopub.status.busy": "2024-08-21T12:11:22.885072Z",
     "iopub.status.idle": "2024-08-21T12:11:22.887468Z",
     "shell.execute_reply": "2024-08-21T12:11:22.887243Z"
    },
    "papermill": {
     "duration": 0.004658,
     "end_time": "2024-08-21T12:11:22.888171",
     "exception": false,
     "start_time": "2024-08-21T12:11:22.883513",
     "status": "completed"
    },
    "tags": []
   },
   "outputs": [],
   "source": [
    "# standardize the source and target data, and convert to domain labels\n",
    "from sklearn.preprocessing import StandardScaler\n",
    "X = np.concatenate((source, target), axis=0)\n",
    "# standardize X to remove cardinatlity bias\n",
    "X = StandardScaler().fit_transform(X)\n",
    "y = np.concatenate((np.zeros(source.shape[0]),\n",
    "                    np.ones(target.shape[0])), axis=0)  # domain labels"
   ]
  },
  {
   "cell_type": "code",
   "execution_count": 8,
   "id": "c5422e1f",
   "metadata": {
    "execution": {
     "iopub.execute_input": "2024-08-21T12:11:22.891004Z",
     "iopub.status.busy": "2024-08-21T12:11:22.890906Z",
     "iopub.status.idle": "2024-08-21T12:11:22.939424Z",
     "shell.execute_reply": "2024-08-21T12:11:22.939155Z"
    },
    "papermill": {
     "duration": 0.050874,
     "end_time": "2024-08-21T12:11:22.940282",
     "exception": false,
     "start_time": "2024-08-21T12:11:22.889408",
     "status": "completed"
    },
    "tags": []
   },
   "outputs": [],
   "source": [
    "from sklearn.datasets import make_classification\n",
    "from sklearn.model_selection import train_test_split\n",
    "\n",
    "X_train, X_test, y_train, y_test = train_test_split(X, y,\n",
    "                                     stratify=y, random_state=42)"
   ]
  },
  {
   "cell_type": "code",
   "execution_count": 9,
   "id": "5d9ba299",
   "metadata": {
    "execution": {
     "iopub.execute_input": "2024-08-21T12:11:22.943559Z",
     "iopub.status.busy": "2024-08-21T12:11:22.943417Z",
     "iopub.status.idle": "2024-08-21T12:11:22.957284Z",
     "shell.execute_reply": "2024-08-21T12:11:22.957033Z"
    },
    "papermill": {
     "duration": 0.016452,
     "end_time": "2024-08-21T12:11:22.958225",
     "exception": false,
     "start_time": "2024-08-21T12:11:22.941773",
     "status": "completed"
    },
    "tags": []
   },
   "outputs": [],
   "source": [
    "# Using XGBoost\n",
    "import xgboost\n",
    "\n",
    "def fit_xgboost(X_train, y_train, X_test, y_test, feature_names=None):\n",
    "    \"\"\" Train an XGBoost model with early stopping.\n",
    "    \"\"\"\n",
    "    dtrain = xgboost.DMatrix(X_train, label=y_train, feature_names=feature_names)\n",
    "    dtest = xgboost.DMatrix(X_test, label=y_test, feature_names=feature_names)\n",
    "    # model = xgboost.train(\n",
    "    #     { \"eta\": 0.001, \"subsample\": 0.5, \"max_depth\": 2,\n",
    "    #       \"objective\": 'binary:logistic', 'eval_metric': 'logloss'}, dtrain, num_boost_round=200000,\n",
    "    #     evals=[(dtest,'eval'), (dtrain,'train')], early_stopping_rounds=20, verbose_eval=False\n",
    "    # )\n",
    "    model = xgboost.train(\n",
    "        {\"objective\": 'binary:logistic', 'eval_metric': 'logloss'},\n",
    "        dtrain,\n",
    "        evals=[(dtest,'eval'), (dtrain,'train')],\n",
    "        verbose_eval=False)\n",
    "    return model"
   ]
  },
  {
   "cell_type": "code",
   "execution_count": 10,
   "id": "bd7ac9f1",
   "metadata": {
    "execution": {
     "iopub.execute_input": "2024-08-21T12:11:22.961647Z",
     "iopub.status.busy": "2024-08-21T12:11:22.961512Z",
     "iopub.status.idle": "2024-08-21T12:11:22.977014Z",
     "shell.execute_reply": "2024-08-21T12:11:22.976742Z"
    },
    "papermill": {
     "duration": 0.018291,
     "end_time": "2024-08-21T12:11:22.977876",
     "exception": false,
     "start_time": "2024-08-21T12:11:22.959585",
     "status": "completed"
    },
    "tags": []
   },
   "outputs": [],
   "source": [
    "xgb_forest = fit_xgboost(X_train, y_train, X_test, y_test, feature_names)\n",
    "xgb_forest.feature_names = feature_names"
   ]
  },
  {
   "cell_type": "code",
   "execution_count": 11,
   "id": "dcaa3020",
   "metadata": {
    "execution": {
     "iopub.execute_input": "2024-08-21T12:11:22.981250Z",
     "iopub.status.busy": "2024-08-21T12:11:22.981146Z",
     "iopub.status.idle": "2024-08-21T12:11:22.983020Z",
     "shell.execute_reply": "2024-08-21T12:11:22.982820Z"
    },
    "papermill": {
     "duration": 0.004223,
     "end_time": "2024-08-21T12:11:22.983759",
     "exception": false,
     "start_time": "2024-08-21T12:11:22.979536",
     "status": "completed"
    },
    "tags": []
   },
   "outputs": [],
   "source": [
    "def get_acc(model, samples, labels, feature_names=None):\n",
    "    predictions = (model.predict(xgboost.DMatrix(samples,\n",
    "                                                 feature_names=feature_names)) > 0.5).astype(int)\n",
    "    return (predictions == labels).sum() / predictions.shape[0]"
   ]
  },
  {
   "cell_type": "code",
   "execution_count": 12,
   "id": "7ce6b380",
   "metadata": {
    "execution": {
     "iopub.execute_input": "2024-08-21T12:11:22.986619Z",
     "iopub.status.busy": "2024-08-21T12:11:22.986521Z",
     "iopub.status.idle": "2024-08-21T12:11:22.989303Z",
     "shell.execute_reply": "2024-08-21T12:11:22.989086Z"
    },
    "papermill": {
     "duration": 0.004996,
     "end_time": "2024-08-21T12:11:22.990009",
     "exception": false,
     "start_time": "2024-08-21T12:11:22.985013",
     "status": "completed"
    },
    "tags": []
   },
   "outputs": [
    {
     "name": "stdout",
     "output_type": "stream",
     "text": [
      "Train score: 0.9424364123159303\n",
      "Test score: 0.9317269076305221\n"
     ]
    }
   ],
   "source": [
    "print('Train score:', get_acc(xgb_forest, X_train, y_train, feature_names))\n",
    "print('Test score:', get_acc(xgb_forest, X_test, y_test, feature_names))"
   ]
  },
  {
   "cell_type": "code",
   "execution_count": 13,
   "id": "97a1d2b0",
   "metadata": {
    "execution": {
     "iopub.execute_input": "2024-08-21T12:11:22.993036Z",
     "iopub.status.busy": "2024-08-21T12:11:22.992927Z",
     "iopub.status.idle": "2024-08-21T12:11:23.230816Z",
     "shell.execute_reply": "2024-08-21T12:11:23.230517Z"
    },
    "papermill": {
     "duration": 0.24042,
     "end_time": "2024-08-21T12:11:23.231744",
     "exception": false,
     "start_time": "2024-08-21T12:11:22.991324",
     "status": "completed"
    },
    "tags": []
   },
   "outputs": [],
   "source": [
    "import shap\n",
    "import pandas as pd\n",
    "explainer = shap.Explainer(xgb_forest)\n",
    "\n",
    "shap_values = explainer(pd.DataFrame(X_test, columns=feature_names))\n"
   ]
  },
  {
   "cell_type": "code",
   "execution_count": 14,
   "id": "8e7a54a8",
   "metadata": {
    "execution": {
     "iopub.execute_input": "2024-08-21T12:11:23.235141Z",
     "iopub.status.busy": "2024-08-21T12:11:23.234986Z",
     "iopub.status.idle": "2024-08-21T12:11:23.549273Z",
     "shell.execute_reply": "2024-08-21T12:11:23.549014Z"
    },
    "papermill": {
     "duration": 0.316794,
     "end_time": "2024-08-21T12:11:23.550099",
     "exception": false,
     "start_time": "2024-08-21T12:11:23.233305",
     "status": "completed"
    },
    "tags": []
   },
   "outputs": [
    {
     "data": {
      "image/png": "[encoded data removed]",
      "text/plain": [
       "<Figure size 400x100 with 2 Axes>"
      ]
     },
     "metadata": {},
     "output_type": "display_data"
    }
   ],
   "source": [
    "# Beeswarm plot\n",
    "\n",
    "shap.plots.beeswarm(shap_values, show=False)\n",
    "fig = plt.gcf()\n",
    "fig.set_size_inches(4, 1, forward=True)\n",
    "if save_figures: plt.savefig(\n",
    "    f'../{path_transport_graphics}/logitics_data_on_customer_profile_{comparison_dict[comparison_id][0]} and customer_profile_{comparison_dict[comparison_id][1]}-shap-value.{save_parms[\"format\"]}',\n",
    "    **save_parms\n",
    "    )\n",
    "plt.show()"
   ]
  }
 ],
 "metadata": {
  "kernelspec": {
   "display_name": "Python 3.7.11 ('py37')",
   "language": "python",
   "name": "python3"
  },
  "language_info": {
   "codemirror_mode": {
    "name": "ipython",
    "version": 3
   },
   "file_extension": ".py",
   "mimetype": "text/x-python",
   "name": "python",
   "nbconvert_exporter": "python",
   "pygments_lexer": "ipython3",
   "version": "3.12.0"
  },
  "papermill": {
   "default_parameters": {},
   "duration": 2.637161,
   "end_time": "2024-08-21T12:11:23.868480",
   "environment_variables": {},
   "exception": null,
   "input_path": "experiment_baseline.ipynb",
   "output_path": "./Results_Experiments/Set_UT_list_to_None_Set_weight_span_to_None_Set_num_components_to_None_Set_number_of_connections_to_2/experiment_baseline_1.ipynb",
   "parameters": {
    "comparison_id": 0
   },
   "start_time": "2024-08-21T12:11:21.231319",
   "version": "2.6.0"
  },
  "vscode": {
   "interpreter": {
    "hash": "5ab0220f0ca30ec7bac8a7e209564eceae6d15412b9f87f3c2f91206aa8b151c"
   }
  }
 },
 "nbformat": 4,
 "nbformat_minor": 5
}