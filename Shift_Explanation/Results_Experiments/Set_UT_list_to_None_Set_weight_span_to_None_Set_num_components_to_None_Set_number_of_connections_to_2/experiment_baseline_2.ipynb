{
 "cells": [
  {
   "cell_type": "code",
   "execution_count": 1,
   "id": "d05cab18",
   "metadata": {
    "execution": {
     "iopub.execute_input": "2024-08-21T09:49:03.924867Z",
     "iopub.status.busy": "2024-08-21T09:49:03.924481Z",
     "iopub.status.idle": "2024-08-21T09:49:04.929845Z",
     "shell.execute_reply": "2024-08-21T09:49:04.929036Z"
    },
    "papermill": {
     "duration": 1.020076,
     "end_time": "2024-08-21T09:49:04.937779",
     "exception": false,
     "start_time": "2024-08-21T09:49:03.917703",
     "status": "completed"
    },
    "tags": []
   },
   "outputs": [],
   "source": [
    "import matplotlib.pyplot as plt\n",
    "import numpy as np\n",
    "import pandas as pd\n",
    "from pathlib import Path\n",
    "import seaborn as sn\n"
   ]
  },
  {
   "cell_type": "code",
   "execution_count": 2,
   "id": "d6302d10",
   "metadata": {
    "execution": {
     "iopub.execute_input": "2024-08-21T09:49:04.946028Z",
     "iopub.status.busy": "2024-08-21T09:49:04.945576Z",
     "iopub.status.idle": "2024-08-21T09:49:04.953096Z",
     "shell.execute_reply": "2024-08-21T09:49:04.952002Z"
    },
    "papermill": {
     "duration": 0.014435,
     "end_time": "2024-08-21T09:49:04.956336",
     "exception": false,
     "start_time": "2024-08-21T09:49:04.941901",
     "status": "completed"
    },
    "tags": []
   },
   "outputs": [],
   "source": [
    "# Setting so that the plots look normal even when using dark-reader\n",
    "sn.set_style(\"whitegrid\")\n",
    "sn.set_context(context=\"paper\", font_scale=2)\n",
    "pal = sn.color_palette(\"Set1\")\n",
    "\n",
    "# Setting up specifics for plotting + saving\n",
    "save_figures = True\n",
    "add_legend = False\n",
    "add_title = False\n",
    "add_axis = False\n",
    "save_parms = {'format': 'pdf','bbox_inches':'tight', 'pad_inches':0.1}\n",
    "line_parms = {'linewidth':4, 'color':'k'}\n",
    "if save_figures:  # saves all figures in a figure directory in the local directory\n",
    "    figure_dir = Path('.') / 'figures' / 'adult-income-experiment'\n",
    "    if not figure_dir.exists():\n",
    "        figure_dir.mkdir(parents=True)"
   ]
  },
  {
   "cell_type": "code",
   "execution_count": 3,
   "id": "22d1d0e0",
   "metadata": {
    "execution": {
     "iopub.execute_input": "2024-08-21T09:49:04.972090Z",
     "iopub.status.busy": "2024-08-21T09:49:04.971583Z",
     "iopub.status.idle": "2024-08-21T09:49:04.978446Z",
     "shell.execute_reply": "2024-08-21T09:49:04.975534Z"
    },
    "papermill": {
     "duration": 0.014994,
     "end_time": "2024-08-21T09:49:04.981418",
     "exception": false,
     "start_time": "2024-08-21T09:49:04.966424",
     "status": "completed"
    },
    "tags": []
   },
   "outputs": [],
   "source": [
    "# Experiment hyperparamters\n",
    "rng = np.random.RandomState(42)\n",
    "split_on_income = False  # if True: src := income>=50k, tgt :+ income<50k, if False: src := male, tgt := female\n",
    "n_samples = 1000"
   ]
  },
  {
   "cell_type": "code",
   "execution_count": 4,
   "id": "48ff09ec",
   "metadata": {
    "execution": {
     "iopub.execute_input": "2024-08-21T09:49:04.992822Z",
     "iopub.status.busy": "2024-08-21T09:49:04.992319Z",
     "iopub.status.idle": "2024-08-21T09:49:04.994987Z",
     "shell.execute_reply": "2024-08-21T09:49:04.994633Z"
    },
    "papermill": {
     "duration": 0.007745,
     "end_time": "2024-08-21T09:49:04.996568",
     "exception": false,
     "start_time": "2024-08-21T09:49:04.988823",
     "status": "completed"
    },
    "tags": [
     "parameters"
    ]
   },
   "outputs": [],
   "source": [
    "comparison_id = None"
   ]
  },
  {
   "cell_type": "code",
   "execution_count": 5,
   "id": "f9171045",
   "metadata": {
    "execution": {
     "iopub.execute_input": "2024-08-21T09:49:05.003455Z",
     "iopub.status.busy": "2024-08-21T09:49:05.003293Z",
     "iopub.status.idle": "2024-08-21T09:49:05.006667Z",
     "shell.execute_reply": "2024-08-21T09:49:05.006173Z"
    },
    "papermill": {
     "duration": 0.008479,
     "end_time": "2024-08-21T09:49:05.007461",
     "exception": false,
     "start_time": "2024-08-21T09:49:04.998982",
     "status": "completed"
    },
    "tags": [
     "injected-parameters"
    ]
   },
   "outputs": [],
   "source": [
    "# Parameters\n",
    "comparison_id = 1\n"
   ]
  },
  {
   "cell_type": "code",
   "execution_count": 6,
   "id": "dade2b7e",
   "metadata": {
    "execution": {
     "iopub.execute_input": "2024-08-21T09:49:05.014929Z",
     "iopub.status.busy": "2024-08-21T09:49:05.014685Z",
     "iopub.status.idle": "2024-08-21T09:49:05.042763Z",
     "shell.execute_reply": "2024-08-21T09:49:05.041734Z"
    },
    "papermill": {
     "duration": 0.038429,
     "end_time": "2024-08-21T09:49:05.048994",
     "exception": false,
     "start_time": "2024-08-21T09:49:05.010565",
     "status": "completed"
    },
    "tags": []
   },
   "outputs": [
    {
     "name": "stdout",
     "output_type": "stream",
     "text": [
      "['Customer_id', 'Connection', 'Weight', 'Unit_type', 'Day', 'Week']\n"
     ]
    }
   ],
   "source": [
    "\n",
    "# Load the data\n",
    "comparison_dict = {0: [0,1], 1: [2,3], 2: [4,5]}\n",
    "path_customer_profiles = open('./Results_Experiments/File_Paths/path_customer_profiles.txt','r').read()\n",
    "path_transport_graphics = open('./Results_Experiments/File_Paths/path_transport_graphics.txt','r').read()\n",
    "source = pd.read_csv(f'../{path_customer_profiles}/customer_profile_{comparison_dict[comparison_id][0]}.csv')\n",
    "target = pd.read_csv(f'../{path_customer_profiles}/customer_profile_{comparison_dict[comparison_id][1]}.csv')\n",
    "\n",
    "feature_names = source.columns.values\n",
    "feature_names = list(feature_names)\n",
    "print(feature_names)"
   ]
  },
  {
   "cell_type": "code",
   "execution_count": 7,
   "id": "296df3b5",
   "metadata": {
    "execution": {
     "iopub.execute_input": "2024-08-21T09:49:05.055866Z",
     "iopub.status.busy": "2024-08-21T09:49:05.055562Z",
     "iopub.status.idle": "2024-08-21T09:49:05.138837Z",
     "shell.execute_reply": "2024-08-21T09:49:05.137026Z"
    },
    "papermill": {
     "duration": 0.088879,
     "end_time": "2024-08-21T09:49:05.140826",
     "exception": false,
     "start_time": "2024-08-21T09:49:05.051947",
     "status": "completed"
    },
    "tags": []
   },
   "outputs": [],
   "source": [
    "# standardize the source and target data, and convert to domain labels\n",
    "from sklearn.preprocessing import StandardScaler\n",
    "X = np.concatenate((source, target), axis=0)\n",
    "# standardize X to remove cardinatlity bias\n",
    "X = StandardScaler().fit_transform(X)\n",
    "y = np.concatenate((np.zeros(source.shape[0]),\n",
    "                    np.ones(target.shape[0])), axis=0)  # domain labels"
   ]
  },
  {
   "cell_type": "code",
   "execution_count": 8,
   "id": "c5422e1f",
   "metadata": {
    "execution": {
     "iopub.execute_input": "2024-08-21T09:49:05.144642Z",
     "iopub.status.busy": "2024-08-21T09:49:05.144325Z",
     "iopub.status.idle": "2024-08-21T09:49:05.211544Z",
     "shell.execute_reply": "2024-08-21T09:49:05.211161Z"
    },
    "papermill": {
     "duration": 0.070439,
     "end_time": "2024-08-21T09:49:05.212830",
     "exception": false,
     "start_time": "2024-08-21T09:49:05.142391",
     "status": "completed"
    },
    "tags": []
   },
   "outputs": [],
   "source": [
    "from sklearn.datasets import make_classification\n",
    "from sklearn.model_selection import train_test_split\n",
    "\n",
    "X_train, X_test, y_train, y_test = train_test_split(X, y,\n",
    "                                     stratify=y, random_state=42)"
   ]
  },
  {
   "cell_type": "code",
   "execution_count": 9,
   "id": "5d9ba299",
   "metadata": {
    "execution": {
     "iopub.execute_input": "2024-08-21T09:49:05.217107Z",
     "iopub.status.busy": "2024-08-21T09:49:05.216858Z",
     "iopub.status.idle": "2024-08-21T09:49:05.237586Z",
     "shell.execute_reply": "2024-08-21T09:49:05.237275Z"
    },
    "papermill": {
     "duration": 0.024221,
     "end_time": "2024-08-21T09:49:05.238632",
     "exception": false,
     "start_time": "2024-08-21T09:49:05.214411",
     "status": "completed"
    },
    "tags": []
   },
   "outputs": [],
   "source": [
    "# Using XGBoost\n",
    "import xgboost\n",
    "\n",
    "def fit_xgboost(X_train, y_train, X_test, y_test, feature_names=None):\n",
    "    \"\"\" Train an XGBoost model with early stopping.\n",
    "    \"\"\"\n",
    "    dtrain = xgboost.DMatrix(X_train, label=y_train, feature_names=feature_names)\n",
    "    dtest = xgboost.DMatrix(X_test, label=y_test, feature_names=feature_names)\n",
    "    # model = xgboost.train(\n",
    "    #     { \"eta\": 0.001, \"subsample\": 0.5, \"max_depth\": 2,\n",
    "    #       \"objective\": 'binary:logistic', 'eval_metric': 'logloss'}, dtrain, num_boost_round=200000,\n",
    "    #     evals=[(dtest,'eval'), (dtrain,'train')], early_stopping_rounds=20, verbose_eval=False\n",
    "    # )\n",
    "    model = xgboost.train(\n",
    "        {\"objective\": 'binary:logistic', 'eval_metric': 'logloss'},\n",
    "        dtrain,\n",
    "        evals=[(dtest,'eval'), (dtrain,'train')],\n",
    "        verbose_eval=False)\n",
    "    return model"
   ]
  },
  {
   "cell_type": "code",
   "execution_count": 10,
   "id": "bd7ac9f1",
   "metadata": {
    "execution": {
     "iopub.execute_input": "2024-08-21T09:49:05.242154Z",
     "iopub.status.busy": "2024-08-21T09:49:05.241950Z",
     "iopub.status.idle": "2024-08-21T09:49:05.282178Z",
     "shell.execute_reply": "2024-08-21T09:49:05.281869Z"
    },
    "papermill": {
     "duration": 0.043943,
     "end_time": "2024-08-21T09:49:05.284167",
     "exception": false,
     "start_time": "2024-08-21T09:49:05.240224",
     "status": "completed"
    },
    "tags": []
   },
   "outputs": [],
   "source": [
    "xgb_forest = fit_xgboost(X_train, y_train, X_test, y_test, feature_names)\n",
    "xgb_forest.feature_names = feature_names"
   ]
  },
  {
   "cell_type": "code",
   "execution_count": 11,
   "id": "dcaa3020",
   "metadata": {
    "execution": {
     "iopub.execute_input": "2024-08-21T09:49:05.288331Z",
     "iopub.status.busy": "2024-08-21T09:49:05.288181Z",
     "iopub.status.idle": "2024-08-21T09:49:05.290221Z",
     "shell.execute_reply": "2024-08-21T09:49:05.289974Z"
    },
    "papermill": {
     "duration": 0.004806,
     "end_time": "2024-08-21T09:49:05.290974",
     "exception": false,
     "start_time": "2024-08-21T09:49:05.286168",
     "status": "completed"
    },
    "tags": []
   },
   "outputs": [],
   "source": [
    "def get_acc(model, samples, labels, feature_names=None):\n",
    "    predictions = (model.predict(xgboost.DMatrix(samples,\n",
    "                                                 feature_names=feature_names)) > 0.5).astype(int)\n",
    "    return (predictions == labels).sum() / predictions.shape[0]"
   ]
  },
  {
   "cell_type": "code",
   "execution_count": 12,
   "id": "7ce6b380",
   "metadata": {
    "execution": {
     "iopub.execute_input": "2024-08-21T09:49:05.294308Z",
     "iopub.status.busy": "2024-08-21T09:49:05.294183Z",
     "iopub.status.idle": "2024-08-21T09:49:05.298702Z",
     "shell.execute_reply": "2024-08-21T09:49:05.298447Z"
    },
    "papermill": {
     "duration": 0.007034,
     "end_time": "2024-08-21T09:49:05.299443",
     "exception": false,
     "start_time": "2024-08-21T09:49:05.292409",
     "status": "completed"
    },
    "tags": []
   },
   "outputs": [
    {
     "name": "stdout",
     "output_type": "stream",
     "text": [
      "Train score: 0.9580403719664323\n",
      "Test score: 0.9612156951689725\n"
     ]
    }
   ],
   "source": [
    "print('Train score:', get_acc(xgb_forest, X_train, y_train, feature_names))\n",
    "print('Test score:', get_acc(xgb_forest, X_test, y_test, feature_names))"
   ]
  },
  {
   "cell_type": "code",
   "execution_count": 13,
   "id": "97a1d2b0",
   "metadata": {
    "execution": {
     "iopub.execute_input": "2024-08-21T09:49:05.302880Z",
     "iopub.status.busy": "2024-08-21T09:49:05.302682Z",
     "iopub.status.idle": "2024-08-21T09:49:05.701875Z",
     "shell.execute_reply": "2024-08-21T09:49:05.701526Z"
    },
    "papermill": {
     "duration": 0.402864,
     "end_time": "2024-08-21T09:49:05.703795",
     "exception": false,
     "start_time": "2024-08-21T09:49:05.300931",
     "status": "completed"
    },
    "tags": []
   },
   "outputs": [],
   "source": [
    "import shap\n",
    "import pandas as pd\n",
    "explainer = shap.Explainer(xgb_forest)\n",
    "\n",
    "shap_values = explainer(pd.DataFrame(X_test, columns=feature_names))\n"
   ]
  },
  {
   "cell_type": "code",
   "execution_count": 14,
   "id": "8e7a54a8",
   "metadata": {
    "execution": {
     "iopub.execute_input": "2024-08-21T09:49:05.709406Z",
     "iopub.status.busy": "2024-08-21T09:49:05.708647Z",
     "iopub.status.idle": "2024-08-21T09:49:06.419258Z",
     "shell.execute_reply": "2024-08-21T09:49:06.418835Z"
    },
    "papermill": {
     "duration": 0.718242,
     "end_time": "2024-08-21T09:49:06.424124",
     "exception": false,
     "start_time": "2024-08-21T09:49:05.705882",
     "status": "completed"
    },
    "tags": []
   },
   "outputs": [
    {
     "data": {
      "image/png": "[encoded data removed]",
      "text/plain": [
       "<Figure size 400x200 with 2 Axes>"
      ]
     },
     "metadata": {},
     "output_type": "display_data"
    }
   ],
   "source": [
    "# Beeswarm plot\n",
    "\n",
    "shap.plots.beeswarm(shap_values, show=False)\n",
    "fig = plt.gcf()\n",
    "fig.set_size_inches(4, 2, forward=True)\n",
    "if save_figures: plt.savefig(\n",
    "    f'../{path_transport_graphics}/logitics_data_on_customer_profile_{comparison_dict[comparison_id][0]} and customer_profile_{comparison_dict[comparison_id][1]}-shap-value.{save_parms[\"format\"]}',\n",
    "    **save_parms\n",
    "    )\n",
    "plt.show()"
   ]
  }
 ],
 "metadata": {
  "kernelspec": {
   "display_name": "Python 3.7.11 ('py37')",
   "language": "python",
   "name": "python3"
  },
  "language_info": {
   "codemirror_mode": {
    "name": "ipython",
    "version": 3
   },
   "file_extension": ".py",
   "mimetype": "text/x-python",
   "name": "python",
   "nbconvert_exporter": "python",
   "pygments_lexer": "ipython3",
   "version": "3.12.0"
  },
  "papermill": {
   "default_parameters": {},
   "duration": 3.563975,
   "end_time": "2024-08-21T09:49:06.747929",
   "environment_variables": {},
   "exception": null,
   "input_path": "experiment_baseline.ipynb",
   "output_path": "./Results_Experiments/Set_UT_list_to_None_Set_weight_span_to_None_Set_num_components_to_None_Set_number_of_connections_to_2/experiment_baseline_2.ipynb",
   "parameters": {
    "comparison_id": 1
   },
   "start_time": "2024-08-21T09:49:03.183954",
   "version": "2.6.0"
  },
  "vscode": {
   "interpreter": {
    "hash": "5ab0220f0ca30ec7bac8a7e209564eceae6d15412b9f87f3c2f91206aa8b151c"
   }
  }
 },
 "nbformat": 4,
 "nbformat_minor": 5
}