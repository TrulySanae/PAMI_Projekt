{
 "cells": [
  {
   "cell_type": "code",
   "execution_count": 1,
   "id": "d05cab18",
   "metadata": {
    "execution": {
     "iopub.execute_input": "2024-08-21T09:48:14.060143Z",
     "iopub.status.busy": "2024-08-21T09:48:14.059661Z",
     "iopub.status.idle": "2024-08-21T09:48:15.109124Z",
     "shell.execute_reply": "2024-08-21T09:48:15.108103Z"
    },
    "papermill": {
     "duration": 1.069254,
     "end_time": "2024-08-21T09:48:15.120315",
     "exception": false,
     "start_time": "2024-08-21T09:48:14.051061",
     "status": "completed"
    },
    "tags": []
   },
   "outputs": [],
   "source": [
    "import matplotlib.pyplot as plt\n",
    "import numpy as np\n",
    "import pandas as pd\n",
    "from pathlib import Path\n",
    "import seaborn as sn\n"
   ]
  },
  {
   "cell_type": "code",
   "execution_count": 2,
   "id": "d6302d10",
   "metadata": {
    "execution": {
     "iopub.execute_input": "2024-08-21T09:48:15.127501Z",
     "iopub.status.busy": "2024-08-21T09:48:15.127146Z",
     "iopub.status.idle": "2024-08-21T09:48:15.132329Z",
     "shell.execute_reply": "2024-08-21T09:48:15.131369Z"
    },
    "papermill": {
     "duration": 0.010198,
     "end_time": "2024-08-21T09:48:15.134215",
     "exception": false,
     "start_time": "2024-08-21T09:48:15.124017",
     "status": "completed"
    },
    "tags": []
   },
   "outputs": [],
   "source": [
    "# Setting so that the plots look normal even when using dark-reader\n",
    "sn.set_style(\"whitegrid\")\n",
    "sn.set_context(context=\"paper\", font_scale=2)\n",
    "pal = sn.color_palette(\"Set1\")\n",
    "\n",
    "# Setting up specifics for plotting + saving\n",
    "save_figures = True\n",
    "add_legend = False\n",
    "add_title = False\n",
    "add_axis = False\n",
    "save_parms = {'format': 'pdf','bbox_inches':'tight', 'pad_inches':0.1}\n",
    "line_parms = {'linewidth':4, 'color':'k'}\n",
    "if save_figures:  # saves all figures in a figure directory in the local directory\n",
    "    figure_dir = Path('.') / 'figures' / 'adult-income-experiment'\n",
    "    if not figure_dir.exists():\n",
    "        figure_dir.mkdir(parents=True)"
   ]
  },
  {
   "cell_type": "code",
   "execution_count": 3,
   "id": "22d1d0e0",
   "metadata": {
    "execution": {
     "iopub.execute_input": "2024-08-21T09:48:15.142903Z",
     "iopub.status.busy": "2024-08-21T09:48:15.141796Z",
     "iopub.status.idle": "2024-08-21T09:48:15.149712Z",
     "shell.execute_reply": "2024-08-21T09:48:15.147685Z"
    },
    "papermill": {
     "duration": 0.017352,
     "end_time": "2024-08-21T09:48:15.155120",
     "exception": false,
     "start_time": "2024-08-21T09:48:15.137768",
     "status": "completed"
    },
    "tags": []
   },
   "outputs": [],
   "source": [
    "# Experiment hyperparamters\n",
    "rng = np.random.RandomState(42)\n",
    "split_on_income = False  # if True: src := income>=50k, tgt :+ income<50k, if False: src := male, tgt := female\n",
    "n_samples = 1000"
   ]
  },
  {
   "cell_type": "code",
   "execution_count": 4,
   "id": "48ff09ec",
   "metadata": {
    "execution": {
     "iopub.execute_input": "2024-08-21T09:48:15.166664Z",
     "iopub.status.busy": "2024-08-21T09:48:15.166293Z",
     "iopub.status.idle": "2024-08-21T09:48:15.170060Z",
     "shell.execute_reply": "2024-08-21T09:48:15.169500Z"
    },
    "papermill": {
     "duration": 0.011009,
     "end_time": "2024-08-21T09:48:15.171187",
     "exception": false,
     "start_time": "2024-08-21T09:48:15.160178",
     "status": "completed"
    },
    "tags": [
     "parameters"
    ]
   },
   "outputs": [],
   "source": [
    "comparison_id = None"
   ]
  },
  {
   "cell_type": "code",
   "execution_count": 5,
   "id": "f640e0f4",
   "metadata": {
    "execution": {
     "iopub.execute_input": "2024-08-21T09:48:15.176248Z",
     "iopub.status.busy": "2024-08-21T09:48:15.176027Z",
     "iopub.status.idle": "2024-08-21T09:48:15.178772Z",
     "shell.execute_reply": "2024-08-21T09:48:15.178069Z"
    },
    "papermill": {
     "duration": 0.006629,
     "end_time": "2024-08-21T09:48:15.179734",
     "exception": false,
     "start_time": "2024-08-21T09:48:15.173105",
     "status": "completed"
    },
    "tags": [
     "injected-parameters"
    ]
   },
   "outputs": [],
   "source": [
    "# Parameters\n",
    "comparison_id = 1\n"
   ]
  },
  {
   "cell_type": "code",
   "execution_count": 6,
   "id": "dade2b7e",
   "metadata": {
    "execution": {
     "iopub.execute_input": "2024-08-21T09:48:15.185225Z",
     "iopub.status.busy": "2024-08-21T09:48:15.185023Z",
     "iopub.status.idle": "2024-08-21T09:48:15.200386Z",
     "shell.execute_reply": "2024-08-21T09:48:15.200087Z"
    },
    "papermill": {
     "duration": 0.019806,
     "end_time": "2024-08-21T09:48:15.202048",
     "exception": false,
     "start_time": "2024-08-21T09:48:15.182242",
     "status": "completed"
    },
    "tags": []
   },
   "outputs": [
    {
     "name": "stdout",
     "output_type": "stream",
     "text": [
      "['Customer_id', 'Connection', 'Weight', 'Unit_type', 'Day', 'Week']\n"
     ]
    }
   ],
   "source": [
    "\n",
    "# Load the data\n",
    "comparison_dict = {0: [0,1], 1: [2,3], 2: [4,5]}\n",
    "path_customer_profiles = open('./Results_Experiments/File_Paths/path_customer_profiles.txt','r').read()\n",
    "path_transport_graphics = open('./Results_Experiments/File_Paths/path_transport_graphics.txt','r').read()\n",
    "source = pd.read_csv(f'../{path_customer_profiles}/customer_profile_{comparison_dict[comparison_id][0]}.csv')\n",
    "target = pd.read_csv(f'../{path_customer_profiles}/customer_profile_{comparison_dict[comparison_id][1]}.csv')\n",
    "\n",
    "feature_names = source.columns.values\n",
    "feature_names = list(feature_names)\n",
    "print(feature_names)"
   ]
  },
  {
   "cell_type": "code",
   "execution_count": 7,
   "id": "296df3b5",
   "metadata": {
    "execution": {
     "iopub.execute_input": "2024-08-21T09:48:15.206260Z",
     "iopub.status.busy": "2024-08-21T09:48:15.205838Z",
     "iopub.status.idle": "2024-08-21T09:48:15.257464Z",
     "shell.execute_reply": "2024-08-21T09:48:15.256885Z"
    },
    "papermill": {
     "duration": 0.054876,
     "end_time": "2024-08-21T09:48:15.258519",
     "exception": false,
     "start_time": "2024-08-21T09:48:15.203643",
     "status": "completed"
    },
    "tags": []
   },
   "outputs": [],
   "source": [
    "# standardize the source and target data, and convert to domain labels\n",
    "from sklearn.preprocessing import StandardScaler\n",
    "X = np.concatenate((source, target), axis=0)\n",
    "# standardize X to remove cardinatlity bias\n",
    "X = StandardScaler().fit_transform(X)\n",
    "y = np.concatenate((np.zeros(source.shape[0]),\n",
    "                    np.ones(target.shape[0])), axis=0)  # domain labels"
   ]
  },
  {
   "cell_type": "code",
   "execution_count": 8,
   "id": "c5422e1f",
   "metadata": {
    "execution": {
     "iopub.execute_input": "2024-08-21T09:48:15.263183Z",
     "iopub.status.busy": "2024-08-21T09:48:15.262946Z",
     "iopub.status.idle": "2024-08-21T09:48:15.343728Z",
     "shell.execute_reply": "2024-08-21T09:48:15.343390Z"
    },
    "papermill": {
     "duration": 0.084438,
     "end_time": "2024-08-21T09:48:15.344828",
     "exception": false,
     "start_time": "2024-08-21T09:48:15.260390",
     "status": "completed"
    },
    "tags": []
   },
   "outputs": [],
   "source": [
    "from sklearn.datasets import make_classification\n",
    "from sklearn.model_selection import train_test_split\n",
    "\n",
    "X_train, X_test, y_train, y_test = train_test_split(X, y,\n",
    "                                     stratify=y, random_state=42)"
   ]
  },
  {
   "cell_type": "code",
   "execution_count": 9,
   "id": "5d9ba299",
   "metadata": {
    "execution": {
     "iopub.execute_input": "2024-08-21T09:48:15.348107Z",
     "iopub.status.busy": "2024-08-21T09:48:15.347910Z",
     "iopub.status.idle": "2024-08-21T09:48:15.365321Z",
     "shell.execute_reply": "2024-08-21T09:48:15.364946Z"
    },
    "papermill": {
     "duration": 0.020177,
     "end_time": "2024-08-21T09:48:15.366402",
     "exception": false,
     "start_time": "2024-08-21T09:48:15.346225",
     "status": "completed"
    },
    "tags": []
   },
   "outputs": [],
   "source": [
    "# Using XGBoost\n",
    "import xgboost\n",
    "\n",
    "def fit_xgboost(X_train, y_train, X_test, y_test, feature_names=None):\n",
    "    \"\"\" Train an XGBoost model with early stopping.\n",
    "    \"\"\"\n",
    "    dtrain = xgboost.DMatrix(X_train, label=y_train, feature_names=feature_names)\n",
    "    dtest = xgboost.DMatrix(X_test, label=y_test, feature_names=feature_names)\n",
    "    # model = xgboost.train(\n",
    "    #     { \"eta\": 0.001, \"subsample\": 0.5, \"max_depth\": 2,\n",
    "    #       \"objective\": 'binary:logistic', 'eval_metric': 'logloss'}, dtrain, num_boost_round=200000,\n",
    "    #     evals=[(dtest,'eval'), (dtrain,'train')], early_stopping_rounds=20, verbose_eval=False\n",
    "    # )\n",
    "    model = xgboost.train(\n",
    "        {\"objective\": 'binary:logistic', 'eval_metric': 'logloss'},\n",
    "        dtrain,\n",
    "        evals=[(dtest,'eval'), (dtrain,'train')],\n",
    "        verbose_eval=False)\n",
    "    return model"
   ]
  },
  {
   "cell_type": "code",
   "execution_count": 10,
   "id": "bd7ac9f1",
   "metadata": {
    "execution": {
     "iopub.execute_input": "2024-08-21T09:48:15.370133Z",
     "iopub.status.busy": "2024-08-21T09:48:15.369992Z",
     "iopub.status.idle": "2024-08-21T09:48:15.391296Z",
     "shell.execute_reply": "2024-08-21T09:48:15.391028Z"
    },
    "papermill": {
     "duration": 0.024433,
     "end_time": "2024-08-21T09:48:15.392408",
     "exception": false,
     "start_time": "2024-08-21T09:48:15.367975",
     "status": "completed"
    },
    "tags": []
   },
   "outputs": [],
   "source": [
    "xgb_forest = fit_xgboost(X_train, y_train, X_test, y_test, feature_names)\n",
    "xgb_forest.feature_names = feature_names"
   ]
  },
  {
   "cell_type": "code",
   "execution_count": 11,
   "id": "dcaa3020",
   "metadata": {
    "execution": {
     "iopub.execute_input": "2024-08-21T09:48:15.395874Z",
     "iopub.status.busy": "2024-08-21T09:48:15.395748Z",
     "iopub.status.idle": "2024-08-21T09:48:15.397712Z",
     "shell.execute_reply": "2024-08-21T09:48:15.397457Z"
    },
    "papermill": {
     "duration": 0.00464,
     "end_time": "2024-08-21T09:48:15.398590",
     "exception": false,
     "start_time": "2024-08-21T09:48:15.393950",
     "status": "completed"
    },
    "tags": []
   },
   "outputs": [],
   "source": [
    "def get_acc(model, samples, labels, feature_names=None):\n",
    "    predictions = (model.predict(xgboost.DMatrix(samples,\n",
    "                                                 feature_names=feature_names)) > 0.5).astype(int)\n",
    "    return (predictions == labels).sum() / predictions.shape[0]"
   ]
  },
  {
   "cell_type": "code",
   "execution_count": 12,
   "id": "7ce6b380",
   "metadata": {
    "execution": {
     "iopub.execute_input": "2024-08-21T09:48:15.402458Z",
     "iopub.status.busy": "2024-08-21T09:48:15.402299Z",
     "iopub.status.idle": "2024-08-21T09:48:15.406549Z",
     "shell.execute_reply": "2024-08-21T09:48:15.406304Z"
    },
    "papermill": {
     "duration": 0.00736,
     "end_time": "2024-08-21T09:48:15.407359",
     "exception": false,
     "start_time": "2024-08-21T09:48:15.399999",
     "status": "completed"
    },
    "tags": []
   },
   "outputs": [
    {
     "name": "stdout",
     "output_type": "stream",
     "text": [
      "Train score: 0.8587799717912553\n",
      "Test score: 0.8514013749338974\n"
     ]
    }
   ],
   "source": [
    "print('Train score:', get_acc(xgb_forest, X_train, y_train, feature_names))\n",
    "print('Test score:', get_acc(xgb_forest, X_test, y_test, feature_names))"
   ]
  },
  {
   "cell_type": "code",
   "execution_count": 13,
   "id": "97a1d2b0",
   "metadata": {
    "execution": {
     "iopub.execute_input": "2024-08-21T09:48:15.410709Z",
     "iopub.status.busy": "2024-08-21T09:48:15.410597Z",
     "iopub.status.idle": "2024-08-21T09:48:15.745205Z",
     "shell.execute_reply": "2024-08-21T09:48:15.744753Z"
    },
    "papermill": {
     "duration": 0.338839,
     "end_time": "2024-08-21T09:48:15.747671",
     "exception": false,
     "start_time": "2024-08-21T09:48:15.408832",
     "status": "completed"
    },
    "tags": []
   },
   "outputs": [],
   "source": [
    "import shap\n",
    "import pandas as pd\n",
    "explainer = shap.Explainer(xgb_forest)\n",
    "\n",
    "shap_values = explainer(pd.DataFrame(X_test, columns=feature_names))\n"
   ]
  },
  {
   "cell_type": "code",
   "execution_count": 14,
   "id": "8e7a54a8",
   "metadata": {
    "execution": {
     "iopub.execute_input": "2024-08-21T09:48:15.751892Z",
     "iopub.status.busy": "2024-08-21T09:48:15.751676Z",
     "iopub.status.idle": "2024-08-21T09:48:16.388171Z",
     "shell.execute_reply": "2024-08-21T09:48:16.387729Z"
    },
    "papermill": {
     "duration": 0.639766,
     "end_time": "2024-08-21T09:48:16.389366",
     "exception": false,
     "start_time": "2024-08-21T09:48:15.749600",
     "status": "completed"
    },
    "tags": []
   },
   "outputs": [
    {
     "data": {
      "image/png": "[encoded data removed]",
      "text/plain": [
       "<Figure size 400x200 with 2 Axes>"
      ]
     },
     "metadata": {},
     "output_type": "display_data"
    }
   ],
   "source": [
    "# Beeswarm plot\n",
    "\n",
    "shap.plots.beeswarm(shap_values, show=False)\n",
    "fig = plt.gcf()\n",
    "fig.set_size_inches(4, 2, forward=True)\n",
    "if save_figures: plt.savefig(\n",
    "    f'../{path_transport_graphics}/logitics_data_on_customer_profile_{comparison_dict[comparison_id][0]} and customer_profile_{comparison_dict[comparison_id][1]}-shap-value.{save_parms[\"format\"]}',\n",
    "    **save_parms\n",
    "    )\n",
    "plt.show()"
   ]
  }
 ],
 "metadata": {
  "kernelspec": {
   "display_name": "Python 3.7.11 ('py37')",
   "language": "python",
   "name": "python3"
  },
  "language_info": {
   "codemirror_mode": {
    "name": "ipython",
    "version": 3
   },
   "file_extension": ".py",
   "mimetype": "text/x-python",
   "name": "python",
   "nbconvert_exporter": "python",
   "pygments_lexer": "ipython3",
   "version": "3.12.0"
  },
  "papermill": {
   "default_parameters": {},
   "duration": 3.347237,
   "end_time": "2024-08-21T09:48:16.811764",
   "environment_variables": {},
   "exception": null,
   "input_path": "experiment_baseline.ipynb",
   "output_path": "./Results_Experiments/Set_number_of_connections_to_10/experiment_baseline_2.ipynb",
   "parameters": {
    "comparison_id": 1
   },
   "start_time": "2024-08-21T09:48:13.464527",
   "version": "2.6.0"
  },
  "vscode": {
   "interpreter": {
    "hash": "5ab0220f0ca30ec7bac8a7e209564eceae6d15412b9f87f3c2f91206aa8b151c"
   }
  }
 },
 "nbformat": 4,
 "nbformat_minor": 5
}