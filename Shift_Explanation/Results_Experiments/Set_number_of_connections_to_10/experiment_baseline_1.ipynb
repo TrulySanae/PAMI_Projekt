{
 "cells": [
  {
   "cell_type": "code",
   "execution_count": 1,
   "id": "d05cab18",
   "metadata": {
    "execution": {
     "iopub.execute_input": "2024-08-21T12:10:43.001166Z",
     "iopub.status.busy": "2024-08-21T12:10:43.000904Z",
     "iopub.status.idle": "2024-08-21T12:10:43.875243Z",
     "shell.execute_reply": "2024-08-21T12:10:43.874950Z"
    },
    "papermill": {
     "duration": 0.885171,
     "end_time": "2024-08-21T12:10:43.876355",
     "exception": false,
     "start_time": "2024-08-21T12:10:42.991184",
     "status": "completed"
    },
    "tags": []
   },
   "outputs": [],
   "source": [
    "import matplotlib.pyplot as plt\n",
    "import numpy as np\n",
    "import pandas as pd\n",
    "from pathlib import Path\n",
    "import seaborn as sn\n",
    "from data_utils import load_and_preprocess_logistics_data"
   ]
  },
  {
   "cell_type": "code",
   "execution_count": 2,
   "id": "d6302d10",
   "metadata": {
    "execution": {
     "iopub.execute_input": "2024-08-21T12:10:43.879638Z",
     "iopub.status.busy": "2024-08-21T12:10:43.879488Z",
     "iopub.status.idle": "2024-08-21T12:10:43.882065Z",
     "shell.execute_reply": "2024-08-21T12:10:43.881843Z"
    },
    "papermill": {
     "duration": 0.005026,
     "end_time": "2024-08-21T12:10:43.882892",
     "exception": false,
     "start_time": "2024-08-21T12:10:43.877866",
     "status": "completed"
    },
    "tags": []
   },
   "outputs": [],
   "source": [
    "# Setting so that the plots look normal even when using dark-reader\n",
    "sn.set_style(\"whitegrid\")\n",
    "sn.set_context(context=\"paper\", font_scale=2)\n",
    "pal = sn.color_palette(\"Set1\")\n",
    "\n",
    "# Setting up specifics for plotting + saving\n",
    "save_figures = True\n",
    "add_legend = False\n",
    "add_title = False\n",
    "add_axis = False\n",
    "save_parms = {'format': 'pdf','bbox_inches':'tight', 'pad_inches':0.1}\n",
    "line_parms = {'linewidth':4, 'color':'k'}\n",
    "if save_figures:  # saves all figures in a figure directory in the local directory\n",
    "    figure_dir = Path('.') / 'figures' / 'adult-income-experiment'\n",
    "    if not figure_dir.exists():\n",
    "        figure_dir.mkdir(parents=True)"
   ]
  },
  {
   "cell_type": "code",
   "execution_count": 3,
   "id": "22d1d0e0",
   "metadata": {
    "execution": {
     "iopub.execute_input": "2024-08-21T12:10:43.885916Z",
     "iopub.status.busy": "2024-08-21T12:10:43.885810Z",
     "iopub.status.idle": "2024-08-21T12:10:43.887478Z",
     "shell.execute_reply": "2024-08-21T12:10:43.887258Z"
    },
    "papermill": {
     "duration": 0.004061,
     "end_time": "2024-08-21T12:10:43.888193",
     "exception": false,
     "start_time": "2024-08-21T12:10:43.884132",
     "status": "completed"
    },
    "tags": []
   },
   "outputs": [],
   "source": [
    "# Experiment hyperparamters\n",
    "rng = np.random.RandomState(42)\n",
    "split_on_income = False  # if True: src := income>=50k, tgt :+ income<50k, if False: src := male, tgt := female\n",
    "n_samples = 1000"
   ]
  },
  {
   "cell_type": "code",
   "execution_count": 4,
   "id": "48ff09ec",
   "metadata": {
    "execution": {
     "iopub.execute_input": "2024-08-21T12:10:43.891082Z",
     "iopub.status.busy": "2024-08-21T12:10:43.890982Z",
     "iopub.status.idle": "2024-08-21T12:10:43.892395Z",
     "shell.execute_reply": "2024-08-21T12:10:43.892176Z"
    },
    "papermill": {
     "duration": 0.003745,
     "end_time": "2024-08-21T12:10:43.893148",
     "exception": false,
     "start_time": "2024-08-21T12:10:43.889403",
     "status": "completed"
    },
    "tags": [
     "parameters"
    ]
   },
   "outputs": [],
   "source": [
    "comparison_id = None"
   ]
  },
  {
   "cell_type": "code",
   "execution_count": 5,
   "id": "d582b304",
   "metadata": {
    "execution": {
     "iopub.execute_input": "2024-08-21T12:10:43.896524Z",
     "iopub.status.busy": "2024-08-21T12:10:43.896391Z",
     "iopub.status.idle": "2024-08-21T12:10:43.898033Z",
     "shell.execute_reply": "2024-08-21T12:10:43.897783Z"
    },
    "papermill": {
     "duration": 0.004288,
     "end_time": "2024-08-21T12:10:43.898821",
     "exception": false,
     "start_time": "2024-08-21T12:10:43.894533",
     "status": "completed"
    },
    "tags": [
     "injected-parameters"
    ]
   },
   "outputs": [],
   "source": [
    "# Parameters\n",
    "comparison_id = 0\n"
   ]
  },
  {
   "cell_type": "code",
   "execution_count": 6,
   "id": "dade2b7e",
   "metadata": {
    "execution": {
     "iopub.execute_input": "2024-08-21T12:10:43.901754Z",
     "iopub.status.busy": "2024-08-21T12:10:43.901658Z",
     "iopub.status.idle": "2024-08-21T12:10:43.918673Z",
     "shell.execute_reply": "2024-08-21T12:10:43.918404Z"
    },
    "papermill": {
     "duration": 0.019367,
     "end_time": "2024-08-21T12:10:43.919506",
     "exception": false,
     "start_time": "2024-08-21T12:10:43.900139",
     "status": "completed"
    },
    "tags": []
   },
   "outputs": [
    {
     "name": "stdout",
     "output_type": "stream",
     "text": [
      "Comparing customer_profile_0 and customer_profile_1\n",
      "Finished preprocessing logistic dataset. Split on customer_profile_0 and customer_profile_1 with resulting source shape: (996, 3), target shape: (996, 3).\n",
      "['Connection', 'Weight', 'Unit_type']\n"
     ]
    }
   ],
   "source": [
    "\n",
    "# Load the data\n",
    "comparison_dict = {0: [0,1], 1: [2,3], 2: [4,5]}\n",
    "path_customer_profiles = open('./Results_Experiments/File_Paths/path_customer_profiles.txt','r').read()\n",
    "path_transport_graphics = open('./Results_Experiments/File_Paths/path_transport_graphics.txt','r').read()\n",
    "source = pd.read_csv(f'../{path_customer_profiles}/customer_profile_{comparison_dict[comparison_id][0]}.csv')\n",
    "target = pd.read_csv(f'../{path_customer_profiles}/customer_profile_{comparison_dict[comparison_id][1]}.csv')\n",
    "equal_week_split = True\n",
    "source, target, feature_names = load_and_preprocess_logistics_data(rng, n_samples, return_column_names=True,equal_week_split=equal_week_split, comparison_id=\n",
    "            comparison_id, comparison_dict=comparison_dict)\n",
    "print(feature_names)"
   ]
  },
  {
   "cell_type": "code",
   "execution_count": 7,
   "id": "296df3b5",
   "metadata": {
    "execution": {
     "iopub.execute_input": "2024-08-21T12:10:43.922593Z",
     "iopub.status.busy": "2024-08-21T12:10:43.922501Z",
     "iopub.status.idle": "2024-08-21T12:10:43.924901Z",
     "shell.execute_reply": "2024-08-21T12:10:43.924674Z"
    },
    "papermill": {
     "duration": 0.004731,
     "end_time": "2024-08-21T12:10:43.925647",
     "exception": false,
     "start_time": "2024-08-21T12:10:43.920916",
     "status": "completed"
    },
    "tags": []
   },
   "outputs": [],
   "source": [
    "# standardize the source and target data, and convert to domain labels\n",
    "from sklearn.preprocessing import StandardScaler\n",
    "X = np.concatenate((source, target), axis=0)\n",
    "# standardize X to remove cardinatlity bias\n",
    "X = StandardScaler().fit_transform(X)\n",
    "y = np.concatenate((np.zeros(source.shape[0]),\n",
    "                    np.ones(target.shape[0])), axis=0)  # domain labels"
   ]
  },
  {
   "cell_type": "code",
   "execution_count": 8,
   "id": "c5422e1f",
   "metadata": {
    "execution": {
     "iopub.execute_input": "2024-08-21T12:10:43.928628Z",
     "iopub.status.busy": "2024-08-21T12:10:43.928533Z",
     "iopub.status.idle": "2024-08-21T12:10:43.977183Z",
     "shell.execute_reply": "2024-08-21T12:10:43.976876Z"
    },
    "papermill": {
     "duration": 0.051229,
     "end_time": "2024-08-21T12:10:43.978150",
     "exception": false,
     "start_time": "2024-08-21T12:10:43.926921",
     "status": "completed"
    },
    "tags": []
   },
   "outputs": [],
   "source": [
    "from sklearn.datasets import make_classification\n",
    "from sklearn.model_selection import train_test_split\n",
    "\n",
    "X_train, X_test, y_train, y_test = train_test_split(X, y,\n",
    "                                     stratify=y, random_state=42)"
   ]
  },
  {
   "cell_type": "code",
   "execution_count": 9,
   "id": "5d9ba299",
   "metadata": {
    "execution": {
     "iopub.execute_input": "2024-08-21T12:10:43.981441Z",
     "iopub.status.busy": "2024-08-21T12:10:43.981296Z",
     "iopub.status.idle": "2024-08-21T12:10:43.995922Z",
     "shell.execute_reply": "2024-08-21T12:10:43.995658Z"
    },
    "papermill": {
     "duration": 0.017206,
     "end_time": "2024-08-21T12:10:43.996855",
     "exception": false,
     "start_time": "2024-08-21T12:10:43.979649",
     "status": "completed"
    },
    "tags": []
   },
   "outputs": [],
   "source": [
    "# Using XGBoost\n",
    "import xgboost\n",
    "\n",
    "def fit_xgboost(X_train, y_train, X_test, y_test, feature_names=None):\n",
    "    \"\"\" Train an XGBoost model with early stopping.\n",
    "    \"\"\"\n",
    "    dtrain = xgboost.DMatrix(X_train, label=y_train, feature_names=feature_names)\n",
    "    dtest = xgboost.DMatrix(X_test, label=y_test, feature_names=feature_names)\n",
    "    # model = xgboost.train(\n",
    "    #     { \"eta\": 0.001, \"subsample\": 0.5, \"max_depth\": 2,\n",
    "    #       \"objective\": 'binary:logistic', 'eval_metric': 'logloss'}, dtrain, num_boost_round=200000,\n",
    "    #     evals=[(dtest,'eval'), (dtrain,'train')], early_stopping_rounds=20, verbose_eval=False\n",
    "    # )\n",
    "    model = xgboost.train(\n",
    "        {\"objective\": 'binary:logistic', 'eval_metric': 'logloss'},\n",
    "        dtrain,\n",
    "        evals=[(dtest,'eval'), (dtrain,'train')],\n",
    "        verbose_eval=False)\n",
    "    return model"
   ]
  },
  {
   "cell_type": "code",
   "execution_count": 10,
   "id": "bd7ac9f1",
   "metadata": {
    "execution": {
     "iopub.execute_input": "2024-08-21T12:10:43.999996Z",
     "iopub.status.busy": "2024-08-21T12:10:43.999891Z",
     "iopub.status.idle": "2024-08-21T12:10:44.014693Z",
     "shell.execute_reply": "2024-08-21T12:10:44.014447Z"
    },
    "papermill": {
     "duration": 0.017234,
     "end_time": "2024-08-21T12:10:44.015509",
     "exception": false,
     "start_time": "2024-08-21T12:10:43.998275",
     "status": "completed"
    },
    "tags": []
   },
   "outputs": [],
   "source": [
    "xgb_forest = fit_xgboost(X_train, y_train, X_test, y_test, feature_names)\n",
    "xgb_forest.feature_names = feature_names"
   ]
  },
  {
   "cell_type": "code",
   "execution_count": 11,
   "id": "dcaa3020",
   "metadata": {
    "execution": {
     "iopub.execute_input": "2024-08-21T12:10:44.018571Z",
     "iopub.status.busy": "2024-08-21T12:10:44.018468Z",
     "iopub.status.idle": "2024-08-21T12:10:44.020357Z",
     "shell.execute_reply": "2024-08-21T12:10:44.020159Z"
    },
    "papermill": {
     "duration": 0.004204,
     "end_time": "2024-08-21T12:10:44.021088",
     "exception": false,
     "start_time": "2024-08-21T12:10:44.016884",
     "status": "completed"
    },
    "tags": []
   },
   "outputs": [],
   "source": [
    "def get_acc(model, samples, labels, feature_names=None):\n",
    "    predictions = (model.predict(xgboost.DMatrix(samples,\n",
    "                                                 feature_names=feature_names)) > 0.5).astype(int)\n",
    "    return (predictions == labels).sum() / predictions.shape[0]"
   ]
  },
  {
   "cell_type": "code",
   "execution_count": 12,
   "id": "7ce6b380",
   "metadata": {
    "execution": {
     "iopub.execute_input": "2024-08-21T12:10:44.024030Z",
     "iopub.status.busy": "2024-08-21T12:10:44.023939Z",
     "iopub.status.idle": "2024-08-21T12:10:44.026658Z",
     "shell.execute_reply": "2024-08-21T12:10:44.026432Z"
    },
    "papermill": {
     "duration": 0.005027,
     "end_time": "2024-08-21T12:10:44.027377",
     "exception": false,
     "start_time": "2024-08-21T12:10:44.022350",
     "status": "completed"
    },
    "tags": []
   },
   "outputs": [
    {
     "name": "stdout",
     "output_type": "stream",
     "text": [
      "Train score: 0.7597054886211513\n",
      "Test score: 0.6204819277108434\n"
     ]
    }
   ],
   "source": [
    "print('Train score:', get_acc(xgb_forest, X_train, y_train, feature_names))\n",
    "print('Test score:', get_acc(xgb_forest, X_test, y_test, feature_names))"
   ]
  },
  {
   "cell_type": "code",
   "execution_count": 13,
   "id": "97a1d2b0",
   "metadata": {
    "execution": {
     "iopub.execute_input": "2024-08-21T12:10:44.030411Z",
     "iopub.status.busy": "2024-08-21T12:10:44.030319Z",
     "iopub.status.idle": "2024-08-21T12:10:44.267777Z",
     "shell.execute_reply": "2024-08-21T12:10:44.267524Z"
    },
    "papermill": {
     "duration": 0.239997,
     "end_time": "2024-08-21T12:10:44.268710",
     "exception": false,
     "start_time": "2024-08-21T12:10:44.028713",
     "status": "completed"
    },
    "tags": []
   },
   "outputs": [],
   "source": [
    "import shap\n",
    "import pandas as pd\n",
    "explainer = shap.Explainer(xgb_forest)\n",
    "\n",
    "shap_values = explainer(pd.DataFrame(X_test, columns=feature_names))\n"
   ]
  },
  {
   "cell_type": "code",
   "execution_count": 14,
   "id": "8e7a54a8",
   "metadata": {
    "execution": {
     "iopub.execute_input": "2024-08-21T12:10:44.272090Z",
     "iopub.status.busy": "2024-08-21T12:10:44.271942Z",
     "iopub.status.idle": "2024-08-21T12:10:44.560286Z",
     "shell.execute_reply": "2024-08-21T12:10:44.560020Z"
    },
    "papermill": {
     "duration": 0.290922,
     "end_time": "2024-08-21T12:10:44.561179",
     "exception": false,
     "start_time": "2024-08-21T12:10:44.270257",
     "status": "completed"
    },
    "tags": []
   },
   "outputs": [
    {
     "data": {
      "image/png": "[encoded data removed]",
      "text/plain": [
       "<Figure size 400x100 with 2 Axes>"
      ]
     },
     "metadata": {},
     "output_type": "display_data"
    }
   ],
   "source": [
    "# Beeswarm plot\n",
    "\n",
    "shap.plots.beeswarm(shap_values, show=False)\n",
    "fig = plt.gcf()\n",
    "fig.set_size_inches(4, 1, forward=True)\n",
    "if save_figures: plt.savefig(\n",
    "    f'../{path_transport_graphics}/logitics_data_on_customer_profile_{comparison_dict[comparison_id][0]} and customer_profile_{comparison_dict[comparison_id][1]}-shap-value.{save_parms[\"format\"]}',\n",
    "    **save_parms\n",
    "    )\n",
    "plt.show()"
   ]
  }
 ],
 "metadata": {
  "kernelspec": {
   "display_name": "Python 3.7.11 ('py37')",
   "language": "python",
   "name": "python3"
  },
  "language_info": {
   "codemirror_mode": {
    "name": "ipython",
    "version": 3
   },
   "file_extension": ".py",
   "mimetype": "text/x-python",
   "name": "python",
   "nbconvert_exporter": "python",
   "pygments_lexer": "ipython3",
   "version": "3.12.0"
  },
  "papermill": {
   "default_parameters": {},
   "duration": 2.569784,
   "end_time": "2024-08-21T12:10:44.880108",
   "environment_variables": {},
   "exception": null,
   "input_path": "experiment_baseline.ipynb",
   "output_path": "./Results_Experiments/Set_number_of_connections_to_10/experiment_baseline_1.ipynb",
   "parameters": {
    "comparison_id": 0
   },
   "start_time": "2024-08-21T12:10:42.310324",
   "version": "2.6.0"
  },
  "vscode": {
   "interpreter": {
    "hash": "5ab0220f0ca30ec7bac8a7e209564eceae6d15412b9f87f3c2f91206aa8b151c"
   }
  }
 },
 "nbformat": 4,
 "nbformat_minor": 5
}