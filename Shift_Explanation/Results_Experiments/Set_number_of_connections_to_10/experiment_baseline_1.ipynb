{
 "cells": [
  {
   "cell_type": "code",
   "execution_count": 1,
   "id": "d05cab18",
   "metadata": {
    "execution": {
     "iopub.execute_input": "2024-08-21T09:48:11.040382Z",
     "iopub.status.busy": "2024-08-21T09:48:11.039894Z",
     "iopub.status.idle": "2024-08-21T09:48:12.021058Z",
     "shell.execute_reply": "2024-08-21T09:48:12.020668Z"
    },
    "papermill": {
     "duration": 0.991398,
     "end_time": "2024-08-21T09:48:12.025024",
     "exception": false,
     "start_time": "2024-08-21T09:48:11.033626",
     "status": "completed"
    },
    "tags": []
   },
   "outputs": [],
   "source": [
    "import matplotlib.pyplot as plt\n",
    "import numpy as np\n",
    "import pandas as pd\n",
    "from pathlib import Path\n",
    "import seaborn as sn\n"
   ]
  },
  {
   "cell_type": "code",
   "execution_count": 2,
   "id": "d6302d10",
   "metadata": {
    "execution": {
     "iopub.execute_input": "2024-08-21T09:48:12.029445Z",
     "iopub.status.busy": "2024-08-21T09:48:12.029282Z",
     "iopub.status.idle": "2024-08-21T09:48:12.032220Z",
     "shell.execute_reply": "2024-08-21T09:48:12.031995Z"
    },
    "papermill": {
     "duration": 0.005615,
     "end_time": "2024-08-21T09:48:12.033072",
     "exception": false,
     "start_time": "2024-08-21T09:48:12.027457",
     "status": "completed"
    },
    "tags": []
   },
   "outputs": [],
   "source": [
    "# Setting so that the plots look normal even when using dark-reader\n",
    "sn.set_style(\"whitegrid\")\n",
    "sn.set_context(context=\"paper\", font_scale=2)\n",
    "pal = sn.color_palette(\"Set1\")\n",
    "\n",
    "# Setting up specifics for plotting + saving\n",
    "save_figures = True\n",
    "add_legend = False\n",
    "add_title = False\n",
    "add_axis = False\n",
    "save_parms = {'format': 'pdf','bbox_inches':'tight', 'pad_inches':0.1}\n",
    "line_parms = {'linewidth':4, 'color':'k'}\n",
    "if save_figures:  # saves all figures in a figure directory in the local directory\n",
    "    figure_dir = Path('.') / 'figures' / 'adult-income-experiment'\n",
    "    if not figure_dir.exists():\n",
    "        figure_dir.mkdir(parents=True)"
   ]
  },
  {
   "cell_type": "code",
   "execution_count": 3,
   "id": "22d1d0e0",
   "metadata": {
    "execution": {
     "iopub.execute_input": "2024-08-21T09:48:12.037175Z",
     "iopub.status.busy": "2024-08-21T09:48:12.037031Z",
     "iopub.status.idle": "2024-08-21T09:48:12.039027Z",
     "shell.execute_reply": "2024-08-21T09:48:12.038758Z"
    },
    "papermill": {
     "duration": 0.005165,
     "end_time": "2024-08-21T09:48:12.039999",
     "exception": false,
     "start_time": "2024-08-21T09:48:12.034834",
     "status": "completed"
    },
    "tags": []
   },
   "outputs": [],
   "source": [
    "# Experiment hyperparamters\n",
    "rng = np.random.RandomState(42)\n",
    "split_on_income = False  # if True: src := income>=50k, tgt :+ income<50k, if False: src := male, tgt := female\n",
    "n_samples = 1000"
   ]
  },
  {
   "cell_type": "code",
   "execution_count": 4,
   "id": "48ff09ec",
   "metadata": {
    "execution": {
     "iopub.execute_input": "2024-08-21T09:48:12.044413Z",
     "iopub.status.busy": "2024-08-21T09:48:12.044275Z",
     "iopub.status.idle": "2024-08-21T09:48:12.046019Z",
     "shell.execute_reply": "2024-08-21T09:48:12.045743Z"
    },
    "papermill": {
     "duration": 0.00556,
     "end_time": "2024-08-21T09:48:12.046968",
     "exception": false,
     "start_time": "2024-08-21T09:48:12.041408",
     "status": "completed"
    },
    "tags": [
     "parameters"
    ]
   },
   "outputs": [],
   "source": [
    "comparison_id = None"
   ]
  },
  {
   "cell_type": "code",
   "execution_count": 5,
   "id": "b4155816",
   "metadata": {
    "execution": {
     "iopub.execute_input": "2024-08-21T09:48:12.051247Z",
     "iopub.status.busy": "2024-08-21T09:48:12.051034Z",
     "iopub.status.idle": "2024-08-21T09:48:12.053038Z",
     "shell.execute_reply": "2024-08-21T09:48:12.052757Z"
    },
    "papermill": {
     "duration": 0.005205,
     "end_time": "2024-08-21T09:48:12.053941",
     "exception": false,
     "start_time": "2024-08-21T09:48:12.048736",
     "status": "completed"
    },
    "tags": [
     "injected-parameters"
    ]
   },
   "outputs": [],
   "source": [
    "# Parameters\n",
    "comparison_id = 0\n"
   ]
  },
  {
   "cell_type": "code",
   "execution_count": 6,
   "id": "dade2b7e",
   "metadata": {
    "execution": {
     "iopub.execute_input": "2024-08-21T09:48:12.057619Z",
     "iopub.status.busy": "2024-08-21T09:48:12.057430Z",
     "iopub.status.idle": "2024-08-21T09:48:12.066968Z",
     "shell.execute_reply": "2024-08-21T09:48:12.066718Z"
    },
    "papermill": {
     "duration": 0.012449,
     "end_time": "2024-08-21T09:48:12.068119",
     "exception": false,
     "start_time": "2024-08-21T09:48:12.055670",
     "status": "completed"
    },
    "tags": []
   },
   "outputs": [
    {
     "name": "stdout",
     "output_type": "stream",
     "text": [
      "['Customer_id', 'Connection', 'Weight', 'Unit_type', 'Day', 'Week']\n"
     ]
    }
   ],
   "source": [
    "\n",
    "# Load the data\n",
    "comparison_dict = {0: [0,1], 1: [2,3], 2: [4,5]}\n",
    "path_customer_profiles = open('./Results_Experiments/File_Paths/path_customer_profiles.txt','r').read()\n",
    "path_transport_graphics = open('./Results_Experiments/File_Paths/path_transport_graphics.txt','r').read()\n",
    "source = pd.read_csv(f'../{path_customer_profiles}/customer_profile_{comparison_dict[comparison_id][0]}.csv')\n",
    "target = pd.read_csv(f'../{path_customer_profiles}/customer_profile_{comparison_dict[comparison_id][1]}.csv')\n",
    "\n",
    "feature_names = source.columns.values\n",
    "feature_names = list(feature_names)\n",
    "print(feature_names)"
   ]
  },
  {
   "cell_type": "code",
   "execution_count": 7,
   "id": "296df3b5",
   "metadata": {
    "execution": {
     "iopub.execute_input": "2024-08-21T09:48:12.071437Z",
     "iopub.status.busy": "2024-08-21T09:48:12.071326Z",
     "iopub.status.idle": "2024-08-21T09:48:12.111491Z",
     "shell.execute_reply": "2024-08-21T09:48:12.111193Z"
    },
    "papermill": {
     "duration": 0.042851,
     "end_time": "2024-08-21T09:48:12.112474",
     "exception": false,
     "start_time": "2024-08-21T09:48:12.069623",
     "status": "completed"
    },
    "tags": []
   },
   "outputs": [],
   "source": [
    "# standardize the source and target data, and convert to domain labels\n",
    "from sklearn.preprocessing import StandardScaler\n",
    "X = np.concatenate((source, target), axis=0)\n",
    "# standardize X to remove cardinatlity bias\n",
    "X = StandardScaler().fit_transform(X)\n",
    "y = np.concatenate((np.zeros(source.shape[0]),\n",
    "                    np.ones(target.shape[0])), axis=0)  # domain labels"
   ]
  },
  {
   "cell_type": "code",
   "execution_count": 8,
   "id": "c5422e1f",
   "metadata": {
    "execution": {
     "iopub.execute_input": "2024-08-21T09:48:12.115828Z",
     "iopub.status.busy": "2024-08-21T09:48:12.115666Z",
     "iopub.status.idle": "2024-08-21T09:48:12.176322Z",
     "shell.execute_reply": "2024-08-21T09:48:12.175993Z"
    },
    "papermill": {
     "duration": 0.06343,
     "end_time": "2024-08-21T09:48:12.177376",
     "exception": false,
     "start_time": "2024-08-21T09:48:12.113946",
     "status": "completed"
    },
    "tags": []
   },
   "outputs": [],
   "source": [
    "from sklearn.datasets import make_classification\n",
    "from sklearn.model_selection import train_test_split\n",
    "\n",
    "X_train, X_test, y_train, y_test = train_test_split(X, y,\n",
    "                                     stratify=y, random_state=42)"
   ]
  },
  {
   "cell_type": "code",
   "execution_count": 9,
   "id": "5d9ba299",
   "metadata": {
    "execution": {
     "iopub.execute_input": "2024-08-21T09:48:12.181015Z",
     "iopub.status.busy": "2024-08-21T09:48:12.180843Z",
     "iopub.status.idle": "2024-08-21T09:48:12.203982Z",
     "shell.execute_reply": "2024-08-21T09:48:12.203526Z"
    },
    "papermill": {
     "duration": 0.026891,
     "end_time": "2024-08-21T09:48:12.205897",
     "exception": false,
     "start_time": "2024-08-21T09:48:12.179006",
     "status": "completed"
    },
    "tags": []
   },
   "outputs": [],
   "source": [
    "# Using XGBoost\n",
    "import xgboost\n",
    "\n",
    "def fit_xgboost(X_train, y_train, X_test, y_test, feature_names=None):\n",
    "    \"\"\" Train an XGBoost model with early stopping.\n",
    "    \"\"\"\n",
    "    dtrain = xgboost.DMatrix(X_train, label=y_train, feature_names=feature_names)\n",
    "    dtest = xgboost.DMatrix(X_test, label=y_test, feature_names=feature_names)\n",
    "    # model = xgboost.train(\n",
    "    #     { \"eta\": 0.001, \"subsample\": 0.5, \"max_depth\": 2,\n",
    "    #       \"objective\": 'binary:logistic', 'eval_metric': 'logloss'}, dtrain, num_boost_round=200000,\n",
    "    #     evals=[(dtest,'eval'), (dtrain,'train')], early_stopping_rounds=20, verbose_eval=False\n",
    "    # )\n",
    "    model = xgboost.train(\n",
    "        {\"objective\": 'binary:logistic', 'eval_metric': 'logloss'},\n",
    "        dtrain,\n",
    "        evals=[(dtest,'eval'), (dtrain,'train')],\n",
    "        verbose_eval=False)\n",
    "    return model"
   ]
  },
  {
   "cell_type": "code",
   "execution_count": 10,
   "id": "bd7ac9f1",
   "metadata": {
    "execution": {
     "iopub.execute_input": "2024-08-21T09:48:12.212006Z",
     "iopub.status.busy": "2024-08-21T09:48:12.211862Z",
     "iopub.status.idle": "2024-08-21T09:48:12.234749Z",
     "shell.execute_reply": "2024-08-21T09:48:12.234488Z"
    },
    "papermill": {
     "duration": 0.026303,
     "end_time": "2024-08-21T09:48:12.235690",
     "exception": false,
     "start_time": "2024-08-21T09:48:12.209387",
     "status": "completed"
    },
    "tags": []
   },
   "outputs": [],
   "source": [
    "xgb_forest = fit_xgboost(X_train, y_train, X_test, y_test, feature_names)\n",
    "xgb_forest.feature_names = feature_names"
   ]
  },
  {
   "cell_type": "code",
   "execution_count": 11,
   "id": "dcaa3020",
   "metadata": {
    "execution": {
     "iopub.execute_input": "2024-08-21T09:48:12.239226Z",
     "iopub.status.busy": "2024-08-21T09:48:12.239108Z",
     "iopub.status.idle": "2024-08-21T09:48:12.241111Z",
     "shell.execute_reply": "2024-08-21T09:48:12.240829Z"
    },
    "papermill": {
     "duration": 0.004791,
     "end_time": "2024-08-21T09:48:12.242081",
     "exception": false,
     "start_time": "2024-08-21T09:48:12.237290",
     "status": "completed"
    },
    "tags": []
   },
   "outputs": [],
   "source": [
    "def get_acc(model, samples, labels, feature_names=None):\n",
    "    predictions = (model.predict(xgboost.DMatrix(samples,\n",
    "                                                 feature_names=feature_names)) > 0.5).astype(int)\n",
    "    return (predictions == labels).sum() / predictions.shape[0]"
   ]
  },
  {
   "cell_type": "code",
   "execution_count": 12,
   "id": "7ce6b380",
   "metadata": {
    "execution": {
     "iopub.execute_input": "2024-08-21T09:48:12.245374Z",
     "iopub.status.busy": "2024-08-21T09:48:12.245257Z",
     "iopub.status.idle": "2024-08-21T09:48:12.248998Z",
     "shell.execute_reply": "2024-08-21T09:48:12.248704Z"
    },
    "papermill": {
     "duration": 0.006283,
     "end_time": "2024-08-21T09:48:12.249828",
     "exception": false,
     "start_time": "2024-08-21T09:48:12.243545",
     "status": "completed"
    },
    "tags": []
   },
   "outputs": [
    {
     "name": "stdout",
     "output_type": "stream",
     "text": [
      "Train score: 0.8815651260504201\n",
      "Test score: 0.8773956419007614\n"
     ]
    }
   ],
   "source": [
    "print('Train score:', get_acc(xgb_forest, X_train, y_train, feature_names))\n",
    "print('Test score:', get_acc(xgb_forest, X_test, y_test, feature_names))"
   ]
  },
  {
   "cell_type": "code",
   "execution_count": 13,
   "id": "97a1d2b0",
   "metadata": {
    "execution": {
     "iopub.execute_input": "2024-08-21T09:48:12.253147Z",
     "iopub.status.busy": "2024-08-21T09:48:12.253033Z",
     "iopub.status.idle": "2024-08-21T09:48:12.602064Z",
     "shell.execute_reply": "2024-08-21T09:48:12.601767Z"
    },
    "papermill": {
     "duration": 0.351786,
     "end_time": "2024-08-21T09:48:12.603075",
     "exception": false,
     "start_time": "2024-08-21T09:48:12.251289",
     "status": "completed"
    },
    "tags": []
   },
   "outputs": [],
   "source": [
    "import shap\n",
    "import pandas as pd\n",
    "explainer = shap.Explainer(xgb_forest)\n",
    "\n",
    "shap_values = explainer(pd.DataFrame(X_test, columns=feature_names))\n"
   ]
  },
  {
   "cell_type": "code",
   "execution_count": 14,
   "id": "8e7a54a8",
   "metadata": {
    "execution": {
     "iopub.execute_input": "2024-08-21T09:48:12.606501Z",
     "iopub.status.busy": "2024-08-21T09:48:12.606344Z",
     "iopub.status.idle": "2024-08-21T09:48:13.132157Z",
     "shell.execute_reply": "2024-08-21T09:48:13.131753Z"
    },
    "papermill": {
     "duration": 0.531942,
     "end_time": "2024-08-21T09:48:13.136585",
     "exception": false,
     "start_time": "2024-08-21T09:48:12.604643",
     "status": "completed"
    },
    "tags": []
   },
   "outputs": [
    {
     "data": {
      "image/png": "[encoded data removed]",
      "text/plain": [
       "<Figure size 400x200 with 2 Axes>"
      ]
     },
     "metadata": {},
     "output_type": "display_data"
    }
   ],
   "source": [
    "# Beeswarm plot\n",
    "\n",
    "shap.plots.beeswarm(shap_values, show=False)\n",
    "fig = plt.gcf()\n",
    "fig.set_size_inches(4, 2, forward=True)\n",
    "if save_figures: plt.savefig(\n",
    "    f'../{path_transport_graphics}/logitics_data_on_customer_profile_{comparison_dict[comparison_id][0]} and customer_profile_{comparison_dict[comparison_id][1]}-shap-value.{save_parms[\"format\"]}',\n",
    "    **save_parms\n",
    "    )\n",
    "plt.show()"
   ]
  }
 ],
 "metadata": {
  "kernelspec": {
   "display_name": "Python 3.7.11 ('py37')",
   "language": "python",
   "name": "python3"
  },
  "language_info": {
   "codemirror_mode": {
    "name": "ipython",
    "version": 3
   },
   "file_extension": ".py",
   "mimetype": "text/x-python",
   "name": "python",
   "nbconvert_exporter": "python",
   "pygments_lexer": "ipython3",
   "version": "3.12.0"
  },
  "papermill": {
   "default_parameters": {},
   "duration": 3.282505,
   "end_time": "2024-08-21T09:48:13.458952",
   "environment_variables": {},
   "exception": null,
   "input_path": "experiment_baseline.ipynb",
   "output_path": "./Results_Experiments/Set_number_of_connections_to_10/experiment_baseline_1.ipynb",
   "parameters": {
    "comparison_id": 0
   },
   "start_time": "2024-08-21T09:48:10.176447",
   "version": "2.6.0"
  },
  "vscode": {
   "interpreter": {
    "hash": "5ab0220f0ca30ec7bac8a7e209564eceae6d15412b9f87f3c2f91206aa8b151c"
   }
  }
 },
 "nbformat": 4,
 "nbformat_minor": 5
}