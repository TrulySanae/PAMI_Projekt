{
 "cells": [
  {
   "cell_type": "code",
   "execution_count": 1,
   "id": "d05cab18",
   "metadata": {
    "execution": {
     "iopub.execute_input": "2024-08-21T09:48:17.740989Z",
     "iopub.status.busy": "2024-08-21T09:48:17.740759Z",
     "iopub.status.idle": "2024-08-21T09:48:18.835851Z",
     "shell.execute_reply": "2024-08-21T09:48:18.835487Z"
    },
    "papermill": {
     "duration": 1.101017,
     "end_time": "2024-08-21T09:48:18.837906",
     "exception": false,
     "start_time": "2024-08-21T09:48:17.736889",
     "status": "completed"
    },
    "tags": []
   },
   "outputs": [],
   "source": [
    "import matplotlib.pyplot as plt\n",
    "import numpy as np\n",
    "import pandas as pd\n",
    "from pathlib import Path\n",
    "import seaborn as sn\n"
   ]
  },
  {
   "cell_type": "code",
   "execution_count": 2,
   "id": "d6302d10",
   "metadata": {
    "execution": {
     "iopub.execute_input": "2024-08-21T09:48:18.842782Z",
     "iopub.status.busy": "2024-08-21T09:48:18.842486Z",
     "iopub.status.idle": "2024-08-21T09:48:18.846163Z",
     "shell.execute_reply": "2024-08-21T09:48:18.845860Z"
    },
    "papermill": {
     "duration": 0.006804,
     "end_time": "2024-08-21T09:48:18.847119",
     "exception": false,
     "start_time": "2024-08-21T09:48:18.840315",
     "status": "completed"
    },
    "tags": []
   },
   "outputs": [],
   "source": [
    "# Setting so that the plots look normal even when using dark-reader\n",
    "sn.set_style(\"whitegrid\")\n",
    "sn.set_context(context=\"paper\", font_scale=2)\n",
    "pal = sn.color_palette(\"Set1\")\n",
    "\n",
    "# Setting up specifics for plotting + saving\n",
    "save_figures = True\n",
    "add_legend = False\n",
    "add_title = False\n",
    "add_axis = False\n",
    "save_parms = {'format': 'pdf','bbox_inches':'tight', 'pad_inches':0.1}\n",
    "line_parms = {'linewidth':4, 'color':'k'}\n",
    "if save_figures:  # saves all figures in a figure directory in the local directory\n",
    "    figure_dir = Path('.') / 'figures' / 'adult-income-experiment'\n",
    "    if not figure_dir.exists():\n",
    "        figure_dir.mkdir(parents=True)"
   ]
  },
  {
   "cell_type": "code",
   "execution_count": 3,
   "id": "22d1d0e0",
   "metadata": {
    "execution": {
     "iopub.execute_input": "2024-08-21T09:48:18.851019Z",
     "iopub.status.busy": "2024-08-21T09:48:18.850766Z",
     "iopub.status.idle": "2024-08-21T09:48:18.853265Z",
     "shell.execute_reply": "2024-08-21T09:48:18.852888Z"
    },
    "papermill": {
     "duration": 0.005209,
     "end_time": "2024-08-21T09:48:18.854163",
     "exception": false,
     "start_time": "2024-08-21T09:48:18.848954",
     "status": "completed"
    },
    "tags": []
   },
   "outputs": [],
   "source": [
    "# Experiment hyperparamters\n",
    "rng = np.random.RandomState(42)\n",
    "split_on_income = False  # if True: src := income>=50k, tgt :+ income<50k, if False: src := male, tgt := female\n",
    "n_samples = 1000"
   ]
  },
  {
   "cell_type": "code",
   "execution_count": 4,
   "id": "48ff09ec",
   "metadata": {
    "execution": {
     "iopub.execute_input": "2024-08-21T09:48:18.857491Z",
     "iopub.status.busy": "2024-08-21T09:48:18.857346Z",
     "iopub.status.idle": "2024-08-21T09:48:18.860450Z",
     "shell.execute_reply": "2024-08-21T09:48:18.859484Z"
    },
    "papermill": {
     "duration": 0.006408,
     "end_time": "2024-08-21T09:48:18.862022",
     "exception": false,
     "start_time": "2024-08-21T09:48:18.855614",
     "status": "completed"
    },
    "tags": [
     "parameters"
    ]
   },
   "outputs": [],
   "source": [
    "comparison_id = None"
   ]
  },
  {
   "cell_type": "code",
   "execution_count": 5,
   "id": "c0870f73",
   "metadata": {
    "execution": {
     "iopub.execute_input": "2024-08-21T09:48:18.865931Z",
     "iopub.status.busy": "2024-08-21T09:48:18.865735Z",
     "iopub.status.idle": "2024-08-21T09:48:18.870345Z",
     "shell.execute_reply": "2024-08-21T09:48:18.867289Z"
    },
    "papermill": {
     "duration": 0.008494,
     "end_time": "2024-08-21T09:48:18.872034",
     "exception": false,
     "start_time": "2024-08-21T09:48:18.863540",
     "status": "completed"
    },
    "tags": [
     "injected-parameters"
    ]
   },
   "outputs": [],
   "source": [
    "# Parameters\n",
    "comparison_id = 2\n"
   ]
  },
  {
   "cell_type": "code",
   "execution_count": 6,
   "id": "dade2b7e",
   "metadata": {
    "execution": {
     "iopub.execute_input": "2024-08-21T09:48:18.877823Z",
     "iopub.status.busy": "2024-08-21T09:48:18.877656Z",
     "iopub.status.idle": "2024-08-21T09:48:18.888530Z",
     "shell.execute_reply": "2024-08-21T09:48:18.888179Z"
    },
    "papermill": {
     "duration": 0.015268,
     "end_time": "2024-08-21T09:48:18.890004",
     "exception": false,
     "start_time": "2024-08-21T09:48:18.874736",
     "status": "completed"
    },
    "tags": []
   },
   "outputs": [
    {
     "name": "stdout",
     "output_type": "stream",
     "text": [
      "['Customer_id', 'Connection', 'Weight', 'Unit_type', 'Day', 'Week']\n"
     ]
    }
   ],
   "source": [
    "\n",
    "# Load the data\n",
    "comparison_dict = {0: [0,1], 1: [2,3], 2: [4,5]}\n",
    "path_customer_profiles = open('./Results_Experiments/File_Paths/path_customer_profiles.txt','r').read()\n",
    "path_transport_graphics = open('./Results_Experiments/File_Paths/path_transport_graphics.txt','r').read()\n",
    "source = pd.read_csv(f'../{path_customer_profiles}/customer_profile_{comparison_dict[comparison_id][0]}.csv')\n",
    "target = pd.read_csv(f'../{path_customer_profiles}/customer_profile_{comparison_dict[comparison_id][1]}.csv')\n",
    "\n",
    "feature_names = source.columns.values\n",
    "feature_names = list(feature_names)\n",
    "print(feature_names)"
   ]
  },
  {
   "cell_type": "code",
   "execution_count": 7,
   "id": "296df3b5",
   "metadata": {
    "execution": {
     "iopub.execute_input": "2024-08-21T09:48:18.893702Z",
     "iopub.status.busy": "2024-08-21T09:48:18.893559Z",
     "iopub.status.idle": "2024-08-21T09:48:18.937018Z",
     "shell.execute_reply": "2024-08-21T09:48:18.936705Z"
    },
    "papermill": {
     "duration": 0.046314,
     "end_time": "2024-08-21T09:48:18.937969",
     "exception": false,
     "start_time": "2024-08-21T09:48:18.891655",
     "status": "completed"
    },
    "tags": []
   },
   "outputs": [],
   "source": [
    "# standardize the source and target data, and convert to domain labels\n",
    "from sklearn.preprocessing import StandardScaler\n",
    "X = np.concatenate((source, target), axis=0)\n",
    "# standardize X to remove cardinatlity bias\n",
    "X = StandardScaler().fit_transform(X)\n",
    "y = np.concatenate((np.zeros(source.shape[0]),\n",
    "                    np.ones(target.shape[0])), axis=0)  # domain labels"
   ]
  },
  {
   "cell_type": "code",
   "execution_count": 8,
   "id": "c5422e1f",
   "metadata": {
    "execution": {
     "iopub.execute_input": "2024-08-21T09:48:18.967141Z",
     "iopub.status.busy": "2024-08-21T09:48:18.966415Z",
     "iopub.status.idle": "2024-08-21T09:48:19.075109Z",
     "shell.execute_reply": "2024-08-21T09:48:19.074676Z"
    },
    "papermill": {
     "duration": 0.114815,
     "end_time": "2024-08-21T09:48:19.076412",
     "exception": false,
     "start_time": "2024-08-21T09:48:18.961597",
     "status": "completed"
    },
    "tags": []
   },
   "outputs": [],
   "source": [
    "from sklearn.datasets import make_classification\n",
    "from sklearn.model_selection import train_test_split\n",
    "\n",
    "X_train, X_test, y_train, y_test = train_test_split(X, y,\n",
    "                                     stratify=y, random_state=42)"
   ]
  },
  {
   "cell_type": "code",
   "execution_count": 9,
   "id": "5d9ba299",
   "metadata": {
    "execution": {
     "iopub.execute_input": "2024-08-21T09:48:19.082867Z",
     "iopub.status.busy": "2024-08-21T09:48:19.082558Z",
     "iopub.status.idle": "2024-08-21T09:48:19.099737Z",
     "shell.execute_reply": "2024-08-21T09:48:19.099476Z"
    },
    "papermill": {
     "duration": 0.022679,
     "end_time": "2024-08-21T09:48:19.100670",
     "exception": false,
     "start_time": "2024-08-21T09:48:19.077991",
     "status": "completed"
    },
    "tags": []
   },
   "outputs": [],
   "source": [
    "# Using XGBoost\n",
    "import xgboost\n",
    "\n",
    "def fit_xgboost(X_train, y_train, X_test, y_test, feature_names=None):\n",
    "    \"\"\" Train an XGBoost model with early stopping.\n",
    "    \"\"\"\n",
    "    dtrain = xgboost.DMatrix(X_train, label=y_train, feature_names=feature_names)\n",
    "    dtest = xgboost.DMatrix(X_test, label=y_test, feature_names=feature_names)\n",
    "    # model = xgboost.train(\n",
    "    #     { \"eta\": 0.001, \"subsample\": 0.5, \"max_depth\": 2,\n",
    "    #       \"objective\": 'binary:logistic', 'eval_metric': 'logloss'}, dtrain, num_boost_round=200000,\n",
    "    #     evals=[(dtest,'eval'), (dtrain,'train')], early_stopping_rounds=20, verbose_eval=False\n",
    "    # )\n",
    "    model = xgboost.train(\n",
    "        {\"objective\": 'binary:logistic', 'eval_metric': 'logloss'},\n",
    "        dtrain,\n",
    "        evals=[(dtest,'eval'), (dtrain,'train')],\n",
    "        verbose_eval=False)\n",
    "    return model"
   ]
  },
  {
   "cell_type": "code",
   "execution_count": 10,
   "id": "bd7ac9f1",
   "metadata": {
    "execution": {
     "iopub.execute_input": "2024-08-21T09:48:19.103873Z",
     "iopub.status.busy": "2024-08-21T09:48:19.103759Z",
     "iopub.status.idle": "2024-08-21T09:48:19.128202Z",
     "shell.execute_reply": "2024-08-21T09:48:19.127893Z"
    },
    "papermill": {
     "duration": 0.027407,
     "end_time": "2024-08-21T09:48:19.129473",
     "exception": false,
     "start_time": "2024-08-21T09:48:19.102066",
     "status": "completed"
    },
    "tags": []
   },
   "outputs": [],
   "source": [
    "xgb_forest = fit_xgboost(X_train, y_train, X_test, y_test, feature_names)\n",
    "xgb_forest.feature_names = feature_names"
   ]
  },
  {
   "cell_type": "code",
   "execution_count": 11,
   "id": "dcaa3020",
   "metadata": {
    "execution": {
     "iopub.execute_input": "2024-08-21T09:48:19.133633Z",
     "iopub.status.busy": "2024-08-21T09:48:19.133503Z",
     "iopub.status.idle": "2024-08-21T09:48:19.135398Z",
     "shell.execute_reply": "2024-08-21T09:48:19.135141Z"
    },
    "papermill": {
     "duration": 0.004551,
     "end_time": "2024-08-21T09:48:19.136262",
     "exception": false,
     "start_time": "2024-08-21T09:48:19.131711",
     "status": "completed"
    },
    "tags": []
   },
   "outputs": [],
   "source": [
    "def get_acc(model, samples, labels, feature_names=None):\n",
    "    predictions = (model.predict(xgboost.DMatrix(samples,\n",
    "                                                 feature_names=feature_names)) > 0.5).astype(int)\n",
    "    return (predictions == labels).sum() / predictions.shape[0]"
   ]
  },
  {
   "cell_type": "code",
   "execution_count": 12,
   "id": "7ce6b380",
   "metadata": {
    "execution": {
     "iopub.execute_input": "2024-08-21T09:48:19.140805Z",
     "iopub.status.busy": "2024-08-21T09:48:19.140415Z",
     "iopub.status.idle": "2024-08-21T09:48:19.153258Z",
     "shell.execute_reply": "2024-08-21T09:48:19.150558Z"
    },
    "papermill": {
     "duration": 0.017428,
     "end_time": "2024-08-21T09:48:19.155118",
     "exception": false,
     "start_time": "2024-08-21T09:48:19.137690",
     "status": "completed"
    },
    "tags": []
   },
   "outputs": [
    {
     "name": "stdout",
     "output_type": "stream",
     "text": [
      "Train score: 0.837747175141243\n",
      "Test score: 0.8199152542372882\n"
     ]
    }
   ],
   "source": [
    "print('Train score:', get_acc(xgb_forest, X_train, y_train, feature_names))\n",
    "print('Test score:', get_acc(xgb_forest, X_test, y_test, feature_names))"
   ]
  },
  {
   "cell_type": "code",
   "execution_count": 13,
   "id": "97a1d2b0",
   "metadata": {
    "execution": {
     "iopub.execute_input": "2024-08-21T09:48:19.161791Z",
     "iopub.status.busy": "2024-08-21T09:48:19.161241Z",
     "iopub.status.idle": "2024-08-21T09:48:19.505165Z",
     "shell.execute_reply": "2024-08-21T09:48:19.504899Z"
    },
    "papermill": {
     "duration": 0.350195,
     "end_time": "2024-08-21T09:48:19.507235",
     "exception": false,
     "start_time": "2024-08-21T09:48:19.157040",
     "status": "completed"
    },
    "tags": []
   },
   "outputs": [],
   "source": [
    "import shap\n",
    "import pandas as pd\n",
    "explainer = shap.Explainer(xgb_forest)\n",
    "\n",
    "shap_values = explainer(pd.DataFrame(X_test, columns=feature_names))\n"
   ]
  },
  {
   "cell_type": "code",
   "execution_count": 14,
   "id": "8e7a54a8",
   "metadata": {
    "execution": {
     "iopub.execute_input": "2024-08-21T09:48:19.512656Z",
     "iopub.status.busy": "2024-08-21T09:48:19.512443Z",
     "iopub.status.idle": "2024-08-21T09:48:20.210787Z",
     "shell.execute_reply": "2024-08-21T09:48:20.209859Z"
    },
    "papermill": {
     "duration": 0.702384,
     "end_time": "2024-08-21T09:48:20.212627",
     "exception": false,
     "start_time": "2024-08-21T09:48:19.510243",
     "status": "completed"
    },
    "tags": []
   },
   "outputs": [
    {
     "data": {
      "image/png": "[encoded data removed]",
      "text/plain": [
       "<Figure size 400x200 with 2 Axes>"
      ]
     },
     "metadata": {},
     "output_type": "display_data"
    }
   ],
   "source": [
    "# Beeswarm plot\n",
    "\n",
    "shap.plots.beeswarm(shap_values, show=False)\n",
    "fig = plt.gcf()\n",
    "fig.set_size_inches(4, 2, forward=True)\n",
    "if save_figures: plt.savefig(\n",
    "    f'../{path_transport_graphics}/logitics_data_on_customer_profile_{comparison_dict[comparison_id][0]} and customer_profile_{comparison_dict[comparison_id][1]}-shap-value.{save_parms[\"format\"]}',\n",
    "    **save_parms\n",
    "    )\n",
    "plt.show()"
   ]
  }
 ],
 "metadata": {
  "kernelspec": {
   "display_name": "Python 3.7.11 ('py37')",
   "language": "python",
   "name": "python3"
  },
  "language_info": {
   "codemirror_mode": {
    "name": "ipython",
    "version": 3
   },
   "file_extension": ".py",
   "mimetype": "text/x-python",
   "name": "python",
   "nbconvert_exporter": "python",
   "pygments_lexer": "ipython3",
   "version": "3.12.0"
  },
  "papermill": {
   "default_parameters": {},
   "duration": 3.918939,
   "end_time": "2024-08-21T09:48:20.736683",
   "environment_variables": {},
   "exception": null,
   "input_path": "experiment_baseline.ipynb",
   "output_path": "./Results_Experiments/Set_number_of_connections_to_10/experiment_baseline_3.ipynb",
   "parameters": {
    "comparison_id": 2
   },
   "start_time": "2024-08-21T09:48:16.817744",
   "version": "2.6.0"
  },
  "vscode": {
   "interpreter": {
    "hash": "5ab0220f0ca30ec7bac8a7e209564eceae6d15412b9f87f3c2f91206aa8b151c"
   }
  }
 },
 "nbformat": 4,
 "nbformat_minor": 5
}