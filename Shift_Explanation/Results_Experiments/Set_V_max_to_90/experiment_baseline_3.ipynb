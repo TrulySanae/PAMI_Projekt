{
 "cells": [
  {
   "cell_type": "code",
   "execution_count": 1,
   "id": "d05cab18",
   "metadata": {
    "execution": {
     "iopub.execute_input": "2024-08-21T09:49:34.189183Z",
     "iopub.status.busy": "2024-08-21T09:49:34.188749Z",
     "iopub.status.idle": "2024-08-21T09:49:35.042434Z",
     "shell.execute_reply": "2024-08-21T09:49:35.042142Z"
    },
    "papermill": {
     "duration": 0.862631,
     "end_time": "2024-08-21T09:49:35.043524",
     "exception": false,
     "start_time": "2024-08-21T09:49:34.180893",
     "status": "completed"
    },
    "tags": []
   },
   "outputs": [],
   "source": [
    "import matplotlib.pyplot as plt\n",
    "import numpy as np\n",
    "import pandas as pd\n",
    "from pathlib import Path\n",
    "import seaborn as sn\n"
   ]
  },
  {
   "cell_type": "code",
   "execution_count": 2,
   "id": "d6302d10",
   "metadata": {
    "execution": {
     "iopub.execute_input": "2024-08-21T09:49:35.046734Z",
     "iopub.status.busy": "2024-08-21T09:49:35.046598Z",
     "iopub.status.idle": "2024-08-21T09:49:35.049410Z",
     "shell.execute_reply": "2024-08-21T09:49:35.049182Z"
    },
    "papermill": {
     "duration": 0.00512,
     "end_time": "2024-08-21T09:49:35.050145",
     "exception": false,
     "start_time": "2024-08-21T09:49:35.045025",
     "status": "completed"
    },
    "tags": []
   },
   "outputs": [],
   "source": [
    "# Setting so that the plots look normal even when using dark-reader\n",
    "sn.set_style(\"whitegrid\")\n",
    "sn.set_context(context=\"paper\", font_scale=2)\n",
    "pal = sn.color_palette(\"Set1\")\n",
    "\n",
    "# Setting up specifics for plotting + saving\n",
    "save_figures = True\n",
    "add_legend = False\n",
    "add_title = False\n",
    "add_axis = False\n",
    "save_parms = {'format': 'pdf','bbox_inches':'tight', 'pad_inches':0.1}\n",
    "line_parms = {'linewidth':4, 'color':'k'}\n",
    "if save_figures:  # saves all figures in a figure directory in the local directory\n",
    "    figure_dir = Path('.') / 'figures' / 'adult-income-experiment'\n",
    "    if not figure_dir.exists():\n",
    "        figure_dir.mkdir(parents=True)"
   ]
  },
  {
   "cell_type": "code",
   "execution_count": 3,
   "id": "22d1d0e0",
   "metadata": {
    "execution": {
     "iopub.execute_input": "2024-08-21T09:49:35.053534Z",
     "iopub.status.busy": "2024-08-21T09:49:35.053270Z",
     "iopub.status.idle": "2024-08-21T09:49:35.055903Z",
     "shell.execute_reply": "2024-08-21T09:49:35.055652Z"
    },
    "papermill": {
     "duration": 0.005614,
     "end_time": "2024-08-21T09:49:35.057039",
     "exception": false,
     "start_time": "2024-08-21T09:49:35.051425",
     "status": "completed"
    },
    "tags": []
   },
   "outputs": [],
   "source": [
    "# Experiment hyperparamters\n",
    "rng = np.random.RandomState(42)\n",
    "split_on_income = False  # if True: src := income>=50k, tgt :+ income<50k, if False: src := male, tgt := female\n",
    "n_samples = 1000"
   ]
  },
  {
   "cell_type": "code",
   "execution_count": 4,
   "id": "48ff09ec",
   "metadata": {
    "execution": {
     "iopub.execute_input": "2024-08-21T09:49:35.060379Z",
     "iopub.status.busy": "2024-08-21T09:49:35.060223Z",
     "iopub.status.idle": "2024-08-21T09:49:35.061971Z",
     "shell.execute_reply": "2024-08-21T09:49:35.061709Z"
    },
    "papermill": {
     "duration": 0.00425,
     "end_time": "2024-08-21T09:49:35.062734",
     "exception": false,
     "start_time": "2024-08-21T09:49:35.058484",
     "status": "completed"
    },
    "tags": [
     "parameters"
    ]
   },
   "outputs": [],
   "source": [
    "comparison_id = None"
   ]
  },
  {
   "cell_type": "code",
   "execution_count": 5,
   "id": "99f55aab",
   "metadata": {
    "execution": {
     "iopub.execute_input": "2024-08-21T09:49:35.065955Z",
     "iopub.status.busy": "2024-08-21T09:49:35.065831Z",
     "iopub.status.idle": "2024-08-21T09:49:35.067779Z",
     "shell.execute_reply": "2024-08-21T09:49:35.067155Z"
    },
    "papermill": {
     "duration": 0.00685,
     "end_time": "2024-08-21T09:49:35.070957",
     "exception": false,
     "start_time": "2024-08-21T09:49:35.064107",
     "status": "completed"
    },
    "tags": [
     "injected-parameters"
    ]
   },
   "outputs": [],
   "source": [
    "# Parameters\n",
    "comparison_id = 2\n"
   ]
  },
  {
   "cell_type": "code",
   "execution_count": 6,
   "id": "dade2b7e",
   "metadata": {
    "execution": {
     "iopub.execute_input": "2024-08-21T09:49:35.076554Z",
     "iopub.status.busy": "2024-08-21T09:49:35.076392Z",
     "iopub.status.idle": "2024-08-21T09:49:35.096676Z",
     "shell.execute_reply": "2024-08-21T09:49:35.096350Z"
    },
    "papermill": {
     "duration": 0.028141,
     "end_time": "2024-08-21T09:49:35.101963",
     "exception": false,
     "start_time": "2024-08-21T09:49:35.073822",
     "status": "completed"
    },
    "tags": []
   },
   "outputs": [
    {
     "name": "stdout",
     "output_type": "stream",
     "text": [
      "['Customer_id', 'Connection', 'Weight', 'Unit_type', 'Day', 'Week']\n"
     ]
    }
   ],
   "source": [
    "\n",
    "# Load the data\n",
    "comparison_dict = {0: [0,1], 1: [2,3], 2: [4,5]}\n",
    "path_customer_profiles = open('./Results_Experiments/File_Paths/path_customer_profiles.txt','r').read()\n",
    "path_transport_graphics = open('./Results_Experiments/File_Paths/path_transport_graphics.txt','r').read()\n",
    "source = pd.read_csv(f'../{path_customer_profiles}/customer_profile_{comparison_dict[comparison_id][0]}.csv')\n",
    "target = pd.read_csv(f'../{path_customer_profiles}/customer_profile_{comparison_dict[comparison_id][1]}.csv')\n",
    "\n",
    "feature_names = source.columns.values\n",
    "feature_names = list(feature_names)\n",
    "print(feature_names)"
   ]
  },
  {
   "cell_type": "code",
   "execution_count": 7,
   "id": "296df3b5",
   "metadata": {
    "execution": {
     "iopub.execute_input": "2024-08-21T09:49:35.107687Z",
     "iopub.status.busy": "2024-08-21T09:49:35.107550Z",
     "iopub.status.idle": "2024-08-21T09:49:35.147667Z",
     "shell.execute_reply": "2024-08-21T09:49:35.147336Z"
    },
    "papermill": {
     "duration": 0.043221,
     "end_time": "2024-08-21T09:49:35.148761",
     "exception": false,
     "start_time": "2024-08-21T09:49:35.105540",
     "status": "completed"
    },
    "tags": []
   },
   "outputs": [],
   "source": [
    "# standardize the source and target data, and convert to domain labels\n",
    "from sklearn.preprocessing import StandardScaler\n",
    "X = np.concatenate((source, target), axis=0)\n",
    "# standardize X to remove cardinatlity bias\n",
    "X = StandardScaler().fit_transform(X)\n",
    "y = np.concatenate((np.zeros(source.shape[0]),\n",
    "                    np.ones(target.shape[0])), axis=0)  # domain labels"
   ]
  },
  {
   "cell_type": "code",
   "execution_count": 8,
   "id": "c5422e1f",
   "metadata": {
    "execution": {
     "iopub.execute_input": "2024-08-21T09:49:35.152120Z",
     "iopub.status.busy": "2024-08-21T09:49:35.151955Z",
     "iopub.status.idle": "2024-08-21T09:49:35.227211Z",
     "shell.execute_reply": "2024-08-21T09:49:35.226921Z"
    },
    "papermill": {
     "duration": 0.077872,
     "end_time": "2024-08-21T09:49:35.228205",
     "exception": false,
     "start_time": "2024-08-21T09:49:35.150333",
     "status": "completed"
    },
    "tags": []
   },
   "outputs": [],
   "source": [
    "from sklearn.datasets import make_classification\n",
    "from sklearn.model_selection import train_test_split\n",
    "\n",
    "X_train, X_test, y_train, y_test = train_test_split(X, y,\n",
    "                                     stratify=y, random_state=42)"
   ]
  },
  {
   "cell_type": "code",
   "execution_count": 9,
   "id": "5d9ba299",
   "metadata": {
    "execution": {
     "iopub.execute_input": "2024-08-21T09:49:35.231400Z",
     "iopub.status.busy": "2024-08-21T09:49:35.231242Z",
     "iopub.status.idle": "2024-08-21T09:49:35.245239Z",
     "shell.execute_reply": "2024-08-21T09:49:35.244967Z"
    },
    "papermill": {
     "duration": 0.016453,
     "end_time": "2024-08-21T09:49:35.246076",
     "exception": false,
     "start_time": "2024-08-21T09:49:35.229623",
     "status": "completed"
    },
    "tags": []
   },
   "outputs": [],
   "source": [
    "# Using XGBoost\n",
    "import xgboost\n",
    "\n",
    "def fit_xgboost(X_train, y_train, X_test, y_test, feature_names=None):\n",
    "    \"\"\" Train an XGBoost model with early stopping.\n",
    "    \"\"\"\n",
    "    dtrain = xgboost.DMatrix(X_train, label=y_train, feature_names=feature_names)\n",
    "    dtest = xgboost.DMatrix(X_test, label=y_test, feature_names=feature_names)\n",
    "    # model = xgboost.train(\n",
    "    #     { \"eta\": 0.001, \"subsample\": 0.5, \"max_depth\": 2,\n",
    "    #       \"objective\": 'binary:logistic', 'eval_metric': 'logloss'}, dtrain, num_boost_round=200000,\n",
    "    #     evals=[(dtest,'eval'), (dtrain,'train')], early_stopping_rounds=20, verbose_eval=False\n",
    "    # )\n",
    "    model = xgboost.train(\n",
    "        {\"objective\": 'binary:logistic', 'eval_metric': 'logloss'},\n",
    "        dtrain,\n",
    "        evals=[(dtest,'eval'), (dtrain,'train')],\n",
    "        verbose_eval=False)\n",
    "    return model"
   ]
  },
  {
   "cell_type": "code",
   "execution_count": 10,
   "id": "bd7ac9f1",
   "metadata": {
    "execution": {
     "iopub.execute_input": "2024-08-21T09:49:35.249304Z",
     "iopub.status.busy": "2024-08-21T09:49:35.249197Z",
     "iopub.status.idle": "2024-08-21T09:49:35.273895Z",
     "shell.execute_reply": "2024-08-21T09:49:35.273639Z"
    },
    "papermill": {
     "duration": 0.027425,
     "end_time": "2024-08-21T09:49:35.274855",
     "exception": false,
     "start_time": "2024-08-21T09:49:35.247430",
     "status": "completed"
    },
    "tags": []
   },
   "outputs": [],
   "source": [
    "xgb_forest = fit_xgboost(X_train, y_train, X_test, y_test, feature_names)\n",
    "xgb_forest.feature_names = feature_names"
   ]
  },
  {
   "cell_type": "code",
   "execution_count": 11,
   "id": "dcaa3020",
   "metadata": {
    "execution": {
     "iopub.execute_input": "2024-08-21T09:49:35.278454Z",
     "iopub.status.busy": "2024-08-21T09:49:35.278352Z",
     "iopub.status.idle": "2024-08-21T09:49:35.280134Z",
     "shell.execute_reply": "2024-08-21T09:49:35.279916Z"
    },
    "papermill": {
     "duration": 0.004055,
     "end_time": "2024-08-21T09:49:35.280850",
     "exception": false,
     "start_time": "2024-08-21T09:49:35.276795",
     "status": "completed"
    },
    "tags": []
   },
   "outputs": [],
   "source": [
    "def get_acc(model, samples, labels, feature_names=None):\n",
    "    predictions = (model.predict(xgboost.DMatrix(samples,\n",
    "                                                 feature_names=feature_names)) > 0.5).astype(int)\n",
    "    return (predictions == labels).sum() / predictions.shape[0]"
   ]
  },
  {
   "cell_type": "code",
   "execution_count": 12,
   "id": "7ce6b380",
   "metadata": {
    "execution": {
     "iopub.execute_input": "2024-08-21T09:49:35.283893Z",
     "iopub.status.busy": "2024-08-21T09:49:35.283800Z",
     "iopub.status.idle": "2024-08-21T09:49:35.288050Z",
     "shell.execute_reply": "2024-08-21T09:49:35.287814Z"
    },
    "papermill": {
     "duration": 0.006661,
     "end_time": "2024-08-21T09:49:35.288850",
     "exception": false,
     "start_time": "2024-08-21T09:49:35.282189",
     "status": "completed"
    },
    "tags": []
   },
   "outputs": [
    {
     "name": "stdout",
     "output_type": "stream",
     "text": [
      "Train score: 0.8863537968655295\n",
      "Test score: 0.8846753246753247\n"
     ]
    }
   ],
   "source": [
    "print('Train score:', get_acc(xgb_forest, X_train, y_train, feature_names))\n",
    "print('Test score:', get_acc(xgb_forest, X_test, y_test, feature_names))"
   ]
  },
  {
   "cell_type": "code",
   "execution_count": 13,
   "id": "97a1d2b0",
   "metadata": {
    "execution": {
     "iopub.execute_input": "2024-08-21T09:49:35.292966Z",
     "iopub.status.busy": "2024-08-21T09:49:35.292757Z",
     "iopub.status.idle": "2024-08-21T09:49:35.590208Z",
     "shell.execute_reply": "2024-08-21T09:49:35.589910Z"
    },
    "papermill": {
     "duration": 0.30065,
     "end_time": "2024-08-21T09:49:35.591185",
     "exception": false,
     "start_time": "2024-08-21T09:49:35.290535",
     "status": "completed"
    },
    "tags": []
   },
   "outputs": [],
   "source": [
    "import shap\n",
    "import pandas as pd\n",
    "explainer = shap.Explainer(xgb_forest)\n",
    "\n",
    "shap_values = explainer(pd.DataFrame(X_test, columns=feature_names))\n"
   ]
  },
  {
   "cell_type": "code",
   "execution_count": 14,
   "id": "8e7a54a8",
   "metadata": {
    "execution": {
     "iopub.execute_input": "2024-08-21T09:49:35.594522Z",
     "iopub.status.busy": "2024-08-21T09:49:35.594366Z",
     "iopub.status.idle": "2024-08-21T09:49:36.330266Z",
     "shell.execute_reply": "2024-08-21T09:49:36.329938Z"
    },
    "papermill": {
     "duration": 0.738653,
     "end_time": "2024-08-21T09:49:36.331346",
     "exception": false,
     "start_time": "2024-08-21T09:49:35.592693",
     "status": "completed"
    },
    "tags": []
   },
   "outputs": [
    {
     "data": {
      "image/png": "[encoded data removed]",
      "text/plain": [
       "<Figure size 400x200 with 2 Axes>"
      ]
     },
     "metadata": {},
     "output_type": "display_data"
    }
   ],
   "source": [
    "# Beeswarm plot\n",
    "\n",
    "shap.plots.beeswarm(shap_values, show=False)\n",
    "fig = plt.gcf()\n",
    "fig.set_size_inches(4, 2, forward=True)\n",
    "if save_figures: plt.savefig(\n",
    "    f'../{path_transport_graphics}/logitics_data_on_customer_profile_{comparison_dict[comparison_id][0]} and customer_profile_{comparison_dict[comparison_id][1]}-shap-value.{save_parms[\"format\"]}',\n",
    "    **save_parms\n",
    "    )\n",
    "plt.show()"
   ]
  }
 ],
 "metadata": {
  "kernelspec": {
   "display_name": "Python 3.7.11 ('py37')",
   "language": "python",
   "name": "python3"
  },
  "language_info": {
   "codemirror_mode": {
    "name": "ipython",
    "version": 3
   },
   "file_extension": ".py",
   "mimetype": "text/x-python",
   "name": "python",
   "nbconvert_exporter": "python",
   "pygments_lexer": "ipython3",
   "version": "3.12.0"
  },
  "papermill": {
   "default_parameters": {},
   "duration": 3.198588,
   "end_time": "2024-08-21T09:49:36.653339",
   "environment_variables": {},
   "exception": null,
   "input_path": "experiment_baseline.ipynb",
   "output_path": "./Results_Experiments/Set_V_max_to_90/experiment_baseline_3.ipynb",
   "parameters": {
    "comparison_id": 2
   },
   "start_time": "2024-08-21T09:49:33.454751",
   "version": "2.6.0"
  },
  "vscode": {
   "interpreter": {
    "hash": "5ab0220f0ca30ec7bac8a7e209564eceae6d15412b9f87f3c2f91206aa8b151c"
   }
  }
 },
 "nbformat": 4,
 "nbformat_minor": 5
}