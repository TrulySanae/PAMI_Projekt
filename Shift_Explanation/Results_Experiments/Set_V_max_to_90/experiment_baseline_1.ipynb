{
 "cells": [
  {
   "cell_type": "code",
   "execution_count": 1,
   "id": "d05cab18",
   "metadata": {
    "execution": {
     "iopub.execute_input": "2024-08-21T09:49:27.571105Z",
     "iopub.status.busy": "2024-08-21T09:49:27.570693Z",
     "iopub.status.idle": "2024-08-21T09:49:28.405586Z",
     "shell.execute_reply": "2024-08-21T09:49:28.405272Z"
    },
    "papermill": {
     "duration": 0.843898,
     "end_time": "2024-08-21T09:49:28.406653",
     "exception": false,
     "start_time": "2024-08-21T09:49:27.562755",
     "status": "completed"
    },
    "tags": []
   },
   "outputs": [],
   "source": [
    "import matplotlib.pyplot as plt\n",
    "import numpy as np\n",
    "import pandas as pd\n",
    "from pathlib import Path\n",
    "import seaborn as sn\n"
   ]
  },
  {
   "cell_type": "code",
   "execution_count": 2,
   "id": "d6302d10",
   "metadata": {
    "execution": {
     "iopub.execute_input": "2024-08-21T09:49:28.410502Z",
     "iopub.status.busy": "2024-08-21T09:49:28.410332Z",
     "iopub.status.idle": "2024-08-21T09:49:28.413292Z",
     "shell.execute_reply": "2024-08-21T09:49:28.413031Z"
    },
    "papermill": {
     "duration": 0.006191,
     "end_time": "2024-08-21T09:49:28.414318",
     "exception": false,
     "start_time": "2024-08-21T09:49:28.408127",
     "status": "completed"
    },
    "tags": []
   },
   "outputs": [],
   "source": [
    "# Setting so that the plots look normal even when using dark-reader\n",
    "sn.set_style(\"whitegrid\")\n",
    "sn.set_context(context=\"paper\", font_scale=2)\n",
    "pal = sn.color_palette(\"Set1\")\n",
    "\n",
    "# Setting up specifics for plotting + saving\n",
    "save_figures = True\n",
    "add_legend = False\n",
    "add_title = False\n",
    "add_axis = False\n",
    "save_parms = {'format': 'pdf','bbox_inches':'tight', 'pad_inches':0.1}\n",
    "line_parms = {'linewidth':4, 'color':'k'}\n",
    "if save_figures:  # saves all figures in a figure directory in the local directory\n",
    "    figure_dir = Path('.') / 'figures' / 'adult-income-experiment'\n",
    "    if not figure_dir.exists():\n",
    "        figure_dir.mkdir(parents=True)"
   ]
  },
  {
   "cell_type": "code",
   "execution_count": 3,
   "id": "22d1d0e0",
   "metadata": {
    "execution": {
     "iopub.execute_input": "2024-08-21T09:49:28.418502Z",
     "iopub.status.busy": "2024-08-21T09:49:28.418357Z",
     "iopub.status.idle": "2024-08-21T09:49:28.420872Z",
     "shell.execute_reply": "2024-08-21T09:49:28.420131Z"
    },
    "papermill": {
     "duration": 0.005828,
     "end_time": "2024-08-21T09:49:28.421877",
     "exception": false,
     "start_time": "2024-08-21T09:49:28.416049",
     "status": "completed"
    },
    "tags": []
   },
   "outputs": [],
   "source": [
    "# Experiment hyperparamters\n",
    "rng = np.random.RandomState(42)\n",
    "split_on_income = False  # if True: src := income>=50k, tgt :+ income<50k, if False: src := male, tgt := female\n",
    "n_samples = 1000"
   ]
  },
  {
   "cell_type": "code",
   "execution_count": 4,
   "id": "48ff09ec",
   "metadata": {
    "execution": {
     "iopub.execute_input": "2024-08-21T09:49:28.425123Z",
     "iopub.status.busy": "2024-08-21T09:49:28.425002Z",
     "iopub.status.idle": "2024-08-21T09:49:28.426594Z",
     "shell.execute_reply": "2024-08-21T09:49:28.426352Z"
    },
    "papermill": {
     "duration": 0.003929,
     "end_time": "2024-08-21T09:49:28.427312",
     "exception": false,
     "start_time": "2024-08-21T09:49:28.423383",
     "status": "completed"
    },
    "tags": [
     "parameters"
    ]
   },
   "outputs": [],
   "source": [
    "comparison_id = None"
   ]
  },
  {
   "cell_type": "code",
   "execution_count": 5,
   "id": "769bc49b",
   "metadata": {
    "execution": {
     "iopub.execute_input": "2024-08-21T09:49:28.430108Z",
     "iopub.status.busy": "2024-08-21T09:49:28.430013Z",
     "iopub.status.idle": "2024-08-21T09:49:28.431375Z",
     "shell.execute_reply": "2024-08-21T09:49:28.431140Z"
    },
    "papermill": {
     "duration": 0.003586,
     "end_time": "2024-08-21T09:49:28.432126",
     "exception": false,
     "start_time": "2024-08-21T09:49:28.428540",
     "status": "completed"
    },
    "tags": [
     "injected-parameters"
    ]
   },
   "outputs": [],
   "source": [
    "# Parameters\n",
    "comparison_id = 0\n"
   ]
  },
  {
   "cell_type": "code",
   "execution_count": 6,
   "id": "dade2b7e",
   "metadata": {
    "execution": {
     "iopub.execute_input": "2024-08-21T09:49:28.435699Z",
     "iopub.status.busy": "2024-08-21T09:49:28.435575Z",
     "iopub.status.idle": "2024-08-21T09:49:28.449149Z",
     "shell.execute_reply": "2024-08-21T09:49:28.448890Z"
    },
    "papermill": {
     "duration": 0.016248,
     "end_time": "2024-08-21T09:49:28.450074",
     "exception": false,
     "start_time": "2024-08-21T09:49:28.433826",
     "status": "completed"
    },
    "tags": []
   },
   "outputs": [
    {
     "name": "stdout",
     "output_type": "stream",
     "text": [
      "['Customer_id', 'Connection', 'Weight', 'Unit_type', 'Day', 'Week']\n"
     ]
    }
   ],
   "source": [
    "\n",
    "# Load the data\n",
    "comparison_dict = {0: [0,1], 1: [2,3], 2: [4,5]}\n",
    "path_customer_profiles = open('./Results_Experiments/File_Paths/path_customer_profiles.txt','r').read()\n",
    "path_transport_graphics = open('./Results_Experiments/File_Paths/path_transport_graphics.txt','r').read()\n",
    "source = pd.read_csv(f'../{path_customer_profiles}/customer_profile_{comparison_dict[comparison_id][0]}.csv')\n",
    "target = pd.read_csv(f'../{path_customer_profiles}/customer_profile_{comparison_dict[comparison_id][1]}.csv')\n",
    "\n",
    "feature_names = source.columns.values\n",
    "feature_names = list(feature_names)\n",
    "print(feature_names)"
   ]
  },
  {
   "cell_type": "code",
   "execution_count": 7,
   "id": "296df3b5",
   "metadata": {
    "execution": {
     "iopub.execute_input": "2024-08-21T09:49:28.454323Z",
     "iopub.status.busy": "2024-08-21T09:49:28.454156Z",
     "iopub.status.idle": "2024-08-21T09:49:28.492942Z",
     "shell.execute_reply": "2024-08-21T09:49:28.492658Z"
    },
    "papermill": {
     "duration": 0.041891,
     "end_time": "2024-08-21T09:49:28.493839",
     "exception": false,
     "start_time": "2024-08-21T09:49:28.451948",
     "status": "completed"
    },
    "tags": []
   },
   "outputs": [],
   "source": [
    "# standardize the source and target data, and convert to domain labels\n",
    "from sklearn.preprocessing import StandardScaler\n",
    "X = np.concatenate((source, target), axis=0)\n",
    "# standardize X to remove cardinatlity bias\n",
    "X = StandardScaler().fit_transform(X)\n",
    "y = np.concatenate((np.zeros(source.shape[0]),\n",
    "                    np.ones(target.shape[0])), axis=0)  # domain labels"
   ]
  },
  {
   "cell_type": "code",
   "execution_count": 8,
   "id": "c5422e1f",
   "metadata": {
    "execution": {
     "iopub.execute_input": "2024-08-21T09:49:28.496876Z",
     "iopub.status.busy": "2024-08-21T09:49:28.496721Z",
     "iopub.status.idle": "2024-08-21T09:49:28.554722Z",
     "shell.execute_reply": "2024-08-21T09:49:28.554429Z"
    },
    "papermill": {
     "duration": 0.060482,
     "end_time": "2024-08-21T09:49:28.555684",
     "exception": false,
     "start_time": "2024-08-21T09:49:28.495202",
     "status": "completed"
    },
    "tags": []
   },
   "outputs": [],
   "source": [
    "from sklearn.datasets import make_classification\n",
    "from sklearn.model_selection import train_test_split\n",
    "\n",
    "X_train, X_test, y_train, y_test = train_test_split(X, y,\n",
    "                                     stratify=y, random_state=42)"
   ]
  },
  {
   "cell_type": "code",
   "execution_count": 9,
   "id": "5d9ba299",
   "metadata": {
    "execution": {
     "iopub.execute_input": "2024-08-21T09:49:28.558950Z",
     "iopub.status.busy": "2024-08-21T09:49:28.558802Z",
     "iopub.status.idle": "2024-08-21T09:49:28.575202Z",
     "shell.execute_reply": "2024-08-21T09:49:28.574829Z"
    },
    "papermill": {
     "duration": 0.019097,
     "end_time": "2024-08-21T09:49:28.576306",
     "exception": false,
     "start_time": "2024-08-21T09:49:28.557209",
     "status": "completed"
    },
    "tags": []
   },
   "outputs": [],
   "source": [
    "# Using XGBoost\n",
    "import xgboost\n",
    "\n",
    "def fit_xgboost(X_train, y_train, X_test, y_test, feature_names=None):\n",
    "    \"\"\" Train an XGBoost model with early stopping.\n",
    "    \"\"\"\n",
    "    dtrain = xgboost.DMatrix(X_train, label=y_train, feature_names=feature_names)\n",
    "    dtest = xgboost.DMatrix(X_test, label=y_test, feature_names=feature_names)\n",
    "    # model = xgboost.train(\n",
    "    #     { \"eta\": 0.001, \"subsample\": 0.5, \"max_depth\": 2,\n",
    "    #       \"objective\": 'binary:logistic', 'eval_metric': 'logloss'}, dtrain, num_boost_round=200000,\n",
    "    #     evals=[(dtest,'eval'), (dtrain,'train')], early_stopping_rounds=20, verbose_eval=False\n",
    "    # )\n",
    "    model = xgboost.train(\n",
    "        {\"objective\": 'binary:logistic', 'eval_metric': 'logloss'},\n",
    "        dtrain,\n",
    "        evals=[(dtest,'eval'), (dtrain,'train')],\n",
    "        verbose_eval=False)\n",
    "    return model"
   ]
  },
  {
   "cell_type": "code",
   "execution_count": 10,
   "id": "bd7ac9f1",
   "metadata": {
    "execution": {
     "iopub.execute_input": "2024-08-21T09:49:28.579329Z",
     "iopub.status.busy": "2024-08-21T09:49:28.579223Z",
     "iopub.status.idle": "2024-08-21T09:49:28.604094Z",
     "shell.execute_reply": "2024-08-21T09:49:28.603836Z"
    },
    "papermill": {
     "duration": 0.027362,
     "end_time": "2024-08-21T09:49:28.605009",
     "exception": false,
     "start_time": "2024-08-21T09:49:28.577647",
     "status": "completed"
    },
    "tags": []
   },
   "outputs": [],
   "source": [
    "xgb_forest = fit_xgboost(X_train, y_train, X_test, y_test, feature_names)\n",
    "xgb_forest.feature_names = feature_names"
   ]
  },
  {
   "cell_type": "code",
   "execution_count": 11,
   "id": "dcaa3020",
   "metadata": {
    "execution": {
     "iopub.execute_input": "2024-08-21T09:49:28.608206Z",
     "iopub.status.busy": "2024-08-21T09:49:28.608102Z",
     "iopub.status.idle": "2024-08-21T09:49:28.609929Z",
     "shell.execute_reply": "2024-08-21T09:49:28.609714Z"
    },
    "papermill": {
     "duration": 0.004133,
     "end_time": "2024-08-21T09:49:28.610622",
     "exception": false,
     "start_time": "2024-08-21T09:49:28.606489",
     "status": "completed"
    },
    "tags": []
   },
   "outputs": [],
   "source": [
    "def get_acc(model, samples, labels, feature_names=None):\n",
    "    predictions = (model.predict(xgboost.DMatrix(samples,\n",
    "                                                 feature_names=feature_names)) > 0.5).astype(int)\n",
    "    return (predictions == labels).sum() / predictions.shape[0]"
   ]
  },
  {
   "cell_type": "code",
   "execution_count": 12,
   "id": "7ce6b380",
   "metadata": {
    "execution": {
     "iopub.execute_input": "2024-08-21T09:49:28.613458Z",
     "iopub.status.busy": "2024-08-21T09:49:28.613364Z",
     "iopub.status.idle": "2024-08-21T09:49:28.617961Z",
     "shell.execute_reply": "2024-08-21T09:49:28.617747Z"
    },
    "papermill": {
     "duration": 0.006889,
     "end_time": "2024-08-21T09:49:28.618757",
     "exception": false,
     "start_time": "2024-08-21T09:49:28.611868",
     "status": "completed"
    },
    "tags": []
   },
   "outputs": [
    {
     "name": "stdout",
     "output_type": "stream",
     "text": [
      "Train score: 0.8781581092094539\n",
      "Test score: 0.8746943765281173\n"
     ]
    }
   ],
   "source": [
    "print('Train score:', get_acc(xgb_forest, X_train, y_train, feature_names))\n",
    "print('Test score:', get_acc(xgb_forest, X_test, y_test, feature_names))"
   ]
  },
  {
   "cell_type": "code",
   "execution_count": 13,
   "id": "97a1d2b0",
   "metadata": {
    "execution": {
     "iopub.execute_input": "2024-08-21T09:49:28.621850Z",
     "iopub.status.busy": "2024-08-21T09:49:28.621749Z",
     "iopub.status.idle": "2024-08-21T09:49:29.024874Z",
     "shell.execute_reply": "2024-08-21T09:49:29.024541Z"
    },
    "papermill": {
     "duration": 0.407193,
     "end_time": "2024-08-21T09:49:29.027340",
     "exception": false,
     "start_time": "2024-08-21T09:49:28.620147",
     "status": "completed"
    },
    "tags": []
   },
   "outputs": [],
   "source": [
    "import shap\n",
    "import pandas as pd\n",
    "explainer = shap.Explainer(xgb_forest)\n",
    "\n",
    "shap_values = explainer(pd.DataFrame(X_test, columns=feature_names))\n"
   ]
  },
  {
   "cell_type": "code",
   "execution_count": 14,
   "id": "8e7a54a8",
   "metadata": {
    "execution": {
     "iopub.execute_input": "2024-08-21T09:49:29.032377Z",
     "iopub.status.busy": "2024-08-21T09:49:29.032168Z",
     "iopub.status.idle": "2024-08-21T09:49:29.838479Z",
     "shell.execute_reply": "2024-08-21T09:49:29.838079Z"
    },
    "papermill": {
     "duration": 0.809425,
     "end_time": "2024-08-21T09:49:29.839469",
     "exception": false,
     "start_time": "2024-08-21T09:49:29.030044",
     "status": "completed"
    },
    "tags": []
   },
   "outputs": [
    {
     "data": {
      "image/png": "[encoded data removed]",
      "text/plain": [
       "<Figure size 400x200 with 2 Axes>"
      ]
     },
     "metadata": {},
     "output_type": "display_data"
    }
   ],
   "source": [
    "# Beeswarm plot\n",
    "\n",
    "shap.plots.beeswarm(shap_values, show=False)\n",
    "fig = plt.gcf()\n",
    "fig.set_size_inches(4, 2, forward=True)\n",
    "if save_figures: plt.savefig(\n",
    "    f'../{path_transport_graphics}/logitics_data_on_customer_profile_{comparison_dict[comparison_id][0]} and customer_profile_{comparison_dict[comparison_id][1]}-shap-value.{save_parms[\"format\"]}',\n",
    "    **save_parms\n",
    "    )\n",
    "plt.show()"
   ]
  }
 ],
 "metadata": {
  "kernelspec": {
   "display_name": "Python 3.7.11 ('py37')",
   "language": "python",
   "name": "python3"
  },
  "language_info": {
   "codemirror_mode": {
    "name": "ipython",
    "version": 3
   },
   "file_extension": ".py",
   "mimetype": "text/x-python",
   "name": "python",
   "nbconvert_exporter": "python",
   "pygments_lexer": "ipython3",
   "version": "3.12.0"
  },
  "papermill": {
   "default_parameters": {},
   "duration": 3.352578,
   "end_time": "2024-08-21T09:49:30.159434",
   "environment_variables": {},
   "exception": null,
   "input_path": "experiment_baseline.ipynb",
   "output_path": "./Results_Experiments/Set_V_max_to_90/experiment_baseline_1.ipynb",
   "parameters": {
    "comparison_id": 0
   },
   "start_time": "2024-08-21T09:49:26.806856",
   "version": "2.6.0"
  },
  "vscode": {
   "interpreter": {
    "hash": "5ab0220f0ca30ec7bac8a7e209564eceae6d15412b9f87f3c2f91206aa8b151c"
   }
  }
 },
 "nbformat": 4,
 "nbformat_minor": 5
}