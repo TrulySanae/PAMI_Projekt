{
 "cells": [
  {
   "cell_type": "code",
   "execution_count": 1,
   "id": "d05cab18",
   "metadata": {
    "execution": {
     "iopub.execute_input": "2024-08-21T09:49:30.879577Z",
     "iopub.status.busy": "2024-08-21T09:49:30.878993Z",
     "iopub.status.idle": "2024-08-21T09:49:31.798512Z",
     "shell.execute_reply": "2024-08-21T09:49:31.798196Z"
    },
    "papermill": {
     "duration": 0.926507,
     "end_time": "2024-08-21T09:49:31.799572",
     "exception": false,
     "start_time": "2024-08-21T09:49:30.873065",
     "status": "completed"
    },
    "tags": []
   },
   "outputs": [],
   "source": [
    "import matplotlib.pyplot as plt\n",
    "import numpy as np\n",
    "import pandas as pd\n",
    "from pathlib import Path\n",
    "import seaborn as sn\n"
   ]
  },
  {
   "cell_type": "code",
   "execution_count": 2,
   "id": "d6302d10",
   "metadata": {
    "execution": {
     "iopub.execute_input": "2024-08-21T09:49:31.802719Z",
     "iopub.status.busy": "2024-08-21T09:49:31.802585Z",
     "iopub.status.idle": "2024-08-21T09:49:31.805217Z",
     "shell.execute_reply": "2024-08-21T09:49:31.804982Z"
    },
    "papermill": {
     "duration": 0.004903,
     "end_time": "2024-08-21T09:49:31.805914",
     "exception": false,
     "start_time": "2024-08-21T09:49:31.801011",
     "status": "completed"
    },
    "tags": []
   },
   "outputs": [],
   "source": [
    "# Setting so that the plots look normal even when using dark-reader\n",
    "sn.set_style(\"whitegrid\")\n",
    "sn.set_context(context=\"paper\", font_scale=2)\n",
    "pal = sn.color_palette(\"Set1\")\n",
    "\n",
    "# Setting up specifics for plotting + saving\n",
    "save_figures = True\n",
    "add_legend = False\n",
    "add_title = False\n",
    "add_axis = False\n",
    "save_parms = {'format': 'pdf','bbox_inches':'tight', 'pad_inches':0.1}\n",
    "line_parms = {'linewidth':4, 'color':'k'}\n",
    "if save_figures:  # saves all figures in a figure directory in the local directory\n",
    "    figure_dir = Path('.') / 'figures' / 'adult-income-experiment'\n",
    "    if not figure_dir.exists():\n",
    "        figure_dir.mkdir(parents=True)"
   ]
  },
  {
   "cell_type": "code",
   "execution_count": 3,
   "id": "22d1d0e0",
   "metadata": {
    "execution": {
     "iopub.execute_input": "2024-08-21T09:49:31.809091Z",
     "iopub.status.busy": "2024-08-21T09:49:31.808864Z",
     "iopub.status.idle": "2024-08-21T09:49:31.810967Z",
     "shell.execute_reply": "2024-08-21T09:49:31.810722Z"
    },
    "papermill": {
     "duration": 0.004614,
     "end_time": "2024-08-21T09:49:31.811734",
     "exception": false,
     "start_time": "2024-08-21T09:49:31.807120",
     "status": "completed"
    },
    "tags": []
   },
   "outputs": [],
   "source": [
    "# Experiment hyperparamters\n",
    "rng = np.random.RandomState(42)\n",
    "split_on_income = False  # if True: src := income>=50k, tgt :+ income<50k, if False: src := male, tgt := female\n",
    "n_samples = 1000"
   ]
  },
  {
   "cell_type": "code",
   "execution_count": 4,
   "id": "48ff09ec",
   "metadata": {
    "execution": {
     "iopub.execute_input": "2024-08-21T09:49:31.815663Z",
     "iopub.status.busy": "2024-08-21T09:49:31.815541Z",
     "iopub.status.idle": "2024-08-21T09:49:31.817318Z",
     "shell.execute_reply": "2024-08-21T09:49:31.817052Z"
    },
    "papermill": {
     "duration": 0.005055,
     "end_time": "2024-08-21T09:49:31.818185",
     "exception": false,
     "start_time": "2024-08-21T09:49:31.813130",
     "status": "completed"
    },
    "tags": [
     "parameters"
    ]
   },
   "outputs": [],
   "source": [
    "comparison_id = None"
   ]
  },
  {
   "cell_type": "code",
   "execution_count": 5,
   "id": "48efef0d",
   "metadata": {
    "execution": {
     "iopub.execute_input": "2024-08-21T09:49:31.821753Z",
     "iopub.status.busy": "2024-08-21T09:49:31.821540Z",
     "iopub.status.idle": "2024-08-21T09:49:31.823465Z",
     "shell.execute_reply": "2024-08-21T09:49:31.823217Z"
    },
    "papermill": {
     "duration": 0.004536,
     "end_time": "2024-08-21T09:49:31.824232",
     "exception": false,
     "start_time": "2024-08-21T09:49:31.819696",
     "status": "completed"
    },
    "tags": [
     "injected-parameters"
    ]
   },
   "outputs": [],
   "source": [
    "# Parameters\n",
    "comparison_id = 1\n"
   ]
  },
  {
   "cell_type": "code",
   "execution_count": 6,
   "id": "dade2b7e",
   "metadata": {
    "execution": {
     "iopub.execute_input": "2024-08-21T09:49:31.828221Z",
     "iopub.status.busy": "2024-08-21T09:49:31.828092Z",
     "iopub.status.idle": "2024-08-21T09:49:31.842594Z",
     "shell.execute_reply": "2024-08-21T09:49:31.842354Z"
    },
    "papermill": {
     "duration": 0.017617,
     "end_time": "2024-08-21T09:49:31.843534",
     "exception": false,
     "start_time": "2024-08-21T09:49:31.825917",
     "status": "completed"
    },
    "tags": []
   },
   "outputs": [
    {
     "name": "stdout",
     "output_type": "stream",
     "text": [
      "['Customer_id', 'Connection', 'Weight', 'Unit_type', 'Day', 'Week']\n"
     ]
    }
   ],
   "source": [
    "\n",
    "# Load the data\n",
    "comparison_dict = {0: [0,1], 1: [2,3], 2: [4,5]}\n",
    "path_customer_profiles = open('./Results_Experiments/File_Paths/path_customer_profiles.txt','r').read()\n",
    "path_transport_graphics = open('./Results_Experiments/File_Paths/path_transport_graphics.txt','r').read()\n",
    "source = pd.read_csv(f'../{path_customer_profiles}/customer_profile_{comparison_dict[comparison_id][0]}.csv')\n",
    "target = pd.read_csv(f'../{path_customer_profiles}/customer_profile_{comparison_dict[comparison_id][1]}.csv')\n",
    "\n",
    "feature_names = source.columns.values\n",
    "feature_names = list(feature_names)\n",
    "print(feature_names)"
   ]
  },
  {
   "cell_type": "code",
   "execution_count": 7,
   "id": "296df3b5",
   "metadata": {
    "execution": {
     "iopub.execute_input": "2024-08-21T09:49:31.846597Z",
     "iopub.status.busy": "2024-08-21T09:49:31.846494Z",
     "iopub.status.idle": "2024-08-21T09:49:31.880993Z",
     "shell.execute_reply": "2024-08-21T09:49:31.880605Z"
    },
    "papermill": {
     "duration": 0.037495,
     "end_time": "2024-08-21T09:49:31.882428",
     "exception": false,
     "start_time": "2024-08-21T09:49:31.844933",
     "status": "completed"
    },
    "tags": []
   },
   "outputs": [],
   "source": [
    "# standardize the source and target data, and convert to domain labels\n",
    "from sklearn.preprocessing import StandardScaler\n",
    "X = np.concatenate((source, target), axis=0)\n",
    "# standardize X to remove cardinatlity bias\n",
    "X = StandardScaler().fit_transform(X)\n",
    "y = np.concatenate((np.zeros(source.shape[0]),\n",
    "                    np.ones(target.shape[0])), axis=0)  # domain labels"
   ]
  },
  {
   "cell_type": "code",
   "execution_count": 8,
   "id": "c5422e1f",
   "metadata": {
    "execution": {
     "iopub.execute_input": "2024-08-21T09:49:31.886368Z",
     "iopub.status.busy": "2024-08-21T09:49:31.886155Z",
     "iopub.status.idle": "2024-08-21T09:49:31.949939Z",
     "shell.execute_reply": "2024-08-21T09:49:31.949644Z"
    },
    "papermill": {
     "duration": 0.066683,
     "end_time": "2024-08-21T09:49:31.950936",
     "exception": false,
     "start_time": "2024-08-21T09:49:31.884253",
     "status": "completed"
    },
    "tags": []
   },
   "outputs": [],
   "source": [
    "from sklearn.datasets import make_classification\n",
    "from sklearn.model_selection import train_test_split\n",
    "\n",
    "X_train, X_test, y_train, y_test = train_test_split(X, y,\n",
    "                                     stratify=y, random_state=42)"
   ]
  },
  {
   "cell_type": "code",
   "execution_count": 9,
   "id": "5d9ba299",
   "metadata": {
    "execution": {
     "iopub.execute_input": "2024-08-21T09:49:31.954255Z",
     "iopub.status.busy": "2024-08-21T09:49:31.954097Z",
     "iopub.status.idle": "2024-08-21T09:49:31.972692Z",
     "shell.execute_reply": "2024-08-21T09:49:31.972302Z"
    },
    "papermill": {
     "duration": 0.021692,
     "end_time": "2024-08-21T09:49:31.974156",
     "exception": false,
     "start_time": "2024-08-21T09:49:31.952464",
     "status": "completed"
    },
    "tags": []
   },
   "outputs": [],
   "source": [
    "# Using XGBoost\n",
    "import xgboost\n",
    "\n",
    "def fit_xgboost(X_train, y_train, X_test, y_test, feature_names=None):\n",
    "    \"\"\" Train an XGBoost model with early stopping.\n",
    "    \"\"\"\n",
    "    dtrain = xgboost.DMatrix(X_train, label=y_train, feature_names=feature_names)\n",
    "    dtest = xgboost.DMatrix(X_test, label=y_test, feature_names=feature_names)\n",
    "    # model = xgboost.train(\n",
    "    #     { \"eta\": 0.001, \"subsample\": 0.5, \"max_depth\": 2,\n",
    "    #       \"objective\": 'binary:logistic', 'eval_metric': 'logloss'}, dtrain, num_boost_round=200000,\n",
    "    #     evals=[(dtest,'eval'), (dtrain,'train')], early_stopping_rounds=20, verbose_eval=False\n",
    "    # )\n",
    "    model = xgboost.train(\n",
    "        {\"objective\": 'binary:logistic', 'eval_metric': 'logloss'},\n",
    "        dtrain,\n",
    "        evals=[(dtest,'eval'), (dtrain,'train')],\n",
    "        verbose_eval=False)\n",
    "    return model"
   ]
  },
  {
   "cell_type": "code",
   "execution_count": 10,
   "id": "bd7ac9f1",
   "metadata": {
    "execution": {
     "iopub.execute_input": "2024-08-21T09:49:31.977868Z",
     "iopub.status.busy": "2024-08-21T09:49:31.977626Z",
     "iopub.status.idle": "2024-08-21T09:49:32.007491Z",
     "shell.execute_reply": "2024-08-21T09:49:32.007186Z"
    },
    "papermill": {
     "duration": 0.032743,
     "end_time": "2024-08-21T09:49:32.008583",
     "exception": false,
     "start_time": "2024-08-21T09:49:31.975840",
     "status": "completed"
    },
    "tags": []
   },
   "outputs": [],
   "source": [
    "xgb_forest = fit_xgboost(X_train, y_train, X_test, y_test, feature_names)\n",
    "xgb_forest.feature_names = feature_names"
   ]
  },
  {
   "cell_type": "code",
   "execution_count": 11,
   "id": "dcaa3020",
   "metadata": {
    "execution": {
     "iopub.execute_input": "2024-08-21T09:49:32.011856Z",
     "iopub.status.busy": "2024-08-21T09:49:32.011744Z",
     "iopub.status.idle": "2024-08-21T09:49:32.013533Z",
     "shell.execute_reply": "2024-08-21T09:49:32.013299Z"
    },
    "papermill": {
     "duration": 0.004292,
     "end_time": "2024-08-21T09:49:32.014313",
     "exception": false,
     "start_time": "2024-08-21T09:49:32.010021",
     "status": "completed"
    },
    "tags": []
   },
   "outputs": [],
   "source": [
    "def get_acc(model, samples, labels, feature_names=None):\n",
    "    predictions = (model.predict(xgboost.DMatrix(samples,\n",
    "                                                 feature_names=feature_names)) > 0.5).astype(int)\n",
    "    return (predictions == labels).sum() / predictions.shape[0]"
   ]
  },
  {
   "cell_type": "code",
   "execution_count": 12,
   "id": "7ce6b380",
   "metadata": {
    "execution": {
     "iopub.execute_input": "2024-08-21T09:49:32.017552Z",
     "iopub.status.busy": "2024-08-21T09:49:32.017439Z",
     "iopub.status.idle": "2024-08-21T09:49:32.022476Z",
     "shell.execute_reply": "2024-08-21T09:49:32.022225Z"
    },
    "papermill": {
     "duration": 0.007541,
     "end_time": "2024-08-21T09:49:32.023240",
     "exception": false,
     "start_time": "2024-08-21T09:49:32.015699",
     "status": "completed"
    },
    "tags": []
   },
   "outputs": [
    {
     "name": "stdout",
     "output_type": "stream",
     "text": [
      "Train score: 0.8785398321551118\n",
      "Test score: 0.8742403571871512\n"
     ]
    }
   ],
   "source": [
    "print('Train score:', get_acc(xgb_forest, X_train, y_train, feature_names))\n",
    "print('Test score:', get_acc(xgb_forest, X_test, y_test, feature_names))"
   ]
  },
  {
   "cell_type": "code",
   "execution_count": 13,
   "id": "97a1d2b0",
   "metadata": {
    "execution": {
     "iopub.execute_input": "2024-08-21T09:49:32.026359Z",
     "iopub.status.busy": "2024-08-21T09:49:32.026260Z",
     "iopub.status.idle": "2024-08-21T09:49:32.333956Z",
     "shell.execute_reply": "2024-08-21T09:49:32.333588Z"
    },
    "papermill": {
     "duration": 0.3105,
     "end_time": "2024-08-21T09:49:32.335156",
     "exception": false,
     "start_time": "2024-08-21T09:49:32.024656",
     "status": "completed"
    },
    "tags": []
   },
   "outputs": [],
   "source": [
    "import shap\n",
    "import pandas as pd\n",
    "explainer = shap.Explainer(xgb_forest)\n",
    "\n",
    "shap_values = explainer(pd.DataFrame(X_test, columns=feature_names))\n"
   ]
  },
  {
   "cell_type": "code",
   "execution_count": 14,
   "id": "8e7a54a8",
   "metadata": {
    "execution": {
     "iopub.execute_input": "2024-08-21T09:49:32.338715Z",
     "iopub.status.busy": "2024-08-21T09:49:32.338543Z",
     "iopub.status.idle": "2024-08-21T09:49:33.128120Z",
     "shell.execute_reply": "2024-08-21T09:49:33.127824Z"
    },
    "papermill": {
     "duration": 0.792132,
     "end_time": "2024-08-21T09:49:33.128949",
     "exception": false,
     "start_time": "2024-08-21T09:49:32.336817",
     "status": "completed"
    },
    "tags": []
   },
   "outputs": [
    {
     "data": {
      "image/png": "[encoded data removed]",
      "text/plain": [
       "<Figure size 400x200 with 2 Axes>"
      ]
     },
     "metadata": {},
     "output_type": "display_data"
    }
   ],
   "source": [
    "# Beeswarm plot\n",
    "\n",
    "shap.plots.beeswarm(shap_values, show=False)\n",
    "fig = plt.gcf()\n",
    "fig.set_size_inches(4, 2, forward=True)\n",
    "if save_figures: plt.savefig(\n",
    "    f'../{path_transport_graphics}/logitics_data_on_customer_profile_{comparison_dict[comparison_id][0]} and customer_profile_{comparison_dict[comparison_id][1]}-shap-value.{save_parms[\"format\"]}',\n",
    "    **save_parms\n",
    "    )\n",
    "plt.show()"
   ]
  }
 ],
 "metadata": {
  "kernelspec": {
   "display_name": "Python 3.7.11 ('py37')",
   "language": "python",
   "name": "python3"
  },
  "language_info": {
   "codemirror_mode": {
    "name": "ipython",
    "version": 3
   },
   "file_extension": ".py",
   "mimetype": "text/x-python",
   "name": "python",
   "nbconvert_exporter": "python",
   "pygments_lexer": "ipython3",
   "version": "3.12.0"
  },
  "papermill": {
   "default_parameters": {},
   "duration": 3.283897,
   "end_time": "2024-08-21T09:49:33.448463",
   "environment_variables": {},
   "exception": null,
   "input_path": "experiment_baseline.ipynb",
   "output_path": "./Results_Experiments/Set_V_max_to_90/experiment_baseline_2.ipynb",
   "parameters": {
    "comparison_id": 1
   },
   "start_time": "2024-08-21T09:49:30.164566",
   "version": "2.6.0"
  },
  "vscode": {
   "interpreter": {
    "hash": "5ab0220f0ca30ec7bac8a7e209564eceae6d15412b9f87f3c2f91206aa8b151c"
   }
  }
 },
 "nbformat": 4,
 "nbformat_minor": 5
}