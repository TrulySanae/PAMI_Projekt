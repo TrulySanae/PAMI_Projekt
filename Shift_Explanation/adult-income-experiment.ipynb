{
 "cells": [
  {
   "cell_type": "markdown",
   "id": "ab092906",
   "metadata": {
    "tags": [
     "papermill-error-cell-tag"
    ]
   },
   "source": [
    "<span style=\"color:red; font-family:Helvetica Neue, Helvetica, Arial, sans-serif; font-size:2em;\">An Exception was encountered at '<a href=\"#papermill-error-cell\">In [2]</a>'.</span>"
   ]
  },
  {
   "cell_type": "code",
   "execution_count": 1,
   "id": "bdab1c2d",
   "metadata": {
    "execution": {
     "iopub.execute_input": "2024-08-03T12:25:55.286303Z",
     "iopub.status.busy": "2024-08-03T12:25:55.285896Z",
     "iopub.status.idle": "2024-08-03T12:25:55.290538Z",
     "shell.execute_reply": "2024-08-03T12:25:55.289921Z"
    },
    "papermill": {
     "duration": 0.016154,
     "end_time": "2024-08-03T12:25:55.292481",
     "exception": false,
     "start_time": "2024-08-03T12:25:55.276327",
     "status": "completed"
    },
    "tags": [
     "injected-parameters"
    ]
   },
   "outputs": [],
   "source": [
    "# Parameters\n",
    "comparison_id = 0\n"
   ]
  },
  {
   "cell_type": "markdown",
   "id": "38666797",
   "metadata": {
    "tags": [
     "papermill-error-cell-tag"
    ]
   },
   "source": [
    "<span id=\"papermill-error-cell\" style=\"color:red; font-family:Helvetica Neue, Helvetica, Arial, sans-serif; font-size:2em;\">Execution using papermill encountered an exception here and stopped:</span>"
   ]
  },
  {
   "cell_type": "code",
   "execution_count": 2,
   "id": "2e78250b",
   "metadata": {
    "ExecuteTime": {
     "end_time": "2024-08-02T09:07:15.996553Z",
     "start_time": "2024-08-02T09:07:15.598001Z"
    },
    "execution": {
     "iopub.execute_input": "2024-08-03T12:25:55.304777Z",
     "iopub.status.busy": "2024-08-03T12:25:55.304525Z",
     "iopub.status.idle": "2024-08-03T12:26:01.130330Z",
     "shell.execute_reply": "2024-08-03T12:26:01.129740Z"
    },
    "papermill": {
     "duration": 5.835272,
     "end_time": "2024-08-03T12:26:01.133811",
     "exception": true,
     "start_time": "2024-08-03T12:25:55.298539",
     "status": "failed"
    },
    "tags": []
   },
   "outputs": [
    {
     "ename": "ModuleNotFoundError",
     "evalue": "No module named 'utils'",
     "output_type": "error",
     "traceback": [
      "\u001b[0;31m---------------------------------------------------------------------------\u001b[0m",
      "\u001b[0;31mModuleNotFoundError\u001b[0m                       Traceback (most recent call last)",
      "Cell \u001b[0;32mIn[2], line 13\u001b[0m\n\u001b[1;32m     11\u001b[0m \u001b[38;5;28;01mfrom\u001b[39;00m \u001b[38;5;21;01mscipy\u001b[39;00m\u001b[38;5;21;01m.\u001b[39;00m\u001b[38;5;21;01mspatial\u001b[39;00m\u001b[38;5;21;01m.\u001b[39;00m\u001b[38;5;21;01mdistance\u001b[39;00m \u001b[38;5;28;01mimport\u001b[39;00m cdist\n\u001b[1;32m     12\u001b[0m \u001b[38;5;66;03m# User functions\u001b[39;00m\n\u001b[0;32m---> 13\u001b[0m \u001b[38;5;28;01mfrom\u001b[39;00m \u001b[38;5;21;01mutils\u001b[39;00m \u001b[38;5;28;01mimport\u001b[39;00m W2_dist, BaseTransport, GaussianTransport, get_trajectories_for_plotting, \\\n\u001b[1;32m     14\u001b[0m                   calc_parsimony, get_desiderata\n\u001b[1;32m     16\u001b[0m \u001b[38;5;66;03m# We will be using data from  the UCI: Gas sensor array under dynamic gas mixtures Data Set\u001b[39;00m\n\u001b[1;32m     17\u001b[0m \u001b[38;5;66;03m# Link: https://archive.ics.uci.edu/ml/datasets/gas+sensor+array+under+dynamic+gas+mixtures\u001b[39;00m\n\u001b[1;32m     18\u001b[0m data_dir \u001b[38;5;241m=\u001b[39m Path(\u001b[38;5;124m'\u001b[39m\u001b[38;5;124mdata\u001b[39m\u001b[38;5;124m'\u001b[39m)\n",
      "\u001b[0;31mModuleNotFoundError\u001b[0m: No module named 'utils'"
     ]
    }
   ],
   "source": [
    "import numpy as np\n",
    "import ot\n",
    "import matplotlib as mpl\n",
    "import matplotlib.pyplot as plt\n",
    "import matplotlib.ticker as mtick\n",
    "from scipy.stats import multivariate_normal\n",
    "import seaborn as sn\n",
    "import pandas as pd\n",
    "from pathlib import Path\n",
    "from sklearn.utils import check_random_state\n",
    "from scipy.spatial.distance import cdist\n",
    "# User functions\n",
    "from utils import W2_dist, BaseTransport, GaussianTransport, get_trajectories_for_plotting, \\\n",
    "                  calc_parsimony, get_desiderata\n",
    "\n",
    "# We will be using data from  the UCI: Gas sensor array under dynamic gas mixtures Data Set\n",
    "# Link: https://archive.ics.uci.edu/ml/datasets/gas+sensor+array+under+dynamic+gas+mixtures\n",
    "data_dir = Path('data')\n",
    "path_customer_profiles = open('./Results_Experiments/File_Paths/path_customer_profiles.txt','r').read()\n",
    "path_shift_explanations = open('./Results_Experiments/File_Paths/path_shift_explanations.txt','r').read()\n",
    "path_transport_graphics = open('./Results_Experiments/File_Paths/path_transport_graphics.txt','r').read()\n",
    "path_distances = open('./Results_Experiments/File_Paths/path_distances.txt','r').read()"
   ]
  },
  {
   "cell_type": "code",
   "execution_count": null,
   "id": "98eb2b0f",
   "metadata": {
    "ExecuteTime": {
     "end_time": "2024-08-02T09:07:16.073097Z",
     "start_time": "2024-08-02T09:07:15.690011Z"
    },
    "papermill": {
     "duration": null,
     "end_time": null,
     "exception": null,
     "start_time": null,
     "status": "pending"
    },
    "tags": []
   },
   "outputs": [],
   "source": [
    "# Experiment hyperparamters\n",
    "rng = np.random.RandomState(42)\n",
    "\n"
   ]
  },
  {
   "cell_type": "code",
   "execution_count": null,
   "id": "bd6a8eba",
   "metadata": {
    "ExecuteTime": {
     "end_time": "2024-08-02T09:07:16.080017Z",
     "start_time": "2024-08-02T09:07:15.809899Z"
    },
    "papermill": {
     "duration": null,
     "end_time": null,
     "exception": null,
     "start_time": null,
     "status": "pending"
    },
    "tags": []
   },
   "outputs": [],
   "source": [
    "# Setting so that the plots look normal even when using dark-reader\n",
    "sn.set_style(\"whitegrid\")\n",
    "sn.set_context(context=\"paper\", font_scale=2)\n",
    "pal = sn.color_palette(\"Set1\")\n",
    "\n",
    "# Setting up specifics for plotting + saving\n",
    "save_figures = True\n",
    "add_legend = False\n",
    "add_title = False\n",
    "add_axis = False\n",
    "save_parms = {'format': 'pdf','bbox_inches':'tight', 'pad_inches':0}\n",
    "line_parms = {'linewidth':4, 'color':'k'}\n",
    "if save_figures:  # saves all figures in a figure directory in the local directory\n",
    "    figure_dir = Path('.') / 'figures' / 'adult-income-experiment'\n",
    "    if not figure_dir.exists():\n",
    "        figure_dir.mkdir(parents=True)"
   ]
  },
  {
   "cell_type": "code",
   "execution_count": null,
   "id": "c9a19ea9",
   "metadata": {
    "ExecuteTime": {
     "end_time": "2024-08-02T09:07:16.470882Z",
     "start_time": "2024-08-02T09:07:15.896754Z"
    },
    "papermill": {
     "duration": null,
     "end_time": null,
     "exception": null,
     "start_time": null,
     "status": "pending"
    },
    "tags": []
   },
   "outputs": [],
   "source": [
    "!dir $data_dir"
   ]
  },
  {
   "cell_type": "markdown",
   "id": "1fa1e547",
   "metadata": {
    "papermill": {
     "duration": null,
     "end_time": null,
     "exception": null,
     "start_time": null,
     "status": "pending"
    },
    "tags": []
   },
   "source": [
    "## Loading and Preprocessing the data\n"
   ]
  },
  {
   "cell_type": "code",
   "execution_count": null,
   "id": "118aa370",
   "metadata": {
    "ExecuteTime": {
     "end_time": "2024-08-02T09:07:16.772783Z",
     "start_time": "2024-08-02T09:07:16.457651Z"
    },
    "papermill": {
     "duration": null,
     "end_time": null,
     "exception": null,
     "start_time": null,
     "status": "pending"
    },
    "tags": []
   },
   "outputs": [],
   "source": [
    "from data_utils import load_and_preprocess_logistics_data\n",
    "continuous_variables_indicies = [0,1,2]\n",
    "# Pick the desired dataset combination\n",
    "comparison_dict = {0: [0,1], 1: [2,3], 2: [4,5]}\n",
    "# n_samples = 'balanced'\n",
    "n_samples = 1000\n",
    "equal_week_split = True\n",
    "\n",
    "X, Y, feature_names = load_and_preprocess_logistics_data(\n",
    "            data_dir, rng, n_samples, return_column_names=True,equal_week_split=equal_week_split, comparison_id=\n",
    "            comparison_id, comparison_dict=comparison_dict)\n",
    "from sklearn.preprocessing import StandardScaler\n",
    "standardizer = StandardScaler()\n",
    "print(feature_names)\n",
    "print(X)\n",
    "print(Y)\n",
    "\n"
   ]
  },
  {
   "cell_type": "markdown",
   "id": "eed62488",
   "metadata": {
    "papermill": {
     "duration": null,
     "end_time": null,
     "exception": null,
     "start_time": null,
     "status": "pending"
    },
    "tags": []
   },
   "source": [
    "## Performing Clustering"
   ]
  },
  {
   "cell_type": "code",
   "execution_count": null,
   "id": "8ce6f6e5",
   "metadata": {
    "ExecuteTime": {
     "end_time": "2024-08-02T09:07:16.815041Z",
     "start_time": "2024-08-02T09:07:16.769519Z"
    },
    "papermill": {
     "duration": null,
     "end_time": null,
     "exception": null,
     "start_time": null,
     "status": "pending"
    },
    "tags": []
   },
   "outputs": [],
   "source": [
    "def get_mixed_variable_desiderata(X_continuous, Y_continuous, Z, standardizer, continuous_variables_indicies,\n",
    "                                  n_expectation=10, inter=None, rng=None):\n",
    "    rng = check_random_state(rng)\n",
    "    non_continuous_variables_indicies = np.delete(np.arange(X.shape[1]), continuous_variables_indicies)\n",
    "    fids = np.zeros(n_expectation)\n",
    "    pars = np.zeros(n_expectation)\n",
    "    for loop_idx in range(n_expectation):\n",
    "        # since Z is in a pseudo continuous space, we project it to a discrete space using the phase change graph defined within Z\n",
    "        # since the Z[i, j_descrete] is probability of that point being positive\n",
    "        Z_projected_discrete = Z.copy()\n",
    "        uniform_vars = rng.uniform(size=(Z.shape[0], len(non_continuous_variables_indicies)))\n",
    "        positive_probability = Z[:, non_continuous_variables_indicies]\n",
    "        # Z_projected_discrete[:, non_continuous_variables_indicies] = (uniform_vars <= positive_probability).astype(Z.dtype)\n",
    "        Z_projected_continous = standardizer.transform(Z_projected_discrete)\n",
    "        # Calculating fidelity\n",
    "        M = cdist(Y_continuous, Z_projected_continous, 'sqeuclidean')\n",
    "        a,b = ot.utils.unif(X.shape[0]), ot.utils.unif(Z.shape[0])\n",
    "        fid = ot.emd2(a, b, M)\n",
    "        # Calculating parsimony\n",
    "        par = calc_parsimony(X_continuous, Z_projected_continous)\n",
    "        # recording\n",
    "        fids[loop_idx] = fid\n",
    "        pars[loop_idx] = par\n",
    "    fid, par = fids.mean(), pars.mean()\n",
    "    if inter is not None:\n",
    "        print(f'Fid: {fid:.3f}, Par: {par:.3f}, Inter: {inter}')\n",
    "    return fid, par, inter"
   ]
  },
  {
   "cell_type": "code",
   "execution_count": null,
   "id": "1f87bcb2",
   "metadata": {
    "ExecuteTime": {
     "end_time": "2024-08-02T09:07:16.896622Z",
     "start_time": "2024-08-02T09:07:16.826557Z"
    },
    "papermill": {
     "duration": null,
     "end_time": null,
     "exception": null,
     "start_time": null,
     "status": "pending"
    },
    "tags": []
   },
   "outputs": [],
   "source": [
    "def mixed_cluster_push_forward(X_cluster, Z_cluster, continuous_vars):\n",
    "    non_continuous_vars = np.delete(np.arange(X_cluster.shape[1]), continuous_variables_indicies)\n",
    "    X_cluster_pushed = X_cluster.copy()\n",
    "    X_cluster_means = X_cluster.mean(axis=0)\n",
    "    Z_cluster_means = Z_cluster.mean(axis=0)\n",
    "    X_cluster_pushed[:, continuous_vars] += Z_cluster_means[continuous_vars] - X_cluster_means[continuous_vars]\n",
    "    X_cluster_pushed[:, non_continuous_vars] = Z_cluster_means[non_continuous_vars]  # sets T(X_discrete) to Pr(Z_discrete = 1)\n",
    "    return X_cluster_pushed"
   ]
  },
  {
   "cell_type": "code",
   "execution_count": null,
   "id": "170236eb",
   "metadata": {
    "ExecuteTime": {
     "end_time": "2024-08-02T09:07:16.898025Z",
     "start_time": "2024-08-02T09:07:16.858550Z"
    },
    "papermill": {
     "duration": null,
     "end_time": null,
     "exception": null,
     "start_time": null,
     "status": "pending"
    },
    "tags": []
   },
   "outputs": [],
   "source": [
    "## Hyperparameters\n",
    "max_clusters = 10"
   ]
  },
  {
   "cell_type": "code",
   "execution_count": null,
   "id": "1f702b51",
   "metadata": {
    "ExecuteTime": {
     "end_time": "2024-08-02T09:08:22.227262Z",
     "start_time": "2024-08-02T09:07:16.929154Z"
    },
    "papermill": {
     "duration": null,
     "end_time": null,
     "exception": null,
     "start_time": null,
     "status": "pending"
    },
    "scrolled": false,
    "tags": []
   },
   "outputs": [],
   "source": [
    "# Increasing the number of clusters to see the increase in fidelity and decrease in interpretability\n",
    "\n",
    "cluster_histories = []\n",
    "\n",
    "# fitting standardizer on our source domain\n",
    "standardizer = standardizer.fit(X)\n",
    "\n",
    "# Finding base desiderata values for T=id\n",
    "X_continuous, Y_continuous = standardizer.transform(X), standardizer.transform(Y)\n",
    "fid, par, inter = get_mixed_variable_desiderata(X_continuous, Y_continuous, X, standardizer, continuous_variables_indicies,\n",
    "                                                n_expectation=1, inter=0, rng=rng)  # showing the base desiderata\n",
    "fids = np.zeros(max_clusters+1)\n",
    "fids[0] = fid\n",
    "pars = np.zeros(max_clusters+1)\n",
    "pars[0] = par\n",
    "inters = np.zeros(max_clusters+1)\n",
    "inters[0] = 0\n",
    "\n",
    "################################################################################################################################################\n",
    "T = BaseTransport(X, Y, fit=True)\n",
    "Z = T.forward(X, Y)\n",
    "Z_continuous = standardizer.transform(Z)\n",
    "\n",
    "for n_clusters in range(1, max_clusters+1):\n",
    "     # performs paired clustering in a continuous joint X,Z space\n",
    "    cluster_labels = T._pair_clustering(X_continuous, Z=Z_continuous, n_clusters=n_clusters, rng=rng) \n",
    "    \n",
    "    Z_clusters = np.zeros_like(Z)  # the final output of the cluster mean shift transport\n",
    "    for cluster_idx in range(n_clusters):\n",
    "        X_cluster = X[cluster_labels == cluster_idx]\n",
    "        Z_cluster = Z[cluster_labels == cluster_idx]\n",
    "        # A method similar for cluster mean shift transport, but with accounting for binary variables\n",
    "        X_cluster_pushed = mixed_cluster_push_forward(X_cluster, Z_cluster, continuous_variables_indicies)\n",
    "        Z_clusters[cluster_labels == cluster_idx] = X_cluster_pushed\n",
    "        \n",
    "    # getting desiderata information\n",
    "    fid, par, inter = get_mixed_variable_desiderata(X_continuous, Y_continuous, Z_clusters, standardizer, \n",
    "                                                    continuous_variables_indicies, n_expectation=30,\n",
    "                                                    inter=n_clusters, rng=rng)\n",
    "    fids[n_clusters] = fid\n",
    "    pars[n_clusters] = par\n",
    "    inters[n_clusters] = n_clusters\n",
    "\n",
    "    cluster_record = {\n",
    "        'labels': cluster_labels.copy(),\n",
    "        'Z_clusters': Z_clusters.copy(),\n",
    "        'n_clusters': n_clusters\n",
    "    }\n",
    "    cluster_histories.append(cluster_record)"
   ]
  },
  {
   "cell_type": "code",
   "execution_count": null,
   "id": "180fa6ac",
   "metadata": {
    "ExecuteTime": {
     "end_time": "2024-08-02T09:08:22.285613Z",
     "start_time": "2024-08-02T09:08:22.225284Z"
    },
    "papermill": {
     "duration": null,
     "end_time": null,
     "exception": null,
     "start_time": null,
     "status": "pending"
    },
    "tags": []
   },
   "outputs": [],
   "source": [
    "# changing fidelity to be % of shift explained\n",
    "def calc_percent_explained(x):\n",
    "    return 100*(max_fid - x) / max_fid\n",
    "max_fid = fids[0]\n",
    "percent_explained = np.apply_along_axis(calc_percent_explained, 0, fids)"
   ]
  },
  {
   "cell_type": "code",
   "execution_count": null,
   "id": "0fa5eabf",
   "metadata": {
    "ExecuteTime": {
     "end_time": "2024-08-02T09:08:23.363931Z",
     "start_time": "2024-08-02T09:08:22.256481Z"
    },
    "papermill": {
     "duration": null,
     "end_time": null,
     "exception": null,
     "start_time": null,
     "status": "pending"
    },
    "tags": []
   },
   "outputs": [],
   "source": [
    "# Create Plot\n",
    "fig, ax1 = plt.subplots() \n",
    "  \n",
    "ax1.set_xlabel('Number of Clusters') \n",
    "ax1.set_ylabel('Transport Cost', color = pal[0]) \n",
    "ax1.plot(np.arange(max_clusters+1), pars, color = pal[0],\n",
    "         **{k:v for (k,v) in line_parms.items() if k != 'color'})  \n",
    "ax1.tick_params(axis ='y', labelcolor = pal[0]) \n",
    "# Adding Twin Axes\n",
    "ax2 = ax1.twinx() \n",
    "ax2.set_ylabel('Percent Explained', color = pal[1]) \n",
    "ax2.plot(np.arange(max_clusters+1), percent_explained, color = pal[1],\n",
    "         **{k:v for (k,v) in line_parms.items() if k != 'color'}) \n",
    "ax2.tick_params(axis ='y', labelcolor = pal[1]) \n",
    "ax2.yaxis.set_major_formatter(mtick.PercentFormatter())\n",
    "ax2.set_ylim(None, 100)\n",
    "\n",
    "\n",
    "\n",
    "print(f'Results with splitting on customer_profile_{comparison_dict[comparison_id][0]} and customer_profile_{comparison_dict[comparison_id][1]}:')\n",
    "if save_figures: plt.savefig(\n",
    "    f'../{path_transport_graphics}/logitics_data_on_customer_profile_{comparison_dict[comparison_id][0]} and customer_profile_{comparison_dict[comparison_id][1]}--clustering-results.{save_parms[\"format\"]}',\n",
    "    **save_parms\n",
    "    )\n",
    "plt.show()"
   ]
  },
  {
   "cell_type": "code",
   "execution_count": null,
   "id": "69d043e3",
   "metadata": {
    "ExecuteTime": {
     "end_time": "2024-08-02T09:08:23.717028Z",
     "start_time": "2024-08-02T09:08:23.365038Z"
    },
    "papermill": {
     "duration": null,
     "end_time": null,
     "exception": null,
     "start_time": null,
     "status": "pending"
    },
    "tags": []
   },
   "outputs": [],
   "source": [
    "customer_profile_0_means = {}\n",
    "customer_profile_1_means = {}\n",
    "\n",
    "\n",
    "for record_idx in range(max_clusters):\n",
    "    cluster_record = cluster_histories[record_idx]\n",
    "    Z_clusters = cluster_record['Z_clusters']\n",
    "    labels = cluster_record['labels']\n",
    "    n_clusters = cluster_record['n_clusters']\n",
    "    print(f'Starting {n_clusters} cluster results:')\n",
    "\n",
    "    src_means = []\n",
    "    tgt_means = []\n",
    "\n",
    "    tgt = f'customer_profile_{comparison_dict[comparison_id][1]}'\n",
    "    src = f'customer_profile_{comparison_dict[comparison_id][0]}'\n",
    "    with np.printoptions(precision=3, suppress=True):\n",
    "        for cluster_idx in range(n_clusters):\n",
    "            print(f'\\tCluster: {cluster_idx}')\n",
    "            print(f'\\t\\t\\t\\t     Names={[name[:3] for name in feature_names]}')\n",
    "            src_mean = X[cluster_idx == labels].mean(axis=0)\n",
    "            tgt_mean = Z_clusters[cluster_idx == labels].mean(axis=0)\n",
    "            print(f'\\t\\t   {src}_mean={src_mean}')\n",
    "            print(f'\\t\\tT({tgt})_mean={tgt_mean}')\n",
    "\n",
    "            customer_profile_0_means[n_clusters] = src_means\n",
    "            customer_profile_1_means[n_clusters] = tgt_means\n",
    "            src_means.append(src_mean)\n",
    "            tgt_means.append(tgt_mean)\n",
    "        print()\n",
    "\n"
   ]
  },
  {
   "cell_type": "code",
   "execution_count": null,
   "id": "27b8b2b1",
   "metadata": {
    "ExecuteTime": {
     "end_time": "2024-08-02T09:12:57.913168Z",
     "start_time": "2024-08-02T09:12:54.642503Z"
    },
    "collapsed": false,
    "papermill": {
     "duration": null,
     "end_time": null,
     "exception": null,
     "start_time": null,
     "status": "pending"
    },
    "tags": []
   },
   "outputs": [],
   "source": [
    "\n",
    "from mpl_toolkits.mplot3d import Axes3D\n",
    "\n",
    "vis_clusters = max_clusters\n",
    "total_distance = []\n",
    "weight_difference = []\n",
    "unit_difference = []\n",
    "connections_difference = []\n",
    "\n",
    "# Berechnungen nur einmal durchführen\n",
    "for cluster_idx in range(vis_clusters):\n",
    "    x_vals = [customer_profile_0_means[vis_clusters][cluster_idx][0], customer_profile_1_means[vis_clusters][cluster_idx][0]]\n",
    "    y_vals = [customer_profile_0_means[vis_clusters][cluster_idx][1], customer_profile_1_means[vis_clusters][cluster_idx][1]]\n",
    "    z_vals = [customer_profile_0_means[vis_clusters][cluster_idx][2], customer_profile_1_means[vis_clusters][cluster_idx][2]]\n",
    "\n",
    "    total_distance.append(((x_vals[0] - x_vals[1]) * 2 + (y_vals[0] - y_vals[1]) * 2 + (z_vals[0] - z_vals[1]) * 2) * 0.5)\n",
    "    connections_difference.append(abs((x_vals[0] - x_vals[1])))\n",
    "    weight_difference.append(abs((y_vals[0] - y_vals[1])))\n",
    "    unit_difference.append(abs((z_vals[0] - z_vals[1])))\n",
    "\n",
    "# Funktion zur Erstellung der Subplots\n",
    "def plot_clusters(ax, elev, azim, title):\n",
    "    for cluster_idx in range(vis_clusters):\n",
    "        x_vals = [customer_profile_0_means[vis_clusters][cluster_idx][0], customer_profile_1_means[vis_clusters][cluster_idx][0]]\n",
    "        y_vals = [customer_profile_0_means[vis_clusters][cluster_idx][1], customer_profile_1_means[vis_clusters][cluster_idx][1]]\n",
    "        z_vals = [customer_profile_0_means[vis_clusters][cluster_idx][2], customer_profile_1_means[vis_clusters][cluster_idx][2]]\n",
    "\n",
    "        ax.plot(x_vals, y_vals, z_vals, marker='x', linestyle='-', label=f'Cluster {cluster_idx}')\n",
    "\n",
    "    ax.set_xlabel(feature_names[0])\n",
    "    ax.set_ylabel(feature_names[1])\n",
    "    ax.set_zlabel(feature_names[2])\n",
    "    ax.set_title(title)\n",
    "    ax.view_init(elev=elev, azim=azim)\n",
    "\n",
    "# Erstellen der Hauptfigur mit mehreren Subplots\n",
    "fig1 = plt.figure(figsize=(12, 8))\n",
    "fig2 = plt.figure(figsize=(12, 8))\n",
    "fig3 = plt.figure(figsize=(12, 8))\n",
    "\n",
    "# Originalansicht\n",
    "ax1 = fig1.add_subplot(111, projection='3d')\n",
    "plot_clusters(ax1, 20, 60, 'Original')\n",
    "ax1.set_xlabel(feature_names[0])\n",
    "ax1.set_ylabel(feature_names[1])\n",
    "ax1.set_zlabel(feature_names[2])\n",
    "ax1.legend(loc='center left', bbox_to_anchor=(1.05, 0.5))\n",
    "\n",
    "# Ansicht von der positiven x-Achse\n",
    "ax4 = fig2.add_subplot(111, projection='3d')\n",
    "plot_clusters(ax4, 0, 0, 'Positive x-Achse')\n",
    "ax4.set_xlabel(feature_names[0])\n",
    "ax4.set_ylabel(feature_names[1])\n",
    "ax4.set_zlabel(feature_names[2])\n",
    "ax4.legend(loc='center left', bbox_to_anchor=(1.05, 0.5))\n",
    "# Ansicht von der positiven y-Achse\n",
    "ax6 = fig3.add_subplot(111, projection='3d')\n",
    "plot_clusters(ax6, 0, 90, 'Positive y-Achse')\n",
    "ax6.set_xlabel(feature_names[0])\n",
    "ax6.set_ylabel(feature_names[1])\n",
    "ax6.set_zlabel(feature_names[2])\n",
    "ax6.legend(loc='center left', bbox_to_anchor=(1.05, 0.5))\n",
    "\n",
    "\n",
    "\n",
    "\n",
    "\n",
    "plt.tight_layout()\n",
    "plt.show()\n",
    "\n",
    "# Speichern der Plots als PNG\n",
    "fig1.savefig(f'../{path_transport_graphics}/comparinson_on_on_customer_profile_{comparison_dict[comparison_id][0]}_and_customer_profile_{comparison_dict[comparison_id][1]}original.png', dpi=300, bbox_inches='tight')\n",
    "fig2.savefig(f'../{path_transport_graphics}/comparinson_on_on_customer_profile_{comparison_dict[comparison_id][0]}_and_customer_profile_{comparison_dict[comparison_id][1]}positive_x_axis.png', dpi=300, bbox_inches='tight')\n",
    "fig3.savefig(f'../{path_transport_graphics}/comparinson_on_on_customer_profile_{comparison_dict[comparison_id][0]}_and_customer_profile_{comparison_dict[comparison_id][1]}positive_y_axis.png', dpi=300, bbox_inches='tight')\n",
    "\n",
    "\n",
    "# DataFrame mit den Distanzen erstellen und speichern\n",
    "distances = pd.DataFrame({\n",
    "    'Cluster': range(vis_clusters),\n",
    "    'Total_distance': total_distance,\n",
    "    'Connections_diff': connections_difference,\n",
    "    'Weight_diff': weight_difference,\n",
    "    'Unit_diff': unit_difference\n",
    "})\n",
    "\n",
    "distances = distances.sort_values(by='Total_distance')\n",
    "# importing experiment parameters\n",
    "params =pd.read_csv(f'../{path_shift_explanations}/params.csv')\n",
    "params = params.iloc[comparison_dict[comparison_id]]\n",
    "display(params)\n",
    "display(distances)\n",
    "\n",
    "output_path = f'../{path_distances}/results_customer_profile_{comparison_dict[comparison_id][0]}_and_customer_profile_{comparison_dict[comparison_id][1]}.csv'\n",
    "distances.to_csv(output_path, index=False)\n"
   ]
  },
  {
   "cell_type": "code",
   "execution_count": null,
   "id": "35279243",
   "metadata": {
    "collapsed": false,
    "papermill": {
     "duration": null,
     "end_time": null,
     "exception": null,
     "start_time": null,
     "status": "pending"
    },
    "tags": []
   },
   "outputs": [],
   "source": []
  }
 ],
 "metadata": {
  "kernelspec": {
   "display_name": "Python 3.7.11 ('py37')",
   "language": "python",
   "name": "python3"
  },
  "language_info": {
   "codemirror_mode": {
    "name": "ipython",
    "version": 3
   },
   "file_extension": ".py",
   "mimetype": "text/x-python",
   "name": "python",
   "nbconvert_exporter": "python",
   "pygments_lexer": "ipython3",
   "version": "3.12.0"
  },
  "papermill": {
   "default_parameters": {},
   "duration": 8.006109,
   "end_time": "2024-08-03T12:26:02.263207",
   "environment_variables": {},
   "exception": true,
   "input_path": "Shift_Explanation/adult-income-experiment.ipynb",
   "output_path": "Shift_Explanation/adult-income-experiment.ipynb",
   "parameters": {
    "comparison_id": 0
   },
   "start_time": "2024-08-03T12:25:54.257098",
   "version": "2.6.0"
  },
  "vscode": {
   "interpreter": {
    "hash": "5ab0220f0ca30ec7bac8a7e209564eceae6d15412b9f87f3c2f91206aa8b151c"
   }
  }
 },
 "nbformat": 4,
 "nbformat_minor": 5
}