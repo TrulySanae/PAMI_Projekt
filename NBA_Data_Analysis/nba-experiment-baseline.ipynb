{
 "cells": [
  {
   "cell_type": "code",
   "execution_count": 49,
   "id": "d05cab18",
   "metadata": {
    "execution": {
     "iopub.execute_input": "2024-08-11T11:35:18.105052Z",
     "iopub.status.busy": "2024-08-11T11:35:18.104706Z",
     "iopub.status.idle": "2024-08-11T11:35:20.600081Z",
     "shell.execute_reply": "2024-08-11T11:35:20.599473Z"
    },
    "papermill": {
     "duration": 2.50417,
     "end_time": "2024-08-11T11:35:20.602409",
     "exception": false,
     "start_time": "2024-08-11T11:35:18.098239",
     "status": "completed"
    },
    "tags": []
   },
   "outputs": [],
   "source": [
    "import matplotlib.pyplot as plt\n",
    "import numpy as np\n",
    "import pandas as pd\n",
    "from pathlib import Path\n",
    "import seaborn as sn"
   ]
  },
  {
   "cell_type": "code",
   "execution_count": 50,
   "id": "d6302d10",
   "metadata": {
    "execution": {
     "iopub.execute_input": "2024-08-11T11:35:20.609231Z",
     "iopub.status.busy": "2024-08-11T11:35:20.608934Z",
     "iopub.status.idle": "2024-08-11T11:35:20.615926Z",
     "shell.execute_reply": "2024-08-11T11:35:20.614877Z"
    },
    "papermill": {
     "duration": 0.013933,
     "end_time": "2024-08-11T11:35:20.619534",
     "exception": false,
     "start_time": "2024-08-11T11:35:20.605601",
     "status": "completed"
    },
    "tags": []
   },
   "outputs": [],
   "source": [
    "# Setting so that the plots look normal even when using dark-reader\n",
    "sn.set_style(\"whitegrid\")\n",
    "sn.set_context(context=\"paper\", font_scale=2)\n",
    "pal = sn.color_palette(\"Set1\")\n",
    "\n",
    "# Setting up specifics for plotting + saving\n",
    "save_figures = True\n",
    "add_legend = False\n",
    "add_title = False\n",
    "add_axis = False\n",
    "save_parms = {'format': 'pdf','bbox_inches':'tight', 'pad_inches':0.1}\n",
    "line_parms = {'linewidth':4, 'color':'k'}\n",
    "if save_figures:  # saves all figures in a figure directory in the local directory\n",
    "    figure_dir = Path('.') / 'figures' / 'adult-income-experiment'\n",
    "    if not figure_dir.exists():\n",
    "        figure_dir.mkdir(parents=True)"
   ]
  },
  {
   "cell_type": "code",
   "execution_count": 51,
   "id": "22d1d0e0",
   "metadata": {
    "execution": {
     "iopub.execute_input": "2024-08-11T11:35:20.627247Z",
     "iopub.status.busy": "2024-08-11T11:35:20.627008Z",
     "iopub.status.idle": "2024-08-11T11:35:20.630568Z",
     "shell.execute_reply": "2024-08-11T11:35:20.629936Z"
    },
    "papermill": {
     "duration": 0.008671,
     "end_time": "2024-08-11T11:35:20.632162",
     "exception": false,
     "start_time": "2024-08-11T11:35:20.623491",
     "status": "completed"
    },
    "tags": []
   },
   "outputs": [],
   "source": [
    "# Experiment hyperparamters\n",
    "rng = np.random.RandomState(42)\n",
    "split_on_income = False  # if True: src := income>=50k, tgt :+ income<50k, if False: src := male, tgt := female\n",
    "n_samples = 1000"
   ]
  },
  {
   "cell_type": "code",
   "execution_count": 52,
   "id": "dade2b7e",
   "metadata": {
    "execution": {
     "iopub.execute_input": "2024-08-11T11:35:20.638759Z",
     "iopub.status.busy": "2024-08-11T11:35:20.638547Z",
     "iopub.status.idle": "2024-08-11T11:35:20.650205Z",
     "shell.execute_reply": "2024-08-11T11:35:20.649087Z"
    },
    "papermill": {
     "duration": 0.019979,
     "end_time": "2024-08-11T11:35:20.654744",
     "exception": false,
     "start_time": "2024-08-11T11:35:20.634765",
     "status": "completed"
    },
    "tags": []
   },
   "outputs": [
    {
     "name": "stdout",
     "output_type": "stream",
     "text": [
      "['Age', 'GamesPlayed', 'NetScoreOfPlayer']\n"
     ]
    }
   ],
   "source": [
    "\n",
    "# Load the data\n",
    "source_target_path = open('./File_Paths/path_source_target.txt', 'r').read()\n",
    "parameters = pd.read_csv(f'../{source_target_path}/experiment_parameters.csv')\n",
    "split_feature = parameters['split_feature'][0]\n",
    "instance_1 = parameters['instance_1'][0]\n",
    "instance_2 = parameters['instance_2'][0]\n",
    "file_path_a = f'../{source_target_path}/source_data_{instance_1}.csv'  \n",
    "file_path_b = f'../{source_target_path}/target_data_{instance_2}.csv'  \n",
    "\n",
    "source = pd.read_csv(file_path_a)\n",
    "target = pd.read_csv(file_path_b)\n",
    "feature_names = source.columns.values\n",
    "feature_names = list(feature_names)\n",
    "print(feature_names)"
   ]
  },
  {
   "cell_type": "code",
   "execution_count": 53,
   "id": "296df3b5",
   "metadata": {
    "execution": {
     "iopub.execute_input": "2024-08-11T11:35:20.665965Z",
     "iopub.status.busy": "2024-08-11T11:35:20.664835Z",
     "iopub.status.idle": "2024-08-11T11:35:20.826121Z",
     "shell.execute_reply": "2024-08-11T11:35:20.825205Z"
    },
    "papermill": {
     "duration": 0.171262,
     "end_time": "2024-08-11T11:35:20.830349",
     "exception": false,
     "start_time": "2024-08-11T11:35:20.659087",
     "status": "completed"
    },
    "tags": []
   },
   "outputs": [],
   "source": [
    "# standardize the source and target data, and convert to domain labels\n",
    "from sklearn.preprocessing import StandardScaler\n",
    "X = np.concatenate((source, target), axis=0)\n",
    "# standardize X to remove cardinatlity bias\n",
    "X = StandardScaler().fit_transform(X)\n",
    "y = np.concatenate((np.zeros(source.shape[0]),\n",
    "                    np.ones(target.shape[0])), axis=0)  # domain labels"
   ]
  },
  {
   "cell_type": "code",
   "execution_count": 54,
   "id": "c5422e1f",
   "metadata": {
    "execution": {
     "iopub.execute_input": "2024-08-11T11:35:20.843230Z",
     "iopub.status.busy": "2024-08-11T11:35:20.842550Z",
     "iopub.status.idle": "2024-08-11T11:35:21.046134Z",
     "shell.execute_reply": "2024-08-11T11:35:21.045404Z"
    },
    "papermill": {
     "duration": 0.213485,
     "end_time": "2024-08-11T11:35:21.049210",
     "exception": false,
     "start_time": "2024-08-11T11:35:20.835725",
     "status": "completed"
    },
    "tags": []
   },
   "outputs": [],
   "source": [
    "from sklearn.datasets import make_classification\n",
    "from sklearn.model_selection import train_test_split\n",
    "\n",
    "X_train, X_test, y_train, y_test = train_test_split(X, y,\n",
    "                                     stratify=y, random_state=42)"
   ]
  },
  {
   "cell_type": "code",
   "execution_count": 55,
   "id": "5d9ba299",
   "metadata": {
    "execution": {
     "iopub.execute_input": "2024-08-11T11:35:21.057989Z",
     "iopub.status.busy": "2024-08-11T11:35:21.057304Z",
     "iopub.status.idle": "2024-08-11T11:35:21.093746Z",
     "shell.execute_reply": "2024-08-11T11:35:21.093067Z"
    },
    "papermill": {
     "duration": 0.043028,
     "end_time": "2024-08-11T11:35:21.096033",
     "exception": false,
     "start_time": "2024-08-11T11:35:21.053005",
     "status": "completed"
    },
    "tags": []
   },
   "outputs": [],
   "source": [
    "# Using XGBoost\n",
    "import xgboost\n",
    "\n",
    "def fit_xgboost(X_train, y_train, X_test, y_test, feature_names=None):\n",
    "    \"\"\" Train an XGBoost model with early stopping.\n",
    "    \"\"\"\n",
    "    dtrain = xgboost.DMatrix(X_train, label=y_train, feature_names=feature_names)\n",
    "    dtest = xgboost.DMatrix(X_test, label=y_test, feature_names=feature_names)\n",
    "    # model = xgboost.train(\n",
    "    #     { \"eta\": 0.001, \"subsample\": 0.5, \"max_depth\": 2,\n",
    "    #       \"objective\": 'binary:logistic', 'eval_metric': 'logloss'}, dtrain, num_boost_round=200000,\n",
    "    #     evals=[(dtest,'eval'), (dtrain,'train')], early_stopping_rounds=20, verbose_eval=False\n",
    "    # )\n",
    "    model = xgboost.train(\n",
    "        {\"objective\": 'binary:logistic', 'eval_metric': 'logloss'},\n",
    "        dtrain,\n",
    "        evals=[(dtest,'eval'), (dtrain,'train')],\n",
    "        verbose_eval=False)\n",
    "    return model"
   ]
  },
  {
   "cell_type": "code",
   "execution_count": 56,
   "id": "bd7ac9f1",
   "metadata": {
    "execution": {
     "iopub.execute_input": "2024-08-11T11:35:21.102738Z",
     "iopub.status.busy": "2024-08-11T11:35:21.102477Z",
     "iopub.status.idle": "2024-08-11T11:35:21.155510Z",
     "shell.execute_reply": "2024-08-11T11:35:21.154801Z"
    },
    "papermill": {
     "duration": 0.059437,
     "end_time": "2024-08-11T11:35:21.158379",
     "exception": false,
     "start_time": "2024-08-11T11:35:21.098942",
     "status": "completed"
    },
    "tags": []
   },
   "outputs": [],
   "source": [
    "xgb_forest = fit_xgboost(X_train, y_train, X_test, y_test, feature_names)\n",
    "xgb_forest.feature_names = feature_names"
   ]
  },
  {
   "cell_type": "code",
   "execution_count": 57,
   "id": "dcaa3020",
   "metadata": {
    "execution": {
     "iopub.execute_input": "2024-08-11T11:35:21.166209Z",
     "iopub.status.busy": "2024-08-11T11:35:21.165793Z",
     "iopub.status.idle": "2024-08-11T11:35:21.170512Z",
     "shell.execute_reply": "2024-08-11T11:35:21.169567Z"
    },
    "papermill": {
     "duration": 0.011194,
     "end_time": "2024-08-11T11:35:21.172954",
     "exception": false,
     "start_time": "2024-08-11T11:35:21.161760",
     "status": "completed"
    },
    "tags": []
   },
   "outputs": [],
   "source": [
    "def get_acc(model, samples, labels, feature_names=None):\n",
    "    predictions = (model.predict(xgboost.DMatrix(samples,\n",
    "                                                 feature_names=feature_names)) > 0.5).astype(int)\n",
    "    return (predictions == labels).sum() / predictions.shape[0]"
   ]
  },
  {
   "cell_type": "code",
   "execution_count": 58,
   "id": "7ce6b380",
   "metadata": {
    "execution": {
     "iopub.execute_input": "2024-08-11T11:35:21.179915Z",
     "iopub.status.busy": "2024-08-11T11:35:21.179665Z",
     "iopub.status.idle": "2024-08-11T11:35:21.185517Z",
     "shell.execute_reply": "2024-08-11T11:35:21.184740Z"
    },
    "papermill": {
     "duration": 0.011499,
     "end_time": "2024-08-11T11:35:21.187755",
     "exception": false,
     "start_time": "2024-08-11T11:35:21.176256",
     "status": "completed"
    },
    "tags": []
   },
   "outputs": [
    {
     "name": "stdout",
     "output_type": "stream",
     "text": [
      "Train score: 0.8970588235294118\n",
      "Test score: 0.6764705882352942\n"
     ]
    }
   ],
   "source": [
    "print('Train score:', get_acc(xgb_forest, X_train, y_train, feature_names))\n",
    "print('Test score:', get_acc(xgb_forest, X_test, y_test, feature_names))"
   ]
  },
  {
   "cell_type": "code",
   "execution_count": 59,
   "id": "97a1d2b0",
   "metadata": {
    "execution": {
     "iopub.execute_input": "2024-08-11T11:35:21.194277Z",
     "iopub.status.busy": "2024-08-11T11:35:21.193973Z",
     "iopub.status.idle": "2024-08-11T11:35:22.369642Z",
     "shell.execute_reply": "2024-08-11T11:35:22.366289Z"
    },
    "papermill": {
     "duration": 1.189291,
     "end_time": "2024-08-11T11:35:22.379714",
     "exception": false,
     "start_time": "2024-08-11T11:35:21.190423",
     "status": "completed"
    },
    "tags": []
   },
   "outputs": [],
   "source": [
    "import shap\n",
    "import pandas as pd\n",
    "explainer = shap.Explainer(xgb_forest)\n",
    "\n",
    "shap_values = explainer(pd.DataFrame(X_test, columns=feature_names))\n"
   ]
  },
  {
   "cell_type": "code",
   "execution_count": 60,
   "id": "8e7a54a8",
   "metadata": {
    "execution": {
     "iopub.execute_input": "2024-08-11T11:35:22.400856Z",
     "iopub.status.busy": "2024-08-11T11:35:22.396460Z",
     "iopub.status.idle": "2024-08-11T11:35:23.706119Z",
     "shell.execute_reply": "2024-08-11T11:35:23.701668Z"
    },
    "papermill": {
     "duration": 1.325194,
     "end_time": "2024-08-11T11:35:23.710748",
     "exception": false,
     "start_time": "2024-08-11T11:35:22.385554",
     "status": "completed"
    },
    "tags": []
   },
   "outputs": [
    {
     "data": {
      "image/png": "[encoded data removed]",
      "text/plain": [
       "<Figure size 400x100 with 2 Axes>"
      ]
     },
     "metadata": {},
     "output_type": "display_data"
    }
   ],
   "source": [
    "# Beeswarm plot\n",
    "\n",
    "shap.plots.beeswarm(shap_values, show=False)\n",
    "file_path_baseline = open('./File_Paths/path_baseline.txt', 'r').read()\n",
    "fig = plt.gcf()\n",
    "fig.set_size_inches(4, 3, forward=True)\n",
    "if save_figures: plt.savefig(\n",
    "    f'../{file_path_baseline}/nba-data-split-on-{split_feature}-between-{instance_1}-and-{instance_2}-SHAP-baseline.{save_parms[\"format\"]}',\n",
    "    **save_parms,\n",
    "    transparent=True\n",
    "    )\n",
    "plt.show()"
   ]
  }
 ],
 "metadata": {
  "kernelspec": {
   "display_name": "Python 3.7.11 ('py37')",
   "language": "python",
   "name": "python3"
  },
  "language_info": {
   "codemirror_mode": {
    "name": "ipython",
    "version": 3
   },
   "file_extension": ".py",
   "mimetype": "text/x-python",
   "name": "python",
   "nbconvert_exporter": "python",
   "pygments_lexer": "ipython3",
   "version": "3.12.0"
  },
  "papermill": {
   "default_parameters": {},
   "duration": 8.962425,
   "end_time": "2024-08-11T11:35:24.654833",
   "environment_variables": {},
   "exception": null,
   "input_path": "nba-experiment-baseline.ipynb",
   "output_path": "nba-experiment-baseline.ipynb",
   "parameters": {},
   "start_time": "2024-08-11T11:35:15.692408",
   "version": "2.6.0"
  },
  "vscode": {
   "interpreter": {
    "hash": "5ab0220f0ca30ec7bac8a7e209564eceae6d15412b9f87f3c2f91206aa8b151c"
   }
  }
 },
 "nbformat": 4,
 "nbformat_minor": 5
}
