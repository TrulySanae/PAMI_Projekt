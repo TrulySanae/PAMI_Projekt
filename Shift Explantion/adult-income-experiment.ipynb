{
 "cells": [
  {
   "cell_type": "code",
   "execution_count": 14,
   "metadata": {
    "ExecuteTime": {
     "end_time": "2024-07-30T15:43:51.979079Z",
     "start_time": "2024-07-30T15:43:48.244817Z"
    }
   },
   "outputs": [],
   "source": [
    "import numpy as np\n",
    "import ot\n",
    "import matplotlib as mpl\n",
    "import matplotlib.pyplot as plt\n",
    "import matplotlib.ticker as mtick\n",
    "from scipy.stats import multivariate_normal\n",
    "import seaborn as sn\n",
    "import pandas as pd\n",
    "from pathlib import Path\n",
    "from sklearn.utils import check_random_state\n",
    "from scipy.spatial.distance import cdist\n",
    "# User functions\n",
    "from utils import W2_dist, BaseTransport, GaussianTransport, get_trajectories_for_plotting, \\\n",
    "                  calc_parsimony, get_desiderata\n",
    "\n",
    "# We will be using data from  the UCI: Gas sensor array under dynamic gas mixtures Data Set\n",
    "# Link: https://archive.ics.uci.edu/ml/datasets/gas+sensor+array+under+dynamic+gas+mixtures\n",
    "data_dir = Path('data')"
   ]
  },
  {
   "cell_type": "code",
   "execution_count": 15,
   "metadata": {
    "ExecuteTime": {
     "end_time": "2024-07-30T15:43:52.015425Z",
     "start_time": "2024-07-30T15:43:51.980232Z"
    }
   },
   "outputs": [],
   "source": [
    "# Experiment hyperparamters\n",
    "rng = np.random.RandomState(42)\n",
    "\n"
   ]
  },
  {
   "cell_type": "code",
   "execution_count": 16,
   "metadata": {
    "ExecuteTime": {
     "end_time": "2024-07-30T15:43:52.034378Z",
     "start_time": "2024-07-30T15:43:51.991902Z"
    }
   },
   "outputs": [],
   "source": [
    "# Setting so that the plots look normal even when using dark-reader\n",
    "sn.set_style(\"whitegrid\")\n",
    "sn.set_context(context=\"paper\", font_scale=2)\n",
    "pal = sn.color_palette(\"Set1\")\n",
    "\n",
    "# Setting up specifics for plotting + saving\n",
    "save_figures = True\n",
    "add_legend = False\n",
    "add_title = False\n",
    "add_axis = False\n",
    "save_parms = {'format': 'pdf','bbox_inches':'tight', 'pad_inches':0}\n",
    "line_parms = {'linewidth':4, 'color':'k'}\n",
    "if save_figures:  # saves all figures in a figure directory in the local directory\n",
    "    figure_dir = Path('.') / 'figures' / 'adult-income-experiment'\n",
    "    if not figure_dir.exists():\n",
    "        figure_dir.mkdir(parents=True)"
   ]
  },
  {
   "cell_type": "code",
   "execution_count": 17,
   "metadata": {
    "ExecuteTime": {
     "end_time": "2024-07-30T15:43:52.206010Z",
     "start_time": "2024-07-30T15:43:52.007469Z"
    }
   },
   "outputs": [
    {
     "name": "stdout",
     "output_type": "stream",
     "text": [
      "zsh:1: command not found: dir\n"
     ]
    }
   ],
   "source": [
    "!dir $data_dir"
   ]
  },
  {
   "cell_type": "markdown",
   "metadata": {},
   "source": [
    "## Loading and Preprocessing the data\n"
   ]
  },
  {
   "cell_type": "code",
   "execution_count": 18,
   "metadata": {
    "ExecuteTime": {
     "end_time": "2024-07-30T15:43:52.721195Z",
     "start_time": "2024-07-30T15:43:52.210050Z"
    }
   },
   "outputs": [
    {
     "name": "stdout",
     "output_type": "stream",
     "text": [
      "./00_simulate_data/Output Customer Data/customer_profile_0.csv\n",
      "Comparing customer_profile_0 and customer_profile_1\n",
      "Finished preprocessing logistic dataset. Split on customer_profile_0 and customer_profile_1 with resulting source shape: (3000, 3), target shape: (3000, 3).\n",
      "['Connection', 'Weight', 'Unit_type']\n",
      "[[14.         37.68160172 30.        ]\n",
      " [18.         19.68350228 20.        ]\n",
      " [20.         14.12809114 20.        ]\n",
      " ...\n",
      " [15.          5.69148725 40.        ]\n",
      " [14.         39.48060852 30.        ]\n",
      " [ 4.         20.47270245 80.        ]]\n",
      "[[ 7.          6.4444795  40.        ]\n",
      " [ 7.         33.0553721  80.        ]\n",
      " [ 7.          4.28312835 40.        ]\n",
      " ...\n",
      " [ 5.          9.17333621 40.        ]\n",
      " [ 3.         13.12053271 40.        ]\n",
      " [ 5.         28.98360235 22.        ]]\n"
     ]
    }
   ],
   "source": [
    "from data_utils import load_and_preprocess_logistics_data\n",
    "continuous_variables_indicies = [0,1,2]\n",
    "# Pick the desired dataset combination\n",
    "comparison_dict = {0: [0,1], 1: [2,3], 2: [4,5]}\n",
    "comparison_id = 0\n",
    "# n_samples = 'balanced'\n",
    "n_samples = 3000\n",
    "equal_week_split = True\n",
    "\n",
    "X, Y, feature_names = load_and_preprocess_logistics_data(\n",
    "            data_dir, rng, n_samples, return_column_names=True,equal_week_split=equal_week_split, comparison_id=\n",
    "            comparison_id, comparison_dict=comparison_dict)\n",
    "from sklearn.preprocessing import StandardScaler\n",
    "standardizer = StandardScaler()\n",
    "print(feature_names)\n",
    "print(X)\n",
    "print(Y)"
   ]
  },
  {
   "cell_type": "markdown",
   "metadata": {},
   "source": [
    "## Performing Clustering"
   ]
  },
  {
   "cell_type": "code",
   "execution_count": 19,
   "metadata": {
    "ExecuteTime": {
     "end_time": "2024-07-30T15:43:52.752759Z",
     "start_time": "2024-07-30T15:43:52.657182Z"
    }
   },
   "outputs": [],
   "source": [
    "def get_mixed_variable_desiderata(X_continuous, Y_continuous, Z, standardizer, continuous_variables_indicies,\n",
    "                                  n_expectation=10, inter=None, rng=None):\n",
    "    rng = check_random_state(rng)\n",
    "    non_continuous_variables_indicies = np.delete(np.arange(X.shape[1]), continuous_variables_indicies)\n",
    "    fids = np.zeros(n_expectation)\n",
    "    pars = np.zeros(n_expectation)\n",
    "    for loop_idx in range(n_expectation):\n",
    "        # since Z is in a pseudo continuous space, we project it to a discrete space using the phase change graph defined within Z\n",
    "        # since the Z[i, j_descrete] is probability of that point being positive\n",
    "        Z_projected_discrete = Z.copy()\n",
    "        uniform_vars = rng.uniform(size=(Z.shape[0], len(non_continuous_variables_indicies)))\n",
    "        positive_probability = Z[:, non_continuous_variables_indicies]\n",
    "        # Z_projected_discrete[:, non_continuous_variables_indicies] = (uniform_vars <= positive_probability).astype(Z.dtype)\n",
    "        Z_projected_continous = standardizer.transform(Z_projected_discrete)\n",
    "        # Calculating fidelity\n",
    "        M = cdist(Y_continuous, Z_projected_continous, 'sqeuclidean')\n",
    "        a,b = ot.utils.unif(X.shape[0]), ot.utils.unif(Z.shape[0])\n",
    "        fid = ot.emd2(a, b, M)\n",
    "        # Calculating parsimony\n",
    "        par = calc_parsimony(X_continuous, Z_projected_continous)\n",
    "        # recording\n",
    "        fids[loop_idx] = fid\n",
    "        pars[loop_idx] = par\n",
    "    fid, par = fids.mean(), pars.mean()\n",
    "    if inter is not None:\n",
    "        print(f'Fid: {fid:.3f}, Par: {par:.3f}, Inter: {inter}')\n",
    "    return fid, par, inter"
   ]
  },
  {
   "cell_type": "code",
   "execution_count": 20,
   "metadata": {
    "ExecuteTime": {
     "end_time": "2024-07-30T15:43:52.754337Z",
     "start_time": "2024-07-30T15:43:52.675136Z"
    }
   },
   "outputs": [],
   "source": [
    "def mixed_cluster_push_forward(X_cluster, Z_cluster, continuous_vars):\n",
    "    non_continuous_vars = np.delete(np.arange(X_cluster.shape[1]), continuous_variables_indicies)\n",
    "    X_cluster_pushed = X_cluster.copy()\n",
    "    X_cluster_means = X_cluster.mean(axis=0)\n",
    "    Z_cluster_means = Z_cluster.mean(axis=0)\n",
    "    X_cluster_pushed[:, continuous_vars] += Z_cluster_means[continuous_vars] - X_cluster_means[continuous_vars]\n",
    "    X_cluster_pushed[:, non_continuous_vars] = Z_cluster_means[non_continuous_vars]  # sets T(X_discrete) to Pr(Z_discrete = 1)\n",
    "    return X_cluster_pushed"
   ]
  },
  {
   "cell_type": "code",
   "execution_count": 21,
   "metadata": {
    "ExecuteTime": {
     "end_time": "2024-07-30T15:43:52.754727Z",
     "start_time": "2024-07-30T15:43:52.705944Z"
    }
   },
   "outputs": [],
   "source": [
    "## Hyperparameters\n",
    "max_clusters = 10"
   ]
  },
  {
   "cell_type": "code",
   "execution_count": 22,
   "metadata": {
    "ExecuteTime": {
     "end_time": "2024-07-30T15:45:03.642505Z",
     "start_time": "2024-07-30T15:43:52.735272Z"
    },
    "scrolled": false
   },
   "outputs": [
    {
     "name": "stderr",
     "output_type": "stream",
     "text": [
      "/Library/Frameworks/Python.framework/Versions/3.12/lib/python3.12/site-packages/ot/lp/__init__.py:571: UserWarning: numItermax reached before optimality. Try to increase numItermax.\n",
      "  check_result(result_code)\n"
     ]
    },
    {
     "name": "stdout",
     "output_type": "stream",
     "text": [
      "Fid: 2.030, Par: 0.000, Inter: 0\n",
      "Fid: 0.567, Par: 4388.561, Inter: 1\n",
      "Fid: 0.564, Par: 4398.812, Inter: 2\n",
      "Fid: 0.534, Par: 4436.700, Inter: 3\n",
      "Fid: 0.381, Par: 4828.675, Inter: 4\n",
      "Fid: 0.335, Par: 4993.163, Inter: 5\n",
      "Fid: 0.314, Par: 5053.510, Inter: 6\n",
      "Fid: 0.215, Par: 5313.430, Inter: 7\n",
      "Fid: 0.245, Par: 5259.314, Inter: 8\n",
      "Fid: 0.216, Par: 5356.333, Inter: 9\n",
      "Fid: 0.218, Par: 5335.954, Inter: 10\n"
     ]
    }
   ],
   "source": [
    "# Increasing the number of clusters to see the increase in fidelity and decrease in interpretability\n",
    "\n",
    "cluster_histories = []\n",
    "\n",
    "# fitting standardizer on our source domain\n",
    "standardizer = standardizer.fit(X)\n",
    "\n",
    "# Finding base desiderata values for T=id\n",
    "X_continuous, Y_continuous = standardizer.transform(X), standardizer.transform(Y)\n",
    "fid, par, inter = get_mixed_variable_desiderata(X_continuous, Y_continuous, X, standardizer, continuous_variables_indicies,\n",
    "                                                n_expectation=1, inter=0, rng=rng)  # showing the base desiderata\n",
    "fids = np.zeros(max_clusters+1)\n",
    "fids[0] = fid\n",
    "pars = np.zeros(max_clusters+1)\n",
    "pars[0] = par\n",
    "inters = np.zeros(max_clusters+1)\n",
    "inters[0] = 0\n",
    "\n",
    "################################################################################################################################################\n",
    "T = BaseTransport(X, Y, fit=True)\n",
    "Z = T.forward(X, Y)\n",
    "Z_continuous = standardizer.transform(Z)\n",
    "\n",
    "for n_clusters in range(1, max_clusters+1):\n",
    "     # performs paired clustering in a continuous joint X,Z space\n",
    "    cluster_labels = T._pair_clustering(X_continuous, Z=Z_continuous, n_clusters=n_clusters, rng=rng) \n",
    "    \n",
    "    Z_clusters = np.zeros_like(Z)  # the final output of the cluster mean shift transport\n",
    "    for cluster_idx in range(n_clusters):\n",
    "        X_cluster = X[cluster_labels == cluster_idx]\n",
    "        Z_cluster = Z[cluster_labels == cluster_idx]\n",
    "        # A method similar for cluster mean shift transport, but with accounting for binary variables\n",
    "        X_cluster_pushed = mixed_cluster_push_forward(X_cluster, Z_cluster, continuous_variables_indicies)\n",
    "        Z_clusters[cluster_labels == cluster_idx] = X_cluster_pushed\n",
    "        \n",
    "    # getting desiderata information\n",
    "    fid, par, inter = get_mixed_variable_desiderata(X_continuous, Y_continuous, Z_clusters, standardizer, \n",
    "                                                    continuous_variables_indicies, n_expectation=30,\n",
    "                                                    inter=n_clusters, rng=rng)\n",
    "    fids[n_clusters] = fid\n",
    "    pars[n_clusters] = par\n",
    "    inters[n_clusters] = n_clusters\n",
    "\n",
    "    cluster_record = {\n",
    "        'labels': cluster_labels.copy(),\n",
    "        'Z_clusters': Z_clusters.copy(),\n",
    "        'n_clusters': n_clusters\n",
    "    }\n",
    "    cluster_histories.append(cluster_record)"
   ]
  },
  {
   "cell_type": "code",
   "execution_count": 23,
   "metadata": {
    "ExecuteTime": {
     "end_time": "2024-07-30T15:45:03.680601Z",
     "start_time": "2024-07-30T15:45:03.630259Z"
    }
   },
   "outputs": [],
   "source": [
    "# changing fidelity to be % of shift explained\n",
    "def calc_percent_explained(x):\n",
    "    return 100*(max_fid - x) / max_fid\n",
    "max_fid = fids[0]\n",
    "percent_explained = np.apply_along_axis(calc_percent_explained, 0, fids)"
   ]
  },
  {
   "cell_type": "code",
   "execution_count": 24,
   "metadata": {
    "ExecuteTime": {
     "end_time": "2024-07-30T15:45:05.250244Z",
     "start_time": "2024-07-30T15:45:03.651063Z"
    }
   },
   "outputs": [
    {
     "name": "stdout",
     "output_type": "stream",
     "text": [
      "Results with splitting on customer_profile_0 and customer_profile_1:\n"
     ]
    },
    {
     "data": {
      "image/png": "[encoded data removed]",
      "text/plain": [
       "<Figure size 640x480 with 2 Axes>"
      ]
     },
     "metadata": {},
     "output_type": "display_data"
    }
   ],
   "source": [
    "# Create Plot\n",
    "fig, ax1 = plt.subplots() \n",
    "  \n",
    "ax1.set_xlabel('Number of Clusters') \n",
    "ax1.set_ylabel('Transport Cost', color = pal[0]) \n",
    "ax1.plot(np.arange(max_clusters+1), pars, color = pal[0],\n",
    "         **{k:v for (k,v) in line_parms.items() if k != 'color'})  \n",
    "ax1.tick_params(axis ='y', labelcolor = pal[0]) \n",
    "# Adding Twin Axes\n",
    "ax2 = ax1.twinx() \n",
    "ax2.set_ylabel('Percent Explained', color = pal[1]) \n",
    "ax2.plot(np.arange(max_clusters+1), percent_explained, color = pal[1],\n",
    "         **{k:v for (k,v) in line_parms.items() if k != 'color'}) \n",
    "ax2.tick_params(axis ='y', labelcolor = pal[1]) \n",
    "ax2.yaxis.set_major_formatter(mtick.PercentFormatter())\n",
    "ax2.set_ylim(None, 100)\n",
    "\n",
    "\n",
    "\n",
    "print(f'Results with splitting on customer_profile_{comparison_dict[comparison_id][0]} and customer_profile_{comparison_dict[comparison_id][1]}:')\n",
    "if save_figures: plt.savefig(\n",
    "    figure_dir / f'logitics_data_oncustomer_profile_{comparison_dict[comparison_id][0]} and customer_profile_{comparison_dict[comparison_id][1]}--clustering-results.{save_parms[\"format\"]}',\n",
    "    **save_parms\n",
    "    )\n",
    "plt.show()"
   ]
  },
  {
   "cell_type": "code",
   "execution_count": 25,
   "metadata": {
    "ExecuteTime": {
     "end_time": "2024-07-30T15:45:05.385732Z",
     "start_time": "2024-07-30T15:45:05.253155Z"
    }
   },
   "outputs": [
    {
     "name": "stdout",
     "output_type": "stream",
     "text": [
      "Starting 1 cluster results:\n",
      "\tCluster: 0\n",
      "\t\t\t\t     Names=['Con', 'Wei', 'Uni']\n",
      "\t\t   customer_profile_0_mean=[10.764 21.278 39.222]\n",
      "\t\tT(customer_profile_1)_mean=[ 4.957 20.469 35.198]\n",
      "\n",
      "Starting 2 cluster results:\n",
      "\tCluster: 0\n",
      "\t\t\t\t     Names=['Con', 'Wei', 'Uni']\n",
      "\t\t   customer_profile_0_mean=[10.448 30.724 42.066]\n",
      "\t\tT(customer_profile_1)_mean=[ 4.542 29.302 37.999]\n",
      "\tCluster: 1\n",
      "\t\t\t\t     Names=['Con', 'Wei', 'Uni']\n",
      "\t\t   customer_profile_0_mean=[11.083 11.73  36.347]\n",
      "\t\tT(customer_profile_1)_mean=[ 5.375 11.542 32.367]\n",
      "\n",
      "Starting 3 cluster results:\n",
      "\tCluster: 0\n",
      "\t\t\t\t     Names=['Con', 'Wei', 'Uni']\n",
      "\t\t   customer_profile_0_mean=[10.222 23.206 80.   ]\n",
      "\t\tT(customer_profile_1)_mean=[ 4.423 22.386 71.118]\n",
      "\tCluster: 1\n",
      "\t\t\t\t     Names=['Con', 'Wei', 'Uni']\n",
      "\t\t   customer_profile_0_mean=[10.891 10.874 30.158]\n",
      "\t\tT(customer_profile_1)_mean=[ 5.31  10.643 26.699]\n",
      "\tCluster: 2\n",
      "\t\t\t\t     Names=['Con', 'Wei', 'Uni']\n",
      "\t\t   customer_profile_0_mean=[10.917 30.284 27.23 ]\n",
      "\t\tT(customer_profile_1)_mean=[ 4.888 28.927 25.128]\n",
      "\n",
      "Starting 4 cluster results:\n",
      "\tCluster: 0\n",
      "\t\t\t\t     Names=['Con', 'Wei', 'Uni']\n",
      "\t\t   customer_profile_0_mean=[15.555 15.255 28.699]\n",
      "\t\tT(customer_profile_1)_mean=[ 7.155 14.813 26.099]\n",
      "\tCluster: 1\n",
      "\t\t\t\t     Names=['Con', 'Wei', 'Uni']\n",
      "\t\t   customer_profile_0_mean=[10.352 23.573 80.   ]\n",
      "\t\tT(customer_profile_1)_mean=[ 4.474 22.692 72.161]\n",
      "\tCluster: 2\n",
      "\t\t\t\t     Names=['Con', 'Wei', 'Uni']\n",
      "\t\t   customer_profile_0_mean=[ 7.071 10.968 31.947]\n",
      "\t\tT(customer_profile_1)_mean=[ 3.822 10.783 27.137]\n",
      "\tCluster: 3\n",
      "\t\t\t\t     Names=['Con', 'Wei', 'Uni']\n",
      "\t\t   customer_profile_0_mean=[10.186 32.202 27.228]\n",
      "\t\tT(customer_profile_1)_mean=[ 4.452 30.69  25.103]\n",
      "\n",
      "Starting 5 cluster results:\n",
      "\tCluster: 0\n",
      "\t\t\t\t     Names=['Con', 'Wei', 'Uni']\n",
      "\t\t   customer_profile_0_mean=[16.673 20.768 80.   ]\n",
      "\t\tT(customer_profile_1)_mean=[ 7.056 19.951 70.484]\n",
      "\tCluster: 1\n",
      "\t\t\t\t     Names=['Con', 'Wei', 'Uni']\n",
      "\t\t   customer_profile_0_mean=[ 9.878  9.992 28.785]\n",
      "\t\tT(customer_profile_1)_mean=[ 4.87   9.719 26.583]\n",
      "\tCluster: 2\n",
      "\t\t\t\t     Names=['Con', 'Wei', 'Uni']\n",
      "\t\t   customer_profile_0_mean=[15.507 23.233 26.823]\n",
      "\t\tT(customer_profile_1)_mean=[ 7.002 22.461 24.454]\n",
      "\tCluster: 3\n",
      "\t\t\t\t     Names=['Con', 'Wei', 'Uni']\n",
      "\t\t   customer_profile_0_mean=[ 6.195 22.733 80.   ]\n",
      "\t\tT(customer_profile_1)_mean=[ 2.769 22.077 68.321]\n",
      "\tCluster: 4\n",
      "\t\t\t\t     Names=['Con', 'Wei', 'Uni']\n",
      "\t\t   customer_profile_0_mean=[ 8.458 32.353 27.269]\n",
      "\t\tT(customer_profile_1)_mean=[ 3.872 30.808 25.514]\n",
      "\n",
      "Starting 6 cluster results:\n",
      "\tCluster: 0\n",
      "\t\t\t\t     Names=['Con', 'Wei', 'Uni']\n",
      "\t\t   customer_profile_0_mean=[14.896 28.227 27.675]\n",
      "\t\tT(customer_profile_1)_mean=[ 6.587 27.209 24.803]\n",
      "\tCluster: 1\n",
      "\t\t\t\t     Names=['Con', 'Wei', 'Uni']\n",
      "\t\t   customer_profile_0_mean=[ 7.715 12.088 26.728]\n",
      "\t\tT(customer_profile_1)_mean=[ 4.091 11.829 25.378]\n",
      "\tCluster: 2\n",
      "\t\t\t\t     Names=['Con', 'Wei', 'Uni']\n",
      "\t\t   customer_profile_0_mean=[ 9.455 29.899 80.   ]\n",
      "\t\tT(customer_profile_1)_mean=[ 3.952 28.565 70.636]\n",
      "\tCluster: 3\n",
      "\t\t\t\t     Names=['Con', 'Wei', 'Uni']\n",
      "\t\t   customer_profile_0_mean=[16.147 10.272 28.229]\n",
      "\t\tT(customer_profile_1)_mean=[ 7.279 10.114 26.781]\n",
      "\tCluster: 4\n",
      "\t\t\t\t     Names=['Con', 'Wei', 'Uni']\n",
      "\t\t   customer_profile_0_mean=[ 7.488 32.57  27.047]\n",
      "\t\tT(customer_profile_1)_mean=[ 3.439 30.732 25.596]\n",
      "\tCluster: 5\n",
      "\t\t\t\t     Names=['Con', 'Wei', 'Uni']\n",
      "\t\t   customer_profile_0_mean=[10.796  9.986 80.   ]\n",
      "\t\tT(customer_profile_1)_mean=[ 4.975 10.183 65.123]\n",
      "\n",
      "Starting 7 cluster results:\n",
      "\tCluster: 0\n",
      "\t\t\t\t     Names=['Con', 'Wei', 'Uni']\n",
      "\t\t   customer_profile_0_mean=[16.89  21.306 80.   ]\n",
      "\t\tT(customer_profile_1)_mean=[ 7.141 20.423 71.366]\n",
      "\tCluster: 1\n",
      "\t\t\t\t     Names=['Con', 'Wei', 'Uni']\n",
      "\t\t   customer_profile_0_mean=[ 7.805 12.217 26.642]\n",
      "\t\tT(customer_profile_1)_mean=[ 4.142 11.962 25.294]\n",
      "\tCluster: 2\n",
      "\t\t\t\t     Names=['Con', 'Wei', 'Uni']\n",
      "\t\t   customer_profile_0_mean=[14.922 28.246 27.497]\n",
      "\t\tT(customer_profile_1)_mean=[ 6.593 27.231 24.757]\n",
      "\tCluster: 3\n",
      "\t\t\t\t     Names=['Con', 'Wei', 'Uni']\n",
      "\t\t   customer_profile_0_mean=[16.286  9.976 28.962]\n",
      "\t\tT(customer_profile_1)_mean=[ 7.292  9.82  27.095]\n",
      "\tCluster: 4\n",
      "\t\t\t\t     Names=['Con', 'Wei', 'Uni']\n",
      "\t\t   customer_profile_0_mean=[ 6.439 29.941 80.   ]\n",
      "\t\tT(customer_profile_1)_mean=[ 2.804 28.606 69.614]\n",
      "\tCluster: 5\n",
      "\t\t\t\t     Names=['Con', 'Wei', 'Uni']\n",
      "\t\t   customer_profile_0_mean=[ 6.622  7.728 80.   ]\n",
      "\t\tT(customer_profile_1)_mean=[ 3.28   8.391 62.195]\n",
      "\tCluster: 6\n",
      "\t\t\t\t     Names=['Con', 'Wei', 'Uni']\n",
      "\t\t   customer_profile_0_mean=[ 7.487 32.625 27.066]\n",
      "\t\tT(customer_profile_1)_mean=[ 3.438 30.776 25.614]\n",
      "\n",
      "Starting 8 cluster results:\n",
      "\tCluster: 0\n",
      "\t\t\t\t     Names=['Con', 'Wei', 'Uni']\n",
      "\t\t   customer_profile_0_mean=[16.641 21.06  80.   ]\n",
      "\t\tT(customer_profile_1)_mean=[ 7.043 20.185 72.554]\n",
      "\tCluster: 1\n",
      "\t\t\t\t     Names=['Con', 'Wei', 'Uni']\n",
      "\t\t   customer_profile_0_mean=[ 6.73  21.035 26.364]\n",
      "\t\tT(customer_profile_1)_mean=[ 3.34  20.954 25.412]\n",
      "\tCluster: 2\n",
      "\t\t\t\t     Names=['Con', 'Wei', 'Uni']\n",
      "\t\t   customer_profile_0_mean=[16.446  8.269 30.691]\n",
      "\t\tT(customer_profile_1)_mean=[ 7.309  8.189 27.988]\n",
      "\tCluster: 3\n",
      "\t\t\t\t     Names=['Con', 'Wei', 'Uni']\n",
      "\t\t   customer_profile_0_mean=[16.138 34.053 29.687]\n",
      "\t\tT(customer_profile_1)_mean=[ 7.254 32.706 26.067]\n",
      "\tCluster: 4\n",
      "\t\t\t\t     Names=['Con', 'Wei', 'Uni']\n",
      "\t\t   customer_profile_0_mean=[ 7.205  7.652 34.669]\n",
      "\t\tT(customer_profile_1)_mean=[ 3.956  7.303 27.958]\n",
      "\tCluster: 5\n",
      "\t\t\t\t     Names=['Con', 'Wei', 'Uni']\n",
      "\t\t   customer_profile_0_mean=[ 7.783 35.551 27.452]\n",
      "\t\tT(customer_profile_1)_mean=[ 3.576 33.169 25.742]\n",
      "\tCluster: 6\n",
      "\t\t\t\t     Names=['Con', 'Wei', 'Uni']\n",
      "\t\t   customer_profile_0_mean=[ 6.353 24.916 80.   ]\n",
      "\t\tT(customer_profile_1)_mean=[ 2.842 24.048 71.739]\n",
      "\tCluster: 7\n",
      "\t\t\t\t     Names=['Con', 'Wei', 'Uni']\n",
      "\t\t   customer_profile_0_mean=[13.592 21.183 25.785]\n",
      "\t\tT(customer_profile_1)_mean=[ 6.098 20.634 23.569]\n",
      "\n",
      "Starting 9 cluster results:\n",
      "\tCluster: 0\n",
      "\t\t\t\t     Names=['Con', 'Wei', 'Uni']\n",
      "\t\t   customer_profile_0_mean=[16.911 29.783 80.   ]\n",
      "\t\tT(customer_profile_1)_mean=[ 6.782 28.504 73.226]\n",
      "\tCluster: 1\n",
      "\t\t\t\t     Names=['Con', 'Wei', 'Uni']\n",
      "\t\t   customer_profile_0_mean=[15.554 29.52  28.234]\n",
      "\t\tT(customer_profile_1)_mean=[ 6.8   28.33  25.262]\n",
      "\tCluster: 2\n",
      "\t\t\t\t     Names=['Con', 'Wei', 'Uni']\n",
      "\t\t   customer_profile_0_mean=[ 7.586 35.317 27.344]\n",
      "\t\tT(customer_profile_1)_mean=[ 3.509 32.955 25.828]\n",
      "\tCluster: 3\n",
      "\t\t\t\t     Names=['Con', 'Wei', 'Uni']\n",
      "\t\t   customer_profile_0_mean=[ 6.329  7.823 80.   ]\n",
      "\t\tT(customer_profile_1)_mean=[ 3.165  8.515 62.785]\n",
      "\tCluster: 4\n",
      "\t\t\t\t     Names=['Con', 'Wei', 'Uni']\n",
      "\t\t   customer_profile_0_mean=[16.537 12.465 80.   ]\n",
      "\t\tT(customer_profile_1)_mean=[ 7.301 12.052 67.642]\n",
      "\tCluster: 5\n",
      "\t\t\t\t     Names=['Con', 'Wei', 'Uni']\n",
      "\t\t   customer_profile_0_mean=[ 8.498 20.352 25.491]\n",
      "\t\tT(customer_profile_1)_mean=[ 4.11  20.286 24.329]\n",
      "\tCluster: 6\n",
      "\t\t\t\t     Names=['Con', 'Wei', 'Uni']\n",
      "\t\t   customer_profile_0_mean=[ 6.182 29.771 80.   ]\n",
      "\t\tT(customer_profile_1)_mean=[ 2.731 28.422 69.382]\n",
      "\tCluster: 7\n",
      "\t\t\t\t     Names=['Con', 'Wei', 'Uni']\n",
      "\t\t   customer_profile_0_mean=[ 7.492  8.19  27.332]\n",
      "\t\tT(customer_profile_1)_mean=[ 4.135  7.679 25.74 ]\n",
      "\tCluster: 8\n",
      "\t\t\t\t     Names=['Con', 'Wei', 'Uni']\n",
      "\t\t   customer_profile_0_mean=[16.262 10.394 28.398]\n",
      "\t\tT(customer_profile_1)_mean=[ 7.297 10.236 26.892]\n",
      "\n",
      "Starting 10 cluster results:\n",
      "\tCluster: 0\n",
      "\t\t\t\t     Names=['Con', 'Wei', 'Uni']\n",
      "\t\t   customer_profile_0_mean=[ 6.362  7.956 80.   ]\n",
      "\t\tT(customer_profile_1)_mean=[ 3.169  8.634 63.   ]\n",
      "\tCluster: 1\n",
      "\t\t\t\t     Names=['Con', 'Wei', 'Uni']\n",
      "\t\t   customer_profile_0_mean=[ 8.064 20.644 25.628]\n",
      "\t\tT(customer_profile_1)_mean=[ 3.84  20.598 24.492]\n",
      "\tCluster: 2\n",
      "\t\t\t\t     Names=['Con', 'Wei', 'Uni']\n",
      "\t\t   customer_profile_0_mean=[16.255  8.501 28.943]\n",
      "\t\tT(customer_profile_1)_mean=[ 7.239  8.384 27.535]\n",
      "\tCluster: 3\n",
      "\t\t\t\t     Names=['Con', 'Wei', 'Uni']\n",
      "\t\t   customer_profile_0_mean=[ 7.616 35.269 27.368]\n",
      "\t\tT(customer_profile_1)_mean=[ 3.487 32.879 25.849]\n",
      "\tCluster: 4\n",
      "\t\t\t\t     Names=['Con', 'Wei', 'Uni']\n",
      "\t\t   customer_profile_0_mean=[16.92  29.714 80.   ]\n",
      "\t\tT(customer_profile_1)_mean=[ 6.784 28.431 73.28 ]\n",
      "\tCluster: 5\n",
      "\t\t\t\t     Names=['Con', 'Wei', 'Uni']\n",
      "\t\t   customer_profile_0_mean=[ 7.59   8.375 27.279]\n",
      "\t\tT(customer_profile_1)_mean=[ 4.176  7.876 25.685]\n",
      "\tCluster: 6\n",
      "\t\t\t\t     Names=['Con', 'Wei', 'Uni']\n",
      "\t\t   customer_profile_0_mean=[15.318 36.218 28.378]\n",
      "\t\tT(customer_profile_1)_mean=[ 6.95  34.859 25.363]\n",
      "\tCluster: 7\n",
      "\t\t\t\t     Names=['Con', 'Wei', 'Uni']\n",
      "\t\t   customer_profile_0_mean=[ 6.161 29.854 80.   ]\n",
      "\t\tT(customer_profile_1)_mean=[ 2.725 28.498 69.304]\n",
      "\tCluster: 8\n",
      "\t\t\t\t     Names=['Con', 'Wei', 'Uni']\n",
      "\t\t   customer_profile_0_mean=[16.525 12.394 80.   ]\n",
      "\t\tT(customer_profile_1)_mean=[ 7.303 11.992 67.541]\n",
      "\tCluster: 9\n",
      "\t\t\t\t     Names=['Con', 'Wei', 'Uni']\n",
      "\t\t   customer_profile_0_mean=[15.436 23.207 27.314]\n",
      "\t\tT(customer_profile_1)_mean=[ 6.864 22.364 24.748]\n",
      "\n"
     ]
    }
   ],
   "source": [
    "for record_idx in range(max_clusters):\n",
    "    cluster_record = cluster_histories[record_idx]\n",
    "    Z_clusters = cluster_record['Z_clusters']\n",
    "    labels = cluster_record['labels']\n",
    "    n_clusters = cluster_record['n_clusters']\n",
    "    print(f'Starting {n_clusters} cluster results:')\n",
    "\n",
    "    tgt = f'customer_profile_{comparison_dict[comparison_id][1]}'\n",
    "    src = f'customer_profile_{comparison_dict[comparison_id][0]}'\n",
    "    with np.printoptions(precision=3, suppress=True):\n",
    "        for cluster_idx in range(n_clusters):\n",
    "            print(f'\\tCluster: {cluster_idx}')\n",
    "            print(f'\\t\\t\\t\\t     Names={[name[:3] for name in feature_names]}')\n",
    "            print(f'\\t\\t   {src}_mean={X[cluster_idx==labels].mean(axis=0)}')\n",
    "            print(f'\\t\\tT({tgt})_mean={Z_clusters[cluster_idx==labels].mean(axis=0)}')\n",
    "        print()    "
   ]
  },
  {
   "cell_type": "code",
   "execution_count": 26,
   "metadata": {
    "ExecuteTime": {
     "end_time": "2024-07-30T15:45:05.386001Z",
     "start_time": "2024-07-30T15:45:05.282068Z"
    }
   },
   "outputs": [],
   "source": [
    "# ergonomic blank space : ) \n",
    "\n",
    "\n",
    "\n",
    "\n",
    "\n",
    "\n",
    "\n",
    "\n",
    "\n",
    "\n",
    "\n",
    "\n",
    "\n",
    "\n",
    "\n",
    "\n",
    "\n",
    "\n",
    "\n",
    "\n",
    "\n",
    "\n",
    "\n",
    "\n",
    "\n",
    "\n",
    "\n",
    "\n",
    "\n",
    "\n",
    "\n",
    "\n",
    "\n",
    "\n",
    "\n",
    "\n",
    "\n",
    "\n",
    "\n",
    "\n",
    "\n",
    "\n",
    "\n",
    "\n",
    "\n",
    "\n",
    "\n",
    "\n",
    "\n",
    "\n",
    "\n",
    "\n",
    "\n",
    "\n",
    "\n",
    "\n",
    "\n",
    "\n",
    "\n",
    "\n",
    "\n",
    "\n"
   ]
  },
  {
   "cell_type": "code",
   "execution_count": null,
   "metadata": {
    "ExecuteTime": {
     "end_time": "2024-07-30T15:45:05.386117Z",
     "start_time": "2024-07-30T15:45:05.287998Z"
    },
    "collapsed": false
   },
   "outputs": [],
   "source": []
  }
 ],
 "metadata": {
  "kernelspec": {
   "display_name": "Python 3.7.11 ('py37')",
   "language": "python",
   "name": "python3"
  },
  "language_info": {
   "codemirror_mode": {
    "name": "ipython",
    "version": 3
   },
   "file_extension": ".py",
   "mimetype": "text/x-python",
   "name": "python",
   "nbconvert_exporter": "python",
   "pygments_lexer": "ipython3",
   "version": "3.12.0"
  },
  "vscode": {
   "interpreter": {
    "hash": "5ab0220f0ca30ec7bac8a7e209564eceae6d15412b9f87f3c2f91206aa8b151c"
   }
  }
 },
 "nbformat": 4,
 "nbformat_minor": 4
}
